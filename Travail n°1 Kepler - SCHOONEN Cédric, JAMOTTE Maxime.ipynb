{
 "cells": [
  {
   "cell_type": "markdown",
   "metadata": {},
   "source": [
    "# Travail 1 - Kepler et Runge-Kutta 4"
   ]
  },
  {
   "cell_type": "markdown",
   "metadata": {},
   "source": [
    "## Introduction"
   ]
  },
  {
   "cell_type": "markdown",
   "metadata": {},
   "source": [
    "Nous allons dans ce travail étudier la dynamique newtonienne du système Terre-Lune, en résolvant numériquement les équations de Newton. Nous prendrons pour conditions initiales dans le repère de la Terre que la Lune passe à son périgée ($362600000{\\rm m}$) à une vitesse de $1083.4{\\rm m/s}$. Nous vérifierons que la trajectoire est une ellipse et présenterons les paramètres calculés pour cette ellipse. Ensuite, nous nous intéresserons à l'ordre de convergence de la méthode utilisée. Enfin, nous étudierons la trajectoire d'un astéroïde qui traverse le centre de l'ellipse avec une vitesse $(v_x,v_y)=(-500{\\rm m/s},500 {\\rm m/s})$ lorsque la Lune est à son apogée."
   ]
  },
  {
   "cell_type": "markdown",
   "metadata": {},
   "source": [
    "## Système Terre - Lune"
   ]
  },
  {
   "cell_type": "markdown",
   "metadata": {},
   "source": [
    "### Paramètres et conditions initiales"
   ]
  },
  {
   "cell_type": "markdown",
   "metadata": {},
   "source": [
    "Tout d'abord, importons les librairies utiles à notre travail."
   ]
  },
  {
   "cell_type": "code",
   "execution_count": 121,
   "metadata": {
    "collapsed": true
   },
   "outputs": [],
   "source": [
    "import numpy\n",
    "from math import log,sqrt\n",
    "from matplotlib import pyplot\n",
    "%matplotlib inline"
   ]
  },
  {
   "cell_type": "markdown",
   "metadata": {},
   "source": [
    "Ensuite, entrons les données caractéristiques du système. $T$ est la durée durant laquelle nous voulons simuler les trajectoires de la lune et de la Terre et $N$ est le paramètre qui définit le nombre de lignes des matrices de données de chaque astre."
   ]
  },
  {
   "cell_type": "code",
   "execution_count": 122,
   "metadata": {
    "collapsed": true
   },
   "outputs": [],
   "source": [
    "T = 3600*24*30\n",
    "dt = 10\n",
    "N = 1+int(T/dt)\n",
    "\n",
    "mT = 5.972*10**24\n",
    "mL = 7.348*10**22\n",
    "G = 6.67408*10**-11"
   ]
  },
  {
   "cell_type": "markdown",
   "metadata": {},
   "source": [
    "Nous savons qu'une force gravitationnelle (force attractive) existe entre la Terre et la lune. Selon la loi de Newton, celle-ci s'écrit \n",
    "\n",
    "$${\\bf F}_{L,T}=-{\\bf F}_{T,L}=-Gm_T m_L\\dfrac{{\\bf x_L}-{\\bf x_T}}{(x_L-x_T)^3}$$\n",
    "\n",
    "pour deux masses $m_L$ et $m_T$ s'attirant avec des forces mutuellement opposées séparées d'une distance $r$ qui est la norme du vecteur partant du centre de la Terre jusqu'au centre de la lune. Nos conditions initiales étant données dans le repère de la Terre, nous allons résoudre les équations de Newton dans le repère de la Terre également. Nous avons donc besoin de reformuler notre équation avec comme variable le vecteur ${\\bf r} = {\\bf x_L}-{\\bf x_T}$. \n",
    "\n",
    "$$ {\\bf \\ddot{r}_{LT}} = {\\bf \\ddot{x}_L}-{\\bf \\ddot{x}_T} = \\frac{1}{m_L}{\\bf F}_{L,T} - \\frac{1}{m_T}{\\bf F}_{T,L} = -Gm_T \\dfrac{{\\bf x_L}-{\\bf x_T}}{(x_L-x_T)^3} - Gm_L\\dfrac{{\\bf x_L}-{\\bf x_T}}{(x_L-x_T)^3}$$\n",
    "\n",
    "Ce qui devient\n",
    "\n",
    "$$ {\\bf \\ddot{r}_{LT}} = -G(m_T+m_L)\\dfrac{{\\bf r_{LT}}}{r_{LT}^3} $$"
   ]
  },
  {
   "cell_type": "markdown",
   "metadata": {},
   "source": [
    "Nous allons tout d'abord transformer l'équation de Newton, qui est du deuxième ordre, en un système de deux équations du premier ordre. Pour ce faire, nous introduisons le vectreur $u_{LT} $ définit comme \n",
    "\n",
    "$$ u_{LT}  = \\begin{pmatrix} x_{LT}\\ , y_{LT}\\ , v_{x\\,LT}\\ , v_{y\\,LT}\\end{pmatrix} $$"
   ]
  },
  {
   "cell_type": "markdown",
   "metadata": {},
   "source": [
    "Notre système d'équations différentielles devient\n",
    "\n",
    "$$ \\dot{u}_{LT} = f(u_{LT}) $$ \n",
    "\n",
    "Nous obtenons donc"
   ]
  },
  {
   "cell_type": "markdown",
   "metadata": {},
   "source": [
    "$$ f(u_{LT}) = \\begin{pmatrix} v_{x\\,LT}\\ , v_{y\\,LT}\\ , -\\dfrac{ m_T\\, G\\, x_{LT}}{ \\left[x_{LT}^2 + y_{LT}^2\\right]^{3/2}}\\ , -\\dfrac{ m_T\\, G\\, y_{LT}}{ \\left[x_{LT}^2 + y_{LT}^2\\right]^{3/2}}  \\end{pmatrix} $$"
   ]
  },
  {
   "cell_type": "markdown",
   "metadata": {},
   "source": [
    "Encodons à présent les conditions initiales. Nous nommons $dataLT$ la matrice de données de la lune dans le repère de la Terre. Elle comporte quatre colonnes. Chaque ligne se présentera comme $ u_{LT}  = \\begin{pmatrix} x_{LT}\\ , y_{LT}\\ , v_{x\\,LT}\\ , v_{y\\,LT}\\end{pmatrix} $."
   ]
  },
  {
   "cell_type": "code",
   "execution_count": 123,
   "metadata": {
    "collapsed": true
   },
   "outputs": [],
   "source": [
    "dataLT = numpy.empty((N,4)) \n",
    "\n",
    "# dataL0 = [362600000,0,0,1083.4*mT/(mT+mL)]\n",
    "# dataT0 = [0,0,0,-1083.4*mL/(mT+mL)] #1083.4349740009823\n",
    "\n",
    "dataLT0 = [362600000,0,0,1083.4349740009823]\n",
    "\n",
    "dataLT[0] = dataLT0"
   ]
  },
  {
   "cell_type": "markdown",
   "metadata": {},
   "source": [
    "### \"Fonction d'évolution\""
   ]
  },
  {
   "cell_type": "markdown",
   "metadata": {},
   "source": [
    "Nous ne généraliserons pas la fonction $f$ à plus de deux corps, par soucis de lisibilité car cela n'est pas nécessaire.\n",
    "La première ligne de $out$ est la trajectoire de la Terre, la seconde celle de la Lune."
   ]
  },
  {
   "cell_type": "code",
   "execution_count": 124,
   "metadata": {
    "collapsed": true
   },
   "outputs": [],
   "source": [
    "def f(uLT): \n",
    "    return numpy.array([uLT[2],uLT[3],-G*(mT+mL)*uLT[0]/(uLT[0]**2+uLT[1]**2)**(3/2),\\\n",
    "                        -G*(mT+mL)*uLT[1]/(uLT[0]**2+uLT[1]**2)**(3/2)])     "
   ]
  },
  {
   "cell_type": "markdown",
   "metadata": {},
   "source": [
    "### Implémentation de Runge Kutta 4"
   ]
  },
  {
   "cell_type": "markdown",
   "metadata": {},
   "source": [
    "Ci-dessous la méthode \"Runge Kutta 4\" appliquée directement à la trajectoire de la Lune."
   ]
  },
  {
   "cell_type": "code",
   "execution_count": 125,
   "metadata": {
    "collapsed": true
   },
   "outputs": [],
   "source": [
    "def rk4(f,uLT,dt): \n",
    "    k1 = f(uLT)\n",
    "    k2 = f(uLT+dt/2*k1)\n",
    "    k3 = f(uLT+dt/2*k2)\n",
    "    k4 = f(uLT+dt*k3)\n",
    "    \n",
    "    return uLT+dt/6*(k1+2*k2+2*k3+k4)"
   ]
  },
  {
   "cell_type": "markdown",
   "metadata": {},
   "source": [
    "### Calcul de la trajectoire"
   ]
  },
  {
   "cell_type": "markdown",
   "metadata": {
    "collapsed": true
   },
   "source": [
    "Calculons maintenant la trajectoire. Notons que $dataLT[t]$ est le vecteur $u_{LT}$ input de $f$ au temps $t$."
   ]
  },
  {
   "cell_type": "code",
   "execution_count": 126,
   "metadata": {
    "collapsed": true
   },
   "outputs": [],
   "source": [
    "for t in range(1,N):\n",
    "    \n",
    "    dataLT[t] = rk4(f,dataLT[t-1],dt)"
   ]
  },
  {
   "cell_type": "markdown",
   "metadata": {},
   "source": [
    "Affichons la position de la lune dans le repère de la Terre"
   ]
  },
  {
   "cell_type": "code",
   "execution_count": 127,
   "metadata": {},
   "outputs": [
    {
     "data": {
      "image/png": "[encoded data removed]",
      "text/plain": [
       "<matplotlib.figure.Figure at 0x7f596aff2128>"
      ]
     },
     "metadata": {},
     "output_type": "display_data"
    }
   ],
   "source": [
    "pyplot.figure(figsize=(10,6))\n",
    "pyplot.grid(True)\n",
    "pyplot.xlabel('$x$')\n",
    "pyplot.ylabel('$y$')\n",
    "pyplot.plot(dataLT[:,0],dataLT[:,1], 'b-', label='Lune')\n",
    "pyplot.title('Position de la Lune dans le repère de la Terre')\n",
    "pyplot.legend();\n",
    "pyplot.show();"
   ]
  },
  {
   "cell_type": "markdown",
   "metadata": {},
   "source": [
    "### Paramètres : grand et petit axes, excentricité et période"
   ]
  },
  {
   "cell_type": "markdown",
   "metadata": {},
   "source": [
    "Etant donné que la Lune commence sur l'axe $x$ avec une vitesse le long de $y$, les demi-grand axe $a$ et demi-petit axe $b$ sont alignés avec les axes $x$ et $y$ respectivement. Nous pouvons alors les calculer à par des minima et maxima de la trajectoire le long des composantes."
   ]
  },
  {
   "cell_type": "code",
   "execution_count": 128,
   "metadata": {
    "collapsed": true
   },
   "outputs": [],
   "source": [
    "def computeParameters(posEllipse):\n",
    "    a = 1/2*(numpy.max(posEllipse[:,0])-numpy.min(posEllipse[:,0]))\n",
    "    b = 1/2*(numpy.max(posEllipse[:,1])-numpy.min(posEllipse[:,1]))\n",
    "    e = numpy.sqrt(1-b**2/a**2)\n",
    "    return numpy.array([a,b,e])"
   ]
  },
  {
   "cell_type": "code",
   "execution_count": 129,
   "metadata": {},
   "outputs": [
    {
     "name": "stdout",
     "output_type": "stream",
     "text": [
      "a = 383663116.433\n",
      "b = 383084497.255\n",
      "e = 0.0549000295925\n"
     ]
    }
   ],
   "source": [
    "parameters = computeParameters(dataLT)\n",
    "\n",
    "a = parameters[0]\n",
    "b = parameters[1]\n",
    "e = parameters[2]\n",
    "\n",
    "print(\"a =\", a)\n",
    "print(\"b =\", b)\n",
    "print(\"e =\", e)"
   ]
  },
  {
   "cell_type": "code",
   "execution_count": 130,
   "metadata": {},
   "outputs": [
    {
     "name": "stdout",
     "output_type": "stream",
     "text": [
      "minX = -404726232.867\n",
      "maxX = 362599999.995\n",
      "minY = -383084497.255\n",
      "maxY = 383084497.254\n",
      "a = 383663116.431\n",
      "b = 383084497.255\n",
      "e = 0.0549000294758\n"
     ]
    }
   ],
   "source": [
    "# Compute the parameters a,b,e\n",
    "\n",
    "minX = 0\n",
    "for i in range(1,N-1):\n",
    "    if (dataLT[i+1,0]>=dataLT[i,0] and dataLT[i,0]<dataLT[i-1,0]):\n",
    "        minX = dataLT[i,0]\n",
    "        break\n",
    "        \n",
    "maxX = 0\n",
    "for i in range(1,N-1):\n",
    "    if (dataLT[i+1,0]<=dataLT[i,0] and dataLT[i,0]>dataLT[i-1,0]):\n",
    "        maxX = dataLT[i,0]\n",
    "        break\n",
    "\n",
    "minY = 0\n",
    "for i in range(1,N-1):\n",
    "    if (dataLT[i+1,1]>=dataLT[i,1] and dataLT[i,1]<dataLT[i-1,1]):\n",
    "        minY = dataLT[i,1]\n",
    "        break\n",
    "        \n",
    "maxY = 0\n",
    "for i in range(1,N-1):\n",
    "    if (dataLT[i+1,1]<=dataLT[i,1] and dataLT[i,1]>dataLT[i-1,1]):\n",
    "        maxY = dataLT[i,1]\n",
    "        break\n",
    "        \n",
    "print(\"minX =\", minX)\n",
    "print(\"maxX =\", maxX)\n",
    "print(\"minY =\", minY)\n",
    "print(\"maxY =\", maxY)\n",
    "        \n",
    "a = abs(maxX-minX)/2\n",
    "b = abs(maxY-minY)/2\n",
    "e = numpy.sqrt(1-b**2/a**2)\n",
    "\n",
    "print(\"a =\", a)\n",
    "print(\"b =\", b)\n",
    "print(\"e =\", e)"
   ]
  },
  {
   "cell_type": "code",
   "execution_count": 131,
   "metadata": {},
   "outputs": [
    {
     "name": "stdout",
     "output_type": "stream",
     "text": [
      "period in seconds = 2350680\n",
      "period in 24h-days = 27.206944444444446\n"
     ]
    }
   ],
   "source": [
    "# This method will not work for negative values of initial conditions\n",
    "\n",
    "for i in range(2,N-1):\n",
    "    if (dataLT[i+1,0]<=dataLT[i,0] and dataLT[i,0]>dataLT[i-1,0]):\n",
    "        period = i*dt\n",
    "        break\n",
    "        \n",
    "print(\"period in seconds =\", period)\n",
    "print(\"period in 24h-days =\", period/24/3600)"
   ]
  },
  {
   "cell_type": "markdown",
   "metadata": {},
   "source": [
    "Trouvons à présent l'apogée de l'orbite de la Lune autour de la Terre (cette donnée nous sera utile plus loin dans le travail)."
   ]
  },
  {
   "cell_type": "code",
   "execution_count": 132,
   "metadata": {},
   "outputs": [
    {
     "name": "stdout",
     "output_type": "stream",
     "text": [
      "[ -4.04726233e+08   8.74554030e+02  -2.21930424e-03  -9.70664834e+02]\n"
     ]
    }
   ],
   "source": [
    "for i in range(1,N-1):\n",
    "    if (dataLT[i+1,0]>=dataLT[i,0] and dataLT[i,0]<dataLT[i-1,0]):\n",
    "        indexApogee = i\n",
    "        break\n",
    "\n",
    "uLT_apogee = dataLT[indexApogee]\n",
    "print(uLT_apogee)"
   ]
  },
  {
   "cell_type": "markdown",
   "metadata": {},
   "source": [
    "### Ordre de convergence"
   ]
  },
  {
   "cell_type": "markdown",
   "metadata": {},
   "source": [
    "Implémentons une fonction qui quantifie l'erreur sur les résultats de la simulation. Notre fonction prend les résultats calculés pour un certain dt ainsi que les données calculées avec le plus petit dt disponible et renvoie la valeur absolue de la différence entre le demi-grand axe des ellipses calculée dans les deux cas."
   ]
  },
  {
   "cell_type": "code",
   "execution_count": 133,
   "metadata": {
    "collapsed": true
   },
   "outputs": [],
   "source": [
    "def get_diffgrid(data_current, data_fine):\n",
    "    \n",
    "    #parameters_current = computeParameters(data_current)\n",
    "    #parameters_fine = computeParameters(data_fine)\n",
    "    \n",
    "    #diffgrid = abs(parameters_current[0]-parameters_fine[0])\n",
    "    \n",
    "    diffgrid = abs(data_current[-1,0]-data_fine[-1,0])\n",
    "    \n",
    "    return diffgrid"
   ]
  },
  {
   "cell_type": "markdown",
   "metadata": {},
   "source": [
    "Calculons maintenant la trajectoire de la Lune pour plusieurs pas de temps différents "
   ]
  },
  {
   "cell_type": "code",
   "execution_count": 134,
   "metadata": {
    "collapsed": true
   },
   "outputs": [],
   "source": [
    "r = 2\n",
    "\n",
    "#h = 10\n",
    "h = 1000\n",
    "dt_values = numpy.array([h, r*h, r**2*h, r**3*h])\n",
    "\n",
    "dataLT_values = numpy.empty_like(dt_values, dtype=numpy.ndarray)\n",
    "\n",
    "for i, dt in enumerate(dt_values):\n",
    "    \n",
    "    N2 = int(T/dt)+1\n",
    "        \n",
    "    dataLT = numpy.empty((N2, 4))\n",
    "    \n",
    "    dataLT[0] = dataLT0\n",
    "\n",
    "    for t in range(1,N2):\n",
    "        dataLT[t] = rk4(f, dataLT[t-1], dt)\n",
    "    \n",
    "    dataLT_values[i] = dataLT"
   ]
  },
  {
   "cell_type": "markdown",
   "metadata": {},
   "source": [
    "Calculons les erreurs par rapport à nos données les plus fine grâce à notre fonction get_diffgrid "
   ]
  },
  {
   "cell_type": "code",
   "execution_count": 135,
   "metadata": {
    "collapsed": true
   },
   "outputs": [],
   "source": [
    "diffgridLT = numpy.empty_like(dt_values, dtype=numpy.ndarray)\n",
    "\n",
    "for i in range(len(dt_values)):\n",
    "    \n",
    "    diffgridLT[i] = get_diffgrid(dataLT_values[i], dataLT_values[0])"
   ]
  },
  {
   "cell_type": "code",
   "execution_count": 136,
   "metadata": {},
   "outputs": [
    {
     "name": "stdout",
     "output_type": "stream",
     "text": [
      "[0.0 0.031296491622924805 0.55216765403747559 9.5351797938346863]\n"
     ]
    }
   ],
   "source": [
    "print(diffgridLT)"
   ]
  },
  {
   "cell_type": "code",
   "execution_count": 137,
   "metadata": {
    "scrolled": true
   },
   "outputs": [
    {
     "data": {
      "image/png": "[encoded data removed]",
      "text/plain": [
       "<matplotlib.figure.Figure at 0x7f596af805c0>"
      ]
     },
     "metadata": {},
     "output_type": "display_data"
    }
   ],
   "source": [
    "pyplot.figure(figsize=(6,6))\n",
    "pyplot.grid(True)\n",
    "pyplot.title(r'norme $L_1$ des différences des demi-grand axes')\n",
    "pyplot.xlabel(r'$dt$')\n",
    "pyplot.ylabel(r'erreurs')\n",
    "pyplot.xlim(1e-4,1)\n",
    "pyplot.ylim(1e-4,1)\n",
    "pyplot.axis('equal')\n",
    "pyplot.loglog(dt_values[1:], diffgridLT[1:], color='k', ls='--', lw=2, marker='o');"
   ]
  },
  {
   "cell_type": "markdown",
   "metadata": {},
   "source": [
    "Calculons enfin l'ordre de convergence $\\alpha$ à partir de ces erreurs"
   ]
  },
  {
   "cell_type": "code",
   "execution_count": 138,
   "metadata": {},
   "outputs": [
    {
     "name": "stdout",
     "output_type": "stream",
     "text": [
      "[4.056853722365219 4.108200812713604]\n"
     ]
    }
   ],
   "source": [
    "alpha = numpy.empty_like(dt_values[:-2], dtype=numpy.ndarray)\n",
    "\n",
    "for i in range(1, len(dt_values)-1):\n",
    "    \n",
    "    #alpha[i-1] = (log(diffgridLT[i+1])-log(diffgridLT[i])) / log(r)\n",
    "    alpha[i-1] = (log(get_diffgrid(dataLT_values[i+1], dataLT_values[i]))\\\n",
    "                  -log(get_diffgrid(dataLT_values[i], dataLT_values[i-1]))) / log(r)\n",
    "\n",
    "print(alpha)"
   ]
  },
  {
   "cell_type": "markdown",
   "metadata": {},
   "source": [
    "## Système Terre-Lune théorique"
   ]
  },
  {
   "cell_type": "markdown",
   "metadata": {},
   "source": [
    "Calculons à présent analytiquement la période. Premièrement, nous connaissons la relation permettant de trouver la position du centre de masse:\n",
    "$$ R_{CM} = \\dfrac{ m_T \\mathbf{x_T} + m_L \\mathbf{x_L}}{m_t + m_L}$$\n",
    "\n",
    "Deuxièmement, nous savons que la force de gravité est une force centrale et donc $\\mathbf{x} \\times \\mathbf{F} = \\dfrac{d\\mathbf{L}}{dt} = 0$ pour $\\mathbf{L} = \\mu \\mathbf{x} \\times \\mathbf{\\dot{x}}$ le moment cinétique de la Lune et pour $\\mu = \\dfrac{m_L m_T}{m_T+m_L}$. Nous obtenons que $\\mathbf{L}$ est une constante du mouvement. Il nous est permis également de considérer un plan dont un vecteur normal est $\\mathbf{L}$. C'est dans ce dernier que se meut la Lune puisque $\\mathbf{L} \\perp \\mathbf{x}$ et $\\mathbf{L} \\perp \\mathbf{\\dot{x}}$.\n",
    "\n",
    "Ensuite, comme nous l'avons vu précédemment, ${\\mathbf r} = {\\mathbf x_L}-{\\mathbf x_T}$. Nous obtenons ainsi\n",
    "$$ \\left\\{\n",
    "\\begin{array}{c}\n",
    " \\mathbf{x_L} = \\mathbf{R_{CM}} + \\dfrac{m_T}{m_T + m_L} \\mathbf{r}\\\\\n",
    "  \\mathbf{x_T} = \\mathbf{R_{CM}} - \\dfrac{m_L}{m_T + m_L} \\mathbf{r} \n",
    "\\end{array}\n",
    "\\right.$$\n",
    "\n",
    "Nous recalculons l'énergie totale du système ainsi que le moment cinétique total:\n",
    "$$\\begin{array}{c}\n",
    "  &E_{tot} = \\dfrac{1}{2} m_L \\mathbf{\\dot{x}_L} + \\dfrac{1}{2} m_T \\mathbf{\\dot{x}_T} + U(\\|\\mathbf{x_L} - \\mathbf{x_T}\\|) = \\dfrac{1}{2} \\mu \\mathbf{\\dot{r}}^2 + \\dfrac{1}{2} (m_T + m_L) \\mathbf{\\dot{R}^2_{CM}} + U(r)\\\\\n",
    "  &\\mathbf{L}_{tot} = m_L \\mathbf{x_L} \\times \\mathbf{\\dot{x}_L} + m_T \\mathbf{x_T} \\times \\mathbf{\\dot{x}_T} = (m_T + m_L) \\mathbf{R_{CM}} \\times \\mathbf{\\dot{R}_{CM}} + \\mu \\mathbf{r} \\times \\mathbf{\\dot{r}}\n",
    "\\end{array}$$\n",
    "\n",
    "Plaçons-nous à présent dans le repère de la Terre. Nous ne considérons donc plus le mouvement du centre de masse (assez flou). Nous retranscrivons l'énergie et le moment cinétique dans ce repère:\n",
    "$$ \\begin{array}{c}\n",
    "E = \\dfrac{1}{2} \\mu \\mathbf{\\dot{r}}^2 + U(r)\\\\\n",
    "\\mathbf{L} = \\mu \\mathbf{r} \\times \\mathbf{\\dot{r}}\n",
    "\\end{array}$$\n",
    "\n",
    "Nous passons en coordonnées polaires $(r, \\theta)$ de sorte que\n",
    "$$\\begin{equation}\n",
    "\\mathbf{\\dot{r}}^2 = \\dot{r}^2 + r^2 \\dot{\\theta}^2\n",
    "\\end{equation}$$\n",
    "\n",
    "En outre, pour $L = \\|\\mathbf{L}\\|$ et $S$ l'aire balayée par $\\mathbf{r}$ pendant un temps $t$,\n",
    "$$\\begin{equation}\n",
    "\\dfrac{dS}{dt} = \\dfrac{1}{2} \\|\\mathbf{r} \\times \\mathbf{\\dot{r}} \\| = \\dfrac{L}{2\\mu}\n",
    "\\end{equation}$$\n",
    "\n",
    "que nous réécrivons\n",
    "$$\\begin{equation}\n",
    "\\dfrac{ds}{dt} = \\dfrac{1}{2} r^2 \\dot{\\theta} = \\dfrac{L}{2\\mu}\n",
    "\\end{equation}$$\n",
    "\n",
    "Il s'en suit que \n",
    "$$E = \\dfrac{1}{2} \\mu (\\dot{r}^2 + r^2 \\dot{\\theta}^2) + U(r) = \\dfrac{1}{2} \\mu \\dot{r}^2 + \\dfrac{L^2}{2\\mu r^2} - \\dfrac{G m_T m_L}{r}$$\n",
    "\n",
    "Cette équation différentielle se résout facilement en posant $u = \\dfrac{1}{r}$ et en voyant que \n",
    "$$ \\dfrac{du}{d\\theta} = -\\dfrac{1}{r^2}{dr}{d\\theta} = -\\dfrac{1}{r^2}{\\dot{r}}{\\dot{\\theta}} = -\\dfrac{\\mu}{L}\\dot{r}$$\n",
    "\n",
    "Par cette substitution, il résulte l'équation suivante:\n",
    "$$ \\dfrac{1}{2} \\left(\\dfrac{du}{d\\theta}\\right)^2 + \\dfrac{1}{2} \\left(u-\\dfrac{\\mu G m_L m_T}{L^2}\\right)^2 = \\dfrac{\\mu E}{L^2} +\\dfrac{\\mu^2 (G m_T m_L)^2}{2 L^4}$$\n",
    "\n",
    "que nous dérivons par rapport à $\\theta$: \n",
    "$$\\dfrac{d^2u}{d\\theta^2} = \\dfrac{\\mu G m_L m_T}{L^2} - u$$\n",
    "\n",
    "et qui a comme solution:\n",
    "$$u(\\theta) = \\dfrac{\\mu G m_L m_T}{L^2} (1+\\epsilon \\cos(\\theta - \\theta_0)$$\n",
    "\n",
    "où $\\theta_0$ est l'angle initial (dans notre problème, $\\theta_0 = 0$) et où $e$ est l'excentricité de l'orbite.\n",
    "$$\\epsilon = \\sqrt{1+\\dfrac{2EL^2}{\\mu (G m_T m_L)^2}}$$\n",
    "\n",
    "qui se retraduit en terme de $r$ par:\n",
    "$$r(\\theta) = \\dfrac{L^2}{\\mu G m_T m_L} \\dfrac{1}{1+\\epsilon \\cos(\\theta)}$$\n",
    "\n",
    "Si nous changeons à nouveau de coordonnées:\n",
    "$$ \\left\\{\n",
    "\\begin{array}{c}\n",
    " \\bar{x} = r\\cos(\\theta) + \\dfrac{\\epsilon L^2}{\\mu G m_T m_L (1 - \\epsilon^2)}\\\\\n",
    " \\bar{y} = r \\sin(\\theta) \n",
    "\\end{array}\n",
    "\\right.$$\n",
    "\n",
    "alors nous trouvons une nouvelle équation de l'ellipse:\n",
    "$$ \\dfrac{\\bar{x}}{a^2} + \\dfrac{\\bar{y}}{b^2} = 1$$\n",
    "\n",
    "et les valeurs du demi-grand axe, $a$, et du demi-petit axe, $b$, par identification:\n",
    "$$\\begin{array}{c}\n",
    "  a &= \\dfrac{L^2}{\\mu G m_T m_L(1-\\epsilon^2)}\\\\\n",
    "  b &= a\\sqrt{1-\\epsilon^2}  \n",
    "\\end{array}$$\n",
    "\n",
    "Ceci nous permet de dire que:\n",
    "$$L = \\sqrt{\\mu G m_T m_L a (1-\\epsilon^2)}$$\n",
    "\n",
    "et par la loi des aires:\n",
    "$$\\dfrac{S}{T} = \\dfrac{L}{2\\mu}$$\n",
    "\n",
    "or si la Lune a parcouru l'orbite complètement, l'aire balayée par $\\mathbf{r}$ vaudra $S =\\pi ab = \\pi a^2 \\sqrt{1-\\epsilon^2}$, donc\n",
    "$$T = 2\\pi \\sqrt{\\dfrac{\\mu a^3}{G m_T m_L}} = \\dfrac{2\\pi a^{3/2}}{\\sqrt{G(m_T+m_L)}}$$"
   ]
  },
  {
   "cell_type": "markdown",
   "metadata": {},
   "source": [
    "## Système Terre - Lune - astéroïde"
   ]
  },
  {
   "cell_type": "markdown",
   "metadata": {},
   "source": [
    "A présent, la partie avec l'astéroïde. Il faut tout d'abord repérer, dans le repère de la Terre, le centre de l'ellipse que parcours la Lune autour de la Terre."
   ]
  },
  {
   "cell_type": "code",
   "execution_count": 139,
   "metadata": {
    "collapsed": true
   },
   "outputs": [],
   "source": [
    "#Xcenter = (maxX+minX)/2\n",
    "#Ycenter = (maxY+minY)/2\n",
    "Xcenter = 1/2*(numpy.max(dataLT[:,0])+numpy.min(dataLT[:,0]))\n",
    "Ycenter = 1/2*(numpy.max(dataLT[:,1])+numpy.min(dataLT[:,1]))"
   ]
  },
  {
   "cell_type": "markdown",
   "metadata": {},
   "source": [
    "La nouvelle fonction \"d'évolution\" du système doit maintenant faire évoluer le vecteur $u_{AT} = (x_{AT},y_{AT},v_{x\\,AT},v_{y\\,AT})$ des coordonnées de l'astéroïde dans le repère de la Terre. Nous négligeons l'influence de l'astéroïde sur l'évolution du vecteur $u_{LT}$ de la Lune qui restera donc inchangée. "
   ]
  },
  {
   "cell_type": "markdown",
   "metadata": {},
   "source": [
    "La force gravitationnelle agissant sur l'astéroïde se sépare en deux contributions: l'attraction de la Terre et celle de la Lune. Avec les notations introduites précédemment, nous pouvons écrire l'accélération de l'astéroïde dans le repère de la Terre comme \n",
    "\n",
    "$$ {\\bf \\ddot{r}_{AT}} = -G(m_T+m_A)\\dfrac{{\\bf r_{AT}}}{r_{AT}^3} - G m_L\\dfrac{{\\bf r_{AT}}-{\\bf r_{LT}}}{(r_{AT}-r_{LT})^3}$$\n",
    "\n",
    "Expression dont nous avons déjà décrit l'obtention du premier terme dans le cas de l'attraction Terre-Lune. Le deuxième terme n'est que l'expression de la simple attraction newtonienne de deux masses. Nous négligeons dans nos calculs la masse $m_A$ de l'astéroïde pour obtenir\n",
    "\n",
    "$$ {\\bf \\ddot{r}_{AT}} \\approx -G m_T\\dfrac{{\\bf r_{AT}}}{r_{AT}^3} - G m_L\\dfrac{{\\bf r_{AT}}-{\\bf r_{LT}}}{(r_{AT}-r_{LT})^3}$$"
   ]
  },
  {
   "cell_type": "code",
   "execution_count": 140,
   "metadata": {
    "collapsed": true
   },
   "outputs": [],
   "source": [
    "def f_ast(uLT,uAT): \n",
    "    out = numpy.empty((2,4))  \n",
    "    out[0] = numpy.array([uLT[2],\\\n",
    "                          uLT[3],\\\n",
    "                          -G*(mT+mL)*uLT[0]/(uLT[0]**2+uLT[1]**2)**(3/2),\\\n",
    "                          -G*(mT+mL)*uLT[1]/(uLT[0]**2+uLT[1]**2)**(3/2)])\n",
    "    out[1] = numpy.array([uAT[2],\\\n",
    "                          uAT[3],\\\n",
    "                          -G*mT*uAT[0]/(uAT[0]**2+uAT[1]**2)**(3/2) + \\\n",
    "                          -G*mL*(uAT[0]-uLT[0])/((uAT[0]-uLT[0])**2+(uAT[1]-uLT[1])**2)**(3/2),\\\n",
    "                          -G*mT*uAT[1]/(uAT[0]**2+uAT[1]**2)**(3/2) + \\\n",
    "                          -G*mL*(uAT[1]-uLT[1])/((uAT[0]-uLT[0])**2+(uAT[1]-uLT[1])**2)**(3/2)])\n",
    "    return out"
   ]
  },
  {
   "cell_type": "markdown",
   "metadata": {},
   "source": [
    "Réécrivons la méthode de Runge-Kutta"
   ]
  },
  {
   "cell_type": "code",
   "execution_count": 141,
   "metadata": {
    "collapsed": true
   },
   "outputs": [],
   "source": [
    "def rk4_ast(f_ast,uLT,uAT,dt): \n",
    "    k1 = f_ast(uLT,uAT)\n",
    "    k2 = f_ast(uLT+dt/2*k1[0,:],uAT+dt/2*k1[1,:])\n",
    "    k3 = f_ast(uLT+dt/2*k2[0,:],uAT+dt/2*k2[1,:])\n",
    "    k4 = f_ast(uLT+dt*k3[0,:],uAT+dt*k3[1,:])\n",
    "    \n",
    "    out = numpy.empty((2,4))\n",
    "    out[0] = uLT+dt/6*(k1[0,:]+2*k2[0,:]+2*k3[0,:]+k4[0,:])\n",
    "    out[1] = uAT+dt/6*(k1[1,:]+2*k2[1,:]+2*k3[1,:]+k4[1,:])\n",
    "    \n",
    "    return out"
   ]
  },
  {
   "cell_type": "markdown",
   "metadata": {},
   "source": [
    "Nous avons précédemment trouvé l'instant où la lune est à l'apogée de sa trajectoire autour de la Terre. Nous pouvons donc entrer nos conditions initiales."
   ]
  },
  {
   "cell_type": "code",
   "execution_count": 142,
   "metadata": {
    "collapsed": true
   },
   "outputs": [],
   "source": [
    "T = 3600*1.75*1\n",
    "dt = 10\n",
    "N = 1+int(T/dt)\n",
    "\n",
    "mT = 5.972*10**24\n",
    "mL = 7.348*10**22\n",
    "G = 6.67408*10**-11\n",
    "\n",
    "dataLT = numpy.empty((N,4)) \n",
    "dataAT = numpy.empty((N,4)) \n",
    "\n",
    "dataAT0 = [Xcenter, Ycenter,-500,500]\n",
    "\n",
    "dataLT[0] = uLT_apogee\n",
    "dataAT[0] = dataAT0"
   ]
  },
  {
   "cell_type": "markdown",
   "metadata": {},
   "source": [
    "Calculons la trajectoire"
   ]
  },
  {
   "cell_type": "code",
   "execution_count": 143,
   "metadata": {
    "collapsed": true
   },
   "outputs": [],
   "source": [
    "for t in range(1,N):\n",
    "    \n",
    "    temp = rk4_ast(f_ast,dataLT[t-1],dataAT[t-1],dt)\n",
    "    dataLT[t] = temp[0]\n",
    "    dataAT[t] = temp[1]"
   ]
  },
  {
   "cell_type": "markdown",
   "metadata": {},
   "source": [
    "Affichons la trajectoire"
   ]
  },
  {
   "cell_type": "code",
   "execution_count": 144,
   "metadata": {},
   "outputs": [
    {
     "data": {
      "image/png": "[encoded data removed]",
      "text/plain": [
       "<matplotlib.figure.Figure at 0x7f5970b69ef0>"
      ]
     },
     "metadata": {},
     "output_type": "display_data"
    }
   ],
   "source": [
    "pyplot.figure(figsize=(10,6))\n",
    "pyplot.grid(True)\n",
    "pyplot.xlabel('$x$')\n",
    "pyplot.ylabel('$y$')\n",
    "pyplot.plot(dataLT[:,0],dataLT[:,1], 'b-', label='Lune')\n",
    "pyplot.plot(dataAT[:,0],dataAT[:,1], 'r-', label='Astéroïde')\n",
    "pyplot.title('Positions de la Lune et de l\\'astéroïde dans le repère de la Terre')\n",
    "pyplot.legend();\n",
    "pyplot.show();"
   ]
  },
  {
   "cell_type": "markdown",
   "metadata": {},
   "source": [
    "### Etude de l'impact entre l'astéroïde et la Terre"
   ]
  },
  {
   "cell_type": "markdown",
   "metadata": {},
   "source": [
    "LA POSITION ET VITESSE INITIALE DE LA LUNE CHANGENT LES RESULTATS QUANT A LA TRAJECTOIRE DE L ASTEROIDE (FAUSSE LIBERTE DE SIGNE)(CONDITIONS INITIALES DONNEES RELATIVEMENT POUR LA LUNE ET ABSOLUMENT POUR L'ASTEROIDE)"
   ]
  },
  {
   "cell_type": "markdown",
   "metadata": {},
   "source": [
    "Nous commençons par encoder le rayon de la Terre"
   ]
  },
  {
   "cell_type": "code",
   "execution_count": 145,
   "metadata": {
    "collapsed": true
   },
   "outputs": [],
   "source": [
    "radiusT = 6371000"
   ]
  },
  {
   "cell_type": "markdown",
   "metadata": {},
   "source": [
    "Nous cherchons ensuite l'instant de collision"
   ]
  },
  {
   "cell_type": "code",
   "execution_count": 146,
   "metadata": {},
   "outputs": [
    {
     "name": "stdout",
     "output_type": "stream",
     "text": [
      "Temps écoulé avant l'impact = 5630 secondes\n"
     ]
    }
   ],
   "source": [
    "indexImpact = 0\n",
    "\n",
    "for t in range(1,N):\n",
    "    \n",
    "    if (dataAT[t,0]**2+dataAT[t,1]**2)<=radiusT**2:\n",
    "        \n",
    "        indexImpact = t\n",
    "        break\n",
    "        \n",
    "print('Temps écoulé avant l\\'impact =', indexImpact*dt, 'secondes')"
   ]
  },
  {
   "cell_type": "markdown",
   "metadata": {},
   "source": [
    "Nous trouvons le point d'impact"
   ]
  },
  {
   "cell_type": "code",
   "execution_count": 147,
   "metadata": {},
   "outputs": [
    {
     "name": "stdout",
     "output_type": "stream",
     "text": [
      "Point d'impact: x = -6060298.61029  y = 1647507.12772\n"
     ]
    }
   ],
   "source": [
    "print('Point d\\'impact: x =', dataAT[indexImpact,0], ' y =', dataAT[indexImpact,1])"
   ]
  },
  {
   "cell_type": "markdown",
   "metadata": {},
   "source": [
    "Nous trouvons la norme de la vitesse d'impact"
   ]
  },
  {
   "cell_type": "code",
   "execution_count": 148,
   "metadata": {},
   "outputs": [
    {
     "name": "stdout",
     "output_type": "stream",
     "text": [
      "Vitesse d'impact: v = 9464.815921791213 m/s\n"
     ]
    }
   ],
   "source": [
    "print('Vitesse d\\'impact: v =', sqrt(dataAT[indexImpact,2]**2+dataAT[indexImpact,3]**2), 'm/s')"
   ]
  },
  {
   "cell_type": "markdown",
   "metadata": {},
   "source": [
    "## Animations"
   ]
  },
  {
   "cell_type": "markdown",
   "metadata": {
    "collapsed": true
   },
   "source": [
    "### Animation des trajectoires pour le système Terre-Lune"
   ]
  },
  {
   "cell_type": "code",
   "execution_count": 149,
   "metadata": {
    "collapsed": true
   },
   "outputs": [],
   "source": [
    "from matplotlib import animation\n",
    "from IPython.display import HTML"
   ]
  },
  {
   "cell_type": "markdown",
   "metadata": {},
   "source": [
    "Nous prendrons un pas de temps plus grand pour que la vidéo ne soit pas trop lourde. La précision n'est pas indispensable pour faire l'animation, à condition que le comportement obtenu soit fidèle à celui obtenu pour de petits pas de temps."
   ]
  },
  {
   "cell_type": "code",
   "execution_count": 150,
   "metadata": {
    "collapsed": true
   },
   "outputs": [],
   "source": [
    "T = 3600*24*27.3\n",
    "dt = 10000\n",
    "N = 1+int(T/dt)"
   ]
  },
  {
   "cell_type": "code",
   "execution_count": 151,
   "metadata": {
    "collapsed": true
   },
   "outputs": [],
   "source": [
    "dataLT = numpy.empty((N,4)) \n",
    "\n",
    "dataLT[0] = dataLT0"
   ]
  },
  {
   "cell_type": "code",
   "execution_count": 152,
   "metadata": {},
   "outputs": [
    {
     "data": {
      "image/png": "[encoded data removed]",
      "text/plain": [
       "<matplotlib.figure.Figure at 0x7f596af116d8>"
      ]
     },
     "metadata": {},
     "output_type": "display_data"
    }
   ],
   "source": [
    "fig = pyplot.figure(figsize=(10,10))\n",
    "ax = pyplot.axes(xlim=(-500000000,500000000), ylim=(-500000000,500000000))\n",
    "line = ax.plot([], [], color='b', ls='-', lw=2, label='Lune')[0]\n",
    "pointT=[[0,0]]\n",
    "point = ax.plot(*zip(*pointT), marker='o', color='black', markersize=3, label='Terre')\n",
    "pyplot.title('Animation du système Terre-Lune')\n",
    "pyplot.xlabel('$x$')\n",
    "pyplot.ylabel('$y$')\n",
    "pyplot.legend();"
   ]
  },
  {
   "cell_type": "code",
   "execution_count": 153,
   "metadata": {
    "collapsed": true
   },
   "outputs": [],
   "source": [
    "def trajectory(i):\n",
    "    line.set_data(dataLT[:i,0],dataLT[:i,1])\n",
    "    \n",
    "    dataLT[i+1] = rk4(f,dataLT[i],dt)"
   ]
  },
  {
   "cell_type": "code",
   "execution_count": 154,
   "metadata": {
    "collapsed": true
   },
   "outputs": [],
   "source": [
    "anim = animation.FuncAnimation(fig, trajectory,\n",
    "                               frames=N-1, interval=100)"
   ]
  },
  {
   "cell_type": "code",
   "execution_count": 155,
   "metadata": {
    "scrolled": true
   },
   "outputs": [
    {
     "data": {
      "text/html": [
       "<video width=\"720\" height=\"720\" controls autoplay loop>\n",
       "  <source type=\"video/mp4\" src=\"data:video/mp4;base64,AAAAHGZ0eXBNNFYgAAACAGlzb21pc28yYXZjMQAAAAhmcmVlAABq221kYXQAAAKsBgX//6jcRem9\n",
       "5tlIt5Ys2CDZI+7veDI2NCAtIGNvcmUgMTM4IHIyMCA0MGU3MmRhIC0gSC4yNjQvTVBFRy00IEFW\n",
       "QyBjb2RlYyAtIENvcHlsZWZ0IDIwMDMtMjAxMyAtIGh0dHA6Ly93d3cudmlkZW9sYW4ub3JnL3gy\n",
       "NjQuaHRtbCAtIG9wdGlvbnM6IGNhYmFjPTEgcmVmPTMgZGVibG9jaz0xOjA6MCBhbmFseXNlPTB4\n",
       "MzoweDExMyBtZT1oZXggc3VibWU9NyBwc3k9MSBwc3lfcmQ9MS4wMDowLjAwIG1peGVkX3JlZj0x\n",
       "IG1lX3JhbmdlPTE2IGNocm9tYV9tZT0xIHRyZWxsaXM9MSA4eDhkY3Q9MSBjcW09MCBkZWFkem9u\n",
       "ZT0yMSwxMSBmYXN0X3Bza2lwPTEgY2hyb21hX3FwX29mZnNldD0tMiB0aHJlYWRzPTYgbG9va2Fo\n",
       "ZWFkX3RocmVhZHM9MSBzbGljZWRfdGhyZWFkcz0wIG5yPTAgZGVjaW1hdGU9MSBpbnRlcmxhY2Vk\n",
       "PTAgYmx1cmF5X2NvbXBhdD0wIGNvbnN0cmFpbmVkX2ludHJhPTAgYmZyYW1lcz0zIGJfcHlyYW1p\n",
       "ZD0yIGJfYWRhcHQ9MSBiX2JpYXM9MCBkaXJlY3Q9MSB3ZWlnaHRiPTEgb3Blbl9nb3A9MCB3ZWln\n",
       "aHRwPTIga2V5aW50PTI1MCBrZXlpbnRfbWluPTEwIHNjZW5lY3V0PTQwIGludHJhX3JlZnJlc2g9\n",
       "MCByY19sb29rYWhlYWQ9NDAgcmM9Y3JmIG1idHJlZT0xIGNyZj0yMy4wIHFjb21wPTAuNjAgcXBt\n",
       "aW49MCBxcG1heD02OSBxcHN0ZXA9NCBpcF9yYXRpbz0xLjQwIGFxPTE6MS4wMACAAAAObmWIhAAR\n",
       "//73iB8yy2n5OtdyEeetLq0fUO5GcV6kvf4gAAADAAADAAADAzSyCkX1Rzvzg8AAAAMDPACDgVAB\n",
       "f48PJw+ACGwg/zTkScQZPkOayLRn4N+qHNpIELujkoBJ95/851g1N9FtotfEpkvbeHTL1igD/u3G\n",
       "3lOYM5bqev+tdbi8Wpe99pM5juC7g3ePuxMeWfPWxNa5bJVVNjR1uZmybrRebAoEhNnNBeUZUw7x\n",
       "QJEg3YKspPb+emZU2L4WSQQ6lNmTqgboj4XbBbkz850r8AC/bRn+KY5rT0DcEgvJncbQhX1VjQeT\n",
       "xZWarpvZytajli441Dik+aOTUwtLuyfweU8pmYwkSqUzXyDZVz4PnFXoV5a4C/QhGZCwEjTS0qvD\n",
       "jO6bL9QZ6JKkFPWUajaIt6DRRB4fK2eh3B0/JqnQi0Gj/J39K/cTKW6uLL+TFGmljb6/dkr6bV0w\n",
       "q3/KH2IvFWHpG1w8IoBIvn/1jz4FXx0LcJvnbRoZzROkyORwP4vQLDnk0iBBkOQslooAElowWZuz\n",
       "yScjZ5om8zJDqah6vAU80AlO37333P9G6Y276oqqeY5lhPV4NkJAa4RY2FoAa0A70K+YcuxlA2gD\n",
       "gumyjunMIc4xp3Wn77N/fql2jiGQI8EAunzTTAhgsz40oVgDGQZ+c9lg4z3+6EOpTAfafe4Qg//f\n",
       "TnX0NoNCK+8Qjb5tMzE6Mb4wmvRCNEOuwtWeiO76FuJaIi7csNKiYvZANLA0u8sKAyXiw2I2acFq\n",
       "WvzvcWqPrH/2PpTM3X+PJLSbHYGzTFqow1zMI06aZCc+O5YFZLsE8dbwbCir1oeyXush1fc2m7W+\n",
       "RztHONe/yzW29v3Pz8b+CGxEcs9zUppmS9AGdGy9N+SvkWxuvo+kIIe3DTRYitEtewub/KM6bhR0\n",
       "pht8GWzNDHZX+chgEeiL8Y4VBAXNjd8SQZKQMXi9kwjla1WIvg2ITT1G735ibYsB4BLF/S2uU3K8\n",
       "OgR2XY41UCM0Todx5GujgBC4m5QOQ5q8egRgsIfFdUm8nciwwOKA2ctQd8pWztwv3yiixHfQNOZO\n",
       "hGRs+pbelp8cLOHCd2oiXhHjB6+RREtk93k9uMEYxFHxDpmk2qBbwRXV7zf1pbQG9IeRfyUcKpe/\n",
       "ZrwehxlIV6wlXaI7nk8kaB1Bjm1BAjZAzpFCER4gi3OFMM6jmFhFKyhzN3e7LMnVJaKycPvm23xV\n",
       "vC1dLO/JpBlhJI+9lLFCAKZSmtCvo7+q9XK0d8jnn3ONA6x/Kk86vDDuvkJ2+wRodgUZjJ00upq3\n",
       "WfpCoxiPcduvi8BIW4+N3Y0x212/8oy4/Xj7SJ5lURjV1rRQ6dhxWQovPwd9ddJidoZuMTF9Qa2Z\n",
       "6TNy3HGsh+cG2OkefCumNgx1oYsRdLRCfKMNKgeGKDZtorYEAt+qqW3gGgdZmB2QFyGid3s7fS40\n",
       "tZ8Ns5aMwY8GyCGFL1i+jbbJUpc0CqKNAoBYf/rP8ca9v/VOvF0mpb14Di7L/Tx1Tc2KLiWq6s5b\n",
       "Ak4COmYD5kiD02AGkDfqIuLmti4hjOcTQS3MigasDQ66seLU2Qzo7roM6Wyfm2y42bRWwhmYYbjj\n",
       "XUmBbp7E3d/2kx4q/0Sqt6ze9chOERRhBeIxeJevFWyjsMhKXm1t04iYPnBOwOs93YkoZAf5XBWJ\n",
       "BqLwkhDdYEtcdAA4E4ZqlMWCYc3nrNb5RNX/X/sYRV8VWOrx2iJBkNNq4m58pgLFdYwBdgzVIp/p\n",
       "wwI77I50wkAwje8HoF9d/pN0j/clxhlUMovF2gookOaG9dSo07vBEPPTp5VVRpFr7/WSOQPmLb69\n",
       "zN3g3tQRVRRiLWZgyv9ITS7EtV5vW8rGu3q7SfAzV7jf2vm+puDUs+ot/cg9VP6ssi0X3Hos7IfY\n",
       "KDEAvP9f0w7HrSepAiNYfUxTVO5kAbEOn1AlSKF01pOsr1d/YFa2WVCl+Asg9+lLPvl4CapJQpCV\n",
       "WF7wW7m5M8HlIHEVhnEZzgXPxUUFGBN18Bi5zSIvkIQ8cPor/BVNpWIqMB/p//l8vQ6W9j74Ro6m\n",
       "uWnhV44yLJZSk89MCDsx2hwasbJSwjxEy7kxH5YAjfqP0Md+YuB9EWbUtrQEPXtETCx8HXu518AG\n",
       "eg+38kVnd0ylbP/jBZIraDKGywr/xmZeKh6v7pt7w1uW41pR9niJeGKCnvfyrFYXTYaIGxpFkSlZ\n",
       "OlPmdC7MEOb59c3CwyRCVv2OV+henSAC5qi2MGwUL0vcbKC4yySa3e3w84pVH2hYDpJPOrNi1q4B\n",
       "NM7ozWEmqKT/a17s6JkFBAxvrxlCiMrXS70YCDws9cJXiLS117nLklShns3BDjpgCfaNij7C/wz3\n",
       "Z8LJ+8ILDg4WaqoJHvvKMmG5qgv0ofVW48TFbAXy8yPdt+m/lWdDEsvXnNn1Fr2uUInrkPWOvBqD\n",
       "qWYDBkXk2u10HQgv2mN2wHRyLH2pT3wxlwgIFQdrgds+tTCGaANQ3RAAKqBtuWf/+USiLmhSKV+l\n",
       "Jm60xVAVC+Z+kwR483Jkq2JdukHmQdJC+gAfz9sXmVTG8+r2Deuv/b8wAtW9qDB51dQ4VCUX4UdN\n",
       "GGJiO+plwuoJ2Mzu0em2pk5pOkNXXU7UjC1DlA3Y3SUEWfguTNY+gWNTRf8PA2BlRudKtvTIdzbV\n",
       "ACIBWkgL5OpRWiIMKDdxHVWn3tkor+nEh7vy4YnHTB9vnuQSu7Z4LbHUhjONKxiNoBgMMpTGHDfA\n",
       "HhOjRS6d6/Ahg5kDMhX8W/VXASW80hJi+NxXn5nCoXnc/m1B2xG5p/FGHGd3B4aNZoO/op8Y9RJt\n",
       "c+YMnsYwsJJBRBTLKM/N+slj1vgJ7fByIXEKYQgMi7m2waw7samBnyjEbOdrVSLxvDZtOh7AfYWD\n",
       "fbQysbFi2kVdNo4kV0EETVVEUyqVg81AmdKTqXFS1R7roG1LLvqI/JFtrhzZ2UTptmAF4p4bcV8z\n",
       "w2sCsbkhAp/Ap+dZuLJ+ZoGnABhgcQKAEYCZhy5RgxhYO37wvJ8bJA1gINFx4TBWRCV35lyU6HpW\n",
       "zileqrn2kEQwvkz+zCEkC8wRw1T5OBe3qxrWHkfes0eiXnkdsx4UGJmJKJcx0F2fTmdAtPPnRk1O\n",
       "XRtKQNID/JgLNKZ7cVOsQB9bsQDYe/IAdIEAAAMAAAXSA+LbijfdznaZUCJWtGdKW0LrPK7+eyuK\n",
       "jhzwRe0TeWEckb9WkGr9RFgY7X4kgEuwTRXf1HQTywcZpS/KOdDL9C8+l3eHDPhJOi8+rpS7fwUy\n",
       "/gM/+TCb6RyVBVtF/kzb3qulfqjT9k1ujiRsiXAyK6NV4DNGUL6Df5UQPuEQkGSrzzyu0AgEL1hY\n",
       "BlojDpccSTNqatDKVNrfNeUHWPumxB//axGo2vobeITlNOsBpWYYdVmJ0HlwJu7UMGi/8KJmcA5h\n",
       "0czvIupCZ9raPYvTPs7cIEAL1FMoK9sAAAMAAAMAAAMAAMDBmE20GRXhmn5pXHiSlM5J1wAA1UBT\n",
       "nIelEZL614rDz9irELPiAXg8Ro+YRBZ0bo8W5VYdC/0hRwVCY9mnMwaxC+KQ+leb6n2iSaZjaW5Z\n",
       "E5Gm4M5K8He0NtuC0sde4queyX51a1shwmLc4pqxPIC0JVOw5ykPZLCaeqV+blucTLDs9vF7pgAN\n",
       "48LKAACM3MCD/gETaAPAQBQjKX3NT3quEv77sb64Pyr/0ofilWSAim28TJzAAy3RbQ50bNPUzqsS\n",
       "nzVJEDq3KRPW6yy0JHh0ZA8IBsUieSkHcXZsEHW3eh+MQ5yImk8tiQZCW6jegX3AJ7kOu0L22zcy\n",
       "pCmoobjVdw7AAHm1ABSgwLZuBWYWeh9+MCxdkjwPuP6hmgQR3WBo6H3uTyx8PNSas0vzbunG/JxC\n",
       "mnGi94kRtAll64Oll9EMpP6wutLW3KUM7n+TPfNyQd1Matyt4QKA3nkN+B3KWzfzbdgkvIn3oiPf\n",
       "vpEoWbkVXGBkF4jlv1cc/PJdkRKg7vTUu4QryDrAyPbX1bXqtJNql3e8bJDO6jdJ5Q8zFVArgiSJ\n",
       "IAU8F8d15nYzQlTsjawIImhJBgR/CyDmjqHnkKKYOLo6QF8hKTYfkjSrz7xTMQzOyI5w2CsJghMr\n",
       "+7v90dAE4zGOg1vukLXlaOa0TbxVsdUWFCP0FzBOPY0aZ1JpSdMaf5rWqC9WNQXu8TJU87Z4XH8R\n",
       "/d7pTwijP0Hc1atR4guhLFjKN9UksTeUWQz8eU7RB0pcWVaVgAACtPpnqw3c6WmpwaROdKMDXWuR\n",
       "B/npWZqy70qHE9TYX6LTHDuvxUC2cRF6lCTCNj8nkuTyfTYRqgAxphBqU28PXEc+4/rzJlKAYPCa\n",
       "37iw///WE9iZ5/m74heEciaAjwUG68r0ASMv1CgZMZR5GZvHuwayQZFYEMM3LZI4zWKw/d1/LalM\n",
       "jlQA/XOl4pHob/ySNvlVlEVbC9Tbb0NGPA+rWkaPU26APD/V7E2IojItCdYbxr0yP7NZbYSUFbi1\n",
       "O6rdoMzk8UWKJfwKpNkNv2S8EGppp1FVTV/mw7W95FngToyeqts7dgF21AftQDDDtb2yV4t6Bb92\n",
       "tT5EVIkm77LpBNHkh2dnHy5BYsHc3HjV+7JOooYTjSXKRff+7CdJv3B4OwuMDxUsR6d2cIKO/SdJ\n",
       "NlMaz1tbBQrKT9/mj+MgyxjEa/Qq3+jkQuffoSrJv/uByQlhdd0YQTIzbqRsrUd4zEpb5NSI8TZg\n",
       "L/Jl3fCmeVVNR7SD8Sv6TGp8rK1bpU+JcWcmjS1bGddNNYiv/nTqSz03SBAAJliMWa8kpBso9gyq\n",
       "7PnDDgSgFGmDMemt9O2Jx99Rwfu+SUZpz8B/LJuIsF1zpl3jWz2C80RuF/0OTQdYVZ757EPDdwSd\n",
       "yNpkTMOa+m7jO+PjIjSLChgw7a9N8p0hSKU8E823uUgAAAMAAAMAASUAAAD0QZokbEEf/rUqgACc\n",
       "Mh4AHMu6nvr9/BYxIdHCxPrJAO8oTi3LTY/Gf8JGXM4e/VArH9m7gPW4QABql+KfbrVjDlUry6P1\n",
       "t0q37ikPy5JYDy6DcrE9/p4O4OqdLK6d1d5PE+ExbRWBp776QIIhKSIXfW7l8DrwThE63z9eTocK\n",
       "S+W3gElezG2ZOT3k5YRFYL9DNnSCmGovWqtRDyFiH/piLbUYAhSDPNg340rdKS5zYVethvFsrVNc\n",
       "g1Y+TCV0PGSu2SMd5PTa2JVw9irYDRx/wyK9643lO18Hf3S6QY4llgEnBHdEggKqzkqK68wQoHF5\n",
       "7JAxYAAAADhBnkJ4h38AAmDk+rAAAOXfn4KuUYAWCu9U6lNsuI0A98U0KsAGidSpLaxWfrweSzqR\n",
       "DAAuYQCpgQAAAB0BnmF0Q38AAAMAAAMAIreIuEFtUSM3O85WAABDwAAAACwBnmNqQ38AAAMAAAMA\n",
       "IqpvxpbUABO7ksFcx6x9ub7FRq98K2SLJIAAAAMDwwAAANJBmmhJqEFomUwII//+tSqAAAsnexpx\n",
       "AAD+7s/wq9AABW/k6cl0GLwNgptjlGZFFIM0yiKlOp492uCNL8w8XT0SlnhX/yBs5ImOQzUYcXc/\n",
       "TLs0E0WkZkuwO/pSso2BT7XeQvLbgcGVArUkS4Rt4UUJrBynLxzX+T93oEyH17AzpKzUCqEsP316\n",
       "DeW+fPKbX71AOQT+wKft0wDFofK89bOvN4Nh+k452abKaW1zUT5C4OEnb2d9kDyA9qkCMxVkS4vl\n",
       "8IkhYp/FB1ua89gAAAMAIuEAAAAgQZ6GRREsO/8AAAMAAAMA9H+FgYEY9C6cpxgAAAMAb0EAAAAm\n",
       "AZ6ldEN/AAADAAADAG5Sar/J2QA3FduqdeTAqBgNOSQAAAMAMqEAAAAsAZ6nakN/AAADAAADAWJ6\n",
       "C/vGl3r1wAbVPyEOeiHoFRiQns7gwfPiwAAABBwAAADXQZqsSahBbJlMCCP//rUqgAAAAwAAz23L\n",
       "wNg09T96lSi0lJ60MbHI5fvAR5IYmlFWFlzq6Htc7N3V3Gy6I9kGcF/Zw1OdCSDHvJ3kQxXrrJqG\n",
       "gTG2pNG7/uje1C7kvBQxn8RNI0BCVeRgzAQwlusDJ4EiZUZBK+3k+FiQHEIZr5oJquklgyjqBXgJ\n",
       "xOcClKkN7KhmN7Q65rEC5snHiHH9x9m7IQnyfj9FiPfMaLNX8xsSE0OV1thBB4Kw+6nBu3Dx/9o9\n",
       "9YLxvU0I97eoILtIEQAAAwAAPmAAAAA9QZ7KRRUsO/8AAAMAAAMDKgj/S+HchyLiVivyAGFWJW7F\n",
       "7vesm/s+sX6hZLt1/pMPZRWyQwtcaAAAAwBywQAAAB8Bnul0Q38AAAMAAARW8dEsWObIxY3YGs26\n",
       "oAAAAwGpAAAALQGe62pDfwAAAwAABHa8uW2un2G1apACs2slpiyCZfPK8EPuEsXu/AAAAwAwIAAA\n",
       "AMBBmvBJqEFsmUwII//+tSqAAAADAAgPM38PVBQAF/vP4D3WioxiBGQTOKKi5zibXBKfPxbsdZ51\n",
       "olwaI6hsfD2XrLioRLU5VvVKSvbxLlraoY/qUEcyJDjIBPhjymE+/684D894Ghw8YOxJ7iBVcS0r\n",
       "7ToXKF2AtEdoiP1tEzWNYlNX8f/P8ca2FXVUv9L71cDiZwOcRPp2sJ8RElmKuZERnBF+0MK/b+sg\n",
       "Foxqz0RZBTMLkt0N4MrvzAAAAwAAG9EAAAAuQZ8ORRUsO/8AAAMAAB8/8MGaOIA/QAXUGgY70dSY\n",
       "ZAEIuF5Vrwdr6aAAAAMBqQAAACcBny10Q38AAAMAAA4qAuQH/chKMp6E5D1fvDlaQlHuea4AAAMA\n",
       "FFEAAAArAZ8vakN/AAADAAAtb0GNzterqAOYEACdUgLraEWeh2BPuyFPwkCAAAAGpAAAAO9BmzRJ\n",
       "qEFsmUwII//+tSqAAAADABqtwfwbK5ABG9rFo5BYa+8ilx2LFq114X8Orzv9dH1869w8GZw/+vNf\n",
       "7kk1/r8kN/TK+t+fyI7wiBDwFIqMYLMh5+Mnnf3b7RNpqFGGXSnIyNKv1N99iwmg4CYgP+SSFKtS\n",
       "os4Dd0U4KxZAZ6J7HAjI4rVAd6f4N4BOQ8q/J17xSHYuECWXODtohM+jhv9KuJFFG0OS/2RFddDL\n",
       "12rnHlxNTXApmuKuZrAr4wqE7ji5Y0UkunbbKPZIgDJjiHriCf5gr8Aa9Jhii7DDRez6JPj8vMGn\n",
       "wAAAAwABxwAAADVBn1JFFSw7/wAAAwAAZ8Ef9n9x1sxFeuyyACH4pLt7F4vyTNdD8gQSBjHNmk+t\n",
       "yQAAAwANSQAAADMBn3F0Q38AAAMAAI7eP1R0e5vk4kuAD5cHqq4uP88I+Tr3/0M0Ol1mt3GHS1AA\n",
       "AAMAD5gAAAApAZ9zakN/AAADAACS16c5oA+KHD3p6jejzc9U4XDDJMnsZOBhwAAABUwAAAD6QZt4\n",
       "SahBbJlMCCP//rUqgAAAAwBXeI/4i9KkALD9Kyw6QVJSfEpItxZMwganhkRdUBWvV2gkVseOY9tE\n",
       "ARY1Z+PLBf8aZFefaDEzgzyGLwAW8qmH+hGEJr2XVm5rXXjmSPQGeLXRbAeWh2CDVCPAcgDdKTXQ\n",
       "E54yW3ruL9q9QcapCA6X9+ZYc5ktllCy7YP4+iQ5YXsvwx/QCro+189S9RmX3Fk7eLE2HgLKVDyV\n",
       "XpLpvTwq3czCAF2lmTPuO1p4iS6HZOzaG1tSOaQ7RmoQcw+sM666JZVIYlf2as4+hhJxjo+tKbLC\n",
       "1pbZg0R6+zxGXk5cAAADAAAMCQAAADlBn5ZFFSw7/wAAAwABU1XrhFX4Qrgvr6K4207agBDiCoZI\n",
       "4hE+Yiv5kg1875emfHOPAAADAAADA9IAAAAkAZ+1dEN/AAADAAHQPjVCB5YYQxQZmSjUhgWVBDX4\n",
       "AAADAGpBAAAANgGft2pDfwAAAwAB2yg9vfqJS4ASx50C5yKgDAoljD2wOeooIOPQnraIJdXEmuKW\n",
       "4AAAAwAqYQAAAOVBm7xJqEFsmUwIIf/+qlUAAAMAAjCIGoA+fnwNYPt8ZTnyHlDFTHG3HwkJHvfy\n",
       "YTC033AbC5fU7Br+NFZhri/OE792SrM3pog3VY8crL6WLXF9OelmhXmE4jgnekZ5VAjZ/GGpr6nE\n",
       "afg2/x8e9hJMClKH2ddPBYE+p7Q42//d7PlAjO1c1kymz2XKpbM9h9CAockGTRJcBXp+GwEezuZs\n",
       "Czy3WhWEPQStMmUuWb5tRuN7Lb2R2A7q17ejAJIQu7ikm799jmvZE3hpYHuX6/9jBdASgpe78/BO\n",
       "8N4bmiAAAAMAAAXcAAAANkGf2kUVLDv/AAADAARCP2A67gBbSGJW3+BkRsDqS1+O+/fGw/nP0uq0\n",
       "kUcS75jCZeAAAAMBqQAAADMBn/l0Q38AAAMABfkKcaXLpJ0AE7UjjdygEIWgNucX0o8R6zNF+jwX\n",
       "kUmKu7AAAAMAXcAAAAAuAZ/7akN/AAADAAYgub9o/Bm1SAEuy+X1Q0fyjuNi80OqPh8f8KNbmAAA\n",
       "AwAu4QAAAElBm/1JqEFsmUwII//+tSqAAAADA3mq50gFLRyN9kLOUAFuJPWSFtvwZ/6LOqrdvnjO\n",
       "0hKzwQlJXtrxb8vWc4/rAAADAAADAAdNAAAA4kGaAUnhClJlMCCP//61KoAAAAMDk7gw0ObyZACH\n",
       "2Yit/UnTtW03qpsOdp78teOT2fNx9CXYA4cfCWf04bucB3o/UOx1ZMDDRPsKw1AI0gbvLbv+Pyiz\n",
       "5wOHus4f54YiXDTHfg3fsQb7bmBrfVKzxbucE71nxGDx9sTmXkdMMtNttXP0csyWF18Tnr3436J4\n",
       "kgkCIYeX8LoXfxvt++HYIyKBJXtZw4IuIth8XNUIZsjselg5L0RgRwmEXtpppFzEA3NrlhyFiJ2d\n",
       "En6ITUb4LNBDLR6jvyINskQAAAMAAAMAOOAAAAA1QZ4/RTRMO/8AAAMADegjNWrWDBbaAD4bAwxn\n",
       "K9AuWZNc38aUsbjhqoGUQFs3GEnPgAAACNgAAAAkAZ5edEN/AAADABPojo2p0dhir6ixvfYZB2WV\n",
       "BDX4AAADAGpBAAAAKgGeQGpDfwAAAwAT5zT7mloANTAEPETNfk5uG21vLPFB/8DRWfAAAAMBCwAA\n",
       "AQ9BmkVJqEFomUwII//+tSqAAAALxxH0S7L+enoARlee+U7kwpxyhf6R7+HiVTa30WyYDfv7uCB3\n",
       "rgmasTuKpCKiihWirv8zhV6YRw8hG9qmzvdM4Q4um7/CYGKX0FJ6f68D0blOsiJgTnNmAm7+6eCh\n",
       "lkPRQ5f5rwV3bHdztbmijUnINR+RH4pzHSlx7TuTzZr+qrm7vOQpqBqAS9yptZUECy9RCb4n1v4v\n",
       "+f2YeQa/h/ZGLgGfHk353LBTlMOHdJ52Uov2k8O7HkVW0pGqjiVMBAHgik5ptK66KNVjbhQL7W2F\n",
       "V2SVDAT2p2GVTRF5NsHp0rFekUThbGjLSfvy0H/ByyAkvIndBpgAAAMAABDxAAAAOEGeY0URLDv/\n",
       "AAADAC1Tg3o/UNw10ZPfRC2UDHAwkW3Q+UX37YrN83QyqfBkzJshGm+cAAADAFTAAAAAOAGegnRD\n",
       "fwAAAwA/h74hwgBGUfUr6ovn8lNunmUt9ji/My9gRMH6WbpTs0R5wZo9LhAyAAADAAKDAAAAMAGe\n",
       "hGpDfwAAAwA/VkZJ4KRIAWLO5q4OIllI65tVUCp3BC5PQMJFlvWxmAAAAwAu4QAAAOlBmolJqEFs\n",
       "mUwII//+tSqAAAAmPM37l6L6QAETsyaT9nwv4PtgQN1FcQAnKPOpw9gDDjACSYFNnUk35Pifg/Jb\n",
       "gCNMdNtvOslwGC+THpimB1DCyXvRu8tu0UdQinq7VKoc+BVh4WnSk6kq+vMrIZ2B0SJu49iBi1hJ\n",
       "y35gmp0qFh/VfcerFjxt1YeiaXhhubPbEYrMmItCE3k1p/Bp7BAxOfaeIZGIMdCqzZogUfSAtPDd\n",
       "Kp64banYSPqlDJFbZnc5zsmUpyWywB1d4NuSPxbZjwIymcyh9FJ1fWgQHwpkSAAAAwAAAwAPuQAA\n",
       "AERBnqdFFSw7/wAAAwCUSCigBYfhpXHgJ/ms861/E6XqtvmqHpsT1RoTSrSC0n37EnIglMS7LjXL\n",
       "gyKuZuxrOSAAAAMBqQAAADQBnsZ0Q38AAAMA0yEzYQUJ8BgA1VoPoNhNnRN+Nb2L8C0LiFQzC5QU\n",
       "Zi9LhAaAAAADAKCAAAAAJQGeyGpDfwAAAwDSuofFJEuJ5NiwDShg7B7DKJsyjmrzgAAACpgAAADq\n",
       "QZrNSahBbJlMCCP//rUqgAAAKFxH6WHQ3ABG9rFxW3M7uwAAPtB0G2oICJ7zCTEOHaovCozDjnFh\n",
       "Me3s/0h/AJglVVaypHDvrByOQWAHg0ckI5it/GBu0ONdyxjRBvFLcXDdp/ui3X9Vv7dGT6RM5Pw4\n",
       "m8sERJSXNz1aYZTWVCZ27NrdshWlnrZorPRH0Z5rSixtuGG8yeRpqBUIJX9HdW6n/m26PM7jdGSe\n",
       "L5b4DElqldr3rXfDs8lVc0Z0RXq943xqBEfOI6XRWhLcGSgb4tg6mJzutjxejN5hdVc8r6QgAAAD\n",
       "AAADADghAAAAN0Ge60UVLDv/AAADAJxH7ArVfABO3c7IILxqLWj3RZHNzNplHtwavXdZYdkNn1GM\n",
       "JqAAAAMAKmAAAAA5AZ8KdEN/AAADANewJhSAFvXJd1cHEqjwA02FGmDLsQjdQ1NXoheDOsC+/a2g\n",
       "Ua+Q2M8/x4AAAAakAAAAOwGfDGpDfwAAAwDdF0WZnwAauZmZ1a+aWOQa60fV2bEKJlix8WL8KyG6\n",
       "BGptbON2DfJtQ++AAAADAHzBAAABCUGbEUmoQWyZTAgh//6qVQAAAwEB5c/toUPvzADmlZKfK3rO\n",
       "44skumcXZy1ofj/U8fbcPhXlfzG4alr9ltg3br7E0XuWGoBfJXO7JAfNg2wqB/wKu4cUDy2NZO64\n",
       "T7RqooBFBStvnWXSeIPmV/y5sLHS0zOt1Se4HmNMVi8woKGwb8Xt0zFPKQtOYoDoFfWvglRqR+cx\n",
       "R14iTcinJh+PhVdCVC3oxwcx1QfR5a4ugmny182bM0yGfdjlk6Kdh7dn6SScTShZ0UAvmaEbYZeP\n",
       "11no7buaxyOdkW/tfmBPWPEuT3yLc76F08BBgXr9Ne9NQ6/lQs95eXn22vbMtOdn4wAAAwAAAwAA\n",
       "iYEAAAA3QZ8vRRUsO/8AAAMB8/7nlFwAmmKPqwC/IUsp+Dm37wra/e0rNVjrC7LO7mSP+OcGAAAD\n",
       "AAAKuQAAADwBn050Q38AAAMCw0RcHgCPkIzle+AZZCJ/J13IA2hYp+YSiBZt7ZweKag+7maLiCB1\n",
       "qyzfqmQAAAMAKCAAAAAyAZ9QakN/AAADAtZ9EA/dQAt0taOdf69zxPMu7PJTIbwY53a1+j34T/Bp\n",
       "StgAAAMALuAAAABGQZtSSahBbJlMCCP//rUqgAAAgBf3Izf+OdABv0/3Q1xxQWp6gz+259+RXkMg\n",
       "2kNdwH2W1Y8m5Uu5iA7CAAADAAADAABnwQAAAM1Bm3ZJ4QpSZTAgj//+tSqAAACI8ze360n8ADLa\n",
       "ytIUf3fRntwfMVj4HRLhMl50xM9wA/aWBqVCClvINQ0DeyQHlzkzshYKeBPC5iN+AimDnXBlt0rg\n",
       "AN2sZsV7CEPRhbBi6peR2jrM3uU026a9bK6ZSzzo4KYmHzLHHQ1AGc53cd2IPtWiv0zrQlQ94Yl0\n",
       "z7bl9/4eovhbSO0yd6dTzk2neh9Ol+BohSgwZ17uZ1so6R/0DFu5StWKMGgXiHUcrSY75G4wAAAD\n",
       "AAADAAYsAAAANkGflEU0TDv/AAADAhEftePAHn7PgAhTJqPoWp/+ffirDf8ILkF8s2VbHLt1WO3P\n",
       "AAADAAAEvAAAACwBn7N0Q38AAAMC521I3Q+gArvEl/evdI8vCiO3XPa1YcLP1xYbCAAAAwACpwAA\n",
       "ACcBn7VqQ38AAAMC+xPUjnkhKeAmet5ZBWvi+vMyClbj2AAAAwAALuAAAAB4QZu6SahBaJlMCCP/\n",
       "/rUqgAAAjPMpfwlDxgA0WU6nOXZvZibuqtdE29l7OyAObbd0vgpOhOX9/fdwTfjycINYbE/TcsnS\n",
       "ZJufRpkuUPBkSWLwRaUYQBL3SITKYt6ng7FBPzaddf4TTEH5yMsIh5QQAAADAAADAAD/AAAANkGf\n",
       "2EURLDv/AAADAh+wT4u/+AFswqfNRQHbzMpYyTfhvO4YkH39d4ajdiGEVqDuAAADAAB8wQAAADAB\n",
       "n/d0Q38AAAMDEIJP4iCJyE/4AE7dRL4fR+UBY3U4jVtC4qLH53GFoAAAAwAAKuAAAAArAZ/5akN/\n",
       "AAADAw6Uh9IATTDsdhr2dBJecM1GsE1tBHLPv4wBQAAAAwABQQAAAKBBm/5JqEFsmUwII//+tSqA\n",
       "AACU8ze3/YH8AOWfNKKZ24mhuu2k3bIX7821Ut1+EApUque8wdyoRo/1TA/CzMUsdgfAGcX2PO0f\n",
       "CwlWFJeBk6rKBLeIJ/pntWAqMUkrM+ufXWErjA1sUBTEoBJkH02t5nUlt8zDb9N4M2olhjBs0jxv\n",
       "pa0R4rn7UYJjb3xjWC+NCue0DopAAAADAAADAAY0AAAAKUGeHEUVLDv/AAADAkEfEsDbbIzoMTku\n",
       "fkI020xvlm625r4AAAMAACphAAAAKAGeO3RDfwAAAwMkZbgmkALd0VvInxGZhxwA/ZsU9duIV6AA\n",
       "AAMAB00AAAAqAZ49akN/AAADAzhbgOXc/u/wAIgMlsA+GK0SBLbNkbZwuRNQAAADAAqYAAAAtkGa\n",
       "IkmoQWyZTAgh//6qVQAAAwEx5c/uyaeYAc0pfIxm2OPU9ZfqNcr1xJL4g1jX67NuEZcv91QEUj4q\n",
       "h8DgIg00pXudf6NLMbUkJqB/hwfoNr1v7XdjLlzEyuk2m47JAfNfbkFYyOylmox+jPfJOZokBJby\n",
       "fQ+Vt4MK6U5TAiHBixP8b7QSZMYt3DkYt2dG8V+14Yzgf9R3Bc9hi4bmyOvKZTn4PrGXTjRWbR+A\n",
       "AAADAAADAAQcAAAALkGeQEUVLDv/AAADAlEfzahwAQMzEfYoHEG7XzCVbQoNAkpT5rITW94AAAMA\n",
       "AUEAAAA8AZ5/dEN/AAADAy2kcNLvq+XAB/K4Cvm33LJIjIwvCEadouFYvsnORB+WDCaBolkIGVrL\n",
       "OtXpAAADAAoIAAAAMAGeYWpDfwAAAwNLIc5+prgBU8XgtEExVRSbTnMDsgzDm1r9HycdlvZrUgAA\n",
       "AwAUEQAAAGdBmmNJqEFsmUwII//+tSqAAACc8zfwh96SWrLFs++Svmtjz9zhur7beuE/5JB/bgAm\n",
       "DmRZwOMKCf4rCzxTRmsHDUfupKGQ0OHZ9sK+47M9z//9XOlfitPJ2hR+qhwAAAMAAAMAADZgAAAA\n",
       "ykGah0nhClJlMCCP//61KoAAAKCTMyGA2MrFag9E01R8OEOONQ0aTHq0W7Bkw5UeydDBljim0vgh\n",
       "g3foII1J4Qz5CsZ5iPcz0ZgcQNxXdD4cf7BpfJGSI6QbNsryxKw4eyVqP2JzQTLeFstHcc9bRlKi\n",
       "zhoFZVGRUStEHX/kNbyWZKApwVsyjOIDvjVbQsz2dBIrmq6DDtzmOFCfO+0jjZatixo9hdde4typ\n",
       "n/Naj6Ejida23iEPrnkrzElWs1dOGMAAAAMAAAMADwkAAABHQZ6lRTRMO/8AAAMCcR+10MpUAARB\n",
       "8NJHUAMl4mWthGX55BV94+dm76iyY1dqoUioHOYZ/oExKzclNuDuBuLrzAAAAwAAGfEAAAA2AZ7E\n",
       "dEN/AAADA11ozbW91kAC6UBF7JZJrV9bwpUXNSjfwS/h6hEU6RxtpqqTDm8AAAMAAA2pAAAALQGe\n",
       "xmpDfwAAAwN0XQ62M779h4BZgWSL2eswcXXUhLSDpTCuoy3K0AAAAwABqQAAAQ9BmstJqEFomUwI\n",
       "If/+qlUAAAMBIBemvkv8N/vRFXOUAOleKu6+kzkYvRtRcduFlQBtT+APR8RcnjmmmXPvdapUqGNk\n",
       "T4PNPtKz7uatyTjLSAgZcYcvpMe39dMaQZPYNLNzYwzyzexCKoTmtkzI9VBh9VHsCevYAyTK7K9n\n",
       "kTZi/oL8c59/7LE2LH+PwbP4Yzhjb9JCR4YXXlWhPHUsKoBYFqrE1s+mZD2ky9U32HzlQLsqIuAn\n",
       "zTaVZOf0ce1QXeVISSbiKhD2x1kVc3wLQMQa9YHtzo3eH35WZ8QLCBed323NZOhiup5RMvQ1mcsi\n",
       "r/7qMtJ+gOeW1WAjIA7yDTU3aeyPHTQAAAMAAAMAAJeAAAAAN0Ge6UURLDv/AAADAd4jT/TV7vm6\n",
       "AWnbm3IUbeIO1snKM+1hTR+/tA/iT7fLJ9UbL+AAAAMAD0gAAABAAZ8IdEN/AAADArJ3zhGfdmZ1\n",
       "ABOR9R97aLalX9CuMdkBuylnxoGsu6Us2rFYwH32DzGAUouZO9m4AAADAAAy4QAAAC0BnwpqQ38A\n",
       "AAMCsvQoyrfaWhCABazCNmXjc/0ufCQQEtpSYSPq4cAAAAMAAccAAAB2QZsMSahBbJlMCCP//rUq\n",
       "gAAAM+66opNEAXMFWmd346NIOnBlfCGQzenAQgC94cPWRkj/0OxI2dFpq9ZihilmsgYE9QQF0dyh\n",
       "6I18QgHUjUpt1fcw44bcFLzQPRkyWtbSBe76Da6Q6Kz9SUa7gAAAAwAAAwBNwAAAARJBmzBJ4QpS\n",
       "ZTAgj//+tSqAAAA1GZ+LBp8BCUjmB5YX51BbNGwJFgXZ+3xYtfVfo4+9OafX2dsLUlnf+bciyyN3\n",
       "aRK5A7qseacqnS3j/ibQFtM1Uy4zaMgMSad4CXxqDL4C259F0VOPzR1IDAxdpL26mgcrKIwmbDhV\n",
       "3sbsrUwFIPg+FaVWMZI+p5Hdq+r7Lj9585rYrrd/blun7gXV+oA35qJ4l6D52pQPt+nYBo072LHd\n",
       "d/mV1HYjhR+YGsxPzOhWAYifI9qYbRMPeJcVTKL/O1anI/9cg4rmFqtOslDuUbhDgkb05jHwR6GH\n",
       "HSBStlgY+gd0k9xoPZaif/vH+KTOR7JT/wnn0rhEAAADAAADAAHTAAAAQEGfTkU0TDv/AAADAd4Q\n",
       "4UmDxbElbuGaGljPpfn2gAttgI5/947LW9J/xu5aj/xk0NBxQLEVy1LBwAAAAwAAxYEAAAA1AZ9t\n",
       "dEN/AAADArJ3zyuyagLdc1vvLY3AELxurZ9spKqvdGTHR90drSKivFKpKAAAAwAADFkAAAA3AZ9v\n",
       "akN/AAADArL0JuK8J5JMB6C2fMYAIfhvpKXF1Iju6sigiFTNXfraB0swZJNIAAADAAAMuAAAAQVB\n",
       "m3RJqEFomUwII//+tSqAAAAz2tXoAvETZ6LdrPRgSxcVGbMa0k/o3ccV6DKZZs8VS/N9BPpU1wbU\n",
       "jQzKA4nGrnOtLkuTJL7GbefuWa9er1RyWdfLUxFf2sqs3vDhz06eMKnzyozt0lEaCOD5lrdeJI5f\n",
       "6S60S4PmqbP53/EZ5kNK6apqEQXh+JsG1QGVgaXtMeB/Zr/5K7UJTZZ/6c1kkcpGF4OC8HcQTpu/\n",
       "iXXcDgv3DMAMmGJg5z/j0KpitWwtokfa0KUJeq2IwynNYs1FLcxtYyI72EGmRRVYXGjIojfqo0a0\n",
       "fuCxwKnAyaFXuARJoyiWQdoAixEFzIAAAAMAAAMAj4AAAABCQZ+SRREsO/8AAAMB3iNPgYXUsbKg\n",
       "4VaAC+NWV1Rn9otzDZa0dk12NNMeqIz/WBdQ8NEls1Yn6AEFXA4AAAMAAA1ZAAAANwGfsXRDfwAA\n",
       "AwKyd8qsuE3z5PgA/g9zo+2WAjG5YMP1hlTKMwQ4G2oU1uZanWAh6+AAAAMAAccAAAA1AZ+zakN/\n",
       "AAADArL0JuK8LJKBa/vBCRp8MgBZVy/nfAv5U6g4JkKhoxDlA4MUcAAAAwAAZ8AAAADPQZu4SahB\n",
       "bJlMCCP//rUqgAAABb+I/4J2DB3pkz5WrXrnK1OEzN2ciO/5fVwQaUK4QKWq7p7zskbXqlgX7HCe\n",
       "pCwr3OKDHTcf3jh54U35ijQDKrExKgJeab4W+c7enTLJ6UsEf+8qUVfXQuVatUd8zF2YwdRUtLc2\n",
       "ipXehdY4freE4JBIAylcLB+06xYHr7TUPtKSC1Ik+hE0oVt91PiNEM407UN632vS84EUoAc1cekx\n",
       "fWAZJ02Gsm76PkuQJDErEOdjlcuMAAADAAADABqxAAAAR0Gf1kUVLDv/AAADAd4jT4GF1K+mROLb\n",
       "YpABtKDXTnrdy1zuvvRH6sDsL9U+aAhtnfct6/tQmGQALgNCAkXbrNEAAAMAAI+AAAAAMAGf9XRD\n",
       "fwAAAwKyd8qsuFihdtRYGMIATMTnCij52o9XI1l8AfNER9nAAAADAAAScQAAADoBn/dqQ38AAAMC\n",
       "svQm4rwsk1iUdmwTawCYomcrSTDZbcUUmFIYZNknnsj2z/3a0V8FAAADAAADAEnBAAABB0Gb/Emo\n",
       "QWyZTAgj//61KoAAAAMB0nsEvOp2sWKYNdI+fAAyv0rK1MQKLIsb4CpPPxw1BCPV57f7waOhftSM\n",
       "ZsKbtKNpjbXeEK++3tD0N72f1EyqRI2WLyGwGSCW9GcKw2u7W7V/oYR//4/3Mn1peTsTpFbymqVB\n",
       "/vCdvTZX2i2XZXi7ZAd0kTy3adKmLiSgMgrZmSGNeYqc5mQm7RqFaiYi81Oo1Lmw3IdIH1U2YK0D\n",
       "aY0NFrrGprfk0QkNL9Q6tSkW44XhnCcTXHn/Lz0zeDxJI/m3wvfrjJoww3fC7WGZUk3x1K1wTzDk\n",
       "S6Hh73/+9HHH+TTMQ3HozgBeZDFYAAADAAADAG9AAAAAT0GeGkUVLDv/AAADAd4jT4GF1K+mGtPw\n",
       "UgA2lBlT4Z3PljpT4K9t7+kdxX7NKs2kXNn7BgDcJcBr2vmAUgS3JspyOTBJEUp/N8AAAAMADUkA\n",
       "AAAzAZ45dEN/AAADArJ3yqy4WKFp65NI4aYSADxUoGmlOFVW82EZbmicdHQsPSUAAAMAAA3oAAAA\n",
       "MgGeO2pDfwAAAwKy9CbivCyTU1qOV9CNGtShPAEQnYbbRbeYjNbGtfkFHjYgAAADAAGzAAAAykGa\n",
       "IEmoQWyZTAgj//61KoAAAAMAmPX/ebexi3ngYi20AHMxGHTlfgv7moKUm94uIr4w0uEp1ssfaL2z\n",
       "jA/VoqEtuXfHOOGTAQbpWQO5tYV5o4nPJvetP2QxZoZ7L0+eKJf8EKo6aHRkmlUVhkVetU2khIAe\n",
       "NRf9ehSHr1A5VnwXZNQniqfrPF8Mt3uT6dQEvxUQNdx+UUTYs2h9l3I6CeCXHG1EZ+v8tSWV7F4N\n",
       "z9RQHNpD+/zMAFoDRt2m3OY2jBgAAAMAAAMAz4EAAABCQZ5eRRUsO/8AAAMB3iNPgYXUr6YNxiIp\n",
       "ABtVz/Vuff6ntgrcFTxEiLX3SAr+6+YBSDKybqcjkwFzVKYAAAMAAB/gAAAALQGefXRDfwAAAwKy\n",
       "d8qsuFihaiVcr84+tLwyxdTYhvodhTDUisQUQAAAAwADegAAADgBnn9qQ38AAAMCsvQm4rwsk1Nq\n",
       "jlbVEH3xonfcRgBtUZt/A4kJ21N9WghaqgihdIeIAAADAABnwQAAAM1BmmRJqEFsmUwII//+tSqA\n",
       "AAADADBOKBXuEZ1b90AasmtWr0bM7F3Uv9QdN3uj7cyABMowBwLTJeoEeq+peKJGtV3p02EJrJNJ\n",
       "f//1gaX39/o3OW7J6CXeHFzy8dtmfpdjZeP361L0Ksy0X51hDxHqhIPpsfKz1MIlLv3wifg9zeEG\n",
       "l54JtwhEybwH7yUD6ql85dvoCqDgxDWN25684KWKKlJUPD/lX4lQBIiQFoY8sMLgIMgnlBv8kTK5\n",
       "t54kFWyt2VRS126l7VpVO5ghAAAAPUGegkUVLDv/AAADAd4jT4GF1K+mCXtXAgAh+u9U2qMFUa6l\n",
       "Ar1j0q8zJ2I5Fg1BsbUTy3a344AAAAMABd0AAAA5AZ6hdEN/AAADArJ3yqy4WKFku73h+EQ1wAtI\n",
       "dxmCmbsK7k2trdfTXg2rC5LIQE3KfQAAAwAAAwHdAAAAOgGeo2pDfwAAAwKy9CbivCyTUS9sjprl\n",
       "tv1rDSNwArUKMshCXaX8Ffef0hbmiOdLAVPK8AAAAwAAMqEAAADXQZqoSahBbJlMCCP//rUqgAAA\n",
       "AwAO6PIG9Eq59b4BCKK+JuHU/yUPfhvpmWAcXRtTjCQi/rXZV81901ELkJzloaR2FBr6s3VHGZrp\n",
       "Lc1V9eXr0gIiOL8NuMfOhb2lDDp6mgIcnxC41Abx/hPBWD59zF2mB5EkbT7ByK+U1MeiVjZyvhW+\n",
       "7tMRu8iXseraUZx0/V+sHaTvL3b/nc47RZstWxJhDApq3OtMJ/QQ3voXm5MlvNn6wZgPbBeqCKFb\n",
       "IMJ6oyOmNET2e4ZKbH6+Vd0EjAAAAwAACdkAAABEQZ7GRRUsO/8AAAMB3iNPgYXUr6YII26i2D1K\n",
       "RpYALCxWmzOpmp2EIlx1DW2BY8U+9eglCDVwYUdywMhWhgAAAwAAFbEAAAArAZ7ldEN/AAADArJ3\n",
       "yqy4WKFkUSF2N8SCnkw02sG9deN1Vik4AAADAAAW0QAAACoBnudqQ38AAAMCsvQm4rwsk1D2khuT\n",
       "QXqruMlBUi+fc26TogAAAwAAFJAAAACmQZrsSahBbJlMCCP//rUqgAAAAwAE5pLdRvXwCALfBNIu\n",
       "mQ4vyUEzVNTc+KdBJ0V8ChJ7xn4/MK0sRCZ6VsQWtOlwj/J/bgExIEuZbOH7+RrhnfOjIZbbHuPV\n",
       "wt77DQiaRbM7klUD1+Oxnv5XYDF04b+JiP3HpPV2uvrHzF1rIdK2EsBEp8BDWkyvzrKpW4AYxHLM\n",
       "cgyk+gT99Agx38dnoAAAAwABJwAAADpBnwpFFSw7/wAAAwHeI0+BhdSvpge0rT2AJ1WQ+xElUAEt\n",
       "JmyMB3HphEKc8ykrIAR1MvAAAAMAAG9BAAAAJgGfKXRDfwAAAwKyd8qsuFihZC+aXjB5mL9aS8aF\n",
       "9ahAAAADAAK+AAAALgGfK2pDfwAAAwKy9CbivCyTUPNgOaEPrvO1gAPEmYo5V9LanhdKIIAAAAMA\n",
       "BMwAAACgQZswSahBbJlMCCP//rUqgAAAAwAAekfNW0UPW+AQPe/HMdamRbYwKvI/vqQxPMr8SoyF\n",
       "gyXGXTJBvmPFFenowbuZ7goPrcS6qLjCQ94nyFYKjZr758GWwWXqJROYDr3t/h62rKfKBGb7VJES\n",
       "CcpZClc1RGPWBAxCBo0l9iFv/j0rtkCDkhrPvcLLz/EMRiVUecDH+mRpl8YCPAAAAwABMwAAAC5B\n",
       "n05FFSw7/wAAAwHeI0+BhdSvpgebACQ/MVi4rpWx27HRjXKMjHgAAAMAAD0hAAAAOQGfbXRDfwAA\n",
       "AwKyd8qsuFihZCgBlNuaYBV5vACUHEd/eXNzhjhOQnfRO5xjL+ir4a7AAAADAAAtoQAAACcBn29q\n",
       "Q38AAAMCsvQm4rwsk1DzYDdYQi8oYrU13bVNEAAAAwAAz4AAAADtQZt0SahBbJlMCCH//qpVAAAD\n",
       "AAADAFC4b/Ble9EqrwM7Q/BOo7C6uYpGGpUB1vZ60Gvp7h/jdSer0uhbP++G260hWuooFBxIlDj3\n",
       "g+VVE9UjDxq+ZZW98+ZR8eJU2osE1boVCejg6sAyiw4KaIylhFQHf9UbTN6vvD1ocytYp5fkLCY2\n",
       "ExWN3bpdL2BDxMsO3HoP3wLQOFYdUVOaFzTkXswdsYRFiq5m9mP4qNcR6KK6Wn7S3NnkNcp7T4up\n",
       "04cqJXkuYSOzYPrD/WcXbhLvhD2yMH15bWxaGIbdf7PMpc7ebHoLGkDAAAADABiwAAAAPkGfkkUV\n",
       "LDv/AAADAd4jT4GF1K+mB5sAJD8uhLVUjUgDpXQC+vDdOM/Iaad6uPZfJEMfvb3eTw6AAAADAAQd\n",
       "AAAAPAGfsXRDfwAAAwKyd8qsuFihZCgBlBUIlzXh0wgAmg01pUKb1rrNovbKW/RBKKCyN1zPjtng\n",
       "AAADAACDgAAAADgBn7NqQ38AAAMCsvQm4rwsk1DzYDcXKkCmh8LTFZsgBaSu+B9H2DfFTWB8pMt/\n",
       "GK2MAAADAAAh4AAAAGJBm7VJqEFsmUwIIf/+qlUAAAMAC2956xfshnACtKxQjV4XC5PoO4vOO0ze\n",
       "wzVQb7cZfFUaMzm3ja+PWCeQUvilh9LeOH3EcsZlyjPpaKjE6y+famEAW5/gPdiOAAADAABswQAA\n",
       "AFZBm9ZJ4QpSZTAgj//+tSqAAAADAAAMtCYatgCYYHLRUCii2OqrcFf/F16uJbZODCTp/aibpFjE\n",
       "/4QILVK6qQ2NRf/hndtO1VdmaA65IjLQTqZ4wVlTxgAAAKZBm/pJ4Q6JlMCCP/61KoAAAAMAAAMD\n",
       "67gpPBv5AGvp5UaBYnyeeDuhEzfuZrYFNInEhhM/gPg9P22h3KXZ+XGXiWn2+b/PyYaIwHUgDj3b\n",
       "FVkgiS/IXelfNI4CNGZLMvWxKYMFko9mSIYAdEMfQ/zbz1y//VgMzM5kBJFwW8uR/U38nc4wIC1a\n",
       "xRKCVfpQMQXTtGut7MRUhj2+6Jdu65G4wAAAAwJnAAAASEGeGEURPDv/AAADAd4Q4NnCalcZtUmr\n",
       "mQ/JzteDEzlkcTTAB95Cd/77M8zQQiNPbR1lBmfk60cvNEyj2nsSvW2saAAAAwACTwAAACkBnjd0\n",
       "Q38AAAMCsnfKrLhYoWQoAZQVBxM9YO6tyQ4LoUGAAAADAAB6QAAAACkBnjlqQ38AAAMCsvQm4rws\n",
       "k1DzYDcXKaOXWa1Se4ivHxkIAAADAADegQAAAJRBmj5JqEFomUwII//+tSqAAAADAAADAUKNg+7f\n",
       "ALMC5s/M+ePhu1+7CjXOCRrV+0qY4N095NkQufQCwqi6WwH/57ntanrLUj88p64A6n7cV5Lv7oKL\n",
       "vxB3Nnqq1Tb4BRrHoq4dzllDDMQ11pGD4Ug/V1uzctNq5gBVV6A5tHGlwUC1F2Jj7B4VtgrrJsay\n",
       "AAADAEbAAAAAREGeXEURLDv/AAADAd4jT4GF1K+mB5sAJD8uhLQIpJyEWB8iF2geIT+DgBZMKQ9P\n",
       "QwPhw0vd7+W8qvI1MiB/gAAAAwNXAAAANQGee3RDfwAAAwKyd8qsuFihZCgBlBUHCWRqW8HkyCT3\n",
       "ACWeNymCjP8Wk4Bc/y+gAAADAAE3AAAAJgGefWpDfwAAAwKy9CbivCyTUPNgNxcpn7M6PGavl/Fs\n",
       "AAADAAN6AAAApUGaYkmoQWyZTAgj//61KoAAAAMAAAMBOC1z1nwEwwKeJkAd5jlkM+XNszFV+WKh\n",
       "8ZMAw6GI8Oc9GgL2MCntEXONow2i4Drg8XWzQgxMmZH65O1CHIkvGBx2sADA4EXh4N/xHLrGhHsQ\n",
       "vmhlU7UVJJ1LTLxRbuueXPodpLyrQ7gRIqk8jp6tZc3BN0SD2oZ0TZ/nbkWas+9QhR7Csns3Rd4A\n",
       "AAMCPgAAADlBnoBFFSw7/wAAAwHeI0+BhdSvpgebACQ/LoS0CKJkNTAJ/UV5oAPzmJW1bpYWbfQ/\n",
       "5tgAAAMAj4EAAAAlAZ6/dEN/AAADArJ3yqy4WKFkKAGUFQcJZEeJ1fuZcTAAAAMBBwAAADkBnqFq\n",
       "Q38AAAMCsvQm4rwsk1DzYDcXKZ+zOLmtOQPlkuEvMIAIg84A3XXTlwbJNnlhTO4AAAMAWUEAAADU\n",
       "QZqmSahBbJlMCCP//rUqgAAAAwAAAwAJyevQI7yHrsAFAl6In3+nDbLq2+Fdsyo5FiICH1FQ+z+M\n",
       "qCf/6TkymFGkdnlcvoWiUKQejyy6dz8GW14TY1Ino9b15cr3Z3teqBedla9phEj2UFyu9ZUb4/pA\n",
       "UqiYzkqUYPZkq58be01HjM8rVikiaG+SskJQbXk7l35kWEHLHt/F9fkRnTMZhoVW7WM+RjdpjGBh\n",
       "hr84AlmWjh2w52DKCRsuM/ubTAwS7six4dPxyUwhd8jDC7rwwAAAZUAAAABJQZ7ERRUsO/8AAAMB\n",
       "3iNPgYXUr6YHmwAkPy6EtAiiYWEFPIlOABtIuHdXJ3FVOQrqmff8kT4nXOL/pw+YAIK8kISsl0TA\n",
       "AAAM+QAAACcBnuN0Q38AAAMCsnfKrLhYoWQoAZQVBwlkQnqMo2/Q89QAAAMA44EAAAApAZ7lakN/\n",
       "AAADArL0JuK8LJNQ82A3Fymfszi5ot4HCRteFpBAAAADAz8AAACsQZrqSahBbJlMCCP//rUqgAAA\n",
       "AwAAAwADF1KTh7TgFgSMdE2i7/jkCMo2rSiOGkK3/DrmZIen0aIwykla0uVwBCT0cqUKi+izbDjY\n",
       "6z4eiZ04OcfxGbhMQJuc+jmshHtAlVK/PDFzPzPy02tJagtcBwFnKjp57DKX3JopaVClrpdBkS6u\n",
       "XCAr0h2aD0iPzQSVgZ7oiVoaTtch92VmTmG3xl9cSksNcAkOwAADGwAAAEFBnwhFFSw7/wAAAwHe\n",
       "I0+BhdSvpgebACQ/LoS0CKJhYQUzgOErJijxf/DA/XgBoQAvsPc+yR0HRgOAxiTgAAAOWAAAACsB\n",
       "nyd0Q38AAAMCsnfKrLhYoWQoAZQVBwlkQnqJevMa8f3lhpp34oAAAN6AAAAAMwGfKWpDfwAAAwKy\n",
       "9CbivCyTUPNgNxcpn7M4uaIWHm0UD+VM2Os6lACTJGu+tdDEAAAGfQAAAMhBmy5JqEFsmUwII//+\n",
       "tSqAAAADAAADAADujyTF2Q8rIBElZFgBmnbIu7c3iujxQMTpzRGdgVsronwmOzzS+7Q8L/7xSKH5\n",
       "SGQgVTsvtIb5/15pHOkf2F6Ekkf88bDWdTVROdJF2HeAhGn/txtZq4sVgPhfS9FCIHZPqDsRobcI\n",
       "KRa8FWQnB2a1koGubIpHD9gH3USXK77vWCEy7tca5jR/yrThVE55GitCj+KWBvVad3yHrH1ylFHm\n",
       "U4BwhRxX3y4kJlz6wAAGzAAAAEdBn0xFFSw7/wAAAwHeI0+BhdSvpgebACQ/LoS0CKJhYQUzBMVx\n",
       "H+hvLGgAuT3ybadiFFZby5uq4G7rudMe7tpN1pbygAABCwAAAEABn2t0Q38AAAMCsnfKrLhYoWQo\n",
       "AZQVBwlkQnqIdlqH1sjaAwoAP06eYE8RU9AXxhu1fiwOm2jBpKpOVIAAAKCBAAAAMgGfbWpDfwAA\n",
       "AwKy9CbivCyTUPNgNxcpn7M4uaIWDkAdEE3IIbn4ABWZZJDirAAAAwOnAAAA6UGbckmoQWyZTAgj\n",
       "//61KoAAAAMAAAMAAEppL98ooAIinhxfGpe16cK5TNheZwFNZerSePYV0+RQab5pP15vWYnr6Nqi\n",
       "8G92YZ2oRMNPx7XLJNAqpV/yamoyJIL/2Ikz+kO8dFcz2BFnaPmNR5MhxXbxlWN2JgN6O9nEPpVC\n",
       "M7WVjh8RVuS/nILxDeexwZdievnzoNtqg1h3GvzAeBzoIYV3Lz7zrev5R0sx3toiju6uHNUjI0x/\n",
       "T/HeGHyrybMsAKfnPiYiUeM4gAY4fUDTmvjqzPVdCMUS9FoZv+QTenRWyiRWVvQWAAEDAAAAUUGf\n",
       "kEUVLDv/AAADAd4jT4GF1K+mB5sAJD8uhLQIomFhBTMExSb1T6ifYuoNQAS5WcDNXeMuUX4jToAS\n",
       "NwBJTkkKz0yxjsBwP3G6MYegAADrgAAAADEBn690Q38AAAMCsnfKrLhYoWQoAZQVBwlkQnqIdlkL\n",
       "NWOlOrsUAXImcqX+tlEAAAz4AAAAKwGfsWpDfwAAAwKy9CbivCyTUPNgNxcpn7M4uaIWDkASwPEj\n",
       "I1unQAAAvYEAAADhQZu2SahBbJlMCCP//rUqgAAAAwAAAwAAFuHPYhoGEAz+MnY7cJhzL7em+M+Z\n",
       "55Byum2TWjLnWvp/1fC3NRNfb/+ZadzhqcdWydkroBR4mft7FMzAm7UKU8CqfS1F9metXO3esAFI\n",
       "HKZjtWb5rqiqlqCn+gybivGSqvxXxtLFOKcxyw8pzMQOKnBGN4hK/o0eLsHvqthnhJoS8mfFyLi3\n",
       "6Ar9sP+KHF5Wy8eaa7rdx85Cf3sLcaD5FkxAkBfusjf3kdigxt/0/x2gZsKn5ckltP0nCxOmFtSk\n",
       "gbmsabAsAAasAAAANEGf1EUVLDv/AAADAd4jT4GF1K+mB5sAJD8uhLQIomFhBTMExSb1E2V0uBEF\n",
       "y81pwdQABAwAAABGAZ/zdEN/AAADArJ3yqy4WKFkKAGUFQcJZEJ6iHZZCw0i7LNX/wwProAQ8w+2\n",
       "H2GXFAtMB72uZdIdYY2M7xlN5KGAAACHgQAAACwBn/VqQ38AAAMCsvQm4rwsk1DzYDcXKZ+zOLmi\n",
       "Fg5AENxJMD4UagswAAC7gAAAANlBm/pJqEFsmUwII//+tSqAAAADAAADAAAHHe1lAHymBpRT/W5e\n",
       "/EmfTsD5NVB5PrlohxKxvPmLaSFyjw05B9LPmwntdfk/rYhsAtfEWCm37ZdJKOYWpxsXZk173YCb\n",
       "HDuVXBvzys8j9s5vzRJ8z5uU8nHUFmPQTdvOibw9wMm2psXOVGzHZ3DSGVBapb+ggCG/gpGiUlmi\n",
       "hJ4X+6pmpuWcjEqbfOlQ22MTrdz26gwZZEK7mMRka2nGmVjatkWNQAF8lEX0U95ECnA3vbRZBq/w\n",
       "kmK5EQcgAMuBAAAAS0GeGEUVLDv/AAADAd4jT4GF1K+mB5sAJD8uhLQIomFhBTMExSb1BkBpPPnI\n",
       "TTeABNCC+Pdkg1cAKXYtJHW1+wZQ/8syjBILvAAB6QAAADsBnjd0Q38AAAMCsnfKrLhYoWQoAZQV\n",
       "BwlkQnqIdlkLBDDuiDFof+GB97gDjZMf8+xUj4OnJE+OoAAXsAAAADkBnjlqQ38AAAMCsvQm4rws\n",
       "k1DzYDcXKZ+zOLmiFg5AENwtbEQLmxIRpMwAf0g9UC7ZIXjfDUAADWkAAADOQZo+SahBbJlMCCP/\n",
       "/rUqgAAAAwAAAwAAAwIw46hgCVLHuxrzxdHk9wM5NSpRshxA27XZ2tTTsH+ifjnO3dsy5T8sZkgj\n",
       "OEv5AP3EeUElYsLDT2xMou3e9/zQsHBmgQhGXKIELdRvJ/xYNZ2PCvOlwpsKO6Bdb/c6f7SmE3Lt\n",
       "lG/B9pGr4ygtiiReECQrTgTB2SDrBWCqkqlrC7oSvVy2OE9OPNOmz1SX5Ac8/ffVxqf1F4C0+avm\n",
       "kxH4ZCPQfqty2vQZUjjNBOrBljkAFNAAAABMQZ5cRRUsO/8AAAMB3iNPgYXUr6YHmwAkPy6EtAii\n",
       "YWEFMwTFJvUGP7EZfb+P9qE/LVeYAG4sL6DbX9EjfT9s7n6wuFjLAg0oLgABswAAAD4Bnnt0Q38A\n",
       "AAMCsnfKrLhYoWQoAZQVBwlkQnqIdlkLBDA8qAfKktymXgA8Iyafp/oCYvkdBLvZEN8RroACFwAA\n",
       "ADwBnn1qQ38AAAMCsvQm4rwsk1DzYDcXKZ+zOLmiFg5AENwrDN6BHpo3AB71jQHJ7u8WIf+kawkK\n",
       "CoAA+YAAAADwQZpiSahBbJlMCCP//rUqgAAAAwAAAwAAAwIge9UgBMl/ALbiH7uiFeWQ5VpNexVT\n",
       "POhveqRgEYOZmHPdG+9pFIXvsoS/B0YmW1morw8ESN9pf02NaI1lltdSYEaMxsS93vZoEcJbPAuj\n",
       "uPVLmvJhy2p773NGEawtHEsh1SNSx0Fcszj+zLq2pmqALQujyIzfONBC0y/gDebskYLDmCnDXv9X\n",
       "eDhPtGT9P2tquc4YjvjezBZgcEj62lqqUoZT/OJ+Zr9Q7LYzjLtIYhFjsCPvuryTYVAXG9UE+TIb\n",
       "HXHAJbeJU9oxgKRk1LgtCKqfiAI2AAAATUGegEUVLDv/AAADAd4jT4GF1K+mB5sAJD8uhLQIomFh\n",
       "BTMExSb1Bj+xGFqNk8fgA100/R9baY/IHnJeyFn9OHwXVTOeKYf5JVUkAAm5AAAALQGev3RDfwAA\n",
       "AwKyd8qsuFihZCgBlBUHCWRCeoh2WQsEMDvw9HSMoYsyQAAbMAAAADgBnqFqQ38AAAMCsvQm4rws\n",
       "k1DzYDcXKZ+zOLmiFg5AENwrBbDChhy+ogA4Uuegm7WSk7LQiGABNwAAAOJBmqZJqEFsmUwII//+\n",
       "tSqAAAADAAADAAADADQaTnwE/+6eMAjwLyTtWmO2LyyV2wtz77bf/qGCvjwYmH9ExJ59vM0aR2zX\n",
       "88IvDc5rXsi5FdPFK8mhP4Dh6vdeb8VTi+tOSIlQkaYYViFF9dN/9moxrFvdjQd7AZy32eHLcnw1\n",
       "nAPZgUVnpwDaR1m2WtCaJMpf2hx13bL+dh1rVjZkoteYUnu6o7QpbDRh060e4OWev6LweWm8qp4f\n",
       "2Vcv3qNhM+brQLOIv1QE/IN45agiCvuikpSNj72ljCzczak/GrlBACygAAAAPEGexEUVLDv/AAAD\n",
       "Ad4jT4GF1K+mB5sAJD8uhLQIomFhBTMExSb1Bj+xEVnGMVZkdjT3WAFrmkFqoAA/wQAAADoBnuN0\n",
       "Q38AAAMCsnfKrLhYoWQoAZQVBwlkQnqIdlkLBDAiwTKNqMGSIoASTOdHRMuUOGZ86XXQADZhAAAA\n",
       "PQGe5WpDfwAAAwKy9CbivCyTUPNgNxcpn7M4uaIWDkAQ3CpToneqvVViABO3vM5TnXwxFqwD5Azv\n",
       "i+AAR8EAAAEQQZrqSahBbJlMCCP//rUqgAAAAwAAAwAAAwAymv0gBMSScicHkBqq2TGSbLBAMAdF\n",
       "gYIenUQH+Xn2ej//25fToFKlJ/dJ0N7noXkhNo7a7NVz+5GdzuH9YBOM3E0BvVHgm6VYwGfPi9oQ\n",
       "2SIa5gxBM1kL9TLD6qIdHwIxVDdjr2j101E/TL0sG1q+NpzWIcIRB4SKbKKOwBHgyCfC7iRXps/z\n",
       "xfODjtzExliBjuGYfXuCMjV1FHP5m3sxzk7vrXf+r2L8T2djoWV7jbaFT6FuXjqEqlCftHTRMRSW\n",
       "JroMP5bStrfaL5C3GrcQte/dHtgM43jEznkkMFAn/R8vkYLVj9TmKSP79HPYzpwf9bYVAQcAAABM\n",
       "QZ8IRRUsO/8AAAMB3iNPgYXUr6YHmwAkPy6EtAiiYWEFMwTFJvUGP7ERWY/h9Y3bQATq/wgkHKCn\n",
       "l1s3O1Xf1IaQM/BbOc3eFAAk4AAAAEQBnyd0Q38AAAMCsnfKrLhYoWQoAZQVBwlkQnqIdlkLBDAi\n",
       "wR25xfrfDT+MADbZ9gfRzy998gj9wGV/4Nqlg8U9IiABLwAAAEQBnylqQ38AAAMCsvQm4rwsk1Dz\n",
       "YDcXKZ+zOLmiFg5AENwqU6GWyFACaNuERen00b2Ya4rWdJeMfwXv7DCj6Lq/1QAMWQAAAMRBmy5J\n",
       "qEFsmUwII//+tSqAAAADAAADAAADADFbQwYAoCPi/gJxtJVW5gYa7z23X4nFnS9kEdmiaiDfFxtG\n",
       "+DuqIWOAENK2W8FXxDI859oNEKQp1q5Ac8dN5rokLT2joqnQ2wm9afsq8+aNQwVAdvVkADAtL9FS\n",
       "w/OOkc5lnr5++qgjLh5PHVOw1JCQ0A1cV4pCidX3L8Dp2qT9P1obYjuGPqkUhoZQRMrucZDmYEdW\n",
       "S0PlNFqRdygZs1GsurNr1utGwBgQAAAATEGfTEUVLDv/AAADAd4jT4GF1K+mB5sAJD8uhLQIomFh\n",
       "BTMExSb1Bj+xEVmOsY2eY91OCWPp7gAfzqyYt2JnzIKnstn0GbH2c3NgAR8AAAA9AZ9rdEN/AAAD\n",
       "ArJ3yqy4WKFkKAGUFQcJZEJ6iHZZCwQwIsEJskdaJ6/8XgBKUTEj+5DsuG5ViWcfMQAMWQAAADYB\n",
       "n21qQ38AAAMCsvQm4rwsk1DzYDcXKZ+zOLmiFg5AENwqU5J7SWf4lYZL70AGrXTbEkAAi4EAAACH\n",
       "QZtySahBbJlMCCP//rUqgAAAAwAAAwAAAwAOnnSbHhdmAQOFy8kQVGQ4leaQUnMt9zZealpUmlKn\n",
       "ZRAvFUbr0tyaUDzwDioWXFEi0OGFKpoe991bXJh4aF+ue/Rz1N6yoZmSMOH2MqOQYigDqBnhUfjz\n",
       "0HxpC/edewiCv736oLXcMG9hkAf5AAAAP0GfkEUVLDv/AAADAd4jT4GF1K+mB5sAJD8uhLQIomFh\n",
       "BTMExSb1Bj+xEVmCfrF3KcnYPH8zABczPg/TMQABJwAAAD4Bn690Q38AAAMCsnfKrLhYoWQoAZQV\n",
       "BwlkQnqIdlkLBDAiwJTHAKF0WVAARCXUzPtEvVfOMkxe7CyA66ACggAAADQBn7FqQ38AAAMCsvQm\n",
       "4rwsk1DzYDcXKZ+zOLmiFg5AENwqU5JoKkT/5GSgBM5wGriYAEbBAAAAaEGbtkmoQWyZTAgj//61\n",
       "KoAAAAMAAAMAAAMADkM2lfwAT4FwjIGBDp71lVhWHU1jeA75fkynLeZTVO4uLou4vYO3VrvN6J4X\n",
       "Ppv8fUNEONr7sF6BjhZR4p1XFm58GMc2RJCR4+wZmAbUAAAAQEGf1EUVLDv/AAADAd4jT4GF1K+m\n",
       "B5sAJD8uhLQIomFhBTMExSb1Bj+xEVmCfqfD7PZ3IxSAEz4jf159EaQACJgAAAArAZ/zdEN/AAAD\n",
       "ArJ3yqy4WKFkKAGUFQcJZEJ6iHZZCwQwIsCU6iLBogAHNQAAADMBn/VqQ38AAAMCsvQm4rwsk1Dz\n",
       "YDcXKZ+zOLmiFg5AENwqU5JoEViSgBCnUMze2qAACTgAAAC0QZv6SahBbJlMCCP//rUqgAAAAwAA\n",
       "AwAAAwANnJ8GHey9mAWgMZtItw/Fcc5LMJKYe4XBnHK5rStgXrIggOd+RiqYTU0OIYRDcE8ef8Ew\n",
       "eZC0766hNxyyxIOkqJu+pA4dNTHY16h6U2smOzd6gnuGm/YtpIBD5Au6DGq+U5OwHKGoAb6qEaQt\n",
       "afI7BiS6hns98ao2mo2zwi98n/rehq98Ukgt1ATropUCro0tlZ6+79U8MgEXAAAAT0GeGEUVLDv/\n",
       "AAADAd4jT4GF1K+mB5sAJD8uhLQIomFhBTMExSb1Bj+xEVmCfqeWro94v+G//EgA4uW607f+C7f7\n",
       "/Nj7S76qH+9w5YAARsEAAAA3AZ43dEN/AAADArJ3yqy4WKFkKAGUFQcJZEJ6iHZZCwQwIsCU6AZg\n",
       "OvMlACZ8mSVamV5nEABJwAAAADYBnjlqQ38AAAMCsvQm4rwsk1DzYDcXKZ+zOLmiFg5AENwqU5Jn\n",
       "9qkVqCGSwKAA83wEF8AALuEAAADTQZo+SahBbJlMCCP//rUqgAAAAwAAAwAAAwAqZMzIYu/Epv4f\n",
       "QnA/7z50GGL1TN2OdVQVgIGLdCBOOELKAJ9jZB/GEmaameJ8Xnfuas+gbs8ASjSdRuFTcj1Iry9K\n",
       "B4DGcmsM6VFJJ4wQKsI7X6oTVtAYYAy+TFbN2QT9POUdQT6IAzaAuVojcsrtckwDF0POEN9J54BB\n",
       "4sMUFxPACgzw+MzuDAZI1LsZXdi559amfjtkteH9x+62qVAHs7lKrA6Ut9AH1D7Eve8u/9/yqMS+\n",
       "Y3AB8wAAAElBnlxFFSw7/wAAAwHeI0+BhdSvpgebACQ/LoS0CKJhYQUzBMUm9QY/sRFZibieZ+rQ\n",
       "DF+4vfZlBFqTzjRvJvybEmax/VGigAHHAAAANwGee3RDfwAAAwKyd8qsuFihZCgBlBUHCWRCeoh2\n",
       "WQsEMCLA3tdDjTHKM+fUwAbfWT6zsCoAF3EAAAA5AZ59akN/AAADArL0JuK8LJNQ82A3Fymfszi5\n",
       "ohYOQBDcKlOa/KvD4YDgBblTPCSg8Tob8owAAOOAAAAA60GaYkmoQWyZTAgj//61KoAAAAMAAAMA\n",
       "AAMAKFxH/wCJ/QAIItWWWP9xdPBPwMjXX0K/mKyk9QrwZht2BzTDx+CGoBMb5aiSmAbuIqG7yA54\n",
       "2x+Hy3/7y4/2qRlpooekutDp56vvYVgjfl6A+Gh+lz92qU2rYORw3+lffhWl/dGjbHi57LXMXPDn\n",
       "s3JoZ/RxAfLG9munL9bc41/V8y951G7yVgEbdxOnUjBvjrW6Uv/obvLtVWT8Y4uBDYN+MMob9ikd\n",
       "x/+wCInyVY5DpsxKyikECkrMefAqsRV4JXTW03Msyfv/7Se6tsMgBgQAAABLQZ6ARRUsO/8AAAMB\n",
       "3iNPgYXUr6YHmwAkPy6EtAiiYWEFMwTFJvUGP7ERWYkWD7QAdeF733geQxSPD2mj9OFAxri6OcaV\n",
       "6re4AAzJAAAANQGev3RDfwAAAwKyd8qsuFihZCgBlBUHCWRCeoh2WQsEMCLBAEndk1ACaa1gWPFo\n",
       "tAY3kAEzAAAASwGeoWpDfwAAAwKy9CbivCyTUPNgNxcpn7M4uaIWDkAQ3CpTnxhmiX1lnrgBLKA1\n",
       "GXedC6dIH6Z9RlnmV49DblKALmz380LmcQAOOQAAAQpBmqZJqEFsmUwII//+tSqAAAADAAADAAAD\n",
       "AHf3B/HTasAA6V5RdyNPKk6ZSorCZ2ukLugqXHE2GMH3xZ1QviG5+bpC+SfNXiDzwbBuya1HcIJv\n",
       "TbccvDYwbmwQaQtSNRu2ofO9jpeKVV7X/2HJevxlnIPYEKFu1mtrzNkNsZqXTcJOMoPWvphePvVk\n",
       "ylSCYJjvqQTpr91NWMeMjsf9sdXc9DZtxanx2q4UOjQ7/1o6YsIT3yTbAFFFZZQUK1n5NkD28Pfa\n",
       "NBLvImrZbjI2cMpoJ7xQn4Ykkz7V3fssE/8MVwDihmDLcyjg5Dq8CztPOsyNWszo5wShffRLq1pf\n",
       "XZYYcNEJBeGPTsAWUAAAAFVBnsRFFSw7/wAAAwHeI0+BhdSvpgebACQ/LoS0CKJhYQUzBMUm9QY/\n",
       "sRHK8NniU3fT9Q/4hP8hAB8Vd3LvNS0nq7i0pzULG8sMrEisFSWpBPa0AAW1AAAASAGe43RDfwAA\n",
       "AwKyd8qsuFihZCgBlBUHCWRCeoh2WQsEMCLBAEfcxpABsmXf6g+wuMOBFU0fT8zFDVA//vrE4rV3\n",
       "rvlUzAAWkQAAADABnuVqQ38AAAMCsvQm4rwsk1DzYDcXKZ+zOLmiFg5AENwqvb1czFhFaDmZjkAA\n",
       "LKEAAAFQQZrqSahBbJlMCCP//rUqgAAAAwAAAwAAAwF3J+lB3pkz5WrXrnK1OEzO8bvMZrQpQs//\n",
       "BropJoYT15dIAGNEft/gDh1g6uM90lT7SNEJmTp2ufgdzUXp0uv011Hk4htCGjiU5z0Lm6yKxiCP\n",
       "aywLzDecfhfLh5dQ8sdEclMrkHa10mqrzcbgghtNh1OgQUhPN/oQbril5ycOebskyuFAk+2HXw+J\n",
       "6WsRDK5lSvq/Xe2TP4i2/bUnsc1puam9ExBXC+SPUpl+BT743h+gYTfOdUwEfeOVjsR8fasKHcR8\n",
       "NFtAKGc/T+YzY9U9o0bmx1iyAZVHpyQyLS2M2s/3dJnhUOwdlNM8D7/A6awxEJfbaQ2jJ0pJALsy\n",
       "JlFXqySMQBV6Zpu4D+Tonf1h3kS6siT9lH64Ka9Forzlkjqd2qNSxp7WtlaTCAGogXucQh5y8BUx\n",
       "AAAAQ0GfCEUVLDv/AAADAd4jT4GF1K+mB5sAJD8uhLQIomFhBTMExSb1Bj+xFDySm/b2PzMAE7fD\n",
       "SoFUy0zA2Dkoi4AAM+AAAAAyAZ8ndEN/AAADArJ3yqy4WKFkKAGUFQcJZEJ6iHZZCwQwJkA+R4gq\n",
       "flb7oa3mhVgAfMAAAABIAZ8pakN/AAADArL0JuK8LJNQ82A3Fymfszi5ohYOQBDcLEg3kY40gA2U\n",
       "FZnH0tH6G2yMG6K1a/wsPToK9K9qu/sPTjkbABLxAAAA80GbLkmoQWyZTAgj//61KoAAAAMAAAMA\n",
       "AARn/H1GY5w1hvdmGcuIO7PF4OBwZVBHeDZ9rFbsR5MqSo7bMayos7PzzEVaOKXvOzE+4NFEV0MB\n",
       "OWPiP95BdZZLAYlDsFpmcx6F0/Wg6gIUUFaHv0k4nQ5100QefkgWcVQSAfVcABQFASCJDouTpSfu\n",
       "okH811xcljqbH7YTxYVj+A3IIjwLUzgqw+YUoZvWov/57eDvz95oAImUUFP/BWNC+Lzb/09ovuKp\n",
       "asYlHCd920IfSiC0WTljmSsU/jokY8kMk5OOBov+7nGnoCr5O4A14xDYh10fOrAEPAAAAERBn0xF\n",
       "FSw7/wAAAwHeI0+BhdSvpgebACQ/LoS0CKJhYQUzBMUm9QY/sRQtqBa9Tcl4AISYavzVrEDXfhJp\n",
       "6LF8jABMwAAAADIBn2t0Q38AAAMCsnfKrLhYoWQoAZQVBwlkQnqIdlkLBDAy021VDnwAklkp+8g4\n",
       "BIACLwAAADsBn21qQ38AAAMCsvQm4rwsk1DzYDcXKZ+zOLmiFg5AENwsN33lETLTMAG1VkcS2678\n",
       "I3LXcNEBaAAEzQAAANBBm3JJqEFsmUwII//+tSqAAAADAAADAAANlrMwwZwp30N9GBr8xddZFWnd\n",
       "D6OsJVe1V337sApYRgwPRQm9BfOSPvqiCFh+XN99u5U65ootBtWy4994VaJPXyZiqvA6z2Ok2OZQ\n",
       "iGDepYmmiDyoP4qCAvUSHiS18PCdf/z2L76TXgJRtYD6Tw8tPd6gAwwbSXk5UhGhNFN7tjKLKuph\n",
       "UfbnS20FC/ikyEiXxe2kTF5gleZXzVpDTPoCJ+ChQKjTMccnaBGf85yc5hlbU4hCgAKDAAAATEGf\n",
       "kEUVLDv/AAADAd4jT4GF1K+mB5sAJD8uhLQIomFhBTMExSb1Bj/ku2t7QAQ4liVlZN9nORaHkfpw\n",
       "8+5VZlQo3dA8gR7XjzAAAd0AAAAuAZ+vdEN/AAADArJ3yqy4WKFkKAGUFQcJZEJ6iHZZCwQwcHO+\n",
       "RbyUGgDW4AADegAAAEABn7FqQ38AAAMCsvQm4rwsk1DzYDcXKZ+zOLmiFg5AENwz7lN3uUAIxQEV\n",
       "/2eJfX4eB1R1BZ/l2WOKCTvgAAj5AAAA9kGbtkmoQWyZTAgj//61KoAAAAMAAAMAACqcR/2hwSwA\n",
       "R4krqmQo/eF3sX7izBfbhzMP1W/xNRg3uzDO1MHM/qu/uQJnp30yCrTUpC9wj2dDdMf2E3EpWorv\n",
       "VatO1FdS5bOBnm7FwsCyTE3TGpJfcjpOkAVibWw0t0mbSEUIb9a5UtTvuJlJAW0/EvdJQ7CiNnft\n",
       "KbOvahWgDzp904slEqfonpXgRPXeex6BhXpPFVPqqD5h9IIMlTh2P3yfl+gnL1CXlbrcIPfbn4Hh\n",
       "mayaAXBRlsQz0XTG9ebiiSyf5NOJKcu3spooIL4cEXgC6OeWrjGfEgAYsAAAADlBn9RFFSw7/wAA\n",
       "AwHeI0+BhdSvpgebACQ/LoS0CKJhYQUzBMUm9SPa2O+VJbu2SbNdHA37kBAAIeAAAAArAZ/zdEN/\n",
       "AAADArJ3yqy4WKFkKAGUFQcJZEJ6iHZZCwewjl5lSs8NAAAZUQAAAEIBn/VqQ38AAAMCsvQm4rws\n",
       "k1DzYDcXKZ+zOLmiFg5AFPIaaFgNf/DX+9wBRSbUwwoKHPebnWBf6auN0uDdsAAAScAAAADIQZv6\n",
       "SahBbJlMCCH//qpVAAADAAADAAADAQnlz+D1caAOOVkqSxqn9nz3ii6M9vcXlSX39M4f7gAlv8C0\n",
       "loGYYmspDoOf9/04TEgY3g1gqyDGZ+8G2xXJ+qU6kL3B9x+Z0B82W7Tj3LM2ppJvhc+7qc5H/yCW\n",
       "HaKUSBp6swEkqz+xDIUPuAaqiCbmTUKV5jzteI+LASDlp0zvhLz2tuqh0K4X8YIxaRofIClz8i3D\n",
       "9b0/PPrrJ8AKraFrz3CrlC0GBqeFnAAAWUEAAABQQZ4YRRUsO/8AAAMB3iNPgYXUr6YHmwAkPy6E\n",
       "tAiiYWEFMwTFJvXvLa5Wr9ytNJvAAdmhEpyi65S/0OJldQOfr8EdPrmW8CQbACYiQgAAScEAAAA5\n",
       "AZ43dEN/AAADArJ3yqy4WKFkKAGUFQcJZEJ6iHZZCxgSFyGa6O4DgAJu9ZljRrNSbhNBH/YAADjg\n",
       "AAAAOAGeOWpDfwAAAwKy9CbivCyTUPNgNxcpn7M4uaIWDkA1+z7gP+4Gm8Y7WXiga/uGsG0YUToo\n",
       "AAdNAAAAs0GaPkmoQWyZTAgh//6qVQAAAwAAAwAAAwNBtLvb6E3TgAcW2ySBruZR9jOJgGhsWqBa\n",
       "HR5xDKBZBskHVTnDzN4NdwJ3JS74UhZe7Wm+4Hde83cvDRH+jSzTt1Iqf5sro5JCdRheJ8Im5Gy2\n",
       "LqU2Q0BH2kx5pWZWcXoU2sPTinlLJEzCHeZcfjAlN2w/CZwKkCkya/5wWPVF5Lr+kcAfKvt+qZWM\n",
       "zzRl/mo2p7ay46HAAHHAAAAARUGeXEUVLDv/AAADAd4jT4GF1K+mB5sAJD8uhLQIomFhBTMFSnkR\n",
       "AIJMc+ABCCWlcVpkIL9IrYwO+4U4S5aI+XabFACPgQAAADQBnnt0Q38AAAMCsnfKrLhYoWQoAZQV\n",
       "BwlkQnqIdlkLt9YsiLBuAEnKT4JnruwBFitwABQRAAAALgGefWpDfwAAAwKy9CbivCyTUPNgNxcp\n",
       "n7M4uaIkgwn5CsC4q3a6m/HTVQAA1IAAAABHQZp/SahBbJlMCCH//qpVAAADAAADAAAKT966Esdd\n",
       "atfJylvHpak40CBj03FF/XCDcitUFIPRnlf7zZw3nBJUlXXNGAAAI+AAAABbQZqASeEKUmUwII//\n",
       "/rUqgAAAAwAAAwAFKHnztrRADhLLsqDl/CYRzOjpGLR4fojF33e0kbHJcpa8z9vNvfXxWWESVKPQ\n",
       "ZzPmClaQ/a3C5EoZvfpzkwAAAwAfMQAAAKRBmqRJ4Q6JlMCCH/6qVQAAAwAAAwAAH12l82VJfE8A\n",
       "H9IvJVYC3qoNtmYltg3iiU234yp/B0ZVFE0urhBL91WhFGk6Yz6rDK2QtyEpYfwAOfI9qMJ2nBWt\n",
       "AzL+GKYkX0ZG00JYV7BSh9ShhlNPM8OALOvZggu8Ahe6tNwG/eNsKf7eZjNRU3IX/NtQt3dPK0EW\n",
       "uVT5VwU0LISdSTtCu2uAAAB3QAAAAFVBnsJFETw7/wAAAwHeEODZwmpXGbVJq5kPyc7XgX+gKMDk\n",
       "WLtoBSEIlchJt1gttWLKAWzYysAGt+5iRxUeyUbpGCrc6V2khzVgu+KzMmcXCKecADChAAAALQGe\n",
       "4XRDfwAAAwKyd8qsuFihZCgBlBUHCWRCepVRhas30ObPaMCqCCDDgAABgQAAADwBnuNqQ38AAAMC\n",
       "svQm4rwsk1DzYDcXKZ+zOLmkaM/+K7vMAAncAdpLT10BGeXQYrLzMzy6Ne0AAAMAz4EAAACZQZro\n",
       "SahBaJlMCH///qmWAAADAAADAATg9toAJ1tUgTPNg+vLg2JuE/PkpKYsaWS9p25fiNvT4wM8u3+u\n",
       "iPwzANmdK8I9RkVZ7hWRvNFZ8DT90TCS4UM5IP1yLcL6KQaCuFpzx29m2ThMcWFOZIVTxxsHWisx\n",
       "PrXSkxVJ9RUDWwLXcHgGig+KKouvolhkXFatBMO1BEAAAD5hAAAAS0GfBkURLDv/AAADAd4jT4GF\n",
       "1K+mB5sAJD8uhLQIomtOQwBPWvgA+4MmGOkP+h/yjQ69ChOf3bLwZNlbLUYoYiX9rCOwNGQ6AAAF\n",
       "tQAAADsBnyV0Q38AAAMCsnfKrLhYoWQoAZQVBwlkQ9fRfOTsAD8pzD3nzGnzzurwl2E6ApAmv17H\n",
       "z5y8QAAs4QAAAEUBnydqQ38AAAMCsvQm4rwsk1DzYDcXKZ+zPhNqQ9ayQGbmzVxAA/zY3QMAKgnV\n",
       "uN/c/ndhD91Zz+udzcAgezNLEoAAUUAAAABEQZsqSahBbJlMFEw3//6nhAAAAwAAAwAJrSthg37g\n",
       "A1ckZqE/keUjogQo6Qr8bBUcdhQzvQP9xDt1MdV5tDQAAAMAD/AAAAAuAZ9JakN/AAADArMwQXMG\n",
       "g/XbIUAskRR5CRAXNF6vR67vccxt3pc8pTaOgABUwQAADiJtb292AAAAbG12aGQAAAAAAAAAAAAA\n",
       "AAAAAAPoAABbzAABAAABAAAAAAAAAAAAAAAAAQAAAAAAAAAAAAAAAAAAAAEAAAAAAAAAAAAAAAAA\n",
       "AEAAAAAAAAAAAAAAAAAAAAAAAAAAAAAAAAAAAAAAAAACAAANTHRyYWsAAABcdGtoZAAAAAMAAAAA\n",
       "AAAAAAAAAAEAAAAAAABbzAAAAAAAAAAAAAAAAAAAAAAAAQAAAAAAAAAAAAAAAAAAAAEAAAAAAAAA\n",
       "AAAAAAAAAEAAAAAC0AAAAtAAAAAAACRlZHRzAAAAHGVsc3QAAAAAAAAAAQAAW8wAAAgAAAEAAAAA\n",
       "DMRtZGlhAAAAIG1kaGQAAAAAAAAAAAAAAAAAACgAAAOsAFXEAAAAAAAtaGRscgAAAAAAAAAAdmlk\n",
       "ZQAAAAAAAAAAAAAAAFZpZGVvSGFuZGxlcgAAAAxvbWluZgAAABR2bWhkAAAAAQAAAAAAAAAAAAAA\n",
       "JGRpbmYAAAAcZHJlZgAAAAAAAAABAAAADHVybCAAAAABAAAML3N0YmwAAACzc3RzZAAAAAAAAAAB\n",
       "AAAAo2F2YzEAAAAAAAAAAQAAAAAAAAAAAAAAAAAAAAAC0ALQAEgAAABIAAAAAAAAAAEAAAAAAAAA\n",
       "AAAAAAAAAAAAAAAAAAAAAAAAAAAAAAAAAAAY//8AAAAxYXZjQwFkAB//4QAYZ2QAH6zZQLQW6EAA\n",
       "AAMAQAAABQPGDGWAAQAGaOvjyyLAAAAAHHV1aWRraEDyXyRPxbo5pRvPAyPzAAAAAAAAABhzdHRz\n",
       "AAAAAAAAAAEAAADrAAAEAAAAABRzdHNzAAAAAAAAAAEAAAABAAAHWGN0dHMAAAAAAAAA6QAAAAEA\n",
       "AAgAAAAAAQAAFAAAAAABAAAIAAAAAAEAAAAAAAAAAQAABAAAAAABAAAUAAAAAAEAAAgAAAAAAQAA\n",
       "AAAAAAABAAAEAAAAAAEAABQAAAAAAQAACAAAAAABAAAAAAAAAAEAAAQAAAAAAQAAFAAAAAABAAAI\n",
       "AAAAAAEAAAAAAAAAAQAABAAAAAABAAAUAAAAAAEAAAgAAAAAAQAAAAAAAAABAAAEAAAAAAEAABQA\n",
       "AAAAAQAACAAAAAABAAAAAAAAAAEAAAQAAAAAAQAAFAAAAAABAAAIAAAAAAEAAAAAAAAAAQAABAAA\n",
       "AAABAAAIAAAAAAEAABQAAAAAAQAACAAAAAABAAAAAAAAAAEAAAQAAAAAAQAAFAAAAAABAAAIAAAA\n",
       "AAEAAAAAAAAAAQAABAAAAAABAAAUAAAAAAEAAAgAAAAAAQAAAAAAAAABAAAEAAAAAAEAABQAAAAA\n",
       "AQAACAAAAAABAAAAAAAAAAEAAAQAAAAAAQAAFAAAAAABAAAIAAAAAAEAAAAAAAAAAQAABAAAAAAB\n",
       "AAAIAAAAAAEAABQAAAAAAQAACAAAAAABAAAAAAAAAAEAAAQAAAAAAQAAFAAAAAABAAAIAAAAAAEA\n",
       "AAAAAAAAAQAABAAAAAABAAAUAAAAAAEAAAgAAAAAAQAAAAAAAAABAAAEAAAAAAEAABQAAAAAAQAA\n",
       "CAAAAAABAAAAAAAAAAEAAAQAAAAAAQAACAAAAAABAAAUAAAAAAEAAAgAAAAAAQAAAAAAAAABAAAE\n",
       "AAAAAAEAABQAAAAAAQAACAAAAAABAAAAAAAAAAEAAAQAAAAAAQAACAAAAAABAAAUAAAAAAEAAAgA\n",
       "AAAAAQAAAAAAAAABAAAEAAAAAAEAABQAAAAAAQAACAAAAAABAAAAAAAAAAEAAAQAAAAAAQAAFAAA\n",
       "AAABAAAIAAAAAAEAAAAAAAAAAQAABAAAAAABAAAUAAAAAAEAAAgAAAAAAQAAAAAAAAABAAAEAAAA\n",
       "AAEAABQAAAAAAQAACAAAAAABAAAAAAAAAAEAAAQAAAAAAQAAFAAAAAABAAAIAAAAAAEAAAAAAAAA\n",
       "AQAABAAAAAABAAAUAAAAAAEAAAgAAAAAAQAAAAAAAAABAAAEAAAAAAEAABQAAAAAAQAACAAAAAAB\n",
       "AAAAAAAAAAEAAAQAAAAAAQAAFAAAAAABAAAIAAAAAAEAAAAAAAAAAQAABAAAAAABAAAUAAAAAAEA\n",
       "AAgAAAAAAQAAAAAAAAABAAAEAAAAAAIAAAgAAAAAAQAAFAAAAAABAAAIAAAAAAEAAAAAAAAAAQAA\n",
       "BAAAAAABAAAUAAAAAAEAAAgAAAAAAQAAAAAAAAABAAAEAAAAAAEAABQAAAAAAQAACAAAAAABAAAA\n",
       "AAAAAAEAAAQAAAAAAQAAFAAAAAABAAAIAAAAAAEAAAAAAAAAAQAABAAAAAABAAAUAAAAAAEAAAgA\n",
       "AAAAAQAAAAAAAAABAAAEAAAAAAEAABQAAAAAAQAACAAAAAABAAAAAAAAAAEAAAQAAAAAAQAAFAAA\n",
       "AAABAAAIAAAAAAEAAAAAAAAAAQAABAAAAAABAAAUAAAAAAEAAAgAAAAAAQAAAAAAAAABAAAEAAAA\n",
       "AAEAABQAAAAAAQAACAAAAAABAAAAAAAAAAEAAAQAAAAAAQAAFAAAAAABAAAIAAAAAAEAAAAAAAAA\n",
       "AQAABAAAAAABAAAUAAAAAAEAAAgAAAAAAQAAAAAAAAABAAAEAAAAAAEAABQAAAAAAQAACAAAAAAB\n",
       "AAAAAAAAAAEAAAQAAAAAAQAAFAAAAAABAAAIAAAAAAEAAAAAAAAAAQAABAAAAAABAAAUAAAAAAEA\n",
       "AAgAAAAAAQAAAAAAAAABAAAEAAAAAAEAABQAAAAAAQAACAAAAAABAAAAAAAAAAEAAAQAAAAAAQAA\n",
       "FAAAAAABAAAIAAAAAAEAAAAAAAAAAQAABAAAAAABAAAUAAAAAAEAAAgAAAAAAQAAAAAAAAABAAAE\n",
       "AAAAAAEAABQAAAAAAQAACAAAAAABAAAAAAAAAAEAAAQAAAAAAQAAFAAAAAABAAAIAAAAAAEAAAAA\n",
       "AAAAAQAABAAAAAABAAAUAAAAAAEAAAgAAAAAAQAAAAAAAAABAAAEAAAAAAEAABQAAAAAAQAACAAA\n",
       "AAABAAAAAAAAAAEAAAQAAAAAAQAAFAAAAAABAAAIAAAAAAEAAAAAAAAAAQAABAAAAAABAAAUAAAA\n",
       "AAEAAAgAAAAAAQAAAAAAAAABAAAEAAAAAAEAABQAAAAAAQAACAAAAAABAAAAAAAAAAEAAAQAAAAA\n",
       "AQAAFAAAAAABAAAIAAAAAAEAAAAAAAAAAQAABAAAAAABAAAUAAAAAAEAAAgAAAAAAQAAAAAAAAAB\n",
       "AAAEAAAAAAIAAAgAAAAAAQAAFAAAAAABAAAIAAAAAAEAAAAAAAAAAQAABAAAAAABAAAUAAAAAAEA\n",
       "AAgAAAAAAQAAAAAAAAABAAAEAAAAAAEAAAwAAAAAAQAABAAAAAAcc3RzYwAAAAAAAAABAAAAAQAA\n",
       "AOsAAAABAAADwHN0c3oAAAAAAAAAAAAAAOsAABEiAAAA+AAAADwAAAAhAAAAMAAAANYAAAAkAAAA\n",
       "KgAAADAAAADbAAAAQQAAACMAAAAxAAAAxAAAADIAAAArAAAALwAAAPMAAAA5AAAANwAAAC0AAAD+\n",
       "AAAAPQAAACgAAAA6AAAA6QAAADoAAAA3AAAAMgAAAE0AAADmAAAAOQAAACgAAAAuAAABEwAAADwA\n",
       "AAA8AAAANAAAAO0AAABIAAAAOAAAACkAAADuAAAAOwAAAD0AAAA/AAABDQAAADsAAABAAAAANgAA\n",
       "AEoAAADRAAAAOgAAADAAAAArAAAAfAAAADoAAAA0AAAALwAAAKQAAAAtAAAALAAAAC4AAAC6AAAA\n",
       "MgAAAEAAAAA0AAAAawAAAM4AAABLAAAAOgAAADEAAAETAAAAOwAAAEQAAAAxAAAAegAAARYAAABE\n",
       "AAAAOQAAADsAAAEJAAAARgAAADsAAAA5AAAA0wAAAEsAAAA0AAAAPgAAAQsAAABTAAAANwAAADYA\n",
       "AADOAAAARgAAADEAAAA8AAAA0QAAAEEAAAA9AAAAPgAAANsAAABIAAAALwAAAC4AAACqAAAAPgAA\n",
       "ACoAAAAyAAAApAAAADIAAAA9AAAAKwAAAPEAAABCAAAAQAAAADwAAABmAAAAWgAAAKoAAABMAAAA\n",
       "LQAAAC0AAACYAAAASAAAADkAAAAqAAAAqQAAAD0AAAApAAAAPQAAANgAAABNAAAAKwAAAC0AAACw\n",
       "AAAARQAAAC8AAAA3AAAAzAAAAEsAAABEAAAANgAAAO0AAABVAAAANQAAAC8AAADlAAAAOAAAAEoA\n",
       "AAAwAAAA3QAAAE8AAAA/AAAAPQAAANIAAABQAAAAQgAAAEAAAAD0AAAAUQAAADEAAAA8AAAA5gAA\n",
       "AEAAAAA+AAAAQQAAARQAAABQAAAASAAAAEgAAADIAAAAUAAAAEEAAAA6AAAAiwAAAEMAAABCAAAA\n",
       "OAAAAGwAAABEAAAALwAAADcAAAC4AAAAUwAAADsAAAA6AAAA1wAAAE0AAAA7AAAAPQAAAO8AAABP\n",
       "AAAAOQAAAE8AAAEOAAAAWQAAAEwAAAA0AAABVAAAAEcAAAA2AAAATAAAAPcAAABIAAAANgAAAD8A\n",
       "AADUAAAAUAAAADIAAABEAAAA+gAAAD0AAAAvAAAARgAAAMwAAABUAAAAPQAAADwAAAC3AAAASQAA\n",
       "ADgAAAAyAAAASwAAAF8AAACoAAAAWQAAADEAAABAAAAAnQAAAE8AAAA/AAAASQAAAEgAAAAyAAAA\n",
       "FHN0Y28AAAAAAAAAAQAAACwAAABidWR0YQAAAFptZXRhAAAAAAAAACFoZGxyAAAAAAAAAABtZGly\n",
       "YXBwbAAAAAAAAAAAAAAAAC1pbHN0AAAAJal0b28AAAAdZGF0YQAAAAEAAAAATGF2ZjU3LjU2LjEw\n",
       "MQ==\n",
       "\">\n",
       "  Your browser does not support the video tag.\n",
       "</video>"
      ],
      "text/plain": [
       "<IPython.core.display.HTML object>"
      ]
     },
     "execution_count": 155,
     "metadata": {},
     "output_type": "execute_result"
    }
   ],
   "source": [
    "HTML(anim.to_html5_video())"
   ]
  },
  {
   "cell_type": "markdown",
   "metadata": {},
   "source": [
    "### Animation des trajectoires pour le système Terre-Lune-Astéroïde"
   ]
  },
  {
   "cell_type": "markdown",
   "metadata": {},
   "source": [
    "Nous animerons ici que la trajectoire de l'astéroïde, la trajectoire de la Lune restant la même par hypothèse. Nous animerons la trajectoire jusqu'au moment de la collision, la suite n'étant que peu intéressante et n'ayant pas de sens physique."
   ]
  },
  {
   "cell_type": "code",
   "execution_count": 156,
   "metadata": {
    "collapsed": true
   },
   "outputs": [],
   "source": [
    "T = 3600*2\n",
    "dt = 10\n",
    "N = 1+int(T/dt)"
   ]
  },
  {
   "cell_type": "code",
   "execution_count": 157,
   "metadata": {},
   "outputs": [],
   "source": [
    "dataLT = numpy.empty((N,4)) \n",
    "dataAT = numpy.empty((N,4)) \n",
    "\n",
    "dataLT[0] = dataLT0\n",
    "dataAT[0] = dataAT0"
   ]
  },
  {
   "cell_type": "code",
   "execution_count": 158,
   "metadata": {},
   "outputs": [
    {
     "data": {
      "image/png": "[encoded data removed]",
      "text/plain": [
       "<matplotlib.figure.Figure at 0x7f59794425c0>"
      ]
     },
     "metadata": {},
     "output_type": "display_data"
    }
   ],
   "source": [
    "fig = pyplot.figure(figsize=(10,10))\n",
    "ax = pyplot.axes(xlim=(-50000000,50000000), ylim=(-50000000,50000000))\n",
    "lineA = ax.plot([], [], color='r', ls='-', lw=2, label='Astéroïde')[0]\n",
    "pointT=[[0,0]]\n",
    "point = ax.plot(*zip(*pointT), marker='o', color='black', markersize=3, label='Terre')  # évidemment pas à l'échelle!\n",
    "pyplot.title('Animation de la trajectoire de l''astéroïde')\n",
    "pyplot.xlabel('$x$')\n",
    "pyplot.ylabel('$y$')\n",
    "pyplot.legend();"
   ]
  },
  {
   "cell_type": "code",
   "execution_count": 159,
   "metadata": {
    "collapsed": true
   },
   "outputs": [],
   "source": [
    "def trajectory_ast(i):\n",
    "    lineA.set_data(dataAT[:i,0],dataAT[:i,1])\n",
    "    \n",
    "    temp = rk4_ast(f_ast,dataLT[i],dataAT[i],dt)\n",
    "    dataLT[i+1] = temp[0]\n",
    "    dataAT[i+1] = temp[1]"
   ]
  },
  {
   "cell_type": "code",
   "execution_count": 160,
   "metadata": {},
   "outputs": [],
   "source": [
    "anim_ast = animation.FuncAnimation(fig, trajectory_ast,\n",
    "                               frames=N-1, interval=5)"
   ]
  },
  {
   "cell_type": "code",
   "execution_count": 161,
   "metadata": {},
   "outputs": [
    {
     "data": {
      "text/html": [
       "<video width=\"720\" height=\"720\" controls autoplay loop>\n",
       "  <source type=\"video/mp4\" src=\"data:video/mp4;base64,AAAAHGZ0eXBNNFYgAAACAGlzb21pc28yYXZjMQAAAAhmcmVlAACKsm1kYXQAAAKsBgX//6jcRem9\n",
       "5tlIt5Ys2CDZI+7veDI2NCAtIGNvcmUgMTM4IHIyMCA0MGU3MmRhIC0gSC4yNjQvTVBFRy00IEFW\n",
       "QyBjb2RlYyAtIENvcHlsZWZ0IDIwMDMtMjAxMyAtIGh0dHA6Ly93d3cudmlkZW9sYW4ub3JnL3gy\n",
       "NjQuaHRtbCAtIG9wdGlvbnM6IGNhYmFjPTEgcmVmPTMgZGVibG9jaz0xOjA6MCBhbmFseXNlPTB4\n",
       "MzoweDExMyBtZT1oZXggc3VibWU9NyBwc3k9MSBwc3lfcmQ9MS4wMDowLjAwIG1peGVkX3JlZj0x\n",
       "IG1lX3JhbmdlPTE2IGNocm9tYV9tZT0xIHRyZWxsaXM9MSA4eDhkY3Q9MSBjcW09MCBkZWFkem9u\n",
       "ZT0yMSwxMSBmYXN0X3Bza2lwPTEgY2hyb21hX3FwX29mZnNldD0tMiB0aHJlYWRzPTYgbG9va2Fo\n",
       "ZWFkX3RocmVhZHM9MSBzbGljZWRfdGhyZWFkcz0wIG5yPTAgZGVjaW1hdGU9MSBpbnRlcmxhY2Vk\n",
       "PTAgYmx1cmF5X2NvbXBhdD0wIGNvbnN0cmFpbmVkX2ludHJhPTAgYmZyYW1lcz0zIGJfcHlyYW1p\n",
       "ZD0yIGJfYWRhcHQ9MSBiX2JpYXM9MCBkaXJlY3Q9MSB3ZWlnaHRiPTEgb3Blbl9nb3A9MCB3ZWln\n",
       "aHRwPTIga2V5aW50PTI1MCBrZXlpbnRfbWluPTI1IHNjZW5lY3V0PTQwIGludHJhX3JlZnJlc2g9\n",
       "MCByY19sb29rYWhlYWQ9NDAgcmM9Y3JmIG1idHJlZT0xIGNyZj0yMy4wIHFjb21wPTAuNjAgcXBt\n",
       "aW49MCBxcG1heD02OSBxcHN0ZXA9NCBpcF9yYXRpbz0xLjQwIGFxPTE6MS4wMACAAAAMgGWIhAAn\n",
       "//71sXwKasnzigzoMi7hlyTJrrYi4m0AwAAAAwAAAwAAAwHLsleSimFikdQAAAMALMAKWB4cjg9j\n",
       "M/4gIOOlfKwIk2UIUVIjJfdn14Ft/4CIipMXuI/bnFGCwIQsoSsQn4w2zELCQ+tGMcjGyReZ2cM+\n",
       "WzxrprJ9ht7rgWNi7XR5BIKFrJ5sDLWb5hBzXmaTQ0FOIKoE3dIiE8fsnpOpZhAymk6u7Nk5gLYK\n",
       "3cg3E4p5YofxPBjUHjwLqgQrBBsj90Kvo2EOwoLoIUXtFQ2OSXBWm5/nw2LX3p+GEZE7F5CTf121\n",
       "vP5/H6mHeIlUEfZmMyFh/6M4LgacfTZlRJNOXz5/tt1VFcMDCne34NWEdCQdqLCLTB6xl+Onwk82\n",
       "glZa+m51IAf13ZaTmxEdbctCpqwtpQjnBFwVhTRGJ8cnz8eBcwiUz7S5I+pzHMcC3VojZyd9CN1p\n",
       "Ib3gGDt/kBdGZi5NQrkqAb+Y5+ys6NjX8uSae42S/zSSmrbVmW7wU1C0vxvo9R9netfhyI9sPBs9\n",
       "5NpEWxzflGd9uaZt13Bbj0dx20Bv0gvov7jZJZT0ST/U2O7cvcicj8imzIjWvaxe7eXc5AUaqe1Z\n",
       "sXgeRrkU7RggVWq1o8NxNrH4LLBRUueHeAY8zFbs4whqsO4hkL2t9ZbeT1pJHc59uiD26Vngt4pO\n",
       "A7ivbDP17v5mTEfLIlATAHf2VmgDwNWXXEmu5fjds5VK6kHPr+c4Iol31lA7cGdQlTYqnk4udwi+\n",
       "O4S4EeuPWAeWbXv5S1KAzUCwQIE5vhHDoLFxLPTZSEBjdhz/WUTpNomaa+bZslp9aBAdbhkVRQbn\n",
       "G6/NPhj2QLgsluPQbbWD68fc+pz0GIichKWsKUB7XDDeamFHCsFXwILjSBqABB/w4KcoCybXv+Rg\n",
       "+a/LSDtZmGMsd7qQsNbr3BZMIqlkVHNUjvfAYIR/tLIHk9RJpjE6xUbJPw7tyjCla1fD+YSmreD1\n",
       "E3t1FueeKeH2H/Nizb9sVyXimzRNkTwEJMOnV11tPIMZprQOQKbhPt8yH7LR6zg5oFcg6posDX3u\n",
       "hTE6LmDuwOqbq03cPsuMHFMpeXUFPz6z8JJec0/TTd3FVGTIn1Jq5guCde/FCs8NMANKo6Sn/Zeg\n",
       "dyeuKgsq+700IlPhsrdN4wbi2OwVVax3SsrILOugSUCjMcQ4XkqQYMcUmk/2PuOl6ycx3+kpyxyZ\n",
       "9eSQZaKbOvQ/qi4p4Nnu+WJQxNxp+e2BrMtENRgbqy7tYi7voXfzDmCQGdqHPxT+h/GJdkqwH6zW\n",
       "kZVKnmT3rL+YMZyJMnZHlJiBR8ajwnLJ4ed8l8+AvxmP2BKvHQZ66qdDxiFoLnED0r2luE0nPeMN\n",
       "VhXEQbwH+PUUqGFXSqQW2l5ohUCQ/HgXswpYEbHR1gcBxuSEGxNHRul3QQCx7L8PTaHvcWNLPTve\n",
       "32Heb/y9a/wqnWl57r7Bibm4b6jHct3YKvv7PRiJmnyl446DH/cWPGqlZFMX9sc7wlRAxYCprBOG\n",
       "O4SKGEygi49j2I93uNznZlB2sb2b7SyQYGwAHUDidoPj9NEdJQ3qLyvKUt8gebixH5Oa1AEIZy2f\n",
       "eLPpuOJ9ChdzKTdjZ57wCZ0zSX50sIWAm34nlY6gWnGIzP4DYDFbR2G3HkkamjT7qvgvMsReHzmS\n",
       "OBykrAgABJ+DP0222AtYC7NEMCfgRYELQH6VIYHqSSFZu7C04WadjCuhi/zew/8bqNMWUJGBx+Uw\n",
       "IituUnwiIC80R2J9eNggf+KalIKej98607hCkM54Qv09E7LfKafLmXUHsUBM+csqBLR0btZqZk//\n",
       "cvLE7BFu2psPqkYAAYJYEy8iTTrgzftgcFjFcwbR9HmsEKQAWAFdhvUEaHxsHCAqAQuszTzUCf71\n",
       "KyK7C4fJ/EkYP8KjRQCJM9/Ptz/rurhZB0jl2WIhIctY9mh+p8QAWpn6c1BZaxUxIq1qGGgyok58\n",
       "wkNNJgi+1goPZ9/tjeh6U1FFziGrpiTr5sYeKNvxd7avy31xbtOCUXrqjTLdQkPlJedr6PPVw/Jt\n",
       "JpqsCj7JhYBg46B7stm6OV3XFJWkgmSPx40g6lIw0O5NUmXCSM7R44b+vm1VaHsMsCcrC6hwyxbX\n",
       "04JtPkXmin+W1y5szNbVCe13lmlVq67ag3wbn0cD9hsO8+8hxv/+wdy/7eWmoloTzlW7ChlefHyx\n",
       "/WmD6hQeJqCj8zWgA++OHGLJAecJklciLzs+RsqJqUovCFQ5SSDRhAtt728jfcrHQBcR8kFJ1sK2\n",
       "5GY30xJgfNAcxi3ytE1KwS0SOszSYkZQs8gfmXN1oCLk2mELc449V8sratUCF3qCdjXORAic6Mck\n",
       "Zsm+BnaysAo2X5AKt6rrlm0z0suUwGTtnmG2l8WhITZF/lodUOBg+RYMJckHq6C1CW7EIOVKNryA\n",
       "7QGbtsO+sEyGy//Fvog705riavgIuEb1S4OjrrtkhlySn5sNas4k7VMDvIXEpEIapjh3iPBFX5kJ\n",
       "r8N5yvKDzhMpSxYtxtvkVUva/pV91b7QpdzAIjG3//xw1ust9agwmVASFoCcb0tnAf64QZL7v99l\n",
       "PU3HMvyPEDrWidIw42OPdZeICijoKEBrIHrYnW+/X7eDABuPO6ZjJKc6+6rGUTmCPOEP3ildWpxc\n",
       "K80xIwkJ4ADubnWC4U7/6MAhQDfpz0K2YNPjEz49uuYYebLgAAAGH7Z2GzKCUbJjpGO3fwjsZvq4\n",
       "BWqO1gBZ7kZAofytgjW7nAux24Brp+PX9srltu9EXWsWeRWumZI0/PuRwVhqhgnfEl+trcZTyxrf\n",
       "MW5ZhxPagyAciGZ0oQF2+sSaoLi6PkwJPlYjgipD9YHC4MSsvLjSQcJiAAwpe2ABQ0YWCrsHYJAz\n",
       "wAkc7cCS4w4LGUWpsgfr6yVGtNRZIObAUWt8Qaj3Jp+aeyH/rh16I+FVSfwO5YIPH4G+m8IxW4vc\n",
       "CXvHg6XJWmGF3eU/4P4Gws/YX/qNJeFEP7aexOyty+3EHZg8RjLfJILMqUWkH8/fai5M5LdnLMPU\n",
       "TlTi4TNKnArPS8c8Qmc6AvC+LyUFoReIHA2VQFaLnUcsNx0xWMibrwiO+RcPs5cGf/35UIvbBN6b\n",
       "mAAUAPnBPi/0FHM9AfgxeDUc4wKt0Cp0vJytXeK3t3++FwHycKZt39s0EXwJWOZ8JxbfRXvKxoLK\n",
       "60lcXSgfJjHh6J5U/egEMHcQJ8IG90ZQ0IUPvXWUWwSG4Ax9qNtteFr2O9UMEMuM4w1k6ILltJn7\n",
       "Piv4C+czi9AALmIpAA+PDQDPMxwNjVDBFCBAHVcq6QtNOZ03AYdGdo5xHYxAQwCSLuWddg4jQdyR\n",
       "fabVI1fSItG8fSnosei0QnAxyhzA8fWFBuR7rbisnmcE85WiKjPYwbgf3lI2lnyVCIFMVpgBArOo\n",
       "ITPlek2M0XsMsw0ujkYyr26n+On73TWNXkw7oL2USaouYlcWumB39YYqI73+TC2c1AKXJmDmwnz4\n",
       "eLikX5XxmmLQ69BeHRZw9YbrW+Quu3wNrcRUeMuza9Y8IzOqldcObOuEKBWRolUEsgfolK7nQ71z\n",
       "VWxJpSh4kAq9BhyNBdFakqNlNeqALgEDQUnBaZGfZG5+kuR1VD3m48QMN2UseuY/ectjwmLpt3Wj\n",
       "1Fb404lWpWwhvmVwSw/FNRouyoNMOeZZRDUh9UdPfVaZqYwDkUoDRsnpTGzlJqX5O3WqUllkjAi9\n",
       "xkrAALgyyrS0P+/LQQ9iO1LnE++o6sJj1512evE6tRc13Sqi8s3aHI5MoFV61TAwR99BDVY5miAH\n",
       "nsPNS04+vuP77Q6JrX9uOMPDXm/X/MC4W/zGDSk+q3PneBQlJwIQR5O1k79fE+igiXVdFzECVPD/\n",
       "8DqWCRpAEwpP2tUlZDWkDJc7oubLS3ADBBdbgV6bo7+wxrP69t7UHBg6FliPvjPnnvCIuLA/QZsC\n",
       "hqySvE06EVBc/ithdPzXxJ0WWS4nja4UxipdfAoBNnHnMtnJkYFaH8zUCRhB78E5AeM3+3pEvscV\n",
       "wJhTneGOXYVVMiaxV3S3bd92pn3uzx9elg+hLXkCYWT0R67Qs0+Re2G8Se8rOxDBve8315ptrtdE\n",
       "1nu2FZwgzbYQM3EWX04+Gv7jKlOMWkKA95zEliAgIAG1BaQ1W7gpozIanh0uBWripZK2Q++XSa+b\n",
       "arVaeJTnPQsUt7RM1JbVIloRrcpAwmv2gFpet89kAj/TQeJ3AqioRim1mnt6xyS/Z4AAAAMAAAMA\n",
       "AK2BAAAAlUGaJGxCf/3xAAJN8AxvE8TAbKZWeIUP4aBtZKhpn+mXpsQCYUGbJuAdxEh2hoGg8n82\n",
       "xAc0j2IQZ7vnaWeUeZt/9PCOre6wlPC+K8MStI5M2I4vSvy4v65n0EQYj2+biEQxAmR8Vi6i5lo3\n",
       "q4qE3icmSIxmt33VPvP9QjO3ht0rMrctPZYVP9y+s1q8cinMKyLpaUY8AAAARkGeQniN/wAnxV3w\n",
       "z2/+8FIYWFiPtwyKvKk33OJVjvkeHOh/6swXGk0lUeiPN+MAqRSvRmp6eLO5m4H8wNYZveKRSF0w\n",
       "NuEAAAAxAZ5hdEX/ADIunLfNQYeW8OYN4T8dR06RqyDd2SdlPtepLP7p3TnGzE38knplTFwCXgAA\n",
       "ABcBnmNqRf8AGvz80sAAAPAKuwAAAwAHHQAAAC5BmmhJqEFomUwIT//98QAAAwKR8EWTAv/GjtSG\n",
       "OhNAPiZdF/murZ96wAAAAwGpAAAAJ0GehkURLG8AAUatUQWb1y2f/P8v7Ch27XFIbhesX1kaqZQC\n",
       "gAABdwAAABcBnqV0Rf8AADcvQwLowgMAAAMAAAMBUwAAABUBnqdqRf8AAAMAAAMAAAMAAAMAAwIA\n",
       "AAAmQZqsSahBbJlMCE///fEAAAMAAAMAB2e/bgP0KoBttvgAAAMACLgAAAAkQZ7KRRUsbwABRq1Q\n",
       "+29WkZKbQSkGPaNuAvXE1h3dX1bAAAELAAAAFQGe6XRF/wAAAwAAAwAAAwAAAwADAgAAABUBnutq\n",
       "Rf8AAAMAAAMAAAMAAAMAAwIAAAAqQZrwSahBbJlMCE///fEAAAMAAAMAB2fBvkB2JOyD4froWwPg\n",
       "AAADACLhAAAAKUGfDkUVLG8AAUatUPtvVpGSm0EpBj2jbgL2MprlLB8Uv67nyAAAAwGfAAAAFQGf\n",
       "LXRF/wAAAwAAAwAAAwAAAwADAwAAABUBny9qRf8AAAMAAAMAAAMAAAMAAwIAAAAvQZs0SahBbJlM\n",
       "CE///fEAAAMAAAMAF/9N1Sit8B+i+K4Gn3XNqv6j7kAAAAMAz4AAAAAoQZ9SRRUsbwABRq1Q+29W\n",
       "kZKbQSkGPaNuAvYyso8MbCyvBtu4AAAFBQAAABUBn3F0Rf8AAAMAAAMAAAMAAAMAAwIAAAAVAZ9z\n",
       "akX/AAADAAADAAADAAADAAMCAAAAHkGbeEmoQWyZTAhP//3xAAADAAADAAADAAADAAAi4QAAACdB\n",
       "n5ZFFSxvAAFGrVD7b1aRkptBKQY9o24C9jKyjrG0t4pNcAAAekAAAAAVAZ+1dEX/AAADAAADAAAD\n",
       "AAADAAMDAAAAFQGft2pF/wAAAwAAAwAAAwAAAwADAwAAAC1Bm7xJqEFsmUwIT//98QAAAwAAAwAH\n",
       "Z8FhAPgqz0LZ1vd26MhZEwAAAwAA44AAAAAnQZ/aRRUsbwABRq1Q+29WkZKbQSkGPaNuAvYyso6x\n",
       "tLeKTXAAAHpBAAAAFQGf+XRF/wAAAwAAAwAAAwAAAwADAgAAABUBn/tqRf8AAAMAAAMAAAMAAAMA\n",
       "AwMAAAAmQZvgSahBbJlMCE///fEAAAMAAAMAB2e/bgKCThQLS2AAAAMARcEAAAAnQZ4eRRUsbwAB\n",
       "Rq1Q+29WkZKbQSkGPaNuAvYyso6xtLeKTXAAAHpAAAAAFQGePXRF/wAAAwAAAwAAAwAAAwADAgAA\n",
       "ABUBnj9qRf8AAAMAAAMAAAMAAAMAAwMAAAAlQZokSahBbJlMCE///fEAAAMAAAMAB2eLQAigBanv\n",
       "gAAAAwCLgAAAACdBnkJFFSxvAAFGrVD7b1aRkptBKQY9o24C9jKyjrG0t4pNcAAAekEAAAAVAZ5h\n",
       "dEX/AAADAAADAAADAAADAAMCAAAAFQGeY2pF/wAAAwAAAwAAAwAAAwADAwAAAChBmmhJqEFsmUwI\n",
       "T//98QAAAwAAAwAHZ79uAoErtj7dTGWwAAADACLhAAAAJ0GehkUVLG8AAUatUPtvVpGSm0EpBj2j\n",
       "bgL2MrKOsbS3ik1wAAB6QQAAABUBnqV0Rf8AAAMAAAMAAAMAAAMAAwMAAAAVAZ6nakX/AAADAAAD\n",
       "AAADAAADAAMCAAAAHkGarEmoQWyZTAhP//3xAAADAAADAAADAAADAAAi4AAAACdBnspFFSxvAAFG\n",
       "rVD7b1aRkptBKQY9o24C9jKyjrG0t4pNcAAAekEAAAAVAZ7pdEX/AAADAAADAAADAAADAAMCAAAA\n",
       "FQGe62pF/wAAAwAAAwAAAwAAAwADAgAAAChBmvBJqEFsmUwIT//98QAAAwAAAwAHZ8JOAISQBlOI\n",
       "ei22AAADAARdAAAAKEGfDkUVLG8AAUatUPtvVpGSm0EpBj2jbgL2MrKOc1qf5WWpAAADAncAAAAV\n",
       "AZ8tdEX/AAADAAADAAADAAADAAMDAAAAFQGfL2pF/wAAAwAAAwAAAwAAAwADAgAAAB5BmzRJqEFs\n",
       "mUwIT//98QAAAwAAAwAAAwAAAwAAIuAAAAAnQZ9SRRUsbwABRq1Q+29WkZKbQSkGPaNuAvYyso6x\n",
       "tLeKTXAAAHpBAAAAFQGfcXRF/wAAAwAAAwAAAwAAAwADAgAAABUBn3NqRf8AAAMAAAMAAAMAAAMA\n",
       "AwIAAAArQZt4SahBbJlMCE///fEAAAMAAAMAB2fBYQCaDuvM8/ZvBh7RMAAAAwAOOQAAACdBn5ZF\n",
       "FSxvAAFGrVD7b1aRkptBKQY9o24C9jKyjrG0t4pNcAAAekAAAAAVAZ+1dEX/AAADAAADAAADAAAD\n",
       "AAMDAAAAFQGft2pF/wAAAwAAAwAAAwAAAwADAwAAACRBm7xJqEFsmUwIT//98QAAAwAAAwAHZ5LA\n",
       "BLPyGtgAAAMAEXAAAAAnQZ/aRRUsbwABRq1Q+29WkZKbQSkGPaNuAvYyso6xtLeKTXAAAHpBAAAA\n",
       "FQGf+XRF/wAAAwAAAwAAAwAAAwADAgAAABUBn/tqRf8AAAMAAAMAAAMAAAMAAwMAAAAoQZvgSahB\n",
       "bJlMCE///fEAAAMAAAMAB2e/bgJciBmleMy4AQAAAwACiwAAACdBnh5FFSxvAAFGrVD7b1aRkptB\n",
       "KQY9o24C9jKyjrG0t4pNcAAAekAAAAAVAZ49dEX/AAADAAADAAADAAADAAMCAAAAFgGeP2pF/wAA\n",
       "AwAAAwH8btwAAAMAAcEAAAApQZokSahBbJlMCE///fEAAAMAAAMAB2fBYQCXKhd+FlKuIMwAAAMA\n",
       "A44AAAAnQZ5CRRUsbwABRq1Q+29WkZKbQSkGPaNuAvYyso6xtLeKTXAAAHpBAAAAFgGeYXRF/wAA\n",
       "AwAAAwH7LBgAAAMAAi4AAAAWAZ5jakX/AAADAAADAfxu3AAAAwABwQAAACtBmmhJqEFsmUwIT//9\n",
       "8QAAAwAAAwAHZ8FhAJmy09tCYrcLTdPgAAADACLhAAAAJ0GehkUVLG8AAUatUPtvVpGSm0EpBj2j\n",
       "bgL2MrKOsbS3ik1wAAB6QQAAABUBnqV0Rf8AAAMAAAMAAAMAAAMAAwMAAAAVAZ6nakX/AAADAAAD\n",
       "AAADAAADAAMCAAAAHkGarEmoQWyZTAhP//3xAAADAAADAAADAAADAAAi4AAAACRBnspFFSxvAAFG\n",
       "rVD7b1aRkptBKQY9o24C9cTWHd1fVsAAAQsAAAAVAZ7pdEX/AAADAAADAAADAAADAAMCAAAAFQGe\n",
       "62pF/wAAAwAAAwAAAwAAAwADAgAAACZBmvBJqEFsmUwIT//98QAAAwAAAwAHZ79uAlw9xJ9kwAAA\n",
       "AwA44QAAACZBnw5FFSxvAAFGrVD7b1aRkptBKQY9o24C9cWw0pB7CEONAAANmQAAABUBny10Rf8A\n",
       "AAMAAAMAAAMAAAMAAwMAAAAVAZ8vakX/AAADAAADAAADAAADAAMCAAAAKUGbNEmoQWyZTAhP//3x\n",
       "AAADAAADAAdnwWEAmZww3OhuJ5MAAAMAAOOAAAAAJEGfUkUVLG8AAUatUPtvVpGSm0EpBj2jbgL1\n",
       "xNYd3V9WwAABCwAAABUBn3F0Rf8AAAMAAAMAAAMAAAMAAwIAAAAVAZ9zakX/AAADAAADAAADAAAD\n",
       "AAMCAAAAHkGbeEmoQWyZTAhP//3xAAADAAADAAADAAADAAAi4QAAACRBn5ZFFSxvAAFGrVD7b1aR\n",
       "kptBKQY9o24C9cTWHd1fVsAAAQsAAAAVAZ+1dEX/AAADAAADAAADAAADAAMDAAAAFQGft2pF/wAA\n",
       "AwAAAwAAAwAAAwADAwAAACdBm7xJqEFsmUwIT//98QAAAwAAAwAHZ79uAlsCgfdM5vgAAAMACLgA\n",
       "AAAkQZ/aRRUsbwABRq1Q+29WkZKbQSkGPaNuAvXE1h3dX1bAAAELAAAAFQGf+XRF/wAAAwAAAwAA\n",
       "AwAAAwADAgAAABUBn/tqRf8AAAMAAAMAAAMAAAMAAwMAAAAwQZvgSahBbJlMCE///fEAAAMAAAMA\n",
       "B2fBvkBJEcC/8JSEArZ/lcOQCkrYAAADABFxAAAAJEGeHkUVLG8AAUatUPtvVpGSm0EpBj2jbgL1\n",
       "xNYd3V9WwAABCwAAABUBnj10Rf8AAAMAAAMAAAMAAAMAAwIAAAAVAZ4/akX/AAADAAADAAADAAAD\n",
       "AAMDAAAAIEGaJEmoQWyZTAhP//3xAAADAAADAAdHzPwAgAAAAwFNAAAAKUGeQkUVLG8AAUatUPtv\n",
       "VpGSm0EpBj2jbgL2MyzDaONMnfUy5EAAACghAAAAFgGeYXRF/wAAAwAAAwCfOMTgAAADAQcAAAAV\n",
       "AZ5jakX/AAADAAADAAADAAADAAMDAAAAKkGaaEmoQWyZTAhP//3xAAADAAADAAdnv24BkRBzMr8f\n",
       "B+YAQAAAAwCigQAAAChBnoZFFSxvAAFGrVD7b1aRkptBKQY9o24C9jKyjnNan+VlqQAAAwJ3AAAA\n",
       "FQGepXRF/wAAAwAAAwAAAwAAAwADAwAAABUBnqdqRf8AAAMAAAMAAAMAAAMAAwIAAAAtQZqsSahB\n",
       "bJlMCE///fEAAAMAAAMAF/9N1Sit8Avy0Q9YAKlsz9jgAAADACbgAAAAJkGeykUVLG8AAUatUPtv\n",
       "VpGSm0EpBj2jbgL2Ml8nHgfjCQUAAA2ZAAAAFgGe6XRF/wAAAwAAAwH7LBgAAAMAAi4AAAAVAZ7r\n",
       "akX/AAADAAADAAADAAADAAMCAAAAHkGa8EmoQWyZTAhP//3xAAADAAADAAADAAADAAAi4QAAACRB\n",
       "nw5FFSxvAAFGrVD7b1aRkptBKQY9o24C9cTWHd1fVsAAAQsAAAAVAZ8tdEX/AAADAAADAAADAAAD\n",
       "AAMDAAAAFQGfL2pF/wAAAwAAAwAAAwAAAwADAgAAACpBmzRJqEFsmUwIT//98QAAAwAAAwAHZ8JO\n",
       "AFVnAd5vfcbectgAAAMAEXAAAAAnQZ9SRRUsbwABRq1Q+29WkZKbQSkGPaNuAvXFsL1Bag8BWeqA\n",
       "AAbNAAAAFQGfcXRF/wAAAwAAAwAAAwAAAwADAgAAABYBn3NqRf8AAAMAAAMAn2dGAAADAAHHAAAA\n",
       "J0GbeEmoQWyZTAhP//3xAAADAAADAAdnv24Bo1G+Q46pvgAAAwACLwAAACdBn5ZFFSxvAAFGrVD7\n",
       "b1aRkptBKQY9o24C9cWsPT/N0CUc6AAAbMAAAAAVAZ+1dEX/AAADAAADAAADAAADAAMDAAAAFQGf\n",
       "t2pF/wAAAwAAAwAAAwAAAwADAwAAACtBm7xJqEFsmUwIT//98QAAAwAAAwAHZ8FhAGt+kil6aGOT\n",
       "xhJgAAADABxwAAAAJEGf2kUVLG8AAUatUPtvVpGSm0EpBj2jbgL1xNYd3V9WwAABCwAAABUBn/l0\n",
       "Rf8AAAMAAAMAAAMAAAMAAwIAAAAVAZ/7akX/AAADAAADAAADAAADAAMDAAAAJkGb4EmoQWyZTAhP\n",
       "//3xAAADAAADAAdnv24BopKiAmTAAAADADjhAAAAJEGeHkUVLG8AAUatUPtvVpGSm0EpBj2jbgL1\n",
       "xNYd3V9WwAABCwAAABUBnj10Rf8AAAMAAAMAAAMAAAMAAwIAAAAVAZ4/akX/AAADAAADAAADAAAD\n",
       "AAMDAAAAKUGaJEmoQWyZTAhP//3xAAADAAADAAdnv24Boyg0aYgZkwZYAAADABTQAAAAJkGeQkUV\n",
       "LG8AAUatUPtvVpGSm0EpBj2jbgL1xbDSkHsIQ40AAA2ZAAAAFQGeYXRF/wAAAwAAAwAAAwAAAwAD\n",
       "AgAAABUBnmNqRf8AAAMAAAMAAAMAAAMAAwMAAAAqQZpoSahBbJlMCE///fEAAAMAAAMAB2fBYQBr\n",
       "mgoZCO52s+M+AAADAAIvAAAAJEGehkUVLG8AAUatUPtvVpGSm0EpBj2jbgL1xNYd3V9WwAABCwAA\n",
       "ABUBnqV0Rf8AAAMAAAMAAAMAAAMAAwMAAAAVAZ6nakX/AAADAAADAAADAAADAAMCAAAAKkGarEmo\n",
       "QWyZTAhP//3xAAADAAADAAdnv24Bona8+g+ZhNt68AAAAwA9YAAAACZBnspFFSxvAAFGrVD7b1aR\n",
       "kptBKQY9o24C9cWrnFL7CEONAAANmQAAABYBnul0Rf8AAAMAAAMAnu/rQAAAAwIOAAAAFQGe62pF\n",
       "/wAAAwAAAwAAAwAAAwADAgAAACpBmvBJqEFsmUwIT//98QAAAwAAAwAHZ8FhAGugUrLwynxUT4AA\n",
       "AAMAi4EAAAAmQZ8ORRUsbwABRq1Q+29WkZKbQSkGPaNuAvXFrA4KgBpSRYAAATsAAAAVAZ8tdEX/\n",
       "AAADAAADAAADAAADAAMDAAAAFgGfL2pF/wAAAwAAAwCfZ0YAAAMAAccAAAAsQZs0SahBbJlMCE//\n",
       "/fEAAAMAAAMAB2fCTgBYz6SIlUn8gZJpdysAAAMAAi4AAAAnQZ9SRRUsbwABRq1Q+29WkZKbQSkG\n",
       "PaNuAvXFrD0/zdAlHOgAAGzBAAAAFgGfcXRF/wAAAwAAAwCe7+tAAAADAg4AAAAWAZ9zakX/AAAD\n",
       "AAADAJ9nRgAAAwABxwAAACdBm3hJqEFsmUwIT//98QAAAwAAAwAHZ79uAS6gPBACb4AAAAMAi4EA\n",
       "AAAnQZ+WRRUsbwABRq1Q+29WkZKbQSkGPaNuAvXFrD0/zdAlHOgAAGzAAAAAFgGftXRF/wAAAwAA\n",
       "AwCe7+tAAAADAg8AAAAWAZ+3akX/AAADAAADAJ9nRgAAAwABxwAAAC5Bm7xJqEFsmUwIT//98QAA\n",
       "AwAAAwAHZ8FhAE6Ji5T7SyDr++ute+kwAAADAA44AAAAJ0Gf2kUVLG8AAUatUPtvVpGSm0EpBj2j\n",
       "bgL1xaw9P83QJRzoAABswQAAABUBn/l0Rf8AAAMAAAMAAAMAAAMAAwIAAAAXAZ/7akX/AAADAAAD\n",
       "AfCBi3UAAAMAAd0AAAApQZvgSahBbJlMCE///fEAAAMAAAMAB2e/bgEuiMsaIGZMGWAAAAMAU0EA\n",
       "AAAmQZ4eRRUsbwABRq1Q+29WkZKbQSkGPaNuAvXFq5xS+whDjQAADZgAAAAWAZ49dEX/AAADAAAD\n",
       "AJ7v60AAAAMCDgAAABYBnj9qRf8AAAMAAAMB8IG4AAADAAObAAAAKUGaJEmoQWyZTAhP//3xAAAD\n",
       "AAADAAdnwk4AQIxr4i3xUW2wAAADACLgAAAAJkGeQkUVLG8AAUatUPtvVpGSm0EpBj2jbgL1xauc\n",
       "UvsIQ40AAA2ZAAAAFQGeYXRF/wAAAwAAAwAAAwAAAwADAgAAABUBnmNqRf8AAAMAAAMAAAMAAAMA\n",
       "AwMAAAAnQZpoSahBbJlMCE///fEAAAMAAAMAB2e/bgEwApzZb8b4AAADAAi5AAAAJkGehkUVLG8A\n",
       "AUatUPtvVpGSm0EpBj2jbgL1xawOCoAaUkWAAAE7AAAAFQGepXRF/wAAAwAAAwAAAwAAAwADAwAA\n",
       "ABUBnqdqRf8AAAMAAAMAAAMAAAMAAwIAAAAqQZqsSahBbJlMCE///fEAAAMAAAMAB2fBYQBO4uLu\n",
       "4xI+uHsmAAADAAHHAAAAJ0GeykUVLG8AAUatUPtvVpGSm0EpBj2jbgL1xbC+TS9jwFZ6oAABswAA\n",
       "ABUBnul0Rf8AAAMAAAMAAAMAAAMAAwIAAAAVAZ7rakX/AAADAAADAAADAAADAAMCAAAAKkGa8Emo\n",
       "QWyZTAhP//3xAAADAAADAAdnwWEAa8UbF30NbpwSAQAAAwACiwAAACRBnw5FFSxvAAFGrVD7b1aR\n",
       "kptBKQY9o24C9cTWHd1fVsAAAQsAAAAVAZ8tdEX/AAADAAADAAADAAADAAMDAAAAFQGfL2pF/wAA\n",
       "AwAAAwAAAwAAAwADAgAAAC1BmzRJqEFsmUwIT//98QAAAwAAAwAHZ8FhAGvBHiiTsGdgeLJghMAA\n",
       "AAMAOOAAAAAmQZ9SRRUsbwABRq1Q+29WkZKbQSkGPaNuAvXFq5xS+whDjQAADZkAAAAVAZ9xdEX/\n",
       "AAADAAADAAADAAADAAMCAAAAFQGfc2pF/wAAAwAAAwAAAwAAAwADAgAAAClBm3hJqEFsmUwIT//9\n",
       "8QAAAwAAAwAHZ79uAaMeDN6Z9n4AQAAAAwCigQAAACZBn5ZFFSxvAAFGrVD7b1aRkptBKQY9o24C\n",
       "9cWsDgqAGlJFgAABOwAAABUBn7V0Rf8AAAMAAAMAAAMAAAMAAwMAAAAVAZ+3akX/AAADAAADAAAD\n",
       "AAADAAMDAAAAK0GbvEmoQWyZTAhP//3xAAADAAADAAdnwWEAa8dxfNojARd8vp8AAAMAARcAAAAk\n",
       "QZ/aRRUsbwABRq1Q+29WkZKbQSkGPaNuAvXE1h3dX1bAAAELAAAAFQGf+XRF/wAAAwAAAwAAAwAA\n",
       "AwADAgAAABUBn/tqRf8AAAMAAAMAAAMAAAMAAwMAAAAvQZvgSahBbJlMCE///fEAAAMAAAMAB2fC\n",
       "TgBYdCLGFctmI0EjrQJJb14AAAMAB60AAAAmQZ4eRRUsbwABRq1Q+29WkZKbQSkGPaNuAvYv/eSD\n",
       "jSV/boAAAXcAAAAWAZ49dEX/AAADAAADAJ7v60AAAAMCDgAAABUBnj9qRf8AAAMAAAMAAAMAAAMA\n",
       "AwMAAAAhQZokSahBbJlMCE///fEAAAMAAAMAFzzlXFTrgAAAAwELAAAAJEGeQkUVLG8AAUatUPtv\n",
       "VpGSm0EpBj2jbgL1xNYd3V9WwAABCwAAABUBnmF0Rf8AAAMAAAMAAAMAAAMAAwIAAAAVAZ5jakX/\n",
       "AAADAAADAAADAAADAAMDAAAAJEGaaEmoQWyZTAhP//3xAAADAAADABc85VvWaPxjHAAAAwAFBQAA\n",
       "ACZBnoZFFSxvAAFGrVD7b1aRkptBKQY9o24C9jGewScBnoGMAAAekQAAABYBnqV0Rf8AAAMAAAMB\n",
       "+ywYAAADAAIvAAAAFQGep2pF/wAAAwAAAwAAAwAAAwADAgAAAClBmqxJqEFsmUwIT//98QAAAwAA\n",
       "AwAXPx9XmXx4AbbuTdttwAAAAwCFgAAAACZBnspFFSxvAAFGrVD7b1aRkptBKQY9o24C9jGewScB\n",
       "noGMAAAekQAAABUBnul0Rf8AAAMAAAMAAAMAAAMAAwIAAAAVAZ7rakX/AAADAAADAAADAAADAAMC\n",
       "AAAAKEGa8EmoQWyZTAhP//3xAAADAAADABc2xf73IAb/R/+TSXAAAAMAOWEAAAAnQZ8ORRUsbwAB\n",
       "Rq1Q+29WkZKbQSkGPaNuAvYyso6xtLeKTXAAAHpBAAAAFQGfLXRF/wAAAwAAAwAAAwAAAwADAwAA\n",
       "ABUBny9qRf8AAAMAAAMAAAMAAAMAAwIAAAAnQZs0SahBbJlMCE///fEAAAMAAAMAFzYmNN3gF0ux\n",
       "A9uXAAADAAOWAAAAJkGfUkUVLG8AAUatUPtvVpGSm0EpBj2jbgL2MZ7BJwGegYwAAB6RAAAAFQGf\n",
       "cXRF/wAAAwAAAwAAAwAAAwADAgAAABUBn3NqRf8AAAMAAAMAAAMAAAMAAwIAAAAsQZt4SahBbJlM\n",
       "CE///fEAAAMAAAMAF1dSOiDungBQc6r2QS97tuAAAAMAQsEAAAAmQZ+WRRUsbwABRq1Q+29WkZKb\n",
       "QSkGPaNuAvYxnsEnAZ6BjAAAHpAAAAAVAZ+1dEX/AAADAAADAAADAAADAAMDAAAAFQGft2pF/wAA\n",
       "AwAAAwAAAwAAAwADAwAAAClBm7xJqEFsmUwIT//98QAAAwAAAwAX2G0oX1gPtGtSRdtDgAAAAwDP\n",
       "gAAAACRBn9pFFSxvAAFGrVD7b1aRkptBKQY9o24C9cTWHd1fVsAAAQsAAAAVAZ/5dEX/AAADAAAD\n",
       "AAADAAADAAMCAAAAFQGf+2pF/wAAAwAAAwAAAwAAAwADAwAAAC1Bm+BJqEFsmUwIT//98QAAAwAA\n",
       "AwAXNjxwGcB8/2uP3NQR50Bn1pcAAAMAAUEAAAAkQZ4eRRUsbwABRq1Q+29WkZKbQSkGPaNuAvXE\n",
       "1h3dX1bAAAELAAAAFQGePXRF/wAAAwAAAwAAAwAAAwADAgAAABUBnj9qRf8AAAMAAAMAAAMAAAMA\n",
       "AwMAAAAuQZokSahBbJlMCE///fEAAAMAAAMAFzbSroB7YurExH2d6dkphTv6nAAAAwAFBAAAACRB\n",
       "nkJFFSxvAAFGrVD7b1aRkptBKQY9o24C9cTWHd1fVsAAAQsAAAAVAZ5hdEX/AAADAAADAAADAAAD\n",
       "AAMCAAAAFQGeY2pF/wAAAwAAAwAAAwAAAwADAwAAAC9BmmhJqEFsmUwIT//98QAAAwAAAwAXNnTh\n",
       "APgKn7TjzJ6o/9L/HFUpcAAAAwA5YQAAACRBnoZFFSxvAAFGrVD7b1aRkptBKQY9o24C9cTWHd1f\n",
       "VsAAAQsAAAAVAZ6ldEX/AAADAAADAAADAAADAAMDAAAAFQGep2pF/wAAAwAAAwAAAwAAAwADAgAA\n",
       "ADxBmqxJqEFsmUwIT//98QAAAwAAAwAXNnThAKNKjRZkNM7oaZCK0YUIDS3l14kCjZoUjUT2DsIA\n",
       "AAMACFgAAAAkQZ7KRRUsbwABRq1Q+29WkZKbQSkGPaNuAvXE1h3dX1bAAAELAAAAFQGe6XRF/wAA\n",
       "AwAAAwAAAwAAAwADAgAAABUBnutqRf8AAAMAAAMAAAMAAAMAAwIAAAArQZrwSahBbJlMCE///fEA\n",
       "AAMAAAMAFzZ04QCjk4Ij8thxizl3wAAAAwAW0QAAACRBnw5FFSxvAAFGrVD7b1aRkptBKQY9o24C\n",
       "9cTWHd1fVsAAAQsAAAAVAZ8tdEX/AAADAAADAAADAAADAAMDAAAAFQGfL2pF/wAAAwAAAwAAAwAA\n",
       "AwADAgAAAC9BmzRJqEFsmUwIT//98QAAAwAAAwAXNnLuAn0bMj2OXv0Q9N5t52EFIAAAAwAYUAAA\n",
       "ACRBn1JFFSxvAAFGrVD7b1aRkptBKQY9o24C9cTWHd1fVsAAAQsAAAAVAZ9xdEX/AAADAAADAAAD\n",
       "AAADAAMCAAAAFQGfc2pF/wAAAwAAAwAAAwAAAwADAgAAAC9Bm3hJqEFsmUwIT//98QAAAwAAAwAX\n",
       "NtMJgCjiIv4zSeFtlupL8KX3wAAAAwAW0QAAACRBn5ZFFSxvAAFGrVD7b1aRkptBKQY9o24C9cTW\n",
       "Hd1fVsAAAQsAAAAVAZ+1dEX/AAADAAADAAADAAADAAMDAAAAFQGft2pF/wAAAwAAAwAAAwAAAwAD\n",
       "AwAAABxBm7lJqEFsmUwIv/pYAAADAAADAAADAAADAAGrAAAOhWWIggAM//727L4FNf2f0JcRLMXa\n",
       "SnA+KqSAgHc0wAAAAwAAAwAAAwAqRzn05uPi9otAAAADAtoArwIxF/hdbEK4AIadFMr4tjzVMnhc\n",
       "dGWfPpy/OXteFmGWGf6v0Jxn+XzmCgbPkFyTbSSUU03AALsjgaM0KvwwXMUFTDCMU2EMlxZkkEO6\n",
       "MFvCYkSEXrl3m8tjo+ZGLFkNM0uc0ppMIdYWrchTYt/iEWReV+tPp5X2tfo2sdzgqu33k4o9c4Jh\n",
       "enon1qtuaywjUGyFYnHhoaa25zX0b7jI3BkQ/FasTskbWE0G4HvoYSeukzHdOHI6oFB+mz+nr/jO\n",
       "jdIbfayL/UuzY9SfL+9RoT9xNfytpED+lXKCS8XqEQKhbbpzjvgwesd90FdX0gvn1l0Tl6zbKjqZ\n",
       "f5wu6b8QWMWLvd2+twU+YJ223rVv2Cm4zkfV/DQ90AA9BILfEPchlT2VWzZ290Yf5pryCQwwEnyg\n",
       "6vKz8tAXGGEFadtlJXcePQI1+FcqGHqiN2aaJhRN2ZpzPDQgiAI6qNBJ6DVgAgJ1FmW6lDoB6Jss\n",
       "ndAt5rsXzkubZXyGFGY9z/6ckF988ec24X8a6ivgynSBK9PNMgz7IMJVVa25/bJbJTYcORwnr/nR\n",
       "E1dhGUfS15V7/OqcFtQ66fLcoETnmtXU/deDS3pnTtIvbvkFMNwWb9JqYdQxtEfjMNeGlPjpo5vm\n",
       "iyQmhnB9hxRM21bv6fkVdSIOF6GEVjFDhCiuG16k+sK13cpj0qYOph+xN6Yq4/zNaDN1HJ3a1PbE\n",
       "F0lXJBTsEZQ/42vZpivLF4s9nuBUtdY8ooe8ec9xz6IESDSFAOkH+LNTrgVdaiF85NaYlLNv1Cn/\n",
       "Oe30n0rwlBXufj5YitoZmLSZHlXSfqwQJt2FYVSjgKeHTFsB76heM/SlPjyp2l4i6w67jbU6w+p/\n",
       "HagfXbJ5Is9oAZCIIWvdkACkTC5/RCviTMs4Qs+jnKW62QsgeZifNlDgoe1xT0zPOwr7l3b9oUVN\n",
       "4Wlb0+NrhjVzSAs09JdYhDp28W/oRoFFPNy4lJw5Yd/o3verL5MZJ505QTPQ7vXN4CKj2s4E98Pa\n",
       "IPcZ7gnbpC6z8y4p3KeS97mtNqvUdLtZxOijWH2cgppgX8wkQ9zlSt5ntms8iOG5Z9lACxY/sraV\n",
       "VlAqYIehIquCLYtdKImyH/R/Ai7CUC44/eKvMBKy6G5Rs7p/NSYtJzTR94aBjbTT30TqE/5mv+cp\n",
       "Nh+AgcZYCofshNb2t4iYV69ntEjWpCLyEmEQfdR8Sh4zKMIp6xAJv5pXxmDEPLmHDJoDC5LmEKcj\n",
       "q7Fz2HRjzpKwihpHzEPTke8uNXEFMcK2mYyueqDL0prVd2K9F4HqX6w+g70W1ae6T38WPYRuGBEI\n",
       "1rAJsC5e8bkaIuCbu8T9b7G3x0RcoG5/NS00WkCFwEjsx0nxbU4kPZZYYCBk/NqFZlvNjEmEIvjl\n",
       "xiURDd5weNSVecUPq4dLZNZVMkibH/VhCpVFzkbt/5fgb6GOVqV5GyOGF3+PmZszxwog81//1skt\n",
       "OTE9Qd32TtJPVhag78UtnQezDiZJW5VpGuz/KsHg6yGPEavOO9TzqcbZEgnX3xi/+FOP1q/wIAjH\n",
       "aioeYlQPYqz5WWImDSoVueMeL1uNpwXQOhk8vUxTquqHfUW233E8Nt1dcBeR95xEkoQDPZlAYqAP\n",
       "ormmCwjrooBnjVCV7HKCi1f237m9Dp9rWhdGNyX25RbtO0BmWWHPFauz8OF5aHvQuuLsH16eJejW\n",
       "7nzQ1BqxMMdCTezLTJbqpkqSBr88ebX8HClZ35L5L1Bl6U1qqEn3Sc71L9YfQd6LOLnaA7Pg4DWw\n",
       "WNTbLcMJIAXL3hi7PIIN7HqM9It30LAh0Dc/mpadM4CvsyA6EDqoLgpmZXmC6eO8h4OMkGY8jS25\n",
       "y3d/gY/wkOjlsTcp/2Bz0BNvSLMiQJdrMSeuaYVi3hnoNecif0mcEo+yNJdi2V2OAOQAEC7TL5mz\n",
       "j0oEdfKBozKiaszFTWp+imfE1iABvYT5TDhy9gsJrxBf/Xu48xEn/vFdZZMncEAUPRfF0haRGszj\n",
       "kNNtp8y8+4P9HlVgSBrsfqv6jOMEjBpX41EVBzM6m2zYBRGm7M4VkvECROG2AkiWvrWf/PtNtQOY\n",
       "zEFtHs+e+8n/R0t4g7LCj6wdACIdb8oZ9uqKQbSExL+rJZ7Hq1FgDlsZ0EQhq31/QpB5FiH3xwka\n",
       "D8HmoL0kI0yScqhyAg8zdleLVxaedgGLNm1YGBpUDfDJYIPyTH1tJVDYxmYgjvPvhWlT1IdGfyrM\n",
       "0oZEzXAjmhEJrVOp1z7Ls6nwhSjo65QdvLhhcgTYwi7pvZgJEMjeZ5r8BKoD2eLul/RN2CciQMS/\n",
       "0dB6ZltKE6/UUS7er3T007ziSm4DVCvox4vY6/xpNnuLViWf8MZMBgf/4LeTSwuRapeEUExg9PZ3\n",
       "50XMP4JDSTTt/Y6gbVjrSRU3XTooiyX6YDEqvVdVNF4hOee/M6RuOKoav2AVM8YOnJP9lSaeyZor\n",
       "wUfnh4J82k/bNS9JaXpEwh5aMcmsElmKgG16doGgejrlbOAQb++2hfWQB22fpg3E8jJm3/WRhmy8\n",
       "V0XS7kAE26HWPgbFrbAcFYZhfLZ05AIkdC9Y3EAL4Q38AAADAA7dqafC0Q+sUssZuFJDvNQ4elam\n",
       "y5dId/fsVdgBbRnsVWkrg/JsQCvyu1Jwc1rf+bAQaC7j6vlcb1aL7vT5s5lEE12Ie462fyK0r8Bt\n",
       "rO3elBlGF4zWbhGyM0JXixedRdB/+7V0j9q05wUVpPgJszm7MwgngSTo/3e+Al/zKNfbUXintO7O\n",
       "XSGITQGI+MD1OnlRL4FlPyFkbkVtOgy8HIlgzs82VeEOQeDdzwoXS3ZoY0mthm8S3MinX85+4CyF\n",
       "qL+S45zWSd7sHMSnqVGf7t2iG9TTUkNbQx7NOiAFbmiCPgeeCdoASO2z3GJtaWFTAmk/rdOUQeyQ\n",
       "ubTybX7uzC4hgakvcniMuwYEQ3WZuD8q4No9bkadBkCbQYjCGEAAthV0wHyntu0Tt77e4ayydUQE\n",
       "wCh+UaABaC8FAWhNegOb/WgNnNugX24fKJ/NBwjuz2LW+hG7UCfILrmkEQskikSQX6XQkmhA9pzW\n",
       "PVY0oq//iRHvAWHExZvYtZm/bouNB/qmWey0vvTglSxxMPqgDnO+Na+M2ayA6W+W8OV3pAABQ7B8\n",
       "FhPOLfACHAi4C6lyoGW5cgQSbP39/jIiYvXooKugkAdU1yqBFBNneNLIRKvxlOh10ynfqmILoAR6\n",
       "sUvdoKEoekHBl+imaOF3ftCRhxgOnbEp6iQQzWsn5ZSyw2H2cFzM4N4J237iiIyW+dpQOiix1hZc\n",
       "50r76PMAV6Nye3xNiMDQfs7FcFDeAzfjogaXi4Wg68T7Z0H+Wb/4+CaEefzNR0Y2qbTeoTqIRCe0\n",
       "Yn/A9f3BrlXqrbvR/mf+RJo9QgcO5NQ1y+PWzrWlgTCvZbz7ZON4UO2t+JY71Acpul8VXC7MuZII\n",
       "n9vNWoB+unfWSuvoATAnjrAdRZV29A89qLPxH5mQg5BnPGR8oLj2yKs7LGsby1DOyJVk67/iiWZb\n",
       "tl1tGjYmMsjFg/XELZEsl9Z3/Sl+ea0hQFvepN2RU2vrEbfi/03cRidM6C3tgJYxPQilmRFlTzsx\n",
       "13fZa/Q0Vi/2QhYj8nFginkWaZ5kPA/xfIDoF0APS3dAX3iQTuA0p5XyVO8Z+00lKBAA51TzAM/t\n",
       "2bJ2ZHTNZoIqL10BzyhF+y/AFo3NNTURrK80wi4IO6AeHsy1vqW0sVOUcibEUMNXYcBfxrvl3MFw\n",
       "onh1jkzm8uMsJMMIphdOkUwamJMcJ19fgIN/gaxQAAQ2pgABI9NsDsb5wPIT4BASrQGb/y+E9M4N\n",
       "j3YY5lSepPwnTEnb3mwFgk8laGZsyq2hGuZA3ivmG90+TA5FnkixT8Vhc0kOxIk82QdCBCIQjAZT\n",
       "xBN2ugdHOW4KjkAk29QQWfiIM0TggAcQKuAFFV2Alk3NqTVjyfnRR7cMAtFLW/7f66FogK6bvdRK\n",
       "5UuxXKFWiTLvuPpVFp06GMG768t5cJslp+TTUqR9FudiqVpVU+6YFzJmKEUQJk54RL45NjQsMXT5\n",
       "bX5pcafE0gLZhmaiUykAbTrPn9QjmUnVxOiW+p/nHvov2AkIR0D1tpp9j+CsDt51PckOp12JNkVY\n",
       "IzzK7s3cRI0dFJzt0K9I5jO4whzWBhFKlQYaD7vBoSE73FMLuzCgH+tUyMVE4AOYwo/p6wh4z8r6\n",
       "GLsF3061i4TvMXIMiiIFM48OGa+dkUGpX2uc75l6hpscOBzuNBYnPht5Vbws70u+pEGGRt2+d+Cx\n",
       "+GDQK34ABFo3NOYOK7sVaPVSIhSnJRLDnM49EZLRXEhk04Y1kVquF34HGLvthBXkGyQgIT1E590a\n",
       "LL+Ocrd5kgoqfZTKqGgCNFyJv7ej/9i7a1QagiVntRqwByokOdGKee2yZq/kzFA+HqXXopWnxXVS\n",
       "O1/s2fvLoiYU2yRDyZewhvS9g/+nZuwzuejPWsgVkyohYF8tmZnCYV9Gmc6XSCVmwzXIvVQP4787\n",
       "WIlHXjofm9J01+dTN+12c3jnd0CYn1wQzwuw9iUNB/2qGGAkSmusSnwq0fn2YmlpxW4Trzd2vrrR\n",
       "6ChR6B8jgOFbftuGxeCCLH6x75hRagZx4jefkInlDlGdk9dxW1mfyoXqPmyNHX+tP9YP0PMj4Nmf\n",
       "W7oXTZ+vMrBTtWk2oY0FuQp59tN/FcTKAmy0FqptS+c5azdqV7AcEqBZk44IZiiUCa59JVNM2LVc\n",
       "hDGEhYx0n6Z6LD8XWCsBwgGTB8ex2xoasNWZ3K2LRZnaVIJ2lZ9khrr+nvzdYXDxQFeUv7ScHs8V\n",
       "+ppRFAUTYrpSNP7w2FI+i0nDO4D8VrHfHbdOznNSZehpWlKMENkApwAAAwAAAwAoIQAAAC5BmiRs\n",
       "Qn/98QAAAwAAAwAXRoyMALSrQzbxUfAAAAMDzy11DujIaUn9ogvuE0qgAAAAGkGeQniN/wAAAwAA\n",
       "AwAAAwAAAwGIGO3kYVpJAAAAFQGeYXRF/wAAAwAAAwAAAwAAAwADAwAAABUBnmNqRf8AAAMAAAMA\n",
       "AAMAAAMAAwIAAAAyQZpoSahBaJlMCE///fEAAAMAAAMAFzZ04QBtKFsPymSzud8+WgXWc71qhcAA\n",
       "AAMA5YAAAAAbQZ6GRREsbwAAAwAAAwAAAwAAAwGIGO3kYVpJAAAAFQGepXRF/wAAAwAAAwAAAwAA\n",
       "AwADAgAAABUBnqdqRf8AAAMAAAMAAAMAAAMAAwMAAAApQZqsSahBbJlMCE///fEAAAMAAAMAF0SY\n",
       "LcA1D079bIqiWAIAAAMAAaMAAAAbQZ7KRRUsbwAAAwAAAwAAAwAAAwGIGO3kYVpJAAAAFQGe6XRF\n",
       "/wAAAwAAAwAAAwAAAwADAwAAABUBnutqRf8AAAMAAAMAAAMAAAMAAwMAAAA5QZrwSahBbJlMCE//\n",
       "/fEAAAMAAAMAFzjsM4AhEViDUjNNpWsS8YHS3zaCUcUgiI2OCPscML6oAAGtAAAAG0GfDkUVLG8A\n",
       "AAMAAAMAAAMAAAMBiBjt5GFaSAAAABUBny10Rf8AAAMAAAMAAAMAAAMAAwIAAAAVAZ8vakX/AAAD\n",
       "AAADAAADAAADAAMDAAAALUGbNEmoQWyZTAhP//3xAAADAAADABc6hJgCkmRfIx05gvKHYmXSYAAA\n",
       "AwAJOAAAABtBn1JFFSxvAAADAAADAAADAAADAYgY7eRhWkgAAAAVAZ9xdEX/AAADAAADAAADAAAD\n",
       "AAMDAAAAFQGfc2pF/wAAAwAAAwAAAwAAAwADAwAAAC9Bm3hJqEFsmUwIT//98QAAAwAAAwAXRhs7\n",
       "CAUZ4JjzoQZIqskL+jUUmAAAAwACTwAAABtBn5ZFFSxvAAADAAADAAADAAADAYgY7eRhWkgAAAAV\n",
       "AZ+1dEX/AAADAAADAAADAAADAAMCAAAAFQGft2pF/wAAAwAAAwAAAwAAAwADAwAAAC9Bm7xJqEFs\n",
       "mUwIT//98QAAAwAAAwAXNnThAKNM1YcSlxxf1tgK12KACAAAAwAGjAAAABtBn9pFFSxvAAADAAAD\n",
       "AAADAAADAYgY7eRhWkgAAAAVAZ/5dEX/AAADAAADAAADAAADAAMDAAAAFQGf+2pF/wAAAwAAAwAA\n",
       "AwAAAwADAgAAACBBm+BJqEFsmUwIT//98QAAAwAAAwAXRsyY+AAAAwAC2wAAABtBnh5FFSxvAAAD\n",
       "AAADAAADAAADAYgY7eRhWkkAAAAVAZ49dEX/AAADAAADAAADAAADAAMCAAAAFQGeP2pF/wAAAwAA\n",
       "AwAAAwAAAwADAwAAAChBmiRJqEFsmUwIT//98QAAAwAAAwAXRs4vAC0W5OBfKyYAAAMAAJOAAAAA\n",
       "G0GeQkUVLG8AAAMAAAMAAAMAAAMBiBjt5GFaSQAAABUBnmF0Rf8AAAMAAAMAAAMAAAMAAwMAAAAV\n",
       "AZ5jakX/AAADAAADAAADAAADAAMCAAAAKUGaaEmoQWyZTAhP//3xAAADAAADABdDvZlgBsTrtzxS\n",
       "lrwIAAADAAaMAAAAG0GehkUVLG8AAAMAAAMAAAMAAAMBiBjt5GFaSQAAABUBnqV0Rf8AAAMAAAMA\n",
       "AAMAAAMAAwIAAAAVAZ6nakX/AAADAAADAAADAAADAAMDAAAAKUGarEmoQWyZTAhP//3xAAADAAAD\n",
       "ABc2WBgBPxGuG4mIeYNgAAADABbQAAAAG0GeykUVLG8AAAMAAAMAAAMAAAMBiBjt5GFaSQAAABUB\n",
       "nul0Rf8AAAMAAAMAAAMAAAMAAwMAAAAVAZ7rakX/AAADAAADAAADAAADAAMDAAAAIEGa8EmoQWyZ\n",
       "TAhP//3xAAADAAADABdDvNK2AAADAAFtAAAAG0GfDkUVLG8AAAMAAAMAAAMAAAMBiBjt5GFaSAAA\n",
       "ABUBny10Rf8AAAMAAAMAAAMAAAMAAwIAAAAVAZ8vakX/AAADAAADAAADAAADAAMDAAAAKEGbNEmo\n",
       "QWyZTAhP//3xAAADAAADABdGzi8AILA1ZPf5DfAAAAMABbQAAAAbQZ9SRRUsbwAAAwAAAwAAAwAA\n",
       "AwGIGO3kYVpIAAAAFQGfcXRF/wAAAwAAAwAAAwAAAwADAwAAABUBn3NqRf8AAAMAAAMAAAMAAAMA\n",
       "AwMAAAArQZt4SahBbJlMCE///fEAAAMAAAMAF0a7zhAE9hAJACqdU02+AAADAAC2gQAAABtBn5ZF\n",
       "FSxvAAADAAADAAADAAADAYgY7eRhWkgAAAAVAZ+1dEX/AAADAAADAAADAAADAAMCAAAAFQGft2pF\n",
       "/wAAAwAAAwAAAwAAAwADAwAAACVBm7xJqEFsmUwIT//98QAAAwAAAwAXRmz8ACV4cWFsAAADAALa\n",
       "AAAAG0Gf2kUVLG8AAAMAAAMBiJIHQAAAd8BsMupbyAAAABUBn/l0Rf8AAAMAAAMAAAMAAAMAAwMA\n",
       "AAAWAZ/7akX/AAADAAADAeZu3AAAAwAB1wAAACtBm+BJqEFsmUwIT//98QAAAwAAAwAXRruxgBBW\n",
       "E8R3V3vncvXgAAADAChhAAAAG0GeHkUVLG8AAAMAAAMBiP5HoAAAO9eJHfUt5QAAABYBnj10Rf8A\n",
       "AAMAAAMB5SwYAAADAAJOAAAAFgGeP2pF/wAAAwAAAwHmbtwAAAMAAdcAAAArQZokSahBbJlMCE//\n",
       "/fEAAAMAAAMAFzZYGAE9rdvoP2LoS7jTRAAAAwAEHAAAABtBnkJFFSxvAAADAAADAYj+R6AAADvX\n",
       "iR31LeUAAAAWAZ5hdEX/AAADAAADAeUsGAAAAwACTwAAABYBnmNqRf8AAAMAAAMB5m7cAAADAAHX\n",
       "AAAALUGaaEmoQWyZTAhP//3xAAADAAADABdDvaR4Anta5q89Ci5iLc1ysAAAAwALaAAAABtBnoZF\n",
       "FSxvAAADAAADAYj+R6AAADvXiR31LeUAAAAXAZ6ldEX/AAADAAADAeVZSwAAAwAAdcAAAAAVAZ6n\n",
       "akX/AAADAAADAAADAAADAAMDAAAAL0GarEmoQWyZTAhP//3xAAADAAADABdGzoXACCvsQG0ACUE5\n",
       "1oZQDrlYAAADAAW0AAAAG0GeykUVLG8AAAMAAAMAeWaPQAABgQjGi3FvIQAAABUBnul0Rf8AAAMA\n",
       "AAMAAAMAAAMAAwMAAAAVAZ7rakX/AAADAAADAAADAAADAAMDAAAAKUGa8EmoQWyZTAhP//3xAAAD\n",
       "AAADABdGzi8AILE/9Zufx8BAAAADADRhAAAAG0GfDkUVLG8AAAMAAAMBiJIHQAAAd8BsMupbyAAA\n",
       "ABUBny10Rf8AAAMAAAMAAAMAAAMAAwIAAAAVAZ8vakX/AAADAAADAAADAAADAAMDAAAAL0GbNEmo\n",
       "QWyZTAhP//3xAAADAAADABdGu84QBPXyfe45CtaZAvPX7FsAAAMAALaAAAAAHEGfUkUVLG8AAAMA\n",
       "AAMBh+FVAAADAWZVxotxbyAAAAAVAZ9xdEX/AAADAAADAAADAAADAAMDAAAAFQGfc2pF/wAAAwAA\n",
       "AwAAAwAAAwADAwAAADRBm3hJqEFsmUwIT//98QAAAwAAAwAXRm1wgDaOHUpVF1bZi9h2P8qvpnPF\n",
       "65WAAAADAFtBAAAAHUGflkUVLG8AAAMAAAMBkduUNwAAAwAUI/RGN7J8AAAAFgGftXRF/wAAAwAA\n",
       "AwHmva0AAAMAArYAAAAVAZ+3akX/AAADAAADAAADAAADAAMDAAAAIUGbvEmoQWyZTAhP//3xAAAD\n",
       "AAADABat8uggQAAAAwA1oAAAABtBn9pFFSxvAAADAAADAAADAAADAYgY7eRhWkgAAAAVAZ/5dEX/\n",
       "AAADAAADAAADAAADAAMDAAAAFQGf+2pF/wAAAwAAAwAAAwAAAwADAgAAAClBm+BJqEFsmUwIT//9\n",
       "8QAAAwAAAwAWqOv4QCi0mCff/vxKmAAAAwACXwAAABtBnh5FFSxvAAADAAADAAADAAADAYgY7eRh\n",
       "WkkAAAAVAZ49dEX/AAADAAADAAADAAADAAMCAAAAFQGeP2pF/wAAAwAAAwAAAwAAAwADAwAAACBB\n",
       "miRJqEFsmUwIT//98QAAAwAAAwAWqNlrYAAAAwAXcAAAABtBnkJFFSxvAAADAAADAAADAAADAYgY\n",
       "7eRhWkkAAAAVAZ5hdEX/AAADAAADAAADAAADAAMDAAAAFQGeY2pF/wAAAwAAAwAAAwAAAwADAgAA\n",
       "AChBmmhJqEFsmUwIT//98QAAAwAAAwAWr3chzoA2GNhL15N8AAADAAF3AAAAG0GehkUVLG8AAAMA\n",
       "AAMAAAMAAAMBiBjt5GFaSQAAABUBnqV0Rf8AAAMAAAMAAAMAAAMAAwIAAAAVAZ6nakX/AAADAAAD\n",
       "AAADAAADAAMDAAAAK0GarEmoQWyZTAhP//3xAAADAAADABaoa/wgDZkBhAyM/2+7qJgAAAMAAl4A\n",
       "AAAbQZ7KRRUsbwAAAwAAAwAAAwAAAwGIGO3kYVpJAAAAFQGe6XRF/wAAAwAAAwAAAwAAAwADAwAA\n",
       "ABUBnutqRf8AAAMAAAMAAAMAAAMAAwMAAAAnQZrwSahBbJlMCE///fEAAAMAAAMAFqjrhgBaR8Lc\n",
       "9QAgAAADABrRAAAAG0GfDkUVLG8AAAMAAAMAAAMAAAMBiBjt5GFaSAAAABUBny10Rf8AAAMAAAMA\n",
       "AAMAAAMAAwIAAAAVAZ8vakX/AAADAAADAAADAAADAAMDAAAAKkGbNEmoQWyZTAhP//3xAAADAAAD\n",
       "ABaoa8MAIKwn0W10EtfTAAADAABLwAAAABtBn1JFFSxvAAADAAADAAADAAADAYgY7eRhWkgAAAAV\n",
       "AZ9xdEX/AAADAAADAAADAAADAAMDAAAAFQGfc2pF/wAAAwAAAwAAAwAAAwADAwAAADFBm3hJqEFs\n",
       "mUwIT//98QAAAwAAAwAWtc9amAE9sJalcOe2byu4Xbu2Ag2IAAADAAY9AAAAG0GflkUVLG8AAAMA\n",
       "AAMAAAMAAAMBiBjt5GFaSAAAABUBn7V0Rf8AAAMAAAMAAAMAAAMAAwIAAAAVAZ+3akX/AAADAAAD\n",
       "AAADAAADAAMDAAAAKEGbvEmoQWyZTAhP//3xAAADAAADABa1z1ToAnr5HyrklrYAAAMAAXcAAAAb\n",
       "QZ/aRRUsbwAAAwAAAwAAAwAAAwGIGO3kYVpIAAAAFQGf+XRF/wAAAwAAAwAAAwAAAwADAwAAABUB\n",
       "n/tqRf8AAAMAAAMAAAMAAAMAAwIAAAArQZvgSahBbJlMCE///fEAAAMAAAMAFrXPXV4An8tRZT0E\n",
       "Y5fQCAAAAwAGtQAAABtBnh5FFSxvAAADAAADAAADAAADAYgY7eRhWkkAAAAVAZ49dEX/AAADAAAD\n",
       "AAADAAADAAMCAAAAFQGeP2pF/wAAAwAAAwAAAwAAAwADAwAAAC9BmiRJqEFsmUwIT//98QAAAwAA\n",
       "AwAWwDMbUwAnr5PRgdPx2qKrDlbnwAAAAwAXcAAAABtBnkJFFSxvAAADAAADAAADAAADAYgY7eRh\n",
       "WkkAAAAVAZ5hdEX/AAADAAADAAADAAADAAMDAAAAFQGeY2pF/wAAAwAAAwAAAwAAAwADAgAAACBB\n",
       "mmhJqEFsmUwIT//98QAAAwAAAwAWtrr+fAAAAwABdwAAABtBnoZFFSxvAAADAAADAAADAAADAYgY\n",
       "7eRhWkkAAAAVAZ6ldEX/AAADAAADAAADAAADAAMCAAAAFQGep2pF/wAAAwAAAwAAAwAAAwADAwAA\n",
       "ACFBmqxJqEFsmUwIT//98QAAAwAAAwAWuMVvACAAAAMAGtAAAAAbQZ7KRRUsbwAAAwAAAwAAAwAA\n",
       "AwGIGO3kYVpJAAAAFQGe6XRF/wAAAwAAAwAAAwAAAwADAwAAABUBnutqRf8AAAMAAAMAAAMAAAMA\n",
       "AwMAAAAmQZrwSahBbJlMCE///fEAAAMAAAMAFra7V8AZWWrZbMAAAAMAEvEAAAAbQZ8ORRUsbwAA\n",
       "AwAAAwAAAwAAAwGIGO3kYVpIAAAAFQGfLXRF/wAAAwAAAwAAAwAAAwADAgAAABUBny9qRf8AAAMA\n",
       "AAMAAAMAAAMAAwMAAAApQZs0SahBbJlMCE///fEAAAMAAAMAFra7sYALRm1tuAAJAIAAAAMAa0AA\n",
       "AAAbQZ9SRRUsbwAAAwAAAwAAAwAAAwGIGO3kYVpIAAAAFQGfcXRF/wAAAwAAAwAAAwAAAwADAwAA\n",
       "ABUBn3NqRf8AAAMAAAMAAAMAAAMAAwMAAAAnQZt4SahBbJlMCE///fEAAAMAAAMAFra7V8AZWpVO\n",
       "HhHwAAADAAXdAAAAG0GflkUVLG8AAAMAAAMBh0afQAAAd3ZPwtxbyAAAABUBn7V0Rf8AAAMAAAMA\n",
       "AAMAAAMAAwIAAAAVAZ+3akX/AAADAAADAAADAAADAAMDAAAAKkGbvEmoQWyZTAhP//3xAAADAAAD\n",
       "ABazsvkqAOUPxJw+qktjYAAAAwAXcAAAABtBn9pFFSxvAAADAAADAX6SB0AAAHqAbDLqW8gAAAAV\n",
       "AZ/5dEX/AAADAAADAAADAAADAAMDAAAAFwGf+2pF/wAAAwAAAwHcEInAAAADALKAAAAAI0Gb4Emo\n",
       "QWyZTAhP//3xAAADAAADABa2uvk2LOaIAAADAAh5AAAAHUGeHkUVLG8AAAMAAAMBfeHLB6fgAAAw\n",
       "P13wbFvJAAAAFwGePXRF/wAAAwAAAwHa8WtAAAADALKAAAAAFgGeP2pF/wAAAwAAAwHagbgAAAMA\n",
       "A8cAAAAuQZokSahBbJlMCE///fEAAAMAAAMAFrazwMiAL20dAFkvbTwE8dNOmAAAAwACXgAAABtB\n",
       "nkJFFSxvAAADAAADAX6SB0AAAHqAbDLqW8kAAAAVAZ5hdEX/AAADAAADAAADAAADAAMDAAAAFwGe\n",
       "Y2pF/wAAAwAAAwHcEInAAAADALKAAAAAJUGaaEmoQWyZTAhP//3xAAADAAADABa2u4kgErg7QCAA\n",
       "AAMAGtAAAAAbQZ6GRRUsbwAAAwAAAwF+yWPQAAAen8dQ+pbzAAAAFQGepXRF/wAAAwAAAwAAAwAA\n",
       "AwADAgAAABUBnqdqRf8AAAMAAAMAAAMAAAMAAwMAAAAvQZqsSahBbJlMCE///fEAAAMAAAMAFray\n",
       "svEAzlyc0qQ4cTfAt3SV5lgAAAMABtwAAAAeQZ7KRRUsbwAAAwAAAwGH0a3hOAAAAwKW7SCsNk+B\n",
       "AAAAFgGe6XRF/wAAAwAAAwHaLBgAAAMAAl8AAAAXAZ7rakX/AAADAAADAdpNMOAAAAMAWUEAAAAg\n",
       "QZrwSahBbJlMCE///fEAAAMAAAMAFhgpptgAAAMABgUAAAAeQZ8ORRUsbwAAAwAAAwF9PNdlLAAA\n",
       "AwAkxXIq8kjcAAAAFQGfLXRF/wAAAwAAAwAAAwAAAwADAgAAABUBny9qRf8AAAMAAAMAAAMAAAMA\n",
       "AwMAAAAoQZs0SahBbJlMCE///fEAAAMAAAMAFh3od9EA7Eer4oGqTAAAAwABNwAAABtBn1JFFSxv\n",
       "AAADAAADAAADAAADAYgY7eRhWkgAAAAVAZ9xdEX/AAADAAADAAADAAADAAMDAAAAFQGfc2pF/wAA\n",
       "AwAAAwAAAwAAAwADAwAAACpBm3hJqEFsmUwIT//98QAAAwAAAwAWGC5u4CXHeMj1k2sbwTAAAAMA\n",
       "BN0AAAAbQZ+WRRUsbwAAAwAAAwB2/tDoAAAxd4kd9S3kAAAAFQGftXRF/wAAAwAAAwAAAwAAAwAD\n",
       "AgAAABUBn7dqRf8AAAMAAAMAAAMAAAMAAwMAAAAmQZu8SahBbJlMCE///fEAAAMAAAMAFhgrBwC5\n",
       "aNzsiAIAAAMAAbcAAAAbQZ/aRRUsbwAAAwAAAwAAAwAAAwGIGO3kYVpIAAAAFQGf+XRF/wAAAwAA\n",
       "AwAAAwAAAwADAwAAABUBn/tqRf8AAAMAAAMAAAMAAAMAAwIAAAAoQZvgSahBbJlMCE///fEAAAMA\n",
       "AAMAFhguf4AE/Yigc1vbAAADAADAgQAAABtBnh5FFSxvAAADAAADAAADAAADAYgY7eRhWkkAAAAV\n",
       "AZ49dEX/AAADAAADAAADAAADAAMCAAAAFgGeP2pF/wAAAwAAAwHZqYOAAAADAWUAAAAoQZokSahB\n",
       "bJlMCE///fEAAAMAAAMAFiWoVgAOT4tB/x7qYAAAAwAJuAAAABtBnkJFFSxvAAADAAADAAADAAAD\n",
       "AYgY7eRhWkkAAAAVAZ5hdEX/AAADAAADAAADAAADAAMDAAAAFQGeY2pF/wAAAwAAAwAAAwAAAwAD\n",
       "AgAAAC5BmmhJqEFsmUwIT//98QAAAwAAAwAWJais6IA8zCcVbUgIpfQMPHCuAAADAAKmAAAAG0Ge\n",
       "hkUVLG8AAAMAAAMBfbmD0AAAHo2T8LcW8wAAABUBnqV0Rf8AAAMAAAMAAAMAAAMAAwIAAAAVAZ6n\n",
       "akX/AAADAAADAAADAAADAAMDAAAALEGarEmoQWyZTAhP//3xAAADAAADABYlkQhr+IBLaTBUy77D\n",
       "6wrgAAADACpgAAAAG0GeykUVLG8AAAMAAAMAAAMAAAMBiBjt5GFaSQAAABUBnul0Rf8AAAMAAAMA\n",
       "AAMAAAMAAwMAAAAVAZ7rakX/AAADAAADAAADAAADAAMDAAAAI0Ga8EmoQWyZTAhP//3xAAADAAAD\n",
       "ABYmsjY82bbgAAADAEbBAAAAG0GfDkUVLG8AAAMAAAMAdqaPQAABiwjGi3FvIAAAABUBny10Rf8A\n",
       "AAMAAAMAAAMAAAMAAwIAAAAWAZ8vakX/AAADAAADAdmpg4AAAAMBZQAAACFBmzRJqEFsmUwIT//9\n",
       "8QAAAwAAAwAWJqzXWwAAAwAAwIAAAAAbQZ9SRRUsbwAAAwAAAwAAAwAAAwGIGO3kYVpIAAAAFQGf\n",
       "cXRF/wAAAwAAAwAAAwAAAwADAwAAABUBn3NqRf8AAAMAAAMAAAMAAAMAAwMAAAAhQZt4SahBbJlM\n",
       "CE///fEAAAMAAAMAFiXl7KTAAAADABNxAAAAG0GflkUVLG8AAAMAAAMBfbmD0AAAHo2T8LcW8gAA\n",
       "ABUBn7V0Rf8AAAMAAAMAAAMAAAMAAwIAAAAVAZ+3akX/AAADAAADAAADAAADAAMDAAAAIUGbvEmo\n",
       "QWyZTAhP//3xAAADAAADABYmrNdbAAADAADAgAAAABtBn9pFFSxvAAADAAADAX6HFLgAAA2gIXwd\n",
       "S3kAAAAVAZ/5dEX/AAADAAADAAADAAADAAMDAAAAFQGf+2pF/wAAAwAAAwAAAwAAAwADAgAAACxB\n",
       "m+BJqEFsmUwIT//98QAAAwAAAwAWJrKs8gCs7hYhJTQe9oJ3mAAAAwACbwAAAB1Bnh5FFSxvAAAD\n",
       "AAADAX25O4N1XgAACkFXDFnk8wAAABYBnj10Rf8AAAMAAAMB0L2tAAADAALaAAAAGQGeP2pF/wAA\n",
       "AwAAAwHREK4168gAAAMAO6EAAAAvQZokSahBbJlMCE///fEAAAMAAAMAFiatLiAFv9zEKgzTxtEn\n",
       "a79woW0AAAMAAxYAAAAeQZ5CRRUsbwAAAwAAAwF0/yvK/dMAAAMDocKsqrA3AAAAGgGeYXRF/wAA\n",
       "AwAAAwHa4zkWR+ogAAADAFbBAAAAFgGeY2pF/wAAAwAAAwHPgbgAAAMAA9oAAAA5QZpoSahBbJlM\n",
       "CE///fEAAAMAAAMAFiayqggDMxYZh8Dg0G1tH1jvhdqS67NVmMvTn968AAADAAVUAAAAG0GehkUV\n",
       "LG8AAAMAAAMBdMeHQAAAfUBsMupbyQAAABUBnqV0Rf8AAAMAAAMAAAMAAAMAAwIAAAAWAZ6nakX/\n",
       "AAADAAADAdBu3AAAAwAB7QAAACFBmqxJqEFsmUwIT//98QAAAwAAAwAVo4G8AIAAAAMAcEAAAAAb\n",
       "QZ7KRRUsbwAAAwAAAwF0D3lwAAAb0JPwtxbzAAAAFQGe6XRF/wAAAwAAAwAAAwAAAwADAwAAABcB\n",
       "nutqRf8AAAMAAAMB0QVyLQAAAwAC2wAAACFBmvBJqEFsmUwIT//98QAAAwAAAwAVjdptWwAAAwAA\n",
       "xYEAAAAdQZ8ORRUsbwAAAwAAAwF0+T8IAAADAEuTkg71LeQAAAAVAZ8tdEX/AAADAAADAAADAAAD\n",
       "AAMCAAAAFQGfL2pF/wAAAwAAAwAAAwAAAwADAwAAACFBmzRJqEFsmUwIT//98QAAAwAAAwAVjdpt\n",
       "WwAAAwAAxYAAAAAbQZ9SRRUsbwAAAwAAAwF0BwqoAAALwrH4W4t5AAAAFwGfcXRF/wAAAwAAAwHP\n",
       "40K4AAADAAPbAAAAFQGfc2pF/wAAAwAAAwAAAwAAAwADAwAAACBBm3hJqEFsmUwIT//98QAAAwAA\n",
       "AwAViAXxMAAAAwAFBQAAABtBn5ZFFSxvAAADAAADAAADAAADAYgY7eRhWkgAAAAWAZ+1dEX/AAAD\n",
       "AAADAdBCLAAAAwABNwAAABcBn7dqRf8AAAMAAAMB0QVyLQAAAwAC2wAAAB5Bm7lJqEFsmUwIv/pY\n",
       "AAADAAADAP+dYawAAAMAA4IAAA8qZYiEADP//vbsvgU1/Z/QlxEsxdpKcD4qpICAdzTAAAADAAAD\n",
       "AAADACpHOfTm4+L2i0AAAAMC2gCvAjEX+F1sQrgAhp0Uyvi2PNUyeFx0ZZ8+nL85e14WYZYZ/q/Q\n",
       "nGf5fOYKBs+QXJNtJJRTTcAAuyOBozQq/DBcxQVMMIxTYQyXFmSQQ7owW8JiRIReuXeby2Oj5kYs\n",
       "WQ0zS5zSmkwh1hatyFNi3+IRZF5X60+nlfa1+jax3OCq7feTij1zgmF6eifWq25rLCNQbIViceGh\n",
       "prbnNfRvuMjcGRD8VqxOyRtYTQbge+hhJ66TMd04cjqgUH6bP6ev+M6N0ht9rIv9S7Nj1J8v71Gh\n",
       "P3E1/K2kQP6VcoJLxeoRAqFtunOO+DB6x33QV1fSC+fWXROXrNsqOpl/nC7pvxBYxYu93b63BT5g\n",
       "nbbetW/YKbjOR9X8ND3QAD0Egt8Q9yGVPZVbNnb3Rh/mmvIJDDASfKDq8rPy0BcYYQVp22Uldx49\n",
       "AjX4VyoYeqI3ZpomFE3ZmnM8NCCIAjqo0EnoNWACAnUWZbqUOgHomyyd0C3muxfOS5tlfIYUZj3P\n",
       "/pyQX3zx5zbhfxrqK+DKdIEr080yDPsgwlVVrbn9slslNhw5HCev+dETV2EZR9LXlXv86pwW1Drp\n",
       "8tygROea1dT914NLemdO0i9u+QUw3BZv0mph1DG0R+Mw14aU+Omjm+aLJCaGcH2HFEzbVu/p+RV1\n",
       "Ig4XoYRWMUOEKK4bXqT6wrXdymPSpg6mH7E3pirj/M1oM3UcndrU9sQXSVckFOwRlD/ja9mmK8sX\n",
       "iz2e4FS11jyih7x5z3HPogRINIUA6Qf4s1OuBV1qIXzk1piUs2/UKf857fSfSvCUFe5+PliK2hmY\n",
       "tJkeVdJ+rBAm3YVhVKOAp4dMWwHvqF4z9KU+PKnaXiLrDruNtTrD6n8dqB9dsnkiz2gBkIgha92Q\n",
       "AKRMLn9EK+JMyzhCz6OcpbrZCyB5mJ82UOCh7XFPTM87CvuXdv2hRU3haVvT42uGNXNICzT0l1iE\n",
       "Onbxb+hGgUU83LiUnDlh3+je96svkxknnTlBM9Du9c3gIqPazgT3w9og9xnuCdukLrPzLincp5L3\n",
       "ua02q9R0u1nE6KNYfZyCmmBfzCRD3OVK3me2azyI4bln2UALFj+ytpVWUCpgh6Eiq4Iti10oibIf\n",
       "9H8CLsJQLjj94q8wErLoblGzun81Ji0nNNH3hoGNtNPfROoT/ma/5yk2H4CBxlgKh+yE1va3iJhX\n",
       "r2e0SNakIvISYRB91HxKHjMowinrEAm/mlfGYMQ8uYcMmgMLkuYQpyOrsXPYdGPOkrCKGkfMQ9OR\n",
       "7y41cQUxwraZjK56oMvSmtV3Yr0XgepfrD6DvRbVp7pPfxY9hG4YEQjWsAmwLl7xuRoi4Ju7xP1v\n",
       "sbfHRFygbn81LTRaQIXASOzHSfFtTiQ9llhgIGT82oVmW82MSYQi+OXGJREN3nB41JV5xQ+rh0tk\n",
       "1lUySJsf9WEKlUXORu3/l+BvoY5WpXkbI4YXf4+ZmzPHCiDzX//WyS05MT1B3fZO0k9WFqDvxS2d\n",
       "B7MOJklblWka7P8qweDrIY8Rq8471POpxtkSCdffGL/4U4/Wr/AgCMdqKh5iVA9irPlZYiYNKhW5\n",
       "4x4vW42nBdA6GTy9TFOq6od9RbbfcTw23V1wF5H3nESShAM9mUBioA+iuaYLCOuigGeNUJXscoKL\n",
       "V/bfub0On2taF0Y3JfblFu07QGZZYc8Vq7Pw4Xloe9C64uwfXp4l6NbufNDUGrEwx0JN7MtMluqm\n",
       "SpIGvzx5tfwcKVnfkvkvUGXpTWqoSfdJzvUv1h9B3os4udoDs+DgNbBY1NstwwkgBcveGLs8gg3s\n",
       "eoz0i3fQsCHQNz+alp0zgK+zIDoQOqguCmZleYLp47yHg4yQZjyNLbnLd3+Bj/CQ6OWxNyn/YHPQ\n",
       "E29IsyJAl2sxJ65phWLeGeg15yJ/SZwSj7I0l2LZXY4A5AAQLtMvmbOPSgR18oGjMqJqzMVNan6K\n",
       "Z8TWIAG9hPlMOHL2CwmvEF/9e7jzESf+8V1lkydwQBQ9F8XSFpEazOOQ022nzLz7g/0eVWBIGux+\n",
       "q/qM4wSMGlfjURUHMzqbbNgFEabszhWS8QJE4bYCSJa+tZ/8+021A5jMQW0ez577yf9HS3iDssKP\n",
       "rB0AIh1vyhn26opBtITEv6slnserUWAOWxnQRCGrfX9CkHkWIffHCRoPweagvSQjTJJyqHICDzN2\n",
       "V4tXFp52AYs2bVgYGlQN8Mlgg/JMfW0lUNjGZiCO8++FaVPUh0Z/KszShkTNcCOaEQmtU6nXPsuz\n",
       "qfCFKOjrlB28uGFyBNjCLum9mAkQyN5nmvwEqgPZ4u6X9E3YJyJAxL/R0HpmW0oTr9RRLt6vdPTT\n",
       "vOJKbgNUK+jHi9jr/Gk2e4tWJZ/wxkwGB//gt5NLC5Fql4RQTGD09nfnRcw/gkNJNO39jqBtWOtJ\n",
       "FTddOiiLJfpgMSq9V1U0XiE5578zpG44qhq/YBUzxg6ck/2VJp7JmivBR+eHgnzaT9s1L0lpekTC\n",
       "HloxyawSWYqAbXp2gaB6OuVs4BBv77aF9ZAHbZ+mDcTyMmbf9ZGGbLxXRdLuQATbodY+BsWtsBwV\n",
       "hmF8tnTkAiR0L1jcQAvhDfwAAAMADt2pp8LRD6xSyxm4UkO81Dh6VqbLl0h39+xV2AFtGexVaSuD\n",
       "8mxAK/K7UnBzWt/5sBBoLuPq+VxvVovu9PmzmUQTXYh7jrZ/IrSvwG2s7d6UGUYXjNZuEbIzQleL\n",
       "F51F0H/7tXSP2rTnBRWk+AmzObszCCeBJOj/d74CX/Mo19tReKe07s5dIYhNAYj4wPU6eVEvgWU/\n",
       "IWRuRW06DLwciWDOzzZV4Q5B4N3PChdLdmhjSa2GbxLcyKdfzn7gLIWov5LjnNZJ3uwcxKepUZ/u\n",
       "3aIb1NNSQ1tDHs06IAVuaII+B54J2gBI7bPcYm1pYVMCaT+t05RB7JC5tPJtfu7MLiGBqS9yeIy7\n",
       "BgRDdZm4Pyrg2j1uRp0GQJtBiMIYQAC2FXTAfKe27RO3vt7hrLJ1RATAKH5RoAFoLwUBaE16A5v9\n",
       "aA2c26Bfbh8on80HCO7PYtb6EbtQJ8guuaQRCySKRJBfpdCSaED2nNY9VjSir/+JEe8BYcTFm9i1\n",
       "mb9ui40H+qZZ7LS+9OCVLHEw+qAOc741r4zZrIDpb5bw5XekAAFDsHwWE84t8AIcCLgLqXKgZbly\n",
       "BBJs7Z8Cbw30FT/0/nz3vjTXSVRsu/frkdsPZeOPAgXXBwL5nQRK4uLrE/99RGn07BEbBP+TI8yd\n",
       "LTV2gYdZu9bCVG8PGaCklkco5uPrr/vc5sOus4IWrVhItcLi1apdWVQr6xDnWYsHXT8vqCauGsUW\n",
       "HHnYKJwvZBRWhTp5012Hm/tbBdfZGnHTWITDfRFhNxfokso/eKPA9vxO74XrosBwlAsgdwQwhjmL\n",
       "ldffE6S4KrHV9XzRATNRANWVA4I1zc/QXz3CSRZqxVXf0HefFtG9f34qldn0Fu5YyO/0TsOEE20k\n",
       "wf5mSQiB+lSbqvy2pjefZYf3ViVIIlfWNThNRStVWozD+qD/0eXdaLaJb//bEZggQJ995jD07Lci\n",
       "VT1tLcffz935xzgfjPJVjynSV4UJK+DQ+77Au6MzudnD1k85u6iaE193V5q6wASKF0b3E1A1vCzz\n",
       "DEn8EvDx5GfkT2ctNLF5ysjaS0V3UP0prLB4tYkkC+HY5hQyUpypL/h+iyMOZPefmbJcj9/sN8rj\n",
       "NH785SY48lZ0y7dJfnBWKg9z54P5mprfio8Iws0O9E7qnnYcxN/w0rs3eYiL8G9CjiEaWEnl0VpI\n",
       "YO5HVyIQ8AwkJfmLqCn23daw6kiGz2LG7K5XCd/wApWJnbiEZ0Cze0XKaTqqNSpEsIgjuYPv4Qrv\n",
       "hIgX0/nA5u5IDUR4bI4fB1EFPjd1WSqdpeR/MB2vOZQ0/ghfunw9P/CQBLAcpyvWE7e/8QC0bmb5\n",
       "us4qY3OIuCCCcDD2djpZOcWKnKOPtiKGGzkKfj64ZqpraeHCHxLik7VETDOUmGD0wrixtN0uovWj\n",
       "38YYYtcEzuwABGqiUADYqb4HG3PgZWJ2BqMHQHkUveCcw0VN0D6QykFMtYYop2lD9QADzwhQJEyU\n",
       "6EAWIsSrzMzxjr7IVrtGKh0y/SYv0CCw6XIJBIaoBEDIRgMp4gm7XPl0zx12s1fa1rpNihLPYcUk\n",
       "IA0VvEAILTfA8oSY/oe8tm/EiqUrmldTE/1/2LENfx0/e6fmCpIQKOUe3AqiiOqG1OnQxg4BMbPn\n",
       "7wimU9Lip3MGQwSEXyhR0/2tmxhAVD0VgA0QFE1yWU/PjCS9y2O60V6JDSAtmGZpxRl0dBxRuf1C\n",
       "Oyq4q+Uy8WDgQ9PWPdL3kbzM3LaefeHpzWXnNT3GlHEDfahvlsZuqcqwNPZaOik5yjKsdGQbK03A\n",
       "B3YcAYRSpUGIra02Jm6Aw6v7J7Xf4KKJ6YfSusAOYwo/WRh0v92Eta8Uk4JF5JUgXgpj2Tig0Plc\n",
       "V8SzMvZJmfZ2pGFwMkwi7J+Kg0kfOMoxRTg/NufUSYe0n+hkzWCvQxCvo9BxOCn4AAlW4Iae+uHz\n",
       "p1hqkRDq5INTGOZPL8A+VxIZNOGNZrdNGfpwOMXfbCCn5mnqi45P+HVfqO29Fd0BxVdPiur/+HV/\n",
       "+oberRrgyN15B6jWSF3LCB+pSvVvVNSyCpOgbYjo4rxsBHnBL+ANOOKn2iUsLCYLNwmOhEAlGl/+\n",
       "Bbk5yfZHLJTwfNTjtWg4CsKeB3YReOgaiZvyHe6wxVRMAQmhvEhNrJf1GFGGxELMD9fGfq5mXlFk\n",
       "AdnHXNpcL3jLGJEYYB0CgU+Ml4/R+uKWyP/jdelW7b3NOtH6zIAjwDWdOyu41a/P272WvLFmObcg\n",
       "3OeI3n5CVI45RnZPXcVmQmUUL1HP3ftB3m2AYP0PiZ6ZRsKr0Lps/XmVglZ4wT87Dnm+NACBZ5nr\n",
       "6NmvazOccuI3M5XP9qV7AcEqBZk49Y66iUCa59JVNMslVchDGEhYxzoXSSLD8XWCsARdycArrCGv\n",
       "79WGrM7lbFoszr2nCdpWfZIa6/p783WFIA+VK8j3Tk+uWPoDfqaURPu8WK6UjT+8NhSPntHgzuA/\n",
       "Fax3w/kpbdLQmXoaVpSjBDYAAAMAAAMAAAj4AAAAGkGaJGxCf/3xAAADAAADABWZN7a2AAADAAGL\n",
       "AAAAFUGeQniN/wAAAwAAAwAAAwAAAwACXgAAABUBnmF0Rf8AAAMAAAMAAAMAAAMAAwMAAAAWAZ5j\n",
       "akX/AAADAAADAc6pg4AAAAMBbQAAACJBmmhJqEFomUwIT//98QAAAwAAAwAVlRZds9sAAAMAAMWA\n",
       "AAAAGEGehkURLG8AAAMAAAMBcBLqHQAAAwADGwAAABUBnqV0Rf8AAAMAAAMAAAMAAAMAAwIAAAAX\n",
       "AZ6nakX/AAADAAADAdAmZgAAAwAAm4EAAAAhQZqsSahBbJlMCE///fEAAAMAAAMAFY3VzWYAAAMA\n",
       "AKCBAAAAGEGeykUVLG8AAAMAAAMBdAcKqAAAAwASMAAAABcBnul0Rf8AAAMAAAMBz+NCuAAAAwAD\n",
       "2gAAABUBnutqRf8AAAMAAAMAAAMAAAMAAwMAAAAhQZrwSahBbJlMCE///fEAAAMAAAMAFY2yOgBA\n",
       "AAADADggAAAAGEGfDkUVLG8AAAMAAAMBdLelVAAAAwAJGQAAABUBny10Rf8AAAMAAAMAAAMAAAMA\n",
       "AwIAAAAXAZ8vakX/AAADAAADAdEFci0AAAMAAtsAAAAhQZs0SahBbJlMCE///fEAAAMAAAMAFY9l\n",
       "QpAgAAADABwRAAAAGUGfUkUVLG8AAAMAAAMBdPdomgAAAwAAOmEAAAAVAZ9xdEX/AAADAAADAAAD\n",
       "AAADAAMDAAAAFQGfc2pF/wAAAwAAAwAAAwAAAwADAgAAACFBm3hJqEFsmUwIT//98QAAAwAAAwAV\n",
       "jdXNZgAAAwAAoIAAAAAWQZ+WRRUsbwAAAwAAAwAAAwAAAwACXwAAABUBn7V0Rf8AAAMAAAMAAAMA\n",
       "AAMAAwIAAAAVAZ+3akX/AAADAAADAAADAAADAAMCAAAAOkGbvEmoQWyZTAhP//3xAAADAAADABWH\n",
       "wDdQEFp/BoKJiIk9sW+BFRg8S/BgbXxYACjUWIL06lalrisAAAAaQZ/aRRUsbwAAAwAAAwF0Bu6B\n",
       "3VeAAAADA/0AAAAYAZ/5dEX/AAADAAADAc6lMsGC4AAAAwD/AAAAGQGf+2pF/wAAAwAAAwHGEK41\n",
       "68gAAAMAPSAAAAAvQZvgSahBbJlMCE///fEAAAMAAAMAFYn1ADQIfW8otE13HGcwxavOdMUAAAMA\n",
       "AScAAAAcQZ4eRRUsbwAAAwAAAwFsIvXvO5h4qAAAAwArYQAAABUBnj10Rf8AAAMAAAMAAAMAAAMA\n",
       "AwIAAAAZAZ4/akX/AAADAAADAcYFchv+sAAAAwCygAAAACtBmiRJqEFsmUwIT//98QAAAwAAAwAU\n",
       "/2WA8YAVIOYl2IYFSFSkAAADAANbAAAAGUGeQkUVLG8AAAMAAAMBawcKIJgAAAMAAzIAAAAWAZ5h\n",
       "dEX/AAADAAADAI6SK0AAAAMCTwAAABYBnmNqRf8AAAMAAAMAjvoGAAADAAHzAAAAIkGaaEmoQWyZ\n",
       "TAhP//3xAAADAAADABT30bQQQrgAAAMAH3AAAAAZQZ6GRRUsbwAAAwAAAwFrtKvyGoAAAAMD5wAA\n",
       "ABYBnqV0Rf8AAAMAAAMAjpIrQAAAAwJOAAAAFQGep2pF/wAAAwAAAwAAAwAAAwADAwAAACdBmqxJ\n",
       "qEFsmUwIT//98QAAAwAAAwAU99hNrQBeaiiXEAgAAAMABzUAAAAZQZ7KRRUsbwAAAwAAAwFrBwmn\n",
       "tQAAAwAHzAAAABUBnul0Rf8AAAMAAAMAAAMAAAMAAwIAAAAWAZ7rakX/AAADAAADAI76BgAAAwAB\n",
       "8wAAACxBmvBJqEFsmUwIT//98QAAAwAAAwAU99QJ8gDjEewR6C4Vknu+AAADAADKgAAAABlBnw5F\n",
       "FSxvAAADAAADAWsHCiCYAAADAAMzAAAAFgGfLXRF/wAAAwAAAwCOkitAAAADAk4AAAAWAZ8vakX/\n",
       "AAADAAADAI76BgAAAwAB8wAAACNBmzRJqEFsmUwIT//98QAAAwAAAwAViIuc97esrAAAAwADFwAA\n",
       "ABpBn1JFFSxvAAADAAADAWcB+FEluAAAAwAfMQAAABgBn3F0Rf8AAAMAAAMBxZ8zEewAAAMALKEA\n",
       "AAAVAZ9zakX/AAADAAADAAADAAADAAMCAAAALkGbeEmoQWyZTAhP//3xAAADAAADABUGpWUEAKc5\n",
       "XdNmJy36DDHR5gAAAwAApIAAAAAbQZ+WRRUsbwAAAwAAAwFrAsdBOy0wAAADAJmBAAAAFgGftXRF\n",
       "/wAAAwAAAwCOkitAAAADAk4AAAAYAZ+3akX/AAADAAADAbqRn7oVQAAAAwGZAAAALUGbvEmoQWyZ\n",
       "TAhP//3xAAADAAADABUDrPuzgAjfXYfEqr8NeCgFIAAAAwAa0QAAABxBn9pFFSxvAAADAAADAWqX\n",
       "1PLTjVcdAAADAALbAAAAGAGf+XRF/wAAAwAAAwG5epLExYAAAAMCqwAAABgBn/tqRf8AAAMAAAMB\n",
       "upGfuhVAAAADAZkAAAA9QZvgSahBbJlMCE///fEAAAMAAAMAFQajJpcAWY7ZTIIjy3IULEfHTAdY\n",
       "ljYDGawFFXFy7/xNEAAAAwAScAAAABtBnh5FFSxvAAADAAADAWsCy9RLyA9AAAADAR8AAAAYAZ49\n",
       "dEX/AAADAAADAbl6ksTFgAAAAwKqAAAAGQGeP2pF/wAAAwAAAwG6kZ+3kSQAAAMACdgAAAAhQZok\n",
       "SahBbJlMCE///fEAAAMAAAMAFGczliBAAAADADrhAAAAG0GeQkUVLG8AAAMAAAMBYrStVmFNxUAA\n",
       "AAMBZQAAABYBnmF0Rf8AAAMAAAMAjpIrQAAAAwJPAAAAFgGeY2pF/wAAAwAAAwCO+gYAAAMAAfMA\n",
       "AAAhQZpoSahBbJlMCE///fEAAAMAAAMAFGczliBAAAADADrgAAAAG0GehkUVLG8AAAMAAAMBYgBU\n",
       "zoGf4AAAAwBQwQAAABYBnqV0Rf8AAAMAAAMAjpIrQAAAAwJOAAAAFgGep2pF/wAAAwAAAwCO+gYA\n",
       "AAMAAfMAAAAqQZqsSahBbJlMCE///fEAAAMAAAMAFHUM5/GACPCi57oX8CYAAAMAAKmBAAAAG0Ge\n",
       "ykUVLG8AAAMAAAMBYgBUzoGf4AAAAwBQwAAAABYBnul0Rf8AAAMAAAMAjpIrQAAAAwJOAAAAFgGe\n",
       "62pF/wAAAwAAAwCO+gYAAAMAAfMAAAAqQZrwSahBbJlMCE///fEAAAMAAAMAFGc8aVaAHFZwO9SK\n",
       "I+1sAAADAAM+AAAAGkGfDkUVLG8AAAMAAAMBXg0JdCGSAAADAAI3AAAAFgGfLXRF/wAAAwAAAwCO\n",
       "kitAAAADAk4AAAAWAZ8vakX/AAADAAADAI76BgAAAwAB8wAAADFBmzRJqEFsmUwIT//98QAAAwAA\n",
       "AwAU+Ik9fAnJIQAruwUSgzdiK4bYgysAAAMAAMqBAAAAGEGfUkUVLG8AAAMAAAMAcX7Q6AAAAwBQ\n",
       "wQAAABYBn3F0Rf8AAAMAAAMAjpIrQAAAAwJPAAAAFgGfc2pF/wAAAwAAAwCO+gYAAAMAAfMAAAAz\n",
       "QZt4SahBbJlMCE///fEAAAMAAAMAFHOl1RoIAc0XvyaJAo6yaiacVlnC14miAAADAAJeAAAAG0Gf\n",
       "lkUVLG8AAAMAAAMBXgAmIug+pAAAAwAEbQAAABYBn7V0Rf8AAAMAAAMAjpIrQAAAAwJOAAAAFgGf\n",
       "t2pF/wAAAwAAAwCO+gYAAAMAAfMAAABaQZu8SahBbJlMCE///fEAAAMAAAMAFHR2+94BMl74q8IU\n",
       "zLUQdOVY9Ve3MpoQ/Fp7JCYuKxAhkHdQ+Jgt8dNzYx7MAMyKCZ6vlVJXDWymqUunlMrQo8mCVfN/\n",
       "AAAAHUGf2kUVLG8AAAMAAAMBYipTKEhd/KNEAAADABBxAAAAFwGf+XRF/wAAAwAAAwGwysFUy4AA\n",
       "AATNAAAAGQGf+2pF/wAAAwAAAwGweepQBy4AAAMAEzAAAAAxQZvgSahBbJlMCE///fEAAAMAAAMA\n",
       "E/mH2591mAG1P0x36qFEIIFyA32IXAAAAwAQsAAAAB1Bnh5FFSxvAAADAAADAVj7IiqD6Sy8mwAA\n",
       "AwAMCQAAABkBnj10Rf8AAAMAAAMBsKP2R95cAAADACZgAAAAGQGeP2pF/wAAAwAAAwGvrKuZ1MAA\n",
       "AAMAW0AAAABCQZokSahBbJlMCE///fEAAAMAAAMAE9jrhgCDvkbt/tOFvqhg8GtUmqB4Dsvr1mc3\n",
       "QEQQHKNUcsMvlGeLgAAAAwIXAAAAI0GeQkUVLG8AAAMAAAMBWTB7MtOh6vwAiehTd+f2AAADABgQ\n",
       "AAAAFgGeYXRF/wAAAwAAAwCOkitAAAADAk8AAAAWAZ5jakX/AAADAAADAI76BgAAAwAB8wAAAD1B\n",
       "mmhJqEFsmUwIT//98QAAAwAAAwAGSXfrlGjCAE85+To6v0eTDi5flu1qtdxZV4l1xmhLf0gIAAAD\n",
       "ABhQAAAAJUGehkUVLG8AAAMAAAMAcX8WY/4AG1xd6XakHE/WPnoAAAMADQkAAAAWAZ6ldEX/AAAD\n",
       "AAADAI6SK0AAAAMCTgAAACABnqdqRf8AAAMAAAMAjvttjMABbfuPLrFmaAAAAwA24QAAAHdBmqxJ\n",
       "qEFsmUwIT//98QAAAwAAAwAGS7xcnXAByveBxWUUq/hEh4ZmUqEljKhpa060uEtEJpbGJ1FY9Pyf\n",
       "O+5ZMfhe2NnZK84LvxlUyJDV9qYWjh/2MvUy2wtAIe82+bgypmNXha2SNhmkTVPK4JPzCGrxA6Y+\n",
       "4QAAABtBnspFFSxvAAADAAADAHF/E5/B4evAAAADAU0AAAAZAZ7pdEX/AAADAAADAI6UB03TOAAA\n",
       "AwAQ8AAAABcBnutqRf8AAAMAAAMAjvtoweuAAAAGBQAAAExBmvBJqEFsmUwIT//98QAAAwAAAwAG\n",
       "ScbTwAKAxbaiJovdclBUYHoYmpHqBmQBRbXp5bqg+eOX0uztQYYtEsqb+JOimhqtgAAAAwFTAAAA\n",
       "J0GfDkUVLG8AAAMAAAMAcX8WRLwALiB9ileWO/yxb4aDDWuAAAANSQAAACEBny10Rf8AAAMAAAMA\n",
       "jpQEWfh4wADuNwWwin1QAAADAr4AAAAZAZ8vakX/AAADAAADAI76IiGwGAAAAwDUgQAAAFxBmzRJ\n",
       "qEFsmUwIT//98QAAAwAAAwAGRVt8AL/Z+vOgrp9XBDzGcb79xt6ZzCy4vPwsLhFDTgMaR6n+6VUS\n",
       "EEIquILIXxtT6DwdJW+Wj59adiT9GHYt7gAAAwAJOQAAABlBn1JFFSxvAAADAAADAHF+1W0biUAA\n",
       "AAppAAAAFgGfcXRF/wAAAwAAAwCOkitAAAADAk8AAAAaAZ9zakX/AAADAAADAI77ZatgkcwAAAMA\n",
       "akAAAAAoQZt4SahBbJlMCE///fEAAAMAAAMAAfCyU3vXwBOY0nMcBAAAAwAmYAAAABtBn5ZFFSxv\n",
       "AAADAAADAHF+1WXY5HokgAAAD0kAAAAaAZ+1dEX/AAADAAADAI6SS5+XIY4AAAMAK+AAAAAZAZ+3\n",
       "akX/AAADAAADAI76IgCbQeAAAAMCXgAAADBBm7xJqEFsmUwIT//98QAAAwAAAwAB77Elm5MgCWUq\n",
       "C9Ocs0Ehw/IQw3WtgAAABB0AAAAdQZ/aRRUsbwAAAwAAAwBxftWLeUxo6QkAAAMAB90AAAAWAZ/5\n",
       "dEX/AAADAAADAI6SK0AAAAMCTwAAABgBn/tqRf8AAAMAAAMAjvoixtBgAAADAz4AAAA7QZvgSahB\n",
       "bJlMCE///fEAAAMAAAMAAfqxJhZTACge1AkcSgTCkGxSvh2GOkQe5Nkjugm8f2SCwAAABSQAAAAb\n",
       "QZ4eRRUsbwAAAwAAAwBxftWIgxTJbKAAAAS9AAAAGAGePXRF/wAAAwAAAwCOkk0Z7/AAAAMBJwAA\n",
       "ABgBnj9qRf8AAAMAAAMAjvoisHg7gAAACrgAAAA0QZokSahBbJlMCE///fEAAAMAAAMAAf1niUXe\n",
       "7QwAoLXys7li7zwVXvOlb2OgmiAAAAMBgQAAABpBnkJFFSxvAAADAAADAHF+1YsqpCSgAAAFDAAA\n",
       "ABYBnmF0Rf8AAAMAAAMAjpIrQAAAAwJPAAAAFgGeY2pF/wAAAwAAAwCO+gYAAAMAAfMAAAAvQZpo\n",
       "SahBbJlMCE///fEAAAMAAAMAAf0XThy+n11YAi2ByK6iJD3LPXgAAAMAcsAAAAAcQZ6GRRUsbwAA\n",
       "AwAAAwBxftWGWRoNBQAAAwAoYQAAABYBnqV0Rf8AAAMAAAMAjpIrQAAAAwJOAAAAFgGep2pF/wAA\n",
       "AwAAAwCO+gYAAAMAAfMAAAAzQZqsSahBbJlMCE///fEAAAMAAAMAAf0Zh4+QRMAJmXw638jE4+2Q\n",
       "DN7lKRnWwAAAAwH/AAAAHUGeykUVLG8AAAMAAAMAcX7VhlmPzdoHAAADAFJAAAAAFgGe6XRF/wAA\n",
       "AwAAAwCOkitAAAADAk4AAAAYAZ7rakX/AAADAAADAI76Dy+/8AAAAwMbAAAAOkGa8EmoQWyZTAhP\n",
       "//3xAAADAAADAAaWVLB3jE3ZXrAHCpxjOrpExPqnT9ERaOOcBwIEisAAAAMAHdAAAAAdQZ8ORRUs\n",
       "bwAAAwAAAwBxJrQwSQUB8HMAAAMAIWEAAAAWAZ8tdEX/AAADAAADAI6SK0AAAAMCTgAAABYBny9q\n",
       "Rf8AAAMAAAMADdSKtAAAAwGBAAAAOUGbNEmoQWyZTAhP//3xAAADAAADAAH7uHmZrMAJxEo56SNk\n",
       "uvimQDfolgWKs51oJO8dMQuAAAAU0QAAABlBn1JFFSxvAAADAAADACO+1o07EoAAAD7hAAAAFgGf\n",
       "cXRF/wAAAwAAAwANrJvHgAAACBkAAAAXAZ9zakX/AAADAAADAC2HVuAAAAMAooAAAAA7QZt4SahB\n",
       "bJlMCE///fEAAAMAAAMAAg3RNfAJaysWAQedJxmqprXgUZBmW9ovCBBpRqtif/yhQAAADVgAAAAX\n",
       "QZ+WRRUsbwAAAwAAAwALEYCAAAADAekAAAAYAZ+1dEX/AAADAAADAC1cA0W4DAAAAwFJAAAAFQGf\n",
       "t2pF/wAAAwAAAwAAAwAAAwADAgAAADxBm7xJqEFsmUwIT//98QAAAwAAAwACCcQoGbwH64n2CEBP\n",
       "xDgYNhOHWOnZrQzwD8lBDZQ7ef4AAAMAN6EAAAAaQZ/aRRUsbwAAAwAAAwAjqdV/ZmtjgAAAIuEA\n",
       "AAAVAZ/5dEX/AAADAAADAAADAAADAAMDAAAAFQGf+2pF/wAAAwAAAwAAAwAAAwADAgAAACVBm+BJ\n",
       "qEFsmUwIT//98QAAAwAAAwACClmSxxzUO1GQAAADAIWAAAAAGkGeHkUVLG8AAAMAAAMAI65gST14\n",
       "eAAAAwFBAAAAFwGePXRF/wAAAwAAAwAOIMbrAAADAAoIAAAAFQGeP2pF/wAAAwAAAwAAAwAAAwAD\n",
       "AgAAACtBmiRJqEFsmUwIT//98QAAAwAAAwAAp73qGjCAGcITk2S2IbFsAAADAGVBAAAAGkGeQkUV\n",
       "LG8AAAMAAAMAC1+91TWXAAADAFnAAAAAFQGeYXRF/wAAAwAAAwAAAwAAAwADAwAAABUBnmNqRf8A\n",
       "AAMAAAMAAAMAAAMAAwMAAAAuQZpoSahBbJlMCE///fEAAAMAAAMAAKhF/HAbDABqwkVAOL7P2jkX\n",
       "vgAAAwAZUAAAABpBnoZFFSxvAAADAAADAAthEnrhwAAAAwDugQAAABUBnqV0Rf8AAAMAAAMAAAMA\n",
       "AAMAAwIAAAAVAZ6nakX/AAADAAADAAADAAADAAMDAAAAK0GarEmoQWyZTAhP//3xAAADAAADAACo\n",
       "K3mIFUpgDLxUGljdxJfAAAADAysAAAAWQZ7KRRUsbwAAAwAAAwAAAwAAAwACXgAAABYBnul0Rf8A\n",
       "AAMAAAMADhaY2cAAABdwAAAAFQGe62pF/wAAAwAAAwAAAwAAAwADAwAAAChBmvBJqEFsmUwIT//9\n",
       "8QAAAwAAAwAAqCscOogAKkbeTCa2AAADADKgAAAAFkGfDkUVLG8AAAMAAAMAAAMAAAMAAl8AAAAV\n",
       "AZ8tdEX/AAADAAADAAADAAADAAMCAAAAFQGfL2pF/wAAAwAAAwAAAwAAAwADAwAAACdBmzRJqEFs\n",
       "mUwIT//98QAAAwAAAwAAqCt5rq0AJ+8oKIrWwAAABlUAAAAYQZ9SRRUsbwAAAwAAAwALpjw6AAAD\n",
       "AMaBAAAAFQGfcXRF/wAAAwAAAwAAAwAAAwADAwAAABYBn3NqRf8AAAMAAAMADoN24AAAAwHtAAAA\n",
       "OkGbeEmoQWyZTAhP//3xAAADAAADAACoZWk9PuDABzd4D9cbP4yg/QKnObQcXDrs0n+NQrtgAAAD\n",
       "AyoAAAAYQZ+WRRUsbwAAAwAAAwALqVRVAAADAEjBAAAAFgGftXRF/wAAAwAAAwAOeWDAAAADAm4A\n",
       "AAAWAZ+3akX/AAADAAADAA6DduAAAAMB7QAAAExBm7xJqEFsmUwIT//98QAAAwAAAwAArI13oASO\n",
       "I6AtD09BOGEeH02PLOHeT6ZPHVPrRQBjlm3JhOicIXRBSIcbWY8x1SrmvDoQFvfBAAAAGEGf2kUV\n",
       "LG8AAAMAAAMAC6lUVQAAAwBIwQAAABYBn/l0Rf8AAAMAAAMADlVYhaAAAAtpAAAAGAGf+2pF/wAA\n",
       "AwAAAwAOc1OG3PAAAAMDFgAAACZBm+BJqEFsmUwIT//98QAAAwAAAwAArHsvYotACefg4g2AAAAM\n",
       "WAAAABlBnh5FFSxvAAADAAADAAuWnWvd6AAAAwMbAAAAFQGePXRF/wAAAwAAAwAAAwAAAwADAgAA\n",
       "ABUBnj9qRf8AAAMAAAMAAAMAAAMAAwIAAAAiQZokSahBbJlMCE///fEAAAMAAAMAAK0u/jRqICAA\n",
       "AAMDgwAAABlBnkJFFSxvAAADAAADAAugb8v6AAADAMaAAAAAFQGeYXRF/wAAAwAAAwAAAwAAAwAD\n",
       "AwAAABUBnmNqRf8AAAMAAAMAAAMAAAMAAwMAAAAiQZpoSahBbJlMCE///fEAAAMAAAMAAK0u/jRq\n",
       "ICAAAAMDggAAABZBnoZFFSxvAAADAAADAAADAAADAAJfAAAAFQGepXRF/wAAAwAAAwAAAwAAAwAD\n",
       "AgAAABUBnqdqRf8AAAMAAAMAAAMAAAMAAwMAAAAiQZqsSahBbJlMCE///fEAAAMAAAMAAKx7L2JR\n",
       "AQAAAwAcEQAAABZBnspFFSxvAAADAAADAAADAAADAAJeAAAAFQGe6XRF/wAAAwAAAwAAAwAAAwAD\n",
       "AgAAABUBnutqRf8AAAMAAAMAAAMAAAMAAwMAAAAoQZrwSahBbJlMCE///fEAAAMAAAMAAKx7L2K6\n",
       "8AQ9A1ubJgAAAwAUEAAAABhBnw5FFSxvAAADAAADAAOg8VUAAAMA5oEAAAAVAZ8tdEX/AAADAAAD\n",
       "AAADAAADAAMCAAAAFQGfL2pF/wAAAwAAAwAAAwAAAwADAwAAACtBmzRJqEFsmUwIR//94QAAAwAA\n",
       "AwABDUTir71EAQtIH2HAfs9KAAADADPhAAAAFkGfUkUVLG8AAAMAAAMAAAMAAAMAAl8AAAAVAZ9x\n",
       "dEX/AAADAAADAAADAAADAAMDAAAAFQGfc2pF/wAAAwAAAwAAAwAAAwADAgAAACZBm3hJqEFsmUwI\n",
       "//yEAAADAAADAAQW01VANgBUBRorJgAAAwAsoAAAABdBn5ZFFSxvAAADAAADAAOh9odAAABOwQAA\n",
       "ABUBn7V0Rf8AAAMAAAMAAAMAAAMAAwIAAAAVAZ+3akX/AAADAAADAAADAAADAAMCAAAAKUGbu0mo\n",
       "QWyZTAi/+lgAAAMAAAMACAjlSv5ou+BVLYAvGBWgIAAAAwEXAAAAF0Gf2kIv/wAAAwAAAwAOUgf7\n",
       "XTQAAAS9AAAAFQGf+WkRfwAAAwAAAwAAAwAAAwADAwAAJOZtb292AAAAbG12aGQAAAAAAAAAAAAA\n",
       "AAAAAAPoAAAOEAABAAABAAAAAAAAAAAAAAAAAQAAAAAAAAAAAAAAAAAAAAEAAAAAAAAAAAAAAAAA\n",
       "AEAAAAAAAAAAAAAAAAAAAAAAAAAAAAAAAAAAAAAAAAACAAAkEHRyYWsAAABcdGtoZAAAAAMAAAAA\n",
       "AAAAAAAAAAEAAAAAAAAOEAAAAAAAAAAAAAAAAAAAAAAAAQAAAAAAAAAAAAAAAAAAAAEAAAAAAAAA\n",
       "AAAAAAAAAEAAAAAC0AAAAtAAAAAAACRlZHRzAAAAHGVsc3QAAAAAAAAAAQAADhAAAACAAAEAAAAA\n",
       "I4htZGlhAAAAIG1kaGQAAAAAAAAAAAAAAAAAADIAAAC0AFXEAAAAAAAtaGRscgAAAAAAAAAAdmlk\n",
       "ZQAAAAAAAAAAAAAAAFZpZGVvSGFuZGxlcgAAACMzbWluZgAAABR2bWhkAAAAAQAAAAAAAAAAAAAA\n",
       "JGRpbmYAAAAcZHJlZgAAAAAAAAABAAAADHVybCAAAAABAAAi83N0YmwAAACzc3RzZAAAAAAAAAAB\n",
       "AAAAo2F2YzEAAAAAAAAAAQAAAAAAAAAAAAAAAAAAAAAC0ALQAEgAAABIAAAAAAAAAAEAAAAAAAAA\n",
       "AAAAAAAAAAAAAAAAAAAAAAAAAAAAAAAAAAAY//8AAAAxYXZjQwFkACr/4QAYZ2QAKqzZQLQW6EAA\n",
       "AAMAQAAAZAPGDGWAAQAGaOvjyyLAAAAAHHV1aWRraEDyXyRPxbo5pRvPAyPzAAAAAAAAABhzdHRz\n",
       "AAAAAAAAAAEAAALQAAAAQAAAABxzdHNzAAAAAAAAAAMAAAABAAAA+wAAAfUAABaAY3R0cwAAAAAA\n",
       "AALOAAAAAQAAAIAAAAABAAABQAAAAAEAAACAAAAAAQAAAAAAAAABAAAAQAAAAAEAAAFAAAAAAQAA\n",
       "AIAAAAABAAAAAAAAAAEAAABAAAAAAQAAAUAAAAABAAAAgAAAAAEAAAAAAAAAAQAAAEAAAAABAAAB\n",
       "QAAAAAEAAACAAAAAAQAAAAAAAAABAAAAQAAAAAEAAAFAAAAAAQAAAIAAAAABAAAAAAAAAAEAAABA\n",
       "AAAAAQAAAUAAAAABAAAAgAAAAAEAAAAAAAAAAQAAAEAAAAABAAABQAAAAAEAAACAAAAAAQAAAAAA\n",
       "AAABAAAAQAAAAAEAAAFAAAAAAQAAAIAAAAABAAAAAAAAAAEAAABAAAAAAQAAAUAAAAABAAAAgAAA\n",
       "AAEAAAAAAAAAAQAAAEAAAAABAAABQAAAAAEAAACAAAAAAQAAAAAAAAABAAAAQAAAAAEAAAFAAAAA\n",
       "AQAAAIAAAAABAAAAAAAAAAEAAABAAAAAAQAAAUAAAAABAAAAgAAAAAEAAAAAAAAAAQAAAEAAAAAB\n",
       "AAABQAAAAAEAAACAAAAAAQAAAAAAAAABAAAAQAAAAAEAAAFAAAAAAQAAAIAAAAABAAAAAAAAAAEA\n",
       "AABAAAAAAQAAAUAAAAABAAAAgAAAAAEAAAAAAAAAAQAAAEAAAAABAAABQAAAAAEAAACAAAAAAQAA\n",
       "AAAAAAABAAAAQAAAAAEAAAFAAAAAAQAAAIAAAAABAAAAAAAAAAEAAABAAAAAAQAAAUAAAAABAAAA\n",
       "gAAAAAEAAAAAAAAAAQAAAEAAAAABAAABQAAAAAEAAACAAAAAAQAAAAAAAAABAAAAQAAAAAEAAAFA\n",
       "AAAAAQAAAIAAAAABAAAAAAAAAAEAAABAAAAAAQAAAUAAAAABAAAAgAAAAAEAAAAAAAAAAQAAAEAA\n",
       "AAABAAABQAAAAAEAAACAAAAAAQAAAAAAAAABAAAAQAAAAAEAAAFAAAAAAQAAAIAAAAABAAAAAAAA\n",
       "AAEAAABAAAAAAQAAAUAAAAABAAAAgAAAAAEAAAAAAAAAAQAAAEAAAAABAAABQAAAAAEAAACAAAAA\n",
       "AQAAAAAAAAABAAAAQAAAAAEAAAFAAAAAAQAAAIAAAAABAAAAAAAAAAEAAABAAAAAAQAAAUAAAAAB\n",
       "AAAAgAAAAAEAAAAAAAAAAQAAAEAAAAABAAABQAAAAAEAAACAAAAAAQAAAAAAAAABAAAAQAAAAAEA\n",
       "AAFAAAAAAQAAAIAAAAABAAAAAAAAAAEAAABAAAAAAQAAAUAAAAABAAAAgAAAAAEAAAAAAAAAAQAA\n",
       "AEAAAAABAAABQAAAAAEAAACAAAAAAQAAAAAAAAABAAAAQAAAAAEAAAFAAAAAAQAAAIAAAAABAAAA\n",
       "AAAAAAEAAABAAAAAAQAAAUAAAAABAAAAgAAAAAEAAAAAAAAAAQAAAEAAAAABAAABQAAAAAEAAACA\n",
       "AAAAAQAAAAAAAAABAAAAQAAAAAEAAAFAAAAAAQAAAIAAAAABAAAAAAAAAAEAAABAAAAAAQAAAUAA\n",
       "AAABAAAAgAAAAAEAAAAAAAAAAQAAAEAAAAABAAABQAAAAAEAAACAAAAAAQAAAAAAAAABAAAAQAAA\n",
       "AAEAAAFAAAAAAQAAAIAAAAABAAAAAAAAAAEAAABAAAAAAQAAAUAAAAABAAAAgAAAAAEAAAAAAAAA\n",
       "AQAAAEAAAAABAAABQAAAAAEAAACAAAAAAQAAAAAAAAABAAAAQAAAAAEAAAFAAAAAAQAAAIAAAAAB\n",
       "AAAAAAAAAAEAAABAAAAAAQAAAUAAAAABAAAAgAAAAAEAAAAAAAAAAQAAAEAAAAABAAABQAAAAAEA\n",
       "AACAAAAAAQAAAAAAAAABAAAAQAAAAAEAAAFAAAAAAQAAAIAAAAABAAAAAAAAAAEAAABAAAAAAQAA\n",
       "AUAAAAABAAAAgAAAAAEAAAAAAAAAAQAAAEAAAAABAAABQAAAAAEAAACAAAAAAQAAAAAAAAABAAAA\n",
       "QAAAAAEAAAFAAAAAAQAAAIAAAAABAAAAAAAAAAEAAABAAAAAAQAAAUAAAAABAAAAgAAAAAEAAAAA\n",
       "AAAAAQAAAEAAAAABAAABQAAAAAEAAACAAAAAAQAAAAAAAAABAAAAQAAAAAEAAAFAAAAAAQAAAIAA\n",
       "AAABAAAAAAAAAAEAAABAAAAAAQAAAUAAAAABAAAAgAAAAAEAAAAAAAAAAQAAAEAAAAABAAABQAAA\n",
       "AAEAAACAAAAAAQAAAAAAAAABAAAAQAAAAAEAAAFAAAAAAQAAAIAAAAABAAAAAAAAAAEAAABAAAAA\n",
       "AQAAAUAAAAABAAAAgAAAAAEAAAAAAAAAAQAAAEAAAAABAAABQAAAAAEAAACAAAAAAQAAAAAAAAAB\n",
       "AAAAQAAAAAEAAAFAAAAAAQAAAIAAAAABAAAAAAAAAAEAAABAAAAAAQAAAUAAAAABAAAAgAAAAAEA\n",
       "AAAAAAAAAQAAAEAAAAABAAABQAAAAAEAAACAAAAAAQAAAAAAAAABAAAAQAAAAAEAAAFAAAAAAQAA\n",
       "AIAAAAABAAAAAAAAAAEAAABAAAAAAQAAAUAAAAABAAAAgAAAAAEAAAAAAAAAAQAAAEAAAAABAAAB\n",
       "QAAAAAEAAACAAAAAAQAAAAAAAAABAAAAQAAAAAEAAAFAAAAAAQAAAIAAAAABAAAAAAAAAAEAAABA\n",
       "AAAAAgAAAIAAAAABAAABQAAAAAEAAACAAAAAAQAAAAAAAAABAAAAQAAAAAEAAAFAAAAAAQAAAIAA\n",
       "AAABAAAAAAAAAAEAAABAAAAAAQAAAUAAAAABAAAAgAAAAAEAAAAAAAAAAQAAAEAAAAABAAABQAAA\n",
       "AAEAAACAAAAAAQAAAAAAAAABAAAAQAAAAAEAAAFAAAAAAQAAAIAAAAABAAAAAAAAAAEAAABAAAAA\n",
       "AQAAAUAAAAABAAAAgAAAAAEAAAAAAAAAAQAAAEAAAAABAAABQAAAAAEAAACAAAAAAQAAAAAAAAAB\n",
       "AAAAQAAAAAEAAAFAAAAAAQAAAIAAAAABAAAAAAAAAAEAAABAAAAAAQAAAUAAAAABAAAAgAAAAAEA\n",
       "AAAAAAAAAQAAAEAAAAABAAABQAAAAAEAAACAAAAAAQAAAAAAAAABAAAAQAAAAAEAAAFAAAAAAQAA\n",
       "AIAAAAABAAAAAAAAAAEAAABAAAAAAQAAAUAAAAABAAAAgAAAAAEAAAAAAAAAAQAAAEAAAAABAAAB\n",
       "QAAAAAEAAACAAAAAAQAAAAAAAAABAAAAQAAAAAEAAAFAAAAAAQAAAIAAAAABAAAAAAAAAAEAAABA\n",
       "AAAAAQAAAUAAAAABAAAAgAAAAAEAAAAAAAAAAQAAAEAAAAABAAABQAAAAAEAAACAAAAAAQAAAAAA\n",
       "AAABAAAAQAAAAAEAAAFAAAAAAQAAAIAAAAABAAAAAAAAAAEAAABAAAAAAQAAAUAAAAABAAAAgAAA\n",
       "AAEAAAAAAAAAAQAAAEAAAAABAAABQAAAAAEAAACAAAAAAQAAAAAAAAABAAAAQAAAAAEAAAFAAAAA\n",
       "AQAAAIAAAAABAAAAAAAAAAEAAABAAAAAAQAAAUAAAAABAAAAgAAAAAEAAAAAAAAAAQAAAEAAAAAB\n",
       "AAABQAAAAAEAAACAAAAAAQAAAAAAAAABAAAAQAAAAAEAAAFAAAAAAQAAAIAAAAABAAAAAAAAAAEA\n",
       "AABAAAAAAQAAAUAAAAABAAAAgAAAAAEAAAAAAAAAAQAAAEAAAAABAAABQAAAAAEAAACAAAAAAQAA\n",
       "AAAAAAABAAAAQAAAAAEAAAFAAAAAAQAAAIAAAAABAAAAAAAAAAEAAABAAAAAAQAAAUAAAAABAAAA\n",
       "gAAAAAEAAAAAAAAAAQAAAEAAAAABAAABQAAAAAEAAACAAAAAAQAAAAAAAAABAAAAQAAAAAEAAAFA\n",
       "AAAAAQAAAIAAAAABAAAAAAAAAAEAAABAAAAAAQAAAUAAAAABAAAAgAAAAAEAAAAAAAAAAQAAAEAA\n",
       "AAABAAABQAAAAAEAAACAAAAAAQAAAAAAAAABAAAAQAAAAAEAAAFAAAAAAQAAAIAAAAABAAAAAAAA\n",
       "AAEAAABAAAAAAQAAAUAAAAABAAAAgAAAAAEAAAAAAAAAAQAAAEAAAAABAAABQAAAAAEAAACAAAAA\n",
       "AQAAAAAAAAABAAAAQAAAAAEAAAFAAAAAAQAAAIAAAAABAAAAAAAAAAEAAABAAAAAAQAAAUAAAAAB\n",
       "AAAAgAAAAAEAAAAAAAAAAQAAAEAAAAABAAABQAAAAAEAAACAAAAAAQAAAAAAAAABAAAAQAAAAAEA\n",
       "AAFAAAAAAQAAAIAAAAABAAAAAAAAAAEAAABAAAAAAQAAAUAAAAABAAAAgAAAAAEAAAAAAAAAAQAA\n",
       "AEAAAAABAAABQAAAAAEAAACAAAAAAQAAAAAAAAABAAAAQAAAAAEAAAFAAAAAAQAAAIAAAAABAAAA\n",
       "AAAAAAEAAABAAAAAAQAAAUAAAAABAAAAgAAAAAEAAAAAAAAAAQAAAEAAAAABAAABQAAAAAEAAACA\n",
       "AAAAAQAAAAAAAAABAAAAQAAAAAEAAAFAAAAAAQAAAIAAAAABAAAAAAAAAAEAAABAAAAAAQAAAUAA\n",
       "AAABAAAAgAAAAAEAAAAAAAAAAQAAAEAAAAABAAABQAAAAAEAAACAAAAAAQAAAAAAAAABAAAAQAAA\n",
       "AAEAAAFAAAAAAQAAAIAAAAABAAAAAAAAAAEAAABAAAAAAQAAAUAAAAABAAAAgAAAAAEAAAAAAAAA\n",
       "AQAAAEAAAAABAAABQAAAAAEAAACAAAAAAQAAAAAAAAABAAAAQAAAAAEAAAFAAAAAAQAAAIAAAAAB\n",
       "AAAAAAAAAAEAAABAAAAAAQAAAUAAAAABAAAAgAAAAAEAAAAAAAAAAQAAAEAAAAABAAABQAAAAAEA\n",
       "AACAAAAAAQAAAAAAAAABAAAAQAAAAAEAAAFAAAAAAQAAAIAAAAABAAAAAAAAAAEAAABAAAAAAQAA\n",
       "AUAAAAABAAAAgAAAAAEAAAAAAAAAAQAAAEAAAAABAAABQAAAAAEAAACAAAAAAQAAAAAAAAABAAAA\n",
       "QAAAAAEAAAFAAAAAAQAAAIAAAAABAAAAAAAAAAEAAABAAAAAAQAAAUAAAAABAAAAgAAAAAEAAAAA\n",
       "AAAAAQAAAEAAAAABAAABQAAAAAEAAACAAAAAAQAAAAAAAAABAAAAQAAAAAEAAAFAAAAAAQAAAIAA\n",
       "AAABAAAAAAAAAAEAAABAAAAAAQAAAUAAAAABAAAAgAAAAAEAAAAAAAAAAQAAAEAAAAABAAABQAAA\n",
       "AAEAAACAAAAAAQAAAAAAAAABAAAAQAAAAAEAAAFAAAAAAQAAAIAAAAABAAAAAAAAAAEAAABAAAAA\n",
       "AgAAAIAAAAABAAABQAAAAAEAAACAAAAAAQAAAAAAAAABAAAAQAAAAAEAAAFAAAAAAQAAAIAAAAAB\n",
       "AAAAAAAAAAEAAABAAAAAAQAAAUAAAAABAAAAgAAAAAEAAAAAAAAAAQAAAEAAAAABAAABQAAAAAEA\n",
       "AACAAAAAAQAAAAAAAAABAAAAQAAAAAEAAAFAAAAAAQAAAIAAAAABAAAAAAAAAAEAAABAAAAAAQAA\n",
       "AUAAAAABAAAAgAAAAAEAAAAAAAAAAQAAAEAAAAABAAABQAAAAAEAAACAAAAAAQAAAAAAAAABAAAA\n",
       "QAAAAAEAAAFAAAAAAQAAAIAAAAABAAAAAAAAAAEAAABAAAAAAQAAAUAAAAABAAAAgAAAAAEAAAAA\n",
       "AAAAAQAAAEAAAAABAAABQAAAAAEAAACAAAAAAQAAAAAAAAABAAAAQAAAAAEAAAFAAAAAAQAAAIAA\n",
       "AAABAAAAAAAAAAEAAABAAAAAAQAAAUAAAAABAAAAgAAAAAEAAAAAAAAAAQAAAEAAAAABAAABQAAA\n",
       "AAEAAACAAAAAAQAAAAAAAAABAAAAQAAAAAEAAAFAAAAAAQAAAIAAAAABAAAAAAAAAAEAAABAAAAA\n",
       "AQAAAUAAAAABAAAAgAAAAAEAAAAAAAAAAQAAAEAAAAABAAABQAAAAAEAAACAAAAAAQAAAAAAAAAB\n",
       "AAAAQAAAAAEAAAFAAAAAAQAAAIAAAAABAAAAAAAAAAEAAABAAAAAAQAAAUAAAAABAAAAgAAAAAEA\n",
       "AAAAAAAAAQAAAEAAAAABAAABQAAAAAEAAACAAAAAAQAAAAAAAAABAAAAQAAAAAEAAAFAAAAAAQAA\n",
       "AIAAAAABAAAAAAAAAAEAAABAAAAAAQAAAUAAAAABAAAAgAAAAAEAAAAAAAAAAQAAAEAAAAABAAAB\n",
       "QAAAAAEAAACAAAAAAQAAAAAAAAABAAAAQAAAAAEAAAFAAAAAAQAAAIAAAAABAAAAAAAAAAEAAABA\n",
       "AAAAAQAAAUAAAAABAAAAgAAAAAEAAAAAAAAAAQAAAEAAAAABAAABQAAAAAEAAACAAAAAAQAAAAAA\n",
       "AAABAAAAQAAAAAEAAAFAAAAAAQAAAIAAAAABAAAAAAAAAAEAAABAAAAAAQAAAUAAAAABAAAAgAAA\n",
       "AAEAAAAAAAAAAQAAAEAAAAABAAABQAAAAAEAAACAAAAAAQAAAAAAAAABAAAAQAAAAAEAAAFAAAAA\n",
       "AQAAAIAAAAABAAAAAAAAAAEAAABAAAAAAQAAAUAAAAABAAAAgAAAAAEAAAAAAAAAAQAAAEAAAAAB\n",
       "AAABQAAAAAEAAACAAAAAAQAAAAAAAAABAAAAQAAAAAEAAAFAAAAAAQAAAIAAAAABAAAAAAAAAAEA\n",
       "AABAAAAAAQAAAUAAAAABAAAAgAAAAAEAAAAAAAAAAQAAAEAAAAABAAABQAAAAAEAAACAAAAAAQAA\n",
       "AAAAAAABAAAAQAAAAAEAAAFAAAAAAQAAAIAAAAABAAAAAAAAAAEAAABAAAAAAQAAAUAAAAABAAAA\n",
       "gAAAAAEAAAAAAAAAAQAAAEAAAAABAAABQAAAAAEAAACAAAAAAQAAAAAAAAABAAAAQAAAAAEAAAFA\n",
       "AAAAAQAAAIAAAAABAAAAAAAAAAEAAABAAAAAAQAAAUAAAAABAAAAgAAAAAEAAAAAAAAAAQAAAEAA\n",
       "AAABAAABQAAAAAEAAACAAAAAAQAAAAAAAAABAAAAQAAAAAEAAAFAAAAAAQAAAIAAAAABAAAAAAAA\n",
       "AAEAAABAAAAAAQAAAUAAAAABAAAAgAAAAAEAAAAAAAAAAQAAAEAAAAABAAABQAAAAAEAAACAAAAA\n",
       "AQAAAAAAAAABAAAAQAAAAAEAAAFAAAAAAQAAAIAAAAABAAAAAAAAAAEAAABAAAAAAQAAAUAAAAAB\n",
       "AAAAgAAAAAEAAAAAAAAAAQAAAEAAAAABAAABQAAAAAEAAACAAAAAAQAAAAAAAAABAAAAQAAAAAEA\n",
       "AAFAAAAAAQAAAIAAAAABAAAAAAAAAAEAAABAAAAAAQAAAUAAAAABAAAAgAAAAAEAAAAAAAAAAQAA\n",
       "AEAAAAABAAABQAAAAAEAAACAAAAAAQAAAAAAAAABAAAAQAAAAAEAAAFAAAAAAQAAAIAAAAABAAAA\n",
       "AAAAAAEAAABAAAAAAQAAAUAAAAABAAAAgAAAAAEAAAAAAAAAAQAAAEAAAAABAAABQAAAAAEAAACA\n",
       "AAAAAQAAAAAAAAABAAAAQAAAAAEAAAFAAAAAAQAAAIAAAAABAAAAAAAAAAEAAABAAAAAAQAAAUAA\n",
       "AAABAAAAgAAAAAEAAAAAAAAAAQAAAEAAAAABAAABAAAAAAEAAACAAAAAAQAAAAAAAAAcc3RzYwAA\n",
       "AAAAAAABAAAAAQAAAtAAAAABAAALVHN0c3oAAAAAAAAAAAAAAtAAAA80AAAAmQAAAEoAAAA1AAAA\n",
       "GwAAADIAAAArAAAAGwAAABkAAAAqAAAAKAAAABkAAAAZAAAALgAAAC0AAAAZAAAAGQAAADMAAAAs\n",
       "AAAAGQAAABkAAAAiAAAAKwAAABkAAAAZAAAAMQAAACsAAAAZAAAAGQAAACoAAAArAAAAGQAAABkA\n",
       "AAApAAAAKwAAABkAAAAZAAAALAAAACsAAAAZAAAAGQAAACIAAAArAAAAGQAAABkAAAAsAAAALAAA\n",
       "ABkAAAAZAAAAIgAAACsAAAAZAAAAGQAAAC8AAAArAAAAGQAAABkAAAAoAAAAKwAAABkAAAAZAAAA\n",
       "LAAAACsAAAAZAAAAGgAAAC0AAAArAAAAGgAAABoAAAAvAAAAKwAAABkAAAAZAAAAIgAAACgAAAAZ\n",
       "AAAAGQAAACoAAAAqAAAAGQAAABkAAAAtAAAAKAAAABkAAAAZAAAAIgAAACgAAAAZAAAAGQAAACsA\n",
       "AAAoAAAAGQAAABkAAAA0AAAAKAAAABkAAAAZAAAAJAAAAC0AAAAaAAAAGQAAAC4AAAAsAAAAGQAA\n",
       "ABkAAAAxAAAAKgAAABoAAAAZAAAAIgAAACgAAAAZAAAAGQAAAC4AAAArAAAAGQAAABoAAAArAAAA\n",
       "KwAAABkAAAAZAAAALwAAACgAAAAZAAAAGQAAACoAAAAoAAAAGQAAABkAAAAtAAAAKgAAABkAAAAZ\n",
       "AAAALgAAACgAAAAZAAAAGQAAAC4AAAAqAAAAGgAAABkAAAAuAAAAKgAAABkAAAAaAAAAMAAAACsA\n",
       "AAAaAAAAGgAAACsAAAArAAAAGgAAABoAAAAyAAAAKwAAABkAAAAbAAAALQAAACoAAAAaAAAAGgAA\n",
       "AC0AAAAqAAAAGQAAABkAAAArAAAAKgAAABkAAAAZAAAALgAAACsAAAAZAAAAGQAAAC4AAAAoAAAA\n",
       "GQAAABkAAAAxAAAAKgAAABkAAAAZAAAALQAAACoAAAAZAAAAGQAAAC8AAAAoAAAAGQAAABkAAAAz\n",
       "AAAAKgAAABoAAAAZAAAAJQAAACgAAAAZAAAAGQAAACgAAAAqAAAAGgAAABkAAAAtAAAAKgAAABkA\n",
       "AAAZAAAALAAAACsAAAAZAAAAGQAAACsAAAAqAAAAGQAAABkAAAAwAAAAKgAAABkAAAAZAAAALQAA\n",
       "ACgAAAAZAAAAGQAAADEAAAAoAAAAGQAAABkAAAAyAAAAKAAAABkAAAAZAAAAMwAAACgAAAAZAAAA\n",
       "GQAAAEAAAAAoAAAAGQAAABkAAAAvAAAAKAAAABkAAAAZAAAAMwAAACgAAAAZAAAAGQAAADMAAAAo\n",
       "AAAAGQAAABkAAAAgAAAOiQAAADIAAAAeAAAAGQAAABkAAAA2AAAAHwAAABkAAAAZAAAALQAAAB8A\n",
       "AAAZAAAAGQAAAD0AAAAfAAAAGQAAABkAAAAxAAAAHwAAABkAAAAZAAAAMwAAAB8AAAAZAAAAGQAA\n",
       "ADMAAAAfAAAAGQAAABkAAAAkAAAAHwAAABkAAAAZAAAALAAAAB8AAAAZAAAAGQAAAC0AAAAfAAAA\n",
       "GQAAABkAAAAtAAAAHwAAABkAAAAZAAAAJAAAAB8AAAAZAAAAGQAAACwAAAAfAAAAGQAAABkAAAAv\n",
       "AAAAHwAAABkAAAAZAAAAKQAAAB8AAAAZAAAAGgAAAC8AAAAfAAAAGgAAABoAAAAvAAAAHwAAABoA\n",
       "AAAaAAAAMQAAAB8AAAAbAAAAGQAAADMAAAAfAAAAGQAAABkAAAAtAAAAHwAAABkAAAAZAAAAMwAA\n",
       "ACAAAAAZAAAAGQAAADgAAAAhAAAAGgAAABkAAAAlAAAAHwAAABkAAAAZAAAALQAAAB8AAAAZAAAA\n",
       "GQAAACQAAAAfAAAAGQAAABkAAAAsAAAAHwAAABkAAAAZAAAALwAAAB8AAAAZAAAAGQAAACsAAAAf\n",
       "AAAAGQAAABkAAAAuAAAAHwAAABkAAAAZAAAANQAAAB8AAAAZAAAAGQAAACwAAAAfAAAAGQAAABkA\n",
       "AAAvAAAAHwAAABkAAAAZAAAAMwAAAB8AAAAZAAAAGQAAACQAAAAfAAAAGQAAABkAAAAlAAAAHwAA\n",
       "ABkAAAAZAAAAKgAAAB8AAAAZAAAAGQAAAC0AAAAfAAAAGQAAABkAAAArAAAAHwAAABkAAAAZAAAA\n",
       "LgAAAB8AAAAZAAAAGwAAACcAAAAhAAAAGwAAABoAAAAyAAAAHwAAABkAAAAbAAAAKQAAAB8AAAAZ\n",
       "AAAAGQAAADMAAAAiAAAAGgAAABsAAAAkAAAAIgAAABkAAAAZAAAALAAAAB8AAAAZAAAAGQAAAC4A\n",
       "AAAfAAAAGQAAABkAAAAqAAAAHwAAABkAAAAZAAAALAAAAB8AAAAZAAAAGgAAACwAAAAfAAAAGQAA\n",
       "ABkAAAAyAAAAHwAAABkAAAAZAAAAMAAAAB8AAAAZAAAAGQAAACcAAAAfAAAAGQAAABoAAAAlAAAA\n",
       "HwAAABkAAAAZAAAAJQAAAB8AAAAZAAAAGQAAACUAAAAfAAAAGQAAABkAAAAwAAAAIQAAABoAAAAd\n",
       "AAAAMwAAACIAAAAeAAAAGgAAAD0AAAAfAAAAGQAAABoAAAAlAAAAHwAAABkAAAAbAAAAJQAAACEA\n",
       "AAAZAAAAGQAAACUAAAAfAAAAGwAAABkAAAAkAAAAHwAAABoAAAAbAAAAIgAADy4AAAAeAAAAGQAA\n",
       "ABkAAAAaAAAAJgAAABwAAAAZAAAAGwAAACUAAAAcAAAAGwAAABkAAAAlAAAAHAAAABkAAAAbAAAA\n",
       "JQAAAB0AAAAZAAAAGQAAACUAAAAaAAAAGQAAABkAAAA+AAAAHgAAABwAAAAdAAAAMwAAACAAAAAZ\n",
       "AAAAHQAAAC8AAAAdAAAAGgAAABoAAAAmAAAAHQAAABoAAAAZAAAAKwAAAB0AAAAZAAAAGgAAADAA\n",
       "AAAdAAAAGgAAABoAAAAnAAAAHgAAABwAAAAZAAAAMgAAAB8AAAAaAAAAHAAAADEAAAAgAAAAHAAA\n",
       "ABwAAABBAAAAHwAAABwAAAAdAAAAJQAAAB8AAAAaAAAAGgAAACUAAAAfAAAAGgAAABoAAAAuAAAA\n",
       "HwAAABoAAAAaAAAALgAAAB4AAAAaAAAAGgAAADUAAAAcAAAAGgAAABoAAAA3AAAAHwAAABoAAAAa\n",
       "AAAAXgAAACEAAAAbAAAAHQAAADUAAAAhAAAAHQAAAB0AAABGAAAAJwAAABoAAAAaAAAAQQAAACkA\n",
       "AAAaAAAAJAAAAHsAAAAfAAAAHQAAABsAAABQAAAAKwAAACUAAAAdAAAAYAAAAB0AAAAaAAAAHgAA\n",
       "ACwAAAAfAAAAHgAAAB0AAAA0AAAAIQAAABoAAAAcAAAAPwAAAB8AAAAcAAAAHAAAADgAAAAeAAAA\n",
       "GgAAABoAAAAzAAAAIAAAABoAAAAaAAAANwAAACEAAAAaAAAAHAAAAD4AAAAhAAAAGgAAABoAAAA9\n",
       "AAAAHQAAABoAAAAbAAAAPwAAABsAAAAcAAAAGQAAAEAAAAAeAAAAGQAAABkAAAApAAAAHgAAABsA\n",
       "AAAZAAAALwAAAB4AAAAZAAAAGQAAADIAAAAeAAAAGQAAABkAAAAvAAAAGgAAABoAAAAZAAAALAAA\n",
       "ABoAAAAZAAAAGQAAACsAAAAcAAAAGQAAABoAAAA+AAAAHAAAABoAAAAaAAAAUAAAABwAAAAaAAAA\n",
       "HAAAACoAAAAdAAAAGQAAABkAAAAmAAAAHQAAABkAAAAZAAAAJgAAABoAAAAZAAAAGQAAACYAAAAa\n",
       "AAAAGQAAABkAAAAsAAAAHAAAABkAAAAZAAAALwAAABoAAAAZAAAAGQAAACoAAAAbAAAAGQAAABkA\n",
       "AAAtAAAAGwAAABkAAAAUc3RjbwAAAAAAAAABAAAALAAAAGJ1ZHRhAAAAWm1ldGEAAAAAAAAAIWhk\n",
       "bHIAAAAAAAAAAG1kaXJhcHBsAAAAAAAAAAAAAAAALWlsc3QAAAAlqXRvbwAAAB1kYXRhAAAAAQAA\n",
       "AABMYXZmNTcuNTYuMTAx\n",
       "\">\n",
       "  Your browser does not support the video tag.\n",
       "</video>"
      ],
      "text/plain": [
       "<IPython.core.display.HTML object>"
      ]
     },
     "execution_count": 161,
     "metadata": {},
     "output_type": "execute_result"
    }
   ],
   "source": [
    "HTML(anim_ast.to_html5_video())"
   ]
  },
  {
   "cell_type": "code",
   "execution_count": 162,
   "metadata": {
    "collapsed": true
   },
   "outputs": [],
   "source": [
    "# NOTE: BIFURQUEMENT ASSEZ CURIEUX"
   ]
  }
 ],
 "metadata": {
  "kernelspec": {
   "display_name": "Python 3",
   "language": "python",
   "name": "python3"
  },
  "language_info": {
   "codemirror_mode": {
    "name": "ipython",
    "version": 3
   },
   "file_extension": ".py",
   "mimetype": "text/x-python",
   "name": "python",
   "nbconvert_exporter": "python",
   "pygments_lexer": "ipython3",
   "version": "3.6.2"
  }
 },
 "nbformat": 4,
 "nbformat_minor": 2
}
