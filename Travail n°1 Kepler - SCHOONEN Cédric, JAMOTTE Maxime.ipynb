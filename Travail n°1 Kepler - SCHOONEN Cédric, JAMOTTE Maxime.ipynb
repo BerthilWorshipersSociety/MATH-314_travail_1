﻿{
 "cells": [
  {
   "cell_type": "markdown",
   "metadata": {},
   "source": [
    " Tout d'abord,importons les librairies et modules dont nous avons besoin."
   ]
  },
  {
   "cell_type": "code",
   "execution_count": 3,
   "metadata": {
    "collapsed": true
   },
   "outputs": [],
   "source": [
    "import numpy\n",
    "from matplotlib import pyplot\n",
    "%matplotlib inline"
   ]
  },
  {
   "cell_type": "markdown",
   "metadata": {},
   "source": [
    "Implémentons maintenant la magnifique méthode \"Runge-Kutta 4\". Notons ici que les positions et les vitesses sont stockées dans deux matrices 2 x n, de même pour les dx et dv."
   ]
  },
  {
   "cell_type": "code",
   "execution_count": null,
   "metadata": {
    "collapsed": true
   },
   "outputs": [],
   "source": [
    "dx1 = h*v[0,:] #Les lignes paires sont les vitesses selon x\n",
    "dy1 = h*v[1,:] #Les lignes impaires sont les vitesses selon y\n",
    "\n"
   ]
  }
 ],
 "metadata": {
  "kernelspec": {
   "display_name": "Python 3",
   "language": "python",
   "name": "python3"
  },
  "language_info": {
   "codemirror_mode": {
    "name": "ipython",
    "version": 3
   },
   "file_extension": ".py",
   "mimetype": "text/x-python",
   "name": "python",
   "nbconvert_exporter": "python",
   "pygments_lexer": "ipython3",
   "version": "3.6.2"
  }
 },
 "nbformat": 4,
 "nbformat_minor": 2
}
