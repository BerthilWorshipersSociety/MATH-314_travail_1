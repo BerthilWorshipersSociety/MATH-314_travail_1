{
 "cells": [
  {
   "cell_type": "markdown",
   "metadata": {},
   "source": [
    "# Travail 1 - Kepler et Runge-Kutta 4"
   ]
  },
  {
   "cell_type": "markdown",
   "metadata": {},
   "source": [
    "## Introduction"
   ]
  },
  {
   "cell_type": "markdown",
   "metadata": {},
   "source": [
    "Nous allons dans ce travail étudier la dynamique newtonienne du système Terre-Lune, en résolvant numériquement les équations de Newton. Nous prendrons pour conditions initiales dans le repère de la Terre que la Lune passe à son périgée ($362600000{\\rm m}$) à une vitesse de $1083.4{\\rm m/s}$. Nous vérifierons que la trajectoire est une ellipse et présenterons les paramètres calculés pour cette ellipse. Ensuite, nous nous intéresserons à l'ordre de convergence de la méthode utilisée. Enfin, nous étudierons la trajectoire d'un astéroïde qui traverse le centre de l'ellipse avec une vitesse $(v_x,v_y)=(-500{\\rm m/s},500 {\\rm m/s})$ lorsque la Lune est à son apogée."
   ]
  },
  {
   "cell_type": "markdown",
   "metadata": {},
   "source": [
    "## Système Terre - Lune"
   ]
  },
  {
   "cell_type": "markdown",
   "metadata": {},
   "source": [
    "### Paramètres et conditions initiales"
   ]
  },
  {
   "cell_type": "markdown",
   "metadata": {},
   "source": [
    "Tout d'abord, importons les librairies utiles à notre travail."
   ]
  },
  {
   "cell_type": "code",
   "execution_count": 1,
   "metadata": {
    "collapsed": true
   },
   "outputs": [],
   "source": [
    "import numpy\n",
    "from math import log,sqrt\n",
    "from matplotlib import pyplot\n",
    "%matplotlib inline"
   ]
  },
  {
   "cell_type": "markdown",
   "metadata": {},
   "source": [
    "Ensuite, entrons les données caractéristiques du système. $T$ est la durée durant laquelle nous voulons simuler les trajectoires de la lune et de la Terre et $N$ est le paramètre qui définit le nombre de lignes des matrices de données de chaque astre."
   ]
  },
  {
   "cell_type": "code",
   "execution_count": 2,
   "metadata": {
    "collapsed": true
   },
   "outputs": [],
   "source": [
    "T = 3600*24*30\n",
    "dt = 10\n",
    "N = 1+int(T/dt)\n",
    "\n",
    "mT = 5.972*10**24\n",
    "mL = 7.348*10**22\n",
    "G = 6.67408*10**-11"
   ]
  },
  {
   "cell_type": "markdown",
   "metadata": {},
   "source": [
    "Nous savons qu'une force gravitationnelle (force attractive) existe entre la Terre et la lune. Selon la loi de Newton, celle-ci s'écrit \n",
    "\n",
    "$${\\bf F}_{L,T}=-{\\bf F}_{T,L}=-Gm_T m_L\\dfrac{{\\bf x_L}-{\\bf x_T}}{(x_L-x_T)^3}$$\n",
    "\n",
    "pour deux masses $m_L$ et $m_T$ s'attirant avec des forces mutuellement opposées séparées d'une distance $r$ qui est la norme du vecteur partant du centre de la Terre jusqu'au centre de la lune. Nos conditions initiales étant données dans le repère de la Terre, nous allons résoudre les équations de Newton dans le repère de la Terre également. Nous avons donc besoin de reformuler notre équation avec comme variable le vecteur ${\\bf r} = {\\bf x_L}-{\\bf x_T}$. \n",
    "\n",
    "$$ {\\bf \\ddot{r}_{LT}} = {\\bf \\ddot{x}_L}-{\\bf \\ddot{x}_T} = \\frac{1}{m_L}{\\bf F}_{L,T} - \\frac{1}{m_T}{\\bf F}_{T,L} = -Gm_T \\dfrac{{\\bf x_L}-{\\bf x_T}}{(x_L-x_T)^3} - Gm_L\\dfrac{{\\bf x_L}-{\\bf x_T}}{(x_L-x_T)^3}$$\n",
    "\n",
    "Ce qui devient\n",
    "\n",
    "$$ {\\bf \\ddot{r}_{LT}} = -G(m_T+m_L)\\dfrac{{\\bf r_{LT}}}{r_{LT}^3} $$"
   ]
  },
  {
   "cell_type": "markdown",
   "metadata": {},
   "source": [
    "Nous allons tout d'abord transformer l'équation de Newton, qui est du deuxième ordre, en un système de deux équations du premier ordre. Pour ce faire, nous introduisons le vectreur $u_{LT} $ définit comme \n",
    "\n",
    "$$ u_{LT}  = \\begin{pmatrix} x_{LT}\\ , y_{LT}\\ , v_{x\\,LT}\\ , v_{y\\,LT}\\end{pmatrix} $$"
   ]
  },
  {
   "cell_type": "markdown",
   "metadata": {},
   "source": [
    "Notre système d'équations différentielles devient\n",
    "\n",
    "$$ \\dot{u}_{LT} = f(u_{LT}) $$ \n",
    "\n",
    "Nous obtenons donc"
   ]
  },
  {
   "cell_type": "markdown",
   "metadata": {},
   "source": [
    "$$ f(u_{LT}) = \\begin{pmatrix} v_{x\\,LT}\\ , v_{y\\,LT}\\ , -\\dfrac{ m_T\\, G\\, x_{LT}}{ \\left[x_{LT}^2 + y_{LT}^2\\right]^{3/2}}\\ , -\\dfrac{ m_T\\, G\\, y_{LT}}{ \\left[x_{LT}^2 + y_{LT}^2\\right]^{3/2}}  \\end{pmatrix} $$"
   ]
  },
  {
   "cell_type": "markdown",
   "metadata": {},
   "source": [
    "Encodons à présent les conditions initiales. Nous nommons $dataLT$ la matrice de données de la lune dans le repère de la Terre. Elle comporte quatre colonnes. Chaque ligne se présentera comme $ u_{LT}  = \\begin{pmatrix} x_{LT}\\ , y_{LT}\\ , v_{x\\,LT}\\ , v_{y\\,LT}\\end{pmatrix} $."
   ]
  },
  {
   "cell_type": "code",
   "execution_count": 3,
   "metadata": {
    "collapsed": true
   },
   "outputs": [],
   "source": [
    "dataLT = numpy.empty((N,4)) \n",
    "\n",
    "# dataL0 = [362600000,0,0,1083.4*mT/(mT+mL)]\n",
    "# dataT0 = [0,0,0,-1083.4*mL/(mT+mL)] #1083.4349740009823\n",
    "\n",
    "dataLT0 = [362600000,0,0,1083.4349740009823]\n",
    "\n",
    "dataLT[0] = dataLT0"
   ]
  },
  {
   "cell_type": "markdown",
   "metadata": {},
   "source": [
    "### \"Fonction d'évolution\""
   ]
  },
  {
   "cell_type": "markdown",
   "metadata": {},
   "source": [
    "Nous ne généraliserons pas la fonction $f$ à plus de deux corps, par soucis de lisibilité car cela n'est pas nécessaire.\n",
    "La première ligne de $out$ est la trajectoire de la Terre, la seconde celle de la Lune."
   ]
  },
  {
   "cell_type": "code",
   "execution_count": 4,
   "metadata": {
    "collapsed": true
   },
   "outputs": [],
   "source": [
    "def f(uLT): \n",
    "    return numpy.array([uLT[2],uLT[3],-G*(mT+mL)*uLT[0]/(uLT[0]**2+uLT[1]**2)**(3/2),\\\n",
    "                        -G*(mT+mL)*uLT[1]/(uLT[0]**2+uLT[1]**2)**(3/2)])     "
   ]
  },
  {
   "cell_type": "markdown",
   "metadata": {},
   "source": [
    "### Implémentation de Runge Kutta 4"
   ]
  },
  {
   "cell_type": "markdown",
   "metadata": {},
   "source": [
    "Ci-dessous la méthode \"Runge Kutta 4\" appliquée directement à la trajectoire de la Lune."
   ]
  },
  {
   "cell_type": "code",
   "execution_count": 5,
   "metadata": {
    "collapsed": true
   },
   "outputs": [],
   "source": [
    "def rk4(f,uLT,dt): \n",
    "    k1 = f(uLT)\n",
    "    k2 = f(uLT+dt/2*k1)\n",
    "    k3 = f(uLT+dt/2*k2)\n",
    "    k4 = f(uLT+dt*k3)\n",
    "    \n",
    "    return uLT+dt/6*(k1+2*k2+2*k3+k4)"
   ]
  },
  {
   "cell_type": "markdown",
   "metadata": {},
   "source": [
    "### Calcul de la trajectoire"
   ]
  },
  {
   "cell_type": "markdown",
   "metadata": {
    "collapsed": true
   },
   "source": [
    "Calculons maintenant la trajectoire. Notons que $dataLT[t]$ est le vecteur $u_{LT}$ input de $f$ au temps $t$."
   ]
  },
  {
   "cell_type": "code",
   "execution_count": 6,
   "metadata": {
    "collapsed": true
   },
   "outputs": [],
   "source": [
    "for t in range(1,N):\n",
    "    \n",
    "    dataLT[t] = rk4(f,dataLT[t-1],dt)"
   ]
  },
  {
   "cell_type": "markdown",
   "metadata": {},
   "source": [
    "Affichons la position de la lune dans le repère de la Terre"
   ]
  },
  {
   "cell_type": "code",
   "execution_count": 7,
   "metadata": {},
   "outputs": [
    {
     "data": {
      "image/png": "[encoded data removed]",
      "text/plain": [
       "<matplotlib.figure.Figure at 0x7fe00d1b9048>"
      ]
     },
     "metadata": {},
     "output_type": "display_data"
    }
   ],
   "source": [
    "pyplot.figure(figsize=(10,6))\n",
    "pyplot.grid(True)\n",
    "pyplot.xlabel('$x$')\n",
    "pyplot.ylabel('$y$')\n",
    "pyplot.plot(dataLT[:,0],dataLT[:,1], 'b-', label='RK4')\n",
    "pyplot.title('Position de la Lune dans le repère de la Terre')\n",
    "pyplot.legend();\n",
    "pyplot.show();"
   ]
  },
  {
   "cell_type": "markdown",
   "metadata": {},
   "source": [
    "### Paramètres : grand et petit axes, excentricité et période"
   ]
  },
  {
   "cell_type": "markdown",
   "metadata": {},
   "source": [
    "Etant donné que la Lune commence sur l'axe $x$ avec une vitesse le long de $y$, les demi-grand axe $a$ et demi-petit axe $b$ sont alignés avec les axes $x$ et $y$ respectivement. Nous pouvons alors les calculer à par des minima et maxima de la trajectoire le long des composantes."
   ]
  },
  {
   "cell_type": "code",
   "execution_count": 8,
   "metadata": {
    "collapsed": true
   },
   "outputs": [],
   "source": [
    "def computeParameters(posEllipse):\n",
    "    a = 1/2*(numpy.max(posEllipse[:,0])-numpy.min(posEllipse[:,0]))\n",
    "    b = 1/2*(numpy.max(posEllipse[:,1])-numpy.min(posEllipse[:,1]))\n",
    "    e = numpy.sqrt(1-b**2/a**2)\n",
    "    return numpy.array([a,b,e])"
   ]
  },
  {
   "cell_type": "code",
   "execution_count": 9,
   "metadata": {},
   "outputs": [
    {
     "name": "stdout",
     "output_type": "stream",
     "text": [
      "a = 383663116.433\n",
      "b = 383084497.255\n",
      "e = 0.0549000295925\n"
     ]
    }
   ],
   "source": [
    "parameters = computeParameters(dataLT)\n",
    "\n",
    "a = parameters[0]\n",
    "b = parameters[1]\n",
    "e = parameters[2]\n",
    "\n",
    "print(\"a =\", a)\n",
    "print(\"b =\", b)\n",
    "print(\"e =\", e)"
   ]
  },
  {
   "cell_type": "code",
   "execution_count": 10,
   "metadata": {},
   "outputs": [
    {
     "name": "stdout",
     "output_type": "stream",
     "text": [
      "minX = -404726232.867\n",
      "maxX = 362599999.995\n",
      "minY = -383084497.255\n",
      "maxY = 383084497.254\n",
      "a = 383663116.431\n",
      "b = 383084497.255\n",
      "e = 0.0549000294758\n"
     ]
    }
   ],
   "source": [
    "# Compute the parameters a,b,e\n",
    "\n",
    "minX = 0\n",
    "for i in range(1,N-1):\n",
    "    if (dataLT[i+1,0]>=dataLT[i,0] and dataLT[i,0]<dataLT[i-1,0]):\n",
    "        minX = dataLT[i,0]\n",
    "        break\n",
    "        \n",
    "maxX = 0\n",
    "for i in range(1,N-1):\n",
    "    if (dataLT[i+1,0]<=dataLT[i,0] and dataLT[i,0]>dataLT[i-1,0]):\n",
    "        maxX = dataLT[i,0]\n",
    "        break\n",
    "\n",
    "minY = 0\n",
    "for i in range(1,N-1):\n",
    "    if (dataLT[i+1,1]>=dataLT[i,1] and dataLT[i,1]<dataLT[i-1,1]):\n",
    "        minY = dataLT[i,1]\n",
    "        break\n",
    "        \n",
    "maxY = 0\n",
    "for i in range(1,N-1):\n",
    "    if (dataLT[i+1,1]<=dataLT[i,1] and dataLT[i,1]>dataLT[i-1,1]):\n",
    "        maxY = dataLT[i,1]\n",
    "        break\n",
    "        \n",
    "print(\"minX =\", minX)\n",
    "print(\"maxX =\", maxX)\n",
    "print(\"minY =\", minY)\n",
    "print(\"maxY =\", maxY)\n",
    "        \n",
    "a = abs(maxX-minX)/2\n",
    "b = abs(maxY-minY)/2\n",
    "e = numpy.sqrt(1-b**2/a**2)\n",
    "\n",
    "print(\"a =\", a)\n",
    "print(\"b =\", b)\n",
    "print(\"e =\", e)"
   ]
  },
  {
   "cell_type": "code",
   "execution_count": 11,
   "metadata": {},
   "outputs": [
    {
     "name": "stdout",
     "output_type": "stream",
     "text": [
      "period in seconds = 2350680\n",
      "period in 24h-days = 27.206944444444446\n"
     ]
    }
   ],
   "source": [
    "# This method will not work for negative values of initial conditions\n",
    "\n",
    "for i in range(2,N-1):\n",
    "    if (dataLT[i+1,0]<=dataLT[i,0] and dataLT[i,0]>dataLT[i-1,0]):\n",
    "        period = i*dt\n",
    "        break\n",
    "        \n",
    "print(\"period in seconds =\", period)\n",
    "print(\"period in 24h-days =\", period/24/3600)"
   ]
  },
  {
   "cell_type": "markdown",
   "metadata": {},
   "source": [
    "Trouvons à présent l'apogée de l'orbite de la Lune autour de la Terre (cette donnée nous sera utile plus loin dans le travail)."
   ]
  },
  {
   "cell_type": "code",
   "execution_count": 12,
   "metadata": {},
   "outputs": [
    {
     "name": "stdout",
     "output_type": "stream",
     "text": [
      "[ -4.04726233e+08   8.74554030e+02  -2.21930424e-03  -9.70664834e+02]\n"
     ]
    }
   ],
   "source": [
    "for i in range(1,N-1):\n",
    "    if (dataLT[i+1,0]>=dataLT[i,0] and dataLT[i,0]<dataLT[i-1,0]):\n",
    "        indexApogee = i\n",
    "        break\n",
    "\n",
    "uLT_apogee = dataLT[indexApogee]\n",
    "print(uLT_apogee)"
   ]
  },
  {
   "cell_type": "markdown",
   "metadata": {},
   "source": [
    "## Ordre de convergence"
   ]
  },
  {
   "cell_type": "markdown",
   "metadata": {},
   "source": [
    "Implémentons une fonction qui quantifie l'erreur sur les résultats de la simulation. Notre fonction prend les résultats calculés pour un certain dt ainsi que les données calculées avec le plus petit dt disponible et renvoie la valeur absolue de la différence entre le demi-grand axe des ellipses calculée dans les deux cas."
   ]
  },
  {
   "cell_type": "code",
   "execution_count": 13,
   "metadata": {
    "collapsed": true
   },
   "outputs": [],
   "source": [
    "def get_diffgrid(data_current, data_fine):\n",
    "    \n",
    "    #parameters_current = computeParameters(data_current)\n",
    "    #parameters_fine = computeParameters(data_fine)\n",
    "    \n",
    "    #diffgrid = abs(parameters_current[0]-parameters_fine[0])\n",
    "    \n",
    "    diffgrid = abs(data_current[-1,0]-data_fine[-1,0])\n",
    "    \n",
    "    return diffgrid"
   ]
  },
  {
   "cell_type": "markdown",
   "metadata": {},
   "source": [
    "Calculons maintenant la trajectoire de la Lune pour plusieurs pas de temps différents "
   ]
  },
  {
   "cell_type": "code",
   "execution_count": 14,
   "metadata": {
    "collapsed": true
   },
   "outputs": [],
   "source": [
    "r = 2\n",
    "\n",
    "#h = 10\n",
    "h = 1000\n",
    "dt_values = numpy.array([h, r*h, r**2*h, r**3*h])\n",
    "\n",
    "dataLT_values = numpy.empty_like(dt_values, dtype=numpy.ndarray)\n",
    "\n",
    "for i, dt in enumerate(dt_values):\n",
    "    \n",
    "    N2 = int(T/dt)+1\n",
    "        \n",
    "    dataLT = numpy.empty((N2, 4))\n",
    "    \n",
    "    dataLT[0] = dataLT0\n",
    "\n",
    "    for t in range(1,N2):\n",
    "        dataLT[t] = rk4(f, dataLT[t-1], dt)\n",
    "    \n",
    "    dataLT_values[i] = dataLT"
   ]
  },
  {
   "cell_type": "markdown",
   "metadata": {},
   "source": [
    "Calculons les erreurs par rapport à nos données les plus fine grâce à notre fonction get_diffgrid "
   ]
  },
  {
   "cell_type": "code",
   "execution_count": 15,
   "metadata": {
    "collapsed": true
   },
   "outputs": [],
   "source": [
    "diffgridLT = numpy.empty_like(dt_values, dtype=numpy.ndarray)\n",
    "\n",
    "for i in range(len(dt_values)):\n",
    "    \n",
    "    diffgridLT[i] = get_diffgrid(dataLT_values[i], dataLT_values[0])"
   ]
  },
  {
   "cell_type": "code",
   "execution_count": 16,
   "metadata": {},
   "outputs": [
    {
     "name": "stdout",
     "output_type": "stream",
     "text": [
      "[0.0 0.031296491622924805 0.55216765403747559 9.5351797938346863]\n"
     ]
    }
   ],
   "source": [
    "print(diffgridLT)"
   ]
  },
  {
   "cell_type": "code",
   "execution_count": 17,
   "metadata": {
    "scrolled": true
   },
   "outputs": [
    {
     "data": {
      "image/png": "[encoded data removed]",
      "text/plain": [
       "<matplotlib.figure.Figure at 0x7fe00d1b9d68>"
      ]
     },
     "metadata": {},
     "output_type": "display_data"
    }
   ],
   "source": [
    "pyplot.figure(figsize=(6,6))\n",
    "pyplot.grid(True)\n",
    "pyplot.title(r'norme $L_1$ des différences des demi-grand axes', fontsize=18)\n",
    "pyplot.xlabel(r'$dt$', fontsize=18)\n",
    "pyplot.ylabel(r'erreurs', fontsize=18)\n",
    "pyplot.xlim(1e-4,1)\n",
    "pyplot.ylim(1e-4,1)\n",
    "pyplot.axis('equal')\n",
    "pyplot.loglog(dt_values[1:], diffgridLT[1:], color='k', ls='--', lw=2, marker='o');"
   ]
  },
  {
   "cell_type": "markdown",
   "metadata": {},
   "source": [
    "Calculons enfin l'ordre de convergence $\\alpha$ à partir de ces erreurs"
   ]
  },
  {
   "cell_type": "code",
   "execution_count": 18,
   "metadata": {},
   "outputs": [
    {
     "name": "stdout",
     "output_type": "stream",
     "text": [
      "[4.056853722365219 4.108200812713604]\n"
     ]
    }
   ],
   "source": [
    "alpha = numpy.empty_like(dt_values[:-2], dtype=numpy.ndarray)\n",
    "\n",
    "for i in range(1, len(dt_values)-1):\n",
    "    \n",
    "    #alpha[i-1] = (log(diffgridLT[i+1])-log(diffgridLT[i])) / log(r)\n",
    "    alpha[i-1] = (log(get_diffgrid(dataLT_values[i+1], dataLT_values[i]))\\\n",
    "                  -log(get_diffgrid(dataLT_values[i], dataLT_values[i-1]))) / log(r)\n",
    "\n",
    "print(alpha)"
   ]
  },
  {
   "cell_type": "markdown",
   "metadata": {},
   "source": [
    "## Système Terre - Lune - astéroïde"
   ]
  },
  {
   "cell_type": "markdown",
   "metadata": {},
   "source": [
    "A présent, la partie avec l'astéroïde. Il faut tout d'abord repérer, dans le repère de la Terre, le centre de l'ellipse que parcours la Lune autour de la Terre."
   ]
  },
  {
   "cell_type": "code",
   "execution_count": 19,
   "metadata": {
    "collapsed": true
   },
   "outputs": [],
   "source": [
    "#Xcenter = (maxX+minX)/2\n",
    "#Ycenter = (maxY+minY)/2\n",
    "Xcenter = 1/2*(numpy.max(dataLT[:,0])+numpy.min(dataLT[:,0]))\n",
    "Ycenter = 1/2*(numpy.max(dataLT[:,1])+numpy.min(dataLT[:,1]))"
   ]
  },
  {
   "cell_type": "markdown",
   "metadata": {},
   "source": [
    "La nouvelle fonction \"d'évolution\" du système doit maintenant faire évoluer le vecteur $u_{AT} = (x_{AT},y_{AT},v_{x\\,AT},v_{y\\,AT})$ des coordonnées de l'astéroïde dans le repère de la Terre. Nous négligeons l'influence de l'astéroïde sur l'évolution du vecteur $u_{LT}$ de la Lune qui restera donc inchangée. "
   ]
  },
  {
   "cell_type": "markdown",
   "metadata": {},
   "source": [
    "La force gravitationnelle agissant sur l'astéroïde se sépare en deux contributions: l'attraction de la Terre et celle de la Lune. Avec les notations introduites précédemment, nous pouvons écrire l'accélération de l'astéroïde dans le repère de la Terre comme \n",
    "\n",
    "$$ {\\bf \\ddot{r}_{AT}} = -G(m_T+m_A)\\dfrac{{\\bf r_{AT}}}{r_{AT}^3} - G m_L\\dfrac{{\\bf r_{AT}}-{\\bf r_{LT}}}{(r_{AT}-r_{LT})^3}$$\n",
    "\n",
    "Expression dont nous avons déjà décrit l'obtention du premier terme dans le cas de l'attraction Terre-Lune. Le deuxième terme n'est que l'expression de la simple attraction newtonienne de deux masses. Nous négligeons dans nos calculs la masse $m_A$ de l'astéroïde pour obtenir\n",
    "\n",
    "$$ {\\bf \\ddot{r}_{AT}} \\approx -G m_T\\dfrac{{\\bf r_{AT}}}{r_{AT}^3} - G m_L\\dfrac{{\\bf r_{AT}}-{\\bf r_{LT}}}{(r_{AT}-r_{LT})^3}$$"
   ]
  },
  {
   "cell_type": "code",
   "execution_count": 20,
   "metadata": {
    "collapsed": true
   },
   "outputs": [],
   "source": [
    "def f_ast(uLT,uAT): \n",
    "    out = numpy.empty((2,4))  \n",
    "    out[0] = numpy.array([uLT[2],\\\n",
    "                          uLT[3],\\\n",
    "                          -G*(mT+mL)*uLT[0]/(uLT[0]**2+uLT[1]**2)**(3/2),\\\n",
    "                          -G*(mT+mL)*uLT[1]/(uLT[0]**2+uLT[1]**2)**(3/2)])\n",
    "    out[1] = numpy.array([uAT[2],\\\n",
    "                          uAT[3],\\\n",
    "                          -G*mT*uAT[0]/(uAT[0]**2+uAT[1]**2)**(3/2) + \\\n",
    "                          -G*mL*(uAT[0]-uLT[0])/((uAT[0]-uLT[0])**2+(uAT[1]-uLT[1])**2)**(3/2),\\\n",
    "                          -G*mT*uAT[1]/(uAT[0]**2+uAT[1]**2)**(3/2) + \\\n",
    "                          -G*mL*(uAT[1]-uLT[1])/((uAT[0]-uLT[0])**2+(uAT[1]-uLT[1])**2)**(3/2)])\n",
    "    return out"
   ]
  },
  {
   "cell_type": "markdown",
   "metadata": {},
   "source": [
    "Réécrivons la méthode de Runge-Kutta"
   ]
  },
  {
   "cell_type": "code",
   "execution_count": 21,
   "metadata": {
    "collapsed": true
   },
   "outputs": [],
   "source": [
    "def rk4_ast(f_ast,uLT,uAT,dt): \n",
    "    k1 = f_ast(uLT,uAT)\n",
    "    k2 = f_ast(uLT+dt/2*k1[0,:],uAT+dt/2*k1[1,:])\n",
    "    k3 = f_ast(uLT+dt/2*k2[0,:],uAT+dt/2*k2[1,:])\n",
    "    k4 = f_ast(uLT+dt*k3[0,:],uAT+dt*k3[1,:])\n",
    "    \n",
    "    out = numpy.empty((2,4))\n",
    "    out[0] = uLT+dt/6*(k1[0,:]+2*k2[0,:]+2*k3[0,:]+k4[0,:])\n",
    "    out[1] = uAT+dt/6*(k1[1,:]+2*k2[1,:]+2*k3[1,:]+k4[1,:])\n",
    "    \n",
    "    return out"
   ]
  },
  {
   "cell_type": "markdown",
   "metadata": {},
   "source": [
    "Nous avons précédemment trouvé l'instant où la lune est à l'apogée de sa trajectoire autour de la Terre. Nous pouvons donc entrer nos conditions initiales."
   ]
  },
  {
   "cell_type": "code",
   "execution_count": 22,
   "metadata": {
    "collapsed": true
   },
   "outputs": [],
   "source": [
    "T = 3600*1.75*1\n",
    "dt = 10\n",
    "N = 1+int(T/dt)\n",
    "\n",
    "mT = 5.972*10**24\n",
    "mL = 7.348*10**22\n",
    "G = 6.67408*10**-11\n",
    "\n",
    "dataLT = numpy.empty((N,4)) \n",
    "dataAT = numpy.empty((N,4)) \n",
    "\n",
    "dataLT[0] = uLT_apogee\n",
    "dataAT[0] = [Xcenter, Ycenter,-500,500]"
   ]
  },
  {
   "cell_type": "markdown",
   "metadata": {},
   "source": [
    "Calculons la trajectoire"
   ]
  },
  {
   "cell_type": "code",
   "execution_count": 23,
   "metadata": {
    "collapsed": true
   },
   "outputs": [],
   "source": [
    "for t in range(1,N):\n",
    "    \n",
    "    temp = rk4_ast(f_ast,dataLT[t-1],dataAT[t-1],dt)\n",
    "    dataLT[t] = temp[0]\n",
    "    dataAT[t] = temp[1]"
   ]
  },
  {
   "cell_type": "markdown",
   "metadata": {},
   "source": [
    "Affichons la trajectoire"
   ]
  },
  {
   "cell_type": "code",
   "execution_count": 25,
   "metadata": {},
   "outputs": [
    {
     "data": {
      "image/png": "[encoded data removed]",
      "text/plain": [
       "<matplotlib.figure.Figure at 0x7fe004bd2978>"
      ]
     },
     "metadata": {},
     "output_type": "display_data"
    }
   ],
   "source": [
    "pyplot.figure(figsize=(10,6))\n",
    "pyplot.grid(True)\n",
    "pyplot.xlabel('$x$')\n",
    "pyplot.ylabel('$y$')\n",
    "pyplot.plot(dataLT[:,0],dataLT[:,1], 'b-', label='RK4')\n",
    "pyplot.plot(dataAT[:,0],dataAT[:,1], 'r-', label='RK4')\n",
    "pyplot.title('Positions de la Lune et de l\\'astéroïde dans le repère de la Terre')\n",
    "pyplot.legend();\n",
    "pyplot.show();"
   ]
  },
  {
   "cell_type": "markdown",
   "metadata": {},
   "source": [
    "### Etude de l'impact entre l'astéroïde et la Terre"
   ]
  },
  {
   "cell_type": "markdown",
   "metadata": {},
   "source": [
    "LA POSITION ET VITESSE INITIALE DE LA LUNE CHANGENT LES RESULTATS QUANT A LA TRAJECTOIRE DE L ASTEROIDE (FAUSSE LIBERTE DE SIGNE)(CONDITIONS INITIALES DONNEES RELATIVEMENT POUR LA LUNE ET ABSOLUMENT POUR L'ASTEROIDE)"
   ]
  },
  {
   "cell_type": "markdown",
   "metadata": {},
   "source": [
    "Nous commençons par encoder le rayon de la Terre"
   ]
  },
  {
   "cell_type": "code",
   "execution_count": 26,
   "metadata": {
    "collapsed": true
   },
   "outputs": [],
   "source": [
    "radiusT = 6371000"
   ]
  },
  {
   "cell_type": "markdown",
   "metadata": {},
   "source": [
    "Nous cherchons ensuite l'instant de collision"
   ]
  },
  {
   "cell_type": "code",
   "execution_count": 27,
   "metadata": {},
   "outputs": [
    {
     "name": "stdout",
     "output_type": "stream",
     "text": [
      "Temps écoulé avant l'impact = 5630 secondes\n"
     ]
    }
   ],
   "source": [
    "indexImpact = 0\n",
    "\n",
    "for t in range(1,N):\n",
    "    \n",
    "    if (dataAT[t,0]**2+dataAT[t,1]**2)<=radiusT**2:\n",
    "        \n",
    "        indexImpact = t\n",
    "        break\n",
    "        \n",
    "print('Temps écoulé avant l\\'impact =', indexImpact*dt, 'secondes')"
   ]
  },
  {
   "cell_type": "markdown",
   "metadata": {},
   "source": [
    "Nous trouvons le point d'impact"
   ]
  },
  {
   "cell_type": "code",
   "execution_count": 28,
   "metadata": {},
   "outputs": [
    {
     "name": "stdout",
     "output_type": "stream",
     "text": [
      "Point d'impact: x = -6060298.61029  y = 1647507.12772\n"
     ]
    }
   ],
   "source": [
    "print('Point d\\'impact: x =', dataAT[indexImpact,0], ' y =', dataAT[indexImpact,1])"
   ]
  },
  {
   "cell_type": "markdown",
   "metadata": {},
   "source": [
    "Nous trouvons la norme de la vitesse d'impact"
   ]
  },
  {
   "cell_type": "code",
   "execution_count": 29,
   "metadata": {},
   "outputs": [
    {
     "name": "stdout",
     "output_type": "stream",
     "text": [
      "Vitesse d'impact: v = 9464.815921791213 m/s\n"
     ]
    }
   ],
   "source": [
    "print('Vitesse d\\'impact: v =', sqrt(dataAT[indexImpact,2]**2+dataAT[indexImpact,3]**2), 'm/s')"
   ]
  },
  {
   "cell_type": "markdown",
   "metadata": {
    "collapsed": true
   },
   "source": [
    "### Animation des trajectoires pour le système Terre-Lune"
   ]
  },
  {
   "cell_type": "code",
   "execution_count": 30,
   "metadata": {
    "collapsed": true
   },
   "outputs": [],
   "source": [
    "from matplotlib import animation\n",
    "from IPython.display import HTML"
   ]
  },
  {
   "cell_type": "markdown",
   "metadata": {},
   "source": [
    "Nous prendrons un pas de temps plus grand pour que la vidéo ne soit pas trop lourde. La précision n'est pas indispensable pour faire l'animation, à condition que le comportement obtenu soit fidèle à celui obtenu pour de petits pas de temps."
   ]
  },
  {
   "cell_type": "code",
   "execution_count": 31,
   "metadata": {
    "collapsed": true
   },
   "outputs": [],
   "source": [
    "T = 3600*24*27.3\n",
    "dt = 10000\n",
    "N = 1+int(T/dt)"
   ]
  },
  {
   "cell_type": "code",
   "execution_count": 32,
   "metadata": {
    "collapsed": true
   },
   "outputs": [],
   "source": [
    "dataLT = numpy.empty((N,4)) \n",
    "\n",
    "dataLT0 = [362600000,0,0,1083.4]\n",
    "\n",
    "dataLT[0] = dataLT0"
   ]
  },
  {
   "cell_type": "code",
   "execution_count": 33,
   "metadata": {},
   "outputs": [
    {
     "data": {
      "image/png": "[encoded data removed]",
      "text/plain": [
       "<matplotlib.figure.Figure at 0x7fe0048c72e8>"
      ]
     },
     "metadata": {},
     "output_type": "display_data"
    }
   ],
   "source": [
    "fig = pyplot.figure(figsize=(10,10))\n",
    "ax = pyplot.axes(xlim=(-500000000,500000000), ylim=(-500000000,500000000))\n",
    "line = ax.plot([], [], color='b', ls='-', lw=2, label='Lune')[0]\n",
    "pointT=[[0,0]]\n",
    "point = ax.plot(*zip(*pointT), marker='o', color='black', markersize=3, label='Terre')\n",
    "pyplot.title('Animation du système Terre-Lune')\n",
    "pyplot.xlabel('$x$')\n",
    "pyplot.ylabel('$y$')\n",
    "pyplot.legend();"
   ]
  },
  {
   "cell_type": "code",
   "execution_count": 37,
   "metadata": {
    "collapsed": true
   },
   "outputs": [],
   "source": [
    "def trajectory(i):\n",
    "    line.set_data(dataLT[:i,0],dataLT[:i,1])\n",
    "    \n",
    "    dataLT[i+1] = rk4(f,dataLT[i],dt)"
   ]
  },
  {
   "cell_type": "code",
   "execution_count": 38,
   "metadata": {
    "collapsed": true
   },
   "outputs": [],
   "source": [
    "anim = animation.FuncAnimation(fig, trajectory,\n",
    "                               frames=N-1, interval=100)"
   ]
  },
  {
   "cell_type": "code",
   "execution_count": 39,
   "metadata": {},
   "outputs": [
    {
     "data": {
      "text/html": [
       "<video width=\"720\" height=\"720\" controls autoplay loop>\n",
       "  <source type=\"video/mp4\" src=\"data:video/mp4;base64,AAAAHGZ0eXBNNFYgAAACAGlzb21pc28yYXZjMQAAAAhmcmVlAABpYG1kYXQAAAKsBgX//6jcRem9\n",
       "5tlIt5Ys2CDZI+7veDI2NCAtIGNvcmUgMTM4IHIyMCA0MGU3MmRhIC0gSC4yNjQvTVBFRy00IEFW\n",
       "QyBjb2RlYyAtIENvcHlsZWZ0IDIwMDMtMjAxMyAtIGh0dHA6Ly93d3cudmlkZW9sYW4ub3JnL3gy\n",
       "NjQuaHRtbCAtIG9wdGlvbnM6IGNhYmFjPTEgcmVmPTMgZGVibG9jaz0xOjA6MCBhbmFseXNlPTB4\n",
       "MzoweDExMyBtZT1oZXggc3VibWU9NyBwc3k9MSBwc3lfcmQ9MS4wMDowLjAwIG1peGVkX3JlZj0x\n",
       "IG1lX3JhbmdlPTE2IGNocm9tYV9tZT0xIHRyZWxsaXM9MSA4eDhkY3Q9MSBjcW09MCBkZWFkem9u\n",
       "ZT0yMSwxMSBmYXN0X3Bza2lwPTEgY2hyb21hX3FwX29mZnNldD0tMiB0aHJlYWRzPTYgbG9va2Fo\n",
       "ZWFkX3RocmVhZHM9MSBzbGljZWRfdGhyZWFkcz0wIG5yPTAgZGVjaW1hdGU9MSBpbnRlcmxhY2Vk\n",
       "PTAgYmx1cmF5X2NvbXBhdD0wIGNvbnN0cmFpbmVkX2ludHJhPTAgYmZyYW1lcz0zIGJfcHlyYW1p\n",
       "ZD0yIGJfYWRhcHQ9MSBiX2JpYXM9MCBkaXJlY3Q9MSB3ZWlnaHRiPTEgb3Blbl9nb3A9MCB3ZWln\n",
       "aHRwPTIga2V5aW50PTI1MCBrZXlpbnRfbWluPTEwIHNjZW5lY3V0PTQwIGludHJhX3JlZnJlc2g9\n",
       "MCByY19sb29rYWhlYWQ9NDAgcmM9Y3JmIG1idHJlZT0xIGNyZj0yMy4wIHFjb21wPTAuNjAgcXBt\n",
       "aW49MCBxcG1heD02OSBxcHN0ZXA9NCBpcF9yYXRpbz0xLjQwIGFxPTE6MS4wMACAAAAObmWIhAAR\n",
       "//73iB8yy2n5OtdyEeetLq0fUO5GcV6kvf4gAAADAAADAAADAzSyCkX1Rzvzg8AAAAMDPACDgVAB\n",
       "f48PJw+ACGwg/zTkScQZPkOayLRn4N+qHNpIELujkoBJ95/851g1N9FtotfEpkvbeHTL1igD/u3G\n",
       "3lOYM5bqev+tdbi8Wpe99pM5juC7g3ePuxMeWfPWxNa5bJVVNjR1uZmybrRebAoEhNnNBeUZUw7x\n",
       "QJEg3YKspPb+emZU2L4WSQQ6lNmTqgboj4XbBbkz850r8AC/bRn+KY5rT0DcEgvJncbQhX1VjQeT\n",
       "xZWarpvZytajli441Dik+aOTUwtLuyfweU8pmYwkSqUzXyDZVz4PnFXoV5a4C/QhGZCwEjTS0qvD\n",
       "jO6bL9QZ6JKkFPWUajaIt6DRRB4fK2eh3B0/JqnQi0Gj/J39K/cTKW6uLL+TFGmljb6/dkr6bV0w\n",
       "q3/KH2IvFWHpG1w8IoBIvn/1jz4FXx0LcJvnbRoZzROkyORwP4vQLDnk0iBBkOQslooAElowWZuz\n",
       "yScjZ5om8zJDqah6vAU80AlO37333P9G6Y276oqqeY5lhPV4NkJAa4RY2FoAa0A70K+YcuxlA2gD\n",
       "gumyjunMIc4xp3Wn77N/fql2jiGQI8EAunzTTAhgsz40oVgDGQZ+c9lg4z3+6EOpTAfafe4Qg//f\n",
       "TnX0NoNCK+8Qjb5tMzE6Mb4wmvRCNEOuwtWeiO76FuJaIi7csNKiYvZANLA0u8sKAyXiw2I2acFq\n",
       "WvzvcWqPrH/2PpTM3X+PJLSbHYGzTFqow1zMI06aZCc+O5YFZLsE8dbwbCir1oeyXush1fc2m7W+\n",
       "RztHONe/yzW29v3Pz8b+CGxEcs9zUppmS9AGdGy9N+SvkWxuvo+kIIe3DTRYitEtewub/KM6bhR0\n",
       "pht8GWzNDHZX+chgEeiL8Y4VBAXNjd8SQZKQMXi9kwjla1WIvg2ITT1G735ibYsB4BLF/S2uU3K8\n",
       "OgR2XY41UCM0Todx5GujgBC4m5QOQ5q8egRgsIfFdUm8nciwwOKA2ctQd8pWztwv3yiixHfQNOZO\n",
       "hGRs+pbelp8cLOHCd2oiXhHjB6+RREtk93k9uMEYxFHxDpmk2qBbwRXV7zf1pbQG9IeRfyUcKpe/\n",
       "ZrwehxlIV6wlXaI7nk8kaB1Bjm1BAjZAzpFCER4gi3OFMM6jmFhFKyhzN3e7LMnVJaKycPvm23xV\n",
       "vC1dLO/JpBlhJI+9lLFCAKZSmtCvo7+q9XK0d8jnn3ONA6x/Kk86vDDuvkJ2+wRodgUZjJ00upq3\n",
       "WfpCoxiPcduvi8BIW4+N3Y0x212/8oy4/Xj7SJ5lURjV1rRQ6dhxWQovPwd9ddJidoZuMTF9Qa2Z\n",
       "6TNy3HGsh+cG2OkefCumNgx1oYsRdLRCfKMNKgeGKDZtorYEAt+qqW3gGgdZmB2QFyGid3s7fS40\n",
       "tZ8Ns5aMwY8GyCGFL1i+jbbJUpc0CqKNAoBYf/rP8ca9v/VOvF0mpb14Di7L/Tx1Tc2KLiWq6s5b\n",
       "Ak4COmYD5kiD02AGkDfqIuLmti4hjOcTQS3MigasDQ66seLU2Qzo7roM6Wyfm2y42bRWwhmYYbjj\n",
       "XUmBbp7E3d/2kx4q/0Sqt6ze9chOERRhBeIxeJevFWyjsMhKXm1t04iYPnBOwOs93YkoZAf5XBWJ\n",
       "BqLwkhDdYEtcdAA4E4ZqlMWCYc3nrNb5RNX/X/sYRV8VWOrx2iJBkNNq4m58pgLFdYwBdgzVIp/p\n",
       "wwI77I50wkAwje8HoF9d/pN0j/clxhlUMovF2gookOaG9dSo07vBEPPTp5VVRpFr7/WSOQPmLb69\n",
       "zN3g3tQRVRRiLWZgyv9ITS7EtV5vW8rGu3q7SfAzV7jf2vm+puDUs+ot/cg9VP6ssi0X3Hos7IfY\n",
       "KDEAvP9f0w7HrSepAiNYfUxTVO5kAbEOn1AlSKF01pOsr1d/YFa2WVCl+Asg9+lLPvl4CapJQpCV\n",
       "WF7wW7m5M8HlIHEVhnEZzgXPxUUFGBN18Bi5zSIvkIQ8cPor/BVNpWIqMB/p//l8vQ6W9j74Ro6m\n",
       "uWnhV44yLJZSk89MCDsx2hwasbJSwjxEy7kxH5YAjfqP0Md+YuB9EWbUtrQEPXtETCx8HXu518AG\n",
       "eg+38kVnd0ylbP/jBZIraDKGywr/xmZeKh6v7pt7w1uW41pR9niJeGKCnvfyrFYXTYaIGxpFkSlZ\n",
       "OlPmdC7MEOb59c3CwyRCVv2OV+henSAC5qi2MGwUL0vcbKC4yySa3e3w84pVH2hYDpJPOrNi1q4B\n",
       "NM7ozWEmqKT/a17s6JkFBAxvrxlCiMrXS70YCDws9cJXiLS117nLklShns3BDjpgCfaNij7C/wz3\n",
       "Z8LJ+8ILDg4WaqoJHvvKMmG5qgv0ofVW48TFbAXy8yPdt+m/lWdDEsvXnNn1Fr2uUInrkPWOvBqD\n",
       "qWYDBkXk2u10HQgv2mN2wHRyLH2pT3wxlwgIFQdrgds+tTCGaANQ3RAAKqBtuWf/+USiLmhSKV+l\n",
       "Jm60xVAVC+Z+kwR483Jkq2JdukHmQdJC+gAfz9sXmVTG8+r2Deuv/b8wAtW9qDB51dQ4VCUX4UdN\n",
       "GGJiO+plwuoJ2Mzu0em2pk5pOkNXXU7UjC1DlA3Y3SUEWfguTNY+gWNTRf8PA2BlRudKtvTIdzbV\n",
       "ACIBWkgL5OpRWiIMKDdxHVWn3tkor+nEh7vy4YnHTB9vnuQSu7Z4LbHUhjONKxiNoBgMMpTGHDfA\n",
       "HhOjRS6d6/Ahg5kDMhX8W/VXASW80hJi+NxXn5nCoXnc/m1B2xG5p/FGHGd3B4aNZoO/op8Y9RJt\n",
       "c+YMnsYwsJJBRBTLKM/N+slj1vgJ7fByIXEKYQgMi7m2waw7samBnyjEbOdrVSLxvDZtOh7AfYWD\n",
       "fbQysbFi2kVdNo4kV0EETVVEUyqVg81AmdKTqXFS1R7roG1LLvqI/JFtrhzZ2UTptmAF4p4bcV8z\n",
       "w2sCsbkhAp/Ap+dZuLJ+ZoGnABhgcQKAEYCZhy5RgxhYO37wvJ8bJA1gINFx4TBWRCV35lyU6HpW\n",
       "zileqrn2kEQwvkz+zCEkC8wRw1T5OBe3qxrWHkfes0eiXnkdsx4UGJmJKJcx0F2fTmdAtPPnRk1O\n",
       "XRtKQNID/JgLNKZ7cVOsQB9bsQDYe/IAdIEAAAMAAAXSA+LbijfdznaZUCJWtGdKW0LrPK7+eyuK\n",
       "jhzwRe0TeWEckb9WkGr9RFgY7X4kgEuwTRXf1HQTywcZpS/KOdDL9C8+l3eHDPhJOi8+rpS7fwUy\n",
       "/gM/+TCb6RyVBVtF/kzb3qulfqjT9k1ujiRsiXAyK6NV4DNGUL6Df5UQPuEQkGSrzzyu0AgEL1hY\n",
       "BlojDpccSTNqatDKVNrfNeUHWPumxB//axGo2vobeITlNOsBpWYYdVmJ0HlwJu7UMGi/8KJmcA5h\n",
       "0czvIupCZ9raPYvTPs7cIEAL1FMoK9sAAAMAAAMAAAMAAMDBmE20GRXhmn5pXHiSlM5J1wAA1UBT\n",
       "nIelEZL614rDz9irELPiAXg8Ro+YRBZ0bo8W5VYdC/0hRwVCY9mnMwaxC+KQ+leb6n2iSaZjaW5Z\n",
       "E5Gm4M5K8He0NtuC0sde4queyX51a1shwmLc4pqxPIC0JVOw5ykPZLCaeqV+blucTLDs9vF7pgAN\n",
       "48LKAACM3MCD/gETaAPAQBQjKX3NT3quEv77sb64Pyr/0ofilWSAim28TJzAAy3RbQ50bNPUzqsS\n",
       "nzVJEDq3KRPW6yy0JHh0ZA8IBsUieSkHcXZsEHW3eh+MQ5yImk8tiQZCW6jegX3AJ7kOu0L22zcy\n",
       "pCmoobjVdw7AAHm1ABSgwLZuBWYWeh9+MCxdkjwPuP6hmgQR3WBo6H3uTyx8PNSas0vzbunG/JxC\n",
       "mnGi94kRtAll64Oll9EMpP6wutLW3KUM7n+TPfNyQd1Matyt4QKA3nkN+B3KWzfzbdgkvIn3oiPf\n",
       "vpEoWbkVXGBkF4jlv1cc/PJdkRKg7vTUu4QryDrAyPbX1bXqtJNql3e8bJDO6jdJ5Q8zFVArgiSJ\n",
       "IAU8F8d15nYzQlTsjawIImhJBgR/CyDmjqHnkKKYOLo6QF8hKTYfkjSrz7xTMQzOyI5w2CsJghMr\n",
       "+7v90dAE4zGOg1vukLXlaOa0TbxVsdUWFCP0FzBOPY0aZ1JpSdMaf5rWqC9WNQXu8TJU87Z4XH8R\n",
       "/d7pTwijP0Hc1atR4guhLFjKN9UksTeUWQz8eU7RB0pcWVaVgAACtPpnqw3c6WmpwaROdKMDXWuR\n",
       "B/npWZqy70qHE9TYX6LTHDuvxUC2cRF6lCTCNj8nkuTyfTYRqgAxphBqU28PXEc+4/rzJlKAYPCa\n",
       "37iw///WE9iZ5/m74heEciaAjwUG68r0ASMv1CgZMZR5GZvHuwayQZFYEMM3LZI4zWKw/d1/LalM\n",
       "jlQA/XOl4pHob/ySNvlVlEVbC9Tbb0NGPA+rWkaPU26APD/V7E2IojItCdYbxr0yP7NZbYSUFbi1\n",
       "O6rdoMzk8UWKJfwKpNkNv2S8EGppp1FVTV/mw7W95FngToyeqts7dgF21AftQDDDtb2yV4t6Bb92\n",
       "tT5EVIkm77LpBNHkh2dnHy5BYsHc3HjV+7JOooYTjSXKRff+7CdJv3B4OwuMDxUsR6d2cIKO/SdJ\n",
       "NlMaz1tbBQrKT9/mj+MgyxjEa/Qq3+jkQuffoSrJv/uByQlhdd0YQTIzbqRsrUd4zEpb5NSI8TZg\n",
       "L/Jl3fCmeVVNR7SD8Sv6TGp8rK1bpU+JcWcmjS1bGddNNYiv/nTqSz03SBAAJliMWa8kpBso9gyq\n",
       "7PnDDgSgFGmDMemt9O2Jx99Rwfu+SUZpz8B/LJuIsF1zpl3jWz2C80RuF/0OTQdYVZ757EPDdwSd\n",
       "yNpkTMOa+m7jO+PjIjSLChgw7a9N8p0hSKU8E823uUgAAAMAAAMAASUAAAD0QZokbEEf/rUqgACc\n",
       "Mh4AHMu6nvr9/BYxIdHCxPrJAO8oTi3LTY/Gf8JGXM4e/VArH9m7gPW4QABql+KfbrVjDlUry6P1\n",
       "t0q37ikPy5JYDy6DcrE9/p4O4OqdLK6d1d5PE+ExbRWBp776QIIhKSIXfW7l8DrwThE63z9eTocK\n",
       "S+W3gElezG2ZOT3k5YRFYL9DNnSCmGovWqtRDyFiH/piLbUYAhSDPNg340rdKS5zYVethvFsrVNc\n",
       "g1Y+TCV0PGSu2SMd5PTa2JVw9irYDRx/wyK9643lO18Hf3S6QY4llgEnBHdEggKqzkqK68wQoHF5\n",
       "7JAxYAAAADhBnkJ4h38AAmDk+rAAAOXfn4KuUYAWCu9U6lNsuI0A98U0KsAGidSpLaxWfrweSzqR\n",
       "DAAuYQCpgQAAAB0BnmF0Q38AAAMAAAMAIreIuEFtUSM3O85WAABDwAAAACwBnmNqQ38AAAMAAAMA\n",
       "IqpvxpbUABO7ksFcx6x9ub7FRq98K2SLJIAAAAMDwwAAANFBmmhJqEFomUwII//+tSqAAAsnexpx\n",
       "AAD+7s/wq9AABW/k6cl0GLwNgpthKGZFFIMyuOpqQFHu1wRpfmHi6eiUs8K/+QNnJExyGajDi7n6\n",
       "Zdmgmi0jMl2B396EAkcFdFbIZZTqIeioFakiXClvCAXMiiK+wc6/0xGm9eZ9nYw9kZZ70kY4nRBO\n",
       "83kBXybLh+uhkaf2BT9umAYtD5XnrZ15vBsP0nHOzTZTS2uaifIXBwk7cbisgeQHtUfJmKsiXF8v\n",
       "hEkLFP4oOtzXnsAAAAMBFwAAACBBnoZFESw7/wAAAwAAAwD0f4WBgRj0LpynGAAAAwBvQQAAACYB\n",
       "nqV0Q38AAAMAAAMAblJqv8nZADcV26p15MCoGA05JAAAAwAyoQAAACwBnqdqQ38AAAMAAAMBYnoL\n",
       "+8aXevXABtU/IQ56IegVGJCezuDB8+LAAAAEHAAAANhBmqxJqEFsmUwII//+tSqAAAADAADPbcvA\n",
       "2DT1P3qVKLSUnrQxscjl+8BHkhiaUVYWXOroe1zs3dXcbLojI4ZwX+krBmlBiwCOMmiQxXtIXrqJ\n",
       "YWXqKP534xpfVU3rgjYT+ImkaAhKvIwZgIYS3WBk8CRMqMglfbyfCxIDiEM180E1XSSwZR1ArwE4\n",
       "nOBSlSm5lJ1tSi1c1iBdGXxYUE7DOuNkIUH0L4Smk79hdJnsd834JocrrbCCDwVh91ODduHj/7R7\n",
       "6wXjepoR729QQXaQIgAAAwAAfMAAAAA9QZ7KRRUsO/8AAAMAAAMDKgj/S+HchyLiVivyAGFWJW7F\n",
       "Rby835Rr216Tx5mOhw6eyitkhha40AAAAwDlgQAAAB8Bnul0Q38AAAMAAARW8dEsWObIxY3YGs26\n",
       "oAAAAwGpAAAALQGe62pDfwAAAwAABHa8uW2un2G1apACs2slpix9JrIFrifVU0w1cAAAAwDAgAAA\n",
       "AL9BmvBJqEFsmUwII//+tSqAAAADAAgPM38PVBQAF/vP4D3WioxiBGQTOKKi5zibXBKfPxbsdZ51\n",
       "olwaI6hsfD2XrLioRLU5VvVKSvbxLlrkHO7RJ+8SkO42b0IKLBSAYQV+AKU2FbeOTwAVlYV3ADse\n",
       "PFBzO2rwUO0RH62iZrGsSmr+P/mrYF/ZHjhwaX3q4HEzgIXNVhg/yZOTfFXMiI1wfAra8qC1YwQd\n",
       "VPs5DAGCOiepbobwZXfmAAADAAAN6QAAAC9Bnw5FFSw7/wAAAwAAHz/wwZo4jDdABcigkxZ2+PRP\n",
       "G0Qi4zVWvBZF0gAAAwAHpQAAACYBny10Q38AAAMAAA4qAuQH/chKMpjkB6v3hytISj3PNcAAAAMC\n",
       "iwAAAC4Bny9qQ38AAAMAAC1vQX9LOAiwCACdY61p3gWkPyG/k3LjQhaJK3TYAAADAJeAAAAA7EGb\n",
       "NEmoQWyZTAgj//61KoAAAAMAGq3B/BsrkAEb2sXHjqWOZDaVx27ZRJUQX45C/h+8vmrqKieDM4f/\n",
       "Xmv9ySa/1+SG/plfW/P5Ed4RATXdFRjBZlN50y4xZeyourTUKMMulORkaVfqb8FjrdBwFhBz7BvV\n",
       "UYCXIc02ynBWLIDPRPY4EZHFaoDvT/BvAJyN/1+Ty1ikOz6dDNfp4DD2giOFVPa+l1ATCA+TuQuJ\n",
       "3yviIKwxhgRFtO+yxuMm8tIDdGZpcsfhzgTjUC2eESVFHPrYeXMf58VU9fBFtGxq69vNqzokAAAD\n",
       "AAADAIeAAAAANEGfUkUVLDv/AAADAABnwR/2f3HWzEV67LIAIfilMPCqpAgma6H5AgkDGObNJ9bk\n",
       "gAAABqUAAAAvAZ9xdEN/AAADAACO3j9UdHub5OJLgA+XB6q9Pj+vqPk69lI0UZSb0rfAAAADA1IA\n",
       "AAAmAZ9zakN/AAADAACS16c5oA+KE2QU5V6PNlqOvJCuR4vgAAADAfcAAADxQZt4SahBbJlMCCP/\n",
       "/rUqgAAAAwBXeI/4i9KkALD9Kyw6QVJSfEpItxZMwganhkRdUBWvV2gkVseOY9tEARY1Z+PLBf8a\n",
       "ZFefZ/Z9DEGX0ahVXsA/0pwCJjmZo/surSbEl5/qq1uSJsm1rZLVJ+NnfQmVEE0ROeMlt67i/avU\n",
       "HGqQgOl/fmVz+6l+GDC9RZ8mjpnc6jBFHHsIFxJ6wZQlVznvBrjr4NAE+w+8dAaEuFiq3Pzpu11z\n",
       "gShU/rp1JAq15zSua6ORkroKRJFS5n4zaM0goJOViZxJdHyKFitOve2bjmPAJ/SKgX6AAAADAAAW\n",
       "0QAAADZBn5ZFFSw7/wAAAwABU1XrhFX4Qrgvr6K4207agBDiCoZI4hE39abq/MGTm+yUyYEgAAAD\n",
       "AakAAAAhAZ+1dEN/AAADAACSijeefN8QJ5soWBsd+vb4AAADAIWBAAAAMwGft2pDfwAAAwAB2yg9\n",
       "vfqJS4ASyWhJmUTtVOHVJm9sDnqKCDj3AMrlGa96j+AAAAMCNwAAAPJBm7xJqEFsmUwIIf/+qlUA\n",
       "AAMAAjCIGoA+fnwNYPt8ZTnyHlDAu3G3HwkJHvfyYTC033AbAmMzheNfxorMNcYBj0szWlWZviBI\n",
       "TQAkLQ16XDa6l7urWlHaaeOZHF7u5nv6hqEeTa6RFHfg2/x8e9hJMClKH2ddPBYE+p7Q42//Y+Eu\n",
       "tI6+LbLh1MpncqoT5t09psBEgzMBLgOGR9ggFLOAuLzhPVqMd+t93hUgO+OnflPvLUiQUHkIrRbg\n",
       "nNwyJ4I7IOCJikTZLNJe5NhREHKOnpWcf7rnQY4CYPOjLkxBQta9hrj6rdrRNECAAAADAABjwAAA\n",
       "ADZBn9pFFSw7/wAAAwAEQj9gOu4AW0hiVt/gZEbA6ktfjvv3xsP5z9LqtJFHEu+YwmXgAAADAakA\n",
       "AAArAZ/5dEN/AAADAAX5CnGly6OFAB/NtJy5QCELQJV8dO4adRWiYAAAAwAnYAAAACoBn/tqQ38A\n",
       "AAMABiC5v2j8GbVIAS7CGAM6Kebk5PMNEU8MaqFAAAADA5cAAABQQZv9SahBbJlMCCP//rUqgAAA\n",
       "AwN5qudIBS0cjfZCxPgDey/WSFuUAYaFF1o/bZqvAqbZvqj4l60Ay0K06PBF//TwfXUXJ6wAAAMA\n",
       "AAMAHTEAAADiQZoBSeEKUmUwII///rUqgAAAAwOTuDDQ5vJkAIfZiK39SdO1bTeqmw52nWoRxHel\n",
       "6Di0XYA4r0jAeWubucB3ioIWEhAWkee94CEagEaQN3lt3/H5RZ84HD3Wb4TaTfrngiXwgb1nf1sk\n",
       "A1NEXvj0/qXcQo0zF6cUCCFc9ZIvfNz2RTbjGwft8cZc16lPtXEGGjivdfZ1OvmSJw/jobGoBI7f\n",
       "21/TVvU0l57YZFt+bKvV4eQSaYKqUxZJ5mZp4c1C7h3NLWW/81MVm5HJ+HarX7GhlijJyzk7bnSA\n",
       "AAADAAAiYAAAADZBnj9FNEw7/wAAAwAN6CM1atYMFtoAPhsh9c850x/pd6mVd6ljYoNVAyfQvfEA\n",
       "s04AAAMAKmAAAAAgAZ5edEN/AAADABPojo2p0dhjrUlYqIixUUxogAAABqUAAAArAZ5AakN/AAAD\n",
       "ABPnNPuicuAFsMROpa4HiHWMQ7I3Qu1HQLKOsAAAAwDAgAAAARRBmkVJqEFomUwII//+tSqAAAAL\n",
       "xxH0KkGKXH0AIyvPfKdyYU5MbqGWHRHQX2+q/Q5r4xx8PaAjjOIDV2k7loqJunJCjG1ORDmi+6Zu\n",
       "XtU2d7pnCHF03f4TAxS+gpPT/Xgejcp1kRMCdZElqXWFWGTFlkxRTAf5qAV3xjI/W5pMl86W4wMJ\n",
       "ARZRF/c/ByRcs3eVyZ6WLqOh4EKwE+PqaoIFl6iE3xPrfxf+f2YeQbFMyF0KgM+PLmAtriBGumKw\n",
       "GTso+wVgwbR0AVJ102AFZYP0kh2lch9jNQyD3hAc08bhOON7gL3X/chH1VYudDh0n4vxWkjQQKD4\n",
       "l9YpV6y0LdifgBr6fgi9TEJoRw5u4AAAAwAATMEAAAA3QZ5jRREsO/8AAAMALVODej9Q3DXRk99E\n",
       "LZQMcrzBtt+wlF9+2KzfN0MqnwZMybIRpvnAAAAFTAAAADUBnoJ0Q38AAAMAP4e+IcIARlH1K+qL\n",
       "5/JTbtM+bfY4vzMvYETB+lm65FB5OxATmuAAAAMCpwAAAC8BnoRqQ38AAAMAP1ZGSd5eXACxbUxn\n",
       "kbI3lYKObcYC0ib6H20iomMWP02AAAAJeQAAAOJBmolJqEFsmUwII//+tSqAAAAmPM37l6L6QAET\n",
       "syaT9nw2UQUgQN1FcQAnKPOpw9gDDjAKtd60/3GC+ZmttQSkYjhiNYZkYhfahVC7ZOSF80EIaVu9\n",
       "G7y27RR1CMYLHBrBz4FWHhadKTqSr68yshnYHRIm7j2IGLWEnLfmCaoZ9Dss3kGvQghbQ5Ufyopn\n",
       "5Zt2IxWZMRaEJvIWICNcC21dlHiBpSvaviqs2ablb/QGq+Z3SOs9C8eh7YSYviYTliN9CTd290XN\n",
       "GDK7cibcg4Ca3USVPJTL8UKwAAADAAADAArZAAAAREGep0UVLDv/AAADAJRIKKAFh+GlceAi9tZ5\n",
       "1r+KMGrWPNUPTYnqjQmlWkFpPv2JY4H8S6tDXLgyXiiTGHIkAAADADUhAAAALgGexnRDfwAAAwDT\n",
       "ITNhBQnwGADVWg+g2E2dE19G0eNvIGQysMUtucIAAAMAGpAAAAAgAZ7IakN/AAADANK6h8UkbDC5\n",
       "QLE+NUzFkMUAAAMADlgAAADqQZrNSahBbJlMCCP//rUqgAAAKFxH6WHQ3ABG9rFxW3M7uwAAPtB0\n",
       "G2oICJ7zCTEOHaovCozDkTrCY9vZ/pD+ATBKqq1lSOHfWDkcgsAQSrhIpsLFCJw9J4WbweeATXtl\n",
       "8xmTxzPF+yTX2aJj7icmGYuRxcy/bolUpSQrFYWRmufm6VgLN34s9bNFZ6I+52bROBNi/ftvMnM6\n",
       "fT0JOsXT53HZGQ2T0eRsrJPF0t8ASS1SxUs76hnNTkEB82815ffw5EHINuDTuuIF+cLL8lLa6/Rq\n",
       "bMuqudvsuAkN5JPIA8KZmoAAAAMAAGjBAAAANkGe60UVLDv/AAADAJxH7ArVfABO3wvd298ai1jq\n",
       "4Vkc3M3UOBKooNe6DH3aJMYfDwAAAwANSAAAADkBnwp0Q38AAAMA17Ak64AS1cl3VwcSqPADTYUa\n",
       "YMuxCN9VYx9Pz0crWT7IFHHWadvYWVgAAAMAYEAAAAA2AZ8MakN/AAADAN0XRZmfABq5mZnVr5pY\n",
       "5BrrR9XZsgCl5ZyuOCReyBPmlWngH9koAAADAHLBAAABDEGbEUmoQWyZTAgh//6qVQAAAwEB5c/t\n",
       "oUPvzADmlZKfK3rO44skumcXZy1ofj/U8fbQCwryyCfFVqd2y2wbm/0Qzmsucidt2RzD5IFAPGYs\n",
       "wP+BV3DigeWxrJ3XCfaNVFAIoKVt86y6V4H4gwOObCx0tMzs1UnuB5jTFZERxiXIt6hSeehTyMwp\n",
       "uC4Y3zptc7bWp8U20fyakMPFOTD8iBCRi3RfIF9HjoljZhIVDhUusJ+NUxzw5aGi1Q9FOw9u2hzT\n",
       "0E2rWdFAL34CqE0yAOKWmwGZkKdupikL7D3c2xrmdD5Fud9Gfl7Si0k+0Nt5zJkp4Sv0KqEG+Cr8\n",
       "x5YuHldQyz9KoAAAAwAAGjEAAAA3QZ8vRRUsO/8AAAMB8/7nlFwAmmSC1YBfj+F4wZ3ECP30kK2v\n",
       "ppCNMwbCJFBls3XCc+AAAAMBqQAAADgBn050Q38AAAMCw1teDwBHyEZyvfAMshE/k67kAbQsU/MH\n",
       "UoJFSWsQ22oBpfq5HOT6dAAAAwAEPAAAAC4Bn1BqQ38AAAMC1n0QD91AC3S7MiD5sqT9/4u7PJTI\n",
       "bwCjuHTUPteGAAADAAIeAAAASkGbUkmoQWyZTAgj//61KoAAAIB6rLG7HQAb9jpfO6Hx3HnTYRyT\n",
       "yLE6dPUTOTAnmolgalNgJVkyexx96UtSso4QAAADAAADAArZAAAAx0GbdknhClJlMCCP//61KoAA\n",
       "AIjzN7frSfwAMtrK0hR/d9Ge3B8xWPgYF4cSAEHxM9wA/aWBqVCClvINQ0DeyQHlzkzsDizwJ4TD\n",
       "ShsIf50Nfpbdh4g9ZVwOCBPqKzSFiXvM91zKT8QC55/el7M39jviynOZIXmSFVeSz3IwGDgIWGW0\n",
       "+1aK/TOtCVD3hiWXuiX3/cxmKLaR2mTvViebtJy0P90vlJqFiLFv2V24IitqiS32r/YJyBUGZk3m\n",
       "tt0CAAADAAADAY8AAAAzQZ+URTRMO/8AAAMCER+148Aefs+ACFMrmDQHRw2cyso4cAr2m6qsRPQ/\n",
       "vh5hDIAAAAakAAAAKQGfs3RDfwAAAwLnbUjdD6ACu8SX9690kzNId45oYx670wr94AAAAwI3AAAA\n",
       "JQGftWpDfwAAAwL7E9SOeSEp4CZ63lkFcPloj4idb9AAAAMABUwAAACCQZu6SahBaJlMCCP//rUq\n",
       "gAAAjPMpfwlDxgA0WU6nOXZvZibuqtdIUxFOzsgDm23dL4KToTl/f33cob0ZiddFc0ztUD5F8/Bs\n",
       "hED5WgFTcg4Rb28ky2DNe/Bu7YY3xWopbO/aUBQvc5mUdXbK5J7MS110TkRuSMcGSwAAAwAAAwDF\n",
       "gQAAADJBn9hFESw7/wAAAwIfsE+Lv/gBbMJy3UW/G9Ebq2WfZBtqZ1eOEKX9/iwUy+AAAAMBqQAA\n",
       "ACkBn/d0Q38AAAMDEIJP4xjichP+ABO1v2VojHIA8tbjHMXl5AAAAwAEPAAAACUBn/lqQ38AAAMD\n",
       "DpSH0gBNMOx2GvWmYBiD/tTxqOBgAAADACHhAAAAmUGb/kmoQWyZTAgj//61KoAAAJTzN6fXUapA\n",
       "DonzUCnODrxIB20g6vQPdVRaezr8L5gP9jflsHcqEaP9UwPwsxCwnuCJAzi+/Nc9XKYMSrCQkVeD\n",
       "F1vLDEE/0qG3uXhs5QHevh45reSNigOkcPh7kofTJYRFt8uYHu8Eml0pqIVI8J0osXUOURRPp89G\n",
       "RgzMAAADAAADAABVQAAAACdBnhxFFSw7/wAAAwJBHxLA22yM575oDswBVkUrQ7lbX5wAAAMAVMEA\n",
       "AAAnAZ47dEN/AAADAyRluCaQAt3m2PAgvWcgkp29Or0ykhcwAAADAF3BAAAAKAGePWpDfwAAAwM4\n",
       "W4Dl3P7v8ACIDJbADOQR23hTxkaUyxxAAAADAoIAAACvQZoiSahBbJlMCCH//qpVAAADATHlz+7J\n",
       "p5gBzSl8jGqCG/ovv0X96ofymO3oo55fD3P/uj0m64Asy+6qQjne7yMpXudf6NLMbUkJqB/hwfoN\n",
       "r1v7XdjLlzEyuk2m47JINzZYbVGhnstY5VJtKtUj2CVnh/AP0blN6z6Zgzbu9L0eI76KjM/D6bUO\n",
       "X6a3ih0URDefL9qtXNDdsruKGG5ZZBdDGeuSHAAAAwAAAwACLgAAAC9BnkBFFSw7/wAAAwJRH82Y\n",
       "QADVt1HFHG47oGr5HOCZwds0dR8ezZZv6wAAAwAF3QAAACABnn90Q38AAAMDTIRV5eFHQ9kAqA8d\n",
       "TMeQxQAAAwAOWAAAAC0BnmFqQ38AAAMDSr1HP1NcAKni8FogmUzxSbTmUDsgFQft0dDG9awAAAMA\n",
       "MCEAAABwQZpjSahBbJlMCCP//rUqgAAAnPM38IfeklqyxbPvkr5rY8/c4bq+23rhP+SQIXgEq+De\n",
       "nmEjoRw8lZhiAH2osrw3a5sjZMJrD8IfQF1dz//9WZjSIeqyupwNwddXGppFBNPC0CuMy+2AAAAD\n",
       "AABdwAAAALJBmodJ4QpSZTAgj//+tSqAAACgkzMhgNjMvbdV79upZpqkYnpUHHts+l0nhqqG15+k\n",
       "tkPVW4ottZN6EmfIxe+pqsuX+XOBXAE1JQuNe7fC32juOetozdPgKKEISv7AAVRtjtdiv5tJjVSn\n",
       "fMHz3kSnYJSeN6cyHZWeVeIVW9d10ectZPl/7UjPb4Gt+S4+mW9LzwdsSblbcUBfnkp/RDv9Kuba\n",
       "PtWl5UMYAAADAAADAAHhAAAAREGepUU0TDv/AAADAmAcdXOuAEKfDSR1ANsHfLWwjN7L5cE9N0gd\n",
       "3v3oB+lLoHGYyOHcwwnm6yGc02PpuMh8AAADAAVNAAAANwGexHRDfwAAAwNdaMld4RXAC3UBF08q\n",
       "enVQo/6v/njqaC3foySDq3U1oqGR1EynOa5AAAADA1MAAAAwAZ7GakN/AAADA2ABh4VPnANLIybf\n",
       "BjTYvcqW/MmTCDIT8f9OxmQPLavgAAADAB0xAAABB0Gay0moQWiZTAgh//6qVQAAAwBoNpf3oirP\n",
       "uAL/eI/kl/3nGQO6KodjB8DbmPEEEOMVCtIvz/d58oI+TN7dT+hHlMqTVXU1NUbPHmw0OFt0sx7L\n",
       "AChb+/Yqbsg795cVhAm5AqhOa2TMj1UGH1UhbUM70FIiD066P26Bob/dhAwPm8Ad3B2U2DARdQ/k\n",
       "0RVKzoH8swV4vezVLbg3ZK0+SDAq8tt2rQHgj0fk5KFr3BrX0L84jAqMrsLj6N5lAVgseqA+Mq2p\n",
       "rNxgvS+JNGd6Jzp8TJ9vj/4QO5wYzBdPUsp5Lgp0go0tLZH8t6uO43G0NMJWYR+CFJ1ESOJ3logA\n",
       "AAMAAAMAADZgAAAAMUGe6UURLDv/AAADAMqDo9eboBadubchRvFi1FP3pXQG2hoUVOmFUHs7uEAA\n",
       "AAMAB0wAAAA9AZ8IdEN/AAADAR27gKiXPgA/OFR97aLalX9CuMdkGT7oFY0DWU2pN8Rw94gCrHCE\n",
       "l+jkwDpZeAAAAwADpwAAACgBnwpqQ38AAAMBHajWQ5BwAsphGzPuImwIQmqPdgeCZtcAAAMAAHTA\n",
       "AAAAd0GbDEmoQWyZTAgj//61KoAAADPRTWUF48QBTfmXCqXopqFKmxQGDBme0nOazaA+/KDyT3tw\n",
       "+AIgNRTdRzyRrm/A2RBRLThah/GYG+19Bvdl26v8LRRayy0Ms80ZNpaNnfpaYFCR4+fM2kMAcNcA\n",
       "AAMAAAMAABswAAAA8UGbMEnhClJlMCCP//61KoAAADUZn48yrAKHZCivD+D0TXuYi0LAAkR4MlL9\n",
       "ossZ/fcpb4+Ki/2GnaUybUC7vUVXP6u6BMYwekOoGeZxujkxI/VDjoLt9+Iw4UqZXPmNQDzAeemo\n",
       "5CL6MLTvIr8CimDPf+VKnmqmzjMIZAlLdGt+GXgsBHTxgiZAjgJL2+oqeqPukanhUUagqIWVK2/f\n",
       "69s3KzZVPsEzvOtoqe49oqhdOXP4K4WZyzzLaJ5ai/4Gkhj6U4gssp9FUGKs/elpxyYNmeR59ZJk\n",
       "b9/ULINIb2xN11+G5W2j2vAAAAMAAAMAAYsAAAA4QZ9ORTRMO/8AAAMAz20t2uUVBmCfTUUAC5OK\n",
       "2Tde1fIm6m93I0D1TgO2D6OwHcRAdgAAAwAA+YEAAAAtAZ9tdEN/AAADASV9Zs9a7frKjCrMAG92\n",
       "7305HY8FEqoFcpRIT4miIAAAAwGpAAAAMAGfb2pDfwAAAwEFr2CBVVQzJ4YVoAIe+hcgLH2wc0ey\n",
       "REkomC1uW2bba2yAAAAGpAAAAQZBm3RJqEFomUwII//+tSqAAAAz2tXoAvETZ6LdrPRgSxcVGbMa\n",
       "0k/pUeOIcGUP/TFQoeII16JQ/HVLP+qE5zwBzaq4pi4yUvIBAtuj8ZMoUMQDocFE+yQEG9nw46lO\n",
       "ndnsTc/kPbRf6sz9UTsMo5rXxD0Z332x41xkUHIBfGl7jAbQn3JkWEQXj1TMvQx8dhOBrTHxA4Ad\n",
       "9EhZiB1Hhvw+ZU5TE3Axror/jnQNf4h4hwWhMgVeHc0ozkR7aUPwqXMU9ZmD7WCu0jm1EbDtDPCe\n",
       "uhSbdM3bk6mceV4dFZRPlcnchnI0bfL3tPld6O17bbktMfDYn9ngaQI5tBEyAAADAAADAAI+AAAA\n",
       "P0GfkkURLDv/AAADALu4YFcszCrdaAC90fLq3YJFuM2uaO1CzEpIYBJPIb1gdaawnG6r6WnHrG9I\n",
       "AAADAAAEfQAAADcBn7F0Q38AAAMBBX2SeJ8DwAfwfM+u7DEbpfq5n/LMluOtsskp32wyb5NFpJlt\n",
       "+2gAAAMAAFfAAAAANQGfs2pDfwAAAwEFr2DRV4VXUvoUN/IYASMneDCgiZnJ5XX+9zXtU2iaLi1q\n",
       "1E2oAAADAALuAAAAx0GbuEmoQWyZTAgj//61KoAAAAW4odVKjWLh0gqSk+JSQ1OX6Cs5FvsiBS1X\n",
       "dtAdmXTCyPcCfPFFDUKoTKS+tKLlP9PPxQ3JBcrt2TAcPpcvOb68Mj7VYf/9cOiyUt4pUqdOCFwe\n",
       "LMIPVKalBoG1bXw2xvhCzoPpTLwn2jeJbo3B+1A9Pa6WduUswFies5KYBQYBXYyreIt2UQ5l1vS9\n",
       "BpecCFF9zTrTSYvrAsK2thrJu+j5LkCQxKuz6IDz2VgAAAMAAAMAI+EAAABGQZ/WRRUsO/8AAAMA\n",
       "u7hgVwLdwP6QFIANpQaY64SqutGmI+EtwuG7aoLzBcZuFyDRtCgDi1CwTdVypEkV9UnZAAADAAAU\n",
       "EAAAAC0Bn/V0Q38AAAMBBX2SzbZq4ynwTACZic4UVDaDxuCpF8YpntqQNAAAAwAAEvEAAAA3AZ/3\n",
       "akN/AAADAQWvYNFeW/H3ruFWHQBPBl3VabtZbcUUhmpbERI+JTY19RvhewAAAwAAAwCPgQAAAQlB\n",
       "m/xJqEFsmUwII//+tSqAAAADAdJ7BLzqdrFimDXSQNfgHqvPLrdmck9UivnOO/HFiHa1rNwktFLm\n",
       "p9+oFRFcmQu2q6WZpENxUbCzaKfysohunXpMw42NFF4e2ncyEViVrHg4y33/qVs83/bh8CUql6jB\n",
       "OkVvKapUH+9Ezh8xB9PDwOut2yA7oduzJXSymw43Ui0lIfuzsWQykB57tVNe3XyuLXH88ajMSzrp\n",
       "A+qmlBPvr454M+TGxEHJOknHV9mCnTgAFDZp84M7Wd+QQIO6vwa70asz05ZeuMiDSNU7r/v1UyNY\n",
       "6mPDhlMHF8zBvwAvYEbwp4whoTPRu5i9PGKwAAADAAADAN6AAAAATUGeGkUVLDv/AAADALu4YFcC\n",
       "3B7Yn8ACH66EsvcQBGKPTgVb4LpMAs1Ffh/6di+fsFxOb+zF4dSbMQYlh7LIZuwGt6Jveb4AAAMA\n",
       "AFFBAAAALwGeOXRDfwAAAwEFfZLNtkVbF/a1rkQAljn5iLO89buyPApqf/s7mgKAAAADAAR8AAAA\n",
       "JgGeO2pDfwAAAwEFr2DRXkHuNgScC9bXhlZWFYhiEeIAAAMAABixAAAAr0GaIEmoQWyZTAgj//61\n",
       "KoAAAAMAlM182Kjk2/C2AL0b1rsZcR50Neg6dIgiNsfAeZitwaZZUei2//AQZiReTO/FbIyzwXRG\n",
       "sRFANTAVVfnczM9O7VKg/5AO2itv+A05cn7PDfrx2vJscbRonU6fSiomApM2U0fyVG/q00FsKVsT\n",
       "TuFWYmeYBY/2BgPPd8FlXh4wy3ZcBeECBRhPIrigdsiVplRhzk5NgAAAAwAAFbEAAAA/QZ5eRRUs\n",
       "O/8AAAMAu7hgVwLbnLFH8ACIPhnd+5xEI1skvXORIix4PiunnFPZiEB1d1kM3YBDLUmAAAADAAak\n",
       "AAAAJwGefXRDfwAAAwEFfZLNtjr2YsBh21gc4z6i6OqDcqcQAAADAACXgAAAAC0Bnn9qQ38AAAMB\n",
       "Ba9g0V454Ttd3xkygAGADVKjU7daZQFpgDYGMQAAAwAACbkAAADGQZpkSahBbJlMCCP//rUqgAAA\n",
       "AwAwTigV7hGdW/dAGrHqZr3HMpza9S9zCfXjVA3QrMN6OCZUaDTHmJBlSGYZJVto9w1MKqDBeIDy\n",
       "t2AiF+dbWlCZ143+3rh7b5Gy4E1/FUVH42b3QMetyTcfyHWq3e6DGsgoH7nTTy10jmCfDQ+KIHbA\n",
       "HaANQRHS9zticEc2HXCLH6Z1SMYtEun0TF3zN85dZ8dqkmgk9smCRNDPvSK743rHP09uxszljkXf\n",
       "uCXHUkSlqh4QAAAAN0GegkUVLDv/AAADALu4YFcC23PgQLACE671TaowWcKkEcYFhYKk3UbqxTlZ\n",
       "JrmckAAAAwAAL2EAAAA0AZ6hdEN/AAADAQV9ks22OvZow5Dt4sLgBJ8evftE/fUHJ8NVD6cCiKxY\n",
       "r77UQAAAAwABnwAAADcBnqNqQ38AAAMBBa9g0V454T6VgGm8NIvqDSNwArncSbaSbGL/UiYX1ocB\n",
       "9r2zRwAAAwAAAwK/AAAA4EGaqEmoQWyZTAgj//61KoAAAAMADujyBvRKuaToATLeKd7Jdul2GZ6U\n",
       "X6PUZLYTqcJIgnOEUpjrvaS9Ss9KZ7R5Qj3bsJdqD2fIoSmOXm+pxP4SMH4ox5qz7z06/4Yl0Eby\n",
       "1QdyPGVf+pCIIWifeCV0Hp8XnB3IVpoaWdkhR1+Sg85xqM9mBFfetIt91RDEaqCiT9+R6mrqRPhw\n",
       "wTn4WWKBXxDgL7IqiMD4Y1d3/m3uwQi/JyCxOLobHGnCY3EDAV4L07HdrtXBFFmUILedRNbASU2w\n",
       "2DnExNgAAAMAAA1JAAAAREGexkUVLDv/AAADALu4YFcC22ZGmsuF6I//EJ7CACwwAvRPjzPqqrlu\n",
       "/yEh+2Bg+aOexTkAhlGNw/kZI9+AAAADAAEvAAAAJgGe5XRDfwAAAwEFfZLNtjYIIpb8nvf26Z++\n",
       "/X/uLB34AAADAAdNAAAAJAGe52pDfwAAAwEFr2DRXjYfp/3xBdlE+mdGuRucAAADAAAP8AAAAKdB\n",
       "muxJqEFsmUwII//+tSqAAAADAATmkt1G9fAIAuxOt+dZgyRslEu6BWYIEdx1jwd+/Y8o3XBv5ZqU\n",
       "rFv7QTAHprhlpmxK7rShTwjaLcH85zRE7V6mLHKBk0oLiIry3Hm3IWAjcs3IjJMu66FEmnys13t/\n",
       "bkbh//1K8e9hINlWAMDh6tbwCqhAEviHzO62tTun/FDtrosv2+/WVwuKHdzqAAADAAAiYAAAADZB\n",
       "nwpFFSw7/wAAAwC7uGBXAtth+4AF3p43Bj7DUAIck2gBOsSx56X/rz5aPQjb4AAAAwAACJkAAAAl\n",
       "AZ8pdEN/AAADAQV9ks22NazAGbdfGE9aAVRme8xwAAADAADPgAAAAD0BnytqQ38AAAMBBa9g0V42\n",
       "EFqbZp1sKBMHdBTVcAJl2PCvM3yI61HiZZ+8NdbOLITJCRAEUO6IAAADAAUEAAAApEGbMEmoQWyZ\n",
       "TAgj//61KoAAAAMAAYL4UxSr9dHtxut8AgJHIPDBTcay+6jSwDb/V1MydmdjvUJEIIzQeynvyIHp\n",
       "Zzwv4iNCtIqTt4+SGtuiB1FDVEDcPDB6AUdd961zCQ1v1ApCZA9ofPcwEXdTlfr0pwpDR8UX4FDz\n",
       "xLWCbGfWbv8eydwOFanRfdO0bTU23DjiVUeFOCJvr2vv5bPAAAADABMxAAAAQ0GfTkUVLDv/AAAD\n",
       "ALu4YFcC22EFkTp43mykAGrpowJGoFvhRCO/CWqTv/ZcN2QSVgXsFKGDhpF8e1oGkMAAAAMAATsA\n",
       "AAA7AZ9tdEN/AAADAQV9ks22NZbwBqtUL3+/a/kMAJP5To86S6p4Bjb86Vuu47aJvQhLWEn4MAAA\n",
       "AwAAZ8EAAAAnAZ9vakN/AAADAQWvYNFeNhBalldDpDgL4oMcZkMq89WAAAADAAQ8AAAA8kGbdEmo\n",
       "QWyZTAgh//6qVQAAAwAAAwD0HkgAGZsz+7f/gy1DwGs4zsMQy7jt7qyczpwG9R/L+fS+mR8WjYNO\n",
       "yuIHKpF9tuH0rP/AqIbKF6KYxBr4dKbTXjr5WisMrNR5Srrfo1BYErCvQF4xy0Q4KWp/5JSYX/4s\n",
       "wO/9QJlkeeoqnDIB4nSZ1zzlze3JQ61bMRfiubMMgMcAL9ckN3T/pm7nQw7qAKR0qG922xMdP7Wb\n",
       "1vEHF/xU7bO8uLPIxuf98RhHwF9FkNC/CLuhcHTIw7y7s15iY8xHFtzBAPbgY5JVzUF9fTXl5qpW\n",
       "aXNwAAADAAD/AAAAOkGfkkUVLDv/AAADALu4YFcC22EFkTbr35knIAOldALPfsemZTrfCWfZfT/9\n",
       "N1z9wPANyOAAAAMAAWUAAAA6AZ+xdEN/AAADAQV9ks22NZbwBbqmEWringoAS4aay5ACp3mSbRe2\n",
       "Ut+huyVrnMsfE2QAoAAAAwAoIAAAADkBn7NqQ38AAAMBBa9g0V42EFqVxtWom/HgjSjikAHBiv3k\n",
       "c5Kmzprz0pm82AVbceii6AAAAwAAM+AAAABmQZu1SahBbJlMCCH//qpVAAADAAADABlhJHfHQA2F\n",
       "7rJmF+0DykTHXkwCwp7Y53CD+1a5R/brHjO0D5In/la5NyC79vksM/2cFwrUD46jfuhuvGoXrYN3\n",
       "a6KXWB/SjmawY4vJnzUhAAAAVUGb1knhClJlMCCP//61KoAAAAMAAAy0Jhq2AJhjb6XUYzeRtGDc\n",
       "70a0V4PSmvWZ76psN0ixif8H15MjmydGcn4UsCsIkr7/zQHXJEZaCdTPGCsqeMAAAACkQZv6SeEO\n",
       "iZTAgj/+tSqAAAADAAADA+u4KTwb+QBsYnNael50o1h6pmR3LQz1rDTy9x/KKWB046fI65uUuz8t\n",
       "8OI0GVo8YknUoQaSpBtV5iD6TqBL8hd738t+LbizOsopMa/S6d8o9N/L55gMCpEzJ8+FhGwjwf1Y\n",
       "TTbXDK09Pl+gMegZPkisIB2OmdmA/ulZYlGYSKr/nZ/az5w2ixWAAAADAz8AAABGQZ4YRRE8O/8A\n",
       "AAMAu7FwVuE19pa7mI1y3xJg+2i5gA+8hPDinMsJ6i0sL3bR2sTtPCxQ0sEXLUQ5KPwZ2r1gIAAA\n",
       "AwAl4QAAACgBnjd0Q38AAAMBBX2SzbY1lvAFuqVmUlqb8uhsYYfSQgn0AAADAAF3AAAAKQGeOWpD\n",
       "fwAAAwEFr2DRXjYQWpXG1VMs3VeWqDAG4orPWcDkAAADAA1pAAAAtEGaPkmoQWiZTAgj//61KoAA\n",
       "AAMAAAMBQo2D7t8AswLmDvx+AanjrAIFrTXCL0M7jJ1wFizhZx3FY3s8wc1Q2lfKg87MKVQJUw/c\n",
       "bR7HgJV3ig2BYMbPcAl3+60ArHs/ZJs2fJZ2F6NSVjM4aaNdh+SMuy6ouqYX3x4uyfm66CG0r3VL\n",
       "Dh0jE+vj+tHe0ZKk5tMKnyqnSZ/98wNNQLRX+Odg3+FEFOKTooWEdklPWQAAAwAjYAAAAD9BnlxF\n",
       "ESw7/wAAAwC7uGBXAtthBZE2695yYJD7usP3N7T7veAFkIczHimcXOZn8uMA664PB6ZL2CgAAAMA\n",
       "AXcAAAA1AZ57dEN/AAADAQV9ks22NZbwBbqlYIYnkbGppaICQAe8JBbEFFBKy5OenscOC+gAAAMA\n",
       "EPEAAAAkAZ59akN/AAADAQWvYNFeNhBalcbVUEMFp0x1gUwAAAMAALKAAAAAqUGaYkmoQWyZTAgj\n",
       "//61KoAAAAMAAAMAYqKbqKWOgBITZ9G+oWc0Ue+WcO2hF+0HBZFCiHUv0CEbHg6g8xMT9uoC3dhE\n",
       "NhXbKG0aVydqEOK5nXRPyUKW+iqoi2HbKxtgfSv5T52bRsQiuZd4o3pZ/t0G5pW5t0mzdYmEhq2A\n",
       "y69NridBdJcO+s9CqOUu6we8kmVnUVo7iFe2F6Bfsd5ThmXoY7bZwAAAYsAAAAArQZ6ARRUsO/8A\n",
       "AAMAu7hgVwLbYQWRNuvecmZUMQ2vbapQCovL5wAAAwAG9QAAACQBnr90Q38AAAMBBX2SzbY1lvAF\n",
       "uqVghhvwn6TZEOgAAAMAQ8AAAAA3AZ6hakN/AAADAQWvYNFeNhBalcbVUEMFH1ZU64GPVCkAAG1W\n",
       "ilAxyotdxJAuZrGDwQAAAwA9IQAAAPZBmqZJqEFsmUwII//+tSqAAAADAAADAGK1q9AIMYOr/F95\n",
       "VJWmthoQl6hBD3SMsQUhkKAOx7Yi4PRNK5EvtA/lbkS7Dim93SqtV/fmmwPqIBo6CZRt8o+LkYcE\n",
       "ZUYdJfu/3lCXDz5baER31PaUpT6j6+WzT2LUhlr4G62pbRJ5eXQrmBY+lPyzePcYik1mb2kipY1w\n",
       "XATcKsE7CkngdPSuV6DVzFXsVX0I+GXJ59E4kTjfmEl0t0fVXZX0BqziCEFNtDHf1Hbo2SnoA61C\n",
       "CybTzoweQkXP5PebdugQhDMexItnF5VjzF6BdzgLx9K7oM+m3gAABUwAAABFQZ7ERRUsO/8AAAMA\n",
       "u7hgVwLbYQWRNuvecmZTNl0vTBfgA2kXDsmN+DQBcPXk+vIPN4xmT4FqH5gAgryQhKVjAsAAAAWl\n",
       "AAAAJQGe43RDfwAAAwEFfZLNtjWW8AW6pWCGGqMwvFz/VnwAAAMAFbEAAAAmAZ7lakN/AAADAQWv\n",
       "YNFeNhBalcbVUEMFH1O3fXfRpy0dgAAABqUAAACtQZrqSahBbJlMCCP//rUqgAAAAwAAAwAJw3g3\n",
       "AJ4BMnesrDjh2JBrhrnwhyqGUpWZZTWEwlEcNIVv5vbUklD5kdBe5Pt9QhvrMlxzkO3zW2roq6+h\n",
       "0bRh0X7BSko60rnutBL3OxqGlagxaBA37mXf/GXl4TiXnX3ueK1y7FCNSIwliqXCbbPvPXyY9FQw\n",
       "YyXw3ND0X+SuqsjyPlCuItsZxn07Ggi3eRA4/gAAJuEAAABAQZ8IRRUsO/8AAAMAu7hgVwLbYQWR\n",
       "NuvecmZTNl0O1kbAYpw38MD5yAPq3qmrRea2OeoqGlXTAbNmyAAAAwBswAAAACkBnyd0Q38AAAMB\n",
       "BX2SzbY1lvAFuqVghhqjMDszLVc/vLDTTXiwAAAPSAAAADABnylqQ38AAAMBBa9g0V42EFqVxtVQ\n",
       "QwUfU4WFam0fythomOLQAt4YspFogAAA9IEAAADOQZsuSahBbJlMCCP//rUqgAAAAwAAAwAA7o8k\n",
       "xdkPKyARDIASm6NiO4kJBqPwVV0i/SU29PWsCg9k68M4tz+sTGdcf/04YKH5SFz0PI8Mqb33zZue\n",
       "pL45zatRgF9DaYHUnKl7yXGn/2FYageAoq7KUsukOxxu092tHvu5NbxCTJFH0FghTISqe8i4vxmM\n",
       "zPUIJrinjsf/hdhWUPH+qQXMYTlbqQ1MBvGVXu6SyMgvvVs6tYFLajdAIZ03JPM8Xrbrn++bEz97\n",
       "JRDH1gAANmAAAABEQZ9MRRUsO/8AAAMAu7hgVwLbYQWRNuvecmZTNl0uBQih4Jmw7leAEqiKsKTe\n",
       "TzgKicMrTpOA7/n51Cfr7IcjUAAAFtAAAAA/AZ9rdEN/AAADAQV9ks22NZbwBbqlYIYaozASyANM\n",
       "bbZay4ANE1qHd4bTWlM+57DmGD9abaMGko8GVgAAAwGPAAAAMAGfbWpDfwAAAwEFr2DRXjYQWpXG\n",
       "1VBDBR9ThYVMIOwCf6/PMACPS0LFOQAAAwBLwQAAAQBBm3JJqEFsmUwII//+tSqAAAADAAADAABK\n",
       "Cy5rvvjRAHkuTd8Vk6cthaXdNZZSH7r+RKychn3ED5cjoEcqLgUTWRPX0awbqRqVGdqETDT8e1x2\n",
       "h/11fjqZTTr8ToEqkGuwVF3wiMbViAAayP2jIP+qwDaAAU/wtqetRFY+Cm7Nwknqmy7wVHUoHayE\n",
       "zhTuvF2S0rdRCxVsZyhegc3UJ6bm68QeJzajSUo39jniUE8MM++gvsM3ofKId/50Yhrvg3LPBUtJ\n",
       "ku5eFkc4qyoulEEV7Ct8MDYgs97LnVyEDMIP0q6y28v3CZE5iTDAPh7rUjKAAE+FY4KFio/SIvrA\n",
       "ABZRAAAATUGfkEUVLDv/AAADALu4YFcC22EFkTbr3nJmUzZdLgUIobEE/Llvwxr2gBNFaGjdV3os\n",
       "UABbLBMkjcAfXxVcCg7LCwHA/eQ7hxfAAAJOAAAALgGfr3RDfwAAAwEFfZLNtjWW8AW6pWCGGqMw\n",
       "EsfHBRXdNfPIQA4p0+SW/8AABLwAAAApAZ+xakN/AAADAQWvYNFeNhBalcbVUEMFH1OFhUwgLlHt\n",
       "3Pqb5gAACtkAAADeQZu2SahBbJlMCCP//rUqgAAAAwAAAwAAShtxAAS66XkJINymepGH/FA/T6cl\n",
       "elZLIoHAEQn7CF/HXYDhKzBJq7UlYUEvF7E1Ds2XaDkf+ubsxPbsVm+dTnH/pDH82ks74jOBNGZK\n",
       "+z3FjHfVlxfXh18xLoTY0F0vlRoBazIaQ98HjJyqvXb4UvGtmETRI4j3gIL9NxMLRI+AZAI9cz82\n",
       "7kDlA4DS0tBG9703GeiHfszlTaurf3knnhbmFktbHy+zCfRc+t+O4L504bHa2FBkSnaEP/EMOZU3\n",
       "sgnQAAd0AAAAMkGf1EUVLDv/AAADALu4YFcC22EFkTbr3nJmUzZdLgUIobEENzpU0cThe9FZqfWA\n",
       "ADZgAAAAJwGf83RDfwAAAwEFfZLNtjWW8AW6pWCGGqMwEsfHAUSdkPc5qAAB8wAAACsBn/VqQ38A\n",
       "AAMBBa9g0V42EFqVxtVQQwUfU4WFTCAOciZtF9/a2fAAAGfAAAAA20Gb+kmoQWyZTAgj//61KoAA\n",
       "AAMAAAMAAAceHhWUAetdGT65PpoyUWZUzUfM088izlgf4itgj+x5Oex10SIpf1xn7qAa2/NAZcif\n",
       "w62BEDw694wyB95TQVnbQ2vTonhSowJblVg1wnvAPdB3j6TSl88nFqrt64OFmigMSMdOJH+PjuAK\n",
       "vvk+D4I7T02nDDJitUt1imqQFeaqc4gXb3nhf8njURcjcf/z/x7v7RsWGPA1VF2rHcIDpPAZud1Q\n",
       "BXeMwxjT/1aSYSmkykoGxr9FhNF9j5KAqYBA2AAUkQAAAEpBnhhFFSw7/wAAAwC7uGBXAtthBZE2\n",
       "695yZlM2XS4FCKGxBBHAW5JRBmUagAlw7wVEtA1b+0yiYC3O/7Aeyh/5Z4cBX7j6AABlQQAAAD0B\n",
       "njd0Q38AAAMBBX2SzbY1lvAFuqVghhqjMBLHxwBpJhTmBiIQ/8MD73AHG/Za+LMIbng6mjclaLAA\n",
       "AN6AAAAAOwGeOWpDfwAAAwEFr2DRXjYQWpXG1VBDBR9ThYVMIA5wVFJbOG7gBNXvM48SQHoSUryP\n",
       "4FmiFUoAAEbBAAAAyUGaPkmoQWyZTAgj//61KoAAAAMAAAMAAAMCIFlyVRnlhgBJRWSMg2L2FS+g\n",
       "3tEb19kbIkZKjZynwUeCUup3wZoPnFjm8ZGQZthYae2JlGGdvFbHO9bhkHQhGXJrJaBJugxe5eQP\n",
       "ClWz8Me25MDl6H+b6ZgmJxbztlG/B6S151KD5LYSLwRZPRF1bkm6jDmkDTOlS1jnJQPVy2NV64FB\n",
       "NuzORQiqXc2noqvJL6i8BbnktanB+mmkxNrQP7ZvFhk3afaiFYGg6wAMCAAAAEpBnlxFFSw7/wAA\n",
       "AwC7uGBXAtthBZE2695yZlM2XS4FCKGxBBG/MAS9AIeTtQn5arqgBYX/LBhUpYKbJFK3tr9WADMo\n",
       "QaCbwACrgQAAAD0Bnnt0Q38AAAMBBX2SzbY1lvAFuqVghhqjMBLHxwBpG7COjQIsefUAAHhGTT5G\n",
       "ydNXxjgl3siG5CK0AAhZAAAANgGefWpDfwAAAwEFr2DRXjYQWpXG1VBDBR9ThYVMIA5wVFBLDNzt\n",
       "lvKukACdveVRWTplAAAFVAAAAPJBmmJJqEFsmUwII//+tSqAAAADAAADAAADAiDguXAKARD88Od1\n",
       "5d4OuWQ5VpNep2UHPdrMoXm6c8JcVxyIZxdRaGJf+vIOrwyeo19saa8gimq5iHRQ9hcEFY4lCVIH\n",
       "OoOjsrImGxX7IwetrIxiCe0xx+msXe5owBijkZyeNUjUsdBXLM4/sy6tqZqgC0Lo8iM3zjQQtskv\n",
       "1/3ipdfVU0R0sHYXXPf/Vv6Uth5KSERiO+N+lI2SSzU5a8+9fh0XJndeqy8SGSV4YWVNDBbbifEN\n",
       "2mmEn3DUubaK0mQ2OwV4Wsi+MBTzIZKWP7nee6GwSOAO6AAAAEtBnoBFFSw7/wAAAwC7uGBXAtth\n",
       "BZE2695yZlM2XS4FCKGxBBG/MAS8zUe72gAhrU9YWPtxXyUs/XbzO0XQcPNUKmcyeOTwoVAACykA\n",
       "AAAuAZ6/dEN/AAADAQV9ks22NZbwBbqlYIYaozASx8cAaRuwjshZyJ92xyuRFgAHHAAAADwBnqFq\n",
       "Q38AAAMBBa9g0V42EFqVxtVQQwUfU4WFTCAOcFRQSwgtRikt9rgBuhoXk+eltc7RfF4OY1QAKmEA\n",
       "AADYQZqmSahBbJlMCCP//rUqgAAAAwAAAwAAAwAz7jYlvi/0AI6Frx0PeD4vIrrNuACy0M21vAm1\n",
       "13i0KSX0170b0QsvqI1M1RU4OF99LPaRQeUtX/WVefGVx68vF5iev42lk8t4ulaxmfyIG8nPVT1+\n",
       "hjcQ7sTHQsSVh253eIiAxiE0rPb3xykiTyzJ0F0vbSUWuh1qSRjFDTkasWoVUTAZWWB9IdwbnXYU\n",
       "UZdgWGbtF/DO8Ce1DdOgxZng7IAQAeeLaATWm2QxmBxQC1Vdlv08ADJyjthkAJOAAAAAOkGexEUV\n",
       "LDv/AAADALu4YFcC22EFkTbr3nJmUzZdLgUIobEEEb8wBEPJbQZ7umUPIQAcT0c9mm4ABU0AAAA2\n",
       "AZ7jdEN/AAADAQV9ks22NZbwBbqlYIYaozASx8cAaRuwioCqt/qMGQ1gA8I4ROsH/3IoABVxAAAA\n",
       "PgGe5WpDfwAAAwEFr2DRXjYQWpXG1VBDBR9ThYVMIA5wVFBK0RWqr1VYgATt7zOU518MR7XWku8V\n",
       "gBNgAMCBAAABDEGa6kmoQWyZTAgj//61KoAAAAMAAAMAAAMAMpr9IATw5kvSXw3eFnnZYJrJC+MU\n",
       "vOS8ZN7QHxv//bl9OgUqVBOcpqUTvjzyebkDsEU3ftqhlbM1wT2Wr3WormVKDU/164Q9I2mWZEDT\n",
       "lU8JjlAH2zdjCTseDZsf6iwpmTdQedx361PU+TsNN5lwf3XpuRDxwgjoO/5p1VkCPMd6I8/+qDB9\n",
       "GcxMZYgbL1IgkSjtZkaupDg6POoH+6AuKdxaFXsa7hBWY+DA4O6A+hbVu7RcrlIYXn9DzTsUDdDV\n",
       "I5riRKV2am+t89azw5/+TyU+vu8n008vqVbXX7BVay59f6zMZB+G7edOelwfj8h8AXcAAABFQZ8I\n",
       "RRUsO/8AAAMAu7hgVwLbYQWRNuvecmZTNl0uBQihsQQRvzAEQ8ktOWI20AE7fDPJ2In/fNk79AAz\n",
       "8FvYl47oAFFAAAAARwGfJ3RDfwAAAwEFfZLNtjWW8AW6pWCGGqMwEsfHAGkbsIqAp0ynfW+Gn8YA\n",
       "G2QWkN2uTCMisoMGbfqgf/4Nq+kRLbLDQAQ8AAAAQAGfKWpDfwAAAwEFr2DRXjYQWpXG1VBDBR9T\n",
       "hYVMIA5wVFBK0L0NeAD+j+LDOcyALhnpLxj+C9/YYUfauEZAAScAAAC0QZsuSahBbJlMCCP//rUq\n",
       "gAAAAwAAAwAAAwAwM1s9zAZdBikiwcEubscYxFSvDfOzUDlyQzMj54hov/NTKM+zgIiSJBY9LHQH\n",
       "xNgE7VI+XCmq3swy+CACx3nk5PcasJ4CHs3zk+tdGeirX2FXwuyu8PWr3ECaSY7q3eEXWNBPXMU4\n",
       "xrjBJaekmNIi4n+ypzZE9W01MyyIir25s01WfmnuYUodGcv13zjP7NyUrBWcOT7QwBSQAAAASUGf\n",
       "TEUVLDv/AAADALu4YFcC22EFkTbr3nJmUzZdLgUIobEEEb8wBEPIq13Qr2Z3ZMVOABK8ldlj0jZD\n",
       "14pgcbdtNsF26ubAAl4AAAA3AZ9rdEN/AAADAQV9ks22NZbwBbqlYIYaozASx8cAaRuwioCeGw+X\n",
       "+67zcnABNyAXKaClWAAm4QAAADMBn21qQ38AAAMBBa9g0V42EFqVxtVQQwUfU4WFTCAOcFRQSsVB\n",
       "rwaLMsAGrXTbEkAAi4EAAACGQZtySahBbJlMCCP//rUqgAAAAwAAAwAAAwAOmzNO3MYgCYjJ64qM\n",
       "UIrEzfw8+pdtH5PsuBawf9aZhATjZmn5tigzmYJG2ubfhXImR0YEkUmEcpvFeCn3ZnGLUIs9AtDR\n",
       "1w3tor7W3f0xsa6Px9SHPLrsmMmx0omdGNFuN2reWXkQCBogAwMAAAA0QZ+QRRUsO/8AAAMAu7hg\n",
       "VwLbYQWRNuvecmZTNl0uBQihsQQRvzAEQ8hcqBSBh7ovFQADPgAAADsBn690Q38AAAMBBX2SzbY1\n",
       "lvAFuqVghhqjMBLHxwBpG7CKgDBzuo7osqAAiEFICs3ewslchZAddABQQAAAADUBn7FqQ38AAAMB\n",
       "Ba9g0V42EFqVxtVQQwUfU4WFTCAOcFRQSsUWPQZ/yMlACZzgPHwX8AA7oQAAAG1Bm7ZJqEFsmUwI\n",
       "I//+tSqAAAADAAADAAADAA5DOBCnAILqY27zs7+fYn3+SAO0WG6hcekmoO/bTmrFGV6+my3a7wN4\n",
       "WZ4l/FZ+imYo+m/x9Q0Q1y25S2B/DIM5dDxS1pLEvquAWUjX3fqhwCTgAAAAQEGf1EUVLDv/AAAD\n",
       "ALu4YFcC22EFkTbr3nJmUzZdLgUIobEEEb8wBEPIXKgQlUDbOXi40AGum9+mL54Fr0kAAz4AAAAt\n",
       "AZ/zdEN/AAADAQV9ks22NZbwBbqlYIYaozASx8cAaRuwioCS2RgLF0yngAFVAAAALAGf9WpDfwAA\n",
       "AwEFr2DRXjYQWpXG1VBDBR9ThYVMIA5wVFBKzxyV8XZmAB/gAAAAuUGb+kmoQWyZTAgj//61KoAA\n",
       "AAMAAAMAAAMADZyfBgPMvZgFp69ARfUfqtgvfBytTwOUMyrorsyZbstExdZZusHf7pt6PsMY4/Im\n",
       "O06PcjftoA+wy43GWhxY7P2yD1ly7vqON01fFDyp7n2xytykUV8NlGCb9cz32R6YichlPXH506OU\n",
       "FIq6+4hN2Q+EQsXemPs4nHB4MjsA63pCtOCd+gw+pulnsOYfebXoA+Xpsgj/mHbpK+TkQCphAAAA\n",
       "UEGeGEUVLDv/AAADALu4YFcC22EFkTbr3nJmUzZdLgUIobEEEb8wBEPIXKgQiRxLcS+DY/hwAaiP\n",
       "pycX+3wZFCIJFHn7R5yu+qh/vcOWAAF7AAAANwGeN3RDfwAAAwEFfZLNtjWW8AW6pWCGGqMwEsfH\n",
       "AGkbsIqAML20EmnASuAKAEz0eYTDhMWAAk4AAAA2AZ45akN/AAADAQWvYNFeNhBalcbVUEMFH1OF\n",
       "hUwgDnBUUErFFcnCpxCnbSLgAltYCC+AAF3BAAAA3EGaPkmoQWyZTAgj//61KoAAAAMAAAMAAAMA\n",
       "KmTMyGLvxKb+H0JwP+8+dBswclexD2T6CsBAxFsKoKi6H9djYyD+LjkGypcUSXuwV4z6BuzwBKNJ\n",
       "1G4ZY8fqOiftNmb1LXigWHMihP5RXU9aLV/6LD5+yvWs/TdkFIyw1suE/k/iU/LEB1AuN+ruQzzE\n",
       "+4GyLxFjoQFirPdfVRQgI9xVys8VePUOZQyURcz/Unm5CA5bHFBv2VJgfw7lIdYfu4G5xVV83UA9\n",
       "++e57W2CR3WcjpGfTb9oXv2G1T2IBLwAAAA7QZ5cRRUsO/8AAAMAu7hgVwLbYQWRNuvecmZTNl0u\n",
       "BQihsQQRvzAEQ8hd1q/vLfWWKWj0P95TYcgAC2kAAAA3AZ57dEN/AAADAQV9ks22NZbwBbqlYIYa\n",
       "ozASx8cAaRuwioCG2XezPZRnz6mADcEFibRlNQALuQAAADkBnn1qQ38AAAMBBa9g0V42EFqVxtVQ\n",
       "QwUfU4WFTCAOcFRQSs5cvVQ8t9CgAudjRB8WoTnJVcAA3oAAAADnQZpiSahBbJlMCCP//rUqgAAA\n",
       "AwAAAwAAAwAoXEf/AIn9AAgi1YIFLcajangz9YaeQO9a+NxT1EY6K8SWX1UY/GOSBp/ZnNQIbWBd\n",
       "FPwraFIfnD5XVSPpHVQDQtRuCVgk1xNRDrG07RPBHCBv0ufu1Sm1ey5NtYsKDwrS/ujRr/8Ig8JK\n",
       "+eHPXCMpQQGWqEAYgM0IpChDNs+Rri99shimNfUHCqA2gpAlOMgciTygcKZve0d4eQqXBmCVro9Y\n",
       "wC6CWSBqTvTU18mZi17tuvUnk/4TFRS4S8EsAIqeHml+lFaknbthkAMCAAAAR0GegEUVLDv/AAAD\n",
       "ALu4YFcC22EFkTbr3nJmUzZdLgUIobEEEb8wBEPIXadcFwAcuDZlCG/IQBWEO0BBwQMa4uH6SlfA\n",
       "AFTBAAAAOwGev3RDfwAAAwEFfZLNtjWW8AW6pWCGGqMwEsfHAGkbsIqAgRWscAJcnxhOO7RWKXw3\n",
       "/X8whHELQAFJAAAARwGeoWpDfwAAAwEFr2DRXjYQWpXG1VBDBR9ThYVMIA5wVFBKzcDxlQhWvACW\n",
       "UBnKgt8nIqIsJEVXGOkZHwAw+q0avqhpgAFJAAAA+EGapkmoQWyZTAgj//61KoAAAAMAAAMAAAMA\n",
       "d/cH8dNqwADpXlF30kGK+HMTVVT0E/auuxZPkvnU24st4VA2OAy1UyE0yan2LKXYcnK6yK+TpfSw\n",
       "csWTKVDl53u8jpOLnbA1JJGY/O9jpeIZd7X/0HEUFlTF/2UHAn9rUdXmEabYwEaFggd2c7xbtxAc\n",
       "5anbe7A08aA4ZqCBrgadHzpPVKZFygSd0d9yLUA27G949jL3FEYmnX3p0q/QaqFzHY4SmJcI0/do\n",
       "gqUva2j7gU9r/FCd4G3Mw3wc/mDHhm6BOpKbVdFsk9sz1UUZOSGMZ2ERige7TZVDVgLKAAAAUkGe\n",
       "xEUVLDv/AAADALu4YFcC22EFkTbr3nJmUzZdLgUIobEEEb8wBEPWKiz5Lvahxf4hP8OACW6RXOus\n",
       "7Ptf7i9LVYsbywys1v4K2JetGdAAKmEAAABCAZ7jdEN/AAADAQV9ks22NZbwBbqlYIYaozASx8cA\n",
       "aRuwioCZSUwqdu4AQgTzylw77+g6oQbU9s1hlSvHKtNsABDxAAAAMAGe5WpDfwAAAwEFr2DRXjYQ\n",
       "WpXG1VBDBR9ThYVMIA5wVFBK6UDIoY2Cm9NXAoABQQAAAUdBmupJqEFsmUwII//+tSqAAAADAAAD\n",
       "AAADAXcn6UHemTPlXl4LnK1OEzO8bvMZrQpQs//BropJoTs6ZVG7aJRxFWV1Hdluc6Vyfmk/rVcc\n",
       "ydO1z8DurNlqQx6efmylK9DsUeG126mXRNGI8PXf+VBS8BVnYXy4eXWPQy/leDwJ02a6TVV5uNwQ\n",
       "Q2m6uFOgLwctLAT8S3bPXcynsWTJNnMYS+o/c8vJ1CRoRXetu3uWaeYFjv4qC1dnLqQVc6K/+wBa\n",
       "uHD0jdHmNEgC3w30Idz45TOdsxDivQC0pK1AcpumKayUwIq0Pw5FQrtHsWPraoBsypeEDnTazoIC\n",
       "0eMvOBhoUhwPv8+c7GIQS+20htGTpcPmhAZjpNwMwVo4lQJGxPhbrfOm8QDiy4TYoCqfI8FNei0V\n",
       "k8MKGOkMsm4ZB3iIe7G/hWKAFbEAAABDQZ8IRRUsO/8AAAMAu7hgVwLbYQWRNuvecmZTNl0uBQih\n",
       "sQQRvzAERFuw3iMFvGpABNXwvEM6B/sxhV53W8zIAACLgAAAAC8Bnyd0Q38AAAMBBX2SzbY1lvAF\n",
       "uqVghhqjMBLHxwBpG7CKgY4OeBQ3tZqswAAXEAAAAEQBnylqQ38AAAMBBa9g0V42EFqVxtVQQwUf\n",
       "U4WFTCAOcFRQS/u/avBq4AQgiTk4EiWY2+VU/hatf5DrOQ7N+u5kgACtgQAAAO1Bmy5JqEFsmUwI\n",
       "I//+tSqAAAADAAADAAAEYbYkM2cNYb3E+oMm9RbxEbY6sKEmMVuxHkypKjtsxrKizs/PMRVo40W2\n",
       "zU0/dwo1FCpT7iPGIVtGXwAbOKnBBT5o668rj+w95xQxuhR9yVbuRf3LehQ7I52rzIIzyEAcSmt4\n",
       "wcwggVnTt1FEB6AkjfRoPd++9/BYqd80DJfWUeNJzLPSpKn6AF5KGKjdkp//e4Po8Hk6/8R7D7Gr\n",
       "4AemCDcAc/vXUBO8z7G82yWagxL35JcBy0Ki27Yrq+7PaZY7oGYbMmspvnY896W/BYv8f5CgAekA\n",
       "AABLQZ9MRRUsO/8AAAMAu7hgVwLbYQWRNuvecmZTNl0uBQihsQQRvzAERE/d5KujYANWENxD+Psz\n",
       "0XfQ5YFj/yk8dy/xcJP0DL8jABdwAAAAPQGfa3RDfwAAAwEFfZLNtjWW8AW6pWCGGqMwEsfHAGkb\n",
       "sIqL8wzQJhpQAE7BhgES9z4yGHyn7yinYAAAwIEAAAA7AZ9takN/AAADAQWvYNFeNhBalcbVUEMF\n",
       "H1OFhUwgDnBUUEvqxmsAG1XIIbwp/4h9ULRVQQ2O1AAAwIEAAADmQZtySahBbJlMCCP//rUqgAAA\n",
       "AwAAAwAADZazMJ41HbVt8d3p3YLBZNSVb1hKr2qu+/dgFLCMGB6KE3oLKvP7o+AaFKfEYpq/p9ZF\n",
       "qbdSXfOMA08/9u4NxsYlzzry8MggXhYiwjmUIhgyYBgdD07P4kNtnQwvtSVPf039575/89jDxIH4\n",
       "aGeoJ0wAc593zyA4ZU9AVYcxRc8Z4vxtT9eiswrwOdgT7chOO6d866AvskSxHx+OVFySCwcsObT8\n",
       "TDxkQogTAy9OmRrpBmD18J5BE+joXHZWnJOJ/7Gi4Mz/AaDULeaAA48AAABHQZ+QRRUsO/8AAAMA\n",
       "u7hgVwLbYQWRNuvecmZTNl0uBQihsQQRv4Zz0XaAEOJZlou4/r87O9KbRzH3Jyvlto2t/w8ROQAA\n",
       "GfAAAAAtAZ+vdEN/AAADAQV9ks22NZbwBbqlYIYaozASx8cAaR6jfuQFIn56TT8AAFbAAAAAQAGf\n",
       "sWpDfwAAAwEFr2DRXjYQWpXG1VBDBR9ThYVMIA5wvJWhfAQAjFAZsgY8Wj/TpUXsh1BaAAT40Dos\n",
       "RgAAF5EAAAEXQZu2SahBbJlMCCP//rUqgAAAAwAAAwAAKpxH/aHBLABHiSnWTekEQSV7hUc4+pO+\n",
       "kzcsNk4NcOSGQb3ZhnamDmf1D/UXPvifmpZ33ttuT5hHrt8hLdhNxKVqLLSkXU6LKmpI9PpJArCK\n",
       "e/Iq5nUBaRI2egL9eYl2/J4aXbbG/Q2OC8N8YIII3qXDarYnkX9o//KBnS8E57w5TVK7TamCmooV\n",
       "hRcF6QXIappEw8MF7wjVdeQlCFsRJPBcEADkTbQNLU1gq1ieiSFfWtpM4ANEG3KNYehgQt5p41ib\n",
       "GrCRDQo+eR90D+C+0yg6Dp4qJbTqPJchDdeyBYnJzrFHiiMQUxPT+oHCy/yxZOUcixmK4opKEpiQ\n",
       "AMWAAAAAPkGf1EUVLDv/AAADALu4YFcC22EFkTbr3nJmUzZdLgUIobEEZlFRq7eioANKKjFf5rIU\n",
       "gb4n/Q0B2qz3wAD/AAAALQGf83RDfwAAAwEFfZLNtjWW8AW6pWCGGqMwEsfHAMHrJJFrPM2ydaYv\n",
       "6AABDwAAAEUBn/VqQ38AAAMBBa9g0V42EFqVxtVQQwUfU4WFTCBTZvvSKQv/hr/XQApRM1+O0ciI\n",
       "EDzwGTrT+piPqgY0GygIhjgAAR8AAADGQZv6SahBbJlMCCH//qpVAAADAAADAAADAQnlz+D1caAT\n",
       "FXgaqTif9nv/BmkWMRyq8qS/Abg/5qcUq3wODM4fMMTWUh0HdeViKkDQlJtzJr/KIWjjkRxYca1u\n",
       "4OLdtxdMjkOe0Yg6rvM0Zq5ul3Q1yu6Z9qc5jAOcJw1prrUE6TVZe7JslLTUvw7qateU4Uar8xoT\n",
       "qjE0/R/fK3ZMGLJuuSzYLfAbGQ+kj96chM+BN3PCeO7OMFiPdQqdQcBpVPzozwkAAA0JAAAAP0Ge\n",
       "GEUVLDv/AAADALu4YFcC22EFkTbr3nJmUzZdLgUIobEHPnGZiT9fGPpnAA7L/jdlnC0Mi3LpnAPU\n",
       "AAA3oQAAADcBnjd0Q38AAAMBBX2SzbY1lvAFuqVghhqjMBLHxwJPka3shy+CUABN3rMsaNZqTcyj\n",
       "V8AAAJGAAAAAMwGeOWpDfwAAAwEFr2DRXjYQWpXG1VBDBR9ThYVMIs/FkANwgozAae2qfoosMwZm\n",
       "4AADjwAAALBBmj5JqEFsmUwIIf/+qlUAAAMAAAMAAAMDQbS72+hN04AHFtskjGXQ90nGcU71eYH7\n",
       "oloc0Ae/19LjZGR5Si7wGI47gTspl1QaFnBhRTO79not5u5eGiP9Glkxe3+mbAGFOSQRfDJY+ETc\n",
       "jnxM4MO4cao1pUHZpuxTF5+IcWIDGl7O1RVOJLKQ77QR8MWUcA9ZHK46KO/80rHfPyXY+3FbRY9s\n",
       "n4u/7pcUeRvCwABgQAAAAD1BnlxFFSw7/wAAAwC7uGBXAtthBZE2695yZlM2XS4FDniHCzHyIu0w\n",
       "AbKF6pZ8gGJjYKlvQCgCaxiyMAGVAAAANQGee3RDfwAAAwEFfZLNtjWW8AW6pWCGGqMwHxGxa3OK\n",
       "uZqkVGACWlJ8Ez34XS4+Cf0AAApJAAAALQGefWpDfwAAAwEFr2DRXjYQWpXG1VBDBR9TiRxGninA\n",
       "/4m1544IP4NEYAADAgAAAFRBmn9JqEFsmUwIIf/+qlUAAAMAAAMAAApPib/15VAui3JdWKozjaXn\n",
       "V7lsZzWSF6+ACyERsI/YJrdXGriZnfTgSpyxfAW2P8OZnmea327lQeAABiwAAABRQZqASeEKUmUw\n",
       "II///rUqgAAAAwAAAwAFKHnztrRADhHMYU21yf4b+gLNHjo+0ZWjd1e3J5QVaoBOv9iWdm0rpJxt\n",
       "aZDpaVsRwUsvRxgAADqhAAAAnkGapEnhDomUwIIf/qpVAAADAAADAAAfXaXzZUl8TwAf0i8lVV/8\n",
       "Ukg9oRAo/CiU9WsQwy5KYLPA9wqNuPyBLliht8AuUnXHWQtyqpL4Hgc+R7UYTtOCtaBmX8MUxIvo\n",
       "yNp8x7wzTQV80MDqMx/cicjhhAYdvHXU477DtQMGZ0Gnejj14IKNfoLNG3M73Df8kqvLTSKhN5hK\n",
       "+uAAAB3QAAAATEGewkURPDv/AAADALuxcFbhNfaWu5iNctyZlDRkVG6ItgEHrvVOEm3VFNub1pih\n",
       "1YysAGt+5a5byU77vl4qMXtEfvYH+2MAx4AAEjEAAAAxAZ7hdEN/AAADAQV9ks22NZbwBbqlYIYa\n",
       "ozH6MTnbL60o1JISqodUWy8fyq+wIAAHpAAAAD4BnuNqQ38AAAMBBa9g0V42EFqVxtVQQwUfVBoi\n",
       "gqTHQecWACckG7v2uWAMmcFnRgTYJ95DGdmcpPnsAAA+YQAAAJtBmuhJqEFomUwIf//+qZYAAAMA\n",
       "AAMABOeV/4J2+ACdbVVDpEUUlezm450V0DhboZlyqRsl4srHLYI5oOeYZkc4RL5ffvDMEI1Q2leI\n",
       "I5Y7GHG8/ksZQq6paHRFw/rDYm8tXhvaglaxWUMJ3mRn4AoQaqeONel3scl8w17y8rtDbu2OBsU6\n",
       "wkfNzfq9fmuKywkRDwPUEQAAAwD5gQAAAEVBnwZFESw7/wAAAwC7uGBXAtthBZE2695yZlcUeEQl\n",
       "kKwATaWtUB1tkCbZHcESOnoNJ38QgmBVMf5LqUAhyC6xX/gAEbEAAAA3AZ8ldEN/AAADAQV9ks22\n",
       "NZbwBbqlYIYa+vmsFSWAECpzD3nvd/zrQhyn6ggSPS7txdzmAAAtoQAAAD0BnydqQ38AAAMBBa9g\n",
       "0V42EFqVxtVQQweE4mP7QhGSeWqVoAIFYmtnHqLMf/nm9/pI90IpEYdeGvIAAD0gAAAAREGbKkmo\n",
       "QWyZTBRMN//+p4QAAAMAAAMACa0rYYN+4ANXI/dH+DWHCRgo6Qr8bBW0yu4oLicDM3uG8uWOy5ao\n",
       "AAADAB/gAAAAKQGfSWpDfwAAAwEFyMkXU0ay3vHcbY+CF/wiVf3cchuZA/bEQTkAABTRAAAOIm1v\n",
       "b3YAAABsbXZoZAAAAAAAAAAAAAAAAAAAA+gAAFvMAAEAAAEAAAAAAAAAAAAAAAABAAAAAAAAAAAA\n",
       "AAAAAAAAAQAAAAAAAAAAAAAAAAAAQAAAAAAAAAAAAAAAAAAAAAAAAAAAAAAAAAAAAAAAAAIAAA1M\n",
       "dHJhawAAAFx0a2hkAAAAAwAAAAAAAAAAAAAAAQAAAAAAAFvMAAAAAAAAAAAAAAAAAAAAAAABAAAA\n",
       "AAAAAAAAAAAAAAAAAQAAAAAAAAAAAAAAAAAAQAAAAALQAAAC0AAAAAAAJGVkdHMAAAAcZWxzdAAA\n",
       "AAAAAAABAABbzAAACAAAAQAAAAAMxG1kaWEAAAAgbWRoZAAAAAAAAAAAAAAAAAAAKAAAA6wAVcQA\n",
       "AAAAAC1oZGxyAAAAAAAAAAB2aWRlAAAAAAAAAAAAAAAAVmlkZW9IYW5kbGVyAAAADG9taW5mAAAA\n",
       "FHZtaGQAAAABAAAAAAAAAAAAAAAkZGluZgAAABxkcmVmAAAAAAAAAAEAAAAMdXJsIAAAAAEAAAwv\n",
       "c3RibAAAALNzdHNkAAAAAAAAAAEAAACjYXZjMQAAAAAAAAABAAAAAAAAAAAAAAAAAAAAAALQAtAA\n",
       "SAAAAEgAAAAAAAAAAQAAAAAAAAAAAAAAAAAAAAAAAAAAAAAAAAAAAAAAAAAAABj//wAAADFhdmND\n",
       "AWQAH//hABhnZAAfrNlAtBboQAAAAwBAAAAFA8YMZYABAAZo6+PLIsAAAAAcdXVpZGtoQPJfJE/F\n",
       "ujmlG88DI/MAAAAAAAAAGHN0dHMAAAAAAAAAAQAAAOsAAAQAAAAAFHN0c3MAAAAAAAAAAQAAAAEA\n",
       "AAdYY3R0cwAAAAAAAADpAAAAAQAACAAAAAABAAAUAAAAAAEAAAgAAAAAAQAAAAAAAAABAAAEAAAA\n",
       "AAEAABQAAAAAAQAACAAAAAABAAAAAAAAAAEAAAQAAAAAAQAAFAAAAAABAAAIAAAAAAEAAAAAAAAA\n",
       "AQAABAAAAAABAAAUAAAAAAEAAAgAAAAAAQAAAAAAAAABAAAEAAAAAAEAABQAAAAAAQAACAAAAAAB\n",
       "AAAAAAAAAAEAAAQAAAAAAQAAFAAAAAABAAAIAAAAAAEAAAAAAAAAAQAABAAAAAABAAAUAAAAAAEA\n",
       "AAgAAAAAAQAAAAAAAAABAAAEAAAAAAEAAAgAAAAAAQAAFAAAAAABAAAIAAAAAAEAAAAAAAAAAQAA\n",
       "BAAAAAABAAAUAAAAAAEAAAgAAAAAAQAAAAAAAAABAAAEAAAAAAEAABQAAAAAAQAACAAAAAABAAAA\n",
       "AAAAAAEAAAQAAAAAAQAAFAAAAAABAAAIAAAAAAEAAAAAAAAAAQAABAAAAAABAAAUAAAAAAEAAAgA\n",
       "AAAAAQAAAAAAAAABAAAEAAAAAAEAAAgAAAAAAQAAFAAAAAABAAAIAAAAAAEAAAAAAAAAAQAABAAA\n",
       "AAABAAAUAAAAAAEAAAgAAAAAAQAAAAAAAAABAAAEAAAAAAEAABQAAAAAAQAACAAAAAABAAAAAAAA\n",
       "AAEAAAQAAAAAAQAAFAAAAAABAAAIAAAAAAEAAAAAAAAAAQAABAAAAAABAAAIAAAAAAEAABQAAAAA\n",
       "AQAACAAAAAABAAAAAAAAAAEAAAQAAAAAAQAAFAAAAAABAAAIAAAAAAEAAAAAAAAAAQAABAAAAAAB\n",
       "AAAIAAAAAAEAABQAAAAAAQAACAAAAAABAAAAAAAAAAEAAAQAAAAAAQAAFAAAAAABAAAIAAAAAAEA\n",
       "AAAAAAAAAQAABAAAAAABAAAUAAAAAAEAAAgAAAAAAQAAAAAAAAABAAAEAAAAAAEAABQAAAAAAQAA\n",
       "CAAAAAABAAAAAAAAAAEAAAQAAAAAAQAAFAAAAAABAAAIAAAAAAEAAAAAAAAAAQAABAAAAAABAAAU\n",
       "AAAAAAEAAAgAAAAAAQAAAAAAAAABAAAEAAAAAAEAABQAAAAAAQAACAAAAAABAAAAAAAAAAEAAAQA\n",
       "AAAAAQAAFAAAAAABAAAIAAAAAAEAAAAAAAAAAQAABAAAAAABAAAUAAAAAAEAAAgAAAAAAQAAAAAA\n",
       "AAABAAAEAAAAAAEAABQAAAAAAQAACAAAAAABAAAAAAAAAAEAAAQAAAAAAgAACAAAAAABAAAUAAAA\n",
       "AAEAAAgAAAAAAQAAAAAAAAABAAAEAAAAAAEAABQAAAAAAQAACAAAAAABAAAAAAAAAAEAAAQAAAAA\n",
       "AQAAFAAAAAABAAAIAAAAAAEAAAAAAAAAAQAABAAAAAABAAAUAAAAAAEAAAgAAAAAAQAAAAAAAAAB\n",
       "AAAEAAAAAAEAABQAAAAAAQAACAAAAAABAAAAAAAAAAEAAAQAAAAAAQAAFAAAAAABAAAIAAAAAAEA\n",
       "AAAAAAAAAQAABAAAAAABAAAUAAAAAAEAAAgAAAAAAQAAAAAAAAABAAAEAAAAAAEAABQAAAAAAQAA\n",
       "CAAAAAABAAAAAAAAAAEAAAQAAAAAAQAAFAAAAAABAAAIAAAAAAEAAAAAAAAAAQAABAAAAAABAAAU\n",
       "AAAAAAEAAAgAAAAAAQAAAAAAAAABAAAEAAAAAAEAABQAAAAAAQAACAAAAAABAAAAAAAAAAEAAAQA\n",
       "AAAAAQAAFAAAAAABAAAIAAAAAAEAAAAAAAAAAQAABAAAAAABAAAUAAAAAAEAAAgAAAAAAQAAAAAA\n",
       "AAABAAAEAAAAAAEAABQAAAAAAQAACAAAAAABAAAAAAAAAAEAAAQAAAAAAQAAFAAAAAABAAAIAAAA\n",
       "AAEAAAAAAAAAAQAABAAAAAABAAAUAAAAAAEAAAgAAAAAAQAAAAAAAAABAAAEAAAAAAEAABQAAAAA\n",
       "AQAACAAAAAABAAAAAAAAAAEAAAQAAAAAAQAAFAAAAAABAAAIAAAAAAEAAAAAAAAAAQAABAAAAAAB\n",
       "AAAUAAAAAAEAAAgAAAAAAQAAAAAAAAABAAAEAAAAAAEAABQAAAAAAQAACAAAAAABAAAAAAAAAAEA\n",
       "AAQAAAAAAQAAFAAAAAABAAAIAAAAAAEAAAAAAAAAAQAABAAAAAABAAAUAAAAAAEAAAgAAAAAAQAA\n",
       "AAAAAAABAAAEAAAAAAEAABQAAAAAAQAACAAAAAABAAAAAAAAAAEAAAQAAAAAAQAAFAAAAAABAAAI\n",
       "AAAAAAEAAAAAAAAAAQAABAAAAAABAAAUAAAAAAEAAAgAAAAAAQAAAAAAAAABAAAEAAAAAAEAABQA\n",
       "AAAAAQAACAAAAAABAAAAAAAAAAEAAAQAAAAAAgAACAAAAAABAAAUAAAAAAEAAAgAAAAAAQAAAAAA\n",
       "AAABAAAEAAAAAAEAABQAAAAAAQAACAAAAAABAAAAAAAAAAEAAAQAAAAAAQAADAAAAAABAAAEAAAA\n",
       "ABxzdHNjAAAAAAAAAAEAAAABAAAA6wAAAAEAAAPAc3RzegAAAAAAAAAAAAAA6wAAESIAAAD4AAAA\n",
       "PAAAACEAAAAwAAAA1QAAACQAAAAqAAAAMAAAANwAAABBAAAAIwAAADEAAADDAAAAMwAAACoAAAAy\n",
       "AAAA8AAAADgAAAAzAAAAKgAAAPUAAAA6AAAAJQAAADcAAAD2AAAAOgAAAC8AAAAuAAAAVAAAAOYA\n",
       "AAA6AAAAJAAAAC8AAAEYAAAAOwAAADkAAAAzAAAA5gAAAEgAAAAyAAAAJAAAAO4AAAA6AAAAPQAA\n",
       "ADoAAAEQAAAAOwAAADwAAAAyAAAATgAAAMsAAAA3AAAALQAAACkAAACGAAAANgAAAC0AAAApAAAA\n",
       "nQAAACsAAAArAAAALAAAALMAAAAzAAAAJAAAADEAAAB0AAAAtgAAAEgAAAA7AAAANAAAAQsAAAA1\n",
       "AAAAQQAAACwAAAB7AAAA9QAAADwAAAAxAAAANAAAAQoAAABDAAAAOwAAADkAAADLAAAASgAAADEA\n",
       "AAA7AAABDQAAAFEAAAAzAAAAKgAAALMAAABDAAAAKwAAADEAAADKAAAAOwAAADgAAAA7AAAA5AAA\n",
       "AEgAAAAqAAAAKAAAAKsAAAA6AAAAKQAAAEEAAACoAAAARwAAAD8AAAArAAAA9gAAAD4AAAA+AAAA\n",
       "PQAAAGoAAABZAAAAqAAAAEoAAAAsAAAALQAAALgAAABDAAAAOQAAACgAAACtAAAALwAAACgAAAA7\n",
       "AAAA+gAAAEkAAAApAAAAKgAAALEAAABEAAAALQAAADQAAADSAAAASAAAAEMAAAA0AAABBAAAAFEA\n",
       "AAAyAAAALQAAAOIAAAA2AAAAKwAAAC8AAADfAAAATgAAAEEAAAA/AAAAzQAAAE4AAABBAAAAOgAA\n",
       "APYAAABPAAAAMgAAAEAAAADcAAAAPgAAADoAAABCAAABEAAAAEkAAABLAAAARAAAALgAAABNAAAA\n",
       "OwAAADcAAACKAAAAOAAAAD8AAAA5AAAAcQAAAEQAAAAxAAAAMAAAAL0AAABUAAAAOwAAADoAAADg\n",
       "AAAAPwAAADsAAAA9AAAA6wAAAEsAAAA/AAAASwAAAPwAAABWAAAARgAAADQAAAFLAAAARwAAADMA\n",
       "AABIAAAA8QAAAE8AAABBAAAAPwAAAOoAAABLAAAAMQAAAEQAAAEbAAAAQgAAADEAAABJAAAAygAA\n",
       "AEMAAAA7AAAANwAAALQAAABBAAAAOQAAADEAAABYAAAAVQAAAKIAAABQAAAANQAAAEIAAACfAAAA\n",
       "SQAAADsAAABBAAAASAAAAC0AAAAUc3RjbwAAAAAAAAABAAAALAAAAGJ1ZHRhAAAAWm1ldGEAAAAA\n",
       "AAAAIWhkbHIAAAAAAAAAAG1kaXJhcHBsAAAAAAAAAAAAAAAALWlsc3QAAAAlqXRvbwAAAB1kYXRh\n",
       "AAAAAQAAAABMYXZmNTcuNTYuMTAx\n",
       "\">\n",
       "  Your browser does not support the video tag.\n",
       "</video>"
      ],
      "text/plain": [
       "<IPython.core.display.HTML object>"
      ]
     },
     "execution_count": 39,
     "metadata": {},
     "output_type": "execute_result"
    }
   ],
   "source": [
    "HTML(anim.to_html5_video())"
   ]
  }
 ],
 "metadata": {
  "kernelspec": {
   "display_name": "Python 3",
   "language": "python",
   "name": "python3"
  },
  "language_info": {
   "codemirror_mode": {
    "name": "ipython",
    "version": 3
   },
   "file_extension": ".py",
   "mimetype": "text/x-python",
   "name": "python",
   "nbconvert_exporter": "python",
   "pygments_lexer": "ipython3",
   "version": "3.6.2"
  }
 },
 "nbformat": 4,
 "nbformat_minor": 2
}
