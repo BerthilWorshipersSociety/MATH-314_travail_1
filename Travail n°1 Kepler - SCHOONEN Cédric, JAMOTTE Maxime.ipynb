{
 "cells": [
  {
   "cell_type": "code",
   "execution_count": 7,
   "metadata": {
    "collapsed": true
   },
   "outputs": [],
   "source": [
    "import numpy \n",
    "from matplotlib import pyplot\n",
    "%matplotlib inline"
   ]
  },
  {
   "cell_type": "code",
   "execution_count": 21,
   "metadata": {},
   "outputs": [],
   "source": [
    "N = 30*24*3600 \n",
    "uL = numpy.zeros((4,N)) \n",
    "mT = 5.972*10**24\n",
    "mL = 7.348*10**22\n",
    "G = 6.67408*10**-11\n",
    "\n",
    "dt = 1"
   ]
  },
  {
   "cell_type": "markdown",
   "metadata": {},
   "source": [
    "Codons la méthode \"Runge-Kutta 4\""
   ]
  },
  {
   "cell_type": "markdown",
   "metadata": {},
   "source": [
    "La fonction ci-dessous ne sera pas générale, ce qui évite de lourds calculs.\n",
    "La première ligne de out est la trajectoire de la Terre, la seconde celle de la lune.\n",
    "Nous avons pris u' = f(u) avec u = [x , y , vx , vy]\n",
    "Nous traiterons simultanément les trajectoires de la lune et de la Terre."
   ]
  },
  {
   "cell_type": "code",
   "execution_count": 39,
   "metadata": {},
   "outputs": [],
   "source": [
    "def f(mL,mT,G,uT,uL): \n",
    "    out = numpy.ones((2,4))  \n",
    "    print(uT)\n",
    "    out[0] = numpy.array([uT[2],uT[3],-G*mL*uT[0]/((uT[0]-uL[0])**2+(uT[1]-uL[1])**2),-G*mL*uT[1]/((uT[0]-uL[0])**2+(uT[1]-uL[1])**2)])     \n",
    "    out[1] = numpy.array([uL[2],uL[3],-G*mT*uL[0]/((uT[0]-uL[0])**2+(uT[1]-uL[1])**2),-G*mL*uL[1]/((uT[0]-uL[0])**2+(uT[1]-uL[1])**2)])\n",
    "    \n",
    "    return out\n",
    "\n"
   ]
  },
  {
   "cell_type": "markdown",
   "metadata": {},
   "source": [
    "Ci-dessous la méthode \"Runge-Kutta 4\" appliquée directement aux trajectoires des deux astres."
   ]
  },
  {
   "cell_type": "code",
   "execution_count": 51,
   "metadata": {
    "collapsed": true
   },
   "outputs": [],
   "source": [
    "def rk4(f,u,v,h,mL,mT,G): \n",
    "    k1 = f(mL,mT,G,u,v)\n",
    "    k2 = f(mL,mT,G,u+h/2*k1[0,:],v+h/2*k1[1,:])\n",
    "    k3 = f(mL,mT,G,u+h/2*k2[0,:],v+h/2*k2[1,:])\n",
    "    k4 = f(mL,mT,G,u+h*k3[0,:],v+h*k3[1,:])\n",
    "    \n",
    "    out = numpy.zeros((2,4))\n",
    "    out[0] = u+h/6*(k1[0,:]+2*k2[0,:]+2*k3[0,:]+k4[0,:])\n",
    "    out[1] = v+h/6*(k1[1,:]+2*k2[1,:]+2*k3[1,:]+k4[1,:])\n",
    "    return out"
   ]
  },
  {
   "cell_type": "code",
   "execution_count": null,
   "metadata": {
    "collapsed": true
   },
   "outputs": [],
   "source": []
  },
  {
   "cell_type": "code",
   "execution_count": null,
   "metadata": {
    "collapsed": true
   },
   "outputs": [],
   "source": [
    "'''Problèmes éventuels\n",
    "- Grands nombres, de l'ordre du 10^24\n",
    "'''"
   ]
  }
 ],
 "metadata": {
  "kernelspec": {
   "display_name": "Python 3",
   "language": "python",
   "name": "python3"
  },
  "language_info": {
   "codemirror_mode": {
    "name": "ipython",
    "version": 3
   },
   "file_extension": ".py",
   "mimetype": "text/x-python",
   "name": "python",
   "nbconvert_exporter": "python",
   "pygments_lexer": "ipython3",
   "version": "3.6.2"
  }
 },
 "nbformat": 4,
 "nbformat_minor": 2
}
