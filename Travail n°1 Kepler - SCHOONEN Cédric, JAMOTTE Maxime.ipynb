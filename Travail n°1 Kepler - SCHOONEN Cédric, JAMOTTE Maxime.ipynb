{
 "cells": [
  {
   "cell_type": "markdown",
   "metadata": {},
   "source": [
    "# Travail 1 - Kepler et Runge-Kutta 4 - Maxime Jamotte & Cédric Schoonen "
   ]
  },
  {
   "cell_type": "markdown",
   "metadata": {},
   "source": [
    " "
   ]
  },
  {
   "cell_type": "code",
   "execution_count": 1,
   "metadata": {
    "collapsed": true
   },
   "outputs": [],
   "source": [
    "# Morceau de code utile pour calculer les temps d'exécutions\n",
    "\n",
    "import time \n",
    "\n",
    "t0 = time.time()"
   ]
  },
  {
   "cell_type": "markdown",
   "metadata": {},
   "source": [
    "Note: ce notebook met environ 5 minutes à s'exécuter entièrement"
   ]
  },
  {
   "cell_type": "markdown",
   "metadata": {},
   "source": [
    "## Introduction"
   ]
  },
  {
   "cell_type": "markdown",
   "metadata": {},
   "source": [
    "Nous allons dans ce travail étudier la dynamique newtonienne du système Terre-Lune, en résolvant numériquement les équations de Newton. Nous prendrons pour conditions initiales dans le repère de la Terre que la Lune passe à son périgée ($362600000\\,{\\rm m}$) à une vitesse de $1083.4\\,{\\rm m/s}$. Nous vérifierons que la trajectoire est une ellipse et présenterons les paramètres calculés pour cette ellipse. Ensuite, nous nous intéresserons à l'ordre de convergence de la méthode utilisée. Enfin, nous étudierons la trajectoire d'un astéroïde qui traverse le centre de l'ellipse avec une vitesse $(v_x,v_y)=(-500\\,{\\rm m/s},500\\,{\\rm m/s})$ lorsque la Lune est à son apogée."
   ]
  },
  {
   "cell_type": "markdown",
   "metadata": {},
   "source": [
    "Toutes les grandeurs sont exprimées dans le système international d'unités (ceci est à considérer au cas où les unités ne seraient pas indiquées)."
   ]
  },
  {
   "cell_type": "markdown",
   "metadata": {},
   "source": [
    "## Table des matières"
   ]
  },
  {
   "cell_type": "markdown",
   "metadata": {},
   "source": [
    "- Système Terre-Lune\n",
    " - \"Fonction d'évolution\"\n",
    " - Paramètres et conditions initiales\n",
    " - Implémentation de Runge Kutta 4\n",
    " - Calcul de la trajectoire\n",
    " - Paramètres : grand et petit axes, excentricité et période\n",
    "- Système Terre-Lune théorique\n",
    "- Ordre de convergence\n",
    " - Calcul de l'ordre sur base des résultats numériques uniquement\n",
    " - Calcul de l'ordre par comparaison avec la théorie\n",
    "- Système Terre-Lune-astéroïde\n",
    " - Calcul des trajectoires\n",
    " - Description de l'impact entre l'astéroïde et la Terre\n",
    "- Animations\n",
    " - Animation des trajectoires pour le système Terre-Lune\n",
    " - Animation des trajectoires pour le système Terre-Lune-Astéroïde\n",
    "- Investigations supplémentaires\n",
    " - Etude du passage de l'astéroïde près de la Terre\n",
    " - Trajectoire pour un astéroïde plus rapide\n",
    " - Ordre de convergence pour le méthode d'Euler\n",
    " - Ordre de convergence pour la méthode de Runge et Kutta d'ordre 2"
   ]
  },
  {
   "cell_type": "markdown",
   "metadata": {},
   "source": [
    "## Système Terre - Lune"
   ]
  },
  {
   "cell_type": "markdown",
   "metadata": {},
   "source": [
    "Nous nous occupons ici de calculer numériquement la trajectoire de la Lune dans le référentiel de la Terre. Nous utilisons pour cela la méthode de Runge-Kutta 4. "
   ]
  },
  {
   "cell_type": "markdown",
   "metadata": {},
   "source": [
    "Tout d'abord, importons les librairies utiles à notre travail."
   ]
  },
  {
   "cell_type": "code",
   "execution_count": 2,
   "metadata": {
    "collapsed": true
   },
   "outputs": [],
   "source": [
    "import numpy\n",
    "from math import log,sqrt\n",
    "from matplotlib import pyplot\n",
    "%matplotlib inline"
   ]
  },
  {
   "cell_type": "markdown",
   "metadata": {},
   "source": [
    "### \"Fonction d'évolution\""
   ]
  },
  {
   "cell_type": "markdown",
   "metadata": {},
   "source": [
    "Cherchons l'expression des forces dans le référentiel de la Terre. Nous savons qu'une force gravitationnelle (force attractive) existe entre la Terre et la lune. Selon la loi de Newton, celle-ci s'écrit \n",
    "\n",
    "$${\\bf F}_{L,T}=-{\\bf F}_{T,L}=-Gm_T m_L\\dfrac{{\\bf x_L}-{\\bf x_T}}{(x_L-x_T)^3}$$\n",
    "\n",
    "pour deux masses $m_L$ et $m_T$ s'attirant avec des forces mutuellement opposées séparées d'une distance $r$ qui est la norme du vecteur partant du centre de la Terre jusqu'au centre de la lune. Nos conditions initiales étant données dans le repère de la Terre, nous allons résoudre les équations de Newton dans le repère de la Terre également. Nous avons donc besoin de reformuler notre équation avec comme variable le vecteur ${\\bf r_{LT}} = {\\bf x_L}-{\\bf x_T}$. \n",
    "\n",
    "$$ {\\bf \\ddot{r}_{LT}} = {\\bf \\ddot{x}_L}-{\\bf \\ddot{x}_T} = \\frac{1}{m_L}{\\bf F}_{L,T} - \\frac{1}{m_T}{\\bf F}_{T,L} = -Gm_T \\dfrac{{\\bf x_L}-{\\bf x_T}}{(x_L-x_T)^3} - Gm_L\\dfrac{{\\bf x_L}-{\\bf x_T}}{(x_L-x_T)^3}$$\n",
    "\n",
    "Ce qui devient\n",
    "\n",
    "$$ {\\bf \\ddot{r}_{LT}} = -G(m_T+m_L)\\dfrac{{\\bf r_{LT}}}{r_{LT}^3} $$"
   ]
  },
  {
   "cell_type": "markdown",
   "metadata": {},
   "source": [
    "Pour résoudre numériquement l'équation de Newton, qui est du deuxième ordre, nous allons la transformer en un système de deux équations du premier ordre. Pour ce faire, nous introduisons le vectreur $u_{LT} $ définit comme \n",
    "\n",
    "$$ u_{LT}  = \\begin{pmatrix} x_{LT}\\ , y_{LT}\\ , v_{x\\,LT}\\ , v_{y\\,LT}\\end{pmatrix} $$"
   ]
  },
  {
   "cell_type": "markdown",
   "metadata": {},
   "source": [
    "Notre système d'équations différentielles devient\n",
    "\n",
    "$$ \\dot{u}_{LT} = f(u_{LT}) $$ \n",
    "\n",
    "Il s'écrit avec une certaine \"fonction d'évolution\" $f$, donnée par"
   ]
  },
  {
   "cell_type": "markdown",
   "metadata": {},
   "source": [
    "$$ f(u_{LT}) = \\begin{pmatrix} v_{x\\,LT}\\ , v_{y\\,LT}\\ , -\\dfrac{ m_T\\, G\\, x_{LT}}{ \\left[x_{LT}^2 + y_{LT}^2\\right]^{3/2}}\\ , -\\dfrac{ m_T\\, G\\, y_{LT}}{ \\left[x_{LT}^2 + y_{LT}^2\\right]^{3/2}}  \\end{pmatrix} $$"
   ]
  },
  {
   "cell_type": "markdown",
   "metadata": {},
   "source": [
    "Nous ne généraliserons pas la fonction $f$ à plus de deux corps, par soucis de lisibilité et car cela n'est pas nécessaire."
   ]
  },
  {
   "cell_type": "code",
   "execution_count": 3,
   "metadata": {
    "collapsed": true
   },
   "outputs": [],
   "source": [
    "def f(uLT): \n",
    "    return numpy.array([uLT[2],\\\n",
    "                        uLT[3],\\\n",
    "                        -G*(mT+mL)*uLT[0]/(uLT[0]**2+uLT[1]**2)**(3/2),\\\n",
    "                        -G*(mT+mL)*uLT[1]/(uLT[0]**2+uLT[1]**2)**(3/2)])     "
   ]
  },
  {
   "cell_type": "markdown",
   "metadata": {},
   "source": [
    "### Paramètres et conditions initiales"
   ]
  },
  {
   "cell_type": "markdown",
   "metadata": {},
   "source": [
    "Ensuite, entrons les données caractéristiques du système. $T$ est la durée durant laquelle nous voulons simuler les trajectoires de la lune et de la Terre et $N$ est le paramètre qui définit le nombre de lignes des matrices de données de chaque astre."
   ]
  },
  {
   "cell_type": "code",
   "execution_count": 4,
   "metadata": {
    "collapsed": true
   },
   "outputs": [],
   "source": [
    "T = 3600*24*30\n",
    "dt = 1\n",
    "N = 1+int(T/dt)\n",
    "\n",
    "mT = 5.972*10**24\n",
    "mL = 7.348*10**22\n",
    "G = 6.67408*10**-11"
   ]
  },
  {
   "cell_type": "markdown",
   "metadata": {},
   "source": [
    "Encodons à présent les conditions initiales. Nous nommons $dataLT$ la matrice de données de la lune dans le repère de la Terre. Elle comporte quatre colonnes. Chaque ligne se présentera comme $ u_{LT}  = \\begin{pmatrix} x_{LT}\\ , y_{LT}\\ , v_{x\\,LT}\\ , v_{y\\,LT}\\end{pmatrix} $."
   ]
  },
  {
   "cell_type": "code",
   "execution_count": 5,
   "metadata": {
    "collapsed": true
   },
   "outputs": [],
   "source": [
    "dataLT = numpy.empty((N,4)) \n",
    "\n",
    "uLT0 = [362600000,0,0,1083.4] #1083.4349740009823 (valeur pour une excentricité de 0.054900)\n",
    "\n",
    "dataLT[0] = uLT0"
   ]
  },
  {
   "cell_type": "markdown",
   "metadata": {},
   "source": [
    "### Implémentation de Runge Kutta 4"
   ]
  },
  {
   "cell_type": "markdown",
   "metadata": {},
   "source": [
    "Nous avons ici la méthode Runge Kutta 4 appliquée à la trajectoire de la Lune."
   ]
  },
  {
   "cell_type": "code",
   "execution_count": 6,
   "metadata": {
    "collapsed": true
   },
   "outputs": [],
   "source": [
    "def rk4(f,uLT,dt): \n",
    "    k1 = f(uLT)\n",
    "    k2 = f(uLT+dt/2*k1)\n",
    "    k3 = f(uLT+dt/2*k2)\n",
    "    k4 = f(uLT+dt*k3)\n",
    "    \n",
    "    return uLT+dt/6*(k1+2*k2+2*k3+k4)"
   ]
  },
  {
   "cell_type": "markdown",
   "metadata": {},
   "source": [
    "### Calcul de la trajectoire"
   ]
  },
  {
   "cell_type": "markdown",
   "metadata": {
    "collapsed": true
   },
   "source": [
    "Calculons maintenant la trajectoire. Notons que $dataLT[t]$ est le vecteur $u_{LT}$ input de $f$ au temps $t$."
   ]
  },
  {
   "cell_type": "code",
   "execution_count": 7,
   "metadata": {
    "collapsed": true
   },
   "outputs": [],
   "source": [
    "for t in range(1,N):\n",
    "    \n",
    "    dataLT[t] = rk4(f,dataLT[t-1],dt)"
   ]
  },
  {
   "cell_type": "markdown",
   "metadata": {},
   "source": [
    "Affichons la position de la Lune dans le repère de la Terre."
   ]
  },
  {
   "cell_type": "code",
   "execution_count": 8,
   "metadata": {},
   "outputs": [
    {
     "data": {
      "image/png": "[encoded data removed]",
      "text/plain": [
       "<matplotlib.figure.Figure at 0x7f1d70fa0668>"
      ]
     },
     "metadata": {},
     "output_type": "display_data"
    }
   ],
   "source": [
    "pyplot.figure(figsize=(10,10))\n",
    "pyplot.grid(True)\n",
    "pyplot.xlabel('$x$')\n",
    "pyplot.ylabel('$y$')\n",
    "pyplot.plot(dataLT[:,0],dataLT[:,1], 'b-', label='Lune')\n",
    "pyplot.title('Position de la Lune dans le repère de la Terre')\n",
    "pyplot.legend();\n",
    "pyplot.show();"
   ]
  },
  {
   "cell_type": "markdown",
   "metadata": {},
   "source": [
    "### Paramètres : grand et petit axes, excentricité et période"
   ]
  },
  {
   "cell_type": "markdown",
   "metadata": {},
   "source": [
    "Calculons les paramètres de l'ellipse. Etant donné que la Lune commence sur l'axe $x$ avec une vitesse le long de $y$, les demi-grand axe $a$ et demi-petit axe $b$ sont alignés avec les axes $x$ et $y$ respectivement. Nous pouvons alors les calculer à par des minima et maxima de la trajectoire le long des composantes."
   ]
  },
  {
   "cell_type": "code",
   "execution_count": 9,
   "metadata": {
    "collapsed": true
   },
   "outputs": [],
   "source": [
    "def computeParameters(posEllipse):\n",
    "    a = 1/2*(numpy.max(posEllipse[:,0])-numpy.min(posEllipse[:,0]))\n",
    "    b = 1/2*(numpy.max(posEllipse[:,1])-numpy.min(posEllipse[:,1]))\n",
    "    e = numpy.sqrt(1-b**2/a**2)\n",
    "    return numpy.array([a,b,e])"
   ]
  },
  {
   "cell_type": "code",
   "execution_count": 10,
   "metadata": {},
   "outputs": [
    {
     "name": "stdout",
     "output_type": "stream",
     "text": [
      "Le demi-grand axe de l'ellipse est a = 383635471.359 m\n",
      "Le demi-petit axe de l'ellipse est b = 383058329.54 m\n",
      "L'excentricité de l'ellipse est e = 0.0548319249212\n"
     ]
    }
   ],
   "source": [
    "parameters = computeParameters(dataLT)\n",
    "\n",
    "a = parameters[0]\n",
    "b = parameters[1]\n",
    "e = parameters[2]\n",
    "\n",
    "print(\"Le demi-grand axe de l'ellipse est a =\", a, \"m\")\n",
    "print(\"Le demi-petit axe de l'ellipse est b =\", b, \"m\")\n",
    "print(\"L'excentricité de l'ellipse est e =\", e)"
   ]
  },
  {
   "cell_type": "code",
   "execution_count": 11,
   "metadata": {},
   "outputs": [
    {
     "name": "stdout",
     "output_type": "stream",
     "text": [
      "Période en secondes = 2350428\n",
      "Période en jours de 24h = 27.204027777777778\n"
     ]
    }
   ],
   "source": [
    "# Cette méthode se basant sur une détection de maximum, elle ne fonctionne pas \n",
    "# si nous ne choisissons pas de faire débuter la trajectoire de la Lune en x = 362600000\n",
    "\n",
    "for i in range(1,N-1):\n",
    "    if (dataLT[i+1,0]<=dataLT[i,0] and dataLT[i,0]>dataLT[i-1,0]):\n",
    "        period = i*dt\n",
    "        break\n",
    "        \n",
    "print(\"Période en secondes =\", period)\n",
    "print(\"Période en jours de 24h =\", period/24/3600)"
   ]
  },
  {
   "cell_type": "markdown",
   "metadata": {},
   "source": [
    "Nous remarquons que ces valeurs sont en accord avec ce que nous connaissons du comportement de la Lune."
   ]
  },
  {
   "cell_type": "markdown",
   "metadata": {},
   "source": [
    "Trouvons à présent l'apogée de l'orbite de la Lune autour de la Terre (cette donnée nous sera utile plus loin dans le travail). Nous remarquons que si la coordonnée $y$ n'est pas nulle, cela est dû à une erreur induite par la méthode numérique, les $dt$ n'étant pas infinitésimaux."
   ]
  },
  {
   "cell_type": "code",
   "execution_count": 12,
   "metadata": {},
   "outputs": [
    {
     "name": "stdout",
     "output_type": "stream",
     "text": [
      "[ -4.04670943e+08  -1.27714234e+02   3.24147581e-04  -9.70766118e+02]\n"
     ]
    }
   ],
   "source": [
    "for i in range(1,N-1):\n",
    "    if (dataLT[i+1,0]>=dataLT[i,0] and dataLT[i,0]<dataLT[i-1,0]):\n",
    "        indexApogee = i\n",
    "        break\n",
    "\n",
    "uLT_apogee = dataLT[indexApogee]\n",
    "print(uLT_apogee)"
   ]
  },
  {
   "cell_type": "markdown",
   "metadata": {},
   "source": [
    "Pour des calculs réalisés plus loin, nous avons également besoin de repérer, dans le repère de la Terre, le centre de l'ellipse que parcours la Lune."
   ]
  },
  {
   "cell_type": "code",
   "execution_count": 13,
   "metadata": {
    "collapsed": true
   },
   "outputs": [],
   "source": [
    "Xcenter = 1/2*(numpy.max(dataLT[:,0])+numpy.min(dataLT[:,0]))\n",
    "Ycenter = 1/2*(numpy.max(dataLT[:,1])+numpy.min(dataLT[:,1]))"
   ]
  },
  {
   "cell_type": "markdown",
   "metadata": {},
   "source": [
    "## Système Terre-Lune théorique"
   ]
  },
  {
   "cell_type": "markdown",
   "metadata": {},
   "source": [
    "Passons maintenant à une étude théorique de la trajectoire de la Lune autour de la Terre. Nous allons obtenir par la théorie les grandeurs calculée précédemment."
   ]
  },
  {
   "cell_type": "markdown",
   "metadata": {},
   "source": [
    " Nous connaissons la relation permettant de trouver la position du centre de masse:\n",
    "$$ \\mathbf{R_{CM}} = \\dfrac{ m_T \\mathbf{x_T} + m_L \\mathbf{x_L}}{m_T + m_L}$$\n",
    "\n",
    "Notons que la force de gravité est une force centrale et donc les moments cinétiques sont constants.\n",
    "\n",
    "Ensuite, posons ${\\mathbf r} = {\\mathbf x_L}-{\\mathbf x_T}$, la position de la Lune dans le repère de la Terre. Nous obtenons ainsi\n",
    "$$ \\left\\{\n",
    "\\begin{array}{l}\n",
    " \\mathbf{x_L} = \\mathbf{R_{CM}} + \\dfrac{m_T}{m_T + m_L} \\mathbf{r}\\\\\n",
    "  \\mathbf{x_T} = \\mathbf{R_{CM}} - \\dfrac{m_L}{m_T + m_L} \\mathbf{r} \n",
    "\\end{array}\n",
    "\\right.$$\n",
    "\n",
    "Nous recalculons l'énergie totale du système ainsi que le moment cinétique total, pour $\\mu = \\dfrac{m_L m_T}{m_T+m_L}$:\n",
    "$$\\begin{array}{l}\n",
    "  &E_{tot} = \\dfrac{1}{2} m_L \\mathbf{\\dot{x}_L}^2 + \\dfrac{1}{2} m_T \\mathbf{\\dot{x}_T}^2 + U(\\|\\mathbf{x_L} - \\mathbf{x_T}\\|) = \\dfrac{1}{2} \\mu \\mathbf{\\dot{r}}^2 + \\dfrac{1}{2} (m_T + m_L) \\mathbf{\\dot{R}^2_{CM}} + U(r)\\\\\n",
    "  &\\mathbf{L}_{tot} = m_L \\mathbf{x_L} \\times \\mathbf{\\dot{x}_L} + m_T \\mathbf{x_T} \\times \\mathbf{\\dot{x}_T} = (m_T + m_L) \\mathbf{R_{CM}} \\times \\mathbf{\\dot{R}_{CM}} + \\mu \\mathbf{r} \\times \\mathbf{\\dot{r}}\n",
    "\\end{array}$$\n",
    "\n",
    "Après cette séparation du centre de masse, plaçons-nous dans le repère de la Terre. Nous retranscrivons l'énergie et le moment cinétique dans ce repère:\n",
    "$$ \\begin{array}{l}\n",
    "E = \\dfrac{1}{2} \\mu \\mathbf{\\dot{r}}^2 + U(r)\\\\\n",
    "\\mathbf{L} = \\mu \\mathbf{r} \\times \\mathbf{\\dot{r}}\n",
    "\\end{array}$$\n",
    "\n",
    "Nous passons en coordonnées polaires $(r, \\theta)$ de sorte que\n",
    "$$\\begin{equation}\n",
    "\\mathbf{\\dot{r}}^2 = \\dot{r}^2 + r^2 \\dot{\\theta}^2\n",
    "\\end{equation}$$\n",
    "\n",
    "En outre, pour $L = \\|\\mathbf{L}\\|$ et $S$ l'aire balayée par $\\mathbf{r}$ pendant un temps $t$,\n",
    "$$\\begin{equation}\n",
    "\\dfrac{dS}{dt} = \\dfrac{1}{2} \\|\\mathbf{r} \\times \\mathbf{\\dot{r}} \\| = \\dfrac{L}{2\\mu}\n",
    "\\end{equation}$$\n",
    "\n",
    "que nous réécrivons\n",
    "$$\\begin{equation}\n",
    "\\dfrac{dS}{dt} = \\dfrac{1}{2} r^2 \\dot{\\theta} = \\dfrac{L}{2\\mu}\n",
    "\\end{equation}$$\n",
    "\n",
    "Il s'en suit que \n",
    "$$E = \\dfrac{1}{2} \\mu (\\dot{r}^2 + r^2 \\dot{\\theta}^2) + U(r) = \\dfrac{1}{2} \\mu \\dot{r}^2 + \\dfrac{L^2}{2\\mu r^2} - \\dfrac{G m_T m_L}{r}$$\n",
    "\n",
    "Cette équation différentielle se résout facilement en posant $u = \\dfrac{1}{r}$ et en voyant que \n",
    "$$ \\dfrac{du}{d\\theta} = -\\dfrac{1}{r^2}\\dfrac{dr}{d\\theta} = -\\dfrac{1}{r^2}\\dfrac{\\dot{r}}{\\dot{\\theta}} = -\\dfrac{\\mu}{L}\\dot{r}$$\n",
    "\n",
    "Par cette substitution, il résulte l'équation suivante:\n",
    "$$ \\dfrac{1}{2} \\left(\\dfrac{du}{d\\theta}\\right)^2 + \\dfrac{1}{2} \\left(u-\\dfrac{\\mu G m_L m_T}{L^2}\\right)^2 = \\dfrac{\\mu E}{L^2} +\\dfrac{\\mu^2 (G m_T m_L)^2}{2 L^4}$$\n",
    "\n",
    "que nous dérivons par rapport à $\\theta$: \n",
    "$$\\dfrac{d^2u}{d\\theta^2} = \\dfrac{\\mu G m_L m_T}{L^2} - u$$\n",
    "\n",
    "et qui a comme solution:\n",
    "$$u(\\theta) = \\dfrac{\\mu G m_L m_T}{L^2} (1+\\epsilon \\cos(\\theta - \\theta_0))$$\n",
    "\n",
    "où $\\theta_0$ est l'angle initial (dans notre problème, $\\theta_0 = 0$) et où $\\epsilon$ est l'excentricité de l'orbite.\n",
    "$$\\epsilon = \\sqrt{1+\\dfrac{2EL^2}{\\mu (G m_T m_L)^2}}$$\n",
    "\n",
    "qui se retraduit en terme de $r$ par:\n",
    "$$r(\\theta) = \\dfrac{L^2}{\\mu G m_T m_L} \\dfrac{1}{1+\\epsilon \\cos(\\theta)} \\ \\ \\ \\ \\ \\ \\ \\ \\ \\ \\ \\ \\ (1)$$\n",
    "\n",
    "Si nous changeons à nouveau de coordonnées:\n",
    "$$ \\left\\{\n",
    "\\begin{array}{l}\n",
    " &\\bar{x} = r\\cos(\\theta) + \\dfrac{\\epsilon L^2}{\\mu G m_T m_L (1 - \\epsilon^2)}\\\\\n",
    " &\\bar{y} = r \\sin(\\theta) \n",
    "\\end{array}\n",
    "\\right.$$\n",
    "\n",
    "alors nous trouvons une nouvelle équation de l'ellipse (nous prouvons grâce au code que l'excentricité est comprise entre 0 et 1):\n",
    "$$ \\dfrac{\\bar{x}}{a^2} + \\dfrac{\\bar{y}}{b^2} = 1$$\n",
    "\n",
    "et les valeurs du demi-grand axe, $a$, et du demi-petit axe, $b$, par identification:\n",
    "$$\\begin{array}{l}\n",
    "  a = \\dfrac{L^2}{\\mu G m_T m_L(1-\\epsilon^2)}\\\\\n",
    "  b = a\\sqrt{1-\\epsilon^2}  \n",
    "\\end{array}$$\n",
    "\n",
    "Ceci nous permet de dire que:\n",
    "$$L = \\sqrt{\\mu G m_T m_L a (1-\\epsilon^2)}$$\n",
    "\n",
    "et par la loi des aires:\n",
    "$$\\dfrac{S}{T} = \\dfrac{L}{2\\mu}$$\n",
    "\n",
    "or si la Lune a parcouru l'orbite complètement, l'aire balayée par $\\mathbf{r}$ vaudra $S =\\pi ab = \\pi a^2 \\sqrt{1-\\epsilon^2}$, donc\n",
    "$$T = 2\\pi \\sqrt{\\dfrac{\\mu a^3}{G m_T m_L}} = \\dfrac{2\\pi a^{3/2}}{\\sqrt{G(m_T+m_L)}}$$"
   ]
  },
  {
   "cell_type": "markdown",
   "metadata": {},
   "source": [
    "Codons maintenant la fonction donnant la trajectoire théorique de la Lune, définie par l'équation (1). Nous nous servons du fait que  $L$  et  $E$  sont des constantes du mouvement."
   ]
  },
  {
   "cell_type": "code",
   "execution_count": 14,
   "metadata": {
    "collapsed": true
   },
   "outputs": [],
   "source": [
    "from math import cos, pi, sin\n",
    "\n",
    "mu = mT*mL/(mT+mL)\n",
    "rmin = uLT0[0]\n",
    "vRmin = uLT0[3]\n",
    "L = mu*rmin*vRmin\n",
    "E = 1/2*mu*vRmin**2 - G*mT*mL/rmin\n",
    "e_theo = sqrt(1+2*E*L**2/(mu*(G*mT*mL)**2))     # excentricité théorique\n",
    "\n",
    "def rLT(theta):\n",
    "    return L**2/(mu*G*mT*mL*(1+e_theo*cos(theta)))"
   ]
  },
  {
   "cell_type": "markdown",
   "metadata": {},
   "source": [
    "Servons-nous en pour calculer la trajectoire"
   ]
  },
  {
   "cell_type": "code",
   "execution_count": 15,
   "metadata": {
    "collapsed": true
   },
   "outputs": [],
   "source": [
    "dTheta = 0.01\n",
    "length = int(360/dTheta)\n",
    "xL = numpy.empty(length)\n",
    "yL = xL.copy()\n",
    "\n",
    "for i in range(0,length):\n",
    "    theta = i*pi/180*dTheta \n",
    "    xL[i] = rLT(theta)*cos(theta)\n",
    "    yL[i] = rLT(theta)*sin(theta)"
   ]
  },
  {
   "cell_type": "markdown",
   "metadata": {},
   "source": [
    "Et affichons-la"
   ]
  },
  {
   "cell_type": "code",
   "execution_count": 16,
   "metadata": {},
   "outputs": [
    {
     "data": {
      "image/png": "[encoded data removed]",
      "text/plain": [
       "<matplotlib.figure.Figure at 0x7f1d5b22d0f0>"
      ]
     },
     "metadata": {},
     "output_type": "display_data"
    }
   ],
   "source": [
    "pyplot.figure(figsize=(10,10))\n",
    "pyplot.grid(True)\n",
    "pyplot.xlabel('$x$')\n",
    "pyplot.ylabel('$y$')\n",
    "pyplot.plot(xL,yL,'b-', label='Lune')\n",
    "pyplot.title('Position théorique de la Lune dans le repère de la Terre')\n",
    "pyplot.legend();\n",
    "pyplot.show()"
   ]
  },
  {
   "cell_type": "markdown",
   "metadata": {},
   "source": [
    "Calculons maintenant les paramètres de l'ellipse."
   ]
  },
  {
   "cell_type": "code",
   "execution_count": 17,
   "metadata": {},
   "outputs": [
    {
     "name": "stdout",
     "output_type": "stream",
     "text": [
      "Demi-grand axe théorique: a = 383635471.3593712 m\n",
      "Demi-petit axe théorique: b = 383058329.53979206 m\n",
      "Excentricité théorique = 0.05483192491256224\n",
      "Période théorique en secondes = 2350427.736879297\n",
      "Période théorique en jours de 24h = 27.20402473239927\n"
     ]
    }
   ],
   "source": [
    "a_theo = L**2/(mu*G*mT*mL*(1-e_theo**2))\n",
    "b_theo = a_theo*sqrt(1-e_theo**2)\n",
    "period_theo = 2*pi/sqrt(G*(mT+mL))*a_theo**(3/2)  \n",
    "\n",
    "print(\"Demi-grand axe théorique: a =\", a_theo, 'm')\n",
    "print(\"Demi-petit axe théorique: b =\", b_theo, 'm')\n",
    "print(\"Excentricité théorique =\", e_theo)\n",
    "print(\"Période théorique en secondes =\", period_theo)\n",
    "print(\"Période théorique en jours de 24h =\", period_theo/24/3600)"
   ]
  },
  {
   "cell_type": "markdown",
   "metadata": {},
   "source": [
    "Rappelons les valeurs numériques et affichons les différences. Nous remarquons la proximité des résultats."
   ]
  },
  {
   "cell_type": "code",
   "execution_count": 18,
   "metadata": {},
   "outputs": [
    {
     "name": "stdout",
     "output_type": "stream",
     "text": [
      "Demi-grand axe numérique: a = 383635471.359 m. Différence =  1.94311141968e-05 m\n",
      "Demi-petit axe numérique: b = 383058329.54 m. Différence =  -0.000163078308105 m\n",
      "Excentricité numérique = 0.0548319249212 . Différence =  8.66097471519e-12\n",
      "Période numérique en secondes = 2350428 . Différence =  0.2631207029335201\n",
      "Période numérique en jours de 24h = 27.204027777777778 . Différence =  3.0453785061750007e-06\n"
     ]
    }
   ],
   "source": [
    "print(\"Demi-grand axe numérique: a =\", a, 'm. Différence = ', a-a_theo , 'm')\n",
    "print(\"Demi-petit axe numérique: b =\", b, 'm. Différence = ', b-b_theo , 'm')\n",
    "print(\"Excentricité numérique =\", e, '. Différence = ', e-e_theo)\n",
    "print(\"Période numérique en secondes =\", period, '. Différence = ', period-period_theo)\n",
    "print(\"Période numérique en jours de 24h =\", period/24/3600, '. Différence = ', (period-period_theo)/24/3600)"
   ]
  },
  {
   "cell_type": "markdown",
   "metadata": {},
   "source": [
    "## Ordre de convergence"
   ]
  },
  {
   "cell_type": "markdown",
   "metadata": {},
   "source": [
    "Nous nous occupons dans cette section de calculer l'ordre de convergence de la méthode utilisée. La méthode étant celle de Runge et Kutta d'ordre 4, nous cherchons à vérifier que l'ordre vaut bien $4$. Nous aurons pour cela besoin de comparer les erreurs associée au calcul numérique pour plusieurs pas de temps différents."
   ]
  },
  {
   "cell_type": "markdown",
   "metadata": {},
   "source": [
    "### Calcul de l'ordre sur base des résultats numériques uniquement"
   ]
  },
  {
   "cell_type": "markdown",
   "metadata": {},
   "source": [
    "Nous avons besoin d'implémenter une fonction qui quantifie l'erreur sur les résultats de la simulation. Idéalement, ce que nous ferons dans la section suivante, l'erreur se calcule par rapport à la trajectoire limite pour $dt \\rightarrow 0$ (i.e. la trajectoire théorique si la méthode converge). Cependant, dans le contexte d'un calcul numérique, la trajectoire théorique n'est généralement pas disponible (d'où l'intérêt de la méthode numérique). Nous comparons dans ce cas les trajectoires à la trajectoire obtenue pour le plus petit $dt$ utilisé, qui approximme alors la trajectoire théorique. Notre fonction de calcul d'erreur prend donc les résultats calculés pour un certain $dt$ ainsi que les données calculées avec le plus petit $dt$ disponible et renvoie la valeur absolue de la différence entre le demi-grand axe des ellipses calculée dans les deux cas, qui nous sert d'indicateur de l'erreur associée à première trajectoire."
   ]
  },
  {
   "cell_type": "code",
   "execution_count": 19,
   "metadata": {
    "collapsed": true
   },
   "outputs": [],
   "source": [
    "def get_diffgrid(data_current, data_fine):\n",
    "    \n",
    "    parameters_current = computeParameters(data_current)\n",
    "    parameters_fine = computeParameters(data_fine)\n",
    "    \n",
    "    diffgrid = abs(parameters_current[0]-parameters_fine[0])\n",
    "    \n",
    "    return diffgrid  # l'erreur sur la trajectoire de data_current"
   ]
  },
  {
   "cell_type": "markdown",
   "metadata": {},
   "source": [
    "Calculons maintenant la trajectoire de la Lune pour plusieurs pas de temps différents, afin d'avoir plusieurs trajectoires dont nous pourrons comparer les erreurs. Nous prendrons des $dt$ dans une suite géométrique de raison $r$, le plus petit valant $h$."
   ]
  },
  {
   "cell_type": "code",
   "execution_count": 20,
   "metadata": {
    "collapsed": true
   },
   "outputs": [],
   "source": [
    "r = 2\n",
    "h = 100\n",
    "dt_values = numpy.array([h, r*h, r**2*h, r**3*h])\n",
    "\n",
    "# créons un vecteur stockant les matrices dataLT pour chaque dt\n",
    "dataLT_values = numpy.empty_like(dt_values, dtype=numpy.ndarray)  \n",
    "\n",
    "for i, dt in enumerate(dt_values):\n",
    "    \n",
    "    # initialisation\n",
    "    N2 = int(T/dt)+1\n",
    "    dataLT = numpy.empty((N2, 4))\n",
    "    dataLT[0] = uLT0\n",
    "    \n",
    "    #calcul de la trajectoire\n",
    "    for t in range(1,N2):\n",
    "        dataLT[t] = rk4(f, dataLT[t-1], dt)\n",
    "    \n",
    "    dataLT_values[i] = dataLT"
   ]
  },
  {
   "cell_type": "markdown",
   "metadata": {},
   "source": [
    "Calculons les erreurs par rapport à nos données les plus fines grâce à notre fonction get_diffgrid "
   ]
  },
  {
   "cell_type": "code",
   "execution_count": 21,
   "metadata": {
    "collapsed": true
   },
   "outputs": [],
   "source": [
    "diffgridLT = numpy.empty_like(dt_values, dtype=numpy.ndarray)\n",
    "\n",
    "for i in range(len(dt_values)):\n",
    "    \n",
    "    diffgridLT[i] = get_diffgrid(dataLT_values[i], dataLT_values[0])"
   ]
  },
  {
   "cell_type": "code",
   "execution_count": 22,
   "metadata": {},
   "outputs": [
    {
     "name": "stdout",
     "output_type": "stream",
     "text": [
      "[0.0 5.3644180297851562e-07 8.4638595581054688e-06 0.00014746189117431641]\n"
     ]
    }
   ],
   "source": [
    "print(diffgridLT)"
   ]
  },
  {
   "cell_type": "code",
   "execution_count": 23,
   "metadata": {
    "scrolled": true
   },
   "outputs": [
    {
     "data": {
      "image/png": "[encoded data removed]",
      "text/plain": [
       "<matplotlib.figure.Figure at 0x7f1d5b1bd278>"
      ]
     },
     "metadata": {},
     "output_type": "display_data"
    }
   ],
   "source": [
    "pyplot.figure(figsize=(6,6))\n",
    "pyplot.grid(True)\n",
    "pyplot.title(r'norme $L_1$ des différences des demi-grand axes')\n",
    "pyplot.xlabel(r'$dt$')\n",
    "pyplot.ylabel(r'erreurs')\n",
    "pyplot.xlim(1e-4,1)\n",
    "pyplot.ylim(1e-4,1)\n",
    "pyplot.axis('equal')\n",
    "pyplot.loglog(dt_values[1:], diffgridLT[1:], color='k', ls='--', lw=2, marker='o');"
   ]
  },
  {
   "cell_type": "markdown",
   "metadata": {},
   "source": [
    "Calculons enfin l'ordre de convergence à partir de ces erreurs. Soient $\\alpha$ l'ordre de convergence de la méthode et $dt_1$ et $dt_2 = r\\ dt_1$ deux pas de temps utilisés pour calculer la trajectoire. Si $e_1$ est l'erreur sur la trajectoire pour le pas $dt_1$ alors l'erreur pour le pas $dt_2$ est donnée par\n",
    "\n",
    "$$ e_2 = e_1\\ r^{\\alpha} $$\n",
    "\n",
    "Par conséquent, l'ordre $\\alpha$ est donné par \n",
    "\n",
    "$$ \\frac{\\ln e_2-\\ln e_1}{\\ln r} = \\frac{\\alpha \\ln r + \\ln e_1-\\ln e_1}{\\ln r} = \\alpha $$"
   ]
  },
  {
   "cell_type": "code",
   "execution_count": 24,
   "metadata": {},
   "outputs": [
    {
     "name": "stdout",
     "output_type": "stream",
     "text": [
      "[3.8853574340588763 4.132069637699308]\n"
     ]
    }
   ],
   "source": [
    "alpha = numpy.empty_like(dt_values[:-2], dtype=numpy.ndarray)\n",
    "\n",
    "for i in range(1, len(dt_values)-1):\n",
    "    \n",
    "    alpha[i-1] = (log(get_diffgrid(dataLT_values[i+1], dataLT_values[i]))\\\n",
    "                  -log(get_diffgrid(dataLT_values[i], dataLT_values[i-1]))) / log(r)\n",
    "\n",
    "print(alpha)"
   ]
  },
  {
   "cell_type": "markdown",
   "metadata": {},
   "source": [
    "Remarque: Notre choix $h=100$ pour le pas de temps le plus fin n'est pas anodin. Nous n'obtenons en réalité pas d'ordre de convergence fixe (ne valant donc pas non plus toujours $4$, loin de là!) pour des pas de temps qui ne sont pas d'ordre de la centaine. Nous ne comprenons pas de phénomène, qui ne semble pas apparaître avec d'autres méthodes de calcul (nous avons testé rk2 et euler). Nous en discutons à la fin de ce travail dans une section dédiée."
   ]
  },
  {
   "cell_type": "markdown",
   "metadata": {},
   "source": [
    "### Calcul de l'ordre par comparaison avec la théorie"
   ]
  },
  {
   "cell_type": "markdown",
   "metadata": {},
   "source": [
    "Nous allons ici calculer les erreurs pour chaque dt en prenant la différence avec la trajectoire théorique"
   ]
  },
  {
   "cell_type": "code",
   "execution_count": 25,
   "metadata": {
    "collapsed": true
   },
   "outputs": [],
   "source": [
    "def get_diffgrid_theo(data_current):\n",
    "    \n",
    "    parameters_current = computeParameters(data_current)\n",
    "    \n",
    "    diffgrid = abs(parameters_current[0]-a_theo)\n",
    "        \n",
    "    return diffgrid"
   ]
  },
  {
   "cell_type": "code",
   "execution_count": 26,
   "metadata": {
    "collapsed": true
   },
   "outputs": [],
   "source": [
    "r = 2\n",
    "h = 100\n",
    "dt_values = numpy.array([h, r*h, r**2*h, r**3*h])\n",
    "\n",
    "dataLT_values = numpy.empty_like(dt_values, dtype=numpy.ndarray)\n",
    "\n",
    "for i, dt in enumerate(dt_values):\n",
    "    \n",
    "    N2 = int(T/dt)+1\n",
    "    dataLT = numpy.empty((N2, 4))\n",
    "    dataLT[0] = uLT0\n",
    "\n",
    "    for t in range(1,N2):\n",
    "        dataLT[t] = rk4(f, dataLT[t-1], dt)\n",
    "    \n",
    "    dataLT_values[i] = dataLT"
   ]
  },
  {
   "cell_type": "code",
   "execution_count": 27,
   "metadata": {
    "collapsed": true
   },
   "outputs": [],
   "source": [
    "diffgridLT = numpy.empty_like(dt_values, dtype=numpy.ndarray)\n",
    "\n",
    "for i in range(len(dt_values)):\n",
    "    \n",
    "    diffgridLT[i] = get_diffgrid_theo(dataLT_values[i])"
   ]
  },
  {
   "cell_type": "code",
   "execution_count": 28,
   "metadata": {},
   "outputs": [
    {
     "data": {
      "image/png": "[encoded data removed]",
      "text/plain": [
       "<matplotlib.figure.Figure at 0x7f1d5b187f28>"
      ]
     },
     "metadata": {},
     "output_type": "display_data"
    }
   ],
   "source": [
    "pyplot.figure(figsize=(6,6))\n",
    "pyplot.grid(True)\n",
    "pyplot.title(r'norme $L_1$ des différences des demi-grand axes')\n",
    "pyplot.xlabel(r'$dt$')\n",
    "pyplot.ylabel(r'erreurs')\n",
    "pyplot.xlim(1e-4,1)\n",
    "pyplot.ylim(1e-4,1)\n",
    "pyplot.axis('equal')\n",
    "pyplot.loglog(dt_values[1:], diffgridLT[1:], color='k', ls='--', lw=2, marker='o');"
   ]
  },
  {
   "cell_type": "code",
   "execution_count": 29,
   "metadata": {},
   "outputs": [
    {
     "name": "stdout",
     "output_type": "stream",
     "text": [
      "[6.532523174381745e-06 9.6532727597379e-05 0.0016915402108337665]\n"
     ]
    }
   ],
   "source": [
    "alpha = numpy.empty_like(dt_values[:-1], dtype=numpy.ndarray)\n",
    "\n",
    "for i in range(len(dt_values)-1):\n",
    "    \n",
    "    #alpha[i-1] = (log(diffgridLT[i+1])-log(diffgridLT[i])) / log(r)\n",
    "    alpha[i] = (log(get_diffgrid_theo(dataLT_values[i+1]))\\\n",
    "                  -log(get_diffgrid_theo(dataLT_values[i]))) / log(r)\n",
    "\n",
    "print(alpha)"
   ]
  },
  {
   "cell_type": "markdown",
   "metadata": {},
   "source": [
    "Remarque: Les valeurs absurdes obtenues proviennent du même problème que celui mentioné dans la méthode numérique. Ici, nous n'arrivons même pas à trouver une valeur de $dt$ qui donnent un ordre proche de $4$. En modifiant le pas de temps pour tester d'autres valeurs, nous remarquons que les erreurs sur les trajectoires sont fréquemment les mêmes pour des $dt$ proches mais pourtant différents. Il semble donc que la méthode de Runge-Kutta 4 appliquée à notre problème converge \"par paliers\". Nous pouvons déjà observer ce phénomène sur les valeurs obtenues pour les erreurs entre nos trois premiers $dt$. En effet, les deux premières valeurs du vecteur \"diffgridLT\" sont quasiment identiques. Cette \"convergence par palier n'apparaît pas pour les méthodes d'Euler et Runge-Kutta 2."
   ]
  },
  {
   "cell_type": "code",
   "execution_count": 30,
   "metadata": {},
   "outputs": [
    {
     "name": "stdout",
     "output_type": "stream",
     "text": [
      "[0.11847186088562012 0.1184723973274231 0.11848032474517822\n",
      " 0.11861932277679443]\n"
     ]
    }
   ],
   "source": [
    "print(diffgridLT)"
   ]
  },
  {
   "cell_type": "markdown",
   "metadata": {},
   "source": [
    "## Système Terre - Lune - astéroïde"
   ]
  },
  {
   "cell_type": "markdown",
   "metadata": {},
   "source": [
    "Nous ajoutons maintenant un astéroïde au centre de l'ellipse et analysons sa trajectoire."
   ]
  },
  {
   "cell_type": "markdown",
   "metadata": {},
   "source": [
    "### Calcul des trajectoires"
   ]
  },
  {
   "cell_type": "markdown",
   "metadata": {},
   "source": [
    "La nouvelle fonction \"d'évolution\" du système doit maintenant faire évoluer le vecteur $u_{AT} = (x_{AT},y_{AT},v_{x\\,AT},v_{y\\,AT})$ des coordonnées de l'astéroïde dans le repère de la Terre. Nous négligeons l'influence de l'astéroïde sur l'évolution du vecteur $u_{LT}$ de la Lune qui restera donc inchangée. "
   ]
  },
  {
   "cell_type": "markdown",
   "metadata": {},
   "source": [
    "Avec les notations introduites précédemment, nous pouvons écrire l'accélération de l'astéroïde dans le repère de la Terre comme \n",
    "\n",
    "$$ {\\bf \\ddot{r}_{AT}} = {\\bf \\ddot{r}_{A}} - {\\bf \\ddot{r}_{T}} = - G m_T\\dfrac{{\\bf r_{AT}}}{r_{AT}^3} - G m_L\\dfrac{{\\bf r_{AT} - r_{LT}}}{(r_{AT}-r_{LT})^3} - G m_A\\dfrac{{\\bf r_{AT}}}{r_{AT}^3} - G m_L\\dfrac{{\\bf r_{LT}}}{r_{LT}^3} $$ \n",
    "\n",
    "$$ {\\bf \\ddot{r}_{AT}} = - G (m_T+m_A)\\dfrac{{\\bf r_{AT}}}{r_{AT}^3} - G m_L\\dfrac{{\\bf r_{AT} - r_{LT}}}{(r_{AT}-r_{LT})^3} - G m_L\\dfrac{{\\bf r_{LT}}}{r_{LT}^3} $$ \n",
    "\n",
    "Nous négligeons dans nos calculs la masse $m_A$ de l'astéroïde pour obtenir\n",
    "\n",
    "$$ {\\bf \\ddot{r}_{AT}} \\approx - G m_T\\dfrac{{\\bf r_{AT}}}{r_{AT}^3} - G m_L\\dfrac{{\\bf r_{AT} - r_{LT}}}{(r_{AT}-r_{LT})^3} - G m_L\\dfrac{{\\bf r_{LT}}}{r_{LT}^3} $$ "
   ]
  },
  {
   "cell_type": "code",
   "execution_count": 31,
   "metadata": {
    "collapsed": true
   },
   "outputs": [],
   "source": [
    "def f_ast(uLT,uAT): \n",
    "    out = numpy.empty((2,4))  \n",
    "    out[0] = numpy.array([uLT[2],\\\n",
    "                          uLT[3],\\\n",
    "                          -G*(mT+mL)*uLT[0]/(uLT[0]**2+uLT[1]**2)**(3/2),\\\n",
    "                          -G*(mT+mL)*uLT[1]/(uLT[0]**2+uLT[1]**2)**(3/2)])\n",
    "    out[1] = numpy.array([uAT[2],\\\n",
    "                          uAT[3],\\\n",
    "                          -G*mT*uAT[0]/(uAT[0]**2+uAT[1]**2)**(3/2) +\\\n",
    "                          -G*mL*uLT[0]/(uLT[0]**2+uLT[1]**2)**(3/2) +\\\n",
    "                          -G*mL*(uAT[0]-uLT[0])/((uAT[0]-uLT[0])**2+(uAT[1]-uLT[1])**2)**(3/2),\\\n",
    "                          -G*mT*uAT[1]/(uAT[0]**2+uAT[1]**2)**(3/2) + \\\n",
    "                          -G*mL*uLT[1]/(uLT[0]**2+uLT[1]**2)**(3/2) +\\\n",
    "                          -G*mL*(uAT[1]-uLT[1])/((uAT[0]-uLT[0])**2+(uAT[1]-uLT[1])**2)**(3/2)])\n",
    "    return out"
   ]
  },
  {
   "cell_type": "markdown",
   "metadata": {},
   "source": [
    "Nous avons précédemment trouvé l'instant où la Lune est à l'apogée de sa trajectoire autour de la Terre. Nous pouvons donc entrer nos conditions initiales. Notons qu'il y a ambiguïté sur les conditions initiales données dans l'énoncé. La vitesse initiale de l'astéroïde est donnée comme étant $(v_x,v_y)=(-500{\\rm m/s},500 {\\rm m/s})$ *sans qu'il ne soit précisé dans quel repère il s'agit*. Suivant que nous choisissons de faire démarrer la Lune dans les $x$ négatifs ou positifs, avec une vitesse négative ou positive selon $y$, ou encore de faire démarrer la Lune avec un angle quelconque par rapport à l'axe $x$, nous obtenons des résultats différents pour la trajectoire de l'astéroïde. "
   ]
  },
  {
   "cell_type": "code",
   "execution_count": 32,
   "metadata": {},
   "outputs": [
    {
     "name": "stdout",
     "output_type": "stream",
     "text": [
      "[-21035471.359390616, 6.9081783294677734e-05, -500, 500]\n"
     ]
    }
   ],
   "source": [
    "T = 3600*24*14\n",
    "dt = 1\n",
    "N = 1+int(T/dt)\n",
    "\n",
    "mT = 5.972*10**24\n",
    "mL = 7.348*10**22\n",
    "G = 6.67408*10**-11\n",
    "\n",
    "dataLT = numpy.empty((N,4)) \n",
    "dataAT = numpy.empty((N,4)) \n",
    "\n",
    "uAT0 = [Xcenter, Ycenter,-500,500]\n",
    "\n",
    "dataLT[0] = uLT_apogee\n",
    "dataAT[0] = uAT0\n",
    "\n",
    "print(uAT0)"
   ]
  },
  {
   "cell_type": "markdown",
   "metadata": {},
   "source": [
    "Réécrivons la méthode de Runge-Kutta"
   ]
  },
  {
   "cell_type": "code",
   "execution_count": 33,
   "metadata": {
    "collapsed": true
   },
   "outputs": [],
   "source": [
    "def rk4_ast(f_ast,uLT,uAT,dt): \n",
    "    k1 = f_ast(uLT,uAT)\n",
    "    k2 = f_ast(uLT+dt/2*k1[0,:],uAT+dt/2*k1[1,:])\n",
    "    k3 = f_ast(uLT+dt/2*k2[0,:],uAT+dt/2*k2[1,:])\n",
    "    k4 = f_ast(uLT+dt*k3[0,:],uAT+dt*k3[1,:])\n",
    "    \n",
    "    out = numpy.empty((2,4))\n",
    "    out[0] = uLT+dt/6*(k1[0,:]+2*k2[0,:]+2*k3[0,:]+k4[0,:])\n",
    "    out[1] = uAT+dt/6*(k1[1,:]+2*k2[1,:]+2*k3[1,:]+k4[1,:])\n",
    "    \n",
    "    return out"
   ]
  },
  {
   "cell_type": "markdown",
   "metadata": {},
   "source": [
    "Calculons la trajectoire"
   ]
  },
  {
   "cell_type": "code",
   "execution_count": 34,
   "metadata": {
    "collapsed": true
   },
   "outputs": [],
   "source": [
    "for t in range(1,N):\n",
    "    \n",
    "    temp = rk4_ast(f_ast,dataLT[t-1],dataAT[t-1],dt)\n",
    "    dataLT[t] = temp[0]\n",
    "    dataAT[t] = temp[1]"
   ]
  },
  {
   "cell_type": "markdown",
   "metadata": {},
   "source": [
    "Affichons la trajectoire"
   ]
  },
  {
   "cell_type": "code",
   "execution_count": 35,
   "metadata": {},
   "outputs": [
    {
     "data": {
      "image/png": "[encoded data removed]",
      "text/plain": [
       "<matplotlib.figure.Figure at 0x7f1d6016b940>"
      ]
     },
     "metadata": {},
     "output_type": "display_data"
    }
   ],
   "source": [
    "pyplot.figure(figsize=(10,10))\n",
    "pyplot.grid(True)\n",
    "pyplot.xlabel('$x$')\n",
    "pyplot.ylabel('$y$')\n",
    "pyplot.plot(dataLT[:,0],dataLT[:,1], 'b-', label='Lune')\n",
    "pyplot.plot(dataAT[:,0],dataAT[:,1], 'r-', label='Astéroïde')\n",
    "pyplot.title('Positions de la Lune et de l\\'astéroïde dans le repère de la Terre')\n",
    "pyplot.legend();\n",
    "pyplot.show();"
   ]
  },
  {
   "cell_type": "markdown",
   "metadata": {},
   "source": [
    "Nous remarquons que l'astéroïde passe très près de la Terre. Après quelques révolutions, l'astéroïde se fait éjecter du champ gravitationnele de la Terre. Cela est dû à sa faible vitesse initiale qui l'empêche de garder une bonne distance avec la Terre. En réalité, si nous prenons en compte le rayon de la Terre, nous verrions qu'il y a collision avec l'astéroïde. C'est ce que nous allons montrer dans la section suivante. Le passage près de la Terre est assez délicat pour le calcul numérique, nous en discutons dans une section dédiée à la fin de ce travail."
   ]
  },
  {
   "cell_type": "markdown",
   "metadata": {},
   "source": [
    "Nous pouvons afficher la position de l'astéroïde après 14 jours."
   ]
  },
  {
   "cell_type": "code",
   "execution_count": 36,
   "metadata": {},
   "outputs": [
    {
     "name": "stdout",
     "output_type": "stream",
     "text": [
      "Position après 14 jours sur l'axe x:  -22412289395.3 m\n",
      "Position après 14 jours sur l'axe y:  -56453142333.4 m\n"
     ]
    }
   ],
   "source": [
    "print('Position après 14 jours sur l\\'axe x: ', dataAT[-1,0], 'm')\n",
    "print('Position après 14 jours sur l\\'axe y: ', dataAT[-1,1], 'm')"
   ]
  },
  {
   "cell_type": "markdown",
   "metadata": {},
   "source": [
    "### Description de l'impact entre l'astéroïde et la Terre"
   ]
  },
  {
   "cell_type": "markdown",
   "metadata": {},
   "source": [
    "Nous commençons par encoder le rayon de la Terre"
   ]
  },
  {
   "cell_type": "code",
   "execution_count": 37,
   "metadata": {
    "collapsed": true
   },
   "outputs": [],
   "source": [
    "radiusT = 6370000"
   ]
  },
  {
   "cell_type": "markdown",
   "metadata": {},
   "source": [
    "Nous cherchons ensuite l'instant de collision"
   ]
  },
  {
   "cell_type": "code",
   "execution_count": 38,
   "metadata": {},
   "outputs": [
    {
     "name": "stdout",
     "output_type": "stream",
     "text": [
      "Temps écoulé avant l'impact = 5608 secondes\n"
     ]
    }
   ],
   "source": [
    "indexImpact = 0\n",
    "\n",
    "for t in range(1,N):\n",
    "    \n",
    "    if (dataAT[t,0]**2+dataAT[t,1]**2)<=radiusT**2:\n",
    "        \n",
    "        indexImpact = t\n",
    "        break\n",
    "        \n",
    "print('Temps écoulé avant l\\'impact =', indexImpact*dt, 'secondes')"
   ]
  },
  {
   "cell_type": "markdown",
   "metadata": {},
   "source": [
    "Nous trouvons le point d'impact"
   ]
  },
  {
   "cell_type": "code",
   "execution_count": 39,
   "metadata": {},
   "outputs": [
    {
     "name": "stdout",
     "output_type": "stream",
     "text": [
      "Point d'impact: x = -6150657.49119 m, y = 1652800.75637 m\n"
     ]
    }
   ],
   "source": [
    "print('Point d\\'impact: x =', dataAT[indexImpact,0], 'm, y =', dataAT[indexImpact,1], 'm')"
   ]
  },
  {
   "cell_type": "markdown",
   "metadata": {},
   "source": [
    "Nous trouvons la norme de la vitesse d'impact"
   ]
  },
  {
   "cell_type": "code",
   "execution_count": 40,
   "metadata": {},
   "outputs": [
    {
     "name": "stdout",
     "output_type": "stream",
     "text": [
      "Vitesse d'impact: v = 9368.47919561522 m/s\n"
     ]
    }
   ],
   "source": [
    "print('Vitesse d\\'impact: v =', sqrt(dataAT[indexImpact,2]**2+dataAT[indexImpact,3]**2), 'm/s')"
   ]
  },
  {
   "cell_type": "markdown",
   "metadata": {},
   "source": [
    "## Animations"
   ]
  },
  {
   "cell_type": "markdown",
   "metadata": {
    "collapsed": true
   },
   "source": [
    "### Animation des trajectoires pour le système Terre-Lune"
   ]
  },
  {
   "cell_type": "code",
   "execution_count": 41,
   "metadata": {
    "collapsed": true
   },
   "outputs": [],
   "source": [
    "from matplotlib import animation\n",
    "from IPython.display import HTML"
   ]
  },
  {
   "cell_type": "markdown",
   "metadata": {},
   "source": [
    "Nous prendrons un pas de temps plus grand pour que la vidéo ne soit pas trop lourde. La précision n'est pas indispensable pour faire l'animation, à condition que le comportement obtenu soit fidèle à celui obtenu pour de petits pas de temps."
   ]
  },
  {
   "cell_type": "code",
   "execution_count": 42,
   "metadata": {
    "collapsed": true
   },
   "outputs": [],
   "source": [
    "T = 3600*24*30\n",
    "dt = 30000\n",
    "N = 1+int(T/dt)"
   ]
  },
  {
   "cell_type": "code",
   "execution_count": 43,
   "metadata": {
    "collapsed": true
   },
   "outputs": [],
   "source": [
    "dataLT = numpy.empty((N,4)) \n",
    "\n",
    "dataLT[0] = uLT0"
   ]
  },
  {
   "cell_type": "code",
   "execution_count": 44,
   "metadata": {},
   "outputs": [
    {
     "data": {
      "image/png": "[encoded data removed]",
      "text/plain": [
       "<matplotlib.figure.Figure at 0x7f1d5b731240>"
      ]
     },
     "metadata": {},
     "output_type": "display_data"
    }
   ],
   "source": [
    "fig = pyplot.figure(figsize=(10,10))\n",
    "ax = pyplot.axes(xlim=(-500000000,500000000), ylim=(-500000000,500000000))\n",
    "line = ax.plot([], [], color='b', ls='-', label='Lune', lw=2)[0]\n",
    "pointT=[[0,0]]\n",
    "point = ax.plot(*zip(*pointT), marker='o', color='k', markersize=3, label='Terre')\n",
    "pyplot.title('Animation du système Terre-Lune')\n",
    "pyplot.xlabel('$x$')\n",
    "pyplot.ylabel('$y$')\n",
    "pyplot.legend();"
   ]
  },
  {
   "cell_type": "code",
   "execution_count": 45,
   "metadata": {
    "collapsed": true
   },
   "outputs": [],
   "source": [
    "def trajectory(i):\n",
    "    \n",
    "    line.set_data(dataLT[:i,0], dataLT[:i,1])\n",
    "    \n",
    "    dataLT[i+1] = rk4(f,dataLT[i],dt)"
   ]
  },
  {
   "cell_type": "code",
   "execution_count": 46,
   "metadata": {
    "collapsed": true
   },
   "outputs": [],
   "source": [
    "anim = animation.FuncAnimation(fig, trajectory,\n",
    "                               frames=N-1, interval=100)"
   ]
  },
  {
   "cell_type": "code",
   "execution_count": 47,
   "metadata": {
    "scrolled": true
   },
   "outputs": [
    {
     "data": {
      "text/html": [
       "<video width=\"720\" height=\"720\" controls autoplay loop>\n",
       "  <source type=\"video/mp4\" src=\"data:video/mp4;base64,AAAAHGZ0eXBNNFYgAAACAGlzb21pc28yYXZjMQAAAAhmcmVlAABJD21kYXQAAAKsBgX//6jcRem9\n",
       "5tlIt5Ys2CDZI+7veDI2NCAtIGNvcmUgMTM4IHIyMCA0MGU3MmRhIC0gSC4yNjQvTVBFRy00IEFW\n",
       "QyBjb2RlYyAtIENvcHlsZWZ0IDIwMDMtMjAxMyAtIGh0dHA6Ly93d3cudmlkZW9sYW4ub3JnL3gy\n",
       "NjQuaHRtbCAtIG9wdGlvbnM6IGNhYmFjPTEgcmVmPTMgZGVibG9jaz0xOjA6MCBhbmFseXNlPTB4\n",
       "MzoweDExMyBtZT1oZXggc3VibWU9NyBwc3k9MSBwc3lfcmQ9MS4wMDowLjAwIG1peGVkX3JlZj0x\n",
       "IG1lX3JhbmdlPTE2IGNocm9tYV9tZT0xIHRyZWxsaXM9MSA4eDhkY3Q9MSBjcW09MCBkZWFkem9u\n",
       "ZT0yMSwxMSBmYXN0X3Bza2lwPTEgY2hyb21hX3FwX29mZnNldD0tMiB0aHJlYWRzPTYgbG9va2Fo\n",
       "ZWFkX3RocmVhZHM9MSBzbGljZWRfdGhyZWFkcz0wIG5yPTAgZGVjaW1hdGU9MSBpbnRlcmxhY2Vk\n",
       "PTAgYmx1cmF5X2NvbXBhdD0wIGNvbnN0cmFpbmVkX2ludHJhPTAgYmZyYW1lcz0zIGJfcHlyYW1p\n",
       "ZD0yIGJfYWRhcHQ9MSBiX2JpYXM9MCBkaXJlY3Q9MSB3ZWlnaHRiPTEgb3Blbl9nb3A9MCB3ZWln\n",
       "aHRwPTIga2V5aW50PTI1MCBrZXlpbnRfbWluPTEwIHNjZW5lY3V0PTQwIGludHJhX3JlZnJlc2g9\n",
       "MCByY19sb29rYWhlYWQ9NDAgcmM9Y3JmIG1idHJlZT0xIGNyZj0yMy4wIHFjb21wPTAuNjAgcXBt\n",
       "aW49MCBxcG1heD02OSBxcHN0ZXA9NCBpcF9yYXRpbz0xLjQwIGFxPTE6MS4wMACAAAAOcWWIhAAR\n",
       "//73iB8yy2n5OtdyEeetLq0fUO5GcV6kvf4gAAADAAADAAADAzSyCkX1Rzvzg8AAAAMDPACDgVAB\n",
       "f48PJw+ACGwg/zTkScQZPkOayLRn4N+qHNpIELujkoBJ95/851g1N9FtotfEpkvbeHTL1igD/u3G\n",
       "3lOYM5bqev+tdbi8Wpe99pM5juC7g3ePuxMeWfPWxNa5bJVVNjR1uZmybrRebAoEhNnNBeUZUw7x\n",
       "QJEg3YKspPb+emZU2L4WSQQ6lNmTqgboj4XbBbkz850r8AC/bRn+KY5rT0DcEgvJncbQhX1VjQeT\n",
       "xZWarpvZytajli441Dik+aOTUwtLuyfweU8pmYwkSqUzXyDZVz4PnFXoV5a4C/QhGZCwEjTS0qvD\n",
       "jO6bL9QZ6JKkFPWUajaIt6DRRB4fK2eh3B0/JqnQi0Gj/J39K/cTKW6uLL+TFGmljb6/dkr6bV0w\n",
       "q3/KH2IvFWHpG1w8IoBIvn/1jz4FXx0LcJvnbRoZzROkyORwP4vQLDnk0iBBkOQslooAElowWZuz\n",
       "yScjZ5om8zJDqah6vAU80AlO37333P9G6Y276oqqeY5lhPV4NkJAa4RY2FoAa0A70K+YcuxlA2gD\n",
       "gumyjunMIc4xp3Wn77N/fql2jiGQI8EAunzTTAhgsz40oVgDGQZ+c9lg4z3+6EOpTAfafe4Qg//f\n",
       "TnX0NoNCK+8Qjb5tMzE6Mb4wmvRCNEOuwtWeiO76FuJaIi7csNKiYvZANLA0u8sKAyXiw2I2acFq\n",
       "WvzvcWqPrH/2PpTM3X+PJLSbHYGzTFqow1zMI06aZCc+O5YFZLsE8dbwbCir1oeyXush1fc2m7W+\n",
       "RztHONe/yzW29v3Pz8b+CGxEcs9zUppmS9AGdGy9N+SvkWxuvo+kIIe3DTRYitEtewub/KM6bhR0\n",
       "pht8GWzNDHZX+chgEeiL8Y4VBAXNjd8SQZKQMXi9kwjla1WIvg2ITT1G735ibYsB4BLF/S2uU3K8\n",
       "OgR2XY41UCM0Todx5GujgBC4m5QOQ5q8egRgsIfFdUm8nciwwOKA2ctQd8pWztwv3yiixHfQNOZO\n",
       "hGRs+pbelp8cLOHCd2oiXhHjB6+RREtk93k9uMEYxFHxDpmk2qBbwRXV7zf1pbQG9IeRfyUcKpe/\n",
       "ZrwehxlIV6wlXaI7nk8kaB1Bjm1BAjZAzpFCER4gi3OFMM6jmFhFKyhzN3e7LMnVJaKycPvm23xV\n",
       "vC1dLO/JpBlhJI+9lLFCAKZSmtCvo7+q9XK0d8jnn3ONA6x/Kk86vDDuvkJ2+wRodgUZjJ00upq3\n",
       "WfpCoxiPcduvi8BIW4+N3Y0x212/8oy4/Xj7SJ5lURjV1rRQ6dhxWQovPwd9ddJidoZuMTF9Qa2Z\n",
       "6TNy3HGsh+cG2OkefCumNgx1oYsRdLRCfKMNKgeGKDZtorYEAt+qqW3gGgdZmB2QFyGid3s7fS40\n",
       "tZ8Ns5aMwY8GyCGFL1i+jbbJUpc0CqKNAoBYf/rP8ca9v/VOvF0mpb14Di7L/Tx1Tc2KLiWq6s5b\n",
       "Ak4COmYD5kiD02AGkDfqIuLmti4hjOcTQS3MigasDQ66seLU2Qzo7roM6Wyfm2y42bRWwhmYYbjj\n",
       "XUmBbp7E3d/2kx4q/0Sqt6ze9chOERRhBeIxeJevFWyjsMhKXm1t04iYPnBOwOs93YkoZAf5XBWJ\n",
       "BqLwkhDdYEtcdAA4E4ZqlMWCYc3nrNb5RNX/X/sYRV8VWOrx2iJBkNNq4m58pgLFdYwBdgzVIp/p\n",
       "wwI77I50wkAwje8HoF9d/pN0j/clxhlUMovF2gookOaG9dSo07vBEPPTp5VVRpFr7/WSOQPmLb69\n",
       "zN3g3tQRVRRiLWZgyv9ITS7EtV5vW8rGu3q7SfAzV7jf2vm+puDUs+ot/cg9VP6ssi0X3Hos7IfY\n",
       "KDEAvP9f0w7HrSepAiNYfUxTVO5kAbEOn1AlSKF01pOsr1d/YFa2WVCl+Asg9+lLPvl4CapJQpCV\n",
       "WF7wW7m5M8HlIHEVhnEZzgXPxUUFGBN18Bi5zSIvkIQ8cPor/BVNpWIqMB/p//l8vQ6W9j74Ro6m\n",
       "uWnhV44yLJZSk89MCDsx2hwasbJSwjxEy7kxH5YAjfqP0Md+YuB9EWbUtrQEPXtETCx8HXu518AG\n",
       "eg+38kVnd0ylbP/jBZIraDKGywr/xmZeKh6v7pt7w1uW41pR9niJeGKCnvfyrFYXTYaIGxpFkSlZ\n",
       "OlPmdC7MEOb59c3CwyRCVv2OV+henSAC5qi2MGwUL0vcbKC4yySa3e3w84pVH2hYDpJPOrNi1q4B\n",
       "NM7ozWEmqKT/a17s6JkFBAxvrxlCiMrXS70YCDws9cJXiLS117nLklShns3BDjpgCfaNij7C/wz3\n",
       "Z8LJ+8ILDg4WaqoJHvvKMmG5qgv0ofVW48TFbAXy8yPdt+m/lWdDEsvXnNn1Fr2uUInrkPWOvBqD\n",
       "qWYDBkXk2u10HQgv2mN2wHRyLH2pT3wxlwgIFQdrgds+tTCGaANQ3RAAKqBtuWf/+USiLmhSKV+l\n",
       "Jm60xVAVC+Z+kwR483Jkq2JdukHmQdJC+gAfz9sXmVTG8+r2Deuv/b8wAtW9qDB51dQ4VCUX4UdN\n",
       "GGJiO+plwuoJ2Mzu0em2pk5pOkNXXU7UjC1DlA3Y3SUEWfguTNY+gWNTRf8PA2BlRudKtvTIdzbV\n",
       "ACIBWkgL5OpRWiIMKDdxHVWn3tkor+nEh7vy4YnHTB9vnuQSu7Z4LbHUhjONKxiNoBgMMpTGHDfA\n",
       "HhOjRS6d6/Ahg5kDMhX8W/VXASW80hJi+NxXn5nCoXnc/m1B2xG5p/FGHGd3B4aNZoO/op8Y9RJt\n",
       "c+YMnsYwsJJBRBTLKM/N+slj1vgJ7fByIXEKYQgMi7m2waw7samBnyjEbOdrVSLxvDZtOh7AfYWD\n",
       "fbQysbFi2kVdNo4kV0EETVVEUyqVg81AmdKTqXFS1R7roG1LLvqI/JFtrhzZ2UTptmAF4p4bcV8z\n",
       "w2sCsbkhAp/Ap+dZuLJ+ZoGnABhgc/QYL0FaC5aYYUlvGSOc837wvJ8bJA1gINFx4TBWRCV35lyU\n",
       "6HpWzileqrn2kEQwvkz+zCEkC8wTE8SGTkz3qxrWHkfes0eiXnkdsx4UGJmJKJcx0F2fTmdAtPPn\n",
       "Rk1OXRtKQNID/JgLNKZ7cVPywBpR7ICqAAL2AAADAAADABF/D4tuKOAN87TKgRK1ozpS2hdZ5Xfz\n",
       "2VxUcOeCL2ibywjkjfq0g1fqIsDHa/EkAl2CaK7+o6CeWDjNKX5RzoZfoXn0vDw4Z8JJ0Xn1dKXb\n",
       "+CmX8Bn/yYTfSOSoKtov8mbe9V0r9Uafsmt0cSNkS4GRXRqvAZoyhfQb/KiB9wiEgyVeeeV2gEAh\n",
       "esLAMtEYdLjiSZtTVoZSptb5ryg6x902IP/7WI1G19DbxCcpqGF24N1GiDrbCoHcI7fZQJb/womZ\n",
       "wDmHRzO8i6kJn2to9i9M+ztwgQAvU1vgr2wAAAMAAAMAAAMAAwMGYbbQZFeGafmlceJKUzknnMAD\n",
       "kaFOch6URkvrXisPP2KsQs+IBeDxGj5hEFnRujxblVh0L/SFHBUJj2aczBrEL4pD6V5vqfaJJpmN\n",
       "pblkTkcIAzkrwd7Q224LSx17iq57JfnVrWyHCYtzimrE8gLQlU7DnKQ9ksJp6pX5uW5xMsOz28Xu\n",
       "mAA3jwsoAAIzcwIP+ARNoA8BAFCMpfc1Peq4S/vuxvrg/Kv/Sh+KVZICKbbxMnMADLdFtDnRs09T\n",
       "OqxKfNUkQOrcpE9brLLQkeHRkDwgGxSJ5KQdxdmwQdbd6H4xDnIiaTy2JBkJbqN6BfcAnuQ67Qvb\n",
       "bNzKkKaihuNV3DsAAebUAFKDAtm4FZhZ6H34wLF2SPA+4/qGaBBHdYGjofe5PLHw81JqzS/Nu6cb\n",
       "8nEKacaL3iRG0CWXrg6WX0Qyk/rC60tc8pQluf5M983JB3e7DGtdRAoDeeQ34HcpbN/Nt2CS8ife\n",
       "iI9++kShZuRVcYGQXiOW/Vxz88l2REtTu9jy7hCvVbcDI9tfVteq0k2qXd7xsko7qN0nlDzMVUCu\n",
       "CJIkgBTwXx3XmdjNCVOyNrAgiaEkGBH8LIOaOoeeQopg4ujpAXyEpNh+SNKvPvFMxDM7IjnDYKwm\n",
       "CEyv7u/3R0ATjMY6DW+6QteVo5rRNvFWx1RYUI/SXMGY9jRrnUmlJ0xp/mtawL1Y1Be7xMlTztnh\n",
       "cfxH93ulPCKM/QdzVq1HiC6EsWMo31SSxN5RZDPx5TtEHSlxZVpWAAAK0+mmrDdzpaanBpE50owN\n",
       "da5EIAulZmrLvSocT1NhfotMcO6/FQLZxEXqUJMI2PyeS5PJ9NhGqADGmEGpTbw9cRz7j+vMmUoB\n",
       "g8JrfuLD//9YT2Jnn+bviF4RyJoCPBQbryvQBIy/UKBkxlHkZm8e7BrJBkVgQwzctkjjNYrD93X8\n",
       "tqUyOVAD9c6Xkkehv/JI2+VWURVsL1NtvQ0Y8D6taRo9TboA8P9XsTYiiMi0J1hvGvTI/s1lthJQ\n",
       "VuLU7qt2gzOTxRYol/Aqk2Q2/ZLwQammnUVVNX+bDtb3kWeBOjJ6q2zt2AXbUB+1AMMO1vbJXi3o\n",
       "Fv3a1PkRUiSbvsukE0eSHZ2cfLkFiwdzceNX7sk6ihhONJcpF9/7sJ0m/cHg7C4wPFSxHp3Zwgo7\n",
       "9L0k2UxrPW1sFCspP3+aP4yDLGMRr9Crf6ORC59+hKsm/+4HJCWF13RhBMjNupGytR3jMSlvk1Ij\n",
       "xNmAv8mXd8KZ5VU1HtIPxK/pManysrVulT4lxZyaNLVsZ1001iK/+dOpLPTdIEAAmWIyZrySkGyj\n",
       "2DKrs+cMOBKAUaYMx6a307YnH31HB+75JRmnPwP8sm4iwXXOmXeNbPYLzRG4X/Q5NB1hVnvnsQ8N\n",
       "3BJ3I2mRMw5r6buM74+MiNIsKGDDtr03ynSFIpTwTzbe5SAAAAMAAAMABJUAAAGwQZokbEEf/rUq\n",
       "gACcMh4AHMu6nvr9/BYxIdHCxPrJAO8oTi3LTY/Gf8JGXM4e/VArH9m7gPW4QA1X42tHOcKdGnWY\n",
       "GslRQAeZvV8BBELlPAXdwt3y7FP6Y+7oKiHiyRR7BS0mNwrZmK/O8NZrSRSL783yuV3r0tk9ThcN\n",
       "nLrDXd9LKFPzc9f9y24EE+DUrJrpHSL1nrHRiAA6ui2TThwvp9MshEIQw19Ulf5UqF1Jp9uGZrDb\n",
       "H9IeoPlB5bOtViweWZdFeYL1u5w3nKit59PiCzi/5fOUTKF67LA0oR/pbYiXIotVvXh1Z+5knY5R\n",
       "YTfWnSwx9qu2neRstlztLjXcYgiiwgiE+bWd/otcCoIAqmH3ahion018XgaiHY/rz8sKCPe98DvR\n",
       "gNb0ozElzARxlzdxMkuaiCL/DipSDYFCI0RvQA+v7hsepSw9hZ0WNvA+21uHDeJrhvUyOMxdpeEs\n",
       "6Ylv7X0skn1Arbwg6eftp3ROpNzBJ5pgPf6JwblbRxKI2SsiMf0g2htpr+Enq/EVps48lF5utgqt\n",
       "wjCQEAa2EYM+b2q05ND0k9jUJ1OCXgvYAAAAM0GeQniHfwACYOT6sAAJLTGm3kVtAA6EASh5CgFL\n",
       "YEzPM0Cnnt6chqIR+Qxr/+IBYKwFJQAAAB8BnmF0Q38AAAMAAAMAbpCnJ2w5ORSB7Z+m4xQgAAfM\n",
       "AAAAOQGeY2pDfwAAAwAAAwFieglufphABDg7/eZcPClOJB5ye1Alx5TSAU7s76NwzPT+qVnMZQAA\n",
       "AwASsQAAAl5BmmhJqEFomUwII//+tSqAAAsnexpxAVr/EBvaztCkalRm9MWH/PVR9JcCnDCynwCv\n",
       "lqyza7Rfzt1UtFxwxmshl3DGK7dbatXP6PqFw4DcV3RUdYer3m6PtCtR1Xx6SP44R2yQRm1SyRgX\n",
       "6NL8g+TYyLRDgSfH4eguqc9ZiOLZJq64dvujQt0EQ9ZFH4iWxzf5fllO9TvIHSbi+uGPq5Athm1G\n",
       "6XuuB3F8nQQvBi9lc7spmBP1E3q0l0UhFqw2O6kY/w88gSbtiD7mdYVfgC40vdPXD72/Qy9qFa+G\n",
       "Ms62dewK5s94BDh8r4/HBu89WxkiMGpcNMl8vqiertvW/OjeHLan1BnH5YsR7qWP5es/13DRRzy9\n",
       "pcXS9EWyCRD6x9wSLA1XFnAFbmJZXppSqYgLd55HXtrOxDoFnisBOZ5SKzZvDD/NBdpd3Io1bPQu\n",
       "ME4VcftFAyT3EG5TZTLTGSApSFMg5qW9acy/Ug2/GlJlAsPXdq98tm7ABoO91L1AGa49ydCjonxc\n",
       "YJmmb2x8CHx9hurkdlLG4wNXpB4apl6iLbAOP/+n7qQOKuUFEMZrNKs8CgAkMZ7MQzvuEPq6zX9s\n",
       "mTA/mksmGxpCvCu6vCG/wBjWMVpis6mzhGLKVszCqKLdaoakw4N7MHFalO92eOfOX610jYlwtoo2\n",
       "qtl+PI/XiLoRRIH3lic5gHIby+y3rHf8olJ/MSnRL9u5dWZ+tY5ZGKai2+2odndhVaqkTIoxxYEf\n",
       "W7Q1AyrkLOANSQu2lojjPwu1ADptVbUHHvkURfdJQHZfanmNFNwAAAMAJmEAAAAmQZ6GRREsO/8A\n",
       "AAMAAGfBH/Z/cWBcna8zsI9vNcvpwz8AAAMAEvEAAAAlAZ6ldEN/AAADAAAtcStVusBm+76DKY62\n",
       "kBggPMHUjcAAAAMCdwAAAC4BnqdqQ38AAAMAAJLXmrcbXwGr/aUyJWGnVzdLFORZ6P5CZKSt7x/4\n",
       "AAADAGpAAAACPEGarEmoQWyZTAgj//61KoAAAAtxT+0AFvSvK/XyEllJwmih1ojA807Uz9YUlTTB\n",
       "l+NEfFwnGh89hjbOuPBCylPOP+H13zE23GO2cnCOzDJnHXqOBulPy7icXD7VTNmvM9aTOLPRQNDG\n",
       "Da9GFHmcsYpvOPcqve33mrEGBhSrrFj4qKRAm+/7oMIpxPzVovgSUDJWI9lBuP8mJ3QFgXU4Y+Y4\n",
       "A1E/QgGO6sPKGHPXg+QTfcuIX9W7NGi8X8c0ssRHJVLSRf17Bd8OpgUZBCEE+oSj1UW6uETJH0yt\n",
       "e3IbNiard+ffWN2udG/zHvPnTiswyUgDuxlPVptM1ayPwYc/jNseRStINLZm/XrP9S8j2US5Hdr/\n",
       "7Y4nEq45u6UMSSa6vVkLZ2UjHhY8EV/t36iZwTK/aMe6LwI/cDRrIxqeSwEG2PfhUW9huUKqFdgm\n",
       "bTx0FjLhFcRIUE42TMsua8Hq9vIf9ssoq5wQ4Sm9pjdqDB4xaPc6gCXzA/NQ8fQiwxe1nrWrW+1H\n",
       "Jbqv/AR5UAyrMvNSJXnHIoNhEEJncVLjH6w6spfjy+01/PI5tMhjkF4T+S7bGRSdyedyiSGIrHKr\n",
       "sY3jLFi4ChnI+h/Oq+DEfu34S5X7qO7ej/MsQjP09yAo5TKZ+xtgH929dbEbludhecPp3oghOwJk\n",
       "zQLZThKroIhJNwaoK0HInWNXM7g38hVrpY1ndltSPh7GHdbIWrHwG/vzlkV26HwbdV9uWJ7hNAj3\n",
       "+th/H0AAAAMAADRgAAAAOUGeykUVLDv/AAADACyqv8RR1ZBNtACw/DSuMdIT/hSgl3/SI5ZXj7md\n",
       "TjBWiBGDyboUgAAAAwAbMQAAADkBnul0Q38AAAMABiEJmp9Gry2OAD4pZrDKPd/F+mx5PPu2tr0x\n",
       "Zo7ZR23wwJvrHETwxU/HgAAAB9wAAAA2AZ7rakN/AAADAD4lDswCS8ogAmijN2ntjPTw6+e5O1e9\n",
       "9y/wM3Vi/UfmX+1QJC+O8AAAAwELAAACPkGa8EmoQWyZTAgj//61KoAAAH13B/EB9LAAf0jWLio3\n",
       "GbEJloP+RO0VbCTpw/ifraZ7dX4GUZNPE9gRbAtaBJvnwdCbjUMYV6X5fcuUYOZjmujDhwmrLDMG\n",
       "WWYmKLXc/BnS+6r1Zgy/E0QUo2+d6klxviUCMdyFLL8CbU1eVe/aM5Rvk/z+bkYPJdM6NrR182Zz\n",
       "233OvFatU9KhbOlRXTK2ymGB5XF4H9lisH5O5polP2hAUdseFWobYKAnMtqif0rrDdfOGi8BW15k\n",
       "u497vYY3qj+oTqqt3jz2PpkCIbNTFbJQ12ZJzhAMRBJSjMmwJMdCazOoORBq1gi1r8hD/w34CMI9\n",
       "0svihUDUMdm7Rlqnc/fD5azkQ3UjFRbXvWdGQYu9+71QRzV4hTMaeLdBxUEHCUe5rtQ/TaEtAcQH\n",
       "iFoyeCm+d3RUEmCiB0qNDvtzuVJsVtx/e+u1lHzTJ57XX+le9bHK4mI/CWaJdChNHZiXFbt/jjzE\n",
       "M/nhrZLgjYnT4EGI1RuKoofQ3K1jV9X4oLQ/IHo3Roxo3MKgfDbpoNa2irpja6DF/lq04BA8vUmB\n",
       "67+sgGaTFXFd2ga68Qxk7Uku/WheVmsTjLd/D6l9FZD1z3wi5YGzKjQ7l8E0OfVcHGsQU7a+BAYt\n",
       "IMbJiatR2Ay64Mg8GE6e3F+GRqh2cGcS5FS+W+AexY8exx7UNglxReknfp0znv7vqGb+qRZo9sz4\n",
       "YqO+TrIWGMXKI4FHdpAv79EH9K9EAgAAAwAACbkAAAA9QZ8ORRUsO/8AAAMB6P8MKLzR3q/ABtV0\n",
       "AvgWQVhB0qIfOM/4QUMbFFDlukfVi5/BOOsgrQXW4AAAAwAGpQAAADcBny10Q38AAAMA0yEzYQRP\n",
       "uWzACauzR+v2p/7TRdQWfoCr32w7g2n65oWTvN/j+3QAAAMAACJhAAAANAGfL2pDfwAAAwLE9Bpg\n",
       "A+h1wAf0YL7ZFz4S4THq3YGzdfq7p6ODi6EC3VBzz4AAAAMAAtIAAAGtQZs0SahBbJlMCCH//qpV\n",
       "AAADARnlrf4SgugBYJIk9/GIC/h+OwO8z90eS0B7UxSD9xA0xJWmjgbzskqEOBfYrwbbre1tJ5lb\n",
       "TfJv21gvaZKSBSBdazSzoix6t3Snh95MseYQOzLAP6YQjfREUtnmNreffA1ScwAC5wfgHIn8/Cud\n",
       "Nh//xEqTLsyuiKm/ieBKZO+KkW7+cp2wL6FelJx/rQsJlz86Cf0B/qz1HoySqbJWc7iB/wzG4MTO\n",
       "ASNg7XemkZ5pJdfQPMXBvH2yRF23dJfVc1Ik0FpjhfHwEDVuckITvCj5CPGRCaChK5lmnUeGzEBf\n",
       "yPe7iJGZtPkEpwcB7RUZDcsCKw1IsSxxGaKc05Qcj9FLbygfEy9lfTZK2gA27iLlgJSu+cNsMuGQ\n",
       "PPnLDDBig/5G+tkhQT3WtFbgsHyqM45BmAnygpWWw9n14xIUljmo5W6v83LZzCfOcwlTyC/oAP4j\n",
       "xBX3cjM8FtSdw0WbkYh6Q7Bg3CrOcWf9B+4xe4cwbybatvwcDulrPM3WLkzGva5J8YKsRFycomyZ\n",
       "y8Dl3e+gAAADAAADAFbAAAAASkGfUkUVLDv/AAADAiEf11+Wybjz3yfgARB8NQ20uL/GAD3NVvKz\n",
       "fwrECk3IBWUce2/Jmk1Myy7ppIE80bA8X2RhHVFAAAADABcRAAAATAGfcXRDfwAAAwLpEAyggS4A\n",
       "PcijXIVyW11aON4EkN4nqm6bYfv1A5+Vo5GtxKNMP8O2maR2Wsyad8+jg1dt0TRhdarLEAAAAwAA\n",
       "N6AAAAA9AZ9zakN/AAADAxBdFmZ8AH8HDW3FDz1eTRieLOa8NG4znZJEognqUc7QKD3NGnvrZ2AL\n",
       "jh+7gAAAAwABcQAAAHFBm3VJqEFsmUwII//+tSqAAACQFi4KuTn0RmFmAI74JK5dxpzvcUkmLeYl\n",
       "EW0PC/zXIVp9n7iRKtR/WLha2I/aBD0JZiV9XUEZQ/onXkFnQcZ6siIfdrMWs73OctmIW/CD9rbA\n",
       "VdKdlEm4IAAAAwCDgQAAAflBm5lJ4QpSZTAgj//+tSqAAAChf4gR9/tUqa7dlf2F1K8E/R1cpvwa\n",
       "UOHxYy3Gpm2BHTtZdMrBg90nC0blcOfx/k3/VFOFnOYZONu86J8qpZBxaeGBtzp2nBngDSrQ1KeX\n",
       "orl3JBmtHyU2wGZlKReomMALY5h12iN43Gb/tolkPPaP7yO7RiLuHUQlqjUR6fKMPRBmkoIJln7w\n",
       "Gsh3IjG08JP6yfi87sY+Lzx2k7OBnJYgLFYWTNzh5QkYKDSjvrLUGVmPIr/zmbapyCdinpjnBcCg\n",
       "TuMKIj8yKpz4dMjPL/5KunE1k82lM6akjE2orWMppT6zKPgL6R2GYcnTCJR9bETC7Pjfra6cmuxL\n",
       "dHt/HJQqlxVka2u1ELMVSm9zjwmcl7Fe+bib9MtAyd1TxwFuGaA3oAiggrn6AhmiurwzJNiCLKWy\n",
       "JQ2iv8Ffu2j7vlBLKKUY5PgvleV18GVJeXxjz8ZUf1q9hafmRh8ZLrgpmnpVu1NewnpvM58aEwlm\n",
       "Ur1OJjVAacJiD6pcaQcaAZWNEbaSg5or49RAQaK0cKVZ40kHrUUWBrjmOpDJl3Y0NSxbUHaTaSC+\n",
       "DNZ4itjeMUV0BA0lfB6k7VYJziAJDh1y6d7aU7dMvBxviDVktaKNIAFvfOfNIuLuwKCUVY0Zpx/y\n",
       "tFtsqNu4KfKgAAAAM0Gft0U0TDv/AAADAlqjQgYsmx0rC04wtStI8peBixt4ZBoxqm+QvoY5Q7Y4\n",
       "AAADAAAZ8QAAAC4Bn9Z0Q38AAAMDYITMJMz0Thft54+ADY0HeuAYBv24DclbHIgSZmoAAAMAAOmB\n",
       "AAAAKwGf2GpDfwAAAwNgAYlszP/aAaWRk2+DGmxeywnML7lnPiY3GyQAAAMAAdMAAAJSQZvdSahB\n",
       "aJlMCCP//rUqgAAAkDbiAAlAq97EM7yi77ivdQKcB6PKQ7baBMQuFS9fV4kDe7IE+SVav1lUDRyQ\n",
       "3r8TzTcZB1fI3Tc2myDHW902/kIvbvl3sssIVP0h1y1QhIPQbOMxeQ18oHWD/DQHhtD3d7fPGkmR\n",
       "+sX1qi4OjCukACJzuzMfmoQTtYXMI/0E8j9IHdO0f5o/JOVKJixvw/6/D43dTRumHSMCs+fmDCMI\n",
       "nbLNk9z4YfQf9mqDHZfU3vODEvW1D1X5Tk/7ezWJVjuQwAWRLb6jozxEm3D3vV0OPPqH7gRRF5Ai\n",
       "ufxi3o54eeaP6E6n9KLm8Rz9HHEco7kX9yUFQju+81uhu39muDJRBIZi3Jh9q60W+bWzZv0t2Ol7\n",
       "93dzLO14u9vYhOkU1j/oMOLPQflJftQV2NBELziUcL3OiNrHsA9GG+SVs4kh/CWXgVPVMlyjWNrB\n",
       "WfA/q3Vpg4FEinc9stF2D92dweGQ+GylQwdCdOk3c6/mKyYGIi8phxaJi4HfimztaCqBUZMyFwzK\n",
       "mjPG/RU1s40rQhDYapLLqF08nbfv81FLR5fenFqpnUb6Sdpbza3BqnnbUCLfzgyHRqEafxDGgpH/\n",
       "EHdF209l+H0ukDu2g3wMlYaUyaI4VcHmzVB8IRazsX9jd+YuBGO5pRzTkhd2GOl9mVmJbv6xOVfS\n",
       "2e+zKuGlod5QQurj7jyp8zprzzBnkKwB/s3HizOv49QYe4NNPEtG2qp7UH1G0eMjHtdA5fuaPgCZ\n",
       "IaoKjFE8kLM9cBcAAAMAAGXBAAAAP0Gf+0URLDv/AAADAM9tLZewYeZuWNUsAC+a6YXePhpezKQw\n",
       "hIfvzbKU5rthyEFtkiPMXnd37V0LgAAAAwABdwAAADABnhp0Q38AAAMBJbwpdwgAh+tZsOUipzAU\n",
       "nebXT51OfYj0ECbesiwb4GAAAAMAAP8AAAA0AZ4cakN/AAADAGILm+1ZNAAiBLusBALUsc3Woz44\n",
       "88ctCNnVPKsQGvH7WVjgAAADAAD2gQAAAlFBmgFJqEFsmUwII//+tSqAAAAFuKHX6eeXW7R2IFSH\n",
       "iiG2mUInQBwoAuRIijf8wwCvai3qvz9HHbMmOVOn+vwmAEXVUax9eOlTMhl+O/fkHvzYeDe5JkGi\n",
       "MZMomJ3xdPzwRml5E46uqh4QvN0XyRcf/MxJWhteLanl1bXAibNj+Gyjd8AezLUchpmIa2Bue6Yq\n",
       "3r2ZW5nUOEqHGUg/EAhpQJfIyX8g95DiEv6h3gbyfmxG1mjAwiWN8+/vBZsoTOkrh9SZBg4ESe/G\n",
       "Qmm9gRTgitaCAEwqdImggk5UW5Y+b71FRE3McZ6Ss0kUf+auP2AsBTruDKx+HR5LOfI8Dc2HWXRG\n",
       "ftcA9WzXTtfGi4tJ7ovJJp2t4OROQapy5Sq+zzjYW3G2hg7bGynFKKzqxCGsx5LkzG53LjZlkVLO\n",
       "985781aSmdIRXcvtWYPaIbZjzZXZS2rnDJ0D/pOqXFCMtNACIhub+3m3X/2zs+xdKnLOytgXuBC8\n",
       "47ZWI6L1Gjqc/kVsiZJGVy9Hu2cj9BaGoydv8cfMa9kI8FASSSkhcF8l17uLHb5wu/KscMj0zGcq\n",
       "R/D2gtdn8FCeKrpRNTusav9ag/ubQBfGpjnOrEqG5VERdAqTGDTdkM1XZzoqFPNl6cgG/ows4hhU\n",
       "hyiEMQPC8666ZdfmTQlKT2n/raQzS5fSG6g5aJDX1nzHhciM6e1uYexGvi3mGwoi/rkwNRUchZnv\n",
       "wx/Z8HeHrg3vpbojy+gSuENXgX45n1BP6sAADRtbVcrULlc/7e4AwbzydAAAAwAD0gAAADlBnj9F\n",
       "FSw7/wAAAwBEKVEFDPrPLh7UH01AfumAGvOdbxWYl+kwRCXzuCIMtjsTkSi2IAAAAwAAFbAAAABE\n",
       "AZ5edEN/AAADAGH6v6h3cdoNscAJZP/piUhU6dPqp82TbDc8hzRp1temLWD6B1blHS3qKGFiDwgN\n",
       "prtZv2AAAAMAAdMAAAA2AZ5AakN/AAADAGILr4Gel0QARBrjIqnQ4FbvPWR7fbmdGYMevaXjnOIJ\n",
       "e5f6yE8AAAMAAAxoAAAB2EGaRUmoQWyZTAgj//61KoAAAAMBx39DQAX3zCfgTbk63sdPu15nRWMR\n",
       "9zhMHz/dlrXHjUq+sS36yc9jklNmyLoDcK9UqIhqu9m+qQ/AvOSoM0mr2kZ+mTxXVX6c9ibiXtyi\n",
       "k/XdY0GaKL84e5PcgZtAefTl0MgD8LHN8MbcHMF9JJt1GQM9u2LddxGpDnZL4PKWxVbDH35BslPb\n",
       "YWJF+CSi8mvb2/2rg+5XdVHCfZrW688/OzXI21SN52RkRFU8gWYjM2KS1h7LhXw+b0RqAuFZ4lJM\n",
       "zAK5qItWguqWJ0IlQO8BUjqActE/CJvekFEHBIIQ6xIWQ3chf0Dgxv7wrUPzuhLUjdrftNuILhh5\n",
       "pR2GwpnCCSxVFJxxnz0qh7rvmhhUw02Itsdz5KGOqU92XxwvWfFBeIt6yDxWjXyrBgC0fi+PQda5\n",
       "z61IZxZbPvLyYrjksfd8/GzxEBSj4fX1HV0kWIsrEykzCDjFk3Pecse5u8VJcMHUPIQd3FZOrqmH\n",
       "URq+8t1+rra2GDvKRMb69MO7sc6Vj2+Z520B8tzUuZYhVJAGFeQwUmfLo/lUVFKm9sm0yDfLYLP3\n",
       "KyLKEmsRWdCyxYQE/3jwgIlfKPN3eUtgbGAAAAMAA9MAAAA+QZ5jRRUsO/8AAAMARClQ8ZAqfW/V\n",
       "JmN/txo/KhYAS1cwsQnIcaO+JjN358dERhNWcU5Zvac19cwAAAMAAu4AAAAzAZ6CdEN/AAADAGH6\n",
       "viDdslpGXAOEAE5ImcorJjXgBqevs7NE4IbsJPTWYu4AAAMAABSRAAAANAGehGpDfwAAAwBiC69o\n",
       "6UuxItOWRYMVNhNSw4APNmEYBWJOA7AfXNoGIpO5jyAAAAMABL0AAAGzQZqJSahBbJlMCCP//rUq\n",
       "gAAAAwABitu3QAXkcLLB89UWtLGLv46doOqfNUlyzfXBOVIWNhnfKRWkMsbiZcyymqCt43BtttQh\n",
       "cU3R3jib16LNLHBgKquv0KwQmmZEslUo3PQ6v34bn0FE5fKraYbgh9kLza49lryY6sSwJ+ABsw4Z\n",
       "k4TludUPkIEajuH+CW/FesX0H8H0s1N1mOb4oBqcvTNQEXjmRL5XMvT6pViXyPSCPCafCvcqFxQR\n",
       "FKSWRWJrfQahct9iq1QJOQqaMu+HDGKAmI0Q8Ftiv/lYgNQOnlcKiGwdK+N7rc2LiSoHw51nn1az\n",
       "hzU/uZ36Wm4tQHpGjLgcrISxDt3sJ0x3yOVjxd+7c/IK+36r0Ed1+LO/I9KAAJsIGr8m4iLt5NLv\n",
       "/LxxXqvsgH+7K82GqO/RNjR3c/+TtyOEjrLcsWbFgrCciQRMbeVGPem5Wikkd7j+ZMEcuZyxjeMY\n",
       "w5cKnwqUXnnIdOL1Jx74dmTnCOASggIijDETaIZYfC5kT80e2PuXdDU0jaQUk97MOyK23cnCKtNq\n",
       "ms2yXfwTBZlGAh6g8ikkAAADADPhAAAAYUGep0UVLDv/AAADAEQpUPGQKm+XkPhdtj9j859VfA1Z\n",
       "YSi3Wn+kVukmIqeVxQAlT9g+FrZsSGmXXF+eev9rhYXrGRY8k89AV6fezfuf9b2xnGKTtU5/xqmt\n",
       "XMAAAAMACpkAAAA4AZ7GdEN/AAADAGH6vhgVlZQ4HJ5lfW61fmcAJZQFrXMw7M7G1bfYROW6juMz\n",
       "zk1iqkAAAAMAFlAAAABGAZ7IakN/AAADAGILr2jo89rBLncMjCyKSca5ywgAuq5Lwt9xA0T0G/yE\n",
       "t18qWBSH8LcbgO6bqlSLPy1KxY04GAAAAwBXwAAAAdVBms1JqEFsmUwII//+tSqAAAADAAB6Dczi\n",
       "AEFuFfYIt6bkGggTjj/mw6M5hbS/csusk8L1k2Q8Mdxly2rcgvvapyrEq7NZ1CaJHqFYHjKTzMMT\n",
       "pRda2ARIfABMNCE0YGcSDLGmS/LlmX+nipxYFVOACmPz0VFtl1iQ8AXarFdClnfts9QkAifvekKg\n",
       "76bytHcWjGYz+EoXniOyeVyVgR9s4evReTM8mDTcO+ggrLZfrgkcE9ZzpViJZPhSP03hoLbqtd0Z\n",
       "I4y7k6a24mrcNGodBQZqx6e3NZCUPJyC44QzlLyISXV5j28oWVxWDVlNKxon7X1900Ca6xbi3Zbf\n",
       "Ht3LEt+S9/mRgiMFCkr4B9OTcBsHte/THZ6HE8zIEf4ogqI8Tv8kjkbrrkClG5QoYCrk3KZqXRVA\n",
       "Ry5/raIxGI28Q9411Ic+UHkYP5CkXEHz2ybrwY9/a4JBDm8KcYHAPJ8GE+qsPFJnsT50K+zVYxjB\n",
       "e0/2DPdzUX8klV1Ag7vOhV5wDDYfFkgzC2jII6BCwwX7975HE7QR+ZDmEXss/T5I1NhahD3LyXQd\n",
       "+93E106+KQaK3afAyHMgSFE0THk7t0ycNhV4xLxWD5wQafycxLcAVpoAAA4JAAAATUGe60UVLDv/\n",
       "AAADAEQpUPGQKm+YMPC7bHM77t8bfoHWx7ny6ImAH+9+AfH/+/wAlxAZjy7u8MSzbqvQoIiiseN8\n",
       "QT//y8YiAAADADpgAAAAOgGfCnRDfwAAAwBh+r4YFZWUOByuYThwMzFg5qf38Qn4oAEkAA5782yr\n",
       "AAQEJA81856RgJ8AAAMAFlAAAAAwAZ8MakN/AAADAGILr2jo89rBLncNsy1noEYIOn2XABvMYul2\n",
       "ifYSbcfp5sQAAAW1AAAB/kGbEUmoQWyZTAgj//61KoAAAAMAAAMAHoh4RAAfXKWfdbDPnhaEH0/o\n",
       "fWrg2rtPcsOxxkkt18ne0pzd87UYqKLhc3UHOsQPZr/LUkJZJQzrVL5IZY49j5fuX7kXFn4pkjrv\n",
       "CR3wki3jBWMTN7x2musc3DQseIUJ0+uMgNX/VQbapk9lx7/A5nSWRVO/JB0mYd2icXTotM4S9VLv\n",
       "ITU/xwFcIKl+HVpe+CI+GOsfJVlqnIjU4+hksTP0Cu9iUf0abjAK9Z3LiHC5VrlZZKhX0Yun7oog\n",
       "yanaC88XiwqFBFkNY5J0/WCpzpoP72vpHPQ/fOvzwD8wh2zhS1uMqu+kWiZcdIQKrJGn+e21eX+j\n",
       "HxyPhbSEfHHiTuIp7dUX8Kc5E0NXmz60PUrcZB/LUBK4KaNSiqJbFUmSKlTFilcb2kK04nt94A4D\n",
       "F2oAfwLka4Q9VBwuW2915Dw2Ycj3ag3kgBVbTspi7m6p1azKNq4lC7YGoTi+GUjfSt7GywZWVcxO\n",
       "p9c04CzEniqVjY0NqtPalHwZ3lDbux0oqGo/a/1z0AsE8DaPQ6GILBOdQ7cHZSmBQMqu1UcxvE+O\n",
       "52CBJurmAldx57IPq1NIaJcMlT93Pe4gsvS6kZcGSJ32Icrm3DxfILx18reFFy6LVzYVqR/hHFCi\n",
       "EA/n/frXeNe5QAA+YQAAAEpBny9FFSw7/wAAAwBEKVDxkCpvmDDwu2xzO+7fG35+ZfUAc+NsIs+X\n",
       "YY7QAOzQiMGE5qhcbg/SZz/CPtXLta/+9rMXM7M8AAAj4QAAAD0Bn050Q38AAAMAYfq+GBWVlDgc\n",
       "rmTPf9WiOczraFrV/4YHuMAbjl3VYJUG/PEbaQ/BdImjYHcANQAAAwGBAAAAOgGfUGpDfwAAAwBi\n",
       "C69o6PPawS53DbMNyGbv1ebdu5w6xHBtcAJQPD1xtdTDRIPzoMS+15ZrXgAABNwAAAHyQZtVSahB\n",
       "bJlMCCP//rUqgAAAAwAAAwAAF4jg2I3r4AuyS8qJPFf5/8gTo9vVJ/tPJ2/m/p+abstUYOIGZIST\n",
       "Gv0ZbT0U/T82HZIrhwSvbf/8qSk0a5VN2z+aurnNmlJ6y4Vf3RNScMdHpqlwSr6Yk2fyAViM7FEH\n",
       "paxPHVsQqXt2lda29mUH7W/OC3bB1Hmju+CvDKXNNltxxy7G35Usec/WMEBEVgMoPgFl11t5aX4N\n",
       "qADQSDfp6U4xu+KcJ5rvWMJjhzdhdcLFx0kV3sty3IG80GaLoPnzv7scrYBP7wWARGAGFyEvyuYY\n",
       "zwDWTgMWMI8FU7WmlDKLjMYwMwYCZV7r2GjJTIW5O+AdBZQO2BqQCGtSfOFuft0cahMUr3iM7kZy\n",
       "xaj8sxWhwrJ7CYZpAFo4zumtRwBRHgZzK9Dg17y4cc3njC2lqjluiblZJECAOrRO/50nKInreQLH\n",
       "T42Isq93The/HbijmkgBASTZHWS9ivfiBMoDp5tfkUM/4CRNI94E710v20LZlQKkHMSIyxf7oqli\n",
       "cu2swxkdpIz+5IuvXL33ZUBEIcAI4M7zt0+K0dUWlfU85624C6yioi8KJfzMCozCGKwrVkBWNgYc\n",
       "8YHxY/rzl1UTPQ+YL7YivPp7g0F4ochYXtQq26qOM052AFBBAAAASEGfc0UVLDv/AAADAEQpUPGQ\n",
       "Km+YMPC7bHM77t8bfn5l9QAjfRaeqGwjjwit8f/hgfw4AVcnJyB0wmo7W7jf/1jn5QyAAABIwAAA\n",
       "AEEBn5J0Q38AAAMAYfq+GBWVlDgcrmTPKBDQw35lmpzCACaKMZbzvpHG84ViXytru7lWEfbEmn1Q\n",
       "gA2KXayjgAAMWAAAADoBn5RqQ38AAAMAYguvaOjz2sEudw2zDchlBJWY9tcANelgbevPZZgLfaSm\n",
       "6z5t2u8C+jTyKd0AABgRAAACDEGbmUmoQWyZTAgj//61KoAAAAMAAAMAABbiavQCEfqysekUNWWH\n",
       "QtIS2fTKxCeuFSKcsNaeju7BmeI1fu66znH6dqqbr54rjSs75YKgp81HpebVuSNI2DIWZ8QMfYjA\n",
       "+1BtOaXKrOCGjYdzPPQlPGpeoXN6zs2lC8s+brZySlxMeaH88ONCtTfDAz9mGSOrSJ8yzy9JcKPd\n",
       "tzzXg3iHggVtgQAU/h9C/A9boqAjJ8byZqeqPBPJQ2N3xTgp63Jc8b3RBr6WcKHlDhifBApL2aU+\n",
       "sOpwkfEVFG3TtXUBpO0WyNC0aS+I0D3HrKA8cNfaL1rOSRAQDpsVkefXZqgW2ZGUsoFpfeY5qqSX\n",
       "fLXXKCkkPye1kF2Yo7+tMmDjlSJQltkEpDFoFQYVp5Gev9QYZilabFMvhnGyo840G5CCQ6S8pCXY\n",
       "yGHZcdSREA5wvXO++U3xSBKwdtrPHEatC2yvJDLTdFE/ictqSmsqR99Q67eTUl3LAWb1vzusvPLu\n",
       "22KIsRKmrrtHub3vt0omlSKakCeK2zTlyjLTX8Cb2NE1Pm6GEESP4tR4IUUdRbJoK60pKxavLs8k\n",
       "iEbTaBIGqUGG37Nqgw5um7ZeejULSFGiQ0CYA1tpGxyJ8B/Nq8wAAaLpo6x2eC5e1QBcmrJ/ZnMS\n",
       "ahu/9+e1fKTqiuv6C9yCO/wi3bezSE7EfcKNgBMwAAAAUEGft0UVLDv/AAADAEQpUPGQKm+YMPC7\n",
       "bHM77t8bfn5l9QAjfRaRwLEhloiXDaQAhsvr6vCcML/QVSfFtdXX9leFB5nooCDdPoe716zgAAbd\n",
       "AAAAOQGf1nRDfwAAAwBh+r4YFZWUOByuZM8oENAFqdPASADarkJUpJOHfMlSo6A/WGVFwdHEnFQp\n",
       "uwAHHQAAADoBn9hqQ38AAAMAYguvaOjz2sEudw2zDchlAG5tMEhUQAQ4hlOjpVvKNxiWDD81q4xx\n",
       "YuJg+DEQAM+AAAABUkGb3UmoQWyZTAgj//61KoAAAAMAAAMAAAMAM9t26AC9Fh6v/ZMbTAIgz8aY\n",
       "5kLUDe5QoxeWjKqpmTAptgukTFpYv9Uv858pNQk84/FFzrXhcirFCq0t+idcoxU3pN9ijcuUyQMT\n",
       "GZiF+upaOfq7H/Dj5WoRgRyUHMN/b41ngxEqvKsO2dDYbPSwCtXT7oejGUHgvj65KJQTNSS0XZHQ\n",
       "cGfaoYd9kZ4jsz0LPGV2mg45Yw1UfzNrFSzqf1sGj9LRR2aT0hyIbYag4F1RFyBVyGXb8cWzJzfI\n",
       "7gs9bqEz47tmc0DBoXdWvL+yJXCpEvrKa8Vtdh6ESRK9DVZPRe+eG1t1QfrWngH9PnKObA/JabEm\n",
       "9NhdNQWy43HhNAu3OXfPTZIaiUmUuYx7wkQbFcERnYFuuPBXOlXUEQCRlLoHaUSyCoIe2HUV56/S\n",
       "/4oS2C+RuAN7AAAASkGf+0UVLDv/AAADAEQpUPGQKm+YMPC7bHM77t8bfn5l9QAjfRaRwhczNZHD\n",
       "iA2sP5kFAA5y51/hExakeKe/zPR2cJLJsKxOgAEHAAAAQAGeGnRDfwAAAwBh+r4YFZWUOByuZM8o\n",
       "ENABuPzz71h6aULG8AH5yM5SjVMyyavsQg/eYoZyS+vZ6DGTwLAAD0kAAAA2AZ4cakN/AAADAGIL\n",
       "r2jo89rBLncNsw3IZQBuO5dPLmx2Fwqy37wgAh2/sI6G8vuM7NAoAB6RAAABtEGaAUmoQWyZTAgj\n",
       "//61KoAAAAMAAAMAAAMAKmTMxLt7XsyBBMP4fNQ11SM3ZylfYErppBDIKwDBxEg7dhnsslo0kMQk\n",
       "nwxZQt7RefBK1IhzynxICNf6H6jh7tNjC+vtPCMncXBnD+YKzDEsrIQnQZgOEdpGEK7VCGKOcTFJ\n",
       "EKdn16SFqsZpy2jpxHhCAWXYjMmTG9gS2YUL9d9fIeJnACfX0BC7V6Y6xqO5dwwRpwHiwEKfXfpQ\n",
       "YBYn2qVBmW87ffFbZuOB6AI4ndhwTDh4smhpHCDq3aK1wqQVM4d68LpXQipCyzOTINT+H/i0F02w\n",
       "dD495f6QjUYJM2aM+MA8dcfNbCEg5Z4xYmXpJ4ptXb2dlF4dJ1Ik9Y9PreGREglLtwFHDdFOtudu\n",
       "+XCnWlqoWLOKTj31S7NWQ3OFfavTDL7uOAindTipuZ0/PSU5yQCgGGVZu3dhLXZ+MyoDGocbm9bX\n",
       "kYHpj9rtfWGA+88k7qts3Ayf9Pf0SavRebVE8rBapAnSWlricvUYPLUfhJJpAhNJ17zokiJioZ8p\n",
       "8G03tR19lb33n9UEdXOZ6DtpBnVSyVwYB/gAAABSQZ4/RRUsO/8AAAMARClQ8ZAqb5gw8Ltsczvu\n",
       "3xt+fmX1ACN9FpHCFzMzymu02n33pkTYA/AsdhD20CULcqGTSLMnQLl+1ozfxDWDye0RXAALuAAA\n",
       "AD8Bnl50Q38AAAMAYfq+GBWVlDgcrmTPKBDQAbjwbSD67zru34M/5oAHGQFfgdkrseYbdjI+e7QP\n",
       "/1zZAsEAAVMAAABDAZ5AakN/AAADAGILr2jo89rBLncNsw3IZQBuO5cBt/F9gHd14AOLWs08Zi93\n",
       "Yc90ns4NM8a1wXqtatjYUyeYoACPgAAAAlFBmkVJqEFsmUwIIf/+qlUAAAMAAAMAAAMAAvHDf4J3\n",
       "KKW85KlO3G2nyt+Xonrf0xms6JPqxHQdJOthQf5/YkpTcpn7K4N5vEKTWVTm4MzYLS+RXcujvgvE\n",
       "/sLh4V2h2y0OHgSelMY5REYNFiXqiN/4y7Hm9DTmnxVGMtWsp27U2Fyy54JzPx8C+3TXbBIlIkrZ\n",
       "mAeQmYgeaFMGq25umxcAEpn7uKhtsS9UZYRCu8G+dsZ2LaS7Jwhm30R1sbc6lPsBDBZVNOtfH3KT\n",
       "vM4lKSZYd+zvUAMD6JA0oXgYeurO9Yj2OYJ8gC0/ygL7QS7Hced0OfSjWZ0rvKYYYh/J8qwRYbXC\n",
       "HL9DbyMsyfe8zayjZ95agX+376NiVn+DidrFDdV9GLZaukXPq/1xpQTeMzip2z49hJ0hv1yvo+MW\n",
       "HNMBkhOdL4jjncgvNT9x393Ez9nS0wd9BCVvGcwQO1x/Q7l/nREuGZHQvxvVpihF0HXtyMYtMXMd\n",
       "Qa0CKk1p5Qyza97o9DG/osyeGHtI+/tMnp+oRRrvfvga2Sm8B0/UF62coDyfTqTVxdxV/z93PXUa\n",
       "EFPjsoByulyVyxffOnYCH7gWx9IrnQYmM+XF2OKZotqCvlRMWmmIEC4TQkzPNVZzzkNZO1goCxsp\n",
       "16vXfqWMs2ru70qQwyddSWRrpFjtHykzV/JTQu+CRkXm/FNqsTW5AvqRSrOOrPQjFlpKB5w9FHLQ\n",
       "gbYb6y1MDBfixvWo9ad4BsBqxIXYFy4/3Gn3eggCtZc369wt3UITweU+O83BEwDAgQAAAFBBnmNF\n",
       "FSw7/wAAAwBEKVDxkCpvmDDwu2xzO+7fG35+ZfUAI30WkcIXU/P1f8XB0ETbQATRG60vkwLhNiuI\n",
       "6HHFHigtYvH+xSpV148YBwAR8AAAAEMBnoJ0Q38AAAMAYfq+GBWVlDgcrmTPKBDQA/gq7Wxy9RIz\n",
       "93+IT80ACSOhwOXEo7OAaLfaZ8AeWGAV9/BTXwigAPCBAAAAPgGehGpDfwAAAwBiC69o6PPawS53\n",
       "DbMNyGUDD967a4ArVXv4y4GJDx3djzn6IJb642O5+1sXidYpUYN8AAF5AAACMEGaiUmoQWyZTAgh\n",
       "//6qVQAAAwAAAwAAAwEJ5c/gncopbzkqVtk4VlHRZx9YcEvq9R/o0syDaKj+a8WoX6YTPErFvHyS\n",
       "+b/XMfmkf8Slluk4GzGzq8CsnBiVIpQFkS9K7ssBlNTsjQGi/KVC8iBkAUUjGs1wU7D1YmjN8cI7\n",
       "R1T80jo7xkngH9zUwI0YupvM0IbUEJHv7R3gPixVWncNAxgMVmFy/5yUTF6SR7DViFmi/2/U4cHc\n",
       "/RHzCwPDpuKfKxGlgh6MG4xQcNNxoc0H2QnMcrKTjUT6Nw5BJTYUT6OFIF1GOxj9PHRpFRnS6VZ5\n",
       "ejZh4Iqn9XXN4I+Q2fh147ysJhfRZQn80kxYFmqx2XhHzQ7J5mBjvQNfEHu2rmSx9nEYgAAQ9iPa\n",
       "/58dh9Qm/dpWXs7IkOPDgCMWxlwNOm2vZIi9xCWYZTokmFFgke5i9/I0XnM+MRpa/y26hWjWD4qr\n",
       "y3BTPLl0ohRn9bFPRcTT+k0zdPRJU2cmjJx9TKBGhihAfj3KXjdUdgfC4goRUemeIQUpROHU8l61\n",
       "RIY2ieSPcDchXNz0lCeD0riVpELLeTTSG5plcIXy4wsnN/UUNxNahgtFW2bKgTiybe6cXy9xIRDf\n",
       "BNhEhN1cH0wemel4Xsz3qJ7ziDCsr0nwFG8vHioHScVTdfzqIvpnrDrmJTqaeYqbEdN+i1tb7Ik4\n",
       "VuNIiWcNkH8/1oDtfxk5WIEdvkUyBXOFz9m7QVGIHyHwAHTBAAAAVUGep0UVLDv/AAADAEQpUPGQ\n",
       "Km+YMPC7bHM77t8bfn5l9QAjfRaShTRDREq+t2gBOtd6o5/hJoEwg+h/WseaoWBYpEAKo+C+EJDm\n",
       "Y0zwX0Fc7AAA1IEAAABFAZ7GdEN/AAADAGH6vhgVlZQ4HK5kzygQ0HE/UomuC9wAmZE1AUvHfliv\n",
       "Wj12DD81hR2jly9i6Mkc3mPMhO7+BFUkAAJOAAAAPgGeyGpDfwAAAwBiC69o6PPawS53DbMNyGYU\n",
       "iduYRHExOABxZWOoc1cefcTDuWt31LNk/kKAe9rL//eIABLwAAAAkUGaykmoQWyZTAgh//6qVQAA\n",
       "AwAAAwAAAwEIn2oymqgBPDciZmQqQR0VxNiVCToEDVicyDZ6lEdtzxdzJU7norEm9ikPgNxBG62p\n",
       "RjVbysI5CnOIxCCPclT+KkftSfP+cnxq7gXz+nIyX1VJ2Ic5BGe32pmXPjI576w5JBsN4uINOBnv\n",
       "iEWPAim+cFz7McygB60AAACRQZrrSeEKUmUwII///rUqgAAAAwAAAwAFL9pBtQIqPD4O+IwAyjDO\n",
       "N34B7oelJtaV1CZidHJ5fgA2+epRmuUdGO0p22qMi/NxW1p38g7B9C0bti6oR4ZlADTOcAtBl8OW\n",
       "DTdXBkk4QBuTti+Vpe4/CYUMUZ8VC0CkgQ5mnTfOBcQT2QQorrxGhvkmJ+esAAAVsAAAAVBBmw9J\n",
       "4Q6JlMCCH/6qVQAAAwAAAwAD5nzpQAUDB2QTBWe2Xkt+5M8IXbPYvPgNPbW5lMQa+nt9Tv63eZZa\n",
       "vvBaVX8iibZh6RD1hVcwH6GtyIVxnFechPDTzknBpI+kBSvWwm5ApIkeRmh3r5Z03aOOc13JCS2j\n",
       "Lblj76/IaZXOMr8D0/w7TU+rMpn+iwHrG7NG8KrDDbvfii2qwHw5Dfn/f+gcIhN/4meqWRN8JKJU\n",
       "vWSiST4hBUtuR3PsPL9vCYs+3zxoYsNWei2HkQyFhHNHN3Wqn8lvlz9utzt3C7iYcUY8Jb90W8yV\n",
       "E16qn3BjVC6CzmcQx5Yrga9W2/nnISt+K8m+29Qs+RjPuCXI+80LuVCo0iwdWww6MBwwzWZWwwD1\n",
       "qws4DrIEoCoPFVVHXdrA0Pd38ZHv8HNzp3lAHVm1AzR1Un3Rv1Tqh2JlFgAAGVAAAABVQZ8tRRE8\n",
       "O/8AAAMARCbR/Zg6ZOru++XbHL7635DWn5vvgnuBgHUoqaG2gAuq5XSNxjz3LAJoJNxRlXno6PiX\n",
       "teMYwUiGKphACcgJYSueyMSjAAAxYQAAAEMBn0x0Q38AAAMAYfq+GBWVlDgcrmTW/VX9Gj6BOe4A\n",
       "5aAzlbMtZOF2h8fhWjMYfz2kFRTOuzczvVHneUkcoOagAAZVAAAARwGfTmpDfwAAAwBiC69o6PPa\n",
       "wS53DbXnANztwuAFuoDTUyGuF2xBpor3nqXcGSeCgibJEVPXeCeK84zsshjD+XKYcoiwAAI/AAAA\n",
       "0kGbU0moQWiZTAh///6plgAAAwAABiqNgCAE0no85fXsudmsfmg7grterRbssCdzJzfCCd4H0l7Z\n",
       "GUkRaaRj4l0ZDdZdApEujLWeQNsFoBW/3m5TeqsX4FiCfGV4ILqEbz2FbTe3DlF3RLq7rKsdcIwa\n",
       "N03GbmduE/tb3pFi6rvp2g+VNxm2gd7GpWmR3lyAnBlGRKfDxwL3af4FfFKg5cwPJH0HA+2oIEM1\n",
       "Rz9obw+N+xbMzB4FG16nw0zIKNILRFbfPS9Z+HvimK8PU7QoAAC4gAAAAEZBn3FFESw7/wAAAwBE\n",
       "KVDxkCpvmDDwu2xzO+7fGwJtdh3kdmAJTJOcMALdgHVigWJVNElZWuAZ1RFuxQTdJmCYxiawAAMq\n",
       "AAAAMwGfkHRDfwAAAwBh+r4YFZWUOByuZSPbxy4CEHDCvIZfUiqwV3oWEjEXSA1Q39B6gABewQAA\n",
       "ADwBn5JqQ38AAAMAYguvaOjz2sEtUk26IdfSeADaoFwLIfxNvnw+r7jWSg37LPvpuHDZAGcE2EoJ\n",
       "RrAAAQ8AAACCQZuVSahBbJlMFEw3//6nhAAAAwAAe/F3tq6qQAbR0VQal5x0pYQQ31MJ9YQhVqXg\n",
       "6sFgI7eLvrbJedfSorJ+J+d0oHOjr90lDFs9sdHG5IvCOB3IYzl51KKAqFR0eNXdgjWhN/EyT+bR\n",
       "p1/QYJHz5h2QLR2F3+497Hm1DmtPgAAB/gAAAEcBn7RqQ38AAAMAYhTWAyveeKPMQyH8BwY7nEmN\n",
       "ssAH+r7PRJAD7USE7EwN4z63kimDvOAr+AYKPem5XbTZVt0WXpkvAAAL2QAABy5tb292AAAAbG12\n",
       "aGQAAAAAAAAAAAAAAAAAAAPoAAAhmAABAAABAAAAAAAAAAAAAAAAAQAAAAAAAAAAAAAAAAAAAAEA\n",
       "AAAAAAAAAAAAAAAAAEAAAAAAAAAAAAAAAAAAAAAAAAAAAAAAAAAAAAAAAAACAAAGWHRyYWsAAABc\n",
       "dGtoZAAAAAMAAAAAAAAAAAAAAAEAAAAAAAAhmAAAAAAAAAAAAAAAAAAAAAAAAQAAAAAAAAAAAAAA\n",
       "AAAAAAEAAAAAAAAAAAAAAAAAAEAAAAAC0AAAAtAAAAAAACRlZHRzAAAAHGVsc3QAAAAAAAAAAQAA\n",
       "IZgAAAgAAAEAAAAABdBtZGlhAAAAIG1kaGQAAAAAAAAAAAAAAAAAACgAAAFYAFXEAAAAAAAtaGRs\n",
       "cgAAAAAAAAAAdmlkZQAAAAAAAAAAAAAAAFZpZGVvSGFuZGxlcgAAAAV7bWluZgAAABR2bWhkAAAA\n",
       "AQAAAAAAAAAAAAAAJGRpbmYAAAAcZHJlZgAAAAAAAAABAAAADHVybCAAAAABAAAFO3N0YmwAAACz\n",
       "c3RzZAAAAAAAAAABAAAAo2F2YzEAAAAAAAAAAQAAAAAAAAAAAAAAAAAAAAAC0ALQAEgAAABIAAAA\n",
       "AAAAAAEAAAAAAAAAAAAAAAAAAAAAAAAAAAAAAAAAAAAAAAAAAAAY//8AAAAxYXZjQwFkAB//4QAY\n",
       "Z2QAH6zZQLQW6EAAAAMAQAAABQPGDGWAAQAGaOvjyyLAAAAAHHV1aWRraEDyXyRPxbo5pRvPAyPz\n",
       "AAAAAAAAABhzdHRzAAAAAAAAAAEAAABWAAAEAAAAABRzdHNzAAAAAAAAAAEAAAABAAACuGN0dHMA\n",
       "AAAAAAAAVQAAAAEAAAgAAAAAAQAAFAAAAAABAAAIAAAAAAEAAAAAAAAAAQAABAAAAAABAAAUAAAA\n",
       "AAEAAAgAAAAAAQAAAAAAAAABAAAEAAAAAAEAABQAAAAAAQAACAAAAAABAAAAAAAAAAEAAAQAAAAA\n",
       "AQAAFAAAAAABAAAIAAAAAAEAAAAAAAAAAQAABAAAAAABAAAUAAAAAAEAAAgAAAAAAQAAAAAAAAAB\n",
       "AAAEAAAAAAEAAAgAAAAAAQAAFAAAAAABAAAIAAAAAAEAAAAAAAAAAQAABAAAAAABAAAUAAAAAAEA\n",
       "AAgAAAAAAQAAAAAAAAABAAAEAAAAAAEAABQAAAAAAQAACAAAAAABAAAAAAAAAAEAAAQAAAAAAQAA\n",
       "FAAAAAABAAAIAAAAAAEAAAAAAAAAAQAABAAAAAABAAAUAAAAAAEAAAgAAAAAAQAAAAAAAAABAAAE\n",
       "AAAAAAEAABQAAAAAAQAACAAAAAABAAAAAAAAAAEAAAQAAAAAAQAAFAAAAAABAAAIAAAAAAEAAAAA\n",
       "AAAAAQAABAAAAAABAAAUAAAAAAEAAAgAAAAAAQAAAAAAAAABAAAEAAAAAAEAABQAAAAAAQAACAAA\n",
       "AAABAAAAAAAAAAEAAAQAAAAAAQAAFAAAAAABAAAIAAAAAAEAAAAAAAAAAQAABAAAAAABAAAUAAAA\n",
       "AAEAAAgAAAAAAQAAAAAAAAABAAAEAAAAAAEAABQAAAAAAQAACAAAAAABAAAAAAAAAAEAAAQAAAAA\n",
       "AQAAFAAAAAABAAAIAAAAAAEAAAAAAAAAAQAABAAAAAACAAAIAAAAAAEAABQAAAAAAQAACAAAAAAB\n",
       "AAAAAAAAAAEAAAQAAAAAAQAAFAAAAAABAAAIAAAAAAEAAAAAAAAAAQAABAAAAAABAAAMAAAAAAEA\n",
       "AAQAAAAAHHN0c2MAAAAAAAAAAQAAAAEAAABWAAAAAQAAAWxzdHN6AAAAAAAAAAAAAABWAAARJQAA\n",
       "AbQAAAA3AAAAIwAAAD0AAAJiAAAAKgAAACkAAAAyAAACQAAAAD0AAAA9AAAAOgAAAkIAAABBAAAA\n",
       "OwAAADgAAAGxAAAATgAAAFAAAABBAAAAdQAAAf0AAAA3AAAAMgAAAC8AAAJWAAAAQwAAADQAAAA4\n",
       "AAACVQAAAD0AAABIAAAAOgAAAdwAAABCAAAANwAAADgAAAG3AAAAZQAAADwAAABKAAAB2QAAAFEA\n",
       "AAA+AAAANAAAAgIAAABOAAAAQQAAAD4AAAH2AAAATAAAAEUAAAA+AAACEAAAAFQAAAA9AAAAPgAA\n",
       "AVYAAABOAAAARAAAADoAAAG4AAAAVgAAAEMAAABHAAACVQAAAFQAAABHAAAAQgAAAjQAAABZAAAA\n",
       "SQAAAEIAAACVAAAAlQAAAVQAAABZAAAARwAAAEsAAADWAAAASgAAADcAAABAAAAAhgAAAEsAAAAU\n",
       "c3RjbwAAAAAAAAABAAAALAAAAGJ1ZHRhAAAAWm1ldGEAAAAAAAAAIWhkbHIAAAAAAAAAAG1kaXJh\n",
       "cHBsAAAAAAAAAAAAAAAALWlsc3QAAAAlqXRvbwAAAB1kYXRhAAAAAQAAAABMYXZmNTcuNTYuMTAx\n",
       "\">\n",
       "  Your browser does not support the video tag.\n",
       "</video>"
      ],
      "text/plain": [
       "<IPython.core.display.HTML object>"
      ]
     },
     "execution_count": 47,
     "metadata": {},
     "output_type": "execute_result"
    }
   ],
   "source": [
    "HTML(anim.to_html5_video())"
   ]
  },
  {
   "cell_type": "markdown",
   "metadata": {},
   "source": [
    "### Animation des trajectoires pour le système Terre-Lune-Astéroïde"
   ]
  },
  {
   "cell_type": "markdown",
   "metadata": {},
   "source": [
    "Nous animerons ici que la trajectoire de l'astéroïde, la trajectoire de la Lune restant la même par hypothèse. Comme nous sommes ici forcés de prendre un $dt$ très petit et que les animations prennent du temps à compiler, nous n'affichons qu'une frame toutes les 100 boucles. Ceci est adaptable avec la variable $M$. Nous animerons la trajectoire que sur une seule révolution."
   ]
  },
  {
   "cell_type": "code",
   "execution_count": 48,
   "metadata": {
    "collapsed": true
   },
   "outputs": [],
   "source": [
    "# T = 3600*24*4   pour animer jusqu'à l'éjection (prendre alors M=1000 un peu plus loin)\n",
    "T = 3600*4\n",
    "dt = 1\n",
    "N = 1+int(T/dt)"
   ]
  },
  {
   "cell_type": "code",
   "execution_count": 49,
   "metadata": {
    "collapsed": true
   },
   "outputs": [],
   "source": [
    "dataLT = numpy.empty((N,4)) \n",
    "dataAT = numpy.empty((N,4)) \n",
    "\n",
    "dataLT[0] = uLT_apogee\n",
    "dataAT[0] = uAT0"
   ]
  },
  {
   "cell_type": "code",
   "execution_count": 50,
   "metadata": {},
   "outputs": [
    {
     "data": {
      "image/png": "[encoded data removed]",
      "text/plain": [
       "<matplotlib.figure.Figure at 0x7f1d5b6f9cf8>"
      ]
     },
     "metadata": {},
     "output_type": "display_data"
    }
   ],
   "source": [
    "fig = pyplot.figure(figsize=(10,10))\n",
    "ax = pyplot.axes(xlim=(-50000000,50000000), ylim=(-50000000,50000000))\n",
    "lineA = ax.plot([], [], color='r', ls='-', lw=2, label='Astéroïde')[0]\n",
    "pointT=[[0,0]]\n",
    "point = ax.plot(*zip(*pointT), marker='o', color='black', markersize=3, label='Terre')  # évidemment pas à l'échelle!\n",
    "pyplot.title('Animation de la trajectoire de l\\'astéroïde')\n",
    "pyplot.xlabel('$x$')\n",
    "pyplot.ylabel('$y$')\n",
    "pyplot.legend();"
   ]
  },
  {
   "cell_type": "code",
   "execution_count": 51,
   "metadata": {
    "collapsed": true
   },
   "outputs": [],
   "source": [
    "def trajectory_ast(i):\n",
    "    \n",
    "    lineA.set_data(dataAT[:i,0],dataAT[:i,1])\n",
    "    \n",
    "    temp = rk4_ast(f_ast,dataLT[i],dataAT[i],dt)\n",
    "    dataLT[i+1] = temp[0]\n",
    "    dataAT[i+1] = temp[1]"
   ]
  },
  {
   "cell_type": "code",
   "execution_count": 52,
   "metadata": {
    "collapsed": true
   },
   "outputs": [],
   "source": [
    "# ne met à jour \"lineA\" qu'une fois sur M\n",
    "M = 100\n",
    "\n",
    "def trajectory_ast(i):\n",
    "    \n",
    "    lineA.set_data(dataAT[:i*M,0],dataAT[:i*M,1])\n",
    "    \n",
    "    for j in range(M):\n",
    "        \n",
    "        temp = rk4_ast(f_ast,dataLT[i*M+j],dataAT[i*M+j],dt)\n",
    "        dataLT[i*M+j+1] = temp[0]\n",
    "        dataAT[i*M+j+1] = temp[1]"
   ]
  },
  {
   "cell_type": "code",
   "execution_count": 53,
   "metadata": {
    "collapsed": true
   },
   "outputs": [],
   "source": [
    "anim_ast = animation.FuncAnimation(fig, trajectory_ast,\n",
    "                               frames=int((N-1)/M), interval=int(M/2))"
   ]
  },
  {
   "cell_type": "code",
   "execution_count": 54,
   "metadata": {},
   "outputs": [
    {
     "data": {
      "text/html": [
       "<video width=\"720\" height=\"720\" controls autoplay loop>\n",
       "  <source type=\"video/mp4\" src=\"data:video/mp4;base64,AAAAHGZ0eXBNNFYgAAACAGlzb21pc28yYXZjMQAAAAhmcmVlAAAtiW1kYXQAAAKsBgX//6jcRem9\n",
       "5tlIt5Ys2CDZI+7veDI2NCAtIGNvcmUgMTM4IHIyMCA0MGU3MmRhIC0gSC4yNjQvTVBFRy00IEFW\n",
       "QyBjb2RlYyAtIENvcHlsZWZ0IDIwMDMtMjAxMyAtIGh0dHA6Ly93d3cudmlkZW9sYW4ub3JnL3gy\n",
       "NjQuaHRtbCAtIG9wdGlvbnM6IGNhYmFjPTEgcmVmPTMgZGVibG9jaz0xOjA6MCBhbmFseXNlPTB4\n",
       "MzoweDExMyBtZT1oZXggc3VibWU9NyBwc3k9MSBwc3lfcmQ9MS4wMDowLjAwIG1peGVkX3JlZj0x\n",
       "IG1lX3JhbmdlPTE2IGNocm9tYV9tZT0xIHRyZWxsaXM9MSA4eDhkY3Q9MSBjcW09MCBkZWFkem9u\n",
       "ZT0yMSwxMSBmYXN0X3Bza2lwPTEgY2hyb21hX3FwX29mZnNldD0tMiB0aHJlYWRzPTYgbG9va2Fo\n",
       "ZWFkX3RocmVhZHM9MSBzbGljZWRfdGhyZWFkcz0wIG5yPTAgZGVjaW1hdGU9MSBpbnRlcmxhY2Vk\n",
       "PTAgYmx1cmF5X2NvbXBhdD0wIGNvbnN0cmFpbmVkX2ludHJhPTAgYmZyYW1lcz0zIGJfcHlyYW1p\n",
       "ZD0yIGJfYWRhcHQ9MSBiX2JpYXM9MCBkaXJlY3Q9MSB3ZWlnaHRiPTEgb3Blbl9nb3A9MCB3ZWln\n",
       "aHRwPTIga2V5aW50PTI1MCBrZXlpbnRfbWluPTIwIHNjZW5lY3V0PTQwIGludHJhX3JlZnJlc2g9\n",
       "MCByY19sb29rYWhlYWQ9NDAgcmM9Y3JmIG1idHJlZT0xIGNyZj0yMy4wIHFjb21wPTAuNjAgcXBt\n",
       "aW49MCBxcG1heD02OSBxcHN0ZXA9NCBpcF9yYXRpbz0xLjQwIGFxPTE6MS4wMACAAAAPAGWIhAA/\n",
       "//73aJ8Cm1pDeoDklcUl20+B/6tncHyP6QMAAAMAAAMAAAMAI/wLkC83lWGBYAAAAwAz4AkQFQ/n\n",
       "8eHkuuICDuTB0cNCCu9EESwlXFUT3CeN5gOfEqIv1uIcqa/Gb55Oc9ZsI5xSNcwb2cnfEf1iWt6A\n",
       "m+z67cDwCDguluVdSgHed6mQBr32gKg40+AhaQOmGG1HVABDZ50NGHDCBwa5E0VcCcXsTYp49N56\n",
       "nekt99HKOBsywDWm3VPa9eb2ZDmDK6/QQ2/jy/mpisrRLweqsyOczcyqdz+U1W4uqH+yPdo923zc\n",
       "yuuwpgvXvr8cCCkiOE7W/SS3w8GOR3zdlmkGRTTwC7CX/ywKMi18C6DPt/l6jpVDJVWMYQ8lYOV3\n",
       "1GGPwRCihjqApfIAcWxqM8undMdetuP1mWcf5XtWv0bEQdcJfp4mxXo7zWpcO4EksxebfLiVH86V\n",
       "CJfFl7OKJofnit9dNLoahAZcK9IYg3XhCn06p6yTw+xY1HVEv37bGIXFhjisZtp1tsWhspJ1sSci\n",
       "P0J5uwrvzfaVShjkLr0bIJlnmt5Qh3+NKrOoSpANxGpHNWTIVtz8NWtPwiL5GXw0RufjGYWKmPVq\n",
       "c3So5NUFYgyZmKIaCplFgpxqLENvBPlp07e+QP4mabgtzxB8NzlX5MSUshhX5dtkAH63ljKVEeeL\n",
       "ybO42+x+ml24wJY7Sh0rBhYk57JwxiQhN1Uhn60uZpP2h4WC1vNT2i2p9AmFn3G5sKFgbl+7tDwF\n",
       "RnQC7PhZ8JIRo94T32fqApTnVyINulWeYBvvl4J3gX5bwV/3igKmAV3nKV9ogfQJzI7UZq4mjhMA\n",
       "TGfKWZMIf8SiWytghA5Tg9SYb1lpIZfoewGTCZglTlo/FDeFgWNW9ml7fsSwTP7UX+xS556cfbtR\n",
       "/L98dBL2WPzHRjHTOrKzDVRzjdHznQh7qbilyLzBNgebsj9P6XMHV57xgj266Ouoi5RPwmb11tW4\n",
       "g4m+Ywh2DqHf3OK9NvMH0W52LP5pRK2imak1EsQ46rTJAjEEYgJ+69ZTbn/j4v5gAYXAssyRqzbx\n",
       "9RGOF6IvSP3awZBSNMQKfx5Xdtsq1CHUBIb7U7L7MOgzaf06N1VzOeS4MPkADbQxbPiDUISfi2dm\n",
       "fmBZpa3OxsN7EjWRN+E6mp32PYdcAtGui4vLbl6x9q+gw4IkaxHiEgidJuNfeM+pgI5dHjzh4v99\n",
       "j1eyIsolX9aoVEfKTOcp8L8WqE212gC9jKLVqGaBZAzmRAHzG5x53vySAPu9/H8oVB0VVWQpwZmX\n",
       "A8ypuc5WWZ/2m87SEoseiTqFnxgDHs7I/37HpDepjhCkOVr5Q3K2W58fAIOpzCpCziotOnllVNxQ\n",
       "bShBkKGLF+jhGGVro8t/vzIYSbnjrPqms00bANG6KKPR8tMU8Ax9YvcyKFEfdFiYGDPnhZYAF45f\n",
       "+kj15OYg4+lnnW6VABMTgbqY0XaZA8LHyQ64XldlK2LjKFEchuhoH/AKdn0q0r17rj81tffYaiPE\n",
       "uuFy331VcchD+gUsD37M3NtW50HOuSpWtXrY7fTW88rz6XP0l/bKwUgbD4J85C39r12hVUAJDL+L\n",
       "jsajY1oJMitM92wK0QVsnOPjsr9VNIhJLZODtIUkPistUPvxxlCRc5pmflY3KBZatms0de98dOzq\n",
       "C6DkluJwap2JNh0iLaaS1Tn3Oq5vNXq4wBA9ciIEhAchh36/R0KlANRZUmAi0BN/rGSfVnzWwqoB\n",
       "8Wf0+YRoX+T+Qp1PVWxufciI+Lr6Lidklc/t2OKw7lbEICCOFZVou7vnaFuVm4oYBp7OR7k1eAib\n",
       "d2K+SFqOa5HLd5nr39Jg1AgyPmW+i49N2SOlwD3gb6p91D4jLcIDvK6lDPNAMT791e+7WRCTyhSL\n",
       "8cNMk8OM2lIO0Zqui4DsamsyIJ7+AzBQlPI+2oFVOH3SRffazy5V+ZbK61cQfuWTjjb0gnJPElus\n",
       "oeK0hcjPXxibpzWhtoUDpGRXwCTP7+kjVlLZoCGIwNoN5qFLBKKzvL66f3GibSNn+UXR1b2fh1v4\n",
       "b6hNLMhLcPfP+1/Ggxp5GBOv/UTkO2KCxgItkL87vAem5Bm8AQ16YzkhePKXXQ2hGFYVUP7OKkqD\n",
       "jxCwJodadzc2QsQCtXfbY3HYUHctAGceNC7+xI8fAfOXn/7Nj8angKAoLSoLXFZybDwGrQSfoil6\n",
       "rnCAN/PMvkhWGr1zIY8vnijUD3i+HCXaOHWCOHO/yLA0TWdoVKhDxySCUEX6p3jkkaYxYz3G5r1p\n",
       "22NzLeH2iT47gZ2pHoC7lWWrWKaiidJT9x4v3JgAAAf7qC9IpcxGUwRJ1rNUpvvHN7h6cKnhfZdq\n",
       "8Qigts53qTJ6F23sgWGEoc/VIzy5Ap6RaT5JgKP6d7/oIMgSfMidiermYIAEPQ6GI1Z6+E6fyOkY\n",
       "JHNweOd24vnSKhbrpj3ZtJAvV7y8JH2BR19wyVlOsJ91o+xHUXDY9DemcanpNR8Vp7PIBfKNzOoY\n",
       "wpiirgMh8Bvy6jFJbwEmPKThaHeKk7l5Ijkp33JZg+5K8VwP/7xZDupjjMbrCFbx0tZnACsvupyv\n",
       "nrSiGigEdaxvSi5RCUsdqMt6/8yqgSZKwfFhLnLY+aZFtbAIrt2ygCChu1FLQivlCArtznoCg2Nv\n",
       "rf817TTgU9wxcRX8uHBy64FEI4qw3cKzRRRLgdLqxD0jEnS6Ocrsc8LKDvclNqvosoxDUwJSGJCx\n",
       "OF3J7g77oRNiO/pnjPJSOPTc+iO7mQwLn6WFFyd3vdIMtEeoICPFYcFHW0s3yt8MIGcmTo84BKwM\n",
       "AAI+dTaz7fTgqo3zipI+iCq/0cSpGRHciWgQzVkl8Z8WBqG6MjSR5CQzg8lgUK2kFizhrV0ORx1t\n",
       "yzoxcHn3H65b2NqGo0At5MLRmSfGWwuNon5twyefawj5bd3SDfh2fhJ+wZhvpiZ5PbavlMKlUf2x\n",
       "XxIgRLaOMVRDs2pmqAZL7BUONp16Pl8yMiK613/ipP1nbY8RwW9++FNgasoqwZ+8K+VlTDg4lmIr\n",
       "OzqYw4UxoxXKyJhfxqIcSu1CdV7TVZmT5N7ng0heHfxey3F+ahGEHPkMePLw5GMWYsGcgdpS4zSo\n",
       "l7P+0b/sW+6x+Eq7tY/26yl0u+g8zN1Y63T78yQqU9154dpjJtMkurGnNxgN4bEIwxU+oNTEU+/m\n",
       "jNFx/0nc3QfWAiU28G/qj7eVKOecOGGiaMMWY22TP3TAkinpk66TIAuEeNcSO/9L+qfQ61+9rxDW\n",
       "sjhNXMYxPb3EGqNf3NAiXGwkCnxwgAXZHAAHHBegDuDjrOHi41TXjhXdwOHqkKqlWyvXO5+nd0GX\n",
       "eXHP79byfSbZhraTtBrzqQPfpmMEpW+ueuOvYXNzhjzTAN2B2qrLrEst6gANXrGhDonkglIWtRBz\n",
       "wf2/51oYynLTuDl7QANgS2oAEzAfQDYQ/wDdlHwFbw3wMmgIggnr9TZA/X1kqSQvlXOyuIyxUmVt\n",
       "H2JGICjrzriICxl9vVPbjGsl33SDt7izGg84SFcy47VwdH60Uysb3a5yh2N9lp26S1eXzkrCmAaM\n",
       "v61v/xhgQ8vVEP/hx27YrQM7unSFaRxrjxqypRROsdPm+x/9wf61OgHjdcBFB3Z0mWvG8kGVACsC\n",
       "FCxEMbzpBdePOs6VoMvRQanTL3yB/tRmudpMIt1Uqem1CvJCiPfOyFYS/77QinrbinSGoSae7jAm\n",
       "5wlwAFtumAJ7s3AeOqABqFJoGLkFNTyppPkTq62Yd4hdq3fqU8DKdMbVoEARXsmL+YpHkVePJBUj\n",
       "74zfYM/c7ygLDCQr9q58OAUD7DTKrejEOnjwhxP4Rni8xfs9LaKT+rxsT0tkI/I6pWKjB/ViiQ7z\n",
       "g+nr23S6S2BI7x4ZwGNBXCe+iTwEkv9W9F2j84CdDjcSH8QADjHdAAO05YAqQp0CeDtwMXF1A9n1\n",
       "3Rdi1SbYuxBlf4AmLux+HQQMR9mEvfwAAQsnklugfIyEY9riX0rxUO5/85DlFM53P5KzJM9SzPjN\n",
       "BZ80FX2WkWcDBtdl4CFldvFcJqarzRS7/UA0j5e1sIc2KPcKvQVbgHr5tgBT1NgJhHzei1+yRaaX\n",
       "N+fErUuVv6vypQrpDn2kiuEno4fIkNSP2Jhzl7I8Daqf1wglUMbavbmmTjtKsdxt4gbqzfR8B83R\n",
       "xAXQoWoFM3NFXlBN3U5Ev/0ljkOyZH7wXJtYK5y/7IEubja+7DVAtb2fle1dR/s2ex13v751yTKV\n",
       "kowN1lj27R4KTjC1ax4lh5HETyCRKAsGHm2+o3H/tuoI4NXGjZ1Q/fNBtiito1seV56d4ykcDHff\n",
       "EAs+i02tDyKXTNSbfKwH+bESsaQVijkWrcrDz5lKuuzZ2Vaf7fE2vTC3m4wvbHHHuZKBHUYvf+tO\n",
       "uAU8J7IHNoyD7laJE/ioM+9x+R21yHrQLWZllvS5kuGXUeTzdjGjJlPmNCG76FggAALUk+u7v3yy\n",
       "2mdK9hA5yWE3Hw4Sm1MedjxoNkEgnwgd/rbUZyFe6X+CAnO2mKZ6kel1GGS1hbaHQrkk13/UkVz1\n",
       "NKWLWqKYgUs+Q7n//rX5R8m6QVt+cbhxlSYCu/b6BCgyGse+FGQQHb1Ej+KpE/DUoIKBbrgrVwSX\n",
       "1cU9LNwX4S/c90YB7EsSZdS03yx7tNV21Fm7lLtG2iTgTIFFywCtkpQag9qfNVSUAyURdvMr0Zf+\n",
       "n1ifupAOK4KbRGasqayuMi3Sm0pOP4KbV7BZupbwzWdz6PybUWGgwaASqRRFbNRYphzYCLl2Ovx+\n",
       "p3K5+mUibjcIHNINSQ+d5d/kPWIT+sCCqzGSqyLDFvSSay5jHhx7uT797FK0f8qF6lSH/OzVAeDc\n",
       "nnjF8/oJDEbYdo+tTUSZxFHVy6dX4w6yiYrWnlLgU95P/H1r4v+LIRg5+CUiua85HAppDIP6w+5S\n",
       "tGUa6oBJcP8tgIG1ZpqudW58D7YK4ggERCOxAAznUov4kUIq9TGMKw0D2k0vfnC0kATchBGw/ndg\n",
       "jo2Tjwg5EATNbZRlKgDZKGishli1rIi5zWPIMJhqTPPkbK9d8gALgCpRS+g4w+NzRBvm5IdGITP+\n",
       "oKd6Q/sFS8rwAAADAAANSQAAALVBmiRsQ//+qZYABdxfLQBf7afNACK4MiwAuRA4xjhOmfxqid4G\n",
       "YqCi+XK+5Lpb9XWpOMRcsOyQFpnuUiFkUQist5mXOXKuQd+aYHER9HgJ+1SRyGvtlJqGq/lTmcUt\n",
       "E/Xfl9HGR132tcvkg8fKri+y9oCqPp6bQ5j12E187iKoJ7Bv2yVkuRlAioETdUqn68y4RwAZWfJV\n",
       "nrEtFui1vy4XdqAAHtsidao/h1ruLqAakAh+XvKuAAAANkGeQniGfwAFHUNvgomwXN+KF9fj7Gro\n",
       "4+dQzIrkNCAIwN4LP5puwsI/2Ep6SAAcNVQahBY1IQAAACkBnmF0Qr8ACWug+wAABYjSxYAiQY99\n",
       "xly84W/ChRalRaeYAi67DUAccAAAABkBnmNqQr8AAAMAAAMAsVf2SFTLgAAAAwMLAAAAU0GaaEmo\n",
       "QWiZTAh///6plgAAHT8U/nSYuUMDINfGT7col6EfSsHnGXpmU/DABvxGMeBf/SaYbDT5mUhVAM8v\n",
       "InRQhkJq4tSSXpoH87BQAAADAIWBAAAAHUGehkURLDP/AAADAAADAF9+LpukFXAAAAbSDAbpAAAA\n",
       "GQGepXRCvwAAAwAAAwCxJhRFKIsAAAMACgkAAAAXAZ6nakK/AAADAAADACj1/GwAAAMAGBAAAABE\n",
       "QZqsSahBbJlMCH///qmWAAADAAADABnp4c4Ab8leeCVaAN5FspC+MmFu+KUPBjHx3leg5S1q2EMr\n",
       "fKW8AO4AAAMAAtoAAAAeQZ7KRRUsM/8AAAMAAAMAR3Xd7B2hJAAAAwIbdKANAAAAFwGe6XRCvwAA\n",
       "AwAAAwAo6YPsAAADABgQAAAAFwGe62pCvwAAAwAAAwAo9fxsAAADABgQAAAAQ0Ga8EmoQWyZTAh/\n",
       "//6plgAAAwAAAwAZ6eHOAHNJMPbJv30AvSkiuuDt9+ArZ09Wuh2T2UVnJXl1n7HwPcAAAAMAA48A\n",
       "AAAmQZ8ORRUsM/8AAAMAAAMAFsinwAssfs6BWTv7PXHwwAAACQUF0NkAAAAXAZ8tdEK/AAADAAAD\n",
       "AH8h77AAAAMAHdEAAAAXAZ8vakK/AAADAAADAH8Ay+AAAAMAKmAAAABiQZs0SahBbJlMCH///qmW\n",
       "AAADAAADAFC6kiAOONxDcz8MUpoaGqEnUG9HHr6UE2jlIHCM3svAVs6OgAEsD9BL1ZK98zXihuYR\n",
       "GeBFSe0T417y/u+2xcnMjfNvv5AAAAMAQsAAAAAoQZ9SRRUsM/8AAAMAAAMARW4rCsoQATjsDvqR\n",
       "Og6ysrOgAAAJ78qW6QAAABcBn3F0Qr8AAAMAAAMAKHX2u8AAAAMBBwAAABoBn3NqQr8AAAMAAAMA\n",
       "fxlKbq2fo8AAAAMBFwAAAFVBm3hJqEFsmUwIf//+qZYAAAMAAAMAUoZZBC36cdHxq8lk6T2RC7HK\n",
       "dADiIyTRFe2PnUfWtJ1imUjcXDdjELgf//zesLVfOC3r3+UQeDPIgAAAAwJvAAAAJkGflkUVLDP/\n",
       "AAADAAADAEV1JiHyWUEgA0S0XE6drIAAAClWS77AAAAAGgGftXRCvwAAAwAAAwCCqlQVdQciWYAA\n",
       "AAQdAAAAGwGft2pCvwAAAwAAAwCC3ds0NKsCJfGAAAAEHQAAAF9Bm7xJqEFsmUwIf//+qZYAAAMA\n",
       "AAMAUDbyu7qACaLMrPweGiP5yGSEi86D54Ur6K0vv97UV9Q15/EK710l0mYB1z09GxlKYf4KBtg3\n",
       "rWZyCRpr798dnO8w+AAAAwAekAAAACFBn9pFFSwz/wAAAwAAAwBE+6rUB2itrFCUAAADAkHLFDcA\n",
       "AAAYAZ/5dEK/AAADAAADAH8dAdPgAAADACpgAAAAGQGf+2pCvwAAAwAAAwB+6Pfz8ZAAAAMAHdEA\n",
       "AAA8QZvgSahBbJlMCH///qmWAAADAAADAFBYhj5hDAF664UCWPPS5518Pyk7YWkY19WCdE4bSFcA\n",
       "AAMAAEnBAAAAH0GeHkUVLDP/AAADAAADAEVI/f88mFAAAAMACc8tiNgAAAAZAZ49dEK/AAADAAAD\n",
       "AH7EEhU9rgAAAwADFgAAABoBnj9qQr8AAAMAAAMAftExCAPewAAAAwAXkQAAAEhBmiRJqEFsmUwI\n",
       "f//+qZYAAAMAAAMAUGgMpMoAmufBpUETRvdkqwqcRn6rGxcWVyPhqFXyAPKIfRtT6Hklsytp4NAA\n",
       "AAMAGBAAAAAeQZ5CRRUsM/8AAAMAAAMARWKudnlWgAAAAwPi58RtAAAAGwGeYXRCvwAAAwAAAwB+\n",
       "kv8JTOfyAAADAAApoAAAABkBnmNqQr8AAAMAAAMAfCjVR3RkAAADAAelAAAASUGaaEmoQWyZTAh/\n",
       "//6plgAAAwAAAwBOJDMmjf8yEAJXCPjR7951z1Wu7Xjiv7nvaOPDIUejJeLXSV04/olvhh9EFKQA\n",
       "AAMAAbMAAAAcQZ6GRRUsM/8AAAMAAAMAQpJUnQAAAwAivQ1osQAAABgBnqV0Qr8AAAMAAAMAfDRC\n",
       "aLgAAAMADKkAAAAaAZ6nakK/AAADAAADAHrXEUZPt6AAAAMA24AAAABKQZqsSahBbJlMCH///qmW\n",
       "AAADAAADAE4GDQPZ5jEgErc1/s75wGokI1Jvi2vEZcRHKViSmSIumSH3ga7vIzZmz4oP5wAAAwAA\n",
       "LaAAAAAgQZ7KRRUsM/8AAAMAAAMAQ1offt27YPFQwAAAJ9b1XcEAAAAbAZ7pdEK/AAADAAADAHrL\n",
       "i9pem1sAAAMAAGDAAAAAGwGe62pCvwAAAwAAAwB5aKS+koNXyAAAAwAmYAAAAGJBmvBJqEFsmUwI\n",
       "f//+qZYAAAMAAAMAThZtqxJAQAy3sLX2E9kkbVXq4a60QOBi6at8SeJh/aTgJ1XnnFILXeiKfNqW\n",
       "bKz3zj73rAvqJvX/GMVSnrZgFIZ6JS6KQAAAAwBcQQAAACBBnw5FFSwz/wAAAwAAAwBBSQZw0Or8\n",
       "ULgAAAMDv4VjpQAAABgBny10Qr8AAAMAAAMAeCGdNjFAAAADAhcAAAAaAZ8vakK/AAADAAADAHlR\n",
       "Eog5A4AAAAMASMAAAAA3QZs0SahBbJlMCH///qmWAAADAAADAEokMJJw/NADi2Ft3KUN0AHs1lIZ\n",
       "LmT0RqLNAAADAABdwAAAACBBn1JFFSwz/wAAAwAAAwA/bZ4Ah94zuWW6gAAAVzCeKwAAABkBn3F0\n",
       "Qr8AAAMAAAMAdqith4qXAAADAAGpAAAAGwGfc2pCvwAAAwAAAwB1VXd1NWLmEAAAAwAoYAAAAG9B\n",
       "m3hJqEFsmUwIf//+qZYAAAMAAAMASgwJiMACe2K6i7MNbp0rdN9Rqu3kn/RKCgqurKy4ku5z7L77\n",
       "Q09kBKHteWSBDwOs0Bw5axn6al3WbpfjSVN46Wt5C7zdQb9ORqqXzuMegH/+2EbNnXiojRsAAAAj\n",
       "QZ+WRRUsM/8AAAMAAAMAP3Uhrn+mdEeMfqVwAAADAICdfDYAAAAbAZ+1dEK/AAADAAADAHa30y6r\n",
       "Xl0QAAADAHTBAAAAHQGft2pCvwAAAwAAAwBz0RwYBFkVTUtlgAAAAwEbAAAA2kGbvEmoQWyZTAh/\n",
       "//6plgAAAwAAAwBIKCHmaAQYASLUJaLnAI1g3tpQh3IUxJ9GV7ev0qeV1VOQpC1sRzXy3hGexMO9\n",
       "G/fFysX/SmLOaTf7DtOmoI4kOTvmdQ34mzeWYRU0uf/l4rNgwDTFEC4Bk5W8kE8I3SGx8++nd4cx\n",
       "3bxEPKsKoYXfW74JAqC4IxaFlG9Y1P5VWR17k4bajR5p8kEGHJoDFgxN/dLDDxwKzpmyE7BUcIfP\n",
       "aaBVG7dyx/NZHL9ruLnDyDeQczDOOkonvACawJzYgAAAAwFbAAAAJkGf2kUVLDP/AAADAAADAD4c\n",
       "JPRwF/EZyQceiV2VMY+gAAAa6wZPAAAAJAGf+XRCvwAAAwAAAwBz9+bZkRZwA2/gNKKOd/+LAAAD\n",
       "AAAdcAAAADMBn/tqQr8AAAMAAAMAcUBsO2bABHah+I3ngrRo1GK9XgqyoRliawNCRiB1wM4AAAMA\n",
       "BQ0AAAFBQZvgSahBbJlMCH///qmWAAADAAADABZMoUQAthEIvKcAeDA0WB7g8v4cAL3qC3XEdFJQ\n",
       "pTN+KZCLhIgLr4tP7BfdonIuGR4TiIHMxmJ/U6/Z+3JCEmMlXzG/3h6t3TXcRbk9EtkAJTpLhO2d\n",
       "O4c5hJVvTfven2VnkIV3CcWWPInH/3Q1HM1LEksc7I2T6iyVyeQjMxI3MbCHaZbylUOqyUPdTvaW\n",
       "3o68qwQOSkiCcrJg+Y0CZ1SrpuvmkducnY/v6prVd0+u2hSS3mznzY7NMn0hcbXFQNsuwhepTJOe\n",
       "TqoqIP97s+uyO3bIaepDueyYz2beF1L8ZP55BGSeHjj7/GHuT/orE3T4pMtzu6scfvzwvAaMlHW0\n",
       "9DdU30TAoAEXrEa73Ih3Nr0uD2pGvi/XlFGIEK4SlXXcPWpiiXyM2PuBAAAAJ0GeHkUVLDP/AAAD\n",
       "AAADADoFhDbxO1WzQK4tvDulWhgWSAAAGMWKZwAAACMBnj10Qr8AAAMAAAMAJa5sXOOtxwAlsGxa\n",
       "MK5LdgAAAwAP8AAAAB0Bnj9qQr8AAAMAAAMAbB0tI2+F44TtL0BAAAAJeQAAAIJBmiRJqEFsmUwI\n",
       "f//+qZYAAAMAAAMAF3CeggDpXZXnLIy/mPQrH6OaP3vjMkXgaEUBCTPbN22DQ0oWUNq52SWLSAgl\n",
       "feSer3Tcp7eae4AuSyZ0TEeH8E2f+awNAZvVm1qi1r4ld66nq3HoTsRrw+0HLyQKj5UKixO7k3/Q\n",
       "ou7hXfZIAAAALEGeQkUVLDP/AAADAAADADoME2u4nZwCOOABdROq7a8GsquzNwAAAwHal1ZxAAAA\n",
       "IAGeYXRCvwAAAwAAAwAlSv1lCQ+D+jy/hayF4AAAAwE3AAAAHgGeY2pCvwAAAwAAAwAlSvrlGmJl\n",
       "jGp397AAAAMCXwAAADhBmmhJqEFsmUwIf//+qZYAAAMAAAMAF3UYyXCXjACVmVuXyEVGgjwuRcuP\n",
       "NSjVrGOwoVAAAAMBQQAAACNBnoZFFSwz/wAAAwAAAwAVCmgFXb3eyzR9qfMAAAMAdo0/iwAAABkB\n",
       "nqV0Qr8AAAMAAAMAJbsy08BDVIAAAA3pAAAAHQGep2pCvwAAAwAAAwAlhezg+ieX3xr0tOAAAAU0\n",
       "AAAATkGarEmoQWyZTAh///6plgAAAwAAAwAYEIrbqT7LUgA5jnyCkyYTHZnRs/psI/vbcHDMEtpK\n",
       "wnKSkDi2xSWzeDMbJUZ3G7Eo4AAAAwAScAAAACpBnspFFSwz/wAAAwAAAwAVB5khSQANzZube0M1\n",
       "3tEBepaYwAAAHbdcM4EAAAAfAZ7pdEK/AAADAAADACaFbnb8dZLCmowmTgAAAwAakAAAAB4Bnutq\n",
       "Qr8AAAMAAAMAJqjGF7sXSHGh7NAAAAMAfcAAAAB4QZrwSahBbJlMCH///qmWAAADAAADABipm2gB\n",
       "XC1VMIfYIPPlACKQD1HXHw36s9GzSVCIey2Ojcom1KC0TZxvBG4oshg+gEYVBy9nPspFZPvw22Gm\n",
       "OpoaOYDXuxMW7v1L5elJ8FjN3Ms+P0Qu1Q3s1NpsAAADADBhAAAALEGfDkUVLDP/AAADAAADABWX\n",
       "O2zYyQDQAhF4cTNsS2Fy1sHSnBAAABxGzxuBAAAAHAGfLXRCvwAAAwAAAwAmmbdwW8DR97gAAAMA\n",
       "tIEAAAAeAZ8vakK/AAADAAADACfDxh59yFirq/NpwAAAAwLSAAAAREGbNEmoQWyZTAh///6plgAA\n",
       "AwAAAwAYsIQzTJkjCEATxKMBiLBHDP+UOFDaJBbaxT02JPIuCnBuEflBT55oAAADAAi4AAAAM0Gf\n",
       "UkUVLDP/AAADAAADABWaQLU8RyAEtXEb6NMNkP90T25H48YJx5P3KF0AAAMC/IHl8QAAACEBn3F0\n",
       "Qr8AAAMAAAMAJ9au1LABxgvjgYrtbyQAAAMAb0AAAAAbAZ9zakK/AAADAAADACe4tIfQetC4AAAD\n",
       "ALSAAAAAQEGbeEmoQWyZTAh///6plgAAAwAAAwAZSaaoAV0yoqEywTVvvlV+suMAG+ycjcO9hBX/\n",
       "8dur8Cy3GJIAAAMAAl8AAAAlQZ+WRRUsM/8AAAMAAAMAFilZq2CW8Z91c0dz+++ywAAAQW3KLgAA\n",
       "ABsBn7V0Qr8AAAMAAAMAJ77h5qJzWC4AAAMALSEAAAAeAZ+3akK/AAADAAADACj1w9bdv4a9zbpQ\n",
       "AAADANSBAAAAREGbvEmoQWyZTAh///6plgAAAwAAAwAZRbtTmxYGEANVusnd37KWyGRFevTAzF3J\n",
       "z8AdPjh7C49tAzossnwQAAADACygAAAALEGf2kUVLDP/AAADAAADABXfYZswyAFriL+X1nEVypI5\n",
       "UsI8FQAAAwL7QyvhAAAAGwGf+XRCvwAAAwAAAwAo1XQtRlGL3uAAAAMC0gAAABwBn/tqQr8AAAMA\n",
       "AAMAKLH9vKAULM5s4AAAAwEfAAAAXEGb4EmoQWyZTAh///6plgAAAwAAAwAZSgTwBHyHzCxK0/ds\n",
       "tOh69oHuo7weSqAWz+O3vEQwM4QxyyCgzV8N+rObwI/3/BhK5uY56EQ4TLqEZSPeIGtcAAADAAOn\n",
       "AAAAMUGeHkUVLDP/AAADAAADABXaI02m4AFq/hc90jPkHz+EazwhvKL+ElQVAAADAvzVbfAAAAAd\n",
       "AZ49dEK/AAADAAADACjA9SagvsxmjdtAAAADAU0AAAAcAZ4/akK/AAADAAADACjSKaWfxiwWcAAA\n",
       "AwCPgQAAAEhBmiRJqEFsmUwIf//+qZYAAAMAAAMAGUdwYb9f6AQBW/kSrhORl/5zyE1xuyCe9dH0\n",
       "KNPbVGctZUxm82ZGOkREGuAAAAMAHTAAAAAsQZ5CRRUsM/8AAAMAAAMAFd2dNNwAA/jg/sQxtsef\n",
       "vrd3vFMQVIAAAUG2XX0AAAAcAZ5hdEK/AAADAAADAAy+mJ9/6XZ8VgAAAwBTQAAAACIBnmNqQr8A\n",
       "AAMAAAMAKR+g4AW5IMkgnueh0CRNwAAAAwI/AAAAS0GaaEmoQWyZTAh///6plgAAAwAAAwAZR3i1\n",
       "f3eAKk7Rg7NmfxcxylTyRSvDNYe13Ar4PAvpOMfLmoq7KC3YMChB83mmgAAAAwCHgQAAAC5BnoZF\n",
       "FSwz/wAAAwAAAwAWJgeyABOrvo2eKYlF/XrtUj45s4viE0AAACC2tm2BAAAAGQGepXRCvwAAAwAA\n",
       "AwAM3/oDiFhAAAADAP8AAAAYAZ6nakK/AAADAAADAAzjqWeK4IAAAAScAAAARUGarEmoQWyZTAh/\n",
       "//6plgAAAwAAAwAZSjd7gBYKp4TSpy74ZqIfrBSaPIWtnjO4MVcUuZw65v0EQooyLIfiuAAAAwAH\n",
       "TAAAAClBnspFFSwz/wAAAwAAAwAWP84AAfmICe1cI8GwYpOmcKjBUAAAL7aNZwAAABcBnul0Qr8A\n",
       "AAMAAAMACvXWc5AAAAMBZQAAABYBnutqQr8AAAMAAAMACvDhDIAAAAsoAAAAQkGa8EmoQWyZTAh/\n",
       "//6plgAAAwAAAwAZSjd7gBU+qY7/CJY3HW2ucJMetR4MfLuyIVrHp+0n9lJleHVFcAAAAwAOmQAA\n",
       "AB5Bnw5FFSwz/wAAAwAAAwAGcYeOc7pkAAADA+Jj03UAAAAXAZ8tdEK/AAADAAADAAsSYPsAAAMA\n",
       "FlEAAAAXAZ8vakK/AAADAAADAAsVfxsAAAMAFlAAAABFQZs0SahBbJlMCH///qmWAAADAAADABlK\n",
       "N3uAEPkryTspcuVpdgQLCnvtEsgfFyfXhCMYdY0+vFBAYR0UOUVwAAADAA6YAAAAHUGfUkUVLDP/\n",
       "AAADAAADAAZxh5RxdMgAAAfEp8bpAAAAFwGfcXRCvwAAAwAAAwALEmD7AAADABZQAAAAFwGfc2pC\n",
       "vwAAAwAAAwALFX8bAAADABZQAAAAPkGbeEmoQWyZTAh///6plgAAAwAAAwAZSjd7gBFpKlcYTuI+\n",
       "4wOUmPDk4q42uggyMl3jU/Anb0e4AAADAAu5AAAAKEGflkUVLDP/AAADAAADABY/zgAB9NUyvs9f\n",
       "jLgndMFV/AAADF+MlOAAAAAXAZ+1dEK/AAADAAADAAr11nOQAAADAWUAAAAWAZ+3akK/AAADAAAD\n",
       "AArw4QyAAAALKQAAAFFBm7xJqEFsmUwIf//+qZYAAAMAAAMAGUotSQAiz3oxKqeKpBuDQbdVHpYA\n",
       "PbCISvyV8EeJuy3LelxxxY1FLWhb6PYJoB69e8q7E00AAAMAAQ8AAAAfQZ/aRRUsM/8AAAMAAAMA\n",
       "FeDsfRdo5eNWgAAAduKNZwAAACABn/l0Qr8AAAMAAAMAKR+g4AS8PYWs65qOCQAAAwAb0AAAABcB\n",
       "n/tqQr8AAAMAAAMACxV/GwAAAwAWUQAAAF1Bm+BJqEFsmUwIf//+qZYAAAMAAAMAUDptoARigYPI\n",
       "Mt6Kt3AyKJ23yoCDRAhiLolNkk1g9kqDZKt/fMYUr2BA3vfbh2P3Om0Re09LDzv6lAhYc9o0JQwA\n",
       "AAMACPkAAAAwQZ4eRRUsM/8AAAMAAAMARZDyAFr+vnDIPvGHep7PPSeWikzCXXyZ3AAAAwEFRkd8\n",
       "AAAAFwGePXRCvwAAAwAAAwAK9dZzkAAAAwFlAAAAFgGeP2pCvwAAAwAAAwAK8OEMgAAACykAAABO\n",
       "QZokSahBbJlMCHf//qmWAAADAAADAFA4wSAHHudkTbjt9D3Wp0lL6nN0QtohLkJOgh5EcCVlF+Jv\n",
       "8JrUmwBotPd6pNcZR0RAAAADAFlAAAAAIUGeQkUVLDP/AAADAAADAEVir7J656GSOKdgIAAAOK+N\n",
       "rwAAAB8BnmF0Qr8AAAMAAAMAft+ijYACYzlqAMBOAAADAC0gAAAAGgGeY2pCvwAAAwAAAwB8KPfz\n",
       "80qGAcAAAAWlAAAAO0GaaEmoQWyZTAh3//6plgAAAwAAAwBOJL4DjgBbmRcFIeoY1Fs1omntt3Zf\n",
       "cMvWZhvL+lEAAAMAACghAAAAKEGehkUVLDP/AAADAAADAENXgewnFgATsKEGZUC9F6Zr0SAAAFZU\n",
       "eKkAAAAXAZ6ldEK/AAADAAADAAr11nOQAAADAWUAAAAbAZ6nakK/AAADAAADAHwo4/n1spKkkAAA\n",
       "AwG9AAAANEGarEmoQWyZTAhv//6nhAAAAwAAAwCbRTU3AC3Tozj32aOIUzmB9ww6hKt80qAAAAMA\n",
       "B/gAAAAoQZ7KRRUsM/8AAAMAAAMAQ5DyAE0j8tkjKmy1YRhB3Z/wAAAxfiNUgQAAAB8Bnul0Qr8A\n",
       "AAMAAAMAfJAsAE54G5HVI3U2cAAAAwFpAAAAFgGe62pCvwAAAwAAAwAK8OEMgAAACygAAAAxQZrv\n",
       "SahBbJlMCFf//jhAAAADAAAI6Kp+IAStoiaerXRwdSX72uGCAZQ1ZAAAAwADAwAAACVBnw5CFf8A\n",
       "AAMAAAMAeWmZruAAJ1DF0cJHqF1Mb/gAABjMopnBAAAAHwGfLWkQrwAAAwAAAwB53bgAH6PhBKqo\n",
       "NWzVgAAAEnEAAAnubW9vdgAAAGxtdmhkAAAAAAAAAAAAAAAAAAAD6AAAHCAAAQAAAQAAAAAAAAAA\n",
       "AAAAAAEAAAAAAAAAAAAAAAAAAAABAAAAAAAAAAAAAAAAAABAAAAAAAAAAAAAAAAAAAAAAAAAAAAA\n",
       "AAAAAAAAAAAAAgAACRh0cmFrAAAAXHRraGQAAAADAAAAAAAAAAAAAAABAAAAAAAAHCAAAAAAAAAA\n",
       "AAAAAAAAAAAAAAEAAAAAAAAAAAAAAAAAAAABAAAAAAAAAAAAAAAAAABAAAAAAtAAAALQAAAAAAAk\n",
       "ZWR0cwAAABxlbHN0AAAAAAAAAAEAABwgAAAEAAABAAAAAAiQbWRpYQAAACBtZGhkAAAAAAAAAAAA\n",
       "AAAAAAAoAAABIABVxAAAAAAALWhkbHIAAAAAAAAAAHZpZGUAAAAAAAAAAAAAAABWaWRlb0hhbmRs\n",
       "ZXIAAAAIO21pbmYAAAAUdm1oZAAAAAEAAAAAAAAAAAAAACRkaW5mAAAAHGRyZWYAAAAAAAAAAQAA\n",
       "AAx1cmwgAAAAAQAAB/tzdGJsAAAAs3N0c2QAAAAAAAAAAQAAAKNhdmMxAAAAAAAAAAEAAAAAAAAA\n",
       "AAAAAAAAAAAAAtAC0ABIAAAASAAAAAAAAAABAAAAAAAAAAAAAAAAAAAAAAAAAAAAAAAAAAAAAAAA\n",
       "AAAAGP//AAAAMWF2Y0MBZAAf/+EAGGdkAB+s2UC0FuhAAAADAEAAAAoDxgxlgAEABmjr48siwAAA\n",
       "ABx1dWlka2hA8l8kT8W6OaUbzwMj8wAAAAAAAAAYc3R0cwAAAAAAAAABAAAAkAAAAgAAAAAUc3Rz\n",
       "cwAAAAAAAAABAAAAAQAABJBjdHRzAAAAAAAAAJAAAAABAAAEAAAAAAEAAAoAAAAAAQAABAAAAAAB\n",
       "AAAAAAAAAAEAAAIAAAAAAQAACgAAAAABAAAEAAAAAAEAAAAAAAAAAQAAAgAAAAABAAAKAAAAAAEA\n",
       "AAQAAAAAAQAAAAAAAAABAAACAAAAAAEAAAoAAAAAAQAABAAAAAABAAAAAAAAAAEAAAIAAAAAAQAA\n",
       "CgAAAAABAAAEAAAAAAEAAAAAAAAAAQAAAgAAAAABAAAKAAAAAAEAAAQAAAAAAQAAAAAAAAABAAAC\n",
       "AAAAAAEAAAoAAAAAAQAABAAAAAABAAAAAAAAAAEAAAIAAAAAAQAACgAAAAABAAAEAAAAAAEAAAAA\n",
       "AAAAAQAAAgAAAAABAAAKAAAAAAEAAAQAAAAAAQAAAAAAAAABAAACAAAAAAEAAAoAAAAAAQAABAAA\n",
       "AAABAAAAAAAAAAEAAAIAAAAAAQAACgAAAAABAAAEAAAAAAEAAAAAAAAAAQAAAgAAAAABAAAKAAAA\n",
       "AAEAAAQAAAAAAQAAAAAAAAABAAACAAAAAAEAAAoAAAAAAQAABAAAAAABAAAAAAAAAAEAAAIAAAAA\n",
       "AQAACgAAAAABAAAEAAAAAAEAAAAAAAAAAQAAAgAAAAABAAAKAAAAAAEAAAQAAAAAAQAAAAAAAAAB\n",
       "AAACAAAAAAEAAAoAAAAAAQAABAAAAAABAAAAAAAAAAEAAAIAAAAAAQAACgAAAAABAAAEAAAAAAEA\n",
       "AAAAAAAAAQAAAgAAAAABAAAKAAAAAAEAAAQAAAAAAQAAAAAAAAABAAACAAAAAAEAAAoAAAAAAQAA\n",
       "BAAAAAABAAAAAAAAAAEAAAIAAAAAAQAACgAAAAABAAAEAAAAAAEAAAAAAAAAAQAAAgAAAAABAAAK\n",
       "AAAAAAEAAAQAAAAAAQAAAAAAAAABAAACAAAAAAEAAAoAAAAAAQAABAAAAAABAAAAAAAAAAEAAAIA\n",
       "AAAAAQAACgAAAAABAAAEAAAAAAEAAAAAAAAAAQAAAgAAAAABAAAKAAAAAAEAAAQAAAAAAQAAAAAA\n",
       "AAABAAACAAAAAAEAAAoAAAAAAQAABAAAAAABAAAAAAAAAAEAAAIAAAAAAQAACgAAAAABAAAEAAAA\n",
       "AAEAAAAAAAAAAQAAAgAAAAABAAAKAAAAAAEAAAQAAAAAAQAAAAAAAAABAAACAAAAAAEAAAoAAAAA\n",
       "AQAABAAAAAABAAAAAAAAAAEAAAIAAAAAAQAACgAAAAABAAAEAAAAAAEAAAAAAAAAAQAAAgAAAAAB\n",
       "AAAKAAAAAAEAAAQAAAAAAQAAAAAAAAABAAACAAAAAAEAAAoAAAAAAQAABAAAAAABAAAAAAAAAAEA\n",
       "AAIAAAAAAQAACgAAAAABAAAEAAAAAAEAAAAAAAAAAQAAAgAAAAABAAAKAAAAAAEAAAQAAAAAAQAA\n",
       "AAAAAAABAAACAAAAAAEAAAoAAAAAAQAABAAAAAABAAAAAAAAAAEAAAIAAAAAAQAACgAAAAABAAAE\n",
       "AAAAAAEAAAAAAAAAAQAAAgAAAAABAAAIAAAAAAEAAAQAAAAAAQAAAAAAAAAcc3RzYwAAAAAAAAAB\n",
       "AAAAAQAAAJAAAAABAAACVHN0c3oAAAAAAAAAAAAAAJAAABG0AAAAuQAAADoAAAAtAAAAHQAAAFcA\n",
       "AAAhAAAAHQAAABsAAABIAAAAIgAAABsAAAAbAAAARwAAACoAAAAbAAAAGwAAAGYAAAAsAAAAGwAA\n",
       "AB4AAABZAAAAKgAAAB4AAAAfAAAAYwAAACUAAAAcAAAAHQAAAEAAAAAjAAAAHQAAAB4AAABMAAAA\n",
       "IgAAAB8AAAAdAAAATQAAACAAAAAcAAAAHgAAAE4AAAAkAAAAHwAAAB8AAABmAAAAJAAAABwAAAAe\n",
       "AAAAOwAAACQAAAAdAAAAHwAAAHMAAAAnAAAAHwAAACEAAADeAAAAKgAAACgAAAA3AAABRQAAACsA\n",
       "AAAnAAAAIQAAAIYAAAAwAAAAJAAAACIAAAA8AAAAJwAAAB0AAAAhAAAAUgAAAC4AAAAjAAAAIgAA\n",
       "AHwAAAAwAAAAIAAAACIAAABIAAAANwAAACUAAAAfAAAARAAAACkAAAAfAAAAIgAAAEgAAAAwAAAA\n",
       "HwAAACAAAABgAAAANQAAACEAAAAgAAAATAAAADAAAAAgAAAAJgAAAE8AAAAyAAAAHQAAABwAAABJ\n",
       "AAAALQAAABsAAAAaAAAARgAAACIAAAAbAAAAGwAAAEkAAAAhAAAAGwAAABsAAABCAAAALAAAABsA\n",
       "AAAaAAAAVQAAACMAAAAkAAAAGwAAAGEAAAA0AAAAGwAAABoAAABSAAAAJQAAACMAAAAeAAAAPwAA\n",
       "ACwAAAAbAAAAHwAAADgAAAAsAAAAIwAAABoAAAA1AAAAKQAAACMAAAAUc3RjbwAAAAAAAAABAAAA\n",
       "LAAAAGJ1ZHRhAAAAWm1ldGEAAAAAAAAAIWhkbHIAAAAAAAAAAG1kaXJhcHBsAAAAAAAAAAAAAAAA\n",
       "LWlsc3QAAAAlqXRvbwAAAB1kYXRhAAAAAQAAAABMYXZmNTcuNTYuMTAx\n",
       "\">\n",
       "  Your browser does not support the video tag.\n",
       "</video>"
      ],
      "text/plain": [
       "<IPython.core.display.HTML object>"
      ]
     },
     "execution_count": 54,
     "metadata": {},
     "output_type": "execute_result"
    }
   ],
   "source": [
    "HTML(anim_ast.to_html5_video())"
   ]
  },
  {
   "cell_type": "markdown",
   "metadata": {},
   "source": [
    "Remarque: L'astéroïde ne revient pas à sa position initiale. Ceci est dû au même problème que celui énoncé précédemment: le potentiel varie trop à l'origine et les $dt$ de l'ordre de l'unité ne suffisent pas pour reproduire la trajectoire théorique. "
   ]
  },
  {
   "cell_type": "markdown",
   "metadata": {},
   "source": [
    "## Investigations supplémentaires"
   ]
  },
  {
   "cell_type": "markdown",
   "metadata": {},
   "source": [
    "### Etude du passage de l'astéroïde près de la Terre"
   ]
  },
  {
   "cell_type": "markdown",
   "metadata": {},
   "source": [
    "Le passage de l'astéroïde près de la Terre est assez délicat et peu être drastiquement différent pour peu que le pas de temps $dt$ ne soit pas assez grand. Pour des $dt$ un peu plus grand, nous observons que l'astéroïde quitte brusquement l'influence gravitationnelle de la Terre alors qu'il est beaucoup plus près de celle-ci que l'est la Lune et que la norme de sa vitesse est icomparable à celle de la Lune. Nous voyons dans la section suivante que l'astéroïde passe très près de la Terre et qu'en réalité, nous devrions avoir un impact entre l'astéroïde et la Terre. Nous suspectons que le passage près de $r=0$ fait que la valeur de l'attraction gravitationnelle, en $1/r$, \"explose\" au passage près de l'origine. Une incrémentation de temps plus tard, l'algorithme calcule une position pour l'astéroïde assez éloignée de l'origine et une vitesse trop grande de sorte que l'astéroïde ait assez d'énergie pour quitter l'influence de la Terre."
   ]
  },
  {
   "cell_type": "markdown",
   "metadata": {},
   "source": [
    "Calculons la trajectoire de l'astéroïde avec $dt=10$ secondes. Prendre un pas de temps plus grand accentuera le phénomène qui sera visible dès la première révolution."
   ]
  },
  {
   "cell_type": "code",
   "execution_count": 55,
   "metadata": {},
   "outputs": [
    {
     "name": "stdout",
     "output_type": "stream",
     "text": [
      "[-21035471.359390616, 6.9081783294677734e-05, -500, 500]\n"
     ]
    }
   ],
   "source": [
    "T = 3600*2\n",
    "dt = 10\n",
    "N = 1+int(T/dt)\n",
    "\n",
    "mT = 5.972*10**24\n",
    "mL = 7.348*10**22\n",
    "G = 6.67408*10**-11\n",
    "\n",
    "dataLT = numpy.empty((N,4)) \n",
    "dataAT = numpy.empty((N,4)) \n",
    "\n",
    "uAT0 = [Xcenter, Ycenter,-500,500]\n",
    "\n",
    "dataLT[0] = uLT_apogee\n",
    "dataAT[0] = uAT0\n",
    "\n",
    "print(uAT0)"
   ]
  },
  {
   "cell_type": "code",
   "execution_count": 56,
   "metadata": {
    "collapsed": true
   },
   "outputs": [],
   "source": [
    "for t in range(1,N):\n",
    "    \n",
    "    temp = rk4_ast(f_ast,dataLT[t-1],dataAT[t-1],dt)\n",
    "    dataLT[t] = temp[0]\n",
    "    dataAT[t] = temp[1]"
   ]
  },
  {
   "cell_type": "code",
   "execution_count": 57,
   "metadata": {},
   "outputs": [
    {
     "data": {
      "image/png": "[encoded data removed]",
      "text/plain": [
       "<matplotlib.figure.Figure at 0x7f1d60133b38>"
      ]
     },
     "metadata": {},
     "output_type": "display_data"
    }
   ],
   "source": [
    "pyplot.figure(figsize=(10,10))\n",
    "pyplot.grid(True)\n",
    "pyplot.xlabel('$x$')\n",
    "pyplot.ylabel('$y$')\n",
    "#pyplot.plot(dataLT[:,0],dataLT[:,1], 'b-', label='Lune')\n",
    "pyplot.plot(dataAT[:,0],dataAT[:,1], 'r-', label='Astéroïde')\n",
    "pyplot.title('Positions de la Lune et de l\\'astéroïde dans le repère de la Terre')\n",
    "pyplot.legend();\n",
    "pyplot.show();"
   ]
  },
  {
   "cell_type": "markdown",
   "metadata": {},
   "source": [
    "Nous commençons par chercher le point de passage le plus proche de la Terre. "
   ]
  },
  {
   "cell_type": "code",
   "execution_count": 58,
   "metadata": {},
   "outputs": [
    {
     "name": "stdout",
     "output_type": "stream",
     "text": [
      "Moment de passage au plus près de la Terre = 6180 secondes\n"
     ]
    }
   ],
   "source": [
    "indexClosest = 0\n",
    "\n",
    "distMin2 = numpy.min(dataAT[:,0]**2+dataAT[:,1]**2)\n",
    "\n",
    "for t in range(1,N):\n",
    "    \n",
    "    if (dataAT[t,0]**2+dataAT[t,1]**2)==distMin2:\n",
    "        \n",
    "        indexClosest = t\n",
    "        break\n",
    "        \n",
    "print('Moment de passage au plus près de la Terre =', indexClosest*dt, 'secondes')"
   ]
  },
  {
   "cell_type": "markdown",
   "metadata": {},
   "source": [
    "Nous voyons en affichant le vecteur $u_{AT}$ que les caractéristiques de l'astéroïde fluctuent beaucoup à l'approche de la Terre. Un effet de ces changements trop important est que l'astéroïde est éloigné rapidement de la Terre avec une énergie beaucoup trop grande. Il quitte donc l'influence terrestre."
   ]
  },
  {
   "cell_type": "code",
   "execution_count": 59,
   "metadata": {},
   "outputs": [
    {
     "name": "stdout",
     "output_type": "stream",
     "text": [
      "uAT avant = [-369567.5524576   -62578.22970281   24735.16313686   28891.14000114]\n",
      "uAT à cet instant = [ 165754.14969232  124414.8871879    65781.74341651   -2175.36530729]\n",
      "uAT après = [ 605949.37644808    9776.5069835    33462.09864903  -11601.11573083]\n"
     ]
    }
   ],
   "source": [
    "t = indexClosest\n",
    "\n",
    "print('uAT avant =', dataAT[t-1,:])\n",
    "print('uAT à cet instant =', dataAT[t,:])\n",
    "print('uAT après =', dataAT[t+1,:])"
   ]
  },
  {
   "cell_type": "code",
   "execution_count": 60,
   "metadata": {},
   "outputs": [
    {
     "name": "stdout",
     "output_type": "stream",
     "text": [
      "distance à la Terre avant =  0.0588427380767 rayons terrestres\n",
      "distance à la Terre à cet instant =  0.0325356777525 rayons terrestres\n",
      "distance à la Terre après =  0.0951378711717 rayons terrestres\n"
     ]
    }
   ],
   "source": [
    "print('distance à la Terre avant = ', numpy.sqrt(dataAT[t-1,0]**2+dataAT[t-1,1]**2)/radiusT, 'rayons terrestres')\n",
    "print('distance à la Terre à cet instant = ', numpy.sqrt(dataAT[t,0]**2+dataAT[t,1]**2)/radiusT, 'rayons terrestres')\n",
    "print('distance à la Terre après = ', numpy.sqrt(dataAT[t+1,0]**2+dataAT[t+1,1]**2)/radiusT, 'rayons terrestres')"
   ]
  },
  {
   "cell_type": "markdown",
   "metadata": {},
   "source": [
    "Nous voyons ici les fluctuations anormales de l'énergie causées par le passage près de la Terre"
   ]
  },
  {
   "cell_type": "code",
   "execution_count": 61,
   "metadata": {},
   "outputs": [
    {
     "name": "stdout",
     "output_type": "stream",
     "text": [
      "Energie totale initiale = -18710590.5566  Joules par kg\n",
      "Energie totale avant = 18.1771667829  fois l'energie totale initiale\n",
      "Energie totale à cet instant = -12.9781247492  fois l'energie totale initiale\n",
      "Energie totale après = 1.6326985141  fois l'energie totale initiale\n"
     ]
    }
   ],
   "source": [
    "Energy0 = 1/2*(uAT0[2]**2+uAT0[3]**2) - G*mT/numpy.sqrt(uAT0[0]**2+uAT0[1]**2)\\\n",
    "            - G*mL/numpy.sqrt((uAT0[0]-uLT_apogee[0])**2+(uAT0[1]-uLT_apogee[1])**2)\n",
    "EnergytBefore = 1/2*(dataAT[t-1,2]**2+dataAT[t-1,3]**2) - G*mT/numpy.sqrt(dataAT[t-1,0]**2+dataAT[t-1,1]**2)\\\n",
    "            - G*mL/numpy.sqrt((dataAT[t-1,0]-dataLT[t-1,0])**2+(dataAT[t-1,1]-dataLT[t-1,1])**2)\n",
    "Energyt = 1/2*(dataAT[t,2]**2+dataAT[t,3]**2) - G*mT/numpy.sqrt(dataAT[t,0]**2+dataAT[t,1]**2)\\\n",
    "            - G*mL/numpy.sqrt((dataAT[t,0]-dataLT[t,0])**2+(dataAT[t,1]-dataLT[t,1])**2)\n",
    "EnergytAfter = 1/2*(dataAT[t+1,2]**2+dataAT[t+1,3]**2) - G*mT/numpy.sqrt(dataAT[t+1,0]**2+dataAT[t+1,1]**2)\\\n",
    "            - G*mL/numpy.sqrt((dataAT[t+1,0]-dataLT[t+1,0])**2+(dataAT[t+1,1]-dataLT[t+1,1])**2)\n",
    "\n",
    "\n",
    "print('Energie totale initiale =', Energy0, ' Joules par kg')\n",
    "\n",
    "print('Energie totale avant =', EnergytBefore/Energy0, ' fois l\\'energie totale initiale')\n",
    "print('Energie totale à cet instant =', Energyt/Energy0, ' fois l\\'energie totale initiale')\n",
    "print('Energie totale après =', EnergytAfter/Energy0, ' fois l\\'energie totale initiale')"
   ]
  },
  {
   "cell_type": "markdown",
   "metadata": {},
   "source": [
    "Nous voyons dans cette section que près de l'origine, le potentiel en $1/r$ varie beaucoup trop pour que des pas de temps raisonablement petits ($dt > \\sim 1$) puisse reproduire la trajectoire avec précision. "
   ]
  },
  {
   "cell_type": "markdown",
   "metadata": {},
   "source": [
    "Remarque: Il serait intéressant de développer un algorithme qui détecte l'intensité de la dérivée du potentiel à adapte localement le pas de temps $dt$ afin de toujours avoir un $dt$ suffisament petit pour reproduire la trajectoire."
   ]
  },
  {
   "cell_type": "markdown",
   "metadata": {},
   "source": [
    "## Trajectoire pour un astéroïde plus rapide "
   ]
  },
  {
   "cell_type": "markdown",
   "metadata": {},
   "source": [
    "Le problème étant que la vitesse initiale de l'astéroïde est trop faible pour que celui-ci puisse maintenir une bonne distance avec l'origine, observons la trajectoire d'un astéroïde dont la vitesse initiale est plus grande."
   ]
  },
  {
   "cell_type": "code",
   "execution_count": 62,
   "metadata": {
    "collapsed": true
   },
   "outputs": [],
   "source": [
    "T = 3600*24*27.2*5\n",
    "dt=20\n",
    "#dt = 100\n",
    "N = 1+int(T/dt)\n",
    "\n",
    "mT = 5.972*10**24\n",
    "mL = 7.348*10**22\n",
    "G = 6.67408*10**-11\n",
    "\n",
    "dataLT = numpy.empty((N,4)) \n",
    "dataAT = numpy.empty((N,4)) \n",
    "\n",
    "uAT0 = [Xcenter, Ycenter,-4000,4000]\n",
    "\n",
    "dataLT[0] = uLT_apogee\n",
    "dataAT[0] = uAT0"
   ]
  },
  {
   "cell_type": "code",
   "execution_count": 63,
   "metadata": {
    "collapsed": true
   },
   "outputs": [],
   "source": [
    "for t in range(1,N):\n",
    "    \n",
    "    temp = rk4_ast(f_ast,dataLT[t-1],dataAT[t-1],dt)\n",
    "    dataLT[t] = temp[0]\n",
    "    dataAT[t] = temp[1]"
   ]
  },
  {
   "cell_type": "code",
   "execution_count": 64,
   "metadata": {},
   "outputs": [
    {
     "data": {
      "image/png": "[encoded data removed]",
      "text/plain": [
       "<matplotlib.figure.Figure at 0x7f1d5b72f6a0>"
      ]
     },
     "metadata": {},
     "output_type": "display_data"
    }
   ],
   "source": [
    "pyplot.figure(figsize=(10,10))\n",
    "pyplot.grid(True)\n",
    "pyplot.xlabel('$x$')\n",
    "pyplot.ylabel('$y$')\n",
    "pyplot.plot(dataLT[:,0],dataLT[:,1], 'b-', label='Lune')\n",
    "pyplot.plot(dataAT[:,0],dataAT[:,1], 'r-', label='Astéroïde')\n",
    "pyplot.title('Positions de la Lune et de l\\'astéroïde dans le repère de la Terre')\n",
    "pyplot.legend();\n",
    "pyplot.show();"
   ]
  },
  {
   "cell_type": "markdown",
   "metadata": {},
   "source": [
    "Nous voyons que la trajectoire, qui ne passe pas aussi près de l'origine, n'est pas soudainement déviée. Nous remarquons également que les traits rouges de la trajectoire de l'astéroïde semblent être assez épais. Nous suspectons que cela n'est pas dû à une imprécision numérique mais qu'il s'agisse d'un véritable effet physique causé par l'attraction de la Lune. Nous allons le montrer en analysant les points de passage de l'astéroïde sur l'axe des $x$."
   ]
  },
  {
   "cell_type": "markdown",
   "metadata": {},
   "source": [
    "Détectons le nombre de passages sur l'axe des $x$ en direction des $y$ positifs. Cela nous évitera de faire de l'allocation dynamique."
   ]
  },
  {
   "cell_type": "code",
   "execution_count": 65,
   "metadata": {
    "collapsed": true
   },
   "outputs": [],
   "source": [
    "number_crossings = 0\n",
    "\n",
    "for t in range(1,N):\n",
    "    \n",
    "    if dataAT[t,1]>=0 and dataAT[t-1,1]<0:\n",
    "        \n",
    "        number_crossings = number_crossings+1"
   ]
  },
  {
   "cell_type": "markdown",
   "metadata": {},
   "source": [
    "Calculons les points de passage"
   ]
  },
  {
   "cell_type": "code",
   "execution_count": 66,
   "metadata": {
    "collapsed": true
   },
   "outputs": [],
   "source": [
    "t_crossings = numpy.zeros((number_crossings))\n",
    "count = 0\n",
    "\n",
    "for t in range(1,N):\n",
    "    \n",
    "    if dataAT[t,1]>=0 and dataAT[t-1,1]<0:\n",
    "        \n",
    "        t_crossings[count] = t\n",
    "        count = count+1\n",
    "\n",
    "x_crossings = numpy.zeros((number_crossings))\n",
    "deltas_x = numpy.zeros((number_crossings-1))\n",
    "\n",
    "for i in range(len(t_crossings)):\n",
    "    \n",
    "    x_crossings[i] = dataAT[int(t_crossings[i]),0]\n",
    "    if i>0:\n",
    "        deltas_x[i-1] = x_crossings[i] - x_crossings[i-1]"
   ]
  },
  {
   "cell_type": "markdown",
   "metadata": {},
   "source": [
    "Affichons les coordonnées $x$ de passage en fonction du temps dans un graphique"
   ]
  },
  {
   "cell_type": "code",
   "execution_count": 67,
   "metadata": {},
   "outputs": [
    {
     "data": {
      "image/png": "[encoded data removed]",
      "text/plain": [
       "<matplotlib.figure.Figure at 0x7f1d70098eb8>"
      ]
     },
     "metadata": {},
     "output_type": "display_data"
    }
   ],
   "source": [
    "pyplot.figure(figsize=(10,6))\n",
    "pyplot.grid(True)\n",
    "pyplot.xlabel('$t$')\n",
    "pyplot.ylabel('$x$')\n",
    "pyplot.plot(t_crossings*dt,x_crossings, 'b-', marker='.')\n",
    "pyplot.title('Coordonnées de passages sur l\\'axe $x$ en fonction du temps')\n",
    "pyplot.show();"
   ]
  },
  {
   "cell_type": "markdown",
   "metadata": {},
   "source": [
    "Nous voyons que la Lune fait périodiquement dévier la trajectoire de l'astéroïde. L'oscillation est plus lisse pour de plus petits $dt$. De plus, en prenant des $dt$ plus fin (remplacer $dt = 10$), nous observons que la position moyenne de passage dérive. Nous avons réalisé le calcul sur deux ans et ce taux de dérive semble être fixe avec une valeur de $0.020$ m/s. Nous ne savons pas encore à quoi cela peut être dû, cela pourrait être causé par des erreurs numériques mais le taux semble rester fixe quel que soit le $dt$ utilisé."
   ]
  },
  {
   "cell_type": "markdown",
   "metadata": {},
   "source": [
    "### Ordre de convergence pour la méthode d'Euler"
   ]
  },
  {
   "cell_type": "code",
   "execution_count": 68,
   "metadata": {
    "collapsed": true
   },
   "outputs": [],
   "source": [
    "def euler(f,uLT,dt):\n",
    "    \n",
    "    return uLT + dt*f(uLT)"
   ]
  },
  {
   "cell_type": "code",
   "execution_count": 69,
   "metadata": {
    "collapsed": true
   },
   "outputs": [],
   "source": [
    "r = 2\n",
    "h = 10\n",
    "dt_values = numpy.array([h, r*h, r**2*h, r**3*h])\n",
    "\n",
    "dataLT_values = numpy.empty_like(dt_values, dtype=numpy.ndarray)  \n",
    "\n",
    "for i, dt in enumerate(dt_values):\n",
    "    \n",
    "    N2 = int(T/dt)+1\n",
    "    dataLT = numpy.empty((N2, 4))\n",
    "    dataLT[0] = uLT0\n",
    "    \n",
    "    for t in range(1,N2):\n",
    "        dataLT[t] = euler(f, dataLT[t-1], dt)\n",
    "    \n",
    "    dataLT_values[i] = dataLT"
   ]
  },
  {
   "cell_type": "code",
   "execution_count": 70,
   "metadata": {
    "collapsed": true
   },
   "outputs": [],
   "source": [
    "diffgridLT = numpy.empty_like(dt_values, dtype=numpy.ndarray)\n",
    "\n",
    "for i in range(len(dt_values)):\n",
    "    \n",
    "    diffgridLT[i] = get_diffgrid_theo(dataLT_values[i])"
   ]
  },
  {
   "cell_type": "code",
   "execution_count": 71,
   "metadata": {},
   "outputs": [
    {
     "name": "stdout",
     "output_type": "stream",
     "text": [
      "[555601.49015522003 1110823.8089581728 2220135.0544080734\n",
      " 4434255.1583669186]\n"
     ]
    }
   ],
   "source": [
    "print(diffgridLT)"
   ]
  },
  {
   "cell_type": "code",
   "execution_count": 72,
   "metadata": {},
   "outputs": [
    {
     "data": {
      "image/png": "[encoded data removed]",
      "text/plain": [
       "<matplotlib.figure.Figure at 0x7f1d5b1369e8>"
      ]
     },
     "metadata": {},
     "output_type": "display_data"
    }
   ],
   "source": [
    "pyplot.figure(figsize=(6,6))\n",
    "pyplot.grid(True)\n",
    "pyplot.title(r'norme $L_1$ des différences des demi-grand axes')\n",
    "pyplot.xlabel(r'$dt$')\n",
    "pyplot.ylabel(r'erreurs')\n",
    "pyplot.xlim(1e-4,1)\n",
    "pyplot.ylim(1e-4,1)\n",
    "pyplot.axis('equal')\n",
    "pyplot.loglog(dt_values[1:], diffgridLT[1:], color='k', ls='--', lw=2, marker='o');"
   ]
  },
  {
   "cell_type": "code",
   "execution_count": 73,
   "metadata": {},
   "outputs": [
    {
     "name": "stdout",
     "output_type": "stream",
     "text": [
      "[0.9985267394514613 0.9970692755527135]\n"
     ]
    }
   ],
   "source": [
    "alpha = numpy.empty_like(dt_values[:-2], dtype=numpy.ndarray)\n",
    "\n",
    "for i in range(1, len(dt_values)-1):\n",
    "    \n",
    "    alpha[i-1] = (log(get_diffgrid(dataLT_values[i+1], dataLT_values[i]))\\\n",
    "                  -log(get_diffgrid(dataLT_values[i], dataLT_values[i-1]))) / log(r)\n",
    "\n",
    "print(alpha)"
   ]
  },
  {
   "cell_type": "markdown",
   "metadata": {},
   "source": [
    "Nous pouvons voir avec encore d'autres pas de temps que le calcul de l'ordre ne pose pas problème pour la méthode d'euler."
   ]
  },
  {
   "cell_type": "markdown",
   "metadata": {},
   "source": [
    "### Ordre de convergence pour la méthode de Runge et Kutta d'ordre 2"
   ]
  },
  {
   "cell_type": "code",
   "execution_count": 74,
   "metadata": {
    "collapsed": true
   },
   "outputs": [],
   "source": [
    "def rk2(f,uLT,dt):\n",
    "    \n",
    "    k1 = f(uLT)\n",
    "    k2 = f(uLT+dt/2*k1)\n",
    "    \n",
    "    return uLT + dt*k2"
   ]
  },
  {
   "cell_type": "code",
   "execution_count": 75,
   "metadata": {
    "collapsed": true
   },
   "outputs": [],
   "source": [
    "r = 2\n",
    "h = 1000\n",
    "dt_values = numpy.array([h, r*h, r**2*h, r**3*h])\n",
    "\n",
    "dataLT_values = numpy.empty_like(dt_values, dtype=numpy.ndarray)  \n",
    "\n",
    "for i, dt in enumerate(dt_values):\n",
    "    \n",
    "    N2 = int(T/dt)+1\n",
    "    dataLT = numpy.empty((N2, 4))\n",
    "    dataLT[0] = uLT0\n",
    "    \n",
    "    for t in range(1,N2):\n",
    "        dataLT[t] = rk2(f, dataLT[t-1], dt)\n",
    "    \n",
    "    dataLT_values[i] = dataLT"
   ]
  },
  {
   "cell_type": "code",
   "execution_count": 76,
   "metadata": {
    "collapsed": true
   },
   "outputs": [],
   "source": [
    "diffgridLT = numpy.empty_like(dt_values, dtype=numpy.ndarray)\n",
    "\n",
    "for i in range(len(dt_values)):\n",
    "    \n",
    "    diffgridLT[i] = get_diffgrid_theo(dataLT_values[i])"
   ]
  },
  {
   "cell_type": "code",
   "execution_count": 77,
   "metadata": {},
   "outputs": [
    {
     "name": "stdout",
     "output_type": "stream",
     "text": [
      "[927.22292590141296 3736.6220970153809 15343.845239162445\n",
      " 60340.658794522285]\n"
     ]
    }
   ],
   "source": [
    "print(diffgridLT)"
   ]
  },
  {
   "cell_type": "code",
   "execution_count": 78,
   "metadata": {},
   "outputs": [
    {
     "data": {
      "image/png": "[encoded data removed]",
      "text/plain": [
       "<matplotlib.figure.Figure at 0x7f1d5b165748>"
      ]
     },
     "metadata": {},
     "output_type": "display_data"
    }
   ],
   "source": [
    "pyplot.figure(figsize=(6,6))\n",
    "pyplot.grid(True)\n",
    "pyplot.title(r'norme $L_1$ des différences des demi-grand axes')\n",
    "pyplot.xlabel(r'$dt$')\n",
    "pyplot.ylabel(r'erreurs')\n",
    "pyplot.xlim(1e-4,1)\n",
    "pyplot.ylim(1e-4,1)\n",
    "pyplot.axis('equal')\n",
    "pyplot.loglog(dt_values[1:], diffgridLT[1:], color='k', ls='--', lw=2, marker='o');"
   ]
  },
  {
   "cell_type": "code",
   "execution_count": 79,
   "metadata": {},
   "outputs": [
    {
     "name": "stdout",
     "output_type": "stream",
     "text": [
      "[2.0466893416086385 1.9547999709025654]\n"
     ]
    }
   ],
   "source": [
    "alpha = numpy.empty_like(dt_values[:-2], dtype=numpy.ndarray)\n",
    "\n",
    "for i in range(1, len(dt_values)-1):\n",
    "    \n",
    "    alpha[i-1] = (log(get_diffgrid(dataLT_values[i+1], dataLT_values[i]))\\\n",
    "                  -log(get_diffgrid(dataLT_values[i], dataLT_values[i-1]))) / log(r)\n",
    "\n",
    "print(alpha)"
   ]
  },
  {
   "cell_type": "markdown",
   "metadata": {},
   "source": [
    "Nous pouvons voir avec encore d'autres pas de temps que le calcul de l'ordre ne pose pas problème non plus pour la méthode de Runge-Kutta d'ordre 2."
   ]
  },
  {
   "cell_type": "markdown",
   "metadata": {},
   "source": [
    "Vu que le calcul de l'ordre va pour plusieurs autres méthodes, le problème semble être spécifique à la méthode de Runge-Kutta d'ordre 4."
   ]
  },
  {
   "cell_type": "markdown",
   "metadata": {},
   "source": [
    "### Temps d'excécution total du notebook"
   ]
  },
  {
   "cell_type": "code",
   "execution_count": 80,
   "metadata": {},
   "outputs": [
    {
     "name": "stdout",
     "output_type": "stream",
     "text": [
      "Temps d'exécution total du notebook en secondes = 297.773850440979\n",
      "Temps d'exécution total du notebook en minutes = 4.96289750734965\n"
     ]
    }
   ],
   "source": [
    "t1 = time.time()\n",
    "\n",
    "print('Temps d\\'exécution total du notebook en secondes =', t1-t0)\n",
    "print('Temps d\\'exécution total du notebook en minutes =', (t1-t0)/60)"
   ]
  }
 ],
 "metadata": {
  "kernelspec": {
   "display_name": "Python 3",
   "language": "python",
   "name": "python3"
  },
  "language_info": {
   "codemirror_mode": {
    "name": "ipython",
    "version": 3
   },
   "file_extension": ".py",
   "mimetype": "text/x-python",
   "name": "python",
   "nbconvert_exporter": "python",
   "pygments_lexer": "ipython3",
   "version": "3.6.2"
  }
 },
 "nbformat": 4,
 "nbformat_minor": 2
}
