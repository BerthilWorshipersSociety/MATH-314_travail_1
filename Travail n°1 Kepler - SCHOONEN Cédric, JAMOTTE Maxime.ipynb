{
 "cells": [
  {
   "cell_type": "markdown",
   "metadata": {},
   "source": [
    "# Travail 1 - Kepler et Runge-Kutta 4"
   ]
  },
  {
   "cell_type": "markdown",
   "metadata": {},
   "source": [
    "## Système Terre - Lune"
   ]
  },
  {
   "cell_type": "markdown",
   "metadata": {},
   "source": [
    "Tout d'abord, importons les librairies utiles à notre travail."
   ]
  },
  {
   "cell_type": "code",
   "execution_count": 162,
   "metadata": {},
   "outputs": [],
   "source": [
    "import numpy\n",
    "from math import log\n",
    "from matplotlib import pyplot\n",
    "%matplotlib inline"
   ]
  },
  {
   "cell_type": "markdown",
   "metadata": {},
   "source": [
    "Ensuite, entrons les données caractéristiques du système. $T$ est la durée durant laquelle nous voulons simuler les trajectoires de la lune et de la Terre et $N$ est le paramètre qui définit le nombre de lignes des matrices de données de chaque astre."
   ]
  },
  {
   "cell_type": "code",
   "execution_count": 163,
   "metadata": {
    "collapsed": true
   },
   "outputs": [],
   "source": [
    "T = 3600*24*27.3\n",
    "dt = 100\n",
    "N = 1+int(T/dt)\n",
    "\n",
    "mT = 5.972*10**24\n",
    "mL = 7.348*10**22\n",
    "G = 6.67408*10**-11"
   ]
  },
  {
   "cell_type": "markdown",
   "metadata": {},
   "source": [
    "Nous savons qu'une force gravitationnelle (force attractive) existe entre la Terre et la lune. Selon la loi de Newton, celle-ci s'écrit \n",
    "\n",
    "$${\\bf F}_{L,T}=-{\\bf F}_{T,L}=-\\dfrac{Gm_T m_L{\\bf r}}{r^3}$$\n",
    "\n",
    "pour deux masses $m_L$ et $m_T$ s'attirent avec des forces mutuellement opposées séparées d'une distance $r$ qui est la norme du vecteur partant du centre de la Terre jusqu'au centre de la lune. Nous allons tout d'abord transformer l'équation de Newton, qui est du deuxième ordre, en un système de deux équations du premier ordre. Pour ce faire, nous introduisons le vectreur $u$ qui pourra être indicé par \"T\" ou \"L\" en fonction de l'astre dont nous calculons la trajectoire. $$\n",
    "u_L  = \\begin{pmatrix} x_L\\ , y_L\\ , v_{L,x}\\ , v_{L,y}\\end{pmatrix} \\\\\n",
    "u_T  = \\begin{pmatrix} x_T\\ , y_T\\ , v_{T,x}\\ , v_{T,y}\\end{pmatrix}\\\\\n",
    "$$"
   ]
  },
  {
   "cell_type": "markdown",
   "metadata": {},
   "source": [
    "Notre système d'équations différentielles devient\n",
    "\n",
    "$$ (\\dot{u}_T\\ , \\dot{u}_L) = f(u_T\\ , u_L) = (f_T(u_T\\ , u_L)\\ , f_L(u_T\\ , u_L)) $$ \n",
    "\n",
    "Nous obtenons donc"
   ]
  },
  {
   "cell_type": "markdown",
   "metadata": {},
   "source": [
    "$$f_L(u_L)  = \\begin{pmatrix} v_{L,x}\\ , v_{L,y}\\ , -\\dfrac{ m_T\\, G\\, (x_L - x_T)}{ \\left[(x_T- x_L)^2 + (y_T - y_L)^2\\right]^{3/2}}\\ , -\\dfrac{ m_T\\, G\\, (y_L - y_T)}{ \\left[(x_T- x_L)^2 + (y_T - y_L)^2\\right]^{3/2}}  \\end{pmatrix} \\\\\n",
    "f_T(u_T)  = \\begin{pmatrix} v_{T,x}\\ , v_{T,y}\\ , -\\dfrac{ m_L\\, G\\, (x_T - x_L)}{ \\left[(x_T- x_L)^2 + (y_T - y_L)^2\\right]^{3/2}}\\ , -\\dfrac{ m_L\\, G\\, (y_L - y_T)}{ \\left[(x_T- x_L)^2 + (y_T - y_L)^2\\right]^{3/2}}  \\end{pmatrix}$$"
   ]
  },
  {
   "cell_type": "markdown",
   "metadata": {},
   "source": [
    "Encodons à présent les conditions initiales de la lune et de la Terre. Nous nommons $dataL$ et $dataT$ les matrices de données de la lune et de la Terre respectivement. Elles comporteront quatre colonnes. Par exemple, pour $dataL$, chaque ligne se présentera comme $ u_L = [x_L\\ , y_L\\ , v_{L,x}\\ , v_{L,y}] $. Les lignes de $dataT$ suivent cette même structure. "
   ]
  },
  {
   "cell_type": "code",
   "execution_count": 164,
   "metadata": {
    "collapsed": true
   },
   "outputs": [],
   "source": [
    "dataL = numpy.empty((N,4)) \n",
    "dataT = numpy.empty((N,4))\n",
    "\n",
    "dataL0 = [-362600000,0,0,-1083.4]\n",
    "dataT0 = [0,0,0,0]\n",
    "\n",
    "dataL[0] = dataL0\n",
    "dataT[0] = dataT0"
   ]
  },
  {
   "cell_type": "markdown",
   "metadata": {},
   "source": [
    "### Runge-Kutta 4"
   ]
  },
  {
   "cell_type": "markdown",
   "metadata": {},
   "source": [
    "Nous ne généraliserons pas la fonction $f$ à plus de deux corps, par soucis de lisibilité car cela n'est pas nécessaire.\n",
    "La première ligne de $out$ est la trajectoire de la Terre, la seconde celle de la lune."
   ]
  },
  {
   "cell_type": "code",
   "execution_count": 165,
   "metadata": {
    "collapsed": true
   },
   "outputs": [],
   "source": [
    "def f(uT,uL): \n",
    "    out = numpy.ones((2,4))  \n",
    "    out[0] = numpy.array([uT[2],uT[3],-G*mL*(uT[0]-uL[0])/((uT[0]-uL[0])**2+(uT[1]-uL[1])**2)**(3/2),\\\n",
    "                          -G*mL*(uT[1]-uL[1])/((uT[0]-uL[0])**2+(uT[1]-uL[1])**2)**(3/2)])     \n",
    "    out[1] = numpy.array([uL[2],uL[3],-G*mT*(uL[0]-uT[0])/((uT[0]-uL[0])**2+(uT[1]-uL[1])**2)**(3/2),\\\n",
    "                          -G*mT*(uL[1]-uT[1])/((uT[0]-uL[0])**2+(uT[1]-uL[1])**2)**(3/2)])\n",
    "\n",
    "    return out"
   ]
  },
  {
   "cell_type": "markdown",
   "metadata": {},
   "source": [
    "Ci-dessous la méthode \"Runge-Kutta 4\" appliquée directement aux trajectoires des deux astres. Nous traiterons simultanément les trajectoires de la lune et de la Terre."
   ]
  },
  {
   "cell_type": "code",
   "execution_count": 166,
   "metadata": {
    "collapsed": true
   },
   "outputs": [],
   "source": [
    "def rk4(f,u,v,dt): \n",
    "    k1 = f(u,v)\n",
    "    k2 = f(u+dt/2*k1[0,:],v+dt/2*k1[1,:])\n",
    "    k3 = f(u+dt/2*k2[0,:],v+dt/2*k2[1,:])\n",
    "    k4 = f(u+dt*k3[0,:],v+dt*k3[1,:])\n",
    "    \n",
    "    out = numpy.zeros((2,4))\n",
    "    out[0] = u+dt/6*(k1[0,:]+2*k2[0,:]+2*k3[0,:]+k4[0,:])\n",
    "    out[1] = v+dt/6*(k1[1,:]+2*k2[1,:]+2*k3[1,:]+k4[1,:])\n",
    "    return out"
   ]
  },
  {
   "cell_type": "markdown",
   "metadata": {
    "collapsed": true
   },
   "source": [
    "On calcule maintenant la trajectoire. Notons que $dataL[t]$ est le vecteur $u_L$ au temps $t$ qui est l'input de $f$ (idem pour $dataT[t]$)."
   ]
  },
  {
   "cell_type": "code",
   "execution_count": 167,
   "metadata": {
    "collapsed": true
   },
   "outputs": [],
   "source": [
    "for t in range(1,N):\n",
    "    \n",
    "    W = rk4(f,dataT[t-1],dataL[t-1],dt)\n",
    "    dataT[t] = W[0]\n",
    "    dataL[t] = W[1]\n",
    "\n",
    "posLT = dataL[:,0:2] - dataT[:,0:2] #position de la lune dans le repère de la Terre"
   ]
  },
  {
   "cell_type": "code",
   "execution_count": 168,
   "metadata": {},
   "outputs": [
    {
     "data": {
      "image/png": "[encoded data removed]",
      "text/plain": [
       "<matplotlib.figure.Figure at 0x7ff03908ada0>"
      ]
     },
     "metadata": {},
     "output_type": "display_data"
    }
   ],
   "source": [
    "# Plot the position of the moon and the earth in the initial frame\n",
    "\n",
    "pyplot.figure(figsize=(10,6))\n",
    "pyplot.grid(True)\n",
    "pyplot.xlabel('$x$')\n",
    "pyplot.ylabel('$y$')\n",
    "pyplot.plot(dataL[:,0],dataL[:,1], 'b-', label='RK4')\n",
    "pyplot.plot(dataT[:,0],dataT[:,1], 'b-', label='RK4')\n",
    "pyplot.title('Position of the moon and the earth in the initial frame')\n",
    "pyplot.legend();\n",
    "pyplot.show();"
   ]
  },
  {
   "cell_type": "code",
   "execution_count": 169,
   "metadata": {},
   "outputs": [
    {
     "data": {
      "image/png": "[encoded data removed]",
      "text/plain": [
       "<matplotlib.figure.Figure at 0x7ff038765780>"
      ]
     },
     "metadata": {},
     "output_type": "display_data"
    }
   ],
   "source": [
    "# Plot the position of the moon in the rest frame of the earth\n",
    "\n",
    "pyplot.figure(figsize=(10,6))\n",
    "pyplot.grid(True)\n",
    "pyplot.xlabel('$x$')\n",
    "pyplot.ylabel('$y$')\n",
    "pyplot.plot(posLT[:,0],posLT[:,1], 'b-', label='RK4')\n",
    "pyplot.title('Position of the moon in the rest frame of the earth')\n",
    "pyplot.legend();\n",
    "pyplot.show();"
   ]
  },
  {
   "cell_type": "markdown",
   "metadata": {},
   "source": [
    "### Paramètres : grand et petit axes, excentricité et période"
   ]
  },
  {
   "cell_type": "code",
   "execution_count": 170,
   "metadata": {},
   "outputs": [
    {
     "name": "stdout",
     "output_type": "stream",
     "text": [
      "minX = -362599998.82\n",
      "maxX = 404670942.482\n",
      "minY = -383058329.509\n",
      "maxY = 383058328.099\n",
      "a = 383635470.651\n",
      "b = 383058328.804\n",
      "e = 0.0548319262482\n"
     ]
    }
   ],
   "source": [
    "# Compute the parameters a,b,e\n",
    "\n",
    "minX = 0\n",
    "for i in range(1,N-1):\n",
    "    if (posLT[i+1,0]>=posLT[i,0] and posLT[i,0]<posLT[i-1,0]):\n",
    "        minX = posLT[i,0]\n",
    "        break\n",
    "        \n",
    "maxX = 0\n",
    "for i in range(1,N-1):\n",
    "    if (posLT[i+1,0]<=posLT[i,0] and posLT[i,0]>posLT[i-1,0]):\n",
    "        maxX = posLT[i,0]\n",
    "        break\n",
    "\n",
    "minY = 0\n",
    "for i in range(1,N-1):\n",
    "    if (posLT[i+1,1]>=posLT[i,1] and posLT[i,1]<posLT[i-1,1]):\n",
    "        minY = posLT[i,1]\n",
    "        break\n",
    "        \n",
    "maxY = 0\n",
    "for i in range(1,N-1):\n",
    "    if (posLT[i+1,1]<=posLT[i,1] and posLT[i,1]>posLT[i-1,1]):\n",
    "        maxY = posLT[i,1]\n",
    "        break\n",
    "        \n",
    "print(\"minX =\", minX)\n",
    "print(\"maxX =\", maxX)\n",
    "print(\"minY =\", minY)\n",
    "print(\"maxY =\", maxY)\n",
    "        \n",
    "a = abs(maxX-minX)/2\n",
    "b = abs(maxY-minY)/2\n",
    "e = numpy.sqrt(1-b**2/a**2)\n",
    "\n",
    "print(\"a =\", a)\n",
    "print(\"b =\", b)\n",
    "print(\"e =\", e)"
   ]
  },
  {
   "cell_type": "code",
   "execution_count": 171,
   "metadata": {},
   "outputs": [
    {
     "name": "stdout",
     "output_type": "stream",
     "text": [
      "period in seconds = 2350400\n",
      "period in 24h-days = 27.203703703703702\n"
     ]
    }
   ],
   "source": [
    "# Compute the period\n",
    "\n",
    "for i in range(2,N-1):\n",
    "    if (posLT[i+1,0]>=posLT[i,0] and posLT[i,0]<posLT[i-1,0]):\n",
    "        period = i*dt\n",
    "        break\n",
    "        \n",
    "print(\"period in seconds =\", period)\n",
    "print(\"period in 24h-days =\", period/24/3600)"
   ]
  },
  {
   "cell_type": "markdown",
   "metadata": {},
   "source": [
    "Trouvons à présent l'apogée de l'orbite de la lune autour de la Terre."
   ]
  },
  {
   "cell_type": "code",
   "execution_count": 172,
   "metadata": {},
   "outputs": [],
   "source": [
    "for i in range(1,N-1):\n",
    "    if (posLT[i+1,0]<=posLT[i,0] and posLT[i,0]>posLT[i-1,0]):\n",
    "        indexApoL = i\n",
    "        break\n",
    "\n",
    "#nouvelles conditions initiales pour T, L\n",
    "newInitL = dataL[indexApoL]\n",
    "newInitT = dataT[indexApoL]"
   ]
  },
  {
   "cell_type": "markdown",
   "metadata": {},
   "source": [
    "## Order of convergence"
   ]
  },
  {
   "cell_type": "code",
   "execution_count": 173,
   "metadata": {
    "collapsed": true
   },
   "outputs": [],
   "source": [
    "# plagiat ?\n",
    "\n",
    "def get_diffgrid(data_current, data_fine, dt):\n",
    "    \n",
    "    N_current = len(data_current[:,0])\n",
    "    N_fine = len(data_fine[:,0])\n",
    "   \n",
    "    grid_size_ratio = int(numpy.ceil(N_fine/N_current))\n",
    "    \n",
    "    diffgrid = dt * numpy.sum( numpy.abs(\\\n",
    "            data_current[:,0]- data_fine[::grid_size_ratio,0])) \n",
    "    \n",
    "    return diffgrid"
   ]
  },
  {
   "cell_type": "code",
   "execution_count": 174,
   "metadata": {
    "collapsed": true
   },
   "outputs": [],
   "source": [
    "# Show the order of the method\n",
    "\n",
    "r = 2\n",
    "h = 10\n",
    "\n",
    "dt_values = numpy.array([h, r*h, r**2*h, r**3*h,r**4*h,r**5*h,r**6*h,r**7*h,r**8*h])\n",
    "\n",
    "#dt_values = numpy.array([1000,300,100,30,10])  #,3,1\n",
    "dataL_values = numpy.empty_like(dt_values, dtype=numpy.ndarray)\n",
    "\n",
    "for i, dt in enumerate(dt_values):\n",
    "    \n",
    "    N2 = int(T/dt)+1\n",
    "        \n",
    "    dataL = numpy.empty((N2, 4))\n",
    "    dataT = numpy.empty((N2, 4))\n",
    "    \n",
    "    dataL[0] = dataL0\n",
    "    dataT[0] = dataT0\n",
    "\n",
    "    for t in range(1,N2):\n",
    "        W = rk4(f, dataT[t-1], dataL[t-1], dt)\n",
    "        dataT[t] = W[0]\n",
    "        dataL[t] = W[1]\n",
    "    \n",
    "    dataL_values[i] = dataL"
   ]
  },
  {
   "cell_type": "code",
   "execution_count": 175,
   "metadata": {
    "collapsed": true
   },
   "outputs": [],
   "source": [
    "# Compute the differences\n",
    "\n",
    "diffgridL = numpy.empty_like(dt_values, dtype=numpy.ndarray)\n",
    "\n",
    "for i, dt in enumerate(dt_values):\n",
    "    \n",
    "    diffgridL[i] = get_diffgrid(dataL_values[i], dataL_values[0], dt)"
   ]
  },
  {
   "cell_type": "code",
   "execution_count": 176,
   "metadata": {},
   "outputs": [
    {
     "name": "stdout",
     "output_type": "stream",
     "text": [
      "[0.0 48.864058298677264 56.449983477941714 61.072963862679899\n",
      " 14.141684626229107 59.982822914607823 459.65624992735684\n",
      " 7146.5193011984229 115359.62082497776]\n"
     ]
    }
   ],
   "source": [
    "print(diffgridL)"
   ]
  },
  {
   "cell_type": "code",
   "execution_count": 177,
   "metadata": {},
   "outputs": [
    {
     "name": "stdout",
     "output_type": "stream",
     "text": [
      "[-2.1341539783556143 3.148235537695043 -1.0272961557026385\n",
      " -0.044440627353790875 3.0915374366950132 4.0625613271827925\n",
      " 4.016372956221617 None None]\n"
     ]
    }
   ],
   "source": [
    "alpha = numpy.empty_like(dt_values, dtype=numpy.ndarray)\n",
    "\n",
    "for i in range(0, len(dt_values)-2):\n",
    "    \n",
    "    alpha[i] = (log(get_diffgrid(dataL_values[i+2], dataL_values[i+1], dt_values[i+2])) \n",
    "             - log(get_diffgrid(dataL_values[i+1], dataL_values[i], dt_values[i+1]))) / log(r)\n",
    "\n",
    "print(alpha)"
   ]
  },
  {
   "cell_type": "code",
   "execution_count": 178,
   "metadata": {},
   "outputs": [
    {
     "data": {
      "image/png": "[encoded data removed]",
      "text/plain": [
       "<matplotlib.figure.Figure at 0x7ff03908a080>"
      ]
     },
     "metadata": {},
     "output_type": "display_data"
    }
   ],
   "source": [
    "pyplot.figure(figsize=(6,6))\n",
    "pyplot.grid(True)\n",
    "pyplot.xlabel(r'$\\Delta t$', fontsize=18)\n",
    "pyplot.ylabel(r'$L_1$-norm of the grid differences', fontsize=18)\n",
    "pyplot.xlim(1e-4,1)\n",
    "pyplot.ylim(1e-4,1)\n",
    "pyplot.axis('equal')\n",
    "pyplot.loglog(dt_values[1:], diffgridL[1:], color='k', ls='--', lw=2, marker='o');"
   ]
  },
  {
   "cell_type": "markdown",
   "metadata": {},
   "source": [
    "## Système Terre - Lune - astéroïde"
   ]
  },
  {
   "cell_type": "markdown",
   "metadata": {},
   "source": [
    "A présent, la partie avec l'astéroïde. Il faut tout d'abord repéré le centre de l'ellipse parcourue par la lune autour de la Terre qui est dans son repère au repos."
   ]
  },
  {
   "cell_type": "code",
   "execution_count": 179,
   "metadata": {
    "collapsed": true
   },
   "outputs": [],
   "source": [
    "# Find the ellipse LT's center\n",
    "Xcenter = (maxX+minX)/2\n",
    "Ycenter = (maxY+minY)/2"
   ]
  },
  {
   "cell_type": "code",
   "execution_count": 180,
   "metadata": {
    "collapsed": true
   },
   "outputs": [],
   "source": [
    "# NEW f ast\n",
    "\n",
    "def f_ast(uT,uL,uA): \n",
    "    out = numpy.empty((3,4))  \n",
    "    out[0] = numpy.array([uT[2],uT[3],-G*mL*(uT[0]-uL[0])/((uT[0]-uL[0])**2+(uT[1]-uL[1])**2)**(3/2),\\\n",
    "                          -G*mL*(uT[1]-uL[1])/((uT[0]-uL[0])**2+(uT[1]-uL[1])**2)**(3/2)])     \n",
    "    out[1] = numpy.array([uL[2],uL[3],-G*mT*(uL[0]-uT[0])/((uT[0]-uL[0])**2+(uT[1]-uL[1])**2)**(3/2),\\\n",
    "                          -G*mT*(uL[1]-uT[1])/((uT[0]-uL[0])**2+(uT[1]-uL[1])**2)**(3/2)])\n",
    "    out[2] = numpy.array([uA[2],uA[3],-G*mT*(uA[0]-uT[0])/((uT[0]-uA[0])**2+(uT[1]-uA[1])**2)**(3/2)\\\n",
    "                          -G*mL*(uA[0]-uL[0])/((uL[0]-uA[0])**2+(uL[1]-uA[1])**2)**(3/2),\\\n",
    "                          -G*mT*(uA[1]-uT[1])/((uT[0]-uA[0])**2+(uT[1]-uA[1])**2)**(3/2)\\\n",
    "                          -G*mL*(uA[1]-uL[1])/((uL[0]-uA[0])**2+(uL[1]-uA[1])**2)**(3/2)])\n",
    "    return out"
   ]
  },
  {
   "cell_type": "code",
   "execution_count": 181,
   "metadata": {
    "collapsed": true
   },
   "outputs": [],
   "source": [
    "# NEW rk4 ast\n",
    "def rk4_ast(f,u,v,w,dt): \n",
    "    k1 = f(u,v,w)\n",
    "    k2 = f(u+dt/2*k1[0,:],v+dt/2*k1[1,:],w+dt/2*k1[2,:])\n",
    "    k3 = f(u+dt/2*k2[0,:],v+dt/2*k2[1,:],w+dt/2*k2[2,:])\n",
    "    k4 = f(u+dt*k3[0,:],v+dt*k3[1,:],w+dt*k3[2,:])\n",
    "    \n",
    "    out = numpy.empty((3,4))\n",
    "    out[0] = u+dt/6*(k1[0,:]+2*k2[0,:]+2*k3[0,:]+k4[0,:])\n",
    "    out[1] = v+dt/6*(k1[1,:]+2*k2[1,:]+2*k3[1,:]+k4[1,:])\n",
    "    out[2] = w+dt/6*(k1[2,:]+2*k2[2,:]+2*k3[2,:]+k4[2,:])\n",
    "    return out"
   ]
  },
  {
   "cell_type": "markdown",
   "metadata": {},
   "source": [
    "Trouvons l'instant *t_apL* où la lune est à l'apogée de sa trajectoire autour de la Terre qui est dans son repère au repos. Nous avons positionné les axes de sorte que l'apogée se trouve sur l'axe des abscisses."
   ]
  },
  {
   "cell_type": "code",
   "execution_count": 182,
   "metadata": {
    "collapsed": true
   },
   "outputs": [],
   "source": [
    "#NEW ast\n",
    "T = 3600*24*3\n",
    "dt = 100\n",
    "N = 1+int(T/dt)\n",
    "\n",
    "mT = 5.972*10**24\n",
    "mL = 7.348*10**22\n",
    "G = 6.67408*10**-11\n",
    "\n",
    "dataL = numpy.empty((N,4)) \n",
    "dataT = dataL.copy()\n",
    "dataA = dataL.copy()\n",
    "\n",
    "dataL[0] = newInitL # conditions initiales\n",
    "dataT[0] = newInitT\n",
    "dataA[0] = [Xcenter, Ycenter,-3000,1500]"
   ]
  },
  {
   "cell_type": "code",
   "execution_count": 183,
   "metadata": {
    "collapsed": true
   },
   "outputs": [],
   "source": [
    "for t in range(1,N):\n",
    "    W = rk4_ast(f_ast,dataT[t-1],dataL[t-1],dataA[t-1],dt)\n",
    "    dataT[t] = W[0]\n",
    "    dataL[t] = W[1]\n",
    "    dataA[t] = W[2]\n",
    "    \n",
    "posLT = dataL[:,0:2] - dataT[:,0:2] #position de la lune dans le repère de la Terre\n",
    "posAT = dataA[:,0:2] - dataT[:,0:2] #position de l'astéroïde dans le repère de la Terre"
   ]
  },
  {
   "cell_type": "code",
   "execution_count": 184,
   "metadata": {},
   "outputs": [
    {
     "data": {
      "image/png": "[encoded data removed]",
      "text/plain": [
       "<matplotlib.figure.Figure at 0x7ff0388ac668>"
      ]
     },
     "metadata": {},
     "output_type": "display_data"
    }
   ],
   "source": [
    "# Plot the position of the moon and the earth in the initial frame\n",
    "\n",
    "pyplot.figure(figsize=(10,6))\n",
    "pyplot.grid(True)\n",
    "pyplot.xlabel('$x$')\n",
    "pyplot.ylabel('$y$')\n",
    "pyplot.plot(dataL[:,0],dataL[:,1], 'b-', label='RK4')\n",
    "pyplot.plot(dataT[:,0],dataT[:,1], 'b-', label='RK4')\n",
    "pyplot.plot(dataA[:,0],dataA[:,1], 'r-', label='RK4')\n",
    "pyplot.title('Positions of the asteroïd, the moon and the earth in the initial frame')\n",
    "pyplot.legend();\n",
    "pyplot.show();"
   ]
  },
  {
   "cell_type": "code",
   "execution_count": 185,
   "metadata": {
    "scrolled": false
   },
   "outputs": [
    {
     "data": {
      "image/png": "[encoded data removed]",
      "text/plain": [
       "<matplotlib.figure.Figure at 0x7ff0400c7c50>"
      ]
     },
     "metadata": {},
     "output_type": "display_data"
    }
   ],
   "source": [
    "# Plot the position of the moon and the asteroïd in the rest frame of the earth\n",
    "\n",
    "pyplot.figure(figsize=(10,6))\n",
    "pyplot.grid(True)\n",
    "pyplot.xlabel('$x$')\n",
    "pyplot.ylabel('$y$')\n",
    "pyplot.plot(posLT[:,0],posLT[:,1], 'b-', label='RK4')\n",
    "pyplot.plot(posAT[:,0],posAT[:,1], 'r-', label='RK4')\n",
    "pyplot.title('Positions of the moon and the asteroïd in the rest frame of the earth')\n",
    "pyplot.legend();\n",
    "pyplot.show();"
   ]
  },
  {
   "cell_type": "code",
   "execution_count": 186,
   "metadata": {},
   "outputs": [
    {
     "data": {
      "text/plain": [
       "array([  3.95345121e+08,   3.95345112e+08,   3.95345079e+08, ...,\n",
       "         3.16045940e+08,   3.15986493e+08,   3.15927026e+08])"
      ]
     },
     "execution_count": 186,
     "metadata": {},
     "output_type": "execute_result"
    }
   ],
   "source": [
    "dataL[:,0]"
   ]
  },
  {
   "cell_type": "markdown",
   "metadata": {
    "collapsed": true
   },
   "source": [
    "### Animations des trajectoires"
   ]
  },
  {
   "cell_type": "code",
   "execution_count": 187,
   "metadata": {},
   "outputs": [
    {
     "name": "stderr",
     "output_type": "stream",
     "text": [
      "Traceback (most recent call last):\n",
      "  File \"/home/maxime/anaconda3/lib/python3.6/site-packages/matplotlib/cbook/__init__.py\", line 389, in process\n",
      "    proxy(*args, **kwargs)\n",
      "  File \"/home/maxime/anaconda3/lib/python3.6/site-packages/matplotlib/cbook/__init__.py\", line 227, in __call__\n",
      "    return mtd(*args, **kwargs)\n",
      "  File \"/home/maxime/anaconda3/lib/python3.6/site-packages/matplotlib/animation.py\", line 1081, in _start\n",
      "    self._init_draw()\n",
      "  File \"/home/maxime/anaconda3/lib/python3.6/site-packages/matplotlib/animation.py\", line 1792, in _init_draw\n",
      "    self._draw_frame(next(self.new_frame_seq()))\n",
      "  File \"/home/maxime/anaconda3/lib/python3.6/site-packages/matplotlib/animation.py\", line 1814, in _draw_frame\n",
      "    self._drawn_artists = self._func(framedata, *self._args)\n",
      "  File \"<ipython-input-187-af8e22965074>\", line 5, in animate_LT\n",
      "    x = numpy.linspace(0,100,len(data))\n",
      "NameError: name 'data' is not defined\n"
     ]
    },
    {
     "data": {
      "image/png": "[encoded data removed]",
      "text/plain": [
       "<matplotlib.figure.Figure at 0x7ff0388a2f28>"
      ]
     },
     "metadata": {},
     "output_type": "display_data"
    }
   ],
   "source": [
    "from matplotlib import animation\n",
    "from IPython.display import HTML\n",
    "\n",
    "def animate_LT(i):\n",
    "    x = numpy.linspace(0,100,len(data))\n",
    "    y = data\n",
    "    line.set_dataL(x,y)\n",
    "    return line,\n",
    "\n",
    "fig = pyplot.figure()\n",
    "ax = pyplot.axes(xlim=(-500000000,500000000),ylim=(-500000000,500000000),xlabel=('x'),ylabel=('y'))\n",
    "\n",
    "line, = ax.plot([],[],color='#003366', lw=2)\n",
    "\n",
    "anim = animation.FuncAnimation(fig, animate_LT,interval=1000,frames=period)\n",
    "#HTML(anim.to_html5_video())\n",
    "pyplot.show()"
   ]
  },
  {
   "cell_type": "code",
   "execution_count": 189,
   "metadata": {},
   "outputs": [
    {
     "name": "stderr",
     "output_type": "stream",
     "text": [
      "/home/maxime/anaconda3/lib/python3.6/site-packages/matplotlib/animation.py:1218: UserWarning: MovieWriter ffmpeg unavailable\n",
      "  warnings.warn(\"MovieWriter %s unavailable\" % writer)\n"
     ]
    },
    {
     "data": {
      "image/png": "[encoded data removed]",
      "text/plain": [
       "<matplotlib.figure.Figure at 0x7ff038775828>"
      ]
     },
     "metadata": {},
     "output_type": "display_data"
    }
   ],
   "source": [
    "\"\"\"\n",
    "Matplotlib Animation Example\n",
    "\n",
    "author: Jake Vanderplas\n",
    "email: vanderplas@astro.washington.edu\n",
    "website: http://jakevdp.github.com\n",
    "license: BSD\n",
    "Please feel free to use and modify this, but keep the above information. Thanks!\n",
    "\"\"\"\n",
    "\n",
    "import numpy as np\n",
    "from matplotlib import pyplot as plt\n",
    "from matplotlib import animation\n",
    "\n",
    "# First set up the figure, the axis, and the plot element we want to animate\n",
    "fig = plt.figure()\n",
    "ax = plt.axes(xlim=(0, 2), ylim=(-2, 2))\n",
    "line, = ax.plot([], [], lw=2)\n",
    "\n",
    "# initialization function: plot the background of each frame\n",
    "def init():\n",
    "    line.set_data([], [])\n",
    "    return line,\n",
    "\n",
    "# animation function.  This is called sequentially\n",
    "def animate(i):\n",
    "    x = np.linspace(0, 2, 1000)\n",
    "    y = np.sin(2 * np.pi * (x - 0.01 * i))\n",
    "    line.set_data(x, y)\n",
    "    return line,\n",
    "\n",
    "# call the animator.  blit=True means only re-draw the parts that have changed.\n",
    "anim = animation.FuncAnimation(fig, animate, init_func=init,\n",
    "                               frames=200, interval=20, blit=True)\n",
    "\n",
    "# save the animation as an mp4.  This requires ffmpeg or mencoder to be\n",
    "# installed.  The extra_args ensure that the x264 codec is used, so that\n",
    "# the video can be embedded in html5.  You may need to adjust this for\n",
    "# your system: for more information, see\n",
    "# http://matplotlib.sourceforge.net/api/animation_api.html\n",
    "anim.save('basic_animation.mp4', fps=30, extra_args=['-vcodec', 'libx264'])\n",
    "\n",
    "plt.show()"
   ]
  },
  {
   "cell_type": "code",
   "execution_count": null,
   "metadata": {
    "collapsed": true
   },
   "outputs": [],
   "source": []
  }
 ],
 "metadata": {
  "kernelspec": {
   "display_name": "Python 3",
   "language": "python",
   "name": "python3"
  },
  "language_info": {
   "codemirror_mode": {
    "name": "ipython",
    "version": 3
   },
   "file_extension": ".py",
   "mimetype": "text/x-python",
   "name": "python",
   "nbconvert_exporter": "python",
   "pygments_lexer": "ipython3",
   "version": "3.6.2"
  }
 },
 "nbformat": 4,
 "nbformat_minor": 2
}
