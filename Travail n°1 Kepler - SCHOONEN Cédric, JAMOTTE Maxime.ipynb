{
 "cells": [
  {
   "cell_type": "markdown",
   "metadata": {},
   "source": [
    "# Travail 1 - Kepler et Runge-Kutta 4"
   ]
  },
  {
   "cell_type": "markdown",
   "metadata": {},
   "source": [
    "## Introduction"
   ]
  },
  {
   "cell_type": "markdown",
   "metadata": {},
   "source": [
    "Nous allons dans ce travail étudier la dynamique newtonienne du système Terre-Lune, en résolvant numériquement les équations de Newton. Nous prendrons pour conditions initiales dans le repère de la Terre que la Lune passe à son périgée ($362600000{\\rm m}$) à une vitesse de $1083.4{\\rm m/s}$. Nous vérifierons que la trajectoire est une ellipse et présenterons les paramètres calculés pour cette ellipse. Ensuite, nous nous intéresserons à l'ordre de convergence de la méthode utilisée. Enfin, nous étudierons la trajectoire d'un astéroïde qui traverse le centre de l'ellipse avec une vitesse $(v_x,v_y)=(-500{\\rm m/s},500 {\\rm m/s})$ lorsque la Lune est à son apogée."
   ]
  },
  {
   "cell_type": "markdown",
   "metadata": {},
   "source": [
    "## Système Terre - Lune"
   ]
  },
  {
   "cell_type": "markdown",
   "metadata": {},
   "source": [
    "### Paramètres et conditions initiales"
   ]
  },
  {
   "cell_type": "markdown",
   "metadata": {},
   "source": [
    "Tout d'abord, importons les librairies utiles à notre travail."
   ]
  },
  {
   "cell_type": "code",
   "execution_count": 1,
   "metadata": {
    "collapsed": true
   },
   "outputs": [],
   "source": [
    "import numpy\n",
    "from math import log,sqrt\n",
    "from matplotlib import pyplot\n",
    "%matplotlib inline"
   ]
  },
  {
   "cell_type": "markdown",
   "metadata": {},
   "source": [
    "Ensuite, entrons les données caractéristiques du système. $T$ est la durée durant laquelle nous voulons simuler les trajectoires de la lune et de la Terre et $N$ est le paramètre qui définit le nombre de lignes des matrices de données de chaque astre."
   ]
  },
  {
   "cell_type": "code",
   "execution_count": 2,
   "metadata": {
    "collapsed": true
   },
   "outputs": [],
   "source": [
    "T = 3600*24*30\n",
    "dt = 10\n",
    "N = 1+int(T/dt)\n",
    "\n",
    "mT = 5.972*10**24\n",
    "mL = 7.348*10**22\n",
    "G = 6.67408*10**-11"
   ]
  },
  {
   "cell_type": "markdown",
   "metadata": {},
   "source": [
    "Nous savons qu'une force gravitationnelle (force attractive) existe entre la Terre et la lune. Selon la loi de Newton, celle-ci s'écrit \n",
    "\n",
    "$${\\bf F}_{L,T}=-{\\bf F}_{T,L}=-Gm_T m_L\\dfrac{{\\bf x_L}-{\\bf x_T}}{(x_L-x_T)^3}$$\n",
    "\n",
    "pour deux masses $m_L$ et $m_T$ s'attirant avec des forces mutuellement opposées séparées d'une distance $r$ qui est la norme du vecteur partant du centre de la Terre jusqu'au centre de la lune. Nos conditions initiales étant données dans le repère de la Terre, nous allons résoudre les équations de Newton dans le repère de la Terre également. Nous avons donc besoin de reformuler notre équation avec comme variable le vecteur ${\\bf r} = {\\bf x_L}-{\\bf x_T}$. \n",
    "\n",
    "$$ {\\bf \\ddot{r}_{LT}} = {\\bf \\ddot{x}_L}-{\\bf \\ddot{x}_T} = \\frac{1}{m_L}{\\bf F}_{L,T} - \\frac{1}{m_T}{\\bf F}_{T,L} = -Gm_T \\dfrac{{\\bf x_L}-{\\bf x_T}}{(x_L-x_T)^3} - Gm_L\\dfrac{{\\bf x_L}-{\\bf x_T}}{(x_L-x_T)^3}$$\n",
    "\n",
    "Ce qui devient\n",
    "\n",
    "$$ {\\bf \\ddot{r}_{LT}} = -G(m_T+m_L)\\dfrac{{\\bf r_{LT}}}{r_{LT}^3} $$"
   ]
  },
  {
   "cell_type": "markdown",
   "metadata": {},
   "source": [
    "Nous allons tout d'abord transformer l'équation de Newton, qui est du deuxième ordre, en un système de deux équations du premier ordre. Pour ce faire, nous introduisons le vectreur $u_{LT} $ définit comme \n",
    "\n",
    "$$ u_{LT}  = \\begin{pmatrix} x_{LT}\\ , y_{LT}\\ , v_{x\\,LT}\\ , v_{y\\,LT}\\end{pmatrix} $$"
   ]
  },
  {
   "cell_type": "markdown",
   "metadata": {},
   "source": [
    "Notre système d'équations différentielles devient\n",
    "\n",
    "$$ \\dot{u}_{LT} = f(u_{LT}) $$ \n",
    "\n",
    "Nous obtenons donc"
   ]
  },
  {
   "cell_type": "markdown",
   "metadata": {},
   "source": [
    "$$ f(u_{LT}) = \\begin{pmatrix} v_{x\\,LT}\\ , v_{y\\,LT}\\ , -\\dfrac{ m_T\\, G\\, x_{LT}}{ \\left[x_{LT}^2 + y_{LT}^2\\right]^{3/2}}\\ , -\\dfrac{ m_T\\, G\\, y_{LT}}{ \\left[x_{LT}^2 + y_{LT}^2\\right]^{3/2}}  \\end{pmatrix} $$"
   ]
  },
  {
   "cell_type": "markdown",
   "metadata": {},
   "source": [
    "Encodons à présent les conditions initiales. Nous nommons $dataLT$ la matrice de données de la lune dans le repère de la Terre. Elle comporte quatre colonnes. Chaque ligne se présentera comme $ u_{LT}  = \\begin{pmatrix} x_{LT}\\ , y_{LT}\\ , v_{x\\,LT}\\ , v_{y\\,LT}\\end{pmatrix} $."
   ]
  },
  {
   "cell_type": "code",
   "execution_count": 3,
   "metadata": {
    "collapsed": true
   },
   "outputs": [],
   "source": [
    "dataLT = numpy.empty((N,4)) \n",
    "\n",
    "# dataL0 = [362600000,0,0,1083.4*mT/(mT+mL)]\n",
    "# dataT0 = [0,0,0,-1083.4*mL/(mT+mL)] #1083.4349740009823\n",
    "\n",
    "dataLT0 = [362600000,0,0,1083.4349740009823]\n",
    "\n",
    "dataLT[0] = dataLT0"
   ]
  },
  {
   "cell_type": "markdown",
   "metadata": {},
   "source": [
    "### \"Fonction d'évolution\""
   ]
  },
  {
   "cell_type": "markdown",
   "metadata": {},
   "source": [
    "Nous ne généraliserons pas la fonction $f$ à plus de deux corps, par soucis de lisibilité car cela n'est pas nécessaire.\n",
    "La première ligne de $out$ est la trajectoire de la Terre, la seconde celle de la Lune."
   ]
  },
  {
   "cell_type": "code",
   "execution_count": 4,
   "metadata": {
    "collapsed": true
   },
   "outputs": [],
   "source": [
    "def f(uLT): \n",
    "    return numpy.array([uLT[2],uLT[3],-G*(mT+mL)*uLT[0]/(uLT[0]**2+uLT[1]**2)**(3/2),\\\n",
    "                        -G*(mT+mL)*uLT[1]/(uLT[0]**2+uLT[1]**2)**(3/2)])     "
   ]
  },
  {
   "cell_type": "markdown",
   "metadata": {},
   "source": [
    "### Implémentation de Runge Kutta 4"
   ]
  },
  {
   "cell_type": "markdown",
   "metadata": {},
   "source": [
    "Ci-dessous la méthode \"Runge Kutta 4\" appliquée directement à la trajectoire de la Lune."
   ]
  },
  {
   "cell_type": "code",
   "execution_count": 5,
   "metadata": {
    "collapsed": true
   },
   "outputs": [],
   "source": [
    "def rk4(f,uLT,dt): \n",
    "    k1 = f(uLT)\n",
    "    k2 = f(uLT+dt/2*k1)\n",
    "    k3 = f(uLT+dt/2*k2)\n",
    "    k4 = f(uLT+dt*k3)\n",
    "    \n",
    "    return uLT+dt/6*(k1+2*k2+2*k3+k4)"
   ]
  },
  {
   "cell_type": "markdown",
   "metadata": {},
   "source": [
    "### Calcul de la trajectoire"
   ]
  },
  {
   "cell_type": "markdown",
   "metadata": {
    "collapsed": true
   },
   "source": [
    "Calculons maintenant la trajectoire. Notons que $dataLT[t]$ est le vecteur $u_{LT}$ input de $f$ au temps $t$."
   ]
  },
  {
   "cell_type": "code",
   "execution_count": 6,
   "metadata": {
    "collapsed": true
   },
   "outputs": [],
   "source": [
    "for t in range(1,N):\n",
    "    \n",
    "    dataLT[t] = rk4(f,dataLT[t-1],dt)"
   ]
  },
  {
   "cell_type": "markdown",
   "metadata": {},
   "source": [
    "Affichons la position de la lune dans le repère de la Terre"
   ]
  },
  {
   "cell_type": "code",
   "execution_count": 7,
   "metadata": {},
   "outputs": [
    {
     "data": {
      "image/png": "[encoded data removed]",
      "text/plain": [
       "<matplotlib.figure.Figure at 0x20e3a760da0>"
      ]
     },
     "metadata": {},
     "output_type": "display_data"
    }
   ],
   "source": [
    "pyplot.figure(figsize=(10,6))\n",
    "pyplot.grid(True)\n",
    "pyplot.xlabel('$x$')\n",
    "pyplot.ylabel('$y$')\n",
    "pyplot.plot(dataLT[:,0],dataLT[:,1], 'b-', label='RK4')\n",
    "pyplot.title('Position de la Lune dans le repère de la Terre')\n",
    "pyplot.legend();\n",
    "pyplot.show();"
   ]
  },
  {
   "cell_type": "markdown",
   "metadata": {},
   "source": [
    "### Paramètres : grand et petit axes, excentricité et période"
   ]
  },
  {
   "cell_type": "markdown",
   "metadata": {},
   "source": [
    "Etant donné que la Lune commence sur l'axe $x$ avec une vitesse le long de $y$, les demi-grand axe $a$ et demi-petit axe $b$ sont alignés avec les axes $x$ et $y$ respectivement. Nous pouvons alors les calculer à par des minima et maxima de la trajectoire le long des composantes."
   ]
  },
  {
   "cell_type": "code",
   "execution_count": 8,
   "metadata": {
    "collapsed": true
   },
   "outputs": [],
   "source": [
    "def computeParameters(posEllipse):\n",
    "    a = 1/2*(numpy.max(posEllipse[:,0])-numpy.min(posEllipse[:,0]))\n",
    "    b = 1/2*(numpy.max(posEllipse[:,1])-numpy.min(posEllipse[:,1]))\n",
    "    e = numpy.sqrt(1-b**2/a**2)\n",
    "    return numpy.array([a,b,e])"
   ]
  },
  {
   "cell_type": "code",
   "execution_count": 9,
   "metadata": {},
   "outputs": [
    {
     "name": "stdout",
     "output_type": "stream",
     "text": [
      "a = 383663116.433\n",
      "b = 383084497.255\n",
      "e = 0.0549000295925\n"
     ]
    }
   ],
   "source": [
    "parameters = computeParameters(dataLT)\n",
    "\n",
    "a = parameters[0]\n",
    "b = parameters[1]\n",
    "e = parameters[2]\n",
    "\n",
    "print(\"a =\", a)\n",
    "print(\"b =\", b)\n",
    "print(\"e =\", e)"
   ]
  },
  {
   "cell_type": "code",
   "execution_count": 10,
   "metadata": {},
   "outputs": [
    {
     "name": "stdout",
     "output_type": "stream",
     "text": [
      "minX = -404726232.867\n",
      "maxX = 362599999.995\n",
      "minY = -383084497.255\n",
      "maxY = 383084497.254\n",
      "a = 383663116.431\n",
      "b = 383084497.255\n",
      "e = 0.0549000294758\n"
     ]
    }
   ],
   "source": [
    "# Compute the parameters a,b,e\n",
    "\n",
    "minX = 0\n",
    "for i in range(1,N-1):\n",
    "    if (dataLT[i+1,0]>=dataLT[i,0] and dataLT[i,0]<dataLT[i-1,0]):\n",
    "        minX = dataLT[i,0]\n",
    "        break\n",
    "        \n",
    "maxX = 0\n",
    "for i in range(1,N-1):\n",
    "    if (dataLT[i+1,0]<=dataLT[i,0] and dataLT[i,0]>dataLT[i-1,0]):\n",
    "        maxX = dataLT[i,0]\n",
    "        break\n",
    "\n",
    "minY = 0\n",
    "for i in range(1,N-1):\n",
    "    if (dataLT[i+1,1]>=dataLT[i,1] and dataLT[i,1]<dataLT[i-1,1]):\n",
    "        minY = dataLT[i,1]\n",
    "        break\n",
    "        \n",
    "maxY = 0\n",
    "for i in range(1,N-1):\n",
    "    if (dataLT[i+1,1]<=dataLT[i,1] and dataLT[i,1]>dataLT[i-1,1]):\n",
    "        maxY = dataLT[i,1]\n",
    "        break\n",
    "        \n",
    "print(\"minX =\", minX)\n",
    "print(\"maxX =\", maxX)\n",
    "print(\"minY =\", minY)\n",
    "print(\"maxY =\", maxY)\n",
    "        \n",
    "a = abs(maxX-minX)/2\n",
    "b = abs(maxY-minY)/2\n",
    "e = numpy.sqrt(1-b**2/a**2)\n",
    "\n",
    "print(\"a =\", a)\n",
    "print(\"b =\", b)\n",
    "print(\"e =\", e)"
   ]
  },
  {
   "cell_type": "code",
   "execution_count": 11,
   "metadata": {},
   "outputs": [
    {
     "name": "stdout",
     "output_type": "stream",
     "text": [
      "period in seconds = 2350680\n",
      "period in 24h-days = 27.206944444444446\n"
     ]
    }
   ],
   "source": [
    "# This method will not work for negative values of initial conditions\n",
    "\n",
    "for i in range(2,N-1):\n",
    "    if (dataLT[i+1,0]<=dataLT[i,0] and dataLT[i,0]>dataLT[i-1,0]):\n",
    "        period = i*dt\n",
    "        break\n",
    "        \n",
    "print(\"period in seconds =\", period)\n",
    "print(\"period in 24h-days =\", period/24/3600)"
   ]
  },
  {
   "cell_type": "markdown",
   "metadata": {},
   "source": [
    "Trouvons à présent l'apogée de l'orbite de la Lune autour de la Terre (cette donnée nous sera utile plus loin dans le travail)."
   ]
  },
  {
   "cell_type": "code",
   "execution_count": 12,
   "metadata": {},
   "outputs": [
    {
     "name": "stdout",
     "output_type": "stream",
     "text": [
      "[ -4.04726233e+08   8.74554030e+02  -2.21930424e-03  -9.70664834e+02]\n"
     ]
    }
   ],
   "source": [
    "for i in range(1,N-1):\n",
    "    if (dataLT[i+1,0]>=dataLT[i,0] and dataLT[i,0]<dataLT[i-1,0]):\n",
    "        indexApogee = i\n",
    "        break\n",
    "\n",
    "uLT_apogee = dataLT[indexApogee]\n",
    "print(uLT_apogee)"
   ]
  },
  {
   "cell_type": "markdown",
   "metadata": {},
   "source": [
    "### Système Terre-Lune théorique"
   ]
  },
  {
   "cell_type": "markdown",
   "metadata": {},
   "source": [
    "Calculons à présent analytiquement la période. Premièrement, nous connaissons la relation permettant de trouver la position du centre de masse:\n",
    "$$ R_{CM} = \\dfrac{ m_T \\mathbf{x_T} + m_L \\mathbf{x_L}}{m_t + m_L}$$\n",
    "\n",
    "Deuxièmement, nous savons que la force de gravité est une force centrale et donc $\\mathbf{x} \\times \\mathbf{F} = \\dfrac{d\\mathbf{L}}{dt} = 0$ pour $\\mathbf{L} = \\mu \\mathbf{x} \\times \\mathbf{\\dot{x}}$ le moment cinétique de la Lune et pour $\\mu = \\dfrac{m_L m_T}{m_T+m_L}$. Nous obtenons que $\\mathbf{L}$ est une constante du mouvement. Il nous est permis également de considérer un plan dont un vecteur normal est $\\mathbf{L}$. C'est dans ce dernier que se meut la Lune puisque $\\mathbf{L} \\perp \\mathbf{x}$ et $\\mathbf{L} \\perp \\mathbf{\\dot{x}}$.\n",
    "\n",
    "Ensuite, comme nous l'avons vu précédemment, ${\\mathbf r} = {\\mathbf x_L}-{\\mathbf x_T}$. Nous obtenons ainsi\n",
    "$$ \\left\\{\n",
    "\\begin{array}{c}\n",
    " \\mathbf{x_L} = \\mathbf{R_{CM}} + \\dfrac{m_T}{m_T + m_L} \\mathbf{r}\\\\\n",
    "  \\mathbf{x_T} = \\mathbf{R_{CM}} - \\dfrac{m_L}{m_T + m_L} \\mathbf{r} \n",
    "\\end{array}\n",
    "\\right.$$\n",
    "\n",
    "Nous recalculons l'énergie totale du système ainsi que le moment cinétique total:\n",
    "$$\\begin{array}{c}\n",
    "  &E_{tot} = \\dfrac{1}{2} m_L \\mathbf{\\dot{x}_L} + \\dfrac{1}{2} m_T \\mathbf{\\dot{x}_T} + U(\\|\\mathbf{x_L} - \\mathbf{x_T}\\|) = \\dfrac{1}{2} \\mu \\mathbf{\\dot{r}}^2 + \\dfrac{1}{2} (m_T + m_L) \\mathbf{\\dot{R}^2_{CM}} + U(r)\\\\\n",
    "  &\\mathbf{L}_{tot} = m_L \\mathbf{x_L} \\times \\mathbf{\\dot{x}_L} + m_T \\mathbf{x_T} \\times \\mathbf{\\dot{x}_T} = (m_T + m_L) \\mathbf{R_{CM}} \\times \\mathbf{\\dot{R}_{CM}} + \\mu \\mathbf{r} \\times \\mathbf{\\dot{r}}\n",
    "\\end{array}$$\n",
    "\n",
    "Plaçons-nous à présent dans le repère de la Terre. Nous ne considérons donc plus le mouvement du centre de masse (assez flou). Nous retranscrivons l'énergie et le moment cinétique dans ce repère:\n",
    "$$ \\begin{array}{c}\n",
    "E = \\dfrac{1}{2} \\mu \\mathbf{\\dot{r}}^2 + U(r)\\\\\n",
    "\\mathbf{L} = \\mu \\mathbf{r} \\times \\mathbf{\\dot{r}}\n",
    "\\end{array}$$\n",
    "\n",
    "Nous passons en coordonnées polaires $(r, \\theta)$ de sorte que\n",
    "$$\\begin{equation}\n",
    "\\mathbf{\\dot{r}}^2 = \\dot{r}^2 + r^2 \\dot{\\theta}^2\n",
    "\\end{equation}$$\n",
    "\n",
    "En outre, pour $L = \\|\\mathbf{L}\\|$ et $S$ l'aire balayée par $\\mathbf{r}$ pendant un temps $t$,\n",
    "$$\\begin{equation}\n",
    "\\dfrac{dS}{dt} = \\dfrac{1}{2} \\|\\mathbf{r} \\times \\mathbf{\\dot{r}} \\| = \\dfrac{L}{2\\mu}\n",
    "\\end{equation}$$\n",
    "\n",
    "que nous réécrivons\n",
    "$$\\begin{equation}\n",
    "\\dfrac{ds}{dt} = \\dfrac{1}{2} r^2 \\dot{\\theta} = \\dfrac{L}{2\\mu}\n",
    "\\end{equation}$$\n",
    "\n",
    "Il s'en suit que \n",
    "$$E = \\dfrac{1}{2} \\mu (\\dot{r}^2 + r^2 \\dot{\\theta}^2) + U(r) = \\dfrac{1}{2} \\mu \\dot{r}^2 + \\dfrac{L^2}{2\\mu r^2} - \\dfrac{G m_T m_L}{r}$$\n",
    "\n",
    "Cette équation différentielle se résout facilement en posant $u = \\dfrac{1}{r}$ et en voyant que \n",
    "$$ \\dfrac{du}{d\\theta} = -\\dfrac{1}{r^2}{dr}{d\\theta} = -\\dfrac{1}{r^2}{\\dot{r}}{\\dot{\\theta}} = -\\dfrac{\\mu}{L}\\dot{r}$$\n",
    "\n",
    "Par cette substitution, il résulte l'équation suivante:\n",
    "$$ \\dfrac{1}{2} \\left(\\dfrac{du}{d\\theta}\\right)^2 + \\dfrac{1}{2} \\left(u-\\dfrac{\\mu G m_L m_T}{L^2}\\right)^2 = \\dfrac{\\mu E}{L^2} +\\dfrac{\\mu^2 (G m_T m_L)^2}{2 L^4}$$\n",
    "\n",
    "que nous dérivons par rapport à $\\theta$: \n",
    "$$\\dfrac{d^2u}{d\\theta^2} = \\dfrac{\\mu G m_L m_T}{L^2} - u$$\n",
    "\n",
    "et qui a comme solution:\n",
    "$$u(\\theta) = \\dfrac{\\mu G m_L m_T}{L^2} (1+\\epsilon \\cos(\\theta - \\theta_0)$$\n",
    "\n",
    "où $\\theta_0$ est l'angle initial (dans notre problème, $\\theta_0 = 0$) et où $e$ est l'excentricité de l'orbite.\n",
    "$$\\epsilon = \\sqrt{1+\\dfrac{2EL^2}{\\mu (G m_T m_L)^2}}$$\n",
    "\n",
    "qui se retraduit en terme de $r$ par:\n",
    "$$r(\\theta) = \\dfrac{L^2}{\\mu G m_T m_L} \\dfrac{1}{1+\\epsilon \\cos(\\theta)}$$\n",
    "\n",
    "Si nous changeons à nouveau de coordonnées:\n",
    "$$ \\left\\{\n",
    "\\begin{array}{c}\n",
    " \\bar{x} = r\\cos(\\theta) + \\dfrac{\\epsilon L^2}{\\mu G m_T m_L (1 - \\epsilon^2)}\\\\\n",
    " \\bar{y} = r \\sin(\\theta) \n",
    "\\end{array}\n",
    "\\right.$$\n",
    "\n",
    "alors nous trouvons une nouvelle équation de l'ellipse:\n",
    "$$ \\dfrac{\\bar{x}}{a^2} + \\dfrac{\\bar{y}}{b^2} = 1$$\n",
    "\n",
    "et les valeurs du demi-grand axe, $a$, et du demi-petit axe, $b$, par identification:\n",
    "$$\\begin{array}{c}\n",
    "  a &= \\dfrac{L^2}{\\mu G m_T m_L(1-\\epsilon^2)}\\\\\n",
    "  b &= a\\sqrt{1-\\epsilon^2}  \n",
    "\\end{array}$$\n",
    "\n",
    "Ceci nous permet de dire que:\n",
    "$$L = \\sqrt{\\mu G m_T m_L a (1-\\epsilon^2)}$$\n",
    "\n",
    "et par la loi des aires:\n",
    "$$\\dfrac{S}{T} = \\dfrac{L}{2\\mu}$$\n",
    "\n",
    "or si la Lune a parcouru l'orbite complètement, l'aire balayée par $\\mathbf{r}$ vaudra $S =\\pi ab = \\pi a^2 \\sqrt{1-\\epsilon^2}$, donc\n",
    "$$T = 2\\pi \\sqrt{\\dfrac{\\mu a^3}{G m_T m_L}} = \\dfrac{2\\pi a^{3/2}}{\\sqrt{G(m_T+m_L)}}$$"
   ]
  },
  {
   "cell_type": "markdown",
   "metadata": {},
   "source": [
    "## Ordre de convergence"
   ]
  },
  {
   "cell_type": "markdown",
   "metadata": {},
   "source": [
    "Implémentons une fonction qui quantifie l'erreur sur les résultats de la simulation. Notre fonction prend les résultats calculés pour un certain dt ainsi que les données calculées avec le plus petit dt disponible et renvoie la valeur absolue de la différence entre le demi-grand axe des ellipses calculée dans les deux cas."
   ]
  },
  {
   "cell_type": "code",
   "execution_count": 14,
   "metadata": {
    "collapsed": true
   },
   "outputs": [],
   "source": [
    "def get_diffgrid(data_current, data_fine):\n",
    "    \n",
    "    #parameters_current = computeParameters(data_current)\n",
    "    #parameters_fine = computeParameters(data_fine)\n",
    "    \n",
    "    #diffgrid = abs(parameters_current[0]-parameters_fine[0])\n",
    "    \n",
    "    diffgrid = abs(data_current[-1,0]-data_fine[-1,0])\n",
    "    \n",
    "    return diffgrid"
   ]
  },
  {
   "cell_type": "markdown",
   "metadata": {},
   "source": [
    "Calculons maintenant la trajectoire de la Lune pour plusieurs pas de temps différents "
   ]
  },
  {
   "cell_type": "code",
   "execution_count": 39,
   "metadata": {
    "collapsed": true
   },
   "outputs": [],
   "source": [
    "r = 2\n",
    "\n",
    "#h = 10\n",
    "h = 1000\n",
    "dt_values = numpy.array([h, r*h, r**2*h, r**3*h])\n",
    "\n",
    "dataLT_values = numpy.empty_like(dt_values, dtype=numpy.ndarray)\n",
    "\n",
    "for i, dt in enumerate(dt_values):\n",
    "    \n",
    "    N2 = int(T/dt)+1\n",
    "        \n",
    "    dataLT = numpy.empty((N2, 4))\n",
    "    \n",
    "    dataLT[0] = dataLT0\n",
    "\n",
    "    for t in range(1,N2):\n",
    "        dataLT[t] = rk4(f, dataLT[t-1], dt)\n",
    "    \n",
    "    dataLT_values[i] = dataLT"
   ]
  },
  {
   "cell_type": "markdown",
   "metadata": {},
   "source": [
    "Calculons les erreurs par rapport à nos données les plus fines grâce à notre fonction get_diffgrid "
   ]
  },
  {
   "cell_type": "code",
   "execution_count": 40,
   "metadata": {
    "collapsed": true
   },
   "outputs": [],
   "source": [
    "diffgridLT = numpy.empty_like(dt_values, dtype=numpy.ndarray)\n",
    "\n",
    "for i in range(len(dt_values)):\n",
    "    \n",
    "    diffgridLT[i] = get_diffgrid(dataLT_values[i], dataLT_values[0])"
   ]
  },
  {
   "cell_type": "code",
   "execution_count": 41,
   "metadata": {},
   "outputs": [
    {
     "name": "stdout",
     "output_type": "stream",
     "text": [
      "[0.0 0.031296491622924805 0.55216765403747559 9.5351797938346863]\n"
     ]
    }
   ],
   "source": [
    "print(diffgridLT)"
   ]
  },
  {
   "cell_type": "code",
   "execution_count": 42,
   "metadata": {
    "scrolled": true
   },
   "outputs": [
    {
     "data": {
      "image/png": "[encoded data removed]",
      "text/plain": [
       "<matplotlib.figure.Figure at 0x20e3afd55c0>"
      ]
     },
     "metadata": {},
     "output_type": "display_data"
    }
   ],
   "source": [
    "pyplot.figure(figsize=(6,6))\n",
    "pyplot.grid(True)\n",
    "pyplot.title(r'norme $L_1$ des différences des demi-grand axes', fontsize=18)\n",
    "pyplot.xlabel(r'$dt$', fontsize=18)\n",
    "pyplot.ylabel(r'erreurs', fontsize=18)\n",
    "pyplot.xlim(1e-4,1)\n",
    "pyplot.ylim(1e-4,1)\n",
    "pyplot.axis('equal')\n",
    "pyplot.loglog(dt_values[1:], diffgridLT[1:], color='k', ls='--', lw=2, marker='o');"
   ]
  },
  {
   "cell_type": "markdown",
   "metadata": {},
   "source": [
    "Calculons enfin l'ordre de convergence $\\alpha$ à partir de ces erreurs"
   ]
  },
  {
   "cell_type": "code",
   "execution_count": 43,
   "metadata": {},
   "outputs": [
    {
     "name": "stdout",
     "output_type": "stream",
     "text": [
      "[4.056853722365219 4.108200812713604]\n"
     ]
    }
   ],
   "source": [
    "alpha = numpy.empty_like(dt_values[:-2], dtype=numpy.ndarray)\n",
    "\n",
    "for i in range(1, len(dt_values)-1):\n",
    "    \n",
    "    #alpha[i-1] = (log(diffgridLT[i+1])-log(diffgridLT[i])) / log(r)\n",
    "    alpha[i-1] = (log(get_diffgrid(dataLT_values[i+1], dataLT_values[i]))\\\n",
    "                  -log(get_diffgrid(dataLT_values[i], dataLT_values[i-1]))) / log(r)\n",
    "\n",
    "print(alpha)"
   ]
  },
  {
   "cell_type": "markdown",
   "metadata": {},
   "source": [
    "## Système Terre - Lune - astéroïde"
   ]
  },
  {
   "cell_type": "markdown",
   "metadata": {},
   "source": [
    "A présent, la partie avec l'astéroïde. Il faut tout d'abord repérer, dans le repère de la Terre, le centre de l'ellipse que parcours la Lune autour de la Terre."
   ]
  },
  {
   "cell_type": "code",
   "execution_count": 20,
   "metadata": {
    "collapsed": true
   },
   "outputs": [],
   "source": [
    "#Xcenter = (maxX+minX)/2\n",
    "#Ycenter = (maxY+minY)/2\n",
    "Xcenter = 1/2*(numpy.max(dataLT[:,0])+numpy.min(dataLT[:,0]))\n",
    "Ycenter = 1/2*(numpy.max(dataLT[:,1])+numpy.min(dataLT[:,1]))"
   ]
  },
  {
   "cell_type": "markdown",
   "metadata": {},
   "source": [
    "La nouvelle fonction \"d'évolution\" du système doit maintenant faire évoluer le vecteur $u_{AT} = (x_{AT},y_{AT},v_{x\\,AT},v_{y\\,AT})$ des coordonnées de l'astéroïde dans le repère de la Terre. Nous négligeons l'influence de l'astéroïde sur l'évolution du vecteur $u_{LT}$ de la Lune qui restera donc inchangée. "
   ]
  },
  {
   "cell_type": "markdown",
   "metadata": {},
   "source": [
    "La force gravitationnelle agissant sur l'astéroïde se sépare en deux contributions: l'attraction de la Terre et celle de la Lune. Avec les notations introduites précédemment, nous pouvons écrire l'accélération de l'astéroïde dans le repère de la Terre comme \n",
    "\n",
    "$$ {\\bf \\ddot{r}_{AT}} = -G(m_T+m_A)\\dfrac{{\\bf r_{AT}}}{r_{AT}^3} - G m_L\\dfrac{{\\bf r_{AT}}-{\\bf r_{LT}}}{(r_{AT}-r_{LT})^3}$$\n",
    "\n",
    "Expression dont nous avons déjà décrit l'obtention du premier terme dans le cas de l'attraction Terre-Lune. Le deuxième terme n'est que l'expression de la simple attraction newtonienne de deux masses. Nous négligeons dans nos calculs la masse $m_A$ de l'astéroïde pour obtenir\n",
    "\n",
    "$$ {\\bf \\ddot{r}_{AT}} \\approx -G m_T\\dfrac{{\\bf r_{AT}}}{r_{AT}^3} - G m_L\\dfrac{{\\bf r_{AT}}-{\\bf r_{LT}}}{(r_{AT}-r_{LT})^3}$$"
   ]
  },
  {
   "cell_type": "code",
   "execution_count": 21,
   "metadata": {
    "collapsed": true
   },
   "outputs": [],
   "source": [
    "def f_ast(uLT,uAT): \n",
    "    out = numpy.empty((2,4))  \n",
    "    out[0] = numpy.array([uLT[2],\\\n",
    "                          uLT[3],\\\n",
    "                          -G*(mT+mL)*uLT[0]/(uLT[0]**2+uLT[1]**2)**(3/2),\\\n",
    "                          -G*(mT+mL)*uLT[1]/(uLT[0]**2+uLT[1]**2)**(3/2)])\n",
    "    out[1] = numpy.array([uAT[2],\\\n",
    "                          uAT[3],\\\n",
    "                          -G*mT*uAT[0]/(uAT[0]**2+uAT[1]**2)**(3/2) + \\\n",
    "                          -G*mL*(uAT[0]-uLT[0])/((uAT[0]-uLT[0])**2+(uAT[1]-uLT[1])**2)**(3/2),\\\n",
    "                          -G*mT*uAT[1]/(uAT[0]**2+uAT[1]**2)**(3/2) + \\\n",
    "                          -G*mL*(uAT[1]-uLT[1])/((uAT[0]-uLT[0])**2+(uAT[1]-uLT[1])**2)**(3/2)])\n",
    "    return out"
   ]
  },
  {
   "cell_type": "markdown",
   "metadata": {},
   "source": [
    "Réécrivons la méthode de Runge-Kutta"
   ]
  },
  {
   "cell_type": "code",
   "execution_count": 22,
   "metadata": {
    "collapsed": true
   },
   "outputs": [],
   "source": [
    "def rk4_ast(f_ast,uLT,uAT,dt): \n",
    "    k1 = f_ast(uLT,uAT)\n",
    "    k2 = f_ast(uLT+dt/2*k1[0,:],uAT+dt/2*k1[1,:])\n",
    "    k3 = f_ast(uLT+dt/2*k2[0,:],uAT+dt/2*k2[1,:])\n",
    "    k4 = f_ast(uLT+dt*k3[0,:],uAT+dt*k3[1,:])\n",
    "    \n",
    "    out = numpy.empty((2,4))\n",
    "    out[0] = uLT+dt/6*(k1[0,:]+2*k2[0,:]+2*k3[0,:]+k4[0,:])\n",
    "    out[1] = uAT+dt/6*(k1[1,:]+2*k2[1,:]+2*k3[1,:]+k4[1,:])\n",
    "    \n",
    "    return out"
   ]
  },
  {
   "cell_type": "markdown",
   "metadata": {},
   "source": [
    "Nous avons précédemment trouvé l'instant où la lune est à l'apogée de sa trajectoire autour de la Terre. Nous pouvons donc entrer nos conditions initiales."
   ]
  },
  {
   "cell_type": "code",
   "execution_count": 23,
   "metadata": {
    "collapsed": true
   },
   "outputs": [],
   "source": [
    "T = 3600*1.75*1\n",
    "dt = 10\n",
    "N = 1+int(T/dt)\n",
    "\n",
    "mT = 5.972*10**24\n",
    "mL = 7.348*10**22\n",
    "G = 6.67408*10**-11\n",
    "\n",
    "dataLT = numpy.empty((N,4)) \n",
    "dataAT = numpy.empty((N,4)) \n",
    "\n",
    "dataLT[0] = uLT_apogee\n",
    "dataAT[0] = [Xcenter, Ycenter,-500,500]"
   ]
  },
  {
   "cell_type": "markdown",
   "metadata": {},
   "source": [
    "Calculons la trajectoire"
   ]
  },
  {
   "cell_type": "code",
   "execution_count": 24,
   "metadata": {
    "collapsed": true
   },
   "outputs": [],
   "source": [
    "for t in range(1,N):\n",
    "    \n",
    "    temp = rk4_ast(f_ast,dataLT[t-1],dataAT[t-1],dt)\n",
    "    dataLT[t] = temp[0]\n",
    "    dataAT[t] = temp[1]"
   ]
  },
  {
   "cell_type": "markdown",
   "metadata": {},
   "source": [
    "Affichons la trajectoire"
   ]
  },
  {
   "cell_type": "code",
   "execution_count": 25,
   "metadata": {},
   "outputs": [
    {
     "data": {
      "image/png": "[encoded data removed]",
      "text/plain": [
       "<matplotlib.figure.Figure at 0x7fb5480248d0>"
      ]
     },
     "metadata": {},
     "output_type": "display_data"
    }
   ],
   "source": [
    "pyplot.figure(figsize=(10,6))\n",
    "pyplot.grid(True)\n",
    "pyplot.xlabel('$x$')\n",
    "pyplot.ylabel('$y$')\n",
    "pyplot.plot(dataLT[:,0],dataLT[:,1], 'b-', label='RK4')\n",
    "pyplot.plot(dataAT[:,0],dataAT[:,1], 'r-', label='RK4')\n",
    "pyplot.title('Positions de la Lune et de l\\'astéroïde dans le repère de la Terre')\n",
    "pyplot.legend();\n",
    "pyplot.show();"
   ]
  },
  {
   "cell_type": "markdown",
   "metadata": {},
   "source": [
    "### Etude de l'impact entre l'astéroïde et la Terre"
   ]
  },
  {
   "cell_type": "markdown",
   "metadata": {},
   "source": [
    "LA POSITION ET VITESSE INITIALE DE LA LUNE CHANGENT LES RESULTATS QUANT A LA TRAJECTOIRE DE L ASTEROIDE (FAUSSE LIBERTE DE SIGNE)(CONDITIONS INITIALES DONNEES RELATIVEMENT POUR LA LUNE ET ABSOLUMENT POUR L'ASTEROIDE)"
   ]
  },
  {
   "cell_type": "markdown",
   "metadata": {},
   "source": [
    "Nous commençons par encoder le rayon de la Terre"
   ]
  },
  {
   "cell_type": "code",
   "execution_count": 26,
   "metadata": {
    "collapsed": true
   },
   "outputs": [],
   "source": [
    "radiusT = 6371000"
   ]
  },
  {
   "cell_type": "markdown",
   "metadata": {},
   "source": [
    "Nous cherchons ensuite l'instant de collision"
   ]
  },
  {
   "cell_type": "code",
   "execution_count": 39,
   "metadata": {},
   "outputs": [
    {
     "name": "stdout",
     "output_type": "stream",
     "text": [
      "Temps écoulé avant l'impact = 5630 secondes\n"
     ]
    }
   ],
   "source": [
    "indexImpact = 0\n",
    "\n",
    "for t in range(1,N):\n",
    "    \n",
    "    if (dataAT[t,0]**2+dataAT[t,1]**2)<=radiusT**2:\n",
    "        \n",
    "        indexImpact = t\n",
    "        break\n",
    "        \n",
    "print('Temps écoulé avant l\\'impact =', indexImpact*dt, 'secondes')"
   ]
  },
  {
   "cell_type": "markdown",
   "metadata": {},
   "source": [
    "Nous trouvons le point d'impact"
   ]
  },
  {
   "cell_type": "code",
   "execution_count": 40,
   "metadata": {},
   "outputs": [
    {
     "name": "stdout",
     "output_type": "stream",
     "text": [
      "Point d'impact: x = -6060298.61029  y = 1647507.12772\n"
     ]
    }
   ],
   "source": [
    "print('Point d\\'impact: x =', dataAT[indexImpact,0], ' y =', dataAT[indexImpact,1])"
   ]
  },
  {
   "cell_type": "markdown",
   "metadata": {},
   "source": [
    "Nous trouvons la norme de la vitesse d'impact"
   ]
  },
  {
   "cell_type": "code",
   "execution_count": 44,
   "metadata": {},
   "outputs": [
    {
     "name": "stdout",
     "output_type": "stream",
     "text": [
      "Vitesse d'impact: v = 9464.815921791213 m/s\n"
     ]
    }
   ],
   "source": [
    "print('Vitesse d\\'impact: v =', sqrt(dataAT[indexImpact,2]**2+dataAT[indexImpact,3]**2), 'm/s')"
   ]
  },
  {
   "cell_type": "markdown",
   "metadata": {
    "collapsed": true
   },
   "source": [
    "### Animations des trajectoires"
   ]
  },
  {
   "cell_type": "code",
   "execution_count": null,
   "metadata": {
    "collapsed": true
   },
   "outputs": [],
   "source": [
    "from matplotlib import animation\n",
    "from IPython.display import HTML\n",
    "\n",
    "def animate_LT(i):\n",
    "    x = numpy.linspace(0,100,len(data))\n",
    "    y = data\n",
    "    line.set_dataL(x,y)\n",
    "    return line,\n",
    "\n",
    "fig = pyplot.figure()\n",
    "ax = pyplot.axes(xlim=(-500000000,500000000),ylim=(-500000000,500000000),xlabel=('x'),ylabel=('y'))\n",
    "\n",
    "line, = ax.plot([],[],color='#003366', lw=2)\n",
    "\n",
    "anim = animation.FuncAnimation(fig, animate_LT,interval=1000,frames=period)\n",
    "#HTML(anim.to_html5_video())\n",
    "pyplot.show()"
   ]
  },
  {
   "cell_type": "code",
   "execution_count": null,
   "metadata": {
    "collapsed": true
   },
   "outputs": [],
   "source": [
    "\"\"\"\n",
    "Matplotlib Animation Example\n",
    "\n",
    "author: Jake Vanderplas\n",
    "email: vanderplas@astro.washington.edu\n",
    "website: http://jakevdp.github.com\n",
    "license: BSD\n",
    "Please feel free to use and modify this, but keep the above information. Thanks!\n",
    "\"\"\"\n",
    "\n",
    "import numpy as np\n",
    "from matplotlib import pyplot as plt\n",
    "from matplotlib import animation\n",
    "\n",
    "# First set up the figure, the axis, and the plot element we want to animate\n",
    "fig = plt.figure()\n",
    "ax = plt.axes(xlim=(0, 2), ylim=(-2, 2))\n",
    "line, = ax.plot([], [], lw=2)\n",
    "\n",
    "# initialization function: plot the background of each frame\n",
    "def init():\n",
    "    line.set_data([], [])\n",
    "    return line,\n",
    "\n",
    "# animation function.  This is called sequentially\n",
    "def animate(i):\n",
    "    x = np.linspace(0, 2, 1000)\n",
    "    y = np.sin(2 * np.pi * (x - 0.01 * i))\n",
    "    line.set_data(x, y)\n",
    "    return line,\n",
    "\n",
    "# call the animator.  blit=True means only re-draw the parts that have changed.\n",
    "anim = animation.FuncAnimation(fig, animate, init_func=init,\n",
    "                               frames=200, interval=20, blit=True)\n",
    "\n",
    "# save the animation as an mp4.  This requires ffmpeg or mencoder to be\n",
    "# installed.  The extra_args ensure that the x264 codec is used, so that\n",
    "# the video can be embedded in html5.  You may need to adjust this for\n",
    "# your system: for more information, see\n",
    "# http://matplotlib.sourceforge.net/api/animation_api.html\n",
    "anim.save('basic_animation.mp4', fps=30, extra_args=['-vcodec', 'libx264'])\n",
    "\n",
    "plt.show()"
   ]
  },
  {
   "cell_type": "code",
   "execution_count": null,
   "metadata": {
    "collapsed": true
   },
   "outputs": [],
   "source": []
  }
 ],
 "metadata": {
  "kernelspec": {
   "display_name": "Python 3",
   "language": "python",
   "name": "python3"
  },
  "language_info": {
   "codemirror_mode": {
    "name": "ipython",
    "version": 3
   },
   "file_extension": ".py",
   "mimetype": "text/x-python",
   "name": "python",
   "nbconvert_exporter": "python",
   "pygments_lexer": "ipython3",
   "version": "3.6.2"
  }
 },
 "nbformat": 4,
 "nbformat_minor": 2
}
