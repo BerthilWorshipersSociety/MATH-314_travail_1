{
 "cells": [
  {
   "cell_type": "markdown",
   "metadata": {},
   "source": [
    "# Travail 1 - Kepler et Runge-Kutta 4"
   ]
  },
  {
   "cell_type": "markdown",
   "metadata": {},
   "source": [
    "## Introduction"
   ]
  },
  {
   "cell_type": "markdown",
   "metadata": {},
   "source": [
    "Nous allons dans ce travail étudier la dynamique newtonienne du système Terre-Lune, en résolvant numériquement les équations de Newton. Nous prendrons pour conditions initiales dans le repère de la Terre que la Lune passe à son périgée ($362600000{\\rm m}$) à une vitesse de $1083.4{\\rm m/s}$. Nous vérifierons que la trajectoire est une ellipse et présenterons les paramètres calculés pour cette ellipse. Ensuite, nous nous intéresserons à l'ordre de convergence de la méthode utilisée. Enfin, nous étudierons la trajectoire d'un astéroïde qui traverse le centre de l'ellipse avec une vitesse $(v_x,v_y)=(-500{\\rm m/s},500 {\\rm m/s})$ lorsque la Lune est à son apogée."
   ]
  },
  {
   "cell_type": "markdown",
   "metadata": {},
   "source": [
    "## Système Terre - Lune"
   ]
  },
  {
   "cell_type": "markdown",
   "metadata": {},
   "source": [
    "### Paramètres et conditions initiales"
   ]
  },
  {
   "cell_type": "markdown",
   "metadata": {},
   "source": [
    "Tout d'abord, importons les librairies utiles à notre travail."
   ]
  },
  {
   "cell_type": "code",
   "execution_count": 15,
   "metadata": {
    "collapsed": true
   },
   "outputs": [],
   "source": [
    "import numpy\n",
    "from math import log\n",
    "from matplotlib import pyplot\n",
    "%matplotlib inline"
   ]
  },
  {
   "cell_type": "markdown",
   "metadata": {},
   "source": [
    "Ensuite, entrons les données caractéristiques du système. $T$ est la durée durant laquelle nous voulons simuler les trajectoires de la lune et de la Terre et $N$ est le paramètre qui définit le nombre de lignes des matrices de données de chaque astre."
   ]
  },
  {
   "cell_type": "code",
   "execution_count": 60,
   "metadata": {
    "collapsed": true
   },
   "outputs": [],
   "source": [
    "T = 3600*24*30\n",
    "dt = 10\n",
    "N = 1+int(T/dt)\n",
    "\n",
    "mT = 5.972*10**24\n",
    "mL = 7.348*10**22\n",
    "G = 6.67408*10**-11"
   ]
  },
  {
   "cell_type": "markdown",
   "metadata": {},
   "source": [
    "Nous savons qu'une force gravitationnelle (force attractive) existe entre la Terre et la lune. Selon la loi de Newton, celle-ci s'écrit \n",
    "\n",
    "$${\\bf F}_{L,T}=-{\\bf F}_{T,L}=-Gm_T m_L\\dfrac{{\\bf x_L}-{\\bf x_T}}{(x_L-x_T)^3}$$\n",
    "\n",
    "pour deux masses $m_L$ et $m_T$ s'attirant avec des forces mutuellement opposées séparées d'une distance $r$ qui est la norme du vecteur partant du centre de la Terre jusqu'au centre de la lune. Nos conditions initiales étant données dans le repère de la Terre, nous allons résoudre les équations de Newton dans le repère de la Terre également. Nous avons donc besoin de reformuler notre équation avec comme variable le vecteur ${\\bf r} = {\\bf x_L}-{\\bf x_T}$. \n",
    "\n",
    "$$ {\\bf \\ddot{r}_{LT}} = {\\bf \\ddot{x}_L}-{\\bf \\ddot{x}_T} = \\frac{1}{m_L}{\\bf F}_{L,T} - \\frac{1}{m_T}{\\bf F}_{T,L} = -Gm_T \\dfrac{{\\bf x_L}-{\\bf x_T}}{(x_L-x_T)^3} - Gm_L\\dfrac{{\\bf x_L}-{\\bf x_T}}{(x_L-x_T)^3}$$\n",
    "\n",
    "Ce qui devient\n",
    "\n",
    "$$ {\\bf \\ddot{r}_{LT}} = -G(m_T+m_L)\\dfrac{{\\bf r_{LT}}}{r_{LT}^3} $$"
   ]
  },
  {
   "cell_type": "markdown",
   "metadata": {},
   "source": [
    "Nous allons tout d'abord transformer l'équation de Newton, qui est du deuxième ordre, en un système de deux équations du premier ordre. Pour ce faire, nous introduisons le vectreur $u_{LT} $ définit comme \n",
    "\n",
    "$$ u_{LT}  = \\begin{pmatrix} x_{LT}\\ , y_{LT}\\ , v_{LT,x}\\ , v_{LT,y}\\end{pmatrix} $$"
   ]
  },
  {
   "cell_type": "markdown",
   "metadata": {},
   "source": [
    "Notre système d'équations différentielles devient\n",
    "\n",
    "$$ \\dot{u}_{LT} = f(u_{LT}) $$ \n",
    "\n",
    "Nous obtenons donc"
   ]
  },
  {
   "cell_type": "markdown",
   "metadata": {},
   "source": [
    "$$ f(u_{LT}) = \\begin{pmatrix} v_{LT,x}\\ , v_{LT,y}\\ , -\\dfrac{ m_T\\, G\\, x_{LT}}{ \\left[x_{LT}^2 + y_{LT}^2\\right]^{3/2}}\\ , -\\dfrac{ m_T\\, G\\, y_{LT}}{ \\left[x_{LT}^2 + y_{LT}^2\\right]^{3/2}}  \\end{pmatrix} $$"
   ]
  },
  {
   "cell_type": "markdown",
   "metadata": {},
   "source": [
    "Encodons à présent les conditions initiales. Nous nommons $dataLT$ la matrice de données de la lune dans le repère de la Terre. Elle comporte quatre colonnes. Chaque ligne se présentera comme $ u_{LT}  = \\begin{pmatrix} x_{LT}\\ , y_{LT}\\ , v_{LT,x}\\ , v_{LT,y}\\end{pmatrix} $."
   ]
  },
  {
   "cell_type": "code",
   "execution_count": 61,
   "metadata": {
    "collapsed": true
   },
   "outputs": [],
   "source": [
    "dataLT = numpy.empty((N,4)) \n",
    "\n",
    "# dataL0 = [362600000,0,0,1083.4*mT/(mT+mL)]\n",
    "# dataT0 = [0,0,0,-1083.4*mL/(mT+mL)] #1083.4349740009823\n",
    "\n",
    "dataLT0 = [362600000,0,0,1083.4349740009823]\n",
    "\n",
    "dataLT[0] = dataLT0"
   ]
  },
  {
   "cell_type": "markdown",
   "metadata": {},
   "source": [
    "### \"Fonction d'évolution\""
   ]
  },
  {
   "cell_type": "markdown",
   "metadata": {},
   "source": [
    "Nous ne généraliserons pas la fonction $f$ à plus de deux corps, par soucis de lisibilité car cela n'est pas nécessaire.\n",
    "La première ligne de $out$ est la trajectoire de la Terre, la seconde celle de la Lune."
   ]
  },
  {
   "cell_type": "code",
   "execution_count": 62,
   "metadata": {
    "collapsed": true
   },
   "outputs": [],
   "source": [
    "def f(uLT): \n",
    "    return numpy.array([uLT[2],uLT[3],-G*(mT+mL)*uLT[0]/(uLT[0]**2+uLT[1]**2)**(3/2),\\\n",
    "                        -G*(mT+mL)*uLT[1]/(uLT[0]**2+uLT[1]**2)**(3/2)])     "
   ]
  },
  {
   "cell_type": "markdown",
   "metadata": {},
   "source": [
    "### Implémentation de Runge Kutta 4"
   ]
  },
  {
   "cell_type": "markdown",
   "metadata": {},
   "source": [
    "Ci-dessous la méthode \"Runge Kutta 4\" appliquée directement à la trajectoire de la Lune."
   ]
  },
  {
   "cell_type": "code",
   "execution_count": 63,
   "metadata": {
    "collapsed": true
   },
   "outputs": [],
   "source": [
    "def rk4(f,uLT,dt): \n",
    "    k1 = f(uLT)\n",
    "    k2 = f(uLT+dt/2*k1)\n",
    "    k3 = f(uLT+dt/2*k2)\n",
    "    k4 = f(uLT+dt*k3)\n",
    "    \n",
    "    return uLT+dt/6*(k1+2*k2+2*k3+k4)"
   ]
  },
  {
   "cell_type": "markdown",
   "metadata": {},
   "source": [
    "### Calcul de la trajectoire"
   ]
  },
  {
   "cell_type": "markdown",
   "metadata": {
    "collapsed": true
   },
   "source": [
    "Calculons maintenant la trajectoire. Notons que $dataL[t]$ est le vecteur $u_L$ au temps $t$ qui est l'input de $f$ (idem pour $dataT[t]$)."
   ]
  },
  {
   "cell_type": "code",
   "execution_count": 64,
   "metadata": {
    "collapsed": true
   },
   "outputs": [],
   "source": [
    "for t in range(1,N):\n",
    "    \n",
    "    dataLT[t] = rk4(f,dataLT[t-1],dt)"
   ]
  },
  {
   "cell_type": "markdown",
   "metadata": {},
   "source": [
    "Affichons la position de la lune dans le repère de la Terre"
   ]
  },
  {
   "cell_type": "code",
   "execution_count": 65,
   "metadata": {},
   "outputs": [
    {
     "data": {
      "image/png": "[encoded data removed]",
      "text/plain": [
       "<matplotlib.figure.Figure at 0x7fc923f6a9b0>"
      ]
     },
     "metadata": {},
     "output_type": "display_data"
    }
   ],
   "source": [
    "pyplot.figure(figsize=(10,6))\n",
    "pyplot.grid(True)\n",
    "pyplot.xlabel('$x$')\n",
    "pyplot.ylabel('$y$')\n",
    "pyplot.plot(dataLT[:,0],dataLT[:,1], 'b-', label='RK4')\n",
    "pyplot.title('Position de la Lune dans le repère de la Terre')\n",
    "pyplot.legend();\n",
    "pyplot.show();"
   ]
  },
  {
   "cell_type": "markdown",
   "metadata": {},
   "source": [
    "### Paramètres : grand et petit axes, excentricité et période"
   ]
  },
  {
   "cell_type": "code",
   "execution_count": 66,
   "metadata": {
    "collapsed": true
   },
   "outputs": [],
   "source": [
    "def computeParameters(posEllipse):\n",
    "    a = 1/2*(numpy.max(posEllipse[:,0])-numpy.min(posEllipse[:,0]))\n",
    "    b = 1/2*(numpy.max(posEllipse[:,1])-numpy.min(posEllipse[:,1]))\n",
    "    e = numpy.sqrt(1-b**2/a**2)\n",
    "    return numpy.array([a,b,e])"
   ]
  },
  {
   "cell_type": "code",
   "execution_count": 67,
   "metadata": {},
   "outputs": [
    {
     "name": "stdout",
     "output_type": "stream",
     "text": [
      "a = 383663116.433\n",
      "b = 383084497.255\n",
      "e = 0.0549000295925\n"
     ]
    }
   ],
   "source": [
    "parameters = computeParameters(dataLT)\n",
    "\n",
    "a = parameters[0]\n",
    "b = parameters[1]\n",
    "e = parameters[2]\n",
    "\n",
    "print(\"a =\", a)\n",
    "print(\"b =\", b)\n",
    "print(\"e =\", e)"
   ]
  },
  {
   "cell_type": "code",
   "execution_count": 68,
   "metadata": {},
   "outputs": [
    {
     "name": "stdout",
     "output_type": "stream",
     "text": [
      "minX = -404726232.867\n",
      "maxX = 362599999.995\n",
      "minY = -383084497.255\n",
      "maxY = 383084497.254\n",
      "a = 383663116.431\n",
      "b = 383084497.255\n",
      "e = 0.0549000294758\n"
     ]
    }
   ],
   "source": [
    "# Compute the parameters a,b,e\n",
    "\n",
    "minX = 0\n",
    "for i in range(1,N-1):\n",
    "    if (dataLT[i+1,0]>=dataLT[i,0] and dataLT[i,0]<dataLT[i-1,0]):\n",
    "        minX = dataLT[i,0]\n",
    "        break\n",
    "        \n",
    "maxX = 0\n",
    "for i in range(1,N-1):\n",
    "    if (dataLT[i+1,0]<=dataLT[i,0] and dataLT[i,0]>dataLT[i-1,0]):\n",
    "        maxX = dataLT[i,0]\n",
    "        break\n",
    "\n",
    "minY = 0\n",
    "for i in range(1,N-1):\n",
    "    if (dataLT[i+1,1]>=dataLT[i,1] and dataLT[i,1]<dataLT[i-1,1]):\n",
    "        minY = dataLT[i,1]\n",
    "        break\n",
    "        \n",
    "maxY = 0\n",
    "for i in range(1,N-1):\n",
    "    if (dataLT[i+1,1]<=dataLT[i,1] and dataLT[i,1]>dataLT[i-1,1]):\n",
    "        maxY = dataLT[i,1]\n",
    "        break\n",
    "        \n",
    "print(\"minX =\", minX)\n",
    "print(\"maxX =\", maxX)\n",
    "print(\"minY =\", minY)\n",
    "print(\"maxY =\", maxY)\n",
    "        \n",
    "a = abs(maxX-minX)/2\n",
    "b = abs(maxY-minY)/2\n",
    "e = numpy.sqrt(1-b**2/a**2)\n",
    "\n",
    "print(\"a =\", a)\n",
    "print(\"b =\", b)\n",
    "print(\"e =\", e)"
   ]
  },
  {
   "cell_type": "code",
   "execution_count": 71,
   "metadata": {},
   "outputs": [
    {
     "name": "stdout",
     "output_type": "stream",
     "text": [
      "period in seconds = 2350680\n",
      "period in 24h-days = 27.206944444444446\n"
     ]
    }
   ],
   "source": [
    "# This method will not work for negatives initial conditions\n",
    "\n",
    "for i in range(2,N-1):\n",
    "    if (dataLT[i+1,0]<=dataLT[i,0] and dataLT[i,0]>dataLT[i-1,0]):\n",
    "        period = i*dt\n",
    "        break\n",
    "        \n",
    "print(\"period in seconds =\", period)\n",
    "print(\"period in 24h-days =\", period/24/3600)"
   ]
  },
  {
   "cell_type": "markdown",
   "metadata": {},
   "source": [
    "Trouvons à présent l'apogée de l'orbite de la Lune autour de la Terre."
   ]
  },
  {
   "cell_type": "code",
   "execution_count": null,
   "metadata": {
    "collapsed": true
   },
   "outputs": [],
   "source": [
    "for i in range(1,N-1):\n",
    "    if (posLT[i+1,0]<=posLT[i,0] and posLT[i,0]>posLT[i-1,0]):\n",
    "        indexApoL = i\n",
    "        break\n",
    "\n",
    "#nouvelles conditions initiales pour T, L\n",
    "newInitL = dataL[indexApoL]\n",
    "newInitT = dataT[indexApoL]"
   ]
  },
  {
   "cell_type": "markdown",
   "metadata": {},
   "source": [
    "## Order of convergence"
   ]
  },
  {
   "cell_type": "code",
   "execution_count": null,
   "metadata": {
    "collapsed": true
   },
   "outputs": [],
   "source": [
    "def get_diffgrid(data_current, data_fine, dt):\n",
    "    \n",
    "    N_current = len(data_current[:,0])\n",
    "    N_fine = len(data_fine[:,0])\n",
    "   \n",
    "    grid_size_ratio = int(numpy.ceil(N_fine/N_current))\n",
    "    \n",
    "    diffgrid = dt * numpy.sum( numpy.abs(\\\n",
    "            data_current[:,0]- data_fine[::grid_size_ratio,0])) \n",
    "    \n",
    "    return diffgrid"
   ]
  },
  {
   "cell_type": "code",
   "execution_count": null,
   "metadata": {
    "collapsed": true
   },
   "outputs": [],
   "source": [
    "def get_diffgrid(data_current, data_fine, dt):\n",
    "    \n",
    "    parameters_current = computeParameters(data_current)\n",
    "    parameters_fine = computeParameters(data_fine)\n",
    "    \n",
    "    diffgrid = abs(parameters_current[0]-parameters_fine[0])\n",
    "    \n",
    "    return diffgrid"
   ]
  },
  {
   "cell_type": "code",
   "execution_count": null,
   "metadata": {
    "collapsed": true
   },
   "outputs": [],
   "source": [
    "# Show the order of the method\n",
    "\n",
    "r = 2\n",
    "h = 10\n",
    "\n",
    "dt_values = numpy.array([h, r*h, r**2*h, r**3*h,r**4*h,r**5*h,r**6*h,r**7*h,r**8*h])\n",
    "\n",
    "#dt_values = numpy.array([1000,300,100,30,10])  #,3,1\n",
    "dataL_values = numpy.empty_like(dt_values, dtype=numpy.ndarray)\n",
    "\n",
    "for i, dt in enumerate(dt_values):\n",
    "    \n",
    "    N2 = int(T/dt)+1\n",
    "        \n",
    "    dataL = numpy.empty((N2, 4))\n",
    "    dataT = numpy.empty((N2, 4))\n",
    "    \n",
    "    dataL[0] = dataL0\n",
    "    dataT[0] = dataT0\n",
    "\n",
    "    for t in range(1,N2):\n",
    "        W = rk4(f, dataT[t-1], dataL[t-1], dt)\n",
    "        dataT[t] = W[0]\n",
    "        dataL[t] = W[1]\n",
    "    \n",
    "    dataL_values[i] = dataL"
   ]
  },
  {
   "cell_type": "code",
   "execution_count": null,
   "metadata": {
    "collapsed": true
   },
   "outputs": [],
   "source": [
    "# Compute the differences\n",
    "\n",
    "diffgridL = numpy.empty_like(dt_values, dtype=numpy.ndarray)\n",
    "\n",
    "for i, dt in enumerate(dt_values):\n",
    "    \n",
    "    diffgridL[i] = get_diffgrid(dataL_values[i], dataL_values[0], dt)"
   ]
  },
  {
   "cell_type": "code",
   "execution_count": null,
   "metadata": {
    "collapsed": true
   },
   "outputs": [],
   "source": [
    "print(diffgridL)"
   ]
  },
  {
   "cell_type": "code",
   "execution_count": null,
   "metadata": {
    "collapsed": true
   },
   "outputs": [],
   "source": [
    "alpha = numpy.empty_like(dt_values, dtype=numpy.ndarray)\n",
    "\n",
    "for i in range(0, len(dt_values)-2):\n",
    "    \n",
    "    alpha[i] = (log(get_diffgrid(dataL_values[i+2], dataL_values[i+1], dt_values[i+2])) \n",
    "             - log(get_diffgrid(dataL_values[i+1], dataL_values[i], dt_values[i+1]))) / log(r)\n",
    "\n",
    "print(alpha)"
   ]
  },
  {
   "cell_type": "code",
   "execution_count": null,
   "metadata": {
    "collapsed": true
   },
   "outputs": [],
   "source": [
    "pyplot.figure(figsize=(6,6))\n",
    "pyplot.grid(True)\n",
    "pyplot.xlabel(r'$\\Delta t$', fontsize=18)\n",
    "pyplot.ylabel(r'$L_1$-norm of the grid differences', fontsize=18)\n",
    "pyplot.xlim(1e-4,1)\n",
    "pyplot.ylim(1e-4,1)\n",
    "pyplot.axis('equal')\n",
    "pyplot.loglog(dt_values[1:], diffgridL[1:], color='k', ls='--', lw=2, marker='o');"
   ]
  },
  {
   "cell_type": "markdown",
   "metadata": {},
   "source": [
    "## Système Terre - Lune - astéroïde"
   ]
  },
  {
   "cell_type": "markdown",
   "metadata": {},
   "source": [
    "A présent, la partie avec l'astéroïde. Il faut tout d'abord repéré le centre de l'ellipse parcourue par la lune autour de la Terre qui est dans son repère au repos."
   ]
  },
  {
   "cell_type": "code",
   "execution_count": null,
   "metadata": {
    "collapsed": true
   },
   "outputs": [],
   "source": [
    "# Find the ellipse LT's center\n",
    "Xcenter = (maxX+minX)/2\n",
    "Ycenter = (maxY+minY)/2"
   ]
  },
  {
   "cell_type": "code",
   "execution_count": null,
   "metadata": {
    "collapsed": true
   },
   "outputs": [],
   "source": [
    "# NEW f ast\n",
    "\n",
    "def f_ast(uT,uL,uA): \n",
    "    out = numpy.empty((3,4))  \n",
    "    out[0] = numpy.array([uT[2],uT[3],-G*mL*(uT[0]-uL[0])/((uT[0]-uL[0])**2+(uT[1]-uL[1])**2)**(3/2),\\\n",
    "                          -G*mL*(uT[1]-uL[1])/((uT[0]-uL[0])**2+(uT[1]-uL[1])**2)**(3/2)])     \n",
    "    out[1] = numpy.array([uL[2],uL[3],-G*mT*(uL[0]-uT[0])/((uT[0]-uL[0])**2+(uT[1]-uL[1])**2)**(3/2),\\\n",
    "                          -G*mT*(uL[1]-uT[1])/((uT[0]-uL[0])**2+(uT[1]-uL[1])**2)**(3/2)])\n",
    "    out[2] = numpy.array([uA[2],uA[3],-G*mT*(uA[0]-uT[0])/((uT[0]-uA[0])**2+(uT[1]-uA[1])**2)**(3/2)\\\n",
    "                          -G*mL*(uA[0]-uL[0])/((uL[0]-uA[0])**2+(uL[1]-uA[1])**2)**(3/2),\\\n",
    "                          -G*mT*(uA[1]-uT[1])/((uT[0]-uA[0])**2+(uT[1]-uA[1])**2)**(3/2)\\\n",
    "                          -G*mL*(uA[1]-uL[1])/((uL[0]-uA[0])**2+(uL[1]-uA[1])**2)**(3/2)])\n",
    "    return out"
   ]
  },
  {
   "cell_type": "code",
   "execution_count": null,
   "metadata": {
    "collapsed": true
   },
   "outputs": [],
   "source": [
    "# NEW rk4 ast\n",
    "def rk4_ast(f,u,v,w,dt): \n",
    "    k1 = f(u,v,w)\n",
    "    k2 = f(u+dt/2*k1[0,:],v+dt/2*k1[1,:],w+dt/2*k1[2,:])\n",
    "    k3 = f(u+dt/2*k2[0,:],v+dt/2*k2[1,:],w+dt/2*k2[2,:])\n",
    "    k4 = f(u+dt*k3[0,:],v+dt*k3[1,:],w+dt*k3[2,:])\n",
    "    \n",
    "    out = numpy.empty((3,4))\n",
    "    out[0] = u+dt/6*(k1[0,:]+2*k2[0,:]+2*k3[0,:]+k4[0,:])\n",
    "    out[1] = v+dt/6*(k1[1,:]+2*k2[1,:]+2*k3[1,:]+k4[1,:])\n",
    "    out[2] = w+dt/6*(k1[2,:]+2*k2[2,:]+2*k3[2,:]+k4[2,:])\n",
    "    return out"
   ]
  },
  {
   "cell_type": "markdown",
   "metadata": {},
   "source": [
    "Trouvons l'instant *t_apL* où la lune est à l'apogée de sa trajectoire autour de la Terre qui est dans son repère au repos. Nous avons positionné les axes de sorte que l'apogée se trouve sur l'axe des abscisses."
   ]
  },
  {
   "cell_type": "code",
   "execution_count": null,
   "metadata": {
    "collapsed": true
   },
   "outputs": [],
   "source": [
    "#NEW ast\n",
    "T = 3600*24*3\n",
    "dt = 100\n",
    "N = 1+int(T/dt)\n",
    "\n",
    "mT = 5.972*10**24\n",
    "mL = 7.348*10**22\n",
    "G = 6.67408*10**-11\n",
    "\n",
    "dataL = numpy.empty((N,4)) \n",
    "dataT = dataL.copy()\n",
    "dataA = dataL.copy()\n",
    "\n",
    "dataL[0] = newInitL # conditions initiales\n",
    "dataT[0] = newInitT\n",
    "dataA[0] = [Xcenter, Ycenter,-3000,1500]"
   ]
  },
  {
   "cell_type": "code",
   "execution_count": null,
   "metadata": {
    "collapsed": true
   },
   "outputs": [],
   "source": [
    "for t in range(1,N):\n",
    "    W = rk4_ast(f_ast,dataT[t-1],dataL[t-1],dataA[t-1],dt)\n",
    "    dataT[t] = W[0]\n",
    "    dataL[t] = W[1]\n",
    "    dataA[t] = W[2]\n",
    "    \n",
    "posLT = dataL[:,0:2] - dataT[:,0:2] #position de la lune dans le repère de la Terre\n",
    "posAT = dataA[:,0:2] - dataT[:,0:2] #position de l'astéroïde dans le repère de la Terre"
   ]
  },
  {
   "cell_type": "code",
   "execution_count": null,
   "metadata": {
    "collapsed": true
   },
   "outputs": [],
   "source": [
    "# Plot the position of the moon and the earth in the initial frame\n",
    "\n",
    "pyplot.figure(figsize=(10,6))\n",
    "pyplot.grid(True)\n",
    "pyplot.xlabel('$x$')\n",
    "pyplot.ylabel('$y$')\n",
    "pyplot.plot(dataL[:,0],dataL[:,1], 'b-', label='RK4')\n",
    "pyplot.plot(dataT[:,0],dataT[:,1], 'b-', label='RK4')\n",
    "pyplot.plot(dataA[:,0],dataA[:,1], 'r-', label='RK4')\n",
    "pyplot.title('Positions of the asteroïd, the moon and the earth in the initial frame')\n",
    "pyplot.legend();\n",
    "pyplot.show();"
   ]
  },
  {
   "cell_type": "code",
   "execution_count": null,
   "metadata": {
    "collapsed": true,
    "scrolled": false
   },
   "outputs": [],
   "source": [
    "# Plot the position of the moon and the asteroïd in the rest frame of the earth\n",
    "\n",
    "pyplot.figure(figsize=(10,6))\n",
    "pyplot.grid(True)\n",
    "pyplot.xlabel('$x$')\n",
    "pyplot.ylabel('$y$')\n",
    "pyplot.plot(posLT[:,0],posLT[:,1], 'b-', label='RK4')\n",
    "pyplot.plot(posAT[:,0],posAT[:,1], 'r-', label='RK4')\n",
    "pyplot.title('Positions of the moon and the asteroïd in the rest frame of the earth')\n",
    "pyplot.legend();\n",
    "pyplot.show();"
   ]
  },
  {
   "cell_type": "code",
   "execution_count": null,
   "metadata": {
    "collapsed": true
   },
   "outputs": [],
   "source": [
    "dataL[:,0]"
   ]
  },
  {
   "cell_type": "markdown",
   "metadata": {
    "collapsed": true
   },
   "source": [
    "### Animations des trajectoires"
   ]
  },
  {
   "cell_type": "code",
   "execution_count": null,
   "metadata": {
    "collapsed": true
   },
   "outputs": [],
   "source": [
    "from matplotlib import animation\n",
    "from IPython.display import HTML\n",
    "\n",
    "def animate_LT(i):\n",
    "    x = numpy.linspace(0,100,len(data))\n",
    "    y = data\n",
    "    line.set_dataL(x,y)\n",
    "    return line,\n",
    "\n",
    "fig = pyplot.figure()\n",
    "ax = pyplot.axes(xlim=(-500000000,500000000),ylim=(-500000000,500000000),xlabel=('x'),ylabel=('y'))\n",
    "\n",
    "line, = ax.plot([],[],color='#003366', lw=2)\n",
    "\n",
    "anim = animation.FuncAnimation(fig, animate_LT,interval=1000,frames=period)\n",
    "#HTML(anim.to_html5_video())\n",
    "pyplot.show()"
   ]
  },
  {
   "cell_type": "code",
   "execution_count": null,
   "metadata": {
    "collapsed": true
   },
   "outputs": [],
   "source": [
    "\"\"\"\n",
    "Matplotlib Animation Example\n",
    "\n",
    "author: Jake Vanderplas\n",
    "email: vanderplas@astro.washington.edu\n",
    "website: http://jakevdp.github.com\n",
    "license: BSD\n",
    "Please feel free to use and modify this, but keep the above information. Thanks!\n",
    "\"\"\"\n",
    "\n",
    "import numpy as np\n",
    "from matplotlib import pyplot as plt\n",
    "from matplotlib import animation\n",
    "\n",
    "# First set up the figure, the axis, and the plot element we want to animate\n",
    "fig = plt.figure()\n",
    "ax = plt.axes(xlim=(0, 2), ylim=(-2, 2))\n",
    "line, = ax.plot([], [], lw=2)\n",
    "\n",
    "# initialization function: plot the background of each frame\n",
    "def init():\n",
    "    line.set_data([], [])\n",
    "    return line,\n",
    "\n",
    "# animation function.  This is called sequentially\n",
    "def animate(i):\n",
    "    x = np.linspace(0, 2, 1000)\n",
    "    y = np.sin(2 * np.pi * (x - 0.01 * i))\n",
    "    line.set_data(x, y)\n",
    "    return line,\n",
    "\n",
    "# call the animator.  blit=True means only re-draw the parts that have changed.\n",
    "anim = animation.FuncAnimation(fig, animate, init_func=init,\n",
    "                               frames=200, interval=20, blit=True)\n",
    "\n",
    "# save the animation as an mp4.  This requires ffmpeg or mencoder to be\n",
    "# installed.  The extra_args ensure that the x264 codec is used, so that\n",
    "# the video can be embedded in html5.  You may need to adjust this for\n",
    "# your system: for more information, see\n",
    "# http://matplotlib.sourceforge.net/api/animation_api.html\n",
    "anim.save('basic_animation.mp4', fps=30, extra_args=['-vcodec', 'libx264'])\n",
    "\n",
    "plt.show()"
   ]
  },
  {
   "cell_type": "code",
   "execution_count": null,
   "metadata": {
    "collapsed": true
   },
   "outputs": [],
   "source": []
  }
 ],
 "metadata": {
  "kernelspec": {
   "display_name": "Python 3",
   "language": "python",
   "name": "python3"
  },
  "language_info": {
   "codemirror_mode": {
    "name": "ipython",
    "version": 3
   },
   "file_extension": ".py",
   "mimetype": "text/x-python",
   "name": "python",
   "nbconvert_exporter": "python",
   "pygments_lexer": "ipython3",
   "version": "3.6.2"
  }
 },
 "nbformat": 4,
 "nbformat_minor": 2
}
