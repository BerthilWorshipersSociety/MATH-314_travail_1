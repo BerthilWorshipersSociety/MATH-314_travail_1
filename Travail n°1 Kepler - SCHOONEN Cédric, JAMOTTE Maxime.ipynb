{
 "cells": [
  {
   "cell_type": "markdown",
   "metadata": {},
   "source": [
    "# Travail 1 - Kepler et Runge-Kutta 4 - Maxime Jamotte & Cédric Schoonen "
   ]
  },
  {
   "cell_type": "markdown",
   "metadata": {},
   "source": [
    " "
   ]
  },
  {
   "cell_type": "code",
   "execution_count": 1,
   "metadata": {
    "collapsed": true
   },
   "outputs": [],
   "source": [
    "# Morceau de code utile pour calculer les temps d'exécutions\n",
    "\n",
    "import time \n",
    "\n",
    "t0 = time.time()"
   ]
  },
  {
   "cell_type": "markdown",
   "metadata": {},
   "source": [
    "Note: ce notebook met environ 5 minutes à s'exécuter entièrement"
   ]
  },
  {
   "cell_type": "markdown",
   "metadata": {},
   "source": [
    "## Introduction"
   ]
  },
  {
   "cell_type": "markdown",
   "metadata": {},
   "source": [
    "Nous allons dans ce travail étudier la dynamique newtonienne du système Terre-Lune, en résolvant numériquement les équations de Newton. Nous prendrons pour conditions initiales dans le repère de la Terre que la Lune passe à son périgée ($362600000\\,{\\rm m}$) à une vitesse de $1083.4\\,{\\rm m/s}$. Nous vérifierons que la trajectoire est une ellipse et présenterons les paramètres calculés pour cette ellipse. Ensuite, nous nous intéresserons à l'ordre de convergence de la méthode utilisée. Enfin, nous étudierons la trajectoire d'un astéroïde qui traverse le centre de l'ellipse avec une vitesse $(v_x,v_y)=(500\\,{\\rm m/s},500\\,{\\rm m/s})$ lorsque la Lune est à son apogée."
   ]
  },
  {
   "cell_type": "markdown",
   "metadata": {},
   "source": [
    "Toutes les grandeurs sont exprimées dans le système international d'unités (ceci est à considérer au cas où les unités ne seraient pas indiquées)."
   ]
  },
  {
   "cell_type": "markdown",
   "metadata": {},
   "source": [
    "## Table des matières"
   ]
  },
  {
   "cell_type": "markdown",
   "metadata": {},
   "source": [
    "- Système Terre-Lune\n",
    " - \"Fonction d'évolution\"\n",
    " - Paramètres et conditions initiales\n",
    " - Implémentation de Runge Kutta 4\n",
    " - Calcul de la trajectoire\n",
    " - Paramètres : grand et petit axes, excentricité et période\n",
    "- Système Terre-Lune théorique\n",
    "- Ordre de convergence\n",
    " - Calcul de l'ordre sur base des résultats numériques uniquement\n",
    "- Système Terre-Lune-astéroïde\n",
    " - Calcul des trajectoires\n",
    " - Description de l'impact entre l'astéroïde et la Terre\n",
    "- Animations\n",
    " - Animation des trajectoires pour le système Terre-Lune\n",
    " - Animation des trajectoires pour le système Terre-Lune-Astéroïde\n",
    "- Investigations supplémentaires\n",
    " - Etude du passage de l'astéroïde près de la Terre\n",
    " - Trajectoire pour un astéroïde plus rapide"
   ]
  },
  {
   "cell_type": "markdown",
   "metadata": {},
   "source": [
    "## Système Terre - Lune"
   ]
  },
  {
   "cell_type": "markdown",
   "metadata": {},
   "source": [
    "Nous nous occupons ici de calculer numériquement la trajectoire de la Lune dans le référentiel de la Terre. Nous utilisons pour cela la méthode de Runge-Kutta 4. "
   ]
  },
  {
   "cell_type": "markdown",
   "metadata": {},
   "source": [
    "Tout d'abord, importons les librairies utiles à notre travail."
   ]
  },
  {
   "cell_type": "code",
   "execution_count": 2,
   "metadata": {
    "collapsed": true
   },
   "outputs": [],
   "source": [
    "import numpy\n",
    "from math import log,sqrt\n",
    "from matplotlib import pyplot\n",
    "%matplotlib inline"
   ]
  },
  {
   "cell_type": "markdown",
   "metadata": {},
   "source": [
    "### \"Fonction d'évolution\""
   ]
  },
  {
   "cell_type": "markdown",
   "metadata": {},
   "source": [
    "Cherchons l'expression des forces dans le référentiel de la Terre. Nous savons qu'une force gravitationnelle (force attractive) existe entre la Terre et la lune. Selon la loi de Newton, celle-ci s'écrit \n",
    "\n",
    "$${\\bf F}_{L,T}=-{\\bf F}_{T,L}=-Gm_T m_L\\dfrac{{\\bf x_L}-{\\bf x_T}}{(x_L-x_T)^3}$$\n",
    "\n",
    "pour deux masses $m_L$ et $m_T$ s'attirant avec des forces mutuellement opposées séparées d'une distance $r$ qui est la norme du vecteur partant du centre de la Terre jusqu'au centre de la lune. Nos conditions initiales étant données dans le repère de la Terre, nous allons résoudre les équations de Newton dans le repère de la Terre également. Nous avons donc besoin de reformuler notre équation avec comme variable le vecteur ${\\bf r_{LT}} = {\\bf x_L}-{\\bf x_T}$. \n",
    "\n",
    "$$ {\\bf \\ddot{r}_{LT}} = {\\bf \\ddot{x}_L}-{\\bf \\ddot{x}_T} = \\frac{1}{m_L}{\\bf F}_{L,T} - \\frac{1}{m_T}{\\bf F}_{T,L} = -Gm_T \\dfrac{{\\bf x_L}-{\\bf x_T}}{(x_L-x_T)^3} - Gm_L\\dfrac{{\\bf x_L}-{\\bf x_T}}{(x_L-x_T)^3}$$\n",
    "\n",
    "Ce qui devient\n",
    "\n",
    "$$ {\\bf \\ddot{r}_{LT}} = -G(m_T+m_L)\\dfrac{{\\bf r_{LT}}}{r_{LT}^3} $$"
   ]
  },
  {
   "cell_type": "markdown",
   "metadata": {},
   "source": [
    "Pour résoudre numériquement l'équation de Newton, qui est du deuxième ordre, nous allons la transformer en un système de deux équations du premier ordre. Pour ce faire, nous introduisons le vectreur $u_{LT} $ définit comme \n",
    "\n",
    "$$ u_{LT}  = \\begin{pmatrix} x_{LT}\\ , y_{LT}\\ , v_{x\\,LT}\\ , v_{y\\,LT}\\end{pmatrix} $$"
   ]
  },
  {
   "cell_type": "markdown",
   "metadata": {},
   "source": [
    "Notre système d'équations différentielles devient\n",
    "\n",
    "$$ \\dot{u}_{LT} = f(u_{LT}) $$ \n",
    "\n",
    "Il s'écrit avec une certaine \"fonction d'évolution\" $f$, donnée par"
   ]
  },
  {
   "cell_type": "markdown",
   "metadata": {},
   "source": [
    "$$ f(u_{LT}) = \\begin{pmatrix} v_{x\\,LT}\\ , v_{y\\,LT}\\ , -\\dfrac{ m_T\\, G\\, x_{LT}}{ \\left[x_{LT}^2 + y_{LT}^2\\right]^{3/2}}\\ , -\\dfrac{ m_T\\, G\\, y_{LT}}{ \\left[x_{LT}^2 + y_{LT}^2\\right]^{3/2}}  \\end{pmatrix} $$"
   ]
  },
  {
   "cell_type": "markdown",
   "metadata": {},
   "source": [
    "Nous ne généraliserons pas la fonction $f$ à plus de deux corps, par soucis de lisibilité et car cela n'est pas nécessaire."
   ]
  },
  {
   "cell_type": "code",
   "execution_count": 3,
   "metadata": {
    "collapsed": true
   },
   "outputs": [],
   "source": [
    "def f(uLT): \n",
    "    return numpy.array([uLT[2],\\\n",
    "                        uLT[3],\\\n",
    "                        -G*(mT+mL)*uLT[0]/(uLT[0]**2+uLT[1]**2)**(3/2),\\\n",
    "                        -G*(mT+mL)*uLT[1]/(uLT[0]**2+uLT[1]**2)**(3/2)])     "
   ]
  },
  {
   "cell_type": "markdown",
   "metadata": {},
   "source": [
    "### Paramètres et conditions initiales"
   ]
  },
  {
   "cell_type": "markdown",
   "metadata": {},
   "source": [
    "Ensuite, entrons les données caractéristiques du système. $T$ est la durée durant laquelle nous voulons simuler les trajectoires de la lune et de la Terre et $N$ est le paramètre qui définit le nombre de lignes des matrices de données de chaque astre."
   ]
  },
  {
   "cell_type": "code",
   "execution_count": 4,
   "metadata": {
    "collapsed": true
   },
   "outputs": [],
   "source": [
    "T = 3600*24*30\n",
    "dt = 1\n",
    "N = 1+int(T/dt)\n",
    "\n",
    "mT = 5.972*10**24\n",
    "mL = 7.348*10**22\n",
    "G = 6.67408*10**-11"
   ]
  },
  {
   "cell_type": "markdown",
   "metadata": {},
   "source": [
    "Encodons à présent les conditions initiales. Nous nommons $dataLT$ la matrice de données de la lune dans le repère de la Terre. Elle comporte quatre colonnes. Chaque ligne se présentera comme $ u_{LT}  = \\begin{pmatrix} x_{LT}\\ , y_{LT}\\ , v_{x\\,LT}\\ , v_{y\\,LT}\\end{pmatrix} $."
   ]
  },
  {
   "cell_type": "code",
   "execution_count": 5,
   "metadata": {
    "collapsed": true
   },
   "outputs": [],
   "source": [
    "dataLT = numpy.empty((N,4)) \n",
    "\n",
    "uLT0 = [362600000,0,0,1083.434974] #1083.4349740009823 (valeur pour une excentricité de 0.054900)\n",
    "\n",
    "dataLT[0] = uLT0"
   ]
  },
  {
   "cell_type": "markdown",
   "metadata": {},
   "source": [
    "### Implémentation de Runge Kutta 4"
   ]
  },
  {
   "cell_type": "markdown",
   "metadata": {},
   "source": [
    "Nous avons ici la méthode Runge Kutta 4 appliquée à la trajectoire de la Lune."
   ]
  },
  {
   "cell_type": "code",
   "execution_count": 6,
   "metadata": {
    "collapsed": true
   },
   "outputs": [],
   "source": [
    "def rk4(f,uLT,dt): \n",
    "    k1 = f(uLT)\n",
    "    k2 = f(uLT+dt/2*k1)\n",
    "    k3 = f(uLT+dt/2*k2)\n",
    "    k4 = f(uLT+dt*k3)\n",
    "    \n",
    "    return uLT+dt/6*(k1+2*k2+2*k3+k4)"
   ]
  },
  {
   "cell_type": "markdown",
   "metadata": {},
   "source": [
    "### Calcul de la trajectoire"
   ]
  },
  {
   "cell_type": "markdown",
   "metadata": {
    "collapsed": true
   },
   "source": [
    "Calculons maintenant la trajectoire. Notons que $dataLT[t]$ est le vecteur $u_{LT}$ input de $f$ au temps $t$."
   ]
  },
  {
   "cell_type": "code",
   "execution_count": 7,
   "metadata": {
    "collapsed": true
   },
   "outputs": [],
   "source": [
    "for t in range(1,N):\n",
    "    \n",
    "    dataLT[t] = rk4(f,dataLT[t-1],dt)"
   ]
  },
  {
   "cell_type": "markdown",
   "metadata": {},
   "source": [
    "Affichons la position de la Lune dans le repère de la Terre."
   ]
  },
  {
   "cell_type": "code",
   "execution_count": 8,
   "metadata": {},
   "outputs": [
    {
     "data": {
      "image/png": "[encoded data removed]",
      "text/plain": [
       "<matplotlib.figure.Figure at 0x1859a676f28>"
      ]
     },
     "metadata": {},
     "output_type": "display_data"
    }
   ],
   "source": [
    "pyplot.figure(figsize=(10,10))\n",
    "pyplot.grid(True)\n",
    "pyplot.xlabel('$x$')\n",
    "pyplot.ylabel('$y$')\n",
    "pyplot.plot(dataLT[:,0],dataLT[:,1], 'b-', label='Lune')\n",
    "pyplot.title('Position de la Lune dans le repère de la Terre')\n",
    "pyplot.legend();\n",
    "pyplot.show();"
   ]
  },
  {
   "cell_type": "markdown",
   "metadata": {},
   "source": [
    "### Paramètres : grand et petit axes, excentricité et période"
   ]
  },
  {
   "cell_type": "markdown",
   "metadata": {},
   "source": [
    "Calculons les paramètres de l'ellipse. Etant donné que la Lune commence sur l'axe $x$ avec une vitesse le long de $y$, les demi-grand axe $a$ et demi-petit axe $b$ sont alignés avec les axes $x$ et $y$ respectivement. Nous pouvons alors les calculer à par des minima et maxima de la trajectoire le long des composantes."
   ]
  },
  {
   "cell_type": "code",
   "execution_count": 9,
   "metadata": {
    "collapsed": true
   },
   "outputs": [],
   "source": [
    "def computeParameters(posEllipse):\n",
    "    a = 1/2*(numpy.max(posEllipse[:,0])-numpy.min(posEllipse[:,0]))\n",
    "    b = 1/2*(numpy.max(posEllipse[:,1])-numpy.min(posEllipse[:,1]))\n",
    "    e = numpy.sqrt(1-b**2/a**2)\n",
    "    return numpy.array([a,b,e])"
   ]
  },
  {
   "cell_type": "code",
   "execution_count": 10,
   "metadata": {},
   "outputs": [
    {
     "name": "stdout",
     "output_type": "stream",
     "text": [
      "Le demi-grand axe de l'ellipse est a = 383663116.433 m\n",
      "Le demi-petit axe de l'ellipse est b = 383084497.255 m\n",
      "L'excentricité de l'ellipse est e = 0.0549000295618\n"
     ]
    }
   ],
   "source": [
    "parameters = computeParameters(dataLT)\n",
    "\n",
    "a = parameters[0]\n",
    "b = parameters[1]\n",
    "e = parameters[2]\n",
    "\n",
    "print(\"Le demi-grand axe de l'ellipse est a =\", a, \"m\")\n",
    "print(\"Le demi-petit axe de l'ellipse est b =\", b, \"m\")\n",
    "print(\"L'excentricité de l'ellipse est e =\", e)"
   ]
  },
  {
   "cell_type": "code",
   "execution_count": 11,
   "metadata": {},
   "outputs": [
    {
     "name": "stdout",
     "output_type": "stream",
     "text": [
      "Période en secondes = 2350682\n",
      "Période en jours de 24h = 27.20696759259259\n"
     ]
    }
   ],
   "source": [
    "# Cette méthode se basant sur une détection de maximum, elle ne fonctionne pas \n",
    "# si nous ne choisissons pas de faire débuter la trajectoire de la Lune en x = 362600000\n",
    "\n",
    "for i in range(1,N-1):\n",
    "    if (dataLT[i+1,0]<=dataLT[i,0] and dataLT[i,0]>dataLT[i-1,0]):\n",
    "        period = i*dt\n",
    "        break\n",
    "        \n",
    "print(\"Période en secondes =\", period)\n",
    "print(\"Période en jours de 24h =\", period/24/3600)"
   ]
  },
  {
   "cell_type": "markdown",
   "metadata": {},
   "source": [
    "Nous remarquons que ces valeurs sont en accord avec ce que nous connaissons du comportement de la Lune."
   ]
  },
  {
   "cell_type": "markdown",
   "metadata": {},
   "source": [
    "Trouvons à présent l'apogée de l'orbite de la Lune autour de la Terre (cette donnée nous sera utile plus loin dans le travail). Nous remarquons que si la coordonnée $y$ n'est pas nulle, cela est dû à une erreur induite par la méthode numérique, les $dt$ n'étant pas infinitésimaux."
   ]
  },
  {
   "cell_type": "code",
   "execution_count": 12,
   "metadata": {},
   "outputs": [
    {
     "name": "stdout",
     "output_type": "stream",
     "text": [
      "[ -4.04726233e+08  -9.61143367e+01   2.43903597e-04  -9.70664834e+02]\n"
     ]
    }
   ],
   "source": [
    "indexApogee = numpy.argmax(abs(dataLT[:,0]))\n",
    "\n",
    "uLT_apogee = dataLT[indexApogee]\n",
    "print(uLT_apogee)"
   ]
  },
  {
   "cell_type": "markdown",
   "metadata": {},
   "source": [
    "Pour des calculs réalisés plus loin, nous avons également besoin de repérer, dans le repère de la Terre, le centre de l'ellipse que parcours la Lune."
   ]
  },
  {
   "cell_type": "code",
   "execution_count": 13,
   "metadata": {
    "collapsed": true
   },
   "outputs": [],
   "source": [
    "Xcenter = 1/2*(numpy.max(dataLT[:,0])+numpy.min(dataLT[:,0]))\n",
    "Ycenter = 1/2*(numpy.max(dataLT[:,1])+numpy.min(dataLT[:,1]))"
   ]
  },
  {
   "cell_type": "markdown",
   "metadata": {},
   "source": [
    "## Système Terre-Lune théorique"
   ]
  },
  {
   "cell_type": "markdown",
   "metadata": {},
   "source": [
    "Passons maintenant à une étude théorique de la trajectoire de la Lune autour de la Terre. Nous allons obtenir par la théorie les grandeurs calculée précédemment."
   ]
  },
  {
   "cell_type": "markdown",
   "metadata": {},
   "source": [
    " Nous connaissons la relation permettant de trouver la position du centre de masse:\n",
    "$$ \\mathbf{R_{CM}} = \\dfrac{ m_T \\mathbf{x_T} + m_L \\mathbf{x_L}}{m_T + m_L}$$\n",
    "\n",
    "Notons que la force de gravité est une force centrale et donc les moments cinétiques sont constants.\n",
    "\n",
    "Ensuite, posons ${\\mathbf r} = {\\mathbf x_L}-{\\mathbf x_T}$, la position de la Lune dans le repère de la Terre. Nous obtenons ainsi\n",
    "$$ \\left\\{\n",
    "\\begin{array}{l}\n",
    " \\mathbf{x_L} = \\mathbf{R_{CM}} + \\dfrac{m_T}{m_T + m_L} \\mathbf{r}\\\\\n",
    "  \\mathbf{x_T} = \\mathbf{R_{CM}} - \\dfrac{m_L}{m_T + m_L} \\mathbf{r} \n",
    "\\end{array}\n",
    "\\right.$$\n",
    "\n",
    "Nous recalculons l'énergie totale du système ainsi que le moment cinétique total, pour $\\mu = \\dfrac{m_L m_T}{m_T+m_L}$:\n",
    "$$\\begin{array}{l}\n",
    "  &E_{tot} = \\dfrac{1}{2} m_L \\mathbf{\\dot{x}_L}^2 + \\dfrac{1}{2} m_T \\mathbf{\\dot{x}_T}^2 + U(\\|\\mathbf{x_L} - \\mathbf{x_T}\\|) = \\dfrac{1}{2} \\mu \\mathbf{\\dot{r}}^2 + \\dfrac{1}{2} (m_T + m_L) \\mathbf{\\dot{R}^2_{CM}} + U(r)\\\\\n",
    "  &\\mathbf{L}_{tot} = m_L \\mathbf{x_L} \\times \\mathbf{\\dot{x}_L} + m_T \\mathbf{x_T} \\times \\mathbf{\\dot{x}_T} = (m_T + m_L) \\mathbf{R_{CM}} \\times \\mathbf{\\dot{R}_{CM}} + \\mu \\mathbf{r} \\times \\mathbf{\\dot{r}}\n",
    "\\end{array}$$\n",
    "\n",
    "Après cette séparation du centre de masse, plaçons-nous dans le repère de la Terre. Nous retranscrivons l'énergie et le moment cinétique dans ce repère:\n",
    "$$ \\begin{array}{l}\n",
    "E = \\dfrac{1}{2} \\mu \\mathbf{\\dot{r}}^2 + U(r)\\\\\n",
    "\\mathbf{L} = \\mu \\mathbf{r} \\times \\mathbf{\\dot{r}}\n",
    "\\end{array}$$\n",
    "\n",
    "Nous passons en coordonnées polaires $(r, \\theta)$ de sorte que\n",
    "$$\\begin{equation}\n",
    "\\mathbf{\\dot{r}}^2 = \\dot{r}^2 + r^2 \\dot{\\theta}^2\n",
    "\\end{equation}$$\n",
    "\n",
    "En outre, pour $L = \\|\\mathbf{L}\\|$ et $S$ l'aire balayée par $\\mathbf{r}$ pendant un temps $t$,\n",
    "$$\\begin{equation}\n",
    "\\dfrac{dS}{dt} = \\dfrac{1}{2} \\|\\mathbf{r} \\times \\mathbf{\\dot{r}} \\| = \\dfrac{L}{2\\mu}\n",
    "\\end{equation}$$\n",
    "\n",
    "que nous réécrivons\n",
    "$$\\begin{equation}\n",
    "\\dfrac{dS}{dt} = \\dfrac{1}{2} r^2 \\dot{\\theta} = \\dfrac{L}{2\\mu}\n",
    "\\end{equation}$$\n",
    "\n",
    "Il s'en suit que \n",
    "$$E = \\dfrac{1}{2} \\mu (\\dot{r}^2 + r^2 \\dot{\\theta}^2) + U(r) = \\dfrac{1}{2} \\mu \\dot{r}^2 + \\dfrac{L^2}{2\\mu r^2} - \\dfrac{G m_T m_L}{r}$$\n",
    "\n",
    "Cette équation différentielle se résout facilement en posant $u = \\dfrac{1}{r}$ et en voyant que \n",
    "$$ \\dfrac{du}{d\\theta} = -\\dfrac{1}{r^2}\\dfrac{dr}{d\\theta} = -\\dfrac{1}{r^2}\\dfrac{\\dot{r}}{\\dot{\\theta}} = -\\dfrac{\\mu}{L}\\dot{r}$$\n",
    "\n",
    "Par cette substitution, il résulte l'équation suivante:\n",
    "$$ \\dfrac{1}{2} \\left(\\dfrac{du}{d\\theta}\\right)^2 + \\dfrac{1}{2} \\left(u-\\dfrac{\\mu G m_L m_T}{L^2}\\right)^2 = \\dfrac{\\mu E}{L^2} +\\dfrac{\\mu^2 (G m_T m_L)^2}{2 L^4}$$\n",
    "\n",
    "que nous dérivons par rapport à $\\theta$: \n",
    "$$\\dfrac{d^2u}{d\\theta^2} = \\dfrac{\\mu G m_L m_T}{L^2} - u$$\n",
    "\n",
    "et qui a comme solution:\n",
    "$$u(\\theta) = \\dfrac{\\mu G m_L m_T}{L^2} (1+\\epsilon \\cos(\\theta - \\theta_0))$$\n",
    "\n",
    "où $\\theta_0$ est l'angle initial (dans notre problème, $\\theta_0 = 0$) et où $\\epsilon$ est l'excentricité de l'orbite.\n",
    "$$\\epsilon = \\sqrt{1+\\dfrac{2EL^2}{\\mu (G m_T m_L)^2}}$$\n",
    "\n",
    "qui se retraduit en terme de $r$ par:\n",
    "$$r(\\theta) = \\dfrac{L^2}{\\mu G m_T m_L} \\dfrac{1}{1+\\epsilon \\cos(\\theta)} \\ \\ \\ \\ \\ \\ \\ \\ \\ \\ \\ \\ \\ (1)$$\n",
    "\n",
    "Si nous changeons à nouveau de coordonnées:\n",
    "$$ \\left\\{\n",
    "\\begin{array}{l}\n",
    " &\\bar{x} = r\\cos(\\theta) + \\dfrac{\\epsilon L^2}{\\mu G m_T m_L (1 - \\epsilon^2)}\\\\\n",
    " &\\bar{y} = r \\sin(\\theta) \n",
    "\\end{array}\n",
    "\\right.$$\n",
    "\n",
    "alors nous trouvons une nouvelle équation de l'ellipse (nous prouvons grâce au code que l'excentricité est comprise entre 0 et 1):\n",
    "$$ \\dfrac{\\bar{x}}{a^2} + \\dfrac{\\bar{y}}{b^2} = 1$$\n",
    "\n",
    "et les valeurs du demi-grand axe, $a$, et du demi-petit axe, $b$, par identification:\n",
    "$$\\begin{array}{l}\n",
    "  a = \\dfrac{L^2}{\\mu G m_T m_L(1-\\epsilon^2)}\\\\\n",
    "  b = a\\sqrt{1-\\epsilon^2}  \n",
    "\\end{array}$$\n",
    "\n",
    "Ceci nous permet de dire que:\n",
    "$$L = \\sqrt{\\mu G m_T m_L a (1-\\epsilon^2)}$$\n",
    "\n",
    "et par la loi des aires:\n",
    "$$\\dfrac{S}{T} = \\dfrac{L}{2\\mu}$$\n",
    "\n",
    "or si la Lune a parcouru l'orbite complètement, l'aire balayée par $\\mathbf{r}$ vaudra $S =\\pi ab = \\pi a^2 \\sqrt{1-\\epsilon^2}$, donc\n",
    "$$T = 2\\pi \\sqrt{\\dfrac{\\mu a^3}{G m_T m_L}} = \\dfrac{2\\pi a^{3/2}}{\\sqrt{G(m_T+m_L)}}$$"
   ]
  },
  {
   "cell_type": "markdown",
   "metadata": {},
   "source": [
    "Codons maintenant la fonction donnant la trajectoire théorique de la Lune, définie par l'équation (1). Nous nous servons du fait que  $L$  et  $E$  sont des constantes du mouvement."
   ]
  },
  {
   "cell_type": "code",
   "execution_count": 14,
   "metadata": {
    "collapsed": true
   },
   "outputs": [],
   "source": [
    "from math import cos, pi, sin\n",
    "\n",
    "mu = mT*mL/(mT+mL)\n",
    "rmin = uLT0[0]\n",
    "vRmin = uLT0[3]\n",
    "L = mu*rmin*vRmin\n",
    "E = 1/2*mu*vRmin**2 - G*mT*mL/rmin\n",
    "e_theo = sqrt(1+2*E*L**2/(mu*(G*mT*mL)**2))     # excentricité théorique\n",
    "\n",
    "def rLT(theta):\n",
    "    return L**2/(mu*G*mT*mL*(1+e_theo*cos(theta)))"
   ]
  },
  {
   "cell_type": "markdown",
   "metadata": {},
   "source": [
    "Servons-nous en pour calculer la trajectoire"
   ]
  },
  {
   "cell_type": "code",
   "execution_count": 15,
   "metadata": {
    "collapsed": true
   },
   "outputs": [],
   "source": [
    "dTheta = 0.01\n",
    "length = int(360/dTheta)\n",
    "xL = numpy.empty(length)\n",
    "yL = xL.copy()\n",
    "\n",
    "for i in range(0,length):\n",
    "    theta = i*pi/180*dTheta \n",
    "    xL[i] = rLT(theta)*cos(theta)\n",
    "    yL[i] = rLT(theta)*sin(theta)"
   ]
  },
  {
   "cell_type": "markdown",
   "metadata": {},
   "source": [
    "Et affichons-la"
   ]
  },
  {
   "cell_type": "code",
   "execution_count": 16,
   "metadata": {},
   "outputs": [
    {
     "data": {
      "image/png": "[encoded data removed]",
      "text/plain": [
       "<matplotlib.figure.Figure at 0x1859f933438>"
      ]
     },
     "metadata": {},
     "output_type": "display_data"
    }
   ],
   "source": [
    "pyplot.figure(figsize=(10,10))\n",
    "pyplot.grid(True)\n",
    "pyplot.xlabel('$x$')\n",
    "pyplot.ylabel('$y$')\n",
    "pyplot.plot(xL,yL,'b-', label='Lune')\n",
    "pyplot.title('Position théorique de la Lune dans le repère de la Terre')\n",
    "pyplot.legend();\n",
    "pyplot.show()"
   ]
  },
  {
   "cell_type": "markdown",
   "metadata": {},
   "source": [
    "Calculons maintenant les paramètres de l'ellipse."
   ]
  },
  {
   "cell_type": "code",
   "execution_count": 17,
   "metadata": {},
   "outputs": [
    {
     "name": "stdout",
     "output_type": "stream",
     "text": [
      "Demi-grand axe théorique: a = 383663116.433033 m\n",
      "Demi-petit axe théorique: b = 383084497.25515586 m\n",
      "Excentricité théorique = 0.054900029559421325\n",
      "Période théorique en secondes = 2350681.8019619607\n",
      "Période théorique en jours de 24h = 27.206965300485656\n"
     ]
    }
   ],
   "source": [
    "a_theo = L**2/(mu*G*mT*mL*(1-e_theo**2))\n",
    "b_theo = a_theo*sqrt(1-e_theo**2)\n",
    "period_theo = 2*pi/sqrt(G*(mT+mL))*a_theo**(3/2)  \n",
    "\n",
    "print(\"Demi-grand axe théorique: a =\", a_theo, 'm')\n",
    "print(\"Demi-petit axe théorique: b =\", b_theo, 'm')\n",
    "print(\"Excentricité théorique =\", e_theo)\n",
    "print(\"Période théorique en secondes =\", period_theo)\n",
    "print(\"Période théorique en jours de 24h =\", period_theo/24/3600)"
   ]
  },
  {
   "cell_type": "markdown",
   "metadata": {},
   "source": [
    "Rappelons les valeurs numériques et affichons les différences. Nous remarquons la proximité des résultats."
   ]
  },
  {
   "cell_type": "code",
   "execution_count": 18,
   "metadata": {},
   "outputs": [
    {
     "name": "stdout",
     "output_type": "stream",
     "text": [
      "Demi-grand axe numérique: a = 383663116.433 m. Différence =  1.19209289551e-06 m\n",
      "Demi-petit axe numérique: b = 383084497.255 m. Différence =  -4.97698783875e-05 m\n",
      "Excentricité numérique = 0.0549000295618 . Différence =  2.4155955014e-12\n",
      "Période numérique en secondes = 2350682 . Différence =  0.19803803926333785\n",
      "Période numérique en jours de 24h = 27.20696759259259 . Différence =  2.2921069359182624e-06\n"
     ]
    }
   ],
   "source": [
    "print(\"Demi-grand axe numérique: a =\", a, 'm. Différence = ', a-a_theo , 'm')\n",
    "print(\"Demi-petit axe numérique: b =\", b, 'm. Différence = ', b-b_theo , 'm')\n",
    "print(\"Excentricité numérique =\", e, '. Différence = ', e-e_theo)\n",
    "print(\"Période numérique en secondes =\", period, '. Différence = ', period-period_theo)\n",
    "print(\"Période numérique en jours de 24h =\", period/24/3600, '. Différence = ', (period-period_theo)/24/3600)"
   ]
  },
  {
   "cell_type": "markdown",
   "metadata": {
    "collapsed": true
   },
   "source": [
    "### Animation des trajectoires pour le système Terre-Lune"
   ]
  },
  {
   "cell_type": "markdown",
   "metadata": {},
   "source": [
    "Nous n'affichons qu'une frame toutes les 30000 boucles. Ceci est adaptable avec la variable $M$. La variable $dataLTM$ est construite à partir de la variable $dataLT$ en ne prenant qu'un élément sur $M$."
   ]
  },
  {
   "cell_type": "code",
   "execution_count": 19,
   "metadata": {
    "collapsed": true
   },
   "outputs": [],
   "source": [
    "from matplotlib import animation\n",
    "from IPython.display import HTML"
   ]
  },
  {
   "cell_type": "code",
   "execution_count": 20,
   "metadata": {
    "collapsed": true
   },
   "outputs": [],
   "source": [
    "M = 30000\n",
    "dataLTM = dataLT[::M,:]"
   ]
  },
  {
   "cell_type": "code",
   "execution_count": 21,
   "metadata": {},
   "outputs": [
    {
     "data": {
      "image/png": "[encoded data removed]",
      "text/plain": [
       "<matplotlib.figure.Figure at 0x185a02a8048>"
      ]
     },
     "metadata": {},
     "output_type": "display_data"
    }
   ],
   "source": [
    "fig = pyplot.figure(figsize=(10,10))\n",
    "ax = pyplot.axes(xlim=(-500000000,500000000), ylim=(-500000000,500000000))\n",
    "line = ax.plot([], [], color='b', ls='-', label='Lune', lw=2)[0]\n",
    "pointT=[[0,0]]\n",
    "point = ax.plot(*zip(*pointT), marker='o', color='k', markersize=3, label='Terre')\n",
    "pyplot.title('Animation du système Terre-Lune')\n",
    "pyplot.xlabel('$x$')\n",
    "pyplot.ylabel('$y$')\n",
    "pyplot.legend();"
   ]
  },
  {
   "cell_type": "code",
   "execution_count": 22,
   "metadata": {
    "collapsed": true
   },
   "outputs": [],
   "source": [
    "def trajectory(i):\n",
    "    \n",
    "    line.set_data(dataLTM[:i,0], dataLTM[:i,1])"
   ]
  },
  {
   "cell_type": "code",
   "execution_count": 23,
   "metadata": {
    "collapsed": true
   },
   "outputs": [],
   "source": [
    "anim = animation.FuncAnimation(fig, trajectory,\n",
    "                               frames=len(dataLTM)-1, interval=100)"
   ]
  },
  {
   "cell_type": "code",
   "execution_count": 24,
   "metadata": {},
   "outputs": [
    {
     "data": {
      "text/html": [
       "<video width=\"720\" height=\"720\" controls autoplay loop>\n",
       "  <source type=\"video/mp4\" src=\"data:video/mp4;base64,AAAAHGZ0eXBNNFYgAAACAGlzb21pc28yYXZjMQAAAAhmcmVlAABJS21kYXQAAAKuBgX//6rcRem9\n",
       "5tlIt5Ys2CDZI+7veDI2NCAtIGNvcmUgMTQ4IHIyNzYyIDkwYTYxZWMgLSBILjI2NC9NUEVHLTQg\n",
       "QVZDIGNvZGVjIC0gQ29weWxlZnQgMjAwMy0yMDE3IC0gaHR0cDovL3d3dy52aWRlb2xhbi5vcmcv\n",
       "eDI2NC5odG1sIC0gb3B0aW9uczogY2FiYWM9MSByZWY9MyBkZWJsb2NrPTE6MDowIGFuYWx5c2U9\n",
       "MHgzOjB4MTEzIG1lPWhleCBzdWJtZT03IHBzeT0xIHBzeV9yZD0xLjAwOjAuMDAgbWl4ZWRfcmVm\n",
       "PTEgbWVfcmFuZ2U9MTYgY2hyb21hX21lPTEgdHJlbGxpcz0xIDh4OGRjdD0xIGNxbT0wIGRlYWR6\n",
       "b25lPTIxLDExIGZhc3RfcHNraXA9MSBjaHJvbWFfcXBfb2Zmc2V0PS0yIHRocmVhZHM9NiBsb29r\n",
       "YWhlYWRfdGhyZWFkcz0xIHNsaWNlZF90aHJlYWRzPTAgbnI9MCBkZWNpbWF0ZT0xIGludGVybGFj\n",
       "ZWQ9MCBibHVyYXlfY29tcGF0PTAgY29uc3RyYWluZWRfaW50cmE9MCBiZnJhbWVzPTMgYl9weXJh\n",
       "bWlkPTIgYl9hZGFwdD0xIGJfYmlhcz0wIGRpcmVjdD0xIHdlaWdodGI9MSBvcGVuX2dvcD0wIHdl\n",
       "aWdodHA9MiBrZXlpbnQ9MjUwIGtleWludF9taW49MTAgc2NlbmVjdXQ9NDAgaW50cmFfcmVmcmVz\n",
       "aD0wIHJjX2xvb2thaGVhZD00MCByYz1jcmYgbWJ0cmVlPTEgY3JmPTIzLjAgcWNvbXA9MC42MCBx\n",
       "cG1pbj0wIHFwbWF4PTY5IHFwc3RlcD00IGlwX3JhdGlvPTEuNDAgYXE9MToxLjAwAIAAAA5xZYiE\n",
       "ABH//veIHzLLafk613IR560urR9Q7kZxXqS9/iAAAAMAAAMAAAMDNLIKRfVHO/ODwAAAAwM8AIOB\n",
       "UAF/jw8nD4AIbCD/NORJxBk+Q5rItGfg36oc2kgQu6OSgEn3n/znWDU30W2i18SmS9t4dMvWKAP+\n",
       "7cbeU5gzlup6/611uLxal732kzmO4LuDd4+7Ex5Z89bE1rlslVU2NHW5mbJutF5sCgSE2c0F5RlT\n",
       "DvFAkSDdgqyk9v56ZlTYvhZJBDqU2ZOqBuiPhdsFuTPznSvwAL9tGf4pjmtPQNwSC8mdxtCFfVWN\n",
       "B5PFlZqum9nK1qOWLjjUOKT5o5NTC0u7J/B5TymZjCRKpTNfINlXPg+cVehXlrgL9CEZkLASNNLS\n",
       "q8OM7psv1BnokqQU9ZRqNoi3oNFEHh8rZ6HcHT8mqdCLQaP8nf0r9xMpbq4sv5MUaaWNvr92Svpt\n",
       "XTCrf8ofYi8VYekbXDwigEi+f/WPPgVfHQtwm+dtGhnNE6TI5HA/i9AsOeTSIEGQ5CyWigASWjBZ\n",
       "m7PJJyNnmibzMkOpqHq8BTzQCU7fvffc/0bpjbvqiqp5jmWE9Xg2QkBrhFjYWgBrQDvQr5hy7GUD\n",
       "aAOC6bKO6cwhzjGndafvs39+qXaOIZAjwQC6fNNMCGCzPjShWAMZBn5z2WDjPf7oQ6lMB9p97hCD\n",
       "/99OdfQ2g0Ir7xCNvm0zMToxvjCa9EI0Q67C1Z6I7voW4loiLtyw0qJi9kA0sDS7ywoDJeLDYjZp\n",
       "wWpa/O9xao+sf/Y+lMzdf48ktJsdgbNMWqjDXMwjTppkJz47lgVkuwTx1vBsKKvWh7Je6yHV9zab\n",
       "tb5HO0c417/LNbb2/c/Pxv4IbERyz3NSmmZL0AZ0bL035K+RbG6+j6Qgh7cNNFiK0S17C5v8ozpu\n",
       "FHSmG3wZbM0Mdlf5yGAR6IvxjhUEBc2N3xJBkpAxeL2TCOVrVYi+DYhNPUbvfmJtiwHgEsX9La5T\n",
       "crw6BHZdjjVQIzROh3Hka6OAELiblA5Dmrx6BGCwh8V1SbydyLDA4oDZy1B3ylbO3C/fKKLEd9A0\n",
       "5k6EZGz6lt6Wnxws4cJ3aiJeEeMHr5FES2T3eT24wRjEUfEOmaTaoFvBFdXvN/WltAb0h5F/JRwq\n",
       "l79mvB6HGUhXrCVdojueTyRoHUGObUECNkDOkUIRHiCLc4UwzqOYWEUrKHM3d7ssydUlorJw++bb\n",
       "fFW8LV0s78mkGWEkj72UsUIAplKa0K+jv6r1crR3yOefc40DrH8qTzq8MO6+Qnb7BGh2BRmMnTS6\n",
       "mrdZ+kKjGI9x26+LwEhbj43djTHbXb/yjLj9ePtInmVRGNXWtFDp2HFZCi8/B3110mJ2hm4xMX1B\n",
       "rZnpM3LccayH5wbY6R58K6Y2DHWhixF0tEJ8ow0qB4YoNm2itgQC36qpbeAaB1mYHZAXIaJ3ezt9\n",
       "LjS1nw2zlozBjwbIIYUvWL6NtslSlzQKoo0CgFh/+s/xxr2/9U68XSalvXgOLsv9PHVNzYouJarq\n",
       "zlsCTgI6ZgPmSIPTYAaQN+oi4ua2LiGM5xNBLcyKBqwNDrqx4tTZDOjuugzpbJ+bbLjZtFbCGZhh\n",
       "uONdSYFunsTd3/aTHir/RKq3rN71yE4RFGEF4jF4l68VbKOwyEpebW3TiJg+cE7A6z3diShkB/lc\n",
       "FYkGovCSEN1gS1x0ADgThmqUxYJhzees1vlE1f9f+xhFXxVY6vHaIkGQ02ribnymAsV1jAF2DNUi\n",
       "n+nDAjvsjnTCQDCN7wegX13+k3SP9yXGGVQyi8XaCiiQ5ob11KjTu8EQ89OnlVVGkWvv9ZI5A+Yt\n",
       "vr3M3eDe1BFVFGItZmDK/0hNLsS1Xm9bysa7ertJ8DNXuN/a+b6m4NSz6i39yD1U/qyyLRfceizs\n",
       "h9goMQC8/1/TDsetJ6kCI1h9TFNU7mQBsQ6fUCVIoXTWk6yvV39gVrZZUKX4CyD36Us++XgJqklC\n",
       "kJVYXvBbubkzweUgcRWGcRnOBc/FRQUYE3XwGLnNIi+QhDxw+iv8FU2lYiowH+n/+Xy9Dpb2PvhG\n",
       "jqa5aeFXjjIsllKTz0wIOzHaHBqxslLCPETLuTEflgCN+o/Qx35i4H0RZtS2tAQ9e0RMLHwde7nX\n",
       "wAZ6D7fyRWd3TKVs/+MFkitoMobLCv/GZl4qHq/um3vDW5bjWlH2eIl4YoKe9/KsVhdNhogbGkWR\n",
       "KVk6U+Z0LswQ5vn1zcLDJEJW/Y5X6F6dIALmqLYwbBQvS9xsoLjLJJrd7fDzilUfaFgOkk86s2LW\n",
       "rgE0zujNYSaopP9rXuzomQUEDG+vGUKIytdLvRgIPCz1wleItLXXucuSVKGezcEOOmAJ9o2KPsL/\n",
       "DPdnwsn7wgsODhZqqgke+8oyYbmqC/Sh9VbjxMVsBfLzI9236b+VZ0MSy9ec2fUWva5QieuQ9Y68\n",
       "GoOpZgMGReTa7XQdCC/aY3bAdHIsfalPfDGXCAgVB2uB2z61MIZoA1DdEAAqoG25Z//5RKIuaFIp\n",
       "X6UmbrTFUBUL5n6TBHjzcmSrYl26QeZB0kL6AB/P2xeZVMbz6vYN66/9vzAC1b2oMHnV1DhUJRfh\n",
       "R00YYmI76mXC6gnYzO7R6bamTmk6Q1ddTtSMLUOUDdjdJQRZ+C5M1j6BY1NF/w8DYGVG50q29Mh3\n",
       "NtUAIgFaSAvk6lFaIgwoN3EdVafe2Siv6cSHu/LhicdMH2+e5BK7tngtsdSGM40rGI2gGAwylMYc\n",
       "N8AeE6NFLp3r8CGDmQMyFfxb9VcBJbzSEmL43FefmcKhedz+bUHbEbmn8UYcZ3cHho1mg7+inxj1\n",
       "Em1z5gyexjCwkkFEFMsoz836yWPW+Ant8HIhcQphCAyLubbBrDuxqYGfKMRs52tVIvG8Nm06HsB9\n",
       "hYN9tDKxsWLaRV02jiRXQQRNVURTKpWDzUCZ0pOpcVLVHuugbUsu+oj8kW2uHNnZROm2YAXinhtx\n",
       "XzPDawKxuSECn8Cn51m4sn5mgacAGGBz9BgvQVoLlphhSW8ZI5zzfvC8nxskDWAg0XHhMFZEJXfm\n",
       "XJToelbOKV6qufaQRDC+TP7MISQLzBMTxIZOTPerGtYeR96zR6JeeR2zHhQYmYkolzHQXZ9OZ0C0\n",
       "8+dGTU5dG0pA0gP8mAs0pntxU/LAGlHsgKoAAvYAAAMAAAMAEX8Pi24o4A3ztMqBErWjOlLaF1nl\n",
       "d/PZXFRw54IvaJvLCOSN+rSDV+oiwMdr8SQCXYJorv6joJ5YOM0pflHOhl+hefS8PDhnwknRefV0\n",
       "pdv4KZfwGf/JhN9I5Kgq2i/yZt71XSv1Rp+ya3RxI2RLgZFdGq8BmjKF9Bv8qIH3CISDJV555XaA\n",
       "QCF6wsAy0Rh0uOJJm1NWhlKm1vmvKDrH3TYg//tYjUbX0NvEJymoYXbg3UaIOtsKgdwjt9lAlv/C\n",
       "iZnAOYdHM7yLqQmfa2j2L0z7O3CBAC9TW+CvbAAAAwAAAwAAAwADAwZhttBkV4Zp+aVx4kpTOSec\n",
       "wAORoU5yHpRGS+teKw8/YqxCz4gF4PEaPmEQWdG6PFuVWHQv9IUcFQmPZpzMGsQvikPpXm+p9okm\n",
       "mY2luWRORwgDOSvB3tDbbgtLHXuKrnsl+dWtbIcJi3OKasTyAtCVTsOcpD2Swmnqlfm5bnEyw7Pb\n",
       "xe6YADePCygAAjNzAg/4BE2gDwEAUIyl9zU96rhL++7G+uD8q/9KH4pVkgIptvEycwAMt0W0OdGz\n",
       "T1M6rEp81SRA6tykT1usstCR4dGQPCAbFInkpB3F2bBB1t3ofjEOciJpPLYkGQluo3oF9wCe5Drt\n",
       "C9ts3MqQpqKG41XcOwAB5tQAUoMC2bgVmFnoffjAsXZI8D7j+oZoEEd1gaOh97k8sfDzUmrNL827\n",
       "pxvycQppxoveJEbQJZeuDpZfRDKT+sLrS1zylCW5/kz3zckHd7sMa11ECgN55Dfgdyls3823YJLy\n",
       "J96Ij376RKFm5FVxgZBeI5b9XHPzyXZES1O72PLuEK9VtwMj219W16rSTapd3vGySjuo3SeUPMxV\n",
       "QK4IkiSAFPBfHdeZ2M0JU7I2sCCJoSQYEfwsg5o6h55CimDi6OkBfISk2H5I0q8+8UzEMzsiOcNg\n",
       "rCYITK/u7/dHQBOMxjoNb7pC15WjmtE28VbHVFhQj9JcwZj2NGudSaUnTGn+a1rAvVjUF7vEyVPO\n",
       "2eFx/Ef3e6U8Ioz9B3NWrUeILoSxYyjfVJLE3lFkM/HlO0QdKXFlWlYAAArT6aasN3OlpqcGkTnS\n",
       "jA11rkQgC6Vmasu9KhxPU2F+i0xw7r8VAtnERepQkwjY/J5Lk8n02EaoAMaYQalNvD1xHPuP68yZ\n",
       "SgGDwmt+4sP//1hPYmef5u+IXhHImgI8FBuvK9AEjL9QoGTGUeRmbx7sGskGRWBDDNy2SOM1isP3\n",
       "dfy2pTI5UAP1zpeSR6G/8kjb5VZRFWwvU229DRjwPq1pGj1NugDw/1exNiKIyLQnWG8a9Mj+zWW2\n",
       "ElBW4tTuq3aDM5PFFiiX8CqTZDb9kvBBqaadRVU1f5sO1veRZ4E6MnqrbO3YBdtQH7UAww7W9sle\n",
       "LegW/drU+RFSJJu+y6QTR5IdnZx8uQWLB3Nx41fuyTqKGE40lykX3/uwnSb9weDsLjA8VLEendnC\n",
       "Cjv0vSTZTGs9bWwUKyk/f5o/jIMsYxGv0Kt/o5ELn36Eqyb/7gckJYXXdGEEyM26kbK1HeMxKW+T\n",
       "UiPE2YC/yZd3wpnlVTUe0g/Er+kxqfKytW6VPiXFnJo0tWxnXTTWIr/506ks9N0gQACZYjJmvJKQ\n",
       "bKPYMquz5ww4EoBRpgzHprfTticffUcH7vklGac/A/yybiLBdc6Zd41s9gvNEbhf9Dk0HWFWe+ex\n",
       "Dw3cEncjaZEzDmvpu4zvj4yI0iwoYMO2vTfKdIUilPBPNt7lIAAAAwAAAwAElQAAAbBBmiRsQR/+\n",
       "tSqAAJwyHgAcy7qe+v38FjEh0cLE+skA7yhOLctNj8Z/wkZczh79UCsf2buA9bhADVfja0c5wp0a\n",
       "dZgayVFAB5m9XwEEQuU8Bd3C3fLsU/pj7ugqIeLJFHsFLSY3CtmYr87w1mtJFIvvzfK5XevS2T1O\n",
       "Fw2cusNd30soU/Nz1/3LbgQT4NSsmukdIvWesezq8rbCYCNThwwOJNuydxIl1tUlf5UqGKfannEz\n",
       "WG2P6Q9QfKDy2darFg8sy6K8wXrdzhvOVFbz6fEFnF/y+comUL12WBpQj/S2xEuRRarevDqz9zJO\n",
       "xyiwnk0f5kT7VeBUAlxmOXaXGvPtBtox1EJ8587/SK4FQQBVMPu1DFRPpr4vA1EOx/Xn5YUEe974\n",
       "HejB+1sX0IiiF6SXt2L7ldnEEX+HFSkGwKERojegB9f3DY9Slh7CzosbeB9trcOG8TXDepkcZi7S\n",
       "8JZ0xLf2vpZJPqBW3hB08/bUpDPKbmCTzTAe/0Tg3K2jiURslZEY/pBtDbTX8JPV+IrTZx5KLzdb\n",
       "BVbhGEgIA1sIwZ83tVpyaHpJ7GoTqcEvBewAAAAzQZ5CeId/AAJg5PqwAAktMabeRW0ADoQBKHkK\n",
       "AUtgTM8zQKee3pyGohH5DGv/4gFgrAUlAAAAHwGeYXRDfwAAAwAAAwBukKcnbDk5FIHtn6bjFCAA\n",
       "B8wAAAA5AZ5jakN/AAADAAADAWJ6CW5+mEAEODv95lw8KU4kHnJ7UCXHlNIBTuzvo3DM9P6pWcxl\n",
       "AAADABKxAAACXUGaaEmoQWiZTAgj//61KoAACyd7GnEBWv8QG9rO0KRqVGb0xYf89VH0lwKcMLKf\n",
       "AK+WrLNrtF+9Hi0TKR1AABhXUGMV265/augVGEXDa7Cokht3CNvQyAx7JQJWen2k54VJLMf9OU1I\n",
       "R0/NnPkn7X0bX0g2jQV3E61LnPWYji2SauuHb7o0LdBEPWRTAt625v8vyynVp3eipNxfXDHf//Of\n",
       "yjhPGhtcEzj5Ofg1ZngZsoMpmBP1V9osFo09OAb1WwIbfjzyXfW97GPp1hV9/wXkfh67uM9OFG07\n",
       "jx8MZZ1s6wj8VplGWsBl+d2eDd56tjP2TD9W5LIvK3oKJJWYmDOMZhcwhamvh+/gATRwu9sbKpJo\n",
       "DaBSbuBklmi6GoOcGkPbqnOWDevnMSyvTSlUxAW0Yt1+rcbealdStUBa9u16yQdGWc0F230st2qB\n",
       "wWT645FW/oymMk9xBuUycxDLZuHKAaULpnQAHcLqAx1I0pMmv5sErkMjSs8Vuo1+bfKeGyelLDTP\n",
       "bkMTbTJEs+see/WZjHZWgDDc9ORSyPFYZksUt1AED4N1x+Bm38WBFOAvOIiGydePDJEAbR3uOmOw\n",
       "gC2yZMD+gR/QjIR18Erh1maZJWWEg9CFxIHpyhGNmVDsdEs20hqTDiKwwcVqU73Z5TKv/7O0mUOK\n",
       "ECrq63L9Z30ZgbKGYR2Xzj9tyXUHbHa2CLer9c2Sm+6u4XcwYI/WqHKkX5XkMrLz5z+KtVSJkUY4\n",
       "sCPrdoagZVyFnAGpIXbS0Rxn4XazjNy6xmPj93AwbtGtTkX8yfyXU4AAAAQdAAAAJkGehkURLDv/\n",
       "AAADAABnwR/2f3FgXJ2vM7CPbzXL6cM/AAADABLxAAAAJQGepXRDfwAAAwAALXErVbrAZvu+gymO\n",
       "tpAYIDzB1I3AAAADAncAAAAoAZ6nakN/AAADAACS154k+qPxwArJulinGwIEhgyT1b2awgAAAwAa\n",
       "kAAAAkFBmqxJqEFsmUwII//+tSqAAAALcU/tABb0ryv17r6yk4TRQ60RgeadqZ+sKSppgy/GiPi4\n",
       "TjQ+gAxtnXHgZhurGgAi+vaWabX1V6eP9R0nyZtgNu/GXG9cQ8SPK3OzZrzPWkTzj3ooJhrYo25V\n",
       "054Gh64FRDblV72+81YgwMKVdYsfFRSIE33/dBhFOJ+atF8CSgZKxHsoNx/kxO6AsC6nDHzHAGon\n",
       "7aV/HkQay2tjNA4oyZt3NJzpHUdUiy1fDaHG/KmvGh7DRB6IwKx37g2BcKa8QQW6d5op9H9aeGzY\n",
       "mq3fn31jdrnRv8x7z504rMMlIA7sZT1abTNWsj8GHP4zbHkUrSDS2Zv16z/Uux5PyGdStuE6HLjk\n",
       "/JSij7RdWoVKc/kp0pQieOsKr/bv1EzLLPzg3YnH3YyWo7WRjU8lgINIHeD1TKkDUVK1rt5x74WK\n",
       "oheyXGadEh+K2wvJC8VVmkxPp3HEoT+uiUtBeD7UEWgVD3OoAl8wPzUPH0IsMXtZ61q1vtRyW6r/\n",
       "wEeVAMqzLjsUh69WKDYRBCZ3FS4x+sOrJ+fRQmnAjewQoNmp9DbRcQ07JFJ2oqI1sgFeDFuMl8yK\n",
       "rUh4RRW66Pd+oMBCWotXUVODR18t/mWIRnlcV9Q7Duh38KO3qHmPdCNy3L+DNfWwvDa/AFHfFiLC\n",
       "0qv4Ob7dvHtWsbLbBmvvWA0kmeMsEwIDRzYBWAmZFo3iYVPorWwcTSC2tdEv2sNfxOBnHpqNKRQI\n",
       "BPwPAP6AAAADAD5gAAAAOUGeykUVLDv/AAADACyqv8RR1ZBNtACw/DSuMdIT/hSgl3/SI5ZXj7md\n",
       "TjBWiBGDyboUgAAAAwAbMQAAADkBnul0Q38AAAMABiEJmxELRB4APilmsMo938X6bHk8+7a2vTFm\n",
       "jtlHbfDATpXqjoY/V2XAAAADAcsAAAA1AZ7rakN/AAADAD4lDswCS8ogAmijN2ntjPT668GMsO32\n",
       "5KlhYzZi/Ue24CoGvzAAAAMAwIAAAAIvQZrwSahBbJlMCCP//rUqgAAAfXcH8QH0sAB/SNYuKjcZ\n",
       "sQmWgp9r7RVsJOnD+J+tpnt1fgZRjKgqShwZ+NRWnECehy7TL+qAM+F8MQyyn/eexVEjsAUhflpt\n",
       "u1AGJpo+34nwetYLVDv6AxAz+zsoj9UpGeDk+yLf4aGFQ74VCCOm8fvjbQTlG+T/QCf+x5voDO6v\n",
       "AmyES04Hj9MJSWK5HYdA/tltUy28/qAU8rvOtk1BHIdgout2ulmgYzJmwSgyXzXHd+jm/knE/EF3\n",
       "uv+l1OF8gWHho+6fBvDx5qUwz0TvYYfKSC5LNM9TCyNrqd4OSzz4gWKeCdkLqNmxQ0K+SMF/VxG7\n",
       "PdsPCnGLbVfpSI3qkXUHxHFbuBKOFTFHObso3mh3/MD8O5y1OLmlOovBoRh/AlLnWUzdLjuATdx1\n",
       "VDBnTvzJPrZMUKDa4vTe2qgkVrkkMYH8+RWcxwU0vWPPOhZuEuXnGKo4eCVg9Z+H9ARhwJRdErmz\n",
       "vIjwklPdGULzBlkOkvXn1x+aCvnVVx84AFK6t7G+P5bPsDDOG8+km58qGToWR1gBEMMRgKzSxAla\n",
       "rlBorgaxIhy4S1xCz0bMLmnLhr6HY0q+TZ/SiSzqjLf2t4jd914hlDSom2zZX3FhnNYICPttAw6m\n",
       "R86NIIB955CZYJYHVO1BLWsdgPsVl2qHOuxh0P58scrY4iGNr1KQYRjZq2bCqxGw7EzrxMVO6U10\n",
       "ENUMQUAAAAMAAAMDAwAAADtBnw5FFSw7/wAAAwHo/u6QN2fBnUUgA2q6AXwLIKwg6VEPnGgCDii9\n",
       "YMLkf0ytI0ftERQ3AAADAAB0wQAAADIBny10Q38AAAMA0yEzYQRPuWzACauzStN2hX00BVVC3oCr\n",
       "32w7g1sgGkobMAAAAwCrgQAAADEBny9qQ38AAAMCxPPkhhVBE5jABO3ahg3DtQlwmPVuwNjl7NOV\n",
       "jdNgGRi0wAAAAwF3AAABn0GbNEmoQWyZTAgh//6qVQAAAwEZ5a3+EoLoAWC2nT38YgGIQ4ROEYpC\n",
       "t3iNywKFOdLxfemJKpkcDedklQhwL7FeDbdb3wZ7s/GJiUvgOCih5E4FFw4ogLr1IwXtB7Rgn9Bd\n",
       "y10Yv41jAHCRdVhG/TshmffB20WY9qzCRe7ND0L1gHKCP+cRMVLszsXsLaPNt5gXfFSLd/OVYeHi\n",
       "J57Gmj8dr0sRGFwY5lAqOj95XsvrZd7J3mS0rOE/krTGh//ion9y0Jki9JFPYS4MJ9XWIexCNd8I\n",
       "q7kMCdQUXrwDxbcOSEWO+UnEMa5e07oa6Ik3pvL31vDIHEgdBHCs622TCm+drKZvxlZP6nIC4Act\n",
       "3yW4bEfShNG9J63wRSJMW0gUO6xXdvHJFi+172CM+HhalGf+7vwWodtWYb12VjqG2GDNMdvGMY/s\n",
       "ltO3Io/Yy7aceMd2J2U+Jf4bqeGOULMv15QhmfCUxBsBtJn4lmBzAWmuVIKssxcSKD/wXMxMqcYB\n",
       "6opLC/wnUzI36FjY51OSbpCkpzvORwAAAwAAAwAAHHAAAABKQZ9SRRUsO/8AAAMCIR/XX5bJuPPf\n",
       "J+ABEHw1DbS4v8YAPc1W8rN/DxoVQ5AKyjkV9vdu2oZX+jCWQ6+2+OWMvj4ttoAAAAMADPkAAABF\n",
       "AZ9xdEN/AAADAukQDKCBLgA9yKNchXJbXV6/z93tS7FLoOO326tf/laR0/riUaYf4dtM0gMnMKfb\n",
       "VTigAAADAAADAPCAAAAAOgGfc2pDfwAAAwMQXRZmfAB/Bw1txQ89Xk0Y2MTsFPDRuLDY7ln+Q6Mf\n",
       "zqUc+TyJvVRTgAAAAwAABZQAAABuQZt1SahBbJlMCCP//rUqgAAAkBYuCrk59EZhZgCO4ekbTmbn\n",
       "HPchqt52WXSGUhOhyJRfObaqBIFH9YuFnSH1+d/Sp5hJcXOOD/pcPhOhIdulm7ezFrO9znLZiFvw\n",
       "g/a2wFXSnZRlKhAAAAMAwIEAAAIDQZuZSeEKUmUwII///rUqgAAAoX+IEff7VKmu3ZX9hdSvBP0d\n",
       "XKb8GeATt8QTEaOXOjoONnjeYGhVHsLPCor7ALfR6UwLGDBBb9/r+3olOqo13lzHVCsTnz65/s7Y\n",
       "OuoYLmBUK5dyQZrR8lNsBmZSkLGaFXl2POVy+dzJr39WNl/910SCGDlmB3ptDYxkLdK/DSdjuRUQ\n",
       "Yi4OWU8hGp9k4+2qdYIne3+SaS9kAHnhRWhh6ZxbyUudoRtHVnW/4jvsRUGVmPIN/zmbauRidiny\n",
       "EzgzjIFO7h8R+Y6tt7jCFbthKNlMtOcQJJFizy6h0Ek9YR3aMgKMOqvKw9GbzrOxfrk8ZwLrFSce\n",
       "Z5JdH00AX9js+9bdT57JyMH1zKfC9nJuz5IUNRfk+AxoD/aF7xULwmtjnOnwczUf3PK7NgtOKtiu\n",
       "rzWlOtHcx92eJVZFMVmwnua5aiAFHu+1GOS5uj/sT5BCLByiWIkGRTHVwszmUqu5md4PwXOIe/Ab\n",
       "Prtxn/SvIzdNJ1UxotGlclZjeCXnSdlu9VThWKEHkPkcIMBNUbT6tTlPkWnAoih7XHbXytkonu1d\n",
       "e4+HS6Sw4SnQcAj840kYcJEpEF2Ver/YwP7JhPNwxcBUXJ2ChV07yeZctD+war86gj9SUTo9jKWA\n",
       "LWYbE9xI9nsjzToLOL8Ms7TjMlrAYkAAAAAwQZ+3RTRMO/8AAAMCWqNCCrk435jf5pAOSlbYGs6S\n",
       "VxhwYgLbASoh/eHgAAADAAypAAAAKAGf1nRDfwAAAwNghM0soPgA1czMnVXeof6tUMv3AC1J/wAA\n",
       "AwAAB/kAAAAqAZ/YakN/AAADA2ABiWzM/9oBpZGTUB5/TYvZV0ixqnAKB9OQAAADAAS8AAACa0Gb\n",
       "3UmoQWiZTAgj//61KoAAAJi2KshgCg3o5+d//H38SfwTqhtcz4ycJmC6H1jsoE9t4wxD4RLDVZCV\n",
       "YBvdkCfJKtX6yqBo5IoVD3E/ojMf9DXKscfhqU7hB9ZuLPN6KCOaIAAKI1AHqboo0Ja5Ll0Fwv8l\n",
       "uQYRybSjmZPg4zvnHQBs0ed3D6IxEgkP4gbKMNNXvg8zVixDJ+37zGUb3rdIRzwqLe3TtH+ddS4H\n",
       "GXFzj+dmpOqe9hXDPYtwPzVSGzSXO6YeKuhYtHmnJFT3d1cErFvSeAGHdAp1drYo+gOTx9an+TXQ\n",
       "IBxF+6AdsB0/vg4lxu4zqbG6JAauLhglACtRIIsvQj+t63cYH/P1crovw2nLHLmzEorKS9gCP6Yw\n",
       "9CnoJQP2kvEofldnqmVj+0TQmHXVkHeyfsX4gXpLr/q/Ph3qd3t7Dz7eyTvz8vQFYgyvsoR7DTfO\n",
       "OyRCvrVKXOdh4DJGnOcBc/JzKGlUdSwOkoJ9V7O8gWZnOvIGmYH/D8PnSpNBNfVuX9ncFSSKItau\n",
       "+SHQsrl+FFx2TimFRfMrVTg+hlsQJCBolIN6pPT0/3ApHeTx85no/BmGsUwezapGmp/D5+uDnnSV\n",
       "JD/WQamfzpyV/23JrT8OPTvNr0EB2+5k0uKb+RQBC6zvD+7RCasp6mcI8UX8lVwpaTcbE7nlMoKH\n",
       "/Ya7BkuITWt7htRDHwwjLEgkXEL/l922HBW6Y9jX0FgQ3UcU1My2EL27JqOXGDutQPlAtPQaI1Au\n",
       "OvjRdLqEh+ifizcuwEnvaO4iOyRj2ugcv3NHwBOZUMwqMUTyQrVnCoAAAAMAAi8AAAA+QZ/7RREs\n",
       "O/8AAAMAz20tl9XwBeOcIOvmJuOb1AA7NBsrlldOKqshhCQ/fnCvsjNdyQ/Nria5kfAAAAMACFgA\n",
       "AAAyAZ4adEN/AAADASW8KXcIAIfrWbDlIqcjUhneXT51QXjd7mMKDTHwLm632IAAAAMAJeEAAAA0\n",
       "AZ4cakN/AAADAP4UQSFVvLA9AAiBLusBALSDcWNObezy3/rGzqnoqcwjoyBtwAAAAwAP8QAAAkdB\n",
       "mgFJqEFsmUwII//+tSqAAAAFv60vgz9tkIeHNRIzmjKB9bJ6Fhk+bR2EuHejHo9Wlvl9h71hSSaP\n",
       "EFBNc4UxTZdJ/iFPSgLrwB8j9t+dVRgziLna00KO6BLYgDg5IwyGj7aw257XW6drkCWVKvgYd+eD\n",
       "9PXCFN0pae+FtMBQ5ZDmtGpbkvdE7iSj3nzuJFoJiDPb3lC1QrWKgCCPk1TDk5BPyeFYUv+UD4G9\n",
       "LUxYJpY5Vg0vfq1lfuss5yKds+SwAFx2SfKfT9Dm4CmhEtaC/xt59900/CdE2loDO5qQTfqavEFz\n",
       "9QCQdbOVNRJzruC4mmdTnq/3rAWpN7av+ogWb4MD8CkUoKYhHq/XKBpdCPlfNo3L4oS+4lrdSvK1\n",
       "22vLNrgzGUdrArIP9ZyI/irgGn/OUw30d87A9qz4fBLtklauVAJgTB7tDEFysGcMfXTSM9eKiJSw\n",
       "L+ACT6RO/a4A//5IW1DTXtI+Frn28+QhEyJOI46Nz73p3JFSadXhr3iKVvRjWkOWyL7gtKvHAMVj\n",
       "zvQevZgqBNLm8F1D+MoS33Q29syxNZC5jziIeH9TyFIjhW95wavxe3XgppgK0O+zf50MlQWVze2r\n",
       "v419VsGwVg8SIwl7ir79XLZ0+vCoexPgRO2IsKhgwCYPJKZIDHraEa//a5F7xXUtJ0UW+wHgj1Tc\n",
       "YLWLPMooPZTmit5f+k/ydQ/SweS+J1Y+KNgn/YLZZjzgcuPb3UcAFxkAvxzVEwdQXYBzUrjcHvcH\n",
       "59gUNpLgAAADAAxYAAAAOEGeP0UVLDv/AAADALu4W0tlELfpCv9SwDa0f3qAEJZ68IDjfxlJgbTP\n",
       "qdn06sJOJCuAAAADAFBAAAAARQGeXnRDfwAAAwD96eEdtkZgl4V/k3AC3T/6YlIVOnRUIA26V4A8\n",
       "8hy0qQ7eJi1g+gdXyGOgcqaNicdhEOWpgAAAAwAMqQAAADcBnkBqQ38AAAMA/hRBIV33S2WogAiD\n",
       "XGRVOhwK3eesj2+3M6M0/OgeKsGBVypKU1M4AAADAAUEAAABIkGaQ0moQWyZTBRMEf/+tSqAAAAD\n",
       "AJQ46hgBw2TEFXqdKft0fwlFXQOp33PtqAhUBFmLGPqrb7kZJ9ZfMhTZbeXgDcKndkN9dOBFIwQ7\n",
       "J7JyiUkXtaTwx1w6Rt7GT0BFshOoFuIectj0zrPYFQc4onM5kFsudeRASy0GHnCB7TI7StK8jsic\n",
       "e9zrSyfLtGz9VHe0dlZlfNNNfZjyppvY5u4ZQWGPw0VGge2irlWf00VJd9l87F/RLbnhUydJrhLl\n",
       "lX9eXCUnGPsdu1c8kYiRZU+cbBgDfizabtMmqBaUuYnXPCW+lJ7xKbV98jNDNBqGBTANiZmgXbB7\n",
       "TMDkoAquJJPk45Z3a8f4ushAzUu+fG/5YU5q3iy1OVxTvctgAAADAAl5AAAANQGeYmpDfwAAAwEF\n",
       "yL1cda0nO6vNFu9k1LwAfnIzlFZMjgAanr5pNvqqlu6qtsAAAAMAAG9AAAABx0GaZ0nhClJlMCCP\n",
       "//61KoAAAAMABOCyonRVWbpeggEI9VNdVtfqqeLl7Ui10+ZTzBwqDxATkCYiVrgtm+/W1bZ9NwgP\n",
       "bTVpqadOvFLGor/Jc/x0PkU0OEsMqCTFmu7nM1vSQWtw9ckY04HUC+ZXlZrXtqElRl9ZGvEViNIq\n",
       "In6oHb4a9ZMmBq3YrTgoqJwLtZEvFjiBcgz+M25JpyEBjMgqKty93sVGHuXwQYoiEAKy84/q27BR\n",
       "jg4sArMiTWtTsGZHX5lclLk7cy9yPeb2zvQtCK0EMdmWDqXgOunE0BM6FmlG2iyJmH/tXEZTF7KA\n",
       "UTazc/YmICn3hmtoewDeEjONdHvgcJO2/IwpTfjcOHhqKeMrUGGKIcZPxVNbAt+GPNj5yNm699h1\n",
       "0Ipw/+D1PbozN4E5gJtrDOeJYzl34sse2AM9kbZ3TF3SoT6jJuOBMZ9wBmgWbhzj3fJU7pK1wNQQ\n",
       "SlRlJkZEMbckrUZnfgLf//okC02++OsdfL0hKHVVpfakllmmnFGQQoATCBvVRGMLHgfaJEZMGsgW\n",
       "BNOZvWCJpfyWOjJuz/HLvRrtqDFzU40NqRwyGPKRGbYTI6Sw0WXcAAADAAJnAAAASUGehUU0TDv/\n",
       "AAADALuxaqYlCS/N8/nug4ks0X2VY3f3qACb9Y3QqvcivPiQAkGNoBXlKiqRqIOiKVBhCWgFNNAA\n",
       "AAMAAAMA5YEAAAA0AZ6kdEN/AAADAP3p4R22GzPgY+f8F2oM8gsAJI5QL7WOHsPKW0M0sZ5C+LCT\n",
       "wAAAAwAQ8QAAADwBnqZqQ38AAAMA/hRBIV3z5wluFe17m5f7q12FxGAFuoC1rkG7M7G1bfYRfnqJ\n",
       "HcZnnRswcWAAAAMAImEAAAGQQZqrSahBaJlMCCP//rUqgAAAAwAAelgH1IASflWc3Il6wZA6P0/u\n",
       "GQC+Y1dl7Fl7rp3/OziPF/H6SdP/OsrOdzq/+iJoACvciCK+V/83IQlpfMOMxK8jdxa2YW0jOrPo\n",
       "91K05r3DWFa49KKpFQxIl7YC1CAWWX1vcu/IG+xnAyiHBfS8cAeDxIXC2Fd4CB1dDat5eYNXxPyM\n",
       "7JszfCBvcNRpntzf9ZwyP4LFkAnS0juVG+1Q31pea/99SdxOIUL5zFEL3wkziWftU6CzGoViGfED\n",
       "MLGGMZWk9l0CNb8yGMO2TTO8yXjECwf1tODLFNci1q1MYEs7xod2BGyGDWsFBbrYQWQUO1UNGiO4\n",
       "5Dkn68FyzqizkRH5Oc7ZjlCUHM/nHfeS2AEjeShWsrNkVo6aYInn11Na/zGBuVrhz9roOGPFI0TJ\n",
       "JMIsY1ki+DXKHX48rFf+2RhJRRLb8X3Tla1HQzHMtI9YOy9jdP7DJbpBkK08mpNF/HPajgaqUzO5\n",
       "C2f3hykgTkjBcIwfjQAAAwC0gAAAAFZBnslFESw7/wAAAwC7uFtLZRC3vfP3/MsPg2WZqLyd/0+V\n",
       "z9crio02+VquqAEqJvpHycmfqg+I3l34iywHKV/r9fjYLVezN2rXvTWRTWWFAAADAACLgAAAAEYB\n",
       "nuh0Q38AAAMA/enhHbYbM+Bq53LYIJ3gcxasIALquSHnOtbUWam9WwAe5kMiH8N1zpeWSEWyRygl\n",
       "TByww8LOAAADACDhAAAAOQGe6mpDfwAAAwD+FEEhXfPnCW4VqpzPwLoIVnf8Qn2GAFkHFMNwQkqw\n",
       "AEBCQPNfOekOYZ9AAAAIuAAAAfpBmu9JqEFsmUwII//+tSqAAAADAAAMptBPqAP5tM0z+c7BNtCP\n",
       "zxkZ+Zur8ReiGMxtWF9fRyMI3O3C6UozKNdMmiumZjNGDj8zNNjZ32Hehv60OObWfUwwffSnDrNl\n",
       "Eol0wUpGYcRHHFkSLYY5NZ9nZ55y8qkrTWNfkPMnMWh2pFfa2wCnvG8eCc/DANC9D/lZ69IH9EhE\n",
       "OGhbeFmBS5yzDmgluG/BR5jR0OowDQuU+Eey0JEuv47BPPWFsrsSWwWVtASU4Cv9QLqlhVGefNeJ\n",
       "2viYPdmXnjwZweyjOF3TuUP/9Mrb44vcD0Mr0lLW10PYMQIHF5qECiwxRyS6ASrN8GpDugV1/KgA\n",
       "e0SvNP0RF+fUBrL7r2MECTFsnYIrFaRMpXOe6tlsDwJLSDfi40LiS0ES8uQt/zzWTwdrYoLob+TS\n",
       "7g8j9ASOIUAAPp6/G6XRKldiqibPThI/QOCakvnE2lNaynM8KwBezlx18DYj7OIHYrnE4HL/MTox\n",
       "jUqYQV5F5XSu6hw8niHWJm2AcnzO1UE4/S1MtbRpo5doPwzZVNk/sj8l+oUryLMafzbpzhh24lWi\n",
       "qG5rxNWwHnUPD9ntpleB0BXbektOXkMupp3UdDMcAD1LkSFp55S47rBBZEmi67xBH76Y2cVaFHIY\n",
       "on+kZ7MIgMoDwAAQMAAAAEhBnw1FFSw7/wAAAwC7uFtLZRC3vfP3/MsPg2WZIaIQAVLl9RVvoKQA\n",
       "uUL3srxnvN30Xccve2v2DJntfTblaKnVed/S8AAACpkAAAA9AZ8sdEN/AAADAP3p4R22GzPgaud1\n",
       "NlzgzVaDuFCADhH0qSmOUR9Q04JM2ZMzRJV7Yk4AKeiQ8LOAAABvQQAAADUBny5qQ38AAAMA/hRB\n",
       "IV3z5wluFaqbLnBUH8P6JXq//DA9xgDccu6q7Tc9IhlsYgAAAwBLwQAAAg1BmzNJqEFsmUwII//+\n",
       "tSqAAAADAAADAADujyUe334rAG5ZJkAbGG24OBlCogxz7Fi/1IrvfNVBLng0zkcnIX/1xcn1Lib8\n",
       "IY5GWcCJ2nojv0DcDVM5f+/85SxNQxciV3fJNi8G53zHEEHnQRyzVPS5b0TtIRRj74YKbyDvWws0\n",
       "NtILfkLLerLhEa9Zl7ljnKw4wB1ge2MgEwbftFY86iu5h52oCMECGwh6fdlAZrb7RuYq+uw2xiHz\n",
       "i0uTfw7sVVtlt2rX5UgrI7nKNUx3ffKsj+u02CD6XLglZsVPx5AxKJulNs+kuEqodzwM8lAIT/OT\n",
       "SCpCVRKlvAJ25CQR5u92mDcBrgIaYytILRlRBlnpeE+ejILjI2gRgj+jE6IezpzsMtepF1OadsXr\n",
       "7FIlLh+JI/+uWpHfam4OdOQa94OhysebLnEeffK/9TvQtSYVCef1qiM3v2MMzqcMMjI837U6TI9J\n",
       "BBHqMYo0u+lBmkHwHDZUVpzMnZn3FHRvzJDV1ILe1Ui+kpIk33UpxKlFHDjw28dH9TKdrn1AubOc\n",
       "wd2B1IoSx68VbPVoUeSyzqZL5Cnj+LjgUzjwKJtDo8FLDzpkndyPY43Wzw/Hv+yuuEqDzUQsJ0Rr\n",
       "sTao7AWeGwOVojghtq8OxhLY9uq7FryRtGZ04He+SjjP1hhao6vGVWn+alR9IPX+4uXhzeVAAvIA\n",
       "AABFQZ9RRRUsO/8AAAMAu7hbS2UQt73z9/zLD4NlmSGiEAFS0ca9YE21XjtscqeYSAEOJTN0v9Gu\n",
       "SV09MopzJpdDsjLAABvQAAAAQwGfcHRDfwAAAwD96eEdthsz4GrndTZc4aTScczmM+1wAmVAsaN/\n",
       "+TDFbRjzSY87KK+HYvn1B338GQXFaiR/5gAABi0AAABFAZ9yakN/AAADAP4UQSFd8+cJbhWqmy5w\n",
       "T+SqTgX4PQads0bgA+KWhxpg7NzeogRI7E+Nyq+F9iTT6oQAbFLhZcwAAAVMAAAB7EGbd0moQWyZ\n",
       "TAgj//61KoAAAAMAAAMAAO69rKAL3G58jH4T0rqmElx0WQbzUdOHbuYvAS42ts7/dKYZmXI8gf7e\n",
       "num3RsIaI/giiyUXGQDKIwi+kE4+rBsHnnWhJb7T/M1HZhqF296kT8U0s5ZyUsF0t4EW3aUFBg4a\n",
       "xN08jgeVaJpf3ac7emJglPUZuTVCS3xgzHMqnSUuWxcHWEIGMWyh2WhpXuui8iBK5S7hPDcWiCP7\n",
       "vckRkjqdldfAUOM4+69E29Gvd9XB3MGRLLdUmiVdpNGhwnmM5dB819I/rKHoDvoiAcCmUFnTEtae\n",
       "NoTEinGMPn0EXTgDNCgX/Fk4GWXJYkHeJr4u8fzFIORzxwokzvEF3C+u2THGYht7WYKrr2y/827I\n",
       "IEdidKOMaCac2bVoE8oLgWmBgqBnnDp0yeo4tPzcBmNdpxvdrEw3RozeXIuBb9414ywJCll5/HEl\n",
       "wcpUACOOsKnK0FtixRRQBkxb5Tp6kmHlw/gCx+ySLjHlOYxfwLkmWQveEUeDeOan88mG9Nx0KIBB\n",
       "4e0qXKC2L4fEcFStS6/2tEq6krLlqPKik8mZbHvgk/wDymgZbCG5yotLNXW+QRU4LwjDb0RZDM0S\n",
       "wKqfU5N5B/O0DU1HDaBHFF8wmvIRtA4c+gAXEAAAAEZBn5VFFSw7/wAAAwC7uFtLZRC3vfP3/MsP\n",
       "g2WZIaIQAVLRxr1gPyoRVjGQ7boQhACEEs77IXfq3Mn4UumBZ3iW9rcj4AELAAAAPwGftHRDfwAA\n",
       "AwD96eEdthsz4GrndTZc4aTSUHoI4i43wbOLgBYXLK1ao8wgEW+0mF/Z827XeBi6Tx0UoAAGLAAA\n",
       "AEABn7ZqQ38AAAMA/hRBIV3z5wluFaqbLnBP5KpOAI4hczSE7gBB5EvTy1i2ne4iHWx52AQH6i8r\n",
       "CT2N6zvIABDxAAACEkGbu0moQWyZTAgj//61KoAAAAMAAAMAAAMArhNXoA+PF+kftPxB8FN0qDCf\n",
       "+r3z4wKgBiYlOW2Rf+UmyxIWtD+IVJCnNvEnTMjfH0QZrO8gifYmEmGBrphLR0frxI3ryT7YqBUr\n",
       "oumFK/pN8kIgaXHzfupgZAkg49xjGYL0iDduqtR6ZOzbdb2OUuOkklgyoSdYm7F4gLN6rvUoiHZB\n",
       "BrHVw/TGdAGlhTaeciY93s8Bcx6gJ3+5BWJ/P3rTq8wcvk24jwQJOMkA2FdEHxhrjX5b2Ujwti52\n",
       "xnA8ZDX+svQtplVgAg0807M+WyjEknBycnU/aST8vKn9cMNlGXKC0ooNYhAYbdH+YQZv+lYsX79U\n",
       "lOVsMptvH0hQGL866rMDX3kJLxWqY9KmzAyK5Naq7o3PdTm8qzLdIlDgKzeYS7VJScuyFnpf9PFo\n",
       "JOQaSiCiOWkRImIUN/8v5sZS9TdJDFauFlZghwPyv2r0tvkty9c7rnakmTSh2KQCiMjBsV3bJ6cV\n",
       "oerNhOiDPjwKkXmIR7+nxxJiUVYycQucZbUhbPJuwWih0BabemS3gSYCeKqSBuU94pIULJrTI4rJ\n",
       "mgSRe2IZ7yCGyan2KXVCwXNT4a3WEz7++Vw2USQQkHKQ+50bnwwi08eAKEWHE3EQpxTogZIWjJ9F\n",
       "qQOYvrA85jq7s9fBxbC9ak+nnoUaBdBRlfMUAD7hAAAATEGf2UUVLDv/AAADALu4W0tlELe98/f8\n",
       "yw+DZZkhohABUtHGvWA/KgWjpCEfUSYDa8ACIPcQjpI/Iz4HTh5Yu0+jKYr2JRCOsMAAQ8AAAAA/\n",
       "AZ/4dEN/AAADAP3p4R22GzPgaud1NlzhpNJQegLlkl6etawgAhsveWmS7K+V0EPmm8sJ1xjixcdR\n",
       "Kip8wAI/AAAAQQGf+mpDfwAAAwD+FEEhXfPnCW4VqpsucE/kqk4AjiBwzK8Bb1GswAAfnIzi7TMe\n",
       "unR7PU1atiCmvtlLcgDi4AF3AAABO0Gb/0moQWyZTAgj//61KoAAAAMAAAMAAAMAMVtDBgBYJnkI\n",
       "I2LVIGkWsdr2ZAfk39qazMJ1AWvfsvkpCIP0lTwvOPlQKHJsOpPpcnyTLmImmldDO3WZLHYSnV9g\n",
       "bULfYm28MGq7VvzsoqOPmk6B2AgVAGYWE40W/8BuSBZsR5DEqKvX+EdevTiDKV//C5RELxovVWSk\n",
       "/hXXJ5HZHJ6FThKxHdS1UH1MLDvq5Qd8SimJauXjwQHK1I6cxFcC20LQM6Dx/WFaGJPGYtIrouDg\n",
       "z/KtQXamJcbR2kY5oaGwDi4M1x76phhvr4graMqb5SibEfUCrCJ7C6+AMWWTL21QFV7+qAdaEbBC\n",
       "12oaIbPyemzGnJ7Cc3HVv1gNB74rP9GRFTiBlLdL5hixBO2Sf95i5QrL/PRT0OhzE6BZwQAAAEFB\n",
       "nh1FFSw7/wAAAwC7uFtLZRC3vfP3/MsPg2WZIaIQAVLRxr1gPyoFo6QhH0FVIZsT/J1WwAB2lUP7\n",
       "8Wp71AAQ8QAAADcBnjx0Q38AAAMA/enhHbYbM+Bq53U2XOGk0lB6AuWSXnI4IpzEUAIU91oCzGTt\n",
       "qxD/XX5NsAEvAAAARgGePmpDfwAAAwD+FEEhXfPnCW4VqpsucE/kqk4AjiBwywaUFloQojOSk2Nf\n",
       "9fACqN+z+SB/+C7dvxcnPnu0D5yXtH4AFtAAAAIrQZojSahBbJlMCCP//rUqgAAAAwAAAwAAAwB3\n",
       "9wf3OsNJAAR8jBufQsjtfJHX6sZU/6dtsLI3wjFiCc2eKu9L2AuFu+Gplf/5ABr6FD+i7LgPPmvo\n",
       "wOG3YWHtWjFw/AavaBJxI+nzxuxNduMT8os4/9vV/5wkvX+IwYPgPszSqLxNuza43VWSOJHTfdtQ\n",
       "+F/KyAjh5mMGrU2ae8OcTdOBHojZiMwjaDH9nwwhnuydqzAWjE0Vp+7u7Nh7piELKb4zODgd4Rt2\n",
       "GDchroNs+BcA6gbwE99Ux3wYOkKrTWoTQnTp8MVolQrRKcjXjEajHNKCYKZm789Bnogp9Ub7c+Fb\n",
       "u95zhV+tFkye3p0Ti6Fm29ef+P2xI13cURUYwTlY5xcWrHubVfZ59giRQf3tj+KOSTCkrT4W0dzZ\n",
       "cS8mXvw00j/9UJjPHL7E1CLvjUxuqOKsYzwKlrAF9obr/HVcCxB4m8i+s0MP56aojQ+PTmPWZoT5\n",
       "RTTjYy0VA6FGaQwVtliUegqLmwdqNRxiOyRHh149SqfYTulZp43tzWKJWBGhbAJWMIP2GlXZqTq5\n",
       "v6dGL4AYBJr4xn2CpXVbArkkAp13MFYgk63NTJbLO14FFarRwZxsGyjkepYqVfHH8c8KZpoZSc7O\n",
       "G/udQ3m9DT8P5cPuFLVGXY20L6X0FFsEXiYS50lJOGRNajXhWFErRwvWXa5SYyyJ/OAxEh5x+Jtw\n",
       "zEomje+C4ra0sn4NUBQRAAAAWUGeQUUVLDv/AAADALu4W0tlELe98/f8yw+DZZkhohABUtHGvWA/\n",
       "KgWjpCOEwGdR82Ze/HAr0ftmgAnWu97wbQouoiLZnREX9RsgnRMAfOzgiWu5iK+cACXgAAAARgGe\n",
       "YHRDfwAAAwD96eEdthsz4GrndTZc4aTSUHoC5ZJecTQ+ygIJnUb2ogA4tayKNaNcL45Ts1xQYs7g\n",
       "vtjZKRbBo0UABQ0AAABLAZ5iakN/AAADAP4UQSFd8+cJbhWqmy5wT+SqTgCOIP0i5paJjPwXpNuS\n",
       "hJSz/EJ/eoAWqvlf0k022qxCjJpnwB5YYBGFYJwAACkgAAACUUGaZ0moQWyZTAgh//6qVQAAAwAA\n",
       "AwAAAwAbTaX8J3OYAON8+BqpBXHAK1WWIP/rqC/zZ/Khtwiv+dFFIOotTV5Gq/b6RK8Kkaq/vRfm\n",
       "Qx1UkUp/qf1IqgN3g8IYK/boUxWwH24B1NOmZQkWJkojEteXZ7Y3HF0wGPLNVE6ulbaXuZWFp3KM\n",
       "knUBHLYApXkSJt5d2m3IVKcwwru9F/PcxED4jkctMaCZn1Dnpwxr+9al9g3rgK6lvK+iUID9rtnm\n",
       "as5HHVmCr0oz4BW9Km4KszSajb6MsZkfesNYvBpsYUHB0UX3hq7V4VEpj4qi+V/1z9HQAaiP2Z0X\n",
       "zj9BMHlXf1+qzhi2/ezXb4rslJWL5n4ZMFPqgn6qZXA4PDzgsTTsFbpQCtsovLn1s996KLvU37ue\n",
       "Seu1C7qQmagI4FLlP+rYxSZ1Ue0nMBGjfA3wdG+Z0/Fv1uii67HZzfv4FG20m9awZYKfBEDZf2NU\n",
       "1LKN8fOBM9LViLHh8D6u3FPZGFSV4NN3MbnOkqOcyvgwrpNZdsvmmsNDEV+ka3IQe07ZwvnTNVIh\n",
       "ezS8qRig/P83hW9iROEMksE4+KS7vDFykT5yL5cFsgCIDTBzL/Cd1T3wPcchRhFpsZt3XOWe69mS\n",
       "p8sl/p/36eOZtgqMXMVC8AIiW8jKBQuRu3hPvfdjFtJ66W8rftG/9SkKD0m5SvaUNL6zbawuuHar\n",
       "5YMdUzJo9ZLRww9ofo8dmqKjmIdigf3GOCZ683hZPyMGb2TwjthcXDUrTclKvkM1AwRUmnOqqWh5\n",
       "AAdNAAAAUEGehUUVLDv/AAADALu4W0tlELe98/f8yw+DZZkhohABUtHGvWA/KiGaImKIjMZnOS9w\n",
       "AHOVwstNTNg8fz8wGwIGXYTEGND8yzc2H/aAAAelAAAARwGepHRDfwAAAwD96eEdthsz4GrndTZc\n",
       "4aTSUHoC5arZEr/dEzPrwAsFazXex6ZuSxYoLP1QP8XKvSiBUurdQJnSTx/QADPhAAAASQGepmpD\n",
       "fwAAAwD+FEEhXfPnCW4VqpsucE/kqk4DXTublkIgAnJEzgk3HBoendNq62DD9WtFYomStMP+SuoR\n",
       "zH/Tj03bvasgA9MAAAE9QZqpSahBbJlMFEwQ//6qVQAAAwAAAwAAAwEJ5c/gncsHeclUAQx+M5/r\n",
       "0/Rdy9yQBVGdsP0ftStKxjTCZ4lXq4+BevN/q+jYJfkLGnlwNmFgTT9T2f/yNXAbvYQvjgHQ9sz8\n",
       "Sy+GeO/DhxdutyYQ5zpzTv0HEUXiLmsNQE3T6LaPww3tD6d66z5XccvDFdBidwCnrzzRGj/K3y9f\n",
       "5OuH2sTo+9f0nokv0NtDxj/2CVn9jo0bGi5UfGowKt6RwtxyGX1/EA2gGMkfw5AsnrYaxhqgq7mw\n",
       "GS8+rc94BhxSDaiz98cA/zXwe1D/Mp4Z6PRUsGEsu2laCkJ38+dm/jn5E35HpDnsyZ5g2VoJyDdG\n",
       "1LPjFLhY2o1UETWPgtlxX8ifmEWG/W/EBVDkHBCtY4odvfsDs4dRksHotO5YAUkAAABFAZ7IakN/\n",
       "AAADAQXIvVx1rSc30ANT9quFjj2K4KAHz9sbiN9RqW984Cx3GWlgBGJeHvi3eEgqx96mtCvhIiSD\n",
       "aNGAABbQAAAAfEGayknhClJlMCCH//6qVQAAAwAAAwAAAwEIn2ox3igBPDcki9vlQGzJKlrUlMm8\n",
       "+tcXiKypHYcQQL82XtPAWqfID8bi50lpgEcVGD/goJ8SCfOkP1aaGnPzQMPIneRS9o+WnXb1Jfyz\n",
       "wfXs6SoitPdYqH/FnAx5xKAABZUAAACMQZrrSeEOiZTAgj/+tSqAAAADAAADAAUomZizDGUYZ2wT\n",
       "VATm9c1pXXTjKVIwStHddwolBcotKN7U+Wa4VJIaFuJYvI2B5bfsUNske7F9Z3ko85BlzRwXUimR\n",
       "CYZZR+b7YrZSgpzLBW47KfXYX4FsbEU3lCfaKIfqFU+5IegnVb6IOtHjg74jAAADAZ8AAAFdQZsP\n",
       "SeEPJlMCCH/+qlUAAAMAAAMAA+Z86UAFAweKl+fmFXW7UjeoGT9UveITucjMGvp7fUZGj3GMltAM\n",
       "dFDhROesqFb3Mi/agP0PPDKGP1q86wD7rsqOKndfpAUr1wJqlydVHjA4KIjQSm7SmrGu1xE7R9Vf\n",
       "e9onf9Jf3a9beOxKweW/MNyo/jPKHQLnmgc3A1iNtv0vkWNJSMQt+FzP/QOEQnAD+XYDU74JKRvV\n",
       "QkogS5IVl0RF4bpDy+U05BWXfs7ckcNzCUiZgT58meGhlbOzvsMzNV6DGDzgf0xmSxmC4/c5QEfV\n",
       "ArPYZZYuFrbmfamAbWK4HZhtv56ICLXq6rvtfbMj+30r4QNceEfkYorAggLTDJLtsAkGhKfrUc4L\n",
       "4qoAMoCX1Sp98j6UJ3m7nDh7GCRTIlABqDua3ojVmJAp3LnMndApWZQC4CYrR24PbdNPNjrEVLgW\n",
       "AAAZUAAAAFdBny1FETw7/wAAAwC56mu4CdYHWaqAnq4DluP+1CWtE5FlgAON79xKs0Fv5z8Zcg0p\n",
       "gyh56OouwHt8RrfD3aTs3bWlbR/q9ozGGQzUprbo5GzYjbAABbUAAABBAZ9MdEN/AAADAAADAsR3\n",
       "u5btjwhUfEYcStrCwgCgIDOVsyuZh9h/72WsnApNrnjgpjSpMO2EsDq456XshaIAEvEAAABGAZ9O\n",
       "akN/AAADAAADAsT0HJtrRxm5lEAHFrVwriUahTd/y+twj25hDvXpGwpJ6B7dB8Hqs9fWpU2tWtXv\n",
       "HH3hUZ+1cwADAwAAAM9Bm1NJqEFomUwIf//+qZYAAAMAAAYqjYAgBNK06isvo7+T1pGB6AEb4Z8T\n",
       "yfkW9dh8b43hAv3tkZSRFppGOmh2Q7S2tWxqIIxaKE2va6leCnWtUhoadD3LNEXM51tW4hfaOR7c\n",
       "OUXdEurviZ81rjiWj4CWC8Hl04Z5d4JhO30TswCD4KXRS7d+2URaZHeXICd1x+dCSMFzhdBYXMb4\n",
       "ZcQR/rJIAZqZ/Td0H2KqlrfsHhbABJxQ6KY90zkGkMyJUF8SmDu3fda8qp+QTFAAAXEAAABAQZ9x\n",
       "RREsO/8AAAMAu7hfqwX4wgwSlmu19t4HtMGUqgBJfOeZzmgpMbPyuWkFLiGRz03Y3IcgrKdTTdY0\n",
       "QoAEHAAAAC8Bn5B0Q38AAAMAAAMCxHe/Rw1vrYkH3RBPXRy2ceNAqkoBuepGEea8E5Q8EADRgQAA\n",
       "AD4Bn5JqQ38AAAMAAARWvarswFcz+ZOQAIgyV6kr6fz9tpylXxXmhAVZNtQD7t2llL9Ui5dmN1rn\n",
       "7LRqpgAXcAAAAIJBm5VJqEFsmUwUTDf//qeEAAADAAB78Xe2rqpABtHQb8JfcfaKJphcXpPrCBO7\n",
       "39r3V1blDlovt0QtocMf4NNUxMKey2ikCMttIfcScsDv39BqvBdsywUusvcGB41dHK5rqiQ6mvlT\n",
       "hUmbZcZFbQ+pWOUU3BtuzJwNKQFaXy4AACHgAAAASAGftGpDfwAAAwEFyMdmjtanxJ4Y4AILtwdm\n",
       "9sZCYupX1KnxuxdkTJkLyIU+/anqT/1S4WoXD3Z/Bq5WnA+U+lG5OUt3cAAC0wAABy5tb292AAAA\n",
       "bG12aGQAAAAAAAAAAAAAAAAAAAPoAAAhmAABAAABAAAAAAAAAAAAAAAAAQAAAAAAAAAAAAAAAAAA\n",
       "AAEAAAAAAAAAAAAAAAAAAEAAAAAAAAAAAAAAAAAAAAAAAAAAAAAAAAAAAAAAAAACAAAGWHRyYWsA\n",
       "AABcdGtoZAAAAAMAAAAAAAAAAAAAAAEAAAAAAAAhmAAAAAAAAAAAAAAAAAAAAAAAAQAAAAAAAAAA\n",
       "AAAAAAAAAAEAAAAAAAAAAAAAAAAAAEAAAAAC0AAAAtAAAAAAACRlZHRzAAAAHGVsc3QAAAAAAAAA\n",
       "AQAAIZgAAAgAAAEAAAAABdBtZGlhAAAAIG1kaGQAAAAAAAAAAAAAAAAAACgAAAFYAFXEAAAAAAAt\n",
       "aGRscgAAAAAAAAAAdmlkZQAAAAAAAAAAAAAAAFZpZGVvSGFuZGxlcgAAAAV7bWluZgAAABR2bWhk\n",
       "AAAAAQAAAAAAAAAAAAAAJGRpbmYAAAAcZHJlZgAAAAAAAAABAAAADHVybCAAAAABAAAFO3N0YmwA\n",
       "AACzc3RzZAAAAAAAAAABAAAAo2F2YzEAAAAAAAAAAQAAAAAAAAAAAAAAAAAAAAAC0ALQAEgAAABI\n",
       "AAAAAAAAAAEAAAAAAAAAAAAAAAAAAAAAAAAAAAAAAAAAAAAAAAAAAAAY//8AAAAxYXZjQwFkAB//\n",
       "4QAYZ2QAH6zZQLQW6EAAAAMAQAAABQPGDGWAAQAGaOvjyyLAAAAAHHV1aWRraEDyXyRPxbo5pRvP\n",
       "AyPzAAAAAAAAABhzdHRzAAAAAAAAAAEAAABWAAAEAAAAABRzdHNzAAAAAAAAAAEAAAABAAACuGN0\n",
       "dHMAAAAAAAAAVQAAAAEAAAgAAAAAAQAAFAAAAAABAAAIAAAAAAEAAAAAAAAAAQAABAAAAAABAAAU\n",
       "AAAAAAEAAAgAAAAAAQAAAAAAAAABAAAEAAAAAAEAABQAAAAAAQAACAAAAAABAAAAAAAAAAEAAAQA\n",
       "AAAAAQAAFAAAAAABAAAIAAAAAAEAAAAAAAAAAQAABAAAAAABAAAUAAAAAAEAAAgAAAAAAQAAAAAA\n",
       "AAABAAAEAAAAAAEAAAgAAAAAAQAAFAAAAAABAAAIAAAAAAEAAAAAAAAAAQAABAAAAAABAAAUAAAA\n",
       "AAEAAAgAAAAAAQAAAAAAAAABAAAEAAAAAAEAABQAAAAAAQAACAAAAAABAAAAAAAAAAEAAAQAAAAA\n",
       "AQAADAAAAAABAAAEAAAAAAEAABQAAAAAAQAACAAAAAABAAAAAAAAAAEAAAQAAAAAAQAAFAAAAAAB\n",
       "AAAIAAAAAAEAAAAAAAAAAQAABAAAAAABAAAUAAAAAAEAAAgAAAAAAQAAAAAAAAABAAAEAAAAAAEA\n",
       "ABQAAAAAAQAACAAAAAABAAAAAAAAAAEAAAQAAAAAAQAAFAAAAAABAAAIAAAAAAEAAAAAAAAAAQAA\n",
       "BAAAAAABAAAUAAAAAAEAAAgAAAAAAQAAAAAAAAABAAAEAAAAAAEAABQAAAAAAQAACAAAAAABAAAA\n",
       "AAAAAAEAAAQAAAAAAQAAFAAAAAABAAAIAAAAAAEAAAAAAAAAAQAABAAAAAABAAAUAAAAAAEAAAgA\n",
       "AAAAAQAAAAAAAAABAAAEAAAAAAEAAAwAAAAAAQAABAAAAAACAAAIAAAAAAEAABQAAAAAAQAACAAA\n",
       "AAABAAAAAAAAAAEAAAQAAAAAAQAAFAAAAAABAAAIAAAAAAEAAAAAAAAAAQAABAAAAAABAAAMAAAA\n",
       "AAEAAAQAAAAAHHN0c2MAAAAAAAAAAQAAAAEAAABWAAAAAQAAAWxzdHN6AAAAAAAAAAAAAABWAAAR\n",
       "JwAAAbQAAAA3AAAAIwAAAD0AAAJhAAAAKgAAACkAAAAsAAACRQAAAD0AAAA9AAAAOQAAAjMAAAA/\n",
       "AAAANgAAADUAAAGjAAAATgAAAEkAAAA+AAAAcgAAAgcAAAA0AAAALAAAAC4AAAJvAAAAQgAAADYA\n",
       "AAA4AAACSwAAADwAAABJAAAAOwAAASYAAAA5AAABywAAAE0AAAA4AAAAQAAAAZQAAABaAAAASgAA\n",
       "AD0AAAH+AAAATAAAAEEAAAA5AAACEQAAAEkAAABHAAAASQAAAfAAAABKAAAAQwAAAEQAAAIWAAAA\n",
       "UAAAAEMAAABFAAABPwAAAEUAAAA7AAAASgAAAi8AAABdAAAASgAAAE8AAAJVAAAAVAAAAEsAAABN\n",
       "AAABQQAAAEkAAACAAAAAkAAAAWEAAABbAAAARQAAAEoAAADTAAAARAAAADMAAABCAAAAhgAAAEwA\n",
       "AAAUc3RjbwAAAAAAAAABAAAALAAAAGJ1ZHRhAAAAWm1ldGEAAAAAAAAAIWhkbHIAAAAAAAAAAG1k\n",
       "aXJhcHBsAAAAAAAAAAAAAAAALWlsc3QAAAAlqXRvbwAAAB1kYXRhAAAAAQAAAABMYXZmNTcuNTYu\n",
       "MTAx\n",
       "\">\n",
       "  Your browser does not support the video tag.\n",
       "</video>"
      ],
      "text/plain": [
       "<IPython.core.display.HTML object>"
      ]
     },
     "execution_count": 24,
     "metadata": {},
     "output_type": "execute_result"
    }
   ],
   "source": [
    "HTML(anim.to_html5_video())"
   ]
  },
  {
   "cell_type": "markdown",
   "metadata": {},
   "source": [
    "## Ordre de convergence"
   ]
  },
  {
   "cell_type": "markdown",
   "metadata": {},
   "source": [
    "Nous nous occupons dans cette section de calculer l'ordre de convergence de la méthode utilisée. La méthode étant celle de Runge et Kutta d'ordre 4, nous cherchons à vérifier que l'ordre vaut bien $4$. Nous aurons pour cela besoin de comparer les erreurs associée au calcul numérique pour plusieurs pas de temps différents."
   ]
  },
  {
   "cell_type": "markdown",
   "metadata": {},
   "source": [
    "### Calcul de l'ordre sur base des résultats numériques uniquement"
   ]
  },
  {
   "cell_type": "markdown",
   "metadata": {},
   "source": [
    "Nous avons besoin d'implémenter une fonction qui quantifie l'erreur sur les résultats de la simulation. Idéalement, ce que nous ferons dans la section suivante, l'erreur se calcule par rapport à la trajectoire limite pour $dt \\rightarrow 0$ (i.e. la trajectoire théorique si la méthode converge). Cependant, dans le contexte d'un calcul numérique, la trajectoire théorique n'est généralement pas disponible (d'où l'intérêt de la méthode numérique). Nous comparons dans ce cas les trajectoires à la trajectoire obtenue pour le plus petit $dt$ utilisé, qui approximme alors la trajectoire théorique. Notre fonction de calcul d'erreur prend donc les résultats calculés pour un certain $dt$ ainsi que les données calculées avec le plus petit $dt$ disponible et renvoie la valeur absolue de la différence entre les positions finales calculées dans les deux cas, qui nous sert d'indicateur de l'erreur associée à première trajectoire. Nous avons précédemment comparé les demi-grands axes pour calculer l'ordre de convergence. Cependant, les demi-grands axes ne sont pas calculés à partir des valeur numériques correspondant au même instant pour chaque $dt$. Il ne s'agit donc pas d'une bonne base de comparaison."
   ]
  },
  {
   "cell_type": "code",
   "execution_count": 25,
   "metadata": {
    "collapsed": true
   },
   "outputs": [],
   "source": [
    "def get_diffgrid(data_current, data_fine):\n",
    "    \n",
    "    diffgrid = abs(data_current[-1,0]-data_fine[-1,0])\n",
    "    \n",
    "    return diffgrid  # l'erreur sur la trajectoire de data_current"
   ]
  },
  {
   "cell_type": "markdown",
   "metadata": {},
   "source": [
    "Calculons maintenant la trajectoire de la Lune pour plusieurs pas de temps différents, afin d'avoir plusieurs trajectoires dont nous pourrons comparer les erreurs. Nous prendrons des $dt$ dans une suite géométrique de raison $r$, le plus petit valant $h$."
   ]
  },
  {
   "cell_type": "code",
   "execution_count": 26,
   "metadata": {
    "collapsed": true
   },
   "outputs": [],
   "source": [
    "r = 2\n",
    "h = 100\n",
    "dt_values = numpy.array([h, r*h, r**2*h, r**3*h])\n",
    "\n",
    "# créons un vecteur stockant les matrices dataLT pour chaque dt\n",
    "dataLT_values = numpy.empty_like(dt_values, dtype=numpy.ndarray)  \n",
    "\n",
    "for i, dt in enumerate(dt_values):\n",
    "    \n",
    "    # initialisation\n",
    "    N2 = int(T/dt)+1\n",
    "    dataLT = numpy.empty((N2, 4))\n",
    "    dataLT[0] = uLT0\n",
    "    \n",
    "    #calcul de la trajectoire\n",
    "    for t in range(1,N2):\n",
    "        dataLT[t] = rk4(f, dataLT[t-1], dt)\n",
    "    \n",
    "    dataLT_values[i] = dataLT"
   ]
  },
  {
   "cell_type": "markdown",
   "metadata": {},
   "source": [
    "Calculons les erreurs par rapport à nos données les plus fines grâce à notre fonction get_diffgrid "
   ]
  },
  {
   "cell_type": "code",
   "execution_count": 27,
   "metadata": {
    "collapsed": true
   },
   "outputs": [],
   "source": [
    "diffgridLT = numpy.empty_like(dt_values, dtype=numpy.ndarray)\n",
    "\n",
    "for i in range(len(dt_values)):\n",
    "    \n",
    "    diffgridLT[i] = get_diffgrid(dataLT_values[i], dataLT_values[0])"
   ]
  },
  {
   "cell_type": "code",
   "execution_count": 28,
   "metadata": {},
   "outputs": [
    {
     "name": "stdout",
     "output_type": "stream",
     "text": [
      "[0.0 1.0192394256591797e-05 4.7504901885986328e-05 0.00083422660827636719]\n"
     ]
    }
   ],
   "source": [
    "print(diffgridLT)"
   ]
  },
  {
   "cell_type": "code",
   "execution_count": 29,
   "metadata": {
    "scrolled": true
   },
   "outputs": [
    {
     "data": {
      "image/png": "[encoded data removed]",
      "text/plain": [
       "<matplotlib.figure.Figure at 0x1859fc082e8>"
      ]
     },
     "metadata": {},
     "output_type": "display_data"
    }
   ],
   "source": [
    "pyplot.figure(figsize=(6,6))\n",
    "pyplot.grid(True)\n",
    "pyplot.title(r'norme $L_1$ des différences des demi-grand axes')\n",
    "pyplot.xlabel(r'$dt$')\n",
    "pyplot.ylabel(r'erreurs')\n",
    "pyplot.xlim(1e-4,1)\n",
    "pyplot.ylim(1e-4,1)\n",
    "pyplot.axis('equal')\n",
    "pyplot.loglog(dt_values[1:], diffgridLT[1:], color='k', ls='--', lw=2, marker='o');"
   ]
  },
  {
   "cell_type": "markdown",
   "metadata": {},
   "source": [
    "Calculons enfin l'ordre de convergence à partir de ces erreurs. Soient $\\alpha$ l'ordre de convergence de la méthode et $dt_1$ et $dt_2 = r\\ dt_1$ deux pas de temps utilisés pour calculer la trajectoire. Si $e_1$ est l'erreur sur la trajectoire pour le pas $dt_1$ alors l'erreur pour le pas $dt_2$ est donnée par\n",
    "\n",
    "$$ e_2 = e_1\\ r^{\\alpha} $$\n",
    "\n",
    "Par conséquent, l'ordre $\\alpha$ est donné par \n",
    "\n",
    "$$ \\frac{\\ln e_2-\\ln e_1}{\\ln r} = \\frac{\\alpha \\ln r + \\ln e_1-\\ln e_1}{\\ln r} = \\alpha $$"
   ]
  },
  {
   "cell_type": "code",
   "execution_count": 30,
   "metadata": {},
   "outputs": [
    {
     "name": "stdout",
     "output_type": "stream",
     "text": [
      "[1.872166332046721 4.39812216298153]\n"
     ]
    }
   ],
   "source": [
    "alpha = numpy.empty_like(dt_values[:-2], dtype=numpy.ndarray)\n",
    "\n",
    "for i in range(1, len(dt_values)-1):\n",
    "    \n",
    "    alpha[i-1] = (log(get_diffgrid(dataLT_values[i+1], dataLT_values[i]))\\\n",
    "                  -log(get_diffgrid(dataLT_values[i], dataLT_values[i-1]))) / log(r)\n",
    "\n",
    "print(alpha)"
   ]
  },
  {
   "cell_type": "markdown",
   "metadata": {},
   "source": [
    "Remarque: Notre choix $h=100$ pour le pas de temps le plus fin n'est pas anodin. Nous devons prendre des valeurs de $dt$ assez grandes pour que le calcul de l'ordre donne une valeur fixe. Autrement, nous obtenons des valeurs qui semblent être aléatoires. Cela serait dû à des erreurs d'arrondi induites par la méthode numérique qui seraient non-négligeables devant les erreurs sur la trajectoire dues au choix de $dt$. Nous n'obtenons pas ce problème pour les méthodes d'Euler et de Runge-Kutta 2, probablement car ces méthodes convergent trop lentement pour que ce phénomène puisse être observé, il faudrait en effet des $dt$ plus petits pour que les erreurs d'arrondi soient de l'ordre des écarts entre les trajectoires des différents $dt$."
   ]
  },
  {
   "cell_type": "markdown",
   "metadata": {},
   "source": [
    "## Système Terre - Lune - astéroïde"
   ]
  },
  {
   "cell_type": "markdown",
   "metadata": {},
   "source": [
    "Nous ajoutons maintenant un astéroïde au centre de l'ellipse et analysons sa trajectoire."
   ]
  },
  {
   "cell_type": "markdown",
   "metadata": {},
   "source": [
    "### Calcul des trajectoires"
   ]
  },
  {
   "cell_type": "markdown",
   "metadata": {},
   "source": [
    "La nouvelle fonction \"d'évolution\" du système doit maintenant faire évoluer le vecteur $u_{AT} = (x_{AT},y_{AT},v_{x\\,AT},v_{y\\,AT})$ des coordonnées de l'astéroïde dans le repère de la Terre. Nous négligeons l'influence de l'astéroïde sur l'évolution du vecteur $u_{LT}$ de la Lune qui restera donc inchangée. "
   ]
  },
  {
   "cell_type": "markdown",
   "metadata": {},
   "source": [
    "Avec les notations introduites précédemment, nous pouvons écrire l'accélération de l'astéroïde dans le repère de la Terre comme \n",
    "\n",
    "$$ {\\bf \\ddot{r}_{AT}} = {\\bf \\ddot{r}_{A}} - {\\bf \\ddot{r}_{T}} = - G m_T\\dfrac{{\\bf r_{AT}}}{r_{AT}^3} - G m_L\\dfrac{{\\bf r_{AT} - r_{LT}}}{(r_{AT}-r_{LT})^3} - G m_A\\dfrac{{\\bf r_{AT}}}{r_{AT}^3} - G m_L\\dfrac{{\\bf r_{LT}}}{r_{LT}^3} $$ \n",
    "\n",
    "$$ {\\bf \\ddot{r}_{AT}} = - G (m_T+m_A)\\dfrac{{\\bf r_{AT}}}{r_{AT}^3} - G m_L\\dfrac{{\\bf r_{AT} - r_{LT}}}{(r_{AT}-r_{LT})^3} - G m_L\\dfrac{{\\bf r_{LT}}}{r_{LT}^3} $$ \n",
    "\n",
    "Nous négligeons dans nos calculs la masse $m_A$ de l'astéroïde pour obtenir\n",
    "\n",
    "$$ {\\bf \\ddot{r}_{AT}} \\approx - G m_T\\dfrac{{\\bf r_{AT}}}{r_{AT}^3} - G m_L\\dfrac{{\\bf r_{AT} - r_{LT}}}{(r_{AT}-r_{LT})^3} - G m_L\\dfrac{{\\bf r_{LT}}}{r_{LT}^3} $$ "
   ]
  },
  {
   "cell_type": "code",
   "execution_count": 31,
   "metadata": {
    "collapsed": true
   },
   "outputs": [],
   "source": [
    "def f_ast(uLT,uAT): \n",
    "    out = numpy.empty((2,4))  \n",
    "    out[0] = numpy.array([uLT[2],\\\n",
    "                          uLT[3],\\\n",
    "                          -G*(mT+mL)*uLT[0]/(uLT[0]**2+uLT[1]**2)**(3/2),\\\n",
    "                          -G*(mT+mL)*uLT[1]/(uLT[0]**2+uLT[1]**2)**(3/2)])\n",
    "    out[1] = numpy.array([uAT[2],\\\n",
    "                          uAT[3],\\\n",
    "                          -G*mT*uAT[0]/(uAT[0]**2+uAT[1]**2)**(3/2) +\\\n",
    "                          -G*mL*uLT[0]/(uLT[0]**2+uLT[1]**2)**(3/2) +\\\n",
    "                          -G*mL*(uAT[0]-uLT[0])/((uAT[0]-uLT[0])**2+(uAT[1]-uLT[1])**2)**(3/2),\\\n",
    "                          -G*mT*uAT[1]/(uAT[0]**2+uAT[1]**2)**(3/2) + \\\n",
    "                          -G*mL*uLT[1]/(uLT[0]**2+uLT[1]**2)**(3/2) +\\\n",
    "                          -G*mL*(uAT[1]-uLT[1])/((uAT[0]-uLT[0])**2+(uAT[1]-uLT[1])**2)**(3/2)])\n",
    "    return out"
   ]
  },
  {
   "cell_type": "markdown",
   "metadata": {},
   "source": [
    "Nous avons précédemment trouvé l'instant où la Lune est à l'apogée de sa trajectoire autour de la Terre. Nous pouvons donc entrer nos conditions initiales. Notons qu'il y a ambiguïté sur les conditions initiales données dans l'énoncé. Nous prenons la vitesse initiale de l'astéroïde comme étant $(v_x,v_y)=(500{\\rm m/s},500 {\\rm m/s})$ car nous avons fait démarrer la Lune dans les $x$ positifs (notre problème est équivalement à celui de l'énoncé à une symétrie d'axe $y$ près). Suivant que nous choisissons de faire démarrer la Lune dans les $x$ négatifs ou positifs, avec une vitesse négative ou positive selon $y$, ou encore de faire démarrer la Lune avec un angle quelconque par rapport à l'axe $x$, nous obtenons des résultats différents pour la trajectoire de l'astéroïde. "
   ]
  },
  {
   "cell_type": "code",
   "execution_count": 32,
   "metadata": {},
   "outputs": [
    {
     "name": "stdout",
     "output_type": "stream",
     "text": [
      "[-21063116.433034092, 1.4573335647583008e-05, 500, 500]\n"
     ]
    }
   ],
   "source": [
    "T = 3600*24*14\n",
    "dt = 1\n",
    "N = 1+int(T/dt)\n",
    "\n",
    "mT = 5.972*10**24\n",
    "mL = 7.348*10**22\n",
    "G = 6.67408*10**-11\n",
    "\n",
    "dataLT = numpy.empty((N,4)) \n",
    "dataAT = numpy.empty((N,4)) \n",
    "\n",
    "uAT0 = [Xcenter, Ycenter,500,500]\n",
    "\n",
    "dataLT[0] = uLT_apogee\n",
    "dataAT[0] = uAT0\n",
    "\n",
    "print(uAT0)"
   ]
  },
  {
   "cell_type": "markdown",
   "metadata": {},
   "source": [
    "Réécrivons la méthode de Runge-Kutta"
   ]
  },
  {
   "cell_type": "code",
   "execution_count": 33,
   "metadata": {
    "collapsed": true
   },
   "outputs": [],
   "source": [
    "def rk4_ast(f_ast,uLT,uAT,dt): \n",
    "    k1 = f_ast(uLT,uAT)\n",
    "    k2 = f_ast(uLT+dt/2*k1[0,:],uAT+dt/2*k1[1,:])\n",
    "    k3 = f_ast(uLT+dt/2*k2[0,:],uAT+dt/2*k2[1,:])\n",
    "    k4 = f_ast(uLT+dt*k3[0,:],uAT+dt*k3[1,:])\n",
    "    \n",
    "    out = numpy.empty((2,4))\n",
    "    out[0] = uLT+dt/6*(k1[0,:]+2*k2[0,:]+2*k3[0,:]+k4[0,:])\n",
    "    out[1] = uAT+dt/6*(k1[1,:]+2*k2[1,:]+2*k3[1,:]+k4[1,:])\n",
    "    \n",
    "    return out"
   ]
  },
  {
   "cell_type": "markdown",
   "metadata": {},
   "source": [
    "Calculons la trajectoire"
   ]
  },
  {
   "cell_type": "code",
   "execution_count": 34,
   "metadata": {
    "collapsed": true
   },
   "outputs": [],
   "source": [
    "for t in range(1,N):\n",
    "    \n",
    "    temp = rk4_ast(f_ast,dataLT[t-1],dataAT[t-1],dt)\n",
    "    dataLT[t] = temp[0]\n",
    "    dataAT[t] = temp[1]"
   ]
  },
  {
   "cell_type": "markdown",
   "metadata": {},
   "source": [
    "Affichons la trajectoire"
   ]
  },
  {
   "cell_type": "code",
   "execution_count": 35,
   "metadata": {},
   "outputs": [
    {
     "data": {
      "image/png": "[encoded data removed]",
      "text/plain": [
       "<matplotlib.figure.Figure at 0x1859fcaf748>"
      ]
     },
     "metadata": {},
     "output_type": "display_data"
    }
   ],
   "source": [
    "pyplot.figure(figsize=(10,10))\n",
    "pyplot.grid(True)\n",
    "pyplot.xlabel('$x$')\n",
    "pyplot.ylabel('$y$')\n",
    "pyplot.plot(dataLT[:,0],dataLT[:,1], 'b-', label='Lune')\n",
    "pyplot.plot(dataAT[:,0],dataAT[:,1], 'r-', label='Astéroïde')\n",
    "pyplot.title('Positions de la Lune et de l\\'astéroïde dans le repère de la Terre')\n",
    "pyplot.legend();\n",
    "pyplot.show();"
   ]
  },
  {
   "cell_type": "markdown",
   "metadata": {},
   "source": [
    "Nous remarquons que l'astéroïde passe très près de la Terre. Après quelques révolutions, l'astéroïde se fait éjecter du champ gravitationnel de la Terre. Cela est dû à sa faible vitesse initiale qui l'empêche de garder une bonne distance avec la Terre. En réalité, si nous prenons en compte le rayon de la Terre, nous verrions qu'il y a collision avec l'astéroïde. C'est ce que nous allons montrer dans la section suivante. Le passage près de la Terre est assez délicat pour le calcul numérique, nous en discutons dans une section dédiée à la fin de ce travail."
   ]
  },
  {
   "cell_type": "markdown",
   "metadata": {},
   "source": [
    "Nous pouvons afficher la position de l'astéroïde après 14 jours."
   ]
  },
  {
   "cell_type": "code",
   "execution_count": 36,
   "metadata": {},
   "outputs": [
    {
     "name": "stdout",
     "output_type": "stream",
     "text": [
      "Position après 14 jours sur l'axe x:  101160099380.0 m\n",
      "Position après 14 jours sur l'axe y:  -305735244799.0 m\n"
     ]
    }
   ],
   "source": [
    "print('Position après 14 jours sur l\\'axe x: ', dataAT[-1,0], 'm')\n",
    "print('Position après 14 jours sur l\\'axe y: ', dataAT[-1,1], 'm')"
   ]
  },
  {
   "cell_type": "markdown",
   "metadata": {},
   "source": [
    "Nous pouvons afficher la position de l'astéroïde après 1 heure."
   ]
  },
  {
   "cell_type": "code",
   "execution_count": 37,
   "metadata": {},
   "outputs": [
    {
     "name": "stdout",
     "output_type": "stream",
     "text": [
      "Position après 1 heure sur l'axe x:  -12235108.6937 m\n",
      "Position après 1 heure sur l'axe y:  1538177.97908 m\n"
     ]
    }
   ],
   "source": [
    "print('Position après 1 heure sur l\\'axe x: ', dataAT[3600,0], 'm')\n",
    "print('Position après 1 heure sur l\\'axe y: ', dataAT[3600,1], 'm')"
   ]
  },
  {
   "cell_type": "markdown",
   "metadata": {},
   "source": [
    "### Description de l'impact entre l'astéroïde et la Terre"
   ]
  },
  {
   "cell_type": "markdown",
   "metadata": {},
   "source": [
    "Nous commençons par encoder le rayon de la Terre"
   ]
  },
  {
   "cell_type": "code",
   "execution_count": 38,
   "metadata": {
    "collapsed": true
   },
   "outputs": [],
   "source": [
    "radiusT = 6370000"
   ]
  },
  {
   "cell_type": "markdown",
   "metadata": {},
   "source": [
    "Nous cherchons ensuite l'instant de collision"
   ]
  },
  {
   "cell_type": "code",
   "execution_count": 39,
   "metadata": {},
   "outputs": [
    {
     "name": "stdout",
     "output_type": "stream",
     "text": [
      "Temps écoulé avant l'impact = 4483 secondes\n"
     ]
    }
   ],
   "source": [
    "indexImpact = 0\n",
    "\n",
    "for t in range(1,N):\n",
    "    \n",
    "    if (dataAT[t,0]**2+dataAT[t,1]**2)<=radiusT**2:\n",
    "        \n",
    "        indexImpact = t\n",
    "        break\n",
    "        \n",
    "print('Temps écoulé avant l\\'impact =', indexImpact*dt, 'secondes')"
   ]
  },
  {
   "cell_type": "markdown",
   "metadata": {},
   "source": [
    "Nous trouvons le point d'impact"
   ]
  },
  {
   "cell_type": "code",
   "execution_count": 40,
   "metadata": {},
   "outputs": [
    {
     "name": "stdout",
     "output_type": "stream",
     "text": [
      "Point d'impact: x = -6186416.87076 m, y = 1489813.89135 m\n"
     ]
    }
   ],
   "source": [
    "print('Point d\\'impact: x =', dataAT[indexImpact,0], 'm, y =', dataAT[indexImpact,1], 'm')"
   ]
  },
  {
   "cell_type": "markdown",
   "metadata": {},
   "source": [
    "Nous trouvons la norme de la vitesse d'impact"
   ]
  },
  {
   "cell_type": "code",
   "execution_count": 41,
   "metadata": {},
   "outputs": [
    {
     "name": "stdout",
     "output_type": "stream",
     "text": [
      "Vitesse d'impact: v = 9376.987095828228 m/s\n"
     ]
    }
   ],
   "source": [
    "print('Vitesse d\\'impact: v =', sqrt(dataAT[indexImpact,2]**2+dataAT[indexImpact,3]**2), 'm/s')"
   ]
  },
  {
   "cell_type": "markdown",
   "metadata": {},
   "source": [
    "### Animation des trajectoires pour le système Terre-Lune-Astéroïde"
   ]
  },
  {
   "cell_type": "markdown",
   "metadata": {},
   "source": [
    "Nous animerons ici que la trajectoire de l'astéroïde, la trajectoire de la Lune restant la même par hypothèse. Nous animerons la trajectoire que sur une seule révolution."
   ]
  },
  {
   "cell_type": "code",
   "execution_count": 42,
   "metadata": {},
   "outputs": [
    {
     "data": {
      "image/png": "[encoded data removed]",
      "text/plain": [
       "<matplotlib.figure.Figure at 0x1859fcf26a0>"
      ]
     },
     "metadata": {},
     "output_type": "display_data"
    }
   ],
   "source": [
    "fig = pyplot.figure(figsize=(10,10))\n",
    "ax = pyplot.axes(xlim=(-50000000,50000000), ylim=(-50000000,50000000))\n",
    "lineA = ax.plot([], [], color='r', ls='-', lw=2, label='Astéroïde')[0]\n",
    "pointT=[[0,0]]\n",
    "point = ax.plot(*zip(*pointT), marker='o', color='black', markersize=3, label='Terre')  # évidemment pas à l'échelle!\n",
    "pyplot.title('Animation de la trajectoire de l\\'astéroïde')\n",
    "pyplot.xlabel('$x$')\n",
    "pyplot.ylabel('$y$')\n",
    "pyplot.legend();"
   ]
  },
  {
   "cell_type": "code",
   "execution_count": 43,
   "metadata": {
    "collapsed": true
   },
   "outputs": [],
   "source": [
    "# ne met à jour \"lineA\" qu'une fois sur M\n",
    "M = 10\n",
    "T = 3600*4\n",
    "N = int(T/dt)\n",
    "\n",
    "dataATM = dataAT[0:N:M,:]"
   ]
  },
  {
   "cell_type": "code",
   "execution_count": 44,
   "metadata": {
    "collapsed": true
   },
   "outputs": [],
   "source": [
    "def trajectory_ast(i):\n",
    "    \n",
    "    lineA.set_data(dataATM[:i,0],dataATM[:i,1])"
   ]
  },
  {
   "cell_type": "code",
   "execution_count": 45,
   "metadata": {
    "collapsed": true
   },
   "outputs": [],
   "source": [
    "anim_ast = animation.FuncAnimation(fig, trajectory_ast,\n",
    "                               frames=len(dataATM)-1, interval=M)"
   ]
  },
  {
   "cell_type": "code",
   "execution_count": 61,
   "metadata": {},
   "outputs": [
    {
     "data": {
      "text/html": [
       "<video width=\"720\" height=\"720\" controls autoplay loop>\n",
       "  <source type=\"video/mp4\" src=\"data:video/mp4;base64,AAAAHGZ0eXBNNFYgAAACAGlzb21pc28yYXZjMQAAAAhmcmVlAAEaKG1kYXQAAAKuBgX//6rcRem9\n",
       "5tlIt5Ys2CDZI+7veDI2NCAtIGNvcmUgMTQ4IHIyNzYyIDkwYTYxZWMgLSBILjI2NC9NUEVHLTQg\n",
       "QVZDIGNvZGVjIC0gQ29weWxlZnQgMjAwMy0yMDE3IC0gaHR0cDovL3d3dy52aWRlb2xhbi5vcmcv\n",
       "eDI2NC5odG1sIC0gb3B0aW9uczogY2FiYWM9MSByZWY9MyBkZWJsb2NrPTE6MDowIGFuYWx5c2U9\n",
       "MHgzOjB4MTEzIG1lPWhleCBzdWJtZT03IHBzeT0xIHBzeV9yZD0xLjAwOjAuMDAgbWl4ZWRfcmVm\n",
       "PTEgbWVfcmFuZ2U9MTYgY2hyb21hX21lPTEgdHJlbGxpcz0xIDh4OGRjdD0xIGNxbT0wIGRlYWR6\n",
       "b25lPTIxLDExIGZhc3RfcHNraXA9MSBjaHJvbWFfcXBfb2Zmc2V0PS0yIHRocmVhZHM9NiBsb29r\n",
       "YWhlYWRfdGhyZWFkcz0xIHNsaWNlZF90aHJlYWRzPTAgbnI9MCBkZWNpbWF0ZT0xIGludGVybGFj\n",
       "ZWQ9MCBibHVyYXlfY29tcGF0PTAgY29uc3RyYWluZWRfaW50cmE9MCBiZnJhbWVzPTMgYl9weXJh\n",
       "bWlkPTIgYl9hZGFwdD0xIGJfYmlhcz0wIGRpcmVjdD0xIHdlaWdodGI9MSBvcGVuX2dvcD0wIHdl\n",
       "aWdodHA9MiBrZXlpbnQ9MjUwIGtleWludF9taW49MjUgc2NlbmVjdXQ9NDAgaW50cmFfcmVmcmVz\n",
       "aD0wIHJjX2xvb2thaGVhZD00MCByYz1jcmYgbWJ0cmVlPTEgY3JmPTIzLjAgcWNvbXA9MC42MCBx\n",
       "cG1pbj0wIHFwbWF4PTY5IHFwc3RlcD00IGlwX3JhdGlvPTEuNDAgYXE9MToxLjAwAIAAAAx1ZYiE\n",
       "ACf//vWxfApqyfOKDOgyLuGXJMmutiLibQDAAAADAAADAAADAcuyV5KKYWKR1AAAAwAswApYHhyO\n",
       "D2Mz/iAg46V8rAiTZQhRUiMl92fXgW3/gIiKkxe4j9ucUYLAhCyhKxCfjDbMQsJD60YxyMbJF5nZ\n",
       "wz5bPGumsn2G3uuBY2LtdHkEgoWsnmwMtZvlsCoHfHwCmc8aQHt4DiReAtbxTjwY0mM97wQ1mEDs\n",
       "wsUseServsVv/MDrN/NutmnTyfKT6rfNhGVwf9YpslxWdJrKVkyTM5f9H3muf+T1NYsOE0/hDAk5\n",
       "6tHiOKRFIp+lUgHKPUvhe4CkYSlG+x90/yab2bmmLX/XgUHOFkXr3ptetNnGe/aQ6WLo0eDY7p28\n",
       "0RVKlErTlptXEJh+D+zqwpuD/dpVhBcR8M20tdbJtNrmsjPdAf/eXRxAaxgQsAdOuGizIIOoXv5G\n",
       "StdP/9Qjo6VKweqAQpvKVJ4b1V0/OzjoDhAR8khLgBifn0OcOhSBjjE/erRPSe2EB7NSy68WPZgJ\n",
       "s2Qjy/UafLTzjx8tzKzDQ9dXo5d7zEbvfIw6bLQWJ1kt0ZzQcK3UqhqgpR0hfccwQGRCTZCGtk8M\n",
       "lKYHh8/DrOfXFyCQqHByOa/9IBA9S4Clxkr5tHUMWLp6OfQ/9GrsojcuVmXPLlzvl3EQ10dtwNh4\n",
       "76fxTZRTYLZ7o1SvakdGqFfFz8/tCGZ9nN74RPBHOgtQ2TknIKVpR0960Sot6KAaTqNs31WJNejk\n",
       "nK+dzz7ndnnBRvV8cLDcRgd2OgnZxlpci8wRj5xQuOFpJYj9TCdRWlc9K0oyqjMh4xRsqRg+j+Gp\n",
       "kwiAvkFIQVVUfRU4BfLCyETGz+kypJ4Fu+M/AwO1Vz5PaMFLApSMekvTEj8mAHOpR/udfSEIkbTG\n",
       "RbS/elv11dSXDSKIhrCUO7AiCJBJrSDLyfkbCLXCFAQVTciuXJ7v/nOk7IivbpC3hh/vXjKQOzkE\n",
       "M/ngba+l2pI9yJhwe9toTMov5G+WIttzXx8/lAwlUb7/EkiGEimqtZGZ9RB/+sa6Z9D8umHeqvU2\n",
       "+NGy64mbDmM9Jq65ZM5DM8z/d1hnrKMzI/36uZxO9NaIVjOxr3MHhlwpWIzB+1oQoxjrkAsrh7BT\n",
       "SuRxBhKypJj1p6Sd5lLcHjVgL1i2EWPlkpykYJtaxRurav8z8U7TKXM9ygruI/f4SeaOXHol/+7k\n",
       "60r/kGS8utnPoLpyqK1M6DaBWMzdGo9iqIRAhbQSG3qwINCzpZtnynHziLqrYhnQwtRhwkAhav+K\n",
       "YUKp/DfEhq2vF8UW76XmoyKtvMojHCVZNLJL/UA/NCo6ZikjPJ9yBJ9aHECckJ7Ycfr/Z2z6+MUD\n",
       "HCtmwq1aUZEq0vHbeLRlalC0IHlDREBXN5Rm16gZKoUdxCge+hrL4+fwWVC4BRN9jrXbN2U9km4y\n",
       "7NSUknzXLx4xroD0kKweMS5znuhpSvHB982hGcP+rDK714/i/QxUI+UPy52B6KeM6J5GFwUTaMjV\n",
       "+sckq3fE/fSRsZEVRvV8zX6ODCxeIS3bWHhb2ybC5wV8Fqp6tApOs6Gak4HDUhiefJV8Q0dnIyOB\n",
       "3PFT79HCrZXyd64UdwT1nG8PSvXisRT0sO05r4noZi1ffnic9ONlaRFzrA2drY6kp06wVUAMrbs+\n",
       "S+ZMta3CVXiIAAfYe1gd1JxjB31bZt4QKvSs5LmP9Qlz+5APAjjYPg9uP82wS05BNeMGSORKMCGj\n",
       "ZddqXvDKA+6zBxzr/1GRL/xTUpOEqeU5lRQsuEzth9UG1TFtUBxiXZVDKWp6SigAkxsJ/+w41SJJ\n",
       "OFph5k6hKgB6QXWzoZ0yjIE+IeIQ4QWs3MlW1wpWt7zko2fbklFjos+TeshnbIeBLYYHG4dxgqz9\n",
       "cz8wz7mFCphRQIrAi0TVw9Ve6C3AgOXkgefWplF6NF5p6ABa2fpzUFloBgnTyDxZbIZxdCQjcs46\n",
       "7OlmRLBJ/1KVzBpTUUXOIaumJOvmxh4BNFCEGn1kLczXacEovXVGmW6hIfKS+9uzBV5fMzMOqeGg\n",
       "yT9fpw7h68RZfBxXU+2lZnRfYDkQfdmdT+G7KhzHFM9JF9nAZdi/LvhjxczLAnKwuocMsX4svjA6\n",
       "cb2in9p7TNgWxaoT2vb2z8onRtqDfBwHRwP2Gw7z7yHG//7B3L/t5aaiWhPOVbsKGV58fLH9aYPq\n",
       "FB4moKPzNaAD744cYskB5wmSVyIvOz5GyompSi8IVDlJINGEC23vbyN9y0ld1SiO84zrYVtxvjvp\n",
       "iTA+aBwgT2M/4DY5f3dt9SkxIyhZ48KPPN1oCLk2mELs7R+Y/Y07JPMYY63F5QH/C/rySkSd1qAO\n",
       "1kANaOCwCreq65XuPKmFlV5ffsLzNS+LQkAL/HV2MEY6DsE+ic0H1jE3tbLEYGSbVh/j2ja8eO2b\n",
       "liiWGHFKoH3P/kCH9sF+ZpgsAF1U9RcziCnI2afYZTFJvrITOsnRM2IILTahCs1VQa8KT94b1mD9\n",
       "CoX/6f8dM55VzjuXO5IJrRZFx36DtuR4qiERRZSu4YeZbqlIpvHiY2ompc0SZubGNNEPYjyo4dFj\n",
       "rAliQkp92Ajo6Y7e3DXLw8XHhOdneDyljWNagzl6DkZ1ZbvlBEArhUjo1NZpIqxnjoGagXPb9BnN\n",
       "f7cd34h4ypy8FoKFY44inqd/9GAQo4ZQ56FbMt3qlTvjzEMhFRMAAAMAA3HdW2GeiRXDgBg8nMK8\n",
       "LWt5YR2M37RD1ADbxoAOXVAUq8ArWoDBtgNXSLgN1xwjYyLrWLPIrBxBZGfn3I4Kwq1dJ6pS/W1r\n",
       "qaGLNuuDxAOzQDNfpyI9TG5AXb6xI4HD8aHrw+nxGtWsEve8NTpSLdCAkkg9AAbOQADOwgWZYDJM\n",
       "AgGwEqEBGymoOPGYT9en2VZIObAUWt8QSqdryM7S0UnNOcnoYy/zaDtZhl16TpVpx+pXuL3Al7x3\n",
       "RDmb3H+WGYP/B/A2Fj6vf9pGSw48RbT2J2VuX25d+0EiNfb5JBZlSi05/lP7trIeg1VUsjKpc0wm\n",
       "Vo0kOyRMQJtxCZzoC8L4vOQTfK4djVRrD9Hiy+R9nixXBV0KOYrvOElqNtAadY35UIvbAm1AAApz\n",
       "wE1NAnWAINWBWENXEyRdxNPytXeK1eANgYVpO9e5AvWcuZ8JxbfRXvKO3PHOkKRU1QPkxjw9Esqz\n",
       "kMiSguIE+ED/LrvJVAamx3ScinSs9rLDzk4weQ21Z2Y8+csXK/tVVnC/vS/4bOTwELfPEsMzjxc8\n",
       "IgAJlsBHwwJMSBPVgLjoB5V+Mazvp14uibTpjKANa5AERQqVtRpDn38m59zbT26zS6QKIPbFyzHz\n",
       "nRLLf6cTbp4YcZEJmGJojFpR7Srzl5LmDsjEFV+FUlbfr8wDF+ABF6wM4ibF+wKBCCBJZ9kv51R7\n",
       "C2LWyZsiWEF0W/GDZaZvc/570Nsv2vwBFlxqpD/QUJo56y68QCWRO8KPtm2xrG2wF6jk+QW9q3Fg\n",
       "vTBBfSv9oWPoYFgKpRVTLB5w4wtHMNDWJV568PvSY+v4lDsqY7RJCKAVd7DvXNPxGd9jQYnP+R8i\n",
       "/0RzuyM3nkcXxavBqH9IMf+JR7I25p+cgycPebcjex/XX4SdIVD8LHhWxJFy0eorfGvmItK2EN8y\n",
       "uCWfejsWEMTPAcPFsXDzGk1UL99I+H1RW4KJ37K25Nz1yJKtyq0f7akNYpQMY1ZaIcZKwABosKQ0\n",
       "+f+ERAMshUNJDlhTVFDRAexV6lYM1wVWYvN2jTGp4D6UqSS86nWNj9ICb7wnEhp1XyvrmYtCX7eI\n",
       "pe/d8uVAslT0YJz5SoVPe70NqlhIwYbQReCVBCh6kJb4TExUylpbraZi4CtUkJ/v7cEgHeeP3eao\n",
       "1M9Fdv+0fQEdvC9H7kkkDtd46ESTdHf2KSdPXtvag4MHQ4hmygyZUviI3vdLsxTjz915GZU9nXIO\n",
       "typbSihrP/S1DatnbM7ejUFXKeqY61zJIXr0lGXr42Cq22k8yRF2fx2eTp/JSuB9tcdWRMbliMQ+\n",
       "h0Cac8wbQtVOaH2k8h7BCWjv+XGbzoMyTPkJwisgs4a4ipX3yzx1S/Q6V/UvGWullsSt3+P9UsiN\n",
       "8cB//u85rCkayg5dhjWQru80qehb/8YADBACn/HFSuMQ7uX7cjuduz7bARF7DIxhNov2VRlUUBWT\n",
       "qjjhnXWVwp22QYLQE9GVrS4kMsZ/it27BQnR2kpAlYTvWR1OpU3D1mAnQ6AAAAMAABWRAAAAg0Ga\n",
       "JGxCf/3xAAJN8AxvE8TAbKZWeUM6+wBzDAHckST1Pdp5ThvpILWiuvKL31wMphl2qA5kqAlvyZMg\n",
       "2FTgGi+NsvPD0YDxw26SGBZaG/hNZB7VYCCZH2zkmk09lyUBUzFrnDDDZvnqWAqyW2WNS+Lc0AO1\n",
       "eyOm+8QWukfVj85+6B4wAAAAPkGeQniN/wAnUhd3LxicQe4Hd6mRqROfmxL81vW6gMWbdXW+xzmZ\n",
       "6LjU5gufMumcUN/9kdLAAQUFiqJY2IP9AAAAKQGeYXRF/wAxsdLDSdD7s6ADwjOKYiJ+G838yJZG\n",
       "AE+zAAADAA8dgJeAAAAAIAGeY2pF/wAxsdLDSdD7s6ADwjOKYUAAAAMAAAMAAAtpAAAAKUGaaEmo\n",
       "QWiZTAhP//3xAAJN8AxvE8TAbKZWeB3tJ0AAAAMAAAMAAAqpAAAALkGehkURLG8AJ8Vd8M9v8emd\n",
       "cqJh8XZYg6VYgpwe7ReBe8Vy4m0MADSsq3J5AcsAAAAbAZ6ldEX/ADIunLfNQYXwhIAAAAMAAAMA\n",
       "AAd1AAAAFQGep2pF/wAAAwAAAwAAAwAAAwADAgAAAChBmqxJqEFsmUwIT//98QAAAwAAAwAHZ79u\n",
       "AoZnY3ktAtLYAAADABFwAAAAKUGeykUVLG8AAUatUPtvVpGSm0EpBj2jbgL1xNYd3V89/YBV/qhE\n",
       "K2ltAAAAFQGe6XRF/wAAAwAAAwAAAwAAAwADAgAAABUBnutqRf8AAAMAAAMAAAMAAAMAAwIAAAAo\n",
       "QZrwSahBbJlMCE///fEAAAMAAAMAB2fCTgCFVzAqa5fogQAAAwACiwAAAClBnw5FFSxvAAFGrVD7\n",
       "b1aRkptBKQY9o24C9cTWHd1fPf2AVf6oRCtpbQAAABUBny10Rf8AAAMAAAMAAAMAAAMAAwMAAAAV\n",
       "AZ8vakX/AAADAAADAAADAAADAAMCAAAALUGbNEmoQWyZTAhP//3xAAADAAADAAdnwWEApJkEnqCf\n",
       "sLrJ/o7lYAAAAwBFwAAAACxBn1JFFSxvAAFGrVD7b1aRkptBKQY9o24C9cWs/EzaF6jUTeNAU9z6\n",
       "7R3xLwAAABUBn3F0Rf8AAAMAAAMAAAMAAAMAAwIAAAAXAZ9zakX/AAADAAADAJ0VRScAAAMACDgA\n",
       "AAAnQZt4SahBbJlMCE///fEAAAMAAAMAB2fCTgCFVeUTTHtAgAAAAwFFAAAALEGflkUVLG8AAUat\n",
       "UPtvVpGSm0EpBj2jbgL1xaz8TNoXqNRN40BT3PrtHfEvAAAAFgGftXRF/wAAAwAAAwCevmzgAAAD\n",
       "AQcAAAAXAZ+3akX/AAADAAADAJ9F4tAAAAMAg4EAAAAwQZu8SahBbJlMCE///fEAAAMAAAMAB2fB\n",
       "YQCkmRjp7TNX4ExEaLEmh4miAAADAAZ8AAAAK0Gf2kUVLG8AAUatUPtvVpGSm0EpBj2jbgL1xauc\n",
       "UvsIQqDwBHHc1oPCFtEAAAAWAZ/5dEX/AAADAAADAJ7v60AAAAMCDgAAABUBn/tqRf8AAAMAAAMA\n",
       "AAMAAAMAAwMAAAArQZvgSahBbJlMCE///fEAAAMAAAMAB2fBYQCkmcaP+pWyrbZtLYAAAAMBFwAA\n",
       "AClBnh5FFSxvAAFGrVD7b1aRkptBKQY9o24C9cTWHd1fPf2AVf6oRCtpbQAAABUBnj10Rf8AAAMA\n",
       "AAMAAAMAAAMAAwIAAAAVAZ4/akX/AAADAAADAAADAAADAAMDAAAAKkGaJEmoQWyZTAhP//3xAAAD\n",
       "AAADAAdnv24ChmeImiQMkyYMsAAAAwApoAAAAClBnkJFFSxvAAFGrVD7b1aRkptBKQY9o24C9cTW\n",
       "Hd1fPf2AVf6oRCtpbQAAABUBnmF0Rf8AAAMAAAMAAAMAAAMAAwIAAAAVAZ5jakX/AAADAAADAAAD\n",
       "AAADAAMDAAAAL0GaaEmoQWyZTAhP//3xAAADAAADAAdnwWEApHKmaoR//sGE0m/bck0QAAADADPh\n",
       "AAAALEGehkUVLG8AAUatUPtvVpGSm0EpBj2jbgL1xavqxj9q3jndaAp3k7vy/DUhAAAAFQGepXRF\n",
       "/wAAAwAAAwAAAwAAAwADAwAAABUBnqdqRf8AAAMAAAMAAAMAAAMAAwIAAAAxQZqsSahBbJlMCE//\n",
       "/fEAAAMAAAMAB2e/bgGrk4aGXE54ij14rbWBZSyvhgHMAADbgAAAAClBnspFFSxvAAFGrVD7b1aR\n",
       "kptBKQY9o24C9cTWHd1fPf2AVf6oRCtpbQAAABUBnul0Rf8AAAMAAAMAAAMAAAMAAwIAAAAVAZ7r\n",
       "akX/AAADAAADAAADAAADAAMCAAAAK0Ga8EmoQWyZTAhP//3xAAADAAADAAdnwWEAbeUs6AmhNlCg\n",
       "AT4AAAMAAi8AAAArQZ8ORRUsbwABRq1Q+29WkZKbQSkGPaNuAvXFsNKQewhCoPAEcdzWg8IW0QAA\n",
       "ABUBny10Rf8AAAMAAAMAAAMAAAMAAwMAAAAVAZ8vakX/AAADAAADAAADAAADAAMCAAAAKkGbNEmo\n",
       "QWyZTAhP//3xAAADAAADAAdnv24BoVEllMwfKCHXwAAAAwBFwAAAACxBn1JFFSxvAAFGrVD7b1aR\n",
       "kptBKQY9o24C9jKa47bLv8rLAH4BfIvES+kLaQAAABUBn3F0Rf8AAAMAAAMAAAMAAAMAAwIAAAAV\n",
       "AZ9zakX/AAADAAADAAADAAADAAMCAAAAKkGbeEmoQWyZTAhP//3xAAADAAADAAdnv24Bq5riB5ly\n",
       "yTJgywAAAwACmwAAACxBn5ZFFSxvAAFGrVD7b1aRkptBKQY9o24C9cWs/EzaF6jUTeNAU9z67R3x\n",
       "LwAAABYBn7V0Rf8AAAMAAAMAnu/rQAAAAwIPAAAAFgGft2pF/wAAAwAAAwCfZ0YAAAMAAccAAAAw\n",
       "QZu8SahBbJlMCE///fEAAAMAAAMAB2fBvkAvofsfGj+VG+48X4xnaiSYAAADAAccAAAAK0Gf2kUV\n",
       "LG8AAUatUPtvVpGSm0EpBj2jbgL1xaw9P83QJRWEgCOdM9LMIW0AAAAWAZ/5dEX/AAADAAADAJ7v\n",
       "60AAAAMCDgAAABUBn/tqRf8AAAMAAAMAAAMAAAMAAwMAAAApQZvgSahBbJlMCE///fEAAAMAAAMA\n",
       "B2e/bgGhUnzaPtdAlbAAAAMAIuEAAAAuQZ4eRRUsbwABRq1Q+29WkZKbQSkGPaNuAvYzLMNo5Y8y\n",
       "uxs0CcgAPJH2eH0DAgAAABgBnj10Rf8AAAMAAAMB+yyLMY8AAAMABEwAAAAYAZ4/akX/AAADAAAD\n",
       "AfxvOiwHgAAAAwInAAAAMEGaJEmoQWyZTAhP//3xAAADAAADAAdnwWEAaj6kLjDxCvd0qqGpmE23\n",
       "rwAAAwAD1gAAAC1BnkJFFSxvAAFGrVD7b1aRkptBKQY9o24C9jKyjwxsLK8G3BRIAaVH4ibwHLEA\n",
       "AAAYAZ5hdEX/AAADAAADAfsp3WlBQAAAAwHzAAAAFwGeY2pF/wAAAwAAAwH8arsWAAADAAHjAAAA\n",
       "L0GaaEmoQWyZTAhP//3xAAADAAADAAdmhwvAJ/44+FbQmpnBOmADFstgAAADAEXBAAAAK0GehkUV\n",
       "LG8AAUatUPtvVpGSm0EpBj2jbgL2MrKOsbS3ikRtoCnyySW24akAAAAWAZ6ldEX/AAADAAADAfss\n",
       "GAAAAwACLwAAABYBnqdqRf8AAAMAAAMB/G7cAAADAAHBAAAAL0GarEmoQWyZTAhP//3xAAADAAAD\n",
       "AAdnwWEAoPxwIPQftCxHyskv6TRAAAADAM+AAAAALUGeykUVLG8AAUatUPtvVpGSm0EpBj2jbgL2\n",
       "Myy+9X2mXPIsDeKAp8Wk5TyFtQAAABYBnul0Rf8AAAMAAAMB+ywYAAADAAIuAAAAFgGe62pF/wAA\n",
       "AwAAAwH8btwAAAMAAcEAAAAoQZrwSahBbJlMCE///fEAAAMAAAMAB2e/bgJ37wI74sQ9eAAAAwAe\n",
       "sQAAACtBnw5FFSxvAAFGrVD7b1aRkptBKQY9o24C9jKyjrG0t4pEbaAp8skltuGpAAAAFgGfLXRF\n",
       "/wAAAwAAAwH7LBgAAAMAAi8AAAAWAZ8vakX/AAADAAADAfxu3AAAAwABwQAAACRBmzRJqEFsmUwI\n",
       "T//98QAAAwAAAwAHOpWKgEblV8AAAAMAR8AAAAArQZ9SRRUsbwABRq1Q+29WkZKbQSkGPaNuAvYy\n",
       "so6xtLeKRG2gKfLJJbbhqQAAABYBn3F0Rf8AAAMAAAMB+ywYAAADAAIuAAAAFgGfc2pF/wAAAwAA\n",
       "AwH8btwAAAMAAcEAAAAhQZt4SahBbJlMCE///fEAAAMAAAMAB0V1WgAgAAADAFNBAAAAK0GflkUV\n",
       "LG8AAUatUPtvVpGSm0EpBj2jbgL2MrKOsbS3ikRtoCnyySW24akAAAAYAZ+1dEX/AAADAAADAfss\n",
       "ir/PAAADAARNAAAAGAGft2pF/wAAAwAAAwH8bzn6jwAAAwAETQAAAC5Bm7xJqEFsmUwIT//98QAA\n",
       "AwAAAwAHOqGAggLLgY/b8FcxrGdQWAFbAAADAAI+AAAALUGf2kUVLG8AAUatUPtvVpGSm0EpBj2j\n",
       "bgL2MrIxu3Yzadvy9VAU+cJv+3DUgQAAABgBn/l0Rf8AAAMAAAMB+yyKv88AAAMABEwAAAAWAZ/7\n",
       "akX/AAADAAADAfxu3AAAAwABwQAAACBBm+BJqEFsmUwIT//98QAAAwAAAwAHOpja2AAAAwAR8QAA\n",
       "AC1Bnh5FFSxvAAFGrVD7b1aRkptBKQY9o24C9jKyXZ/c+5ncvmzHADuQfVknQakAAAAXAZ49dEX/\n",
       "AAADAAADAfsm+pYAAAMAAeMAAAAYAZ4/akX/AAADAAADAfxsQ4sAAAMAAPGBAAAAK0GaJEmoQWyZ\n",
       "TAhP//3xAAADAAADAAc6bcgElwLuLi4Z+f+L/AgAAAMAFNAAAAAsQZ5CRRUsbwABRq1Q+29WkZKb\n",
       "QSkGPaNuAvYyshvbVPRp2/L1UBT55yXJQakAAAAYAZ5hdEX/AAADAAADAfsm+lIrgAAAAwKmAAAA\n",
       "GAGeY2pF/wAAAwAAAwH8bEOLAAADAADxgQAAAClBmmhJqEFsmUwIT//98QAAAwAAAwAHOpVugCq/\n",
       "sSiJ0t/ACAAAAwAU0QAAACxBnoZFFSxvAAFGrVD7b1aRkptBKQY9o24C9jKyG9tU9Gnb8vVQFPnn\n",
       "JclBqQAAABcBnqV0Rf8AAAMAAAMB+yb6lgAAAwAB4wAAABgBnqdqRf8AAAMAAAMB/GxDiwAAAwAA\n",
       "8YAAAAAsQZqsSahBbJlMCE///fEAAAMAAAMAFz5Skt43gCno+Cowr/bV3ZcAAAMAAUEAAAAsQZ7K\n",
       "RRUsbwABRq1Q+29WkZKbQSkGPaNuAvYyshvbVPRp2/L1UBT55yXJQakAAAAXAZ7pdEX/AAADAAAD\n",
       "Afsm+pYAAAMAAeMAAAAWAZ7rakX/AAADAAADAfxu3AAAAwABwQAAACtBmvBJqEFsmUwIT//98QAA\n",
       "AwAAAwAHOpVugCm/IKNq+D31CpMAAAMAAOmBAAAALEGfDkUVLG8AAUatUPtvVpGSm0EpBj2jbgL2\n",
       "MrIb21T0advy9VAU+eclyUGpAAAAFgGfLXRF/wAAAwAAAwH7LBgAAAMAAi8AAAAYAZ8vakX/AAAD\n",
       "AAADAfxsQ4sAAAMAAPGAAAAALkGbNEmoQWyZTAhP//3xAAADAAADAAc75CZAGeSCqP3oMvIHMMH1\n",
       "KTAAAAMADpgAAAAsQZ9SRRUsbwABRq1Q+29WkZKbQSkGPaNuAvYyshvbVPRp2/L1UBT55yXJQakA\n",
       "AAAWAZ9xdEX/AAADAAADAfssGAAAAwACLgAAABYBn3NqRf8AAAMAAAMB/G7cAAADAAHBAAAALUGb\n",
       "eEmoQWyZTAhP//3xAAADAAADABdfYisb3PQBmDpH+jnD/RNogAAAAwBhQQAAACtBn5ZFFSxvAAFG\n",
       "rVD7b1aRkptBKQY9o24C9jKyjrG0t4pEbaAp8skltuGpAAAAFgGftXRF/wAAAwAAAwH7LBgAAAMA\n",
       "Ai8AAAAWAZ+3akX/AAADAAADAfxu3AAAAwABwQAAAC5Bm7xJqEFsmUwIT//98QAAAwAAAwAHOpWn\n",
       "oAzl6nX6I2d27fRSnVAIAAADABTQAAAAK0Gf2kUVLG8AAUatUPtvVpGSm0EpBj2jbgL2MrKOsbS3\n",
       "ikRtoCnyySW24akAAAAVAZ/5dEX/AAADAAADAAADAAADAAMCAAAAFQGf+2pF/wAAAwAAAwAAAwAA\n",
       "AwADAwAAAClBm+BJqEFsmUwIT//98QAAAwAAAwAHOpVugB5ixv2UNDGb4AAAAwAj4QAAACxBnh5F\n",
       "FSxvAAFGrVD7b1aRkptBKQY9o24C9jMsw2YNlgFdzEQBHEyjxz6DUgAAABUBnj10Rf8AAAMAAAMA\n",
       "AAMAAAMAAwIAAAAVAZ4/akX/AAADAAADAAADAAADAAMDAAAAK0GaJEmoQWyZTAhP//3xAAADAAAD\n",
       "AAc6laegCTwXelLrrITc4BAAAAMAKaAAAAAsQZ5CRRUsbwABRq1Q+29WkZKbQSkGPaNuAvYzLMNm\n",
       "DZYBXcxEARxMo8c+g1MAAAAVAZ5hdEX/AAADAAADAAADAAADAAMCAAAAFQGeY2pF/wAAAwAAAwAA\n",
       "AwAAAwADAwAAACtBmmhJqEFsmUwIT//98QAAAwAAAwAHO+RhgBA86s5SVxF6U1GtgAAAAwEfAAAA\n",
       "LUGehkUVLG8AAUatUPtvVpGSm0EpBj2jbgL2Myy/eDNgudy+bMcAO5B9WSdBqQAAABYBnqV0Rf8A\n",
       "AAMAAAMB+ywYAAADAAIvAAAAFgGep2pF/wAAAwAAAwH8btwAAAMAAcEAAAAoQZqsSahBbJlMCE//\n",
       "/fEAAAMAAAMABzvjqYBMMHLNoTRN8AAAAwAR8AAAACtBnspFFSxvAAFGrVD7b1aRkptBKQY9o24C\n",
       "9jKyjrG0t4pEbaAp8skltuGpAAAAFQGe6XRF/wAAAwAAAwAAAwAAAwADAgAAABUBnutqRf8AAAMA\n",
       "AAMAAAMAAAMAAwIAAAAuQZrwSahBbJlMCE///fEAAAMAAAMABzvkJkATr9qvIDO3vLXKx16AIAAA\n",
       "AwBTQQAAACxBnw5FFSxvAAFGrVD7b1aRkptBKQY9o24C9jMsw2YNlgFdzEQBHEyjxz6DUwAAABUB\n",
       "ny10Rf8AAAMAAAMAAAMAAAMAAwMAAAAVAZ8vakX/AAADAAADAAADAAADAAMCAAAAKkGbNEmoQWyZ\n",
       "TAhP//3xAAADAAADAAc75CZADj1/MnKcwVGGAQAAAwACmgAAACxBn1JFFSxvAAFGrVD7b1aRkptB\n",
       "KQY9o24C9jMsw2YNlgFdzEQBHEyjxz6DUwAAABUBn3F0Rf8AAAMAAAMAAAMAAAMAAwIAAAAVAZ9z\n",
       "akX/AAADAAADAAADAAADAAMCAAAAKkGbeEmoQWyZTAhP//3xAAADAAADAAc6lW6AF28h6uFGQZtJ\n",
       "bAAAAwAI+QAAACxBn5ZFFSxvAAFGrVD7b1aRkptBKQY9o24C9jMsw2YNlgFdzEQBHEyjxz6DUgAA\n",
       "ABUBn7V0Rf8AAAMAAAMAAAMAAAMAAwMAAAAVAZ+3akX/AAADAAADAAADAAADAAMDAAAAK0GbvEmo\n",
       "QWyZTAhP//3xAAADAAADAAc75GGAC8ftTo59ZtVryBAAAAMAKaAAAAAsQZ/aRRUsbwABRq1Q+29W\n",
       "kZKbQSkGPaNuAvYzLMNmDZYBXcxEARxMo8c+g1MAAAAVAZ/5dEX/AAADAAADAAADAAADAAMCAAAA\n",
       "FQGf+2pF/wAAAwAAAwAAAwAAAwADAwAAAC5Bm+BJqEFsmUwIT//98QAAAwAAAwAHPqK6ZADdlfWk\n",
       "FO6EK5SL9brYAAADABHxAAAALEGeHkUVLG8AAUatUPtvVpGSm0EpBj2jbgL2MyzDZg2WAV3MRAEc\n",
       "TKPHPoNSAAAAFQGePXRF/wAAAwAAAwAAAwAAAwADAgAAABUBnj9qRf8AAAMAAAMAAAMAAAMAAwMA\n",
       "AAAuQZokSahBbJlMCE///fEAAAMAAAMABzvkJkAOVzTTjJ81+kg7XOYknwAAAwABHwAAACxBnkJF\n",
       "FSxvAAFGrVD7b1aRkptBKQY9o24C9jMsw2YNlgFdzEQBHEyjxz6DUwAAABUBnmF0Rf8AAAMAAAMA\n",
       "AAMAAAMAAwIAAAAVAZ5jakX/AAADAAADAAADAAADAAMDAAAAIEGaaEmoQWyZTAhP//3xAAADAAAD\n",
       "AAc/WEpMAAADAAOnAAAALEGehkUVLG8AAUatUPtvVpGSm0EpBj2jbgL2MyzDZg2WAV3MRAEcTKPH\n",
       "PoNTAAAAFQGepXRF/wAAAwAAAwAAAwAAAwADAwAAABUBnqdqRf8AAAMAAAMAAAMAAAMAAwIAAAAt\n",
       "QZqsSahBbJlMCE///fEAAAMAAAMABz9alrMAJnCfmBZdqPuFOYYBAAADAAKaAAAALEGeykUVLG8A\n",
       "AUatUPtvVpGSm0EpBj2jbgL2MyzDZg2WAV3MRAEcTKPHPoNTAAAAFQGe6XRF/wAAAwAAAwAAAwAA\n",
       "AwADAgAAABUBnutqRf8AAAMAAAMAAAMAAAMAAwIAAAAgQZrwSahBbJlMCE///fEAAAMAAAMABz9Y\n",
       "SkwAAAMAA6cAAAAsQZ8ORRUsbwABRq1Q+29WkZKbQSkGPaNuAvYzLMNmDZYBXcxEARxMo8c+g1MA\n",
       "AAAVAZ8tdEX/AAADAAADAAADAAADAAMDAAAAFQGfL2pF/wAAAwAAAwAAAwAAAwADAgAAAChBmzRJ\n",
       "qEFsmUwIT//98QAAAwAAAwAHQMfN0ADPCW7XAmJ8AAADAAR8AAAALEGfUkUVLG8AAUatUPtvVpGS\n",
       "m0EpBj2jbgL2MyzDZg2WAV3MRAEcTKPHPoNTAAAAFQGfcXRF/wAAAwAAAwAAAwAAAwADAgAAABUB\n",
       "n3NqRf8AAAMAAAMAAAMAAAMAAwIAAAAgQZt4SahBbJlMCE///fEAAAMAAAMABz9YSkwAAAMAA6cA\n",
       "AAAsQZ+WRRUsbwABRq1Q+29WkZKbQSkGPaNuAvYzLMNmDZYBXcxEARxMo8c+g1IAAAAVAZ+1dEX/\n",
       "AAADAAADAAADAAADAAMDAAAAFQGft2pF/wAAAwAAAwAAAwAAAwADAwAAAClBm7xJqEFsmUwIT//9\n",
       "8QAAAwAAAwAHQMfa24AyrwlRgw7JgAAAAwB0wAAAACxBn9pFFSxvAAFGrVD7b1aRkptBKQY9o24C\n",
       "9jMsw2YNlgFdzEQBHEyjxz6DUwAAABUBn/l0Rf8AAAMAAAMAAAMAAAMAAwIAAAAVAZ/7akX/AAAD\n",
       "AAADAAADAAADAAMDAAAAKkGb4EmoQWyZTAhP//3xAAADAAADAAc/WY2EANX+g9aBSmERbAAAAwAI\n",
       "+QAAACxBnh5FFSxvAAFGrVD7b1aRkptBKQY9o24C9jMsw2YNlgFdzEQBHEyjxz6DUgAAABUBnj10\n",
       "Rf8AAAMAAAMAAAMAAAMAAwIAAAAVAZ4/akX/AAADAAADAAADAAADAAMDAAAAK0GaJEmoQWyZTAhP\n",
       "//3xAAADAAADAAc/WY2EANuR5RX2GOGp36YAAAMAAdMAAAAsQZ5CRRUsbwABRq1Q+29WkZKbQSkG\n",
       "PaNuAvYzLMNmDZYBXcxEARxMo8c+g1MAAAAVAZ5hdEX/AAADAAADAAADAAADAAMCAAAAFQGeY2pF\n",
       "/wAAAwAAAwAAAwAAAwADAwAAACpBmmhJqEFsmUwIT//98QAAAwAAAwAXPlKWKLgByr7q5Cl/5SAA\n",
       "AAMAGFEAAAAuQZ6GRRUsbwABRq1Q+29WkZKbQSkGPaNuAvYzLMNo0u0RsGzQJyAA8mJUh2QK2QAA\n",
       "ABUBnqV0Rf8AAAMAAAMAAAMAAAMAAwMAAAAVAZ6nakX/AAADAAADAAADAAADAAMCAAAAPEGarEmo\n",
       "QWyZTAhP//3xAAADAAADABdd1cCPHBF+W/V/35vQkQznNg7XcniC4I4vle5DbMNblwAAAwABQQAA\n",
       "AC1BnspFFSxvAAFGrVD7b1aRkptBKQY9o24C9jMsuozPHAV3LfxADt/kaseELaEAAAAWAZ7pdEX/\n",
       "AAADAAADAfssGAAAAwACLgAAABYBnutqRf8AAAMAAAMB/G7cAAADAAHBAAAAKkGa8EmoQWyZTAhP\n",
       "//3xAAADAAADABc45EQRLj8FldpUnJUclwAAAwACFwAAAC1Bnw5FFSxvAAFGrVD7b1aRkptBKQY9\n",
       "o24C9jKyjwvWnf1k01HgA8nQNufQHLEAAAAWAZ8tdEX/AAADAAADAfssGAAAAwACLwAAABYBny9q\n",
       "Rf8AAAMAAAMB/G7cAAADAAHBAAAAM0GbNEmoQWyZTAhP//3xAAADAAADABc45EQJJxv4Oo35gB90\n",
       "MbaPZFyn+ikOXAAAAwAOWAAAAC1Bn1JFFSxvAAFGrVD7b1aRkptBKQY9o24C9jKxrZwAJ+qxhC5w\n",
       "C+qukRm8S8EAAAAVAZ9xdEX/AAADAAADAAADAAADAAMCAAAAFwGfc2pF/wAAAwAAAwHgpRZaAAAD\n",
       "AAVsAAAANUGbeEmoQWyZTAhP//3xAAADAAADABc45dYFCj9ncF5VYKydH7hAnJP12tbSXNS4AAAD\n",
       "AAoJAAAALkGflkUVLG8AAUatUPtvVpGSm0EpBj2jbgL2MyzJH4S7triCfxUANI3rP6AAwIAAAAAY\n",
       "AZ+1dEX/AAADAAADAfsxnhKdAAADAALPAAAAGAGft2pF/wAAAwAAAwH8c10LXAAAAwANSQAAADZB\n",
       "m7xJqEFsmUwIT//98QAAAwAAAwAXOOXWBQuN/ndH1LIFh/mZAWfJBZdpxBi2ZAuAAAADAcsAAAAu\n",
       "QZ/aRRUsbwABRq1Q+29WkZKbQSkGPaNuAvYyso8K04Y9UDTqlEMANJ78e6MCtwAAABUBn/l0Rf8A\n",
       "AAMAAAMAAAMAAAMAAwIAAAAVAZ/7akX/AAADAAADAAADAAADAAMDAAAAQUGb4EmoQWyZTAhP//3x\n",
       "AAADAAADABdKt1QcCSRTjIdw0URVHhmTN7Oz6rZZuYuBHzPcpefKHZVtP2PlAAADAAWVAAAAL0Ge\n",
       "HkUVLG8AAUatUPtvVpGSm0EpBj2jbgL2MyzDaOMchMB84IGwgAntaR0bwHLAAAAAFgGePXRF/wAA\n",
       "AwAAAwH7LBgAAAMAAi4AAAAYAZ4/akX/AAADAAADAfxvN+wHgAAAAwI3AAAAI0GaJEmoQWyZTAhP\n",
       "//3xAAADAAADABaoY8AqsGkAAAMAAMeAAAAAK0GeQkUVLG8AAUatUPtvVpGSm0EpBj2jbgL2MrKO\n",
       "sbS3ikRtoCnyySW24akAAAAVAZ5hdEX/AAADAAADAAADAAADAAMCAAAAFQGeY2pF/wAAAwAAAwAA\n",
       "AwAAAwADAwAAACNBmmhJqEFsmUwIT//98QAAAwAAAwAWr3PRiLZj3AAAAwAFJQAAAC5BnoZFFSxv\n",
       "AAFGrVD7b1aRkptBKQY9o24C9jMsySr2fwS3kTQxEgBpENr1bQMDAAAAFgGepXRF/wAAAwAAAwH7\n",
       "LBgAAAMAAi8AAAAWAZ6nakX/AAADAAADAfxu3AAAAwABwQAAADNBmqxJqEFsmUwIT//98QAAAwAA\n",
       "AwAWvaBVyJgChvMyuw7i5lVMXvzDR6F+ykAAAAMAMeAAAAArQZ7KRRUsbwABRq1Q+29WkZKbQSkG\n",
       "PaNuAvYyso6xtLeKRG2gKfLJJbbhqQAAABUBnul0Rf8AAAMAAAMAAAMAAAMAAwIAAAAVAZ7rakX/\n",
       "AAADAAADAJquk4AAAAQ8AAAAIkGa8EmoQWyZTAhP//3xAAADAAADABaoY8O7ukAAAAMAMeEAAAAs\n",
       "QZ8ORRUsbwABRq1Q+29WkZKbQSkGPaNuAvYzLMNmDZYBXcxEARxMo8c+g1MAAAAWAZ8tdEX/AAAD\n",
       "AAADAfssGAAAAwACLwAAABYBny9qRf8AAAMAAAMB/G7cAAADAAHBAAAAMkGbNEmoQWyZTAhP//3x\n",
       "AAADAAADABat8xwmAKM7y0TalCiEECgzcV0ZGfpcAAADAAUkAAAAK0GfUkUVLG8AAUatUPtvVpGS\n",
       "m0EpBj2jbgL2MrKOsbS3ikRtoCnyySW24akAAAAVAZ9xdEX/AAADAAADAAADAAADAAMCAAAAFQGf\n",
       "c2pF/wAAAwAAAwAAAwAAAwADAgAAACpBm3hJqEFsmUwIT//98QAAAwAAAwAWqGZAAUCvrCYD71hA\n",
       "sguAAAADAdUAAAAsQZ+WRRUsbwABRq1Q+29WkZKbQSkGPaNuAvYzLMNmDZYBXcxEARxMo8c+g1IA\n",
       "AAAWAZ+1dEX/AAADAAADAfssGAAAAwACLwAAABYBn7dqRf8AAAMAAAMB/G7cAAADAAHBAAAAHEGb\n",
       "uUmoQWyZTAi/+lgAAAMAAAMAAAMAAAMAAasAAA6lZYiCAAz//vbsvgU1/Z/QlxEsxdpKcD4qpICA\n",
       "dzTAAAADAAADAAADACpHOfTm4+L2i0AAAAMC2gCvAjEX+F1sQrgAhp0Uyvi2PNUyeFx0ZZ8+nL85\n",
       "e14WYZYZ/q/QnGf5fOYKBs+QXJNtJJRTTcAAuyOBozQq/DBcxQVMMIxTYQyXFmSQQ7owW8JiRIRe\n",
       "uXeby2Oj5kYsWQy54/sAVnd0rH15MjKeYiOE8zpjfjguJS+TEwmbGUpg/j6I613Un8lsP6vrsjbq\n",
       "iY6S9un1lDNnYGcOLiT6ERYELeANkCZyeUXDwJXHy4hq9K9+GAPafuxBomz9nwkJs6Bm4lBQiH9H\n",
       "M/W0TkikrwUfK+JPmHiFND/jkNW3jYZPgHU/7OdQwTH8nruPtLUF0zib1j9twZSTmWVNc/tPSBeT\n",
       "7HJ/7WlHGf/9SORPZiyqk9EfA+TQh6M/4C1FC6yXHSAFR3ArvDl7razwpRaqd1/EYYu+vSH1m5xU\n",
       "bCcDWqyH1+sKWkM+wGCHRMU59DCJANZfIV6b3rIIFQYjlKlwDEEVf+k5IVWKG1nrw1FIIMKfkG04\n",
       "Ul+7MLU6cVSp5kFJUrLoCS9RsW88Cx1sy2zi44MhIrUx+wuH03fhH0DIOravluwb/8WIjICWVA1s\n",
       "+/+WpEZieNAOtqOI2fGtOoupw+hXyucndXDKUm2sLOIKXG99ER6V90zcvZEJ7Jh6CeL4rtp8cwFi\n",
       "l+mcoPQdG2DOB2ltSCHG1r4qwfI1BOZkdx0Vgor4+VS58bJCEQ4oalGdpWDeJJiSQ/svwwabyDHR\n",
       "HHvaQKkXY1MJD7yvQ+6JGBR0QOk5Lnv/feYTov6u3Bc4Jzx5qq6+iGxfFC1bMBXBwflLdFqkjp9W\n",
       "u6JA0v/gpj7X2g7tllf0SLkbpBlk0p7Q5jvHMbaece9jvXMiQFQdj1f6FLH3lNQccWFJcfckGpuG\n",
       "lu/95VqZTe3fwmTH2sC7JQRSL2iTvDkHW1PvEByhnXwr9+UMjYVbDojcNQ7tyMoHMkKbcK6C6kfC\n",
       "iGtYPLR2XJIeRTgcOLx0GZX5MTKIp2LTt9qX6DCUHR+obzYecmsZlrPAopWlr2zHinQhVGkqIhWc\n",
       "yO0DznrN8hEqy55UvaBOJgvjW/R95o6VxvFsBiMevEGVOMNgdINPT0mr/RXdIt4kjQpyWktqJDmh\n",
       "e3XIDk5T40FtswdA4jVRgvP4RWDbUhzkxRdpLW3DsXGtZXERSOoX+6r/ZdmG9d66kGurApy+Ho1c\n",
       "KkFcvq4cn1iBPek6/NP0R2Od3NHcRRvFFLrE9Mt0/eQR0IgbqXGiGIqDi60vnSXvIwBHhB9j/QF8\n",
       "ds+ZVpEzl7W0C2v07sr1R5iBs/ylgowOmtS/0wcbY/ivXmtKumxdnkeX9ahlmlCP6EYSLj4OUh/O\n",
       "dgWL73V7s6m0afYi05/1DqcvWyoZs/nOrWpF4Rzf3PHAIgnmEb+F2pHTl8RvQSy8J9vuIXLDdZq8\n",
       "HhiVZXMfvdlzy5wkhkK98xaNnougDoTYCZ2M97b33hP70TzbUvRSBSXKcaDdpJvFSJub8NdCpejB\n",
       "ndux3uCwjeEzpfGumGcf6rdWuBZT9+2/zjeZUE/ArDXw5m96L8mpjOf2/Rv6ZSRQRxpkHMa4SFds\n",
       "rv7NHszV7+S+RwW4H9RMpz8FguD2F+we77y5cZ0Rj/GkfYhSTOzYEMu1BamxbVXBRS0OItUiqC1F\n",
       "6e0bCPNEcxMr5kiuk6RgPTF5wmCgFXo0R34f9Ndgjyta4yhEbGRPg5VtsHmRmR3PqNDtyrbvAOnb\n",
       "MSMoKgpYJshtaOwk9DfYw25BpJ3kCYV83KXjjGIAzDXC5+Xx3gavh9j3zYwMvvOcHOJgNyBfw8yE\n",
       "Xw5Krm2IWdtyBQzcY4vvAmtivH8C3vS8i/w+A5+eYZP1mQYvZTRT7EdsXs+vzmZugeRP+Pz1thnB\n",
       "LfkXEHQNIVlkqBLtZiT1zY1DgH0O2pxWglYGJ/W+RpL0eyuxwBycuC3Ypg7VPZW46z3RjnCFTsAQ\n",
       "DXYZf2FZ+5Gp3iv/n0zVWKCPhzZqXa5fcnJti8lhpSUYf4eXUlCV3OdEkKY0l++6W7hqutf9QXgH\n",
       "JzE8uh3uQQ/hY2lnkjG57niw/4i1gmzlHjT9NfhpugUu9naOVKuM938u8c3unAZC4ZMzYj4ckAFu\n",
       "UDR+isZMrvvEsGhtH2K+IUK6Oy+KORowA/FP6IwbjaPvjhI0H4PNQXpIRpkk5VDkBCDVVnG0k4+r\n",
       "nTDJYwjZOSwMDSoG+GSuyUhJ3X1jDtEZYetGVvM2Rsmy7yyJhRVKU0G9BuQYvsoIiBjZbSN7igiK\n",
       "LqZuYSZZCJ664u8czzLuicEJ36x2iKRwdxTZxImf7w6olmvklLE4xB6ZltKE7Dd+cpaUfi9kHtdv\n",
       "95LSt4HyYNHADw5MiXXKyKl2HwGB//gt5NLC5Fql4RQTGD09nfnRcw/gkNJNO39jqBtWOtJFTddO\n",
       "iiLJfpgMSq9V1U0XiE5578zpG44qhq/YBUzxg6ck/2VJp7Jmiog9TyIP2of+IUvSWl6RwY0lcXfW\n",
       "fg2whXJNFG2DJ4kNrLIRGJwDD4jx7c3Fg+kvMIwsnD7i+LkqdNo3LSmDMmOTOsmMhwsazUJ7/1hS\n",
       "pDD8SS5GjGwx5O4EEkqj4AAAAwBnVRE+Foh9Yijt3W+Wwdn8r1G+GhXHKWtnJdP58oe1ka4dVp8l\n",
       "2hBKrEAg1XEDf+FJzToqHrIybhvww6oMZBCrnNEC6Ycx3KTN6ZaEabmYZAAYPNw93Tvka9D2cSyI\n",
       "msAu2KpIqW4FfZhhdb39cMfwLP8MjtFg+/r5plxNAo/K089bQ8hFTZLD3MgOz4SKGiXidyQl5VUE\n",
       "WtaMrXodNDt5NjqGg89Cbchi/xMuCjdYeaYR7JvmJmPG561M3B3j3s+Qj8XX2ex2JezdSY5w07FB\n",
       "BBt9wavER/8+UU77jNEA92BfrJ7efwE9FbASTy+kbE7vMmWNnW9YuS1oEsuwQuniYpdl7s8DmoAo\n",
       "zMz/hMsmNNQRPl07IwPm1fsnsPPTQARzBKLRc9R0xAFYQd6mUxN37zN1OHEAMwEd8xAp40nWBQis\n",
       "14J+a3kCzoakBQZx9oSq6Zq5Kv1VcyodhoHr8oi2fk/c99o7tPcPz63EIw55itnnIbrqN8dcfngp\n",
       "g9ad1d3S5XUZ+7ySApGqw2L9AqlWs5Q3i4DI3uXqr9SxE5vGl8k6ABlgshgAX0xNQM+wzAJGW8wO\n",
       "6VzghMh8sa+DmUhm9ofcdlxSS27IaYjSSLT4AXtTSFBIibbT4iDb8ka6vKkfdlimO1XJ+koVZxQx\n",
       "O5bPVjlk6lLFaaQjtIhvznpC/4OQRr30XVbsmC825siW7ViORGpOw4QTbSJJsyIvlJjdLKQ3q55j\n",
       "efZYchx3PvnqY1hnH72pWqrVJ6+Ob+g873mY+Y5aNzkWdr54t68LtfLIpQdZAg4XQRE3qe62fpJK\n",
       "S/kleTa8+IMlzTi9OF3nXvY9dtaTnEQzHSzPFP6RUPAbtjB+GQ3PpmtL3Ws2dUN7QQmcTr1JPRkH\n",
       "IhlOJDRF5fDZPbpk9qfRxpE6Yc6IGkqij80zVD+EPMXr/af8F80zKd0g4QYEPlDLWiGXj5JI+kD7\n",
       "dUAhnY422xiv8hftFztShI786+tJLPwEgBNC4UFD8kNZdTkiLQIUzr0xiE5vKfFDk5jWo4vXzH/8\n",
       "8/Xw5tRN6frrTtaHeRmSaimQbhOI9jwTyvYM16P0AyqT3VajiEZb6Bj5Rk0X0cnDz4TPA4+5UDLx\n",
       "OgNdkJapT1STNcNXvK+Sp3ccArbRYqo/wQvulK/lZYDvrw99Ac7gUU2b8AWjcyb5jnFIG5xFwQTr\n",
       "Q5T7HY6kBQWkGoLk76KGGztBHe6jXB8tYQQ318mdM6cTUM5SYYP05Ax08BN1Mn0A0eb9q9UgUwvA\n",
       "AcdzMAB75DkE38dQQD6ZBLCp8FmadLOJFiDj3YY5lSepPwppq8MnlmgDzwrytDMeEFkOIQ6UJ+CC\n",
       "xBnxEwORZ5IsGw+OjRdm2hKWci9b2A0tswGU8QTdrnooWjIe1mr8bvTPCz8RBmicEAD4hPgAp6us\n",
       "D4hS90BlHD5+JFUpXNK6mt/d/YfbaFdN3umB08CYrlCrRJl3tPscs6Ib7mJ99ecWWseSE/JpqVI+\n",
       "i3O3QkvVU+6YE5shai24p7UjXZ8zRYEZ6PBkTYoyRzdVUitswzNOQpIA2nWfP6hHB/hXwwRpWTgQ\n",
       "9PWPdLIQjoHrasI9j+CsDt51Pcm4vqWJNkVYIzTBjs3cRI0dFJzt0MxI5jO1GxhwBhFKlQYaD7vB\n",
       "glYYdX9k9rv8D/IrILF2PXhvs1Wk8YQ8Z+V9DF2C76dZ7rYl0ElYVXr3Z+eHDNfOyKDUvSfoa3bH\n",
       "6XggX+CGm0EI8wq9kcFkYRBmpLsMjbix0LilwuJrnVAAC0bggraJbcuzYXKManJS8YuMczhoyhdR\n",
       "RS4UjLMnHWYpP+Ju37KIY638REhAQnqJz7o0QYQW5W+KePyx0Ic22cZyGkGLhT8X/qzgojqUYDZp\n",
       "FrNgEF0ZQtEhGg6QICljeol3TlhqlNXjpsImSrXmz95dETCm2SHOW4mCb98OD/3S+dHpz0Z7Ih6M\n",
       "Fc+KQQkPOE4RPOIGMCjUTN+NjkR8dpA/jvztYht3+Oh+b0nTX51NMMXZzeOORl5ifXBDPC7QS9Q0\n",
       "H/aoYYCROa6DK/CrR+fZiaWnE7hOvN3a+utHrInrvZXmyBNCU4LxdsPYKAIvH7B9TvIZjAO8cNQk\n",
       "NfOk1vVc3Ez+VC9RvL7j5qOolBet2//7U3CN4OSP6ItQcn3dA1xA273INTIX9O57/GEXHEILVTal\n",
       "85ywN7Ur2A4JUCzJxv/DVEoE1z6SqaZHKq5CGMJCxjkAkz0WH4usFYDoAMmD48HvDQ1YaszuVsWi\n",
       "zOz6QLw3Z9khrr+nvzdYUUxQFemW/ScHs8V+ppRE+qxANRgul8Ig8UwQgOBncB+K1jviCcA7DfPy\n",
       "KFOrSlGCGyATkAAAAwAABLUAAABdQZokbEJ//fEAAAMCkexFkZozfRAIynVUTWTl8MAUk6jx8G+u\n",
       "X7yUMX3hNsiL/wYhHOhfbeJ7V6Ou1hbTyexB2Y5DbnGHbZw+DYxR4b0SixA5SeTLx0nqWmklawJO\n",
       "AAAAKkGeQniN/wAALEX76wvXEefiiOk9vdFYbPIFhSbCMIWi4cjMhpqd4oAVsQAAACcBnmF0Rf8A\n",
       "ADcvO2AgULBmVMn4+xoac1JzM1tZlKI2eUkNhQSDHusAAAAXAZ5jakX/AAADAAADAABFVztgxOAA\n",
       "DugAAAAwQZpoSahBaJlMCE///fEAAAMAAAMAFqhsB8gEjFqo8iu75Me7MP/NFFQLgAAAAwHVAAAA\n",
       "G0GehkURLG8AAAMAAAMAAAMAAAMBiBjt5GFaSQAAABUBnqV0Rf8AAAMAAAMAAAMAAAMAAwIAAAAV\n",
       "AZ6nakX/AAADAAADAAADAAADAAMDAAAAKUGarEmoQWyZTAhP//3xAAADAAADABat8xq6AJ+eM5L5\n",
       "WjXAAAADAFJAAAAAG0GeykUVLG8AAAMAAAMAAAMAAAMBiBjt5GFaSQAAABUBnul0Rf8AAAMAAAMA\n",
       "AAMAAAMAAwMAAAAVAZ7rakX/AAADAAADAAADAAADAAMDAAAALUGa8EmoQWyZTAhP//3xAAADAAAD\n",
       "ABa1zsUAJ0T5dyEDkBlaKJxZSAAAAwAGPQAAABtBnw5FFSxvAAADAAADAAADAAADAYgY7eRhWkgA\n",
       "AAAVAZ8tdEX/AAADAAADAAADAAADAAMCAAAAFQGfL2pF/wAAAwAAAwAAAwAAAwADAwAAADNBmzRJ\n",
       "qEFsmUwIT//98QAAAwAAAwAWwC7PM8IAn3ThoD7lWD8bk5ckXGzGkbcAAAMAAiYAAAAbQZ9SRRUs\n",
       "bwAAAwAAAwAAAwAAAwGIGO3kYVpIAAAAFQGfcXRF/wAAAwAAAwAAAwAAAwADAwAAABUBn3NqRf8A\n",
       "AAMAAAMAAAMAAAMAAwMAAAAkQZt4SahBbJlMCE///fEAAAMAAAMAFrR20mIBTOMuAAADAAKTAAAA\n",
       "G0GflkUVLG8AAAMAAAMAAAMAAAMBiBjt5GFaSAAAABUBn7V0Rf8AAAMAAAMAAAMAAAMAAwIAAAAV\n",
       "AZ+3akX/AAADAAADAAADAAADAAMDAAAAJkGbvEmoQWyZTAhP//3xAAADAAADABa2u1fAGVJk8Mvg\n",
       "AAADAAu4AAAAG0Gf2kUVLG8AAAMAAAMAAAMAAAMBiBjt5GFaSAAAABUBn/l0Rf8AAAMAAAMAAAMA\n",
       "AAMAAwMAAAAVAZ/7akX/AAADAAADAAADAAADAAMCAAAAJEGb4EmoQWyZTAhP//3xAAADAAADABaz\n",
       "tgxQBZH1zAAAAwABLwAAABtBnh5FFSxvAAADAAADAAADAAADAYgY7eRhWkkAAAAVAZ49dEX/AAAD\n",
       "AAADAAADAAADAAMCAAAAFQGeP2pF/wAAAwAAAwAAAwAAAwADAwAAACdBmiRJqEFsmUwIT//98QAA\n",
       "AwAAAwAWtrKbwAXqhLZkdvgAAAMAAu4AAAAbQZ5CRRUsbwAAAwAAAwF+kgdAAAB6gGwy6lvJAAAA\n",
       "FQGeYXRF/wAAAwAAAwAAAwAAAwADAwAAABYBnmNqRf8AAAMAAAMB227cAAADAAHjAAAALkGaaEmo\n",
       "QWyZTAhP//3xAAADAAADABa2u84QBQB0pNCF4f/kQjuRp8AAAAMAF3AAAAAbQZ6GRRUsbwAAAwAA\n",
       "AwAAAwAAAwGIGO3kYVpJAAAAFQGepXRF/wAAAwAAAwAAAwAAAwADAgAAABUBnqdqRf8AAAMAAAMA\n",
       "AAMAAAMAAwMAAAAiQZqsSahBbJlMCE///fEAAAMAAAMAFra6/eMUq4AAAAMB1QAAABtBnspFFSxv\n",
       "AAADAAADAAADAAADAYgY7eRhWkkAAAAVAZ7pdEX/AAADAAADAAADAAADAAMDAAAAFQGe62pF/wAA\n",
       "AwAAAwAAAwAAAwADAwAAACtBmvBJqEFsmUwIT//98QAAAwAAAwAWtrKqCAHPwLZyRNh7XP9sAAAD\n",
       "AALvAAAAG0GfDkUVLG8AAAMAAAMAAAMAAAMBiBjt5GFaSAAAABUBny10Rf8AAAMAAAMAAAMAAAMA\n",
       "AwIAAAAVAZ8vakX/AAADAAADAAADAAADAAMDAAAAI0GbNEmoQWyZTAhP//3xAAADAAADABa2uvk2\n",
       "LOaIAAADAAh4AAAAHEGfUkUVLG8AAAMAAAMBfeFVAAADAW9VxotxbyAAAAAWAZ9xdEX/AAADAAAD\n",
       "AdosGAAAAwACXwAAABUBn3NqRf8AAAMAAAMAAAMAAAMAAwMAAAAtQZt4SahBbJlMCE///fEAAAMA\n",
       "AAMAFraysXACDjeLSiUmowybK4tgAAADABdxAAAAG0GflkUVLG8AAAMAAAMBh7mD0AAAHd2T8LcW\n",
       "8gAAABUBn7V0Rf8AAAMAAAMAAAMAAAMAAwIAAAAXAZ+3akX/AAADAAADAdwQicAAAAMAsoEAAAAt\n",
       "QZu8SahBbJlMCE///fEAAAMAAAMAFrbOc8gGovP1i81bUNF8JXKwAAADAAu4AAAAHEGf2kUVLG8A\n",
       "AAMAAAMBh98g/8AAAAUvz1xmmT4AAAAWAZ/5dEX/AAADAAADAdu9rQAAAwACywAAABUBn/tqRf8A\n",
       "AAMAAAMAAAMAAAMAAwIAAAAlQZvgSahBbJlMCE///fEAAAMAAAMAFhgrBwGbrnKTfAAAAwABgQAA\n",
       "AB1Bnh5FFSxvAAADAAADAX72jNDp4AAATYcasTm2kQAAABUBnj10Rf8AAAMAAAMAAAMAAAMAAwIA\n",
       "AAAVAZ4/akX/AAADAAADAAADAAADAAMDAAAAI0GaJEmoQWyZTAhP//3xAAADAAADABatH72qFevA\n",
       "AAADAFNAAAAAG0GeQkUVLG8AAAMAAAMAAAMAAAMBiBjt5GFaSQAAABUBnmF0Rf8AAAMAAAMAAAMA\n",
       "AAMAAwMAAAAVAZ5jakX/AAADAAADAAADAAADAAMCAAAAKEGaaEmoQWyZTAhP//3xAAADAAADABah\n",
       "zNzOBwA3kKtv14AAAAMApoAAAAAbQZ6GRRUsbwAAAwAAAwAAAwAAAwGIGO3kYVpJAAAAFQGepXRF\n",
       "/wAAAwAAAwAAAwAAAwADAgAAABUBnqdqRf8AAAMAAAMAAAMAAAMAAwMAAAAsQZqsSahBbJlMCE//\n",
       "/fEAAAMAAAMAFhKTRCVhAGyAGkLhCUA1GAQAAAMAA24AAAAbQZ7KRRUsbwAAAwAAAwAAAwAAAwGI\n",
       "GO3kYVpJAAAAFQGe6XRF/wAAAwAAAwAAAwAAAwADAwAAABUBnutqRf8AAAMAAAMAAAMAAAMAAwMA\n",
       "AAAnQZrwSahBbJlMCE///fEAAAMAAAMAFiWoqXQBsh6fdHfAAAADABgRAAAAG0GfDkUVLG8AAAMA\n",
       "AAMAAAMAAAMBiBjt5GFaSAAAABUBny10Rf8AAAMAAAMAAAMAAAMAAwIAAAAVAZ8vakX/AAADAAAD\n",
       "AAADAAADAAMDAAAAKUGbNEmoQWyZTAhP//3xAAADAAADABYYLpPkAk30Nh0nergCAAADAAG3AAAA\n",
       "G0GfUkUVLG8AAAMAAAMAAAMAAAMBiBjt5GFaSAAAABUBn3F0Rf8AAAMAAAMAAAMAAAMAAwMAAAAV\n",
       "AZ9zakX/AAADAAADAAADAAADAAMDAAAAKUGbeEmoQWyZTAhP//3xAAADAAADABYlqKl0AT18m4Hz\n",
       "9gEAAAMAANuBAAAAG0GflkUVLG8AAAMAAAMAdu/4dAAAGL/HUPqW8gAAABUBn7V0Rf8AAAMAAAMA\n",
       "AAMAAAMAAwIAAAAVAZ+3akX/AAADAAADAAADAAADAAMDAAAAKUGbvEmoQWyZTAhP//3xAAADAAAD\n",
       "ABYYLpzgBBYoBf09p+2AAAADAGBAAAAAG0Gf2kUVLG8AAAMAAAMAdv7Q6AAAMXeJHfUt5AAAABUB\n",
       "n/l0Rf8AAAMAAAMAAAMAAAMAAwMAAAAVAZ/7akX/AAADAAADAAADAAADAAMCAAAAIUGb4EmoQWyZ\n",
       "TAhP//3xAAADAAADABYmrNdbAAADAADAgQAAABtBnh5FFSxvAAADAAADAX25g9AAAB6Nk/C3FvMA\n",
       "AAAVAZ49dEX/AAADAAADAAADAAADAAMCAAAAFQGeP2pF/wAAAwAAAwAAAwAAAwADAwAAAChBmiRJ\n",
       "qEFsmUwIT//98QAAAwAAAwAWI7LmAAXdQUiPwUyYAAADAAJuAAAAG0GeQkUVLG8AAAMAAAMAAAMA\n",
       "AAMBiBjt5GFaSQAAABUBnmF0Rf8AAAMAAAMAAAMAAAMAAwMAAAAVAZ5jakX/AAADAAADAAADAAAD\n",
       "AAMCAAAAKUGaaEmoQWyZTAhP//3xAAADAAADABYmrQNgDVbcAEBu0ZsAAAMAAMCAAAAAG0GehkUV\n",
       "LG8AAAMAAAMAAAMAAAMBiBjt5GFaSQAAABUBnqV0Rf8AAAMAAAMAAAMAAAMAAwIAAAAVAZ6nakX/\n",
       "AAADAAADAAADAAADAAMDAAAAKkGarEmoQWyZTAhP//3xAAADAAADABak5dBAvAHHMeAWvZL/XgAA\n",
       "AwACmgAAAB9BnspFFSxvAAADAAADAX0uB9oq3gAAAwHl/Dpisi2BAAAAFQGe6XRF/wAAAwAAAwAA\n",
       "AwAAAwADAwAAABcBnutqRf8AAAMAAAMB0RCJwAAAAwC2gQAAACtBmvBJqEFsmUwIT//98QAAAwAA\n",
       "AwAWphvQRVwAj0qR0c/piwywAAADAA25AAAAG0GfDkUVLG8AAAMAAAMBdP8h0AAAH0/HUPqW8gAA\n",
       "ABYBny10Rf8AAAMAAAMBzywYAAADAAJuAAAAFQGfL2pF/wAAAwAAAwAAAwAAAwADAwAAADdBmzRJ\n",
       "qEFsmUwIT//98QAAAwAAAwAWJq1APAE9uEOp/zBjq97OtIxZMj+OGpCaWBhQAAADABHwAAAAHUGf\n",
       "UkUVLG8AAAMAAAMBdDBxI+mAAAHO6mhTot5AAAAAFgGfcXRF/wAAAwAAAwCWkitAAAADAi8AAAAW\n",
       "AZ9zakX/AAADAAADAdmpg4AAAAMBZQAAAC9Bm3hJqEFsmUwIT//98QAAAwAAAwAWJq1BdQC1i6ro\n",
       "pLAAf7QRJ27DLAAAAwADgwAAABtBn5ZFFSxvAAADAAADAXTHh0AAAH1AbDLqW8gAAAAVAZ+1dEX/\n",
       "AAADAAADAAADAAADAAMCAAAAGAGft2pF/wAAAwAAAwHae/1OgAAAAwDAgQAAACFBm7xJqEFsmUwI\n",
       "T//98QAAAwAAAwAVjdXNZgAAAwAAoIAAAAAcQZ/aRRUsbwAAAwAAAwF0vQOAAAAJcnF+DqW8gAAA\n",
       "ABUBn/l0Rf8AAAMAAAMAAAMAAAMAAwMAAAAVAZ/7akX/AAADAAADAAADAAADAAMCAAAAJ0Gb4Emo\n",
       "QWyZTAhP//3xAAADAAADABWICcOgDZAFnEglsAAAAwAMWQAAABtBnh5FFSxvAAADAAADAAADAAAD\n",
       "AYgY7eRhWkkAAAAVAZ49dEX/AAADAAADAAADAAADAAMCAAAAFQGeP2pF/wAAAwAAAwAAAwAAAwAD\n",
       "AwAAACdBmiRJqEFsmUwIT//98QAAAwAAAwAViAcoAHJ9CpZ8/rYAAAMAAYsAAAAbQZ5CRRUsbwAA\n",
       "AwAAAwAAAwAAAwGIGO3kYVpJAAAAFQGeYXRF/wAAAwAAAwAAAwAAAwADAwAAABUBnmNqRf8AAAMA\n",
       "AAMAAAMAAAMAAwIAAAAhQZpoSahBbJlMCE///fEAAAMAAAMAFZWSPECAAAADAHBAAAAAHEGehkUV\n",
       "LG8AAAMAAAMBdLelVAAABeS9eolpG4EAAAAVAZ6ldEX/AAADAAADAAADAAADAAMCAAAAFQGep2pF\n",
       "/wAAAwAAAwAAAwAAAwADAwAAAChBmqxJqEFsmUwIT//98QAAAwAAAwAVjdYzdADmwxL7OFbAAAAD\n",
       "ADFgAAAAG0GeykUVLG8AAAMAAAMBdAcKqAAAC8Kx+FuLeQAAABUBnul0Rf8AAAMAAAMAAAMAAAMA\n",
       "AwMAAAAVAZ7rakX/AAADAAADAAADAAADAAMDAAAAKkGa8EmoQWyZTAhP//3xAAADAAADABWBzmO0\n",
       "n+IA5QWanlBmtgAAAwABiwAAABtBnw5FFSxvAAADAAADAAADAAADAYgY7eRhWkgAAAAVAZ8tdEX/\n",
       "AAADAAADAAADAAADAAMCAAAAFgGfL2pF/wAAAwAAAwHOqYOAAAADAW0AAAAkQZs0SahBbJlMCE//\n",
       "/fEAAAMAAAMAFY3V/YACImYEAAADAAOCAAAAHEGfUkUVLG8AAAMAAAMBdLelVAAABeS9eolpG4AA\n",
       "AAAVAZ9xdEX/AAADAAADAAADAAADAAMDAAAAFQGfc2pF/wAAAwAAAwAAAwAAAwADAwAAAChBm3hJ\n",
       "qEFsmUwIT//98QAAAwAAAwAVglK57mEvI8ElcbdIAAADAAaNAAAAG0GflkUVLG8AAAMAAAMAAAMA\n",
       "AAMBiBjt5GFaSAAAABUBn7V0Rf8AAAMAAAMAAAMAAAMAAwIAAAAVAZ+3akX/AAADAAADAAADAAAD\n",
       "AAMDAAAAIUGbvEmoQWyZTAhP//3xAAADAAADABWWpSsfAAADAABiwAAAABtBn9pFFSxvAAADAAAD\n",
       "AXQHCqgAAAvCsfhbi3kAAAAVAZ/5dEX/AAADAAADAAADAAADAAMDAAAAFQGf+2pF/wAAAwAAAwAA\n",
       "AwAAAwADAgAAAClBm+BJqEFsmUwIT//98QAAAwAAAwAVgctOVWAEVJ7lGImtbAAAAwADFwAAABtB\n",
       "nh5FFSxvAAADAAADAWvHh0AAAICnEjLqW8kAAAAVAZ49dEX/AAADAAADAAADAAADAAMCAAAAFQGe\n",
       "P2pF/wAAAwAAAwAAAwAAAwADAwAAACJBmiRJqEFsmUwIT//98QAAAwAAAwAVlqUV9YysAAADAAMW\n",
       "AAAAHEGeQkUVLG8AAAMAAAMBdAbi+XgAAAfDVDXba6EAAAAWAZ5hdEX/AAADAAADAcQsGAAAAwAC\n",
       "gwAAABUBnmNqRf8AAAMAAAMAAAMAAAMAAwIAAAAqQZpoSahBbJlMCE///fEAAAMAAAMAFZOxBYAI\n",
       "2SvapCICJHlYAAADAAYsAAAAHEGehkUVLG8AAAMAAAMBdCy9mXgAAAfC49poZFsAAAAYAZ6ldEX/\n",
       "AAADAAADAc/wpMWAAAADAIWAAAAAFQGep2pF/wAAAwAAAwAAAwAAAwADAwAAACFBmqxJqEFsmUwI\n",
       "T//98QAAAwAAAwAU/bRiAEAAAAMAOaAAAAAcQZ7KRRUsbwAAAwAAAwFsIvXHQAAAgJWvUS0jcQAA\n",
       "ABUBnul0Rf8AAAMAAAMAAAMAAAMAAwMAAAAVAZ7rakX/AAADAAADAAADAAADAAMDAAAAIEGa8Emo\n",
       "QWyZTAhP//3xAAADAAADABT36UAEAAADAAObAAAAHEGfDkUVLG8AAAMAAAMBa7elVAAABgwQvg6l\n",
       "vIAAAAAVAZ8tdEX/AAADAAADAAADAAADAAMCAAAAFQGfL2pF/wAAAwAAAwAAAwAAAwADAwAAACFB\n",
       "mzRJqEFsmUwIT//98QAAAwAAAwAVBXJYAEAAAAMAOaAAAAAbQZ9SRRUsbwAAAwAAAwFrBwqoAAAM\n",
       "EEn4W4t5AAAAFQGfcXRF/wAAAwAAAwAAAwAAAwADAwAAABUBn3NqRf8AAAMAAAMAAAMAAAMAAwMA\n",
       "AAAnQZt4SahBbJlMCE///fEAAAMAAAMAFQUcOp0AOiRsNJ8AAAMAAGVBAAAAHEGflkUVLG8AAAMA\n",
       "AAMBawLVVAAABggk/C3FvIAAAAAVAZ+1dEX/AAADAAADAAADAAADAAMCAAAAFQGft2pF/wAAAwAA\n",
       "AwAAAwAAAwADAwAAACFBm7xJqEFsmUwIT//98QAAAwAAAwAVBqI+AIAAAAMAc0AAAAAcQZ/aRRUs\n",
       "bwAAAwAAAwFrAtVUAAAGCCT8LcW8gAAAABUBn/l0Rf8AAAMAAAMAAAMAAAMAAwMAAAAVAZ/7akX/\n",
       "AAADAAADAAADAAADAAMCAAAAKUGb4EmoQWyZTAhP//3xAAADAAADABTx0cbmvACvMLlufBMAAAMA\n",
       "AFJBAAAAHEGeHkUVLG8AAAMAAAMBawLVVAAABggk/C3FvIEAAAAVAZ49dEX/AAADAAADAAADAAAD\n",
       "AAMCAAAAFQGeP2pF/wAAAwAAAwAAAwAAAwADAwAAACZBmiRJqEFsmUwIT//98QAAAwAAAwAVA6yq\n",
       "0EpCIRN1wAAAAwCVgAAAABxBnkJFFSxvAAADAAADAWsC1VQAAAYIJPwtxbyBAAAAFQGeYXRF/wAA\n",
       "AwAAAwAAAwAAAwADAwAAABUBnmNqRf8AAAMAAAMAAAMAAAMAAwIAAAA3QZpoSahBbJlMCE///fEA\n",
       "AAMAAAMAFPcxx/gGqkfx9W6kRHAC69ZCSRZd4gJ0iCqqS4AAAAMBKwAAAB5BnoZFFSxvAAADAAAD\n",
       "AWsCx0K4AAADAsxSbr7GT4EAAAAVAZ6ldEX/AAADAAADAAADAAADAAMCAAAAFgGep2pF/wAAAwAA\n",
       "AwG6kVaAAAADAYEAAAAhQZqsSahBbJlMCE///fEAAAMAAAMAFGfD7ECAAAADAHXAAAAAHkGeykUV\n",
       "LG8AAAMAAAMBa5156RIAAAMAbsFLGdq6EQAAABUBnul0Rf8AAAMAAAMAAAMAAAMAAwMAAAAVAZ7r\n",
       "akX/AAADAAADAAADAAADAAMDAAAALUGa8EmoQWyZTAhP//3xAAADAAADABRnMeCYAT2c8gehpNXD\n",
       "T0CAQAAAAwA64QAAAB5Bnw5FFSxvAAADAAADAWwpyEakAAADAN1l64zTJ8AAAAAVAZ8tdEX/AAAD\n",
       "AAADAAADAAADAAMCAAAAFQGfL2pF/wAAAwAAAwAAAwAAAwADAwAAACFBmzRJqEFsmUwIT//98QAA\n",
       "AwAAAwAUdRJHltgAAAMABnwAAAAeQZ9SRRUsbwAAAwAAAwFsKcdUbgAAAwCzeeuM0yfAAAAAFQGf\n",
       "cXRF/wAAAwAAAwAAAwAAAwADAwAAABUBn3NqRf8AAAMAAAMAAAMAAAMAAwMAAAArQZt4SahBbJlM\n",
       "CE///fEAAAMAAAMAFG2/3hcAI2g9/SFNtuHAEAAAAwAOuQAAABtBn5ZFFSxvAAADAAADAV4VhXAA\n",
       "AB0ncFFHpG4AAAAXAZ+1dEX/AAADAAADAbqwMtAAAAMAMCAAAAAVAZ+3akX/AAADAAADAAADAAAD\n",
       "AAMDAAAALkGbvEmoQWyZTAhP//3xAAADAAADABR4wHvc4AR07BNCBH0jOEzXO2AAAAMAGfAAAAAc\n",
       "QZ/aRRUsbwAAAwAAAwFhQEfPcAAAHT//SnIkbgAAABUBn/l0Rf8AAAMAAAMAAAMAAAMAAwMAAAAX\n",
       "AZ/7akX/AAADAAADAbme2HAAAAMAMCAAAABHQZvgSahBbJlMCE///fEAAAMAAAMAFPiJKiU/khAC\n",
       "wTWVOBuu4yQpyJOW7qAQE1cFy4QvD24qfrnnQgPGHOEUL7AAAAMANuEAAAAgQZ4eRRUsbwAAAwAA\n",
       "AwFeARCfL0r1AAADAEKT8mWQbaUAAAAVAZ49dEX/AAADAAADAAADAAADAAMCAAAAFQGeP2pF/wAA\n",
       "AwAAAwAAAwAAAwADAwAAAEtBmiRJqEFsmUwIT//98QAAAwAAAwAUdq1dMANiqybYVTjqF6gi2WT1\n",
       "rL9crweV/af47Uc5Q9iI7rDUCmVv7NOF7La96UKAAAADAyoAAAAgQZ5CRRUsbwAAAwAAAwFhqYJX\n",
       "lBHyu9AAAC/dHZqwFvEAAAAZAZ5hdEX/AAADAAADAbDKtspqIsAAAAMBXwAAABcBnmNqRf8AAAMA\n",
       "AAMBr5icwAAAAwAVMAAAACtBmmhJqEFsmUwIT//98QAAAwAAAwAT3cTuFe4D5g3bWu9V+Ii4AAAD\n",
       "AAu4AAAAIEGehkUVLG8AAAMAAAMBWbOFFbJJyAAAAwIjKe3gx+hBAAAAFQGepXRF/wAAAwAAAwAA\n",
       "AwAAAwADAgAAABUBnqdqRf8AAAMAAAMAAAMAAAMAAwMAAAA6QZqsSahBbJlMCE///fEAAAMAAAMA\n",
       "E9Zy7gP4Ux2JklXlfQvex2bF1N3hYmnksUrPANtHVwAAAwABdwAAAB1BnspFFSxvAAADAAADAGu9\n",
       "AhnXoAAA2ZveH7ZbyQAAABgBnul0Rf8AAAMAAAMAhlMh9sAAAAMAa0EAAAAVAZ7rakX/AAADAAAD\n",
       "AAADAAADAAMDAAAAOEGa8EmoQWyZTAhP//3xAAADAAADAAZIgnfLyMAEBduAA5DNrqJg0Pudbjpd\n",
       "cQpoS7UwAAADABDxAAAAKEGfDkUVLG8AAAMAAAMAbHPHAAkIUhr/5EcdAS39LgAADAaZV07i3kAA\n",
       "AAAVAZ8tdEX/AAADAAADAAADAAADAAMCAAAAFQGfL2pF/wAAAwAAAwAAAwAAAwADAwAAAHVBmzRJ\n",
       "qEFsmUwIT//98QAAAwAAAwAGTFphHSQA5Xl0gfWwtpjzpWFd4GOG0vJiW0VP1dSoX+zPYsPAkOK7\n",
       "hxFxULLv4qkd3lymltzOtr7mOBNY3k655OXsg+ENXMEzvLZ3eKYdgeMCSv46ShSFFGVg7vN4+4AA\n",
       "AAAdQZ9SRRUsbwAAAwAAAwBrkWMqi8AAANf0w83ORbAAAAAWAZ9xdEX/AAADAAADAIMPbgAAAwAD\n",
       "bwAAABYBn3NqRf8AAAMAAAMAhvoGAAADAAIPAAAARkGbeEmoQWyZTAhP//3xAAADAAADAAZNVrDi\n",
       "O8AbdEDJpJRrV2UzLM+Gmb1FDmzR88c2jaOhCXa3D5cf987rdJgAAAMACHkAAAAoQZ+WRRUsbwAA\n",
       "AwAAAwBr/cEABMt6tTgLz0ZDtepLgAADAg/iljYG4AAAABUBn7V0Rf8AAAMAAAMAAAMAAAMAAwIA\n",
       "AAAVAZ+3akX/AAADAAADAAADAAADAAMDAAAAJUGbuUmoQWyZTAi/+lgAAAMAAAMAS/DMQAaefky0\n",
       "VrYAAAMAAUEAAA/4ZYiEADP//vbsvgU1/Z/QlxEsxdpKcD4qpICAdzTAAAADAAADAAADACpHOfTm\n",
       "4+L2i0AAAAMC2gCvAjEX+F1sQrgAhp0Uyvi2PNUyeFx0ZZ8+nL85e14WYZYZ/q/QnGf5fOYKBs+Q\n",
       "XJNtJJRTTcAAuyOBozQq/DBcxQVMMIxTYQyXFmSQQ7owW8JiRIReuXeby2Oj5kYsWQy54/sAVnd0\n",
       "rH15MjKeYiOE8zpjfjguJS+TEwmbGUpg/j6I613Un8lsP6vrsjbqiY6S9un1lDNnYGcOLiT6ERYE\n",
       "LeANkCZyeUXDwJXHy4hq9K9+GAPafuxBomz9nwkJs6Bm4lBQiH9HM/W0TkikrwUfK+JPmHiFND/j\n",
       "kNW3jYZPgHU/7OdQwTH8nruPtLUF0zib1j9twZSTmWVNc/tPSBeT7HJ/7WlHGf/9SORPZiyqk9Ef\n",
       "A+TQh6M/4C1FC6yXHSAFR3ArvDl7razwpRaqd1/EYYu+vSH1m5xUbCcDWqyH1+sKWkM+wGCHRMU5\n",
       "9DCJANZfIV6b3rIIFQYjlKlwDEEVf+k5IVWKG1nrw1FIIMKfkG04Ul+7MLU6cVSp5kFJUrLoCS9R\n",
       "sW88Cx1sy2zi44MhIrUx+wuH03fhH0DIOravluwb/8WIjICWVA1s+/+WpEZieNAOtqOI2fGtOoup\n",
       "w+hXyucndXDKUm2sLOIKXG99ER6V90zcvZEJ7Jh6CeL4rtp8cwFil+mcoPQdG2DOB2ltSCHG1r4q\n",
       "wfI1BOZkdx0Vgor4+VS58bJCEQ4oalGdpWDeJJiSQ/svwwabyDHRHHvaQKkXY1MJD7yvQ+6JGBR0\n",
       "QOk5Lnv/feYTov6u3Bc4Jzx5qq6+iGxfFC1bMBXBwflLdFqkjp9Wu6JA0v/gpj7X2g7tllf0SLkb\n",
       "pBlk0p7Q5jvHMbaece9jvXMiQFQdj1f6FLH3lNQccWFJcfckGpuGlu/95VqZTe3fwmTH2sC7JQRS\n",
       "L2iTvDkHW1PvEByhnXwr9+UMjYVbDojcNQ7tyMoHMkKbcK6C6kfCiGtYPLR2XJIeRTgcOLx0GZX5\n",
       "MTKIp2LTt9qX6DCUHR+obzYecmsZlrPAopWlr2zHinQhVGkqIhWcyO0DznrN8hEqy55UvaBOJgvj\n",
       "W/R95o6VxvFsBiMevEGVOMNgdINPT0mr/RXdIt4kjQpyWktqJDmhe3XIDk5T40FtswdA4jVRgvP4\n",
       "RWDbUhzkxRdpLW3DsXGtZXERSOoX+6r/ZdmG9d66kGurApy+Ho1cKkFcvq4cn1iBPek6/NP0R2Od\n",
       "3NHcRRvFFLrE9Mt0/eQR0IgbqXGiGIqDi60vnSXvIwBHhB9j/QF8ds+ZVpEzl7W0C2v07sr1R5iB\n",
       "s/ylgowOmtS/0wcbY/ivXmtKumxdnkeX9ahlmlCP6EYSLj4OUh/OdgWL73V7s6m0afYi05/1Dqcv\n",
       "WyoZs/nOrWpF4Rzf3PHAIgnmEb+F2pHTl8RvQSy8J9vuIXLDdZq8HhiVZXMfvdlzy5wkhkK98xaN\n",
       "nougDoTYCZ2M97b33hP70TzbUvRSBSXKcaDdpJvFSJub8NdCpejBndux3uCwjeEzpfGumGcf6rdW\n",
       "uBZT9+2/zjeZUE/ArDXw5m96L8mpjOf2/Rv6ZSRQRxpkHMa4SFdsrv7NHszV7+S+RwW4H9RMpz8F\n",
       "guD2F+we77y5cZ0Rj/GkfYhSTOzYEMu1BamxbVXBRS0OItUiqC1F6e0bCPNEcxMr5kiuk6RgPTF5\n",
       "wmCgFXo0R34f9Ndgjyta4yhEbGRPg5VtsHmRmR3PqNDtyrbvAOnbMSMoKgpYJshtaOwk9DfYw25B\n",
       "pJ3kCYV83KXjjGIAzDXC5+Xx3gavh9j3zYwMvvOcHOJgNyBfw8yEXw5Krm2IWdtyBQzcY4vvAmti\n",
       "vH8C3vS8i/w+A5+eYZP1mQYvZTRT7EdsXs+vzmZugeRP+Pz1thnBLfkXEHQNIVlkqBLtZiT1zY1D\n",
       "gH0O2pxWglYGJ/W+RpL0eyuxwBycuC3Ypg7VPZW46z3RjnCFTsAQDXYZf2FZ+5Gp3iv/n0zVWKCP\n",
       "hzZqXa5fcnJti8lhpSUYf4eXUlCV3OdEkKY0l++6W7hqutf9QXgHJzE8uh3uQQ/hY2lnkjG57niw\n",
       "/4i1gmzlHjT9NfhpugUu9naOVKuM938u8c3unAZC4ZMzYj4ckAFuUDR+isZMrvvEsGhtH2K+IUK6\n",
       "Oy+KORowA/FP6IwbjaPvjhI0H4PNQXpIRpkk5VDkBCDVVnG0k4+rnTDJYwjZOSwMDSoG+GSuyUhJ\n",
       "3X1jDtEZYetGVvM2Rsmy7yyJhRVKU0G9BuQYvsoIiBjZbSN7igiKLqZuYSZZCJ664u8czzLuicEJ\n",
       "36x2iKRwdxTZxImf7w6olmvklLE4xB6ZltKE7Dd+cpaUfi9kHtdv95LSt4HyYNHADw5MiXXKyKl2\n",
       "HwGB//gt5NLC5Fql4RQTGD09nfnRcw/gkNJNO39jqBtWOtJFTddOiiLJfpgMSq9V1U0XiE5578zp\n",
       "G44qhq/YBUzxg6ck/2VJp7Jmiog9TyIP2of+IUvSWl6RwY0lcXfWfg2whXJNFG2DJ4kNrLIRGJwD\n",
       "D4jx7c3Fg+kvMIwsnD7i+LkqdNo3LSmDMmOTOsmMhwsazUJ7/1hSpDD8SS5GjGwx5O4EEkqj4AAA\n",
       "AwBnVRE+Foh9Yijt3W+Wwdn8r1G+GhXHKWtnJdP58oe1ka4dVp8l2hBKrEAg1XEDf+FJzToqHrIy\n",
       "bhvww6oMZBCrnNEC6Ycx3KTN6ZaEabmYZAAYPNw93Tvka9D2cSyImsAu2KpIqW4FfZhhdb39cMfw\n",
       "LP8MjtFg+/r5plxNAo/K089bQ8hFTZLD3MgOz4SKGiXidyQl5VUEWtaMrXodNDt5NjqGg89Cbchi\n",
       "/xMuCjdYeaYR7JvmJmPG561M3B3j3s+Qj8XX2ex2JezdSY5w07FBBBt9wavER/8+UU77jNEA92Bf\n",
       "rJ7efwE9FbASTy+kbE7vMmWNnW9YuS1oEsuwQuniYpdl7s8DmoAozMz/hMsmNNQRPl07IwPm1fsn\n",
       "sPPTQARzBKLRc9R0xAFYQd6mUxN37zN1OHEAMwEd8xAp40nWBQis14J+a3kCzoakBQZx9oSq6Zq5\n",
       "Kv1VcyodhoHr8oi2fk/c99o7tPcPz63EIw55itnnIbrqN8dcfngpg9ad1d3S5XUZ+7ySApGqw2L9\n",
       "AqlWs5Q3i4DI3uXqr9SxE5vGl8k6ABlgshgAX0xNQM+wzAJGW8wO6VzghMh8sa+E/Y0tCevW1icw\n",
       "PQ0xGkacbxUtOnXyElohCGY0PKO4v/6+L3+oBBGCGk/x/N45GtG6acDUVwn400hQoDhD9+JqPyye\n",
       "bTy0ngzm07spF2ShQmuI/Klj+kfew+t0w++5qTh0v/zTiIcQ0+G9unE5vukpTIQNazaGvaZnTnav\n",
       "JqOjJN+iK0Ka80YTTU0IAfu5i5aPoAfpbqhdTkCLk+/sjiz3H34hjS5ms/U2W1t+5LSpT75CeV6e\n",
       "AL7BXUayhAutu+EhrMRoWpfh/TL17xwJAtKQyO4YpfQTQGq89EUr9+W7Vr66aROPZpxeqpZCiDa9\n",
       "JB0oVgD1d4RsI9ZXUpOKeD3Szmm3cz5FUatK8/at+V9C0uxikEeitf6rVI0/u+/Zcu6iqF0HkET3\n",
       "+r2DjFK0wptfK8xtYSNmKhBe/gTpxOD8yp/0spIZk2CHiEUfGmtD0CBv3keu2voXIuGY6WZ4p/SG\n",
       "JgBTGVn4ZDXv5fjkXCDfrREZci5fhDNyT8yuPlEiM8wHZghA5ZDc/RE5Ftd0u3gZkhjvTVZBOIxA\n",
       "jcejT/wXzTUu7tDlSUf8yh9E4QsSFIpizFQtq2ONknO9FpvBqFTt3ld20B6wWJyVLwwQaeNYKx4B\n",
       "LORC0PYvjunPoe699amf9oSlUWgJYKIyLBq83mwRGNvavaqxcqEpPsy0ULmgJ4MX0BJiIuKP4kbv\n",
       "JhpsKFbm3K5+JFdcDwCsvOmAOwukCs2LaM6JXGUbjfeJJq0YSrOfieOIHbBVWQbMV83kMdVctmK0\n",
       "TuSAFyUPqtllh85eF1JQoNz9ko3kV1ZpX3Mlz1HBlOGb8v15o8HyEoTnpo+tUQGdY/r574IERuO0\n",
       "9OMfIL7PWPqPAV/jyl9UiOhRJQdRd6PpOuFyw4gEiRmZmB+kjpCXTj7P/TtErvAs4AAJUpETTqMQ\n",
       "oPsXSTXS1Hai5/geOdfJSwRAAAADAAADAAeoCzD9vNepaKBogTIDKAdQh8JooAFBLhIf/zCWw4Fc\n",
       "lyReTXYwFzt+/pgInzj0viBUkLAADa03NMIuCCn/O9rvDeJMVtLFTlHVVzb1Kq6fH6tJe4rANiJM\n",
       "s2MwV/IEhCcpMNGRUBrx2rzK5U1dYn3r4C7XE8TuQACl0xQAKGAJgMKt2Ac/B4Bnq1oGohVLPGYF\n",
       "pi8Ydx/3e/5v6i3go8a9wBnbGrHVyVpHEhxCHShPwQWIGJ5ZpQkqZQp7Pj+BwxtehKWci9eaBMCW\n",
       "YDKeIJu1zr1ARkPazV+W2VSbFCWew4pOQBRCFIAOzuwBdzdUTGI80TfiRVKVzSup+/3J1fb2kR0/\n",
       "e6UKdUkIFHKPbgVwlPZTpJQ33MT769CReE2S0/JpqVI+i3O5ZNeKqfdMCRnYNQtuKe1I12fVB6NC\n",
       "wxdPltgnZ17qqkVtmGZqdPHmtp1nz+oR5XhlInZMKycCHp6x7pZCEdA9bW3yZ91utLzmp7lbL6pY\n",
       "k2RVgjU++qjoaaRo6KTnbsUGRzGdgohzWBhFKlQYaD7vBhdut7imF3ZhQEvL8JBTXWAHMYUf29sI\n",
       "eM/K+hi7Bd9Uotbq8Xh8gyKIgBUwNZePzsig1L5f0Avtj9LwQI56nSICxOYVeyOCyMIgUUd64EEF\n",
       "MdC4pcLia52AAAmsbmnzv+CxB62YMoxqclLxUQ5zOUhImdgMbhxglyccMl/unA4xd9sIK8wsUcgj\n",
       "PUTg9xlYKTPawMsEFGO9bf5lSHgSRzWOXxf88zNUdSjAYe4RvJp+bUctN7T4WxAM3yHKB9kUxL+p\n",
       "WnxXVSOqM82fvLoiYU2yR5y3PZDfvml/+pPo2juejPR8gVkyohYF8tmJnCYYIEYwKNRM342NIiqq\n",
       "oH8d+drENm8BLP01BhQyTxYDF2c3jnTTeYn1wQzwuyViUNB/2qGGAkMGujRxM95QkQqA2LDW10bE\n",
       "VQCLcvDicR6B6UZ7AxpLu/8th1BQByLOSPqd5DMYB3jhphRr50mt6rm4MBPFXqNJZ8CSjqJQXrdv\n",
       "/+wNwjCSB8zGXFSM5dMUOIG3e5BqZC/oXw/4wi44hBaqbUcnOUNQ8ZPKxhCZ4ZSnw/e6sGl9Q3HX\n",
       "pj9wrkIYwkLGON56SRYfi6wVgNiAiANEr9/+/VhqzO5WxaLM7CpA9z1r1w7ooPQtVBQBltRWBhFz\n",
       "JwezxX6mlET6ekr1GC6XwiDxTBBwQWdwH4rWO+IDQD4rYfIoU6tKUYIbIBLwAAADAAADA34AAABV\n",
       "QZokbEJ//fEAAAMCkexFkZozfRAIynVUTWTl8MAUk6jx8G+uX7yUMX3hNsiL/wXuyUjqNZlwrVg7\n",
       "ik+XYAJUC+bzBXDaaNoZ5+s0GylrAauPqZthqQAAACxBnkJ4jf8AACxF++sL1xHn4ojpPb3RWWnT\n",
       "L/auAYIeRkGmNHAX5EoKaABCwAAAACcBnmF0Rf8AADcvO2AgULBmVMn4+xoorndjqqZ+Kyad+lEN\n",
       "ayMIIZUAAAAaAZ5jakX/AAADAAADA3Oqy60LOWeQHeAAHLEAAABFQZpoSahBaJlMCE///fEAAAMA\n",
       "AAMABm1KfANXt6YE6G/8UqOOVgoi8ctSEcKdp4gBtaijA/6mss022HbDHYEpAAADAAiYAAAAKEGe\n",
       "hkURLG8AAAMAAAMAbrJSPmAB+d1qEKWkrGsouQAAAwLeCZrkoQUAAAAZAZ6ldEX/AAADAAADAFh4\n",
       "JBc38gAAAwAPuAAAABgBnqdqRf8AAAMAAAMAivoiZXFbgAAACvkAAAAsQZqsSahBbJlMCE///fEA\n",
       "AAMAAAMABnRPjnLgBHqx7U+Wk4DfLwEAAAMAAvcAAAAgQZ7KRRUsbwAAAwAAAwBuRAmW8UkWNOAA\n",
       "AHJ4139IyfAAAAAYAZ7pdEX/AAADAAADAIpmGAzwAAADABowAAAAGAGe62pF/wAAAwAAAwCKZeoS\n",
       "3AAAAwAGjQAAAC5BmvBJqEFsmUwIT//98QAAAwAAAwAGdVax1I8ALAMSf5jMxb5ECse2AAADAAUk\n",
       "AAAAH0GfDkUVLG8AAAMAAAMAbg6SAIHzT/oAAC6Vlr4NBb0AAAAVAZ8tdEX/AAADAAADAAADAAAD\n",
       "AAMCAAAAFQGfL2pF/wAAAwAAAwAAAwAAAwADAwAAADxBmzRJqEFsmUwIT//98QAAAwAAAwAGa0f2\n",
       "cuNhMAHSE6gEcJ07T0HRvMXGbionRddHC+I2yZYAAAMABhUAAAAdQZ9SRRUsbwAAAwAAAwBt9S2+\n",
       "L0AAAaoKPfYYt5EAAAAVAZ9xdEX/AAADAAADAAADAAADAAMDAAAAFQGfc2pF/wAAAwAAAwAAAwAA\n",
       "AwADAgAAAClBm3hJqEFsmUwIT//98QAAAwAAAwAGa2TA/iOABnLz71eLYAAAAwBSQAAAAB1Bn5ZF\n",
       "FSxvAAADAAADAG4BVXyjoAAA1Jt4gvi3kQAAABUBn7V0Rf8AAAMAAAMAAAMAAAMAAwIAAAAVAZ+3\n",
       "akX/AAADAAADAAADAAADAAMCAAAAP0GbvEmoQWyZTAhP//3xAAADAAADAAaf+4OdhCPgsEHdHtcH\n",
       "JGnwpVpyIPj7nq2vXK8AEkxsRQVmigAAAwAhYQAAABtBn9pFFSxvAAADAAADACKuYdAAAVNVxotx\n",
       "byEAAAAXAZ/5dEX/AAADAAADAC1+mDQAAAMAAr8AAAAYAZ/7akX/AAADAAADAIp9r9CKoAAAAwKK\n",
       "AAAAOUGb4EmoQWyZTAhP//3xAAADAAADAAZrZMCOa0wAoAlgiGCYVZCbbcNvmPpji2YuAhYSlwAA\n",
       "AwAHhAAAAB1Bnh5FFSxvAAADAAADAG3oMc1HQAABqgdhsBi3kQAAABUBnj10Rf8AAAMAAAMAAAMA\n",
       "AAMAAwIAAAAVAZ4/akX/AAADAAADAAADAAADAAMCAAAAJ0GaJEmoQWyZTAhP//3xAAADAAADAAac\n",
       "VEC+AaqHnp8RvgAAAwACgwAAABxBnkJFFSxvAAADAAADAHEYFH0AAAZ8JPwtxbyAAAAAFQGeYXRF\n",
       "/wAAAwAAAwAAAwAAAwADAwAAABUBnmNqRf8AAAMAAAMAAAMAAAMAAwMAAAA7QZpoSahBbJlMCE//\n",
       "/fEAAAMAAAMABpSuErgCEIp90Eq+unyOGciSxb5NO5qx7cqUJBc1mXag2qAABrQAAAAcQZ6GRRUs\n",
       "bwAAAwAAAwBxGBR9AAAGfCT8LcW8gQAAABUBnqV0Rf8AAAMAAAMAAAMAAAMAAwIAAAAVAZ6nakX/\n",
       "AAADAAADAAADAAADAAMDAAAAM0GarEmoQWyZTAhP//3xAAADAAADAAaUsjQgBeuy3gGqem4pk6Ky\n",
       "bx1y9F4IoAAAAwB3QQAAABxBnspFFSxvAAADAAADAHEYFH0AAAZ8JPwtxbyAAAAAFQGe6XRF/wAA\n",
       "AwAAAwAAAwAAAwADAgAAABUBnutqRf8AAAMAAAMAAAMAAAMAAwMAAAA3QZrwSahBbJlMCE///fEA\n",
       "AAMAAAMABpiFTc4Ag4VUkPCyW1m5ozaGIJvYgrROtr1PllyAAAAF3AAAAB5Bnw5FFSxvAAADAAAD\n",
       "AHEYFAR22q4AAA/oLOtMP0MAAAAVAZ8tdEX/AAADAAADAAADAAADAAMCAAAAFQGfL2pF/wAAAwAA\n",
       "AwAAAwAAAwADAwAAACRBmzRJqEFsmUwIT//98QAAAwAAAwAGmCMJCdDTnXAAAAMAy4EAAAAeQZ9S\n",
       "RRUsbwAAAwAAAwBxGfBMyyMoAAB/AP1SYf0JAAAAFQGfcXRF/wAAAwAAAwAAAwAAAwADAwAAABUB\n",
       "n3NqRf8AAAMAAAMAAAMAAAMAAwIAAAAlQZt4SahBbJlMCE///fEAAAMAAAMABpMzl3oKtqvmQAAA\n",
       "AwCrgAAAAB5Bn5ZFFSxvAAADAAADAHDY6QnF+BAAAA0IVh9VIFsAAAAVAZ+1dEX/AAADAAADAAAD\n",
       "AAADAAMCAAAAFQGft2pF/wAAAwAAAwAAAwAAAwADAgAAAC1Bm7xJqEFsmUwIT//98QAAAwAAAwAG\n",
       "mCPtYUZB9fAMkTPzp8yX0uAAAAMAi4EAAAAbQZ/aRRUsbwAAAwAAAwAkvtHoAAChFpTl1LeRAAAA\n",
       "FwGf+XRF/wAAAwAAAwCPA2VyPYAAABFxAAAAFgGf+2pF/wAAAwAAAwCOfZ2gAAADAScAAAAwQZvg\n",
       "SahBbJlMCE///fEAAAMAAAMABpgj/4YAI9RqFxwCLQ42I8I5jyq4AAADACLgAAAAIEGeHkUVLG8A\n",
       "AAMAAAMAcRnyugKdzMl3gAAJcSGsClFtAAAAFQGePXRF/wAAAwAAAwAAAwAAAwADAgAAABYBnj9q\n",
       "Rf8AAAMAAAMALpnRgAAAAwGLAAAATEGaJEmoQWyZTAhP//3xAAADAAADAAa8t1pDj5OvItoTyzpw\n",
       "wljvyumqx46Zk9Mb0jzLkCdW1AKw57sY12S7tqdVf9eRnw3KgBaYb2EAAAAdQZ5CRRUsbwAAAwAA\n",
       "AwB0HhAoQKAAAfDojbAP6EAAAAAWAZ5hdEX/AAADAAADAC57+tAAAAMBxwAAABkBnmNqRf8AAAMA\n",
       "AAMAkyr6GTW4AAADAFbBAAAAMkGaaEmoQWyZTAhP//3xAAADAAADAAa+LNxQAUe888NVeTeKDtCe\n",
       "JK3UC8IUAAADAA6YAAAAHUGehkUVLG8AAAMAAAMAc9nxFwxAAABlgFG94P0JAAAAFwGepXRF/wAA\n",
       "AwAAAwAum7MOAAADADjgAAAAFwGep2pF/wAAAwAAAwAugAdgAAADAGLBAAAAI0GarEmoQWyZTAhP\n",
       "//3xAAADAAADAAa+LEl5r6A4AAADACHhAAAAHUGeykUVLG8AAAMAAAMAdBfgXsBAAABlfM98IP0I\n",
       "AAAAFQGe6XRF/wAAAwAAAwAAAwAAAwADAgAAABkBnutqRf8AAAMAAAMAkyfQoKo4AAADAKaBAAAA\n",
       "O0Ga8EmoQWyZTAhP//3xAAADAAADAAa+mTugQBtm3hsXi38dNUt4N4DToFicuWMLof+0w7GKJ0RA\n",
       "AAXcAAAAHUGfDkUVLG8AAAMAAAMAc9nw0R0wAAEllUlMSBbBAAAAFQGfLXRF/wAAAwAAAwAAAwAA\n",
       "AwADAgAAABUBny9qRf8AAAMAAAMAAAMAAAMAAwMAAAAnQZs0SahBbJlMCE///fEAAAMAAAMABsCI\n",
       "PXwrKaABmZDyAAADAAU1AAAAG0GfUkUVLG8AAAMAAAMAJKppVQAADqbJ+FuLeQAAABUBn3F0Rf8A\n",
       "AAMAAAMAAAMAAAMAAwMAAAAVAZ9zakX/AAADAAADAAADAAADAAMCAAAAK0GbeEmoQWyZTAhP//3x\n",
       "AAADAAADAAbBK8i7AC1eKlSC2NZnpFIAAAMABTQAAAAdQZ+WRRUsbwAAAwAAAwBz2fDRHTAAASWV\n",
       "SUxIFsEAAAAVAZ+1dEX/AAADAAADAAADAAADAAMCAAAAFQGft2pF/wAAAwAAAwAAAwAAAwADAgAA\n",
       "ACJBm7xJqEFsmUwIT//98QAAAwAAAwAGvL2cIuouAAADAA5ZAAAAG0Gf2kUVLG8AAAMAAAMAAAMA\n",
       "AAMBiBjt5GFaSQAAABcBn/l0Rf8AAAMAAAMALpGswAAAAwDFgQAAABcBn/tqRf8AAAMAAAMALqZG\n",
       "cwAAAwADFgAAACZBm+BJqEFsmUwIT//98QAAAwAAAwAGwCgfA4g9gATLZIAAAAMBTQAAABtBnh5F\n",
       "FSxvAAADAAADACSqaVUAAA6myfhbi3kAAAAVAZ49dEX/AAADAAADAAADAAADAAMCAAAAFQGeP2pF\n",
       "/wAAAwAAAwAAAwAAAwADAgAAADNBmiRJqEFsmUwIT//98QAAAwAAAwAG5oHCoYbBW1Os/aglMDxa\n",
       "cIAzFxkOnyfAAAADA2sAAAAcQZ5CRRUsbwAAAwAAAwB2pXQ/kAAACoFJuvsZPgAAABUBnmF0Rf8A\n",
       "AAMAAAMAAAMAAAMAAwMAAAAVAZ5jakX/AAADAAADAAADAAADAAMDAAAAI0GaaEmoQWyZTAhP//3x\n",
       "AAADAAADAAbALM3zlc/IAAADABTQAAAAG0GehkUVLG8AAAMAAAMAJKvA4AAAF+CT8LcW8wAAABUB\n",
       "nqV0Rf8AAAMAAAMAAAMAAAMAAwIAAAAVAZ6nakX/AAADAAADAAADAAADAAMDAAAAI0GarEmoQWyZ\n",
       "TAhP//3xAAADAAADAAa8vZvpgCjgAAADAIeBAAAAG0GeykUVLG8AAAMAAAMAJKvA4AAAF+CT8LcW\n",
       "8gAAABUBnul0Rf8AAAMAAAMAAAMAAAMAAwIAAAAVAZ7rakX/AAADAAADAAADAAADAAMDAAAAMEGa\n",
       "8EmoQWyZTAhP//3xAAADAAADAAblPUCwLJIts3z5Z1NxiwkitwMguAAAAwAsoAAAAB1Bnw5FFSxv\n",
       "AAADAAADAHPeB5K7gAAD4aqimJAtgQAAABUBny10Rf8AAAMAAAMAAAMAAAMAAwIAAAAVAZ8vakX/\n",
       "AAADAAADAAADAAADAAMDAAAAN0GbNEmoQWyZTAhP//3xAAADAAADAAbkvisAoGT+H4I8AF6U3z0/\n",
       "/RT/ulvRROfdhsMYehB9I1MAAAAdQZ9SRRUsbwAAAwAAAwB2yp14hdoAAAsZaHJfcHsAAAAXAZ9x\n",
       "dEX/AAADAAADAJcPZRqAAAADAysAAAAVAZ9zakX/AAADAAADAAADAAADAAMCAAAAPEGbeEmoQWyZ\n",
       "TAhP//3xAAADAAADAAbmNO7cCLsAgMLAZbSQ53GSF777K5V5anL/sXBzdM1J2lAAAAMBJwAAAB5B\n",
       "n5ZFFSxvAAADAAADAHaZ5Z8JhuMAAA31nP3NC3kAAAAXAZ+1dEX/AAADAAADAC6OMTgAAAMA44AA\n",
       "AAAVAZ+3akX/AAADAAADAAADAAADAAMCAAAAIkGbvEmoQWyZTAhP//3xAAADAAADAAbkxYjm6SQA\n",
       "AAMACikAAAAbQZ/aRRUsbwAAAwAAAwAAAwAAAwGIGO3kYVpJAAAAFQGf+XRF/wAAAwAAAwAAAwAA\n",
       "AwADAwAAABUBn/tqRf8AAAMAAAMAAAMAAAMAAwIAAAAoQZvgSahBbJlMCE///fEAAAMAAAMABuab\n",
       "wbQCJPfAFHV5cAAAAwDBgAAAABtBnh5FFSxvAAADAAADAAADAAADAYgY7eRhWkkAAAAVAZ49dEX/\n",
       "AAADAAADAAADAAADAAMCAAAAFQGeP2pF/wAAAwAAAwAAAwAAAwADAgAAACNBmiRJqEFsmUwIT//9\n",
       "8QAAAwAAAwAG6Ig9fDk0cAAAAwBBwQAAABxBnkJFFSxvAAADAAADAHbX4L0AAAYwEL4OpbyAAAAA\n",
       "FQGeYXRF/wAAAwAAAwAAAwAAAwADAwAAABUBnmNqRf8AAAMAAAMAAAMAAAMAAwMAAAAjQZpoSahB\n",
       "bJlMCE///fEAAAMAAAMABuTFiQz5OLgAAAMAYMAAAAAbQZ6GRRUsbwAAAwAAAwAAAwAAAwGIGO3k\n",
       "YVpJAAAAFQGepXRF/wAAAwAAAwAAAwAAAwADAgAAABUBnqdqRf8AAAMAAAMAAAMAAAMAAwMAAAAu\n",
       "QZqsSahBbJlMCE///fEAAAMAAAMABuqRbsXAEIcLlm4iLOnkIf4HIAAAAwBRQQAAAB1BnspFFSxv\n",
       "AAADAAADAHaeB5K7gAADy6qimJAtgAAAABUBnul0Rf8AAAMAAAMAAAMAAAMAAwIAAAAVAZ7rakX/\n",
       "AAADAAADAAADAAADAAMDAAAAKkGa8EmoQWyZTAhP//3xAAADAAADAAbkxlBgCi9sOG0UvrzvTUuA\n",
       "AAAGDAAAAB5Bnw5FFSxvAAADAAADAHZGsEyWaYAACOuLv/7QLYEAAAAVAZ8tdEX/AAADAAADAAAD\n",
       "AAADAAMCAAAAFQGfL2pF/wAAAwAAAwAAAwAAAwADAwAAAChBmzRJqEFsmUwIT//98QAAAwAAAwAG\n",
       "6CzN7iUzYCTvDi7bgAAAAwN/AAAAHEGfUkUVLG8AAAMAAAMAdvxajUAAASIrXqJaRuEAAAAVAZ9x\n",
       "dEX/AAADAAADAAADAAADAAMDAAAAFQGfc2pF/wAAAwAAAwAAAwAAAwADAgAAACJBm3hJqEFsmUwI\n",
       "T//98QAAAwAAAwAG5MWJL3TRwAAAAwEHAAAAHEGflkUVLG8AAAMAAAMAdvxajUAAASIrXqJaRuEA\n",
       "AAAVAZ+1dEX/AAADAAADAAADAAADAAMCAAAAFQGft2pF/wAAAwAAAwAAAwAAAwADAgAAAC5Bm7xJ\n",
       "qEFsmUwIT//98QAAAwAAAwAG4zOsSW20QB7JLZahP/W6rPC4AAADAGDBAAAAG0Gf2kUVLG8AAAMA\n",
       "AAMAAAMAAAMBiBjt5GFaSQAAABUBn/l0Rf8AAAMAAAMAAAMAAAMAAwMAAAAVAZ/7akX/AAADAAAD\n",
       "AAADAAADAAMCAAAAIkGb4EmoQWyZTAhP//3xAAADAAADAAbkz/BgN5XAAAADAwYAAAAbQZ4eRRUs\n",
       "bwAAAwAAAwAAAwAAAwGIGO3kYVpJAAAAFQGePXRF/wAAAwAAAwAAAwAAAwADAgAAABUBnj9qRf8A\n",
       "AAMAAAMAAAMAAAMAAwIAAAAiQZokSahBbJlMCE///fEAAAMAAAMABugxlg5zS4AAAAMCDwAAABxB\n",
       "nkJFFSxvAAADAAADAHaHCAAAAwBz9k/C3FvIAAAAFQGeYXRF/wAAAwAAAwAAAwAAAwADAwAAABUB\n",
       "nmNqRf8AAAMAAAMAAAMAAAMAAwMAAAA0QZpoSahBbJlMCE///fEAAAMAAAMABugyyfCAHOmiWr5V\n",
       "g8Fq7zePDbEKuCA6XAAAAwAQcAAAABtBnoZFFSxvAAADAAADAAADAAADAYgY7eRhWkkAAAAVAZ6l\n",
       "dEX/AAADAAADAAADAAADAAMCAAAAFQGep2pF/wAAAwAAAwAAAwAAAwADAwAAACdBmqxJqEFsmUwI\n",
       "T//98QAAAwAAAwAG6DGgggDeMj2OOXAAAAMAwYEAAAAbQZ7KRRUsbwAAAwAAAwAAAwAAAwGIGO3k\n",
       "YVpIAAAAFQGe6XRF/wAAAwAAAwAAAwAAAwADAgAAABYBnutqRf8AAAMAAAMAln2doAAAAwEXAAAA\n",
       "MUGa8EmoQWyZTAhP//3xAAADAAADAAboMskMAF9cLak5W+RF8v0Un2tZwXAAAAMAwYAAAAAcQZ8O\n",
       "RRUsbwAAAwAAAwAmvpvS8AAAlx8zkT2T4QAAABYBny10Rf8AAAMAAAMAMRlE4AAAAwNmAAAAFwGf\n",
       "L2pF/wAAAwAAAwAxInDAAAADALuBAAAALEGbNEmoQWyZTAhP//3xAAADAAADAAcTTkR38AZazDeV\n",
       "HQnIiNSlgAAAAwLvAAAAG0GfUkUVLG8AAAMAAAMAAAMAAAMBiBjt5GFaSQAAABUBn3F0Rf8AAAMA\n",
       "AAMAAAMAAAMAAwMAAAAVAZ9zakX/AAADAAADAAADAAADAAMCAAAAKUGbeEmoQWyZTAhP//3xAAAD\n",
       "AAADAAcXHVigA5AmCNZ1dDncAAADAA/wAAAAG0GflkUVLG8AAAMAAAMAAAMAAAMBiBjt5GFaSQAA\n",
       "ABUBn7V0Rf8AAAMAAAMAAAMAAAMAAwIAAAAVAZ+3akX/AAADAAADAAADAAADAAMCAAAAJ0GbvEmo\n",
       "QWyZTAhP//3xAAADAAADAAcXrJRgBCMX9B3AEAAAAwAq4QAAABtBn9pFFSxvAAADAAADAAADAAAD\n",
       "AYgY7eRhWkkAAAAVAZ/5dEX/AAADAAADAAADAAADAAMDAAAAFQGf+2pF/wAAAwAAAwAAAwAAAwAD\n",
       "AgAAAChBm+BJqEFsmUwIT//98QAAAwAAAwAHDPC4kNgCKyCh812AgAAAAwFXAAAAHEGeHkUVLG8A\n",
       "AAMAAAMAeUcIAAADAHE2T8LcW8kAAAAVAZ49dEX/AAADAAADAAADAAADAAMCAAAAFQGeP2pF/wAA\n",
       "AwAAAwAAAwAAAwADAgAAADRBmiRJqEFsmUwIT//98QAAAwAAAwAHF6ybhAFBg4iquqvAZpq5atTJ\n",
       "kkV9CCDtAAADAAl5AAAAG0GeQkUVLG8AAAMAAAMAAAMAAAMBiBjt5GFaSAAAABUBnmF0Rf8AAAMA\n",
       "AAMAAAMAAAMAAwMAAAAVAZ5jakX/AAADAAADAAADAAADAAMDAAAAIEGaaEmoQWyZTAhP//3xAAAD\n",
       "AAADAAcXrGefAAADAAEnAAAAG0GehkUVLG8AAAMAAAMAAAMAAAMBiBjt5GFaSQAAABUBnqV0Rf8A\n",
       "AAMAAAMAAAMAAAMAAwIAAAAVAZ6nakX/AAADAAADAAADAAADAAMDAAAAK0GarEmoQWyZTAhP//3x\n",
       "AAADAAADAAcXrJuEAOa3vj2WJBcy9fAAAAMAEnEAAAAbQZ7KRRUsbwAAAwAAAwAAAwAAAwGIGO3k\n",
       "YVpIAAAAFQGe6XRF/wAAAwAAAwAAAwAAAwADAgAAABUBnutqRf8AAAMAAAMAAAMAAAMAAwMAAAAk\n",
       "QZrwSahBbJlMCE///fEAAAMAAAMABxesikgDeX1+AAADAAJOAAAAG0GfDkUVLG8AAAMAAAMAAAMA\n",
       "AAMBiBjt5GFaSQAAABUBny10Rf8AAAMAAAMAAAMAAAMAAwIAAAAVAZ8vakX/AAADAAADAAADAAAD\n",
       "AAMDAAAALEGbNEmoQWyZTAhP//3xAAADAAADAAcXrJ84AQWGXXovnLe4b8tgAAADAEnBAAAAG0Gf\n",
       "UkUVLG8AAAMAAAMAAAMAAAMBiBjt5GFaSQAAABUBn3F0Rf8AAAMAAAMAAAMAAAMAAwMAAAAVAZ9z\n",
       "akX/AAADAAADAAADAAADAAMCAAAAK0GbeEmoQWyZTAhP//3xAAADAAADAAcNA3Ih9cAILGYr2Ia4\n",
       "0wAAAwAA7oAAAAAbQZ+WRRUsbwAAAwAAAwAAAwAAAwGIGO3kYVpJAAAAFQGftXRF/wAAAwAAAwAA\n",
       "AwAAAwADAgAAABUBn7dqRf8AAAMAAAMAAAMAAAMAAwIAAAAhQZu8SahBbJlMCE///fEAAAMAAAMA\n",
       "Bw0HXukmAAADAAHdAAAAG0Gf2kUVLG8AAAMAAAMAAAMAAAMBiBjt5GFaSQAAABUBn/l0Rf8AAAMA\n",
       "AAMAAAMAAAMAAwMAAAAVAZ/7akX/AAADAAADAAADAAADAAMCAAAAIUGb4EmoQWyZTAhP//3xAAAD\n",
       "AAADAAcNB3f2AgAAAwAFXAAAABtBnh5FFSxvAAADAAADAAADAAADAYgY7eRhWkkAAAAVAZ49dEX/\n",
       "AAADAAADAAADAAADAAMCAAAAFQGeP2pF/wAAAwAAAwAAAwAAAwADAgAAAC9BmiRJqEFsmUwIT//9\n",
       "8QAAAwAAAwAHDQdeabhADpEAgPeJ5IKHiDVppgAAAwAB3QAAABtBnkJFFSxvAAADAAADAAADAAAD\n",
       "AYgY7eRhWkgAAAAVAZ5hdEX/AAADAAADAAADAAADAAMDAAAAFQGeY2pF/wAAAwAAAwAAAwAAAwAD\n",
       "AwAAACFBmmhJqEFsmUwIT//98QAAAwAAAwAHDQdbCZ8AAAMAAScAAAAbQZ6GRRUsbwAAAwAAAwAA\n",
       "AwAAAwGIGO3kYVpJAAAAFQGepXRF/wAAAwAAAwAAAwAAAwADAgAAABUBnqdqRf8AAAMAAAMAAAMA\n",
       "AAMAAwMAAAAoQZqsSahBbJlMCE///fEAAAMAAAMABxewAdwCan+meJQJgAAAAwB3QQAAABtBnspF\n",
       "FSxvAAADAAADAAADAAADAYgY7eRhWkgAAAAVAZ7pdEX/AAADAAADAAADAAADAAMCAAAAFQGe62pF\n",
       "/wAAAwAAAwAAAwAAAwADAwAAAC1BmvBJqEFsmUwIT//98QAAAwAAAwAHEwOM4QA6RwjvUXveg3wR\n",
       "KAQAAAMACrgAAAAbQZ8ORRUsbwAAAwAAAwAAAwAAAwGIGO3kYVpJAAAAFQGfLXRF/wAAAwAAAwAA\n",
       "AwAAAwADAgAAABUBny9qRf8AAAMAAAMAAAMAAAMAAwMAAAAoQZs0SahBbJlMCE///fEAAAMAAAMA\n",
       "Bxcei7oAc+uYZAfmmAAAAwAHdQAAABtBn1JFFSxvAAADAAADAAADAAADAYgY7eRhWkkAAAAVAZ9x\n",
       "dEX/AAADAAADAAADAAADAAMDAAAAFQGfc2pF/wAAAwAAAwAAAwAAAwADAgAAACZBm3hJqEFsmUwI\n",
       "T//98QAAAwAAAwAHDPciTyEAbJnTAAADAADugAAAABtBn5ZFFSxvAAADAAADAAADAAADAYgY7eRh\n",
       "WkkAAAAVAZ+1dEX/AAADAAADAAADAAADAAMCAAAAFQGft2pF/wAAAwAAAwAAAwAAAwADAgAAABxB\n",
       "m7lJqEFsmUwIv/pYAAADAAADAAADAAADAAGrAAAQ2WWIggAM//727L4FNf2f0JcRLMXaSnA+KqSA\n",
       "gHc0wAAAAwAAAwAAAwAqRzn05uPi9otAAAADAtoArwIxF/hdbEK4AIadFMr4tjzVMnhcdGWfPpy/\n",
       "OXteFmGWGf6v0Jxn+XzmCgbPkFyTbSSUU03AALsjgaM0KvwwXMUFTDCMU2EMlxZkkEO6MFvCYkSE\n",
       "Xrl3m8tjo+ZGLFkMueP7AFZ3dKx9eTIynmIjhPM6Y344LiUvkxMJmxlKYP4+iOtd1J/JbD+r67I2\n",
       "6omOkvbp9ZQzZ2BnDi4k+hEWBC3gDZAmcnlFw8CVx8uIavSvfhgD2n7sQaJs/Z8JCbOgZuJQUIh/\n",
       "RzP1tE5IpK8FHyviT5h4hTQ/45DVt42GT4B1P+znUMEx/J67j7S1BdM4m9Y/bcGUk5llTXP7T0gX\n",
       "k+xyf+1pRxn//UjkT2YsqpPRHwPk0IejP+AtRQuslx0gBUdwK7w5e62s8KUWqndfxGGLvr0h9Zuc\n",
       "VGwnA1qsh9frClpDPsBgh0TFOfQwiQDWXyFem96yCBUGI5SpcAxBFX/pOSFVihtZ68NRSCDCn5Bt\n",
       "OFJfuzC1OnFUqeZBSVKy6AkvUbFvPAsdbMts4uODISK1MfsLh9N34R9AyDq2r5bsG//FiIyAllQN\n",
       "bPv/lqRGYnjQDrajiNnxrTqLqcPoV8rnJ3VwylJtrCziClxvfREelfdM3L2RCeyYegni+K7afHMB\n",
       "YpfpnKD0HRtgzgdpbUghxta+KsHyNQTmZHcdFYKK+PlUufGyQhEOKGpRnaVg3iSYkkP7L8MGm8gx\n",
       "0Rx72kCpF2NTCQ+8r0PuiRgUdEDpOS57/33mE6L+rtwXOCc8eaquvohsXxQtWzAVwcH5S3RapI6f\n",
       "VruiQNL/4KY+19oO7ZZX9Ei5G6QZZNKe0OY7xzG2nnHvY71zIkBUHY9X+hSx95TUHHFhSXH3JBqb\n",
       "hpbv/eVamU3t38Jkx9rAuyUEUi9ok7w5B1tT7xAcoZ18K/flDI2FWw6I3DUO7cjKBzJCm3CugupH\n",
       "wohrWDy0dlySHkU4HDi8dBmV+TEyiKdi07fal+gwlB0fqG82HnJrGZazwKKVpa9sx4p0IVRpKiIV\n",
       "nMjtA856zfIRKsueVL2gTiYL41v0feaOlcbxbAYjHrxBlTjDYHSDT09Jq/0V3SLeJI0KclpLaiQ5\n",
       "oXt1yA5OU+NBbbMHQOI1UYLz+EVg21Ic5MUXaS1tw7FxrWVxEUjqF/uq/2XZhvXeupBrqwKcvh6N\n",
       "XCpBXL6uHJ9YgT3pOvzT9EdjndzR3EUbxRS6xPTLdP3kEdCIG6lxohiKg4utL50l7yMAR4QfY/0B\n",
       "fHbPmVaRM5e1tAtr9O7K9UeYgbP8pYKMDprUv9MHG2P4r15rSrpsXZ5Hl/WoZZpQj+hGEi4+DlIf\n",
       "znYFi+91e7OptGn2ItOf9Q6nL1sqGbP5zq1qReEc39zxwCIJ5hG/hdqR05fEb0EsvCfb7iFyw3Wa\n",
       "vB4YlWVzH73Zc8ucJIZCvfMWjZ6LoA6E2AmdjPe2994T+9E821L0UgUlynGg3aSbxUibm/DXQqXo\n",
       "wZ3bsd7gsI3hM6XxrphnH+q3VrgWU/ftv843mVBPwKw18OZvei/JqYzn9v0b+mUkUEcaZBzGuEhX\n",
       "bK7+zR7M1e/kvkcFuB/UTKc/BYLg9hfsHu+8uXGdEY/xpH2IUkzs2BDLtQWpsW1VwUUtDiLVIqgt\n",
       "RentGwjzRHMTK+ZIrpOkYD0xecJgoBV6NEd+H/TXYI8rWuMoRGxkT4OVbbB5kZkdz6jQ7cq27wDp\n",
       "2zEjKCoKWCbIbWjsJPQ32MNuQaSd5AmFfNyl44xiAMw1wufl8d4Gr4fY982MDL7znBziYDcgX8PM\n",
       "hF8OSq5tiFnbcgUM3GOL7wJrYrx/At70vIv8PgOfnmGT9ZkGL2U0U+xHbF7Pr85mboHkT/j89bYZ\n",
       "wS35FxB0DSFZZKgS7WYk9c2NQ4B9DtqcVoJWBif1vkaS9HsrscAcnLgt2KYO1T2VuOs90Y5whU7A\n",
       "EA12GX9hWfuRqd4r/59M1Vigj4c2al2uX3JybYvJYaUlGH+Hl1JQldznRJCmNJfvulu4arrX/UF4\n",
       "BycxPLod7kEP4WNpZ5Ixue54sP+ItYJs5R40/TX4aboFLvZ2jlSrjPd/LvHN7pwGQuGTM2I+HJAB\n",
       "blA0forGTK77xLBobR9iviFCujsvijkaMAPxT+iMG42j744SNB+DzUF6SEaZJOVQ5AQg1VZxtJOP\n",
       "q50wyWMI2TksDA0qBvhkrslISd19Yw7RGWHrRlbzNkbJsu8siYUVSlNBvQbkGL7KCIgY2W0je4oI\n",
       "ii6mbmEmWQieuuLvHM8y7onBCd+sdoikcHcU2cSJn+8OqJZr5JSxOMQemZbShOw3fnKWlH4vZB7X\n",
       "b/eS0reB8mDRwA8OTIl1ysipdh8Bgf/4LeTSwuRapeEUExg9PZ350XMP4JDSTTt/Y6gbVjrSRU3X\n",
       "TooiyX6YDEqvVdVNF4hOee/M6RuOKoav2AVM8YOnJP9lSaeyZoqIPU8iD9qH/iFL0lpekcGNJXF3\n",
       "1n4NsIVyTRRtgyeJDayyERicAw+I8e3NxYPpLzCMLJw+4vi5KnTaNy0pgzJjkzrJjIcLGs1Ce/9Y\n",
       "UqQw/EkuRoxsMeTuBBJKo+AAAAMAZ1URPhaIfWIo7d1vlsHZ/K9RvhoVxylrZyXT+fKHtZGuHVaf\n",
       "JdoQSqxAINVxA3/hSc06Kh6yMm4b8MOqDGQQq5zRAumHMdykzemWhGm5mGQAGDzcPd075GvQ9nEs\n",
       "iJrALtiqSKluBX2YYXW9/XDH8Cz/DI7RYPv6+aZcTQKPytPPW0PIRU2Sw9zIDs+Eihol4nckJeVV\n",
       "BFrWjK16HTQ7eTY6hoPPQm3IYv8TLgo3WHmmEeyb5iZjxuetTNwd497PkI/F19nsdiXs3UmOcNOx\n",
       "QQQbfcGrxEf/PlFO+4zRAPdgX6ye3n8BPRWwEk8vpGxO7zJljZ1vWLktaBLLsELp4mKXZe7PA5qA\n",
       "KMzM/4TLJjTUET5dOyMD5tX7J7Dz00AEcwSi0XPUdMQBWEHeplMTd+8zdThxADMBHfMQKeNJ1gUI\n",
       "rNeCfmt5As6GpAUGcfaEqumauSr9VXMqHYaB6/KItn5P3PfaO7T3D8+txCMOeYrZ5yG66jfHXH54\n",
       "KYPWndXd0uV1Gfu8kgKRqsNi/QKpVrOUN4uAyN7l6q/UsRObxpfJOgAZYLIYAF9MTUDPsMwCRlvM\n",
       "Dulc4ITIfLGvhP2NLQnr1tYnMD0NMRpGnG8VLTp18hJaIQhmNDyjuL/+vi9/qAQRghpP8fzeORrR\n",
       "umnA1FcJ+NNIUKA4Q/fiaj8snm08tJ4M5tO7KRdkoUJriPypY/pH3sPrdMPvuak4dL/804iHENPh\n",
       "vbpxOb7pKUyEDWs2hr2mZ052ryajoyTfoitCmvNGE01NCAH7uYuWj6AH6W6oXU5Ai5Pv7I4s9x9+\n",
       "IY0uZrP1NltbfuS0qU++QnlengC+wV1GsoQLrbvhIazEaFqX4f0y9e8cCQLSkMjuGKX0E0BqvPRF\n",
       "K/flu1a+umkTj2acXqqWQog2vSQdKFYA9XeEbCPWV1KTing90s5pt3M+RVGrSvP2rflfQtLsYpBH\n",
       "orX+q1SNP7vv2XLuoqhdB5BE9/q9g4xStMKbXyvMbWEjZioQXv4E6cTg/Mqf9LKSGZNgh4hFHxpr\n",
       "Q9Agb95Hrtr6FyLhmOlmeKf0hiYAUxlZ+GQ17+X45Fwg360RGXIuX4Qzck/Mrj5RIjPMB2YIQOWQ\n",
       "3P0RORbXdLt4GZIY701WQTiMQI3Ho0/8F801Lu7Q5UlH/MofROELEhSKYsxULatjjZJzvRabwahU\n",
       "7d5XdtAesFiclS8MEGnjWCs83sZ13dMGStusGZcVbxePzPhMsa4qkP5QCXd1Rx6rqOy8Lh3PRmnX\n",
       "1XR5tcd7d7fX0UnytK6BIfCnNC1/jxSlxAe/AhGuwuSvyvUWvjQyTrMzp3yOShU6qYTJ3pqJH6kY\n",
       "xQ82LIlHLsYS54wA3KV6IxpU52yOi9O+IUb7/XclEvBlP1CJISg/51EyNuKK1GO8eaN2Lju7OkM/\n",
       "ugnw3FCVbHikEAr7lTKqZSxzocDjv5+pdimSwDJ3OpwO0OumBujzgI1a9fEhVLegDFHC9uk6RhsV\n",
       "SGrxs5RKIjwvisc4uh78T1xtcyKMinmdx9UfyPgctPRClfh2H6ZmjSG5sJA5vy5QcPcWmMnW5Y9m\n",
       "Mm6JgwF8UfedEtv8rBuQbhT2uUrw2WdIEY5CMYYrakqqHunA70BWigI4KJGckQ1lo6HeQ2GWSnI/\n",
       "FJjD9MUavRVmKNOk0ABG24HgrdE4JorHaHv8qzlKVfewxjmthSUYr67vUbKX+vhdfIwj6J9IBeM5\n",
       "HsqatTNuNW69eZUZhv7HTJzm3scNTi1OdoAm+ahDna1EZGMAqoe3hN5zCBocXRt0FmSa/csA9ayr\n",
       "qSpQDGTSyrV+4Iqy4Zzjy1jkOMttFqulvAgLGlMfM0AWESP0ADYSsCUSMCtOfJUTEnvYwb6VZUV/\n",
       "eu2oA7k6g4jzqdu62F6+tJOrCKed+1hycZgYlZUc5GmXIgs65CSExyAutxSJLj9subki5NHKAPcK\n",
       "5fuq5Kb4PfwQmOzinX//EdW2GOgFMWN5OUgwj5jEIHbpN1Mn0Bh//n4C7WlP58QAA+Wt7ACAuMIC\n",
       "54VIGVP5QS/w0Ax8eamLnMwa5znzWGkvglXZZnmZTP4AVV/mx2PifFOHoRrmQN4r5hCsGQmByLPJ\n",
       "Ff2OqJ3FSzGYQs5F7OTM04oYDKeIJu1zhoyIyHtZq+uWXSbFCWew4pQABFnx4ANFLlBKn50zm6rV\n",
       "Pzoo9uGAWimIf2F033T+On73T2GCpIQKOUe3Ar1H5GfmVF7JSxBNppbQybJafk01KkfRbnbDtzKq\n",
       "fdMCw3KGoW3FPaka7PwauTQsMXT5bYMMXe6qpFbZhmasLSZradZ8/qEb1pFfDJrV9T/OPfRfsBIQ\n",
       "joHra7WJn3W60vOanuYRlmuxJsirBGvpZ4B6azF38V7tjQucjmNCQO7DgDCKVKgw0H3eDA/QYdX9\n",
       "k9rv8FZCTWyKicAHMYUf3rC8vVrkBFmCbaUKWu5+7jvisKr17DQOgdSVz/+NHez/yI06XkNNjdeM\n",
       "dNgCxOYVeyOCyMIzyslDoIWYAQuDoop8qN+UAAiUbnAjwfAPkIqEDCVHgciHOZvqMhXmvpcKRmPl\n",
       "b7tET6f8D2r+mB7+6WJif3SbgPaZDodnu0AhQAWgmHbg0N2tdeLcDzPX/1cH0jqUYDKj7xOgEF0Z\n",
       "QtEfrpm13GTMxQPz0iJf1K0+K6qR1Bnmz95dETCm2SReWZ9KN69N3/0X96HRz0fmC5G+Yuitj3uH\n",
       "micIlEy6ZzpdIJWbKmN4EpA/jvztYjvbECF+moMKGSeMhrXZzeXL/8LMRzeX9S7eS9Q0H/aoYYCR\n",
       "Oa6OH4z3lCRCoDYsPxXRsRVAIty8lGhmPtRd3sDGku7/y2IgFABuv7g+p3kMxgHeOI12ukHQwhWI\n",
       "ka8/lQvUUNqo+ajqJQXrdv/+nNvk38B8zGXFSM5geGuIG3e5BqZC58dhf4wi44hBaqbUvnOSgDal\n",
       "ewHBKgWZOOAOmolAmufSVTTFI/XIQxhIWMcZisQqJ6+yp1gNiAiANGYlg+/VhqzO5WxaLM7DpAta\n",
       "Vn2SGuv6e/N1erQ1AWLULXrlj6A36mlEPIX3l4mEsvhEHimB8OkVCFoIsLBRcbAOqkTkihTq0pRg\n",
       "hsgE5AAAAwAAAwEbAAAAbEGaJGxCf/3xAAADApHsRZGaM30QCMp1VE1k5fDAFJOo8fBvrl+8lDF9\n",
       "4TbIi/8F7xs0YpYAVEXlahve47vU9XlF7TxWl//2ZcRuy16+wbt3mfLrH0mzBg19xzGTeFJSK1Ro\n",
       "VoYwXDDBc2D5gQAAACtBnkJ4jf8AACxF++sL1xHn4ojpPb3RWWnTL/wABMRbEwqYfadMh83+zAHz\n",
       "AAAAKAGeYXRF/wAANy87YCBQsGZUyfj7Giiud2OrtHbOX0wp8lGPq4G4yoAAAAAYAZ5jakX/AAAD\n",
       "AAADA3Oqy1sNJhdgABSRAAAAMEGaaEmoQWiZTAhP//3xAAADAAADAAcM9rCfG3AHHhil/Jj7DtU/\n",
       "tWk34AAAAwBlQAAAAB1BnoZFESxvAAADAAADAEVc+jv71cAABqP2G9hUWwAAABYBnqV0Rf8AAAMA\n",
       "AAMAWHf1oAAAAwHdAAAAFQGep2pF/wAAAwAAAwAAAwAAAwADAgAAACxBmqxJqEFsmUwIT//98QAA\n",
       "AwAAAwAHDhhrwBQAPeSdmHrKclBEewAAAwAEfQAAABtBnspFFSxvAAADAAADACHJBEAAADOXiR31\n",
       "LeUAAAAVAZ7pdEX/AAADAAADAAADAAADAAMCAAAAFQGe62pF/wAAAwAAAwAAAwAAAwADAwAAADNB\n",
       "mvBJqEFsmUwIT//98QAAAwAAAwAHDPawnysIAnr5Pbr9fBlpptLRvRPkHWAAAAMAj4AAAAAbQZ8O\n",
       "RRUsbwAAAwAAAwAhrmHQAAFcVcaLcW8hAAAAFwGfLXRF/wAAAwAAAwArLjE4AAADAPSBAAAAFQGf\n",
       "L2pF/wAAAwAAAwAAAwAAAwADAgAAACJBmzRJqEFsmUwIT//98QAAAwAAAwAHQ68wOwNEAAADAA1I\n",
       "AAAAG0GfUkUVLG8AAAMAAAMAeWaPQAABgQjGi3FvIQAAABUBn3F0Rf8AAAMAAAMAAAMAAAMAAwIA\n",
       "AAAVAZ9zakX/AAADAAADAAADAAADAAMDAAAAKEGbeEmoQWyZTAhP//3xAAADAAADAAdDrJRgBB+U\n",
       "MWj/4CAAAAMAU0AAAAAbQZ+WRRUsbwAAAwAAAwAAAwAAAwGIGO3kYVpJAAAAFQGftXRF/wAAAwAA\n",
       "AwAAAwAAAwADAwAAABUBn7dqRf8AAAMAAAMAAAMAAAMAAwMAAAAiQZu8SahBbJlMCE///fEAAAMA\n",
       "AAMAB0OvJOjysAAAAwAj4QAAABtBn9pFFSxvAAADAAADAAADAAADAYgY7eRhWkgAAAAVAZ/5dEX/\n",
       "AAADAAADAAADAAADAAMCAAAAFQGf+2pF/wAAAwAAAwAAAwAAAwADAwAAAC5Bm+BJqEFsmUwIT//9\n",
       "8QAAAwAAAwAHQ6/KCAHRHHqWAXwKioPufXwAgAAAAwFNAAAAG0GeHkUVLG8AAAMAAAMAAAMAAAMB\n",
       "iBjt5GFaSAAAABUBnj10Rf8AAAMAAAMAAAMAAAMAAwMAAAAVAZ4/akX/AAADAAADAAADAAADAAMD\n",
       "AAAAIEGaJEmoQWyZTAhP//3xAAADAAADAAdDr1Y+AAADAAI/AAAAG0GeQkUVLG8AAAMAAAMAAAMA\n",
       "AAMBiBjt5GFaSAAAABUBnmF0Rf8AAAMAAAMAAAMAAAMAAwIAAAAVAZ5jakX/AAADAAADAAADAAAD\n",
       "AAMDAAAAJ0GaaEmoQWyZTAhP//3xAAADAAADAAc/IpEAL/AhmEWVrYAAAAMBHwAAABtBnoZFFSxv\n",
       "AAADAAADAAADAAADAYgY7eRhWkgAAAAVAZ6ldEX/AAADAAADAAADAAADAAMDAAAAFwGep2pF/wAA\n",
       "AwAAAwAyYnDAAAADALaAAAAALEGarEmoQWyZTAhP//3xAAADAAADAAc7nVwAv9nss/942JOXEmVM\n",
       "AAADAAOnAAAAG0GeykUVLG8AAAMAAAMAJ9/kOgAAJSnHUPqW8wAAABUBnul0Rf8AAAMAAAMAAAMA\n",
       "AAMAAwIAAAAWAZ7rakX/AAADAAADADJSKtAAAAMBqQAAAC1BmvBJqEFsmUwIT//98QAAAwAAAwAH\n",
       "Q6/KCAJ3Dw3nDnvLP8XpWAgAAAMAFNAAAAAbQZ8ORRUsbwAAAwAAAwAn5VFUAAA2l4kd9S3lAAAA\n",
       "FQGfLXRF/wAAAwAAAwAAAwAAAwADAwAAABYBny9qRf8AAAMAAAMAMlIq0AAAAwGpAAAAJUGbNEmo\n",
       "QWyZTAhP//3xAAADAAADAAc5A3kaQCRcm2AAAAMAR8AAAAAcQZ9SRRUsbwAAAwAAAwAnUsTKgAAG\n",
       "0S5a2KwNwQAAABYBn3F0Rf8AAAMAAAMAMi9DAAADAALaAAAAFgGfc2pF/wAAAwAAAwAyUirQAAAD\n",
       "AakAAAAsQZt4SahBbJlMCE///fEAAAMAAAMAB0TOemcALvvTnUpPa8P+XgIAAAMABTQAAAAcQZ+W\n",
       "RRUsbwAAAwAAAwB8Jomw1AAAOhOeTmTbSQAAABYBn7V0Rf8AAAMAAAMAMi9DAAADAALbAAAAFgGf\n",
       "t2pF/wAAAwAAAwAyUirQAAADAakAAAArQZu8SahBbJlMCE///fEAAAMAAAMABzufXABXtdS2caNh\n",
       "1aK2wAAAAwCPgQAAABxBn9pFFSxvAAADAAADAHwmibDUAAA6E55OZNtIAAAAFQGf+XRF/wAAAwAA\n",
       "AwAAAwAAAwADAgAAABcBn/tqRf8AAAMAAAMAMkhu4AAAAwCRgQAAAC5Bm+BJqEFsmUwIT//98QAA\n",
       "AwAAAwAHPyL1gA2tRfgH+mcgPYb5WTatgAAAAwEfAAAAHEGeHkUVLG8AAAMAAAMAJ1LEyoAABtEu\n",
       "WtisDcAAAAAVAZ49dEX/AAADAAADAAADAAADAAMDAAAAFQGeP2pF/wAAAwAAAwAAAwAAAwADAwAA\n",
       "AC9BmiRJqEFsmUwIT//98QAAAwAAAwAHO51cALaVgpwHUny+fZpnIX6gQAAAAwCmgQAAABxBnkJF\n",
       "FSxvAAADAAADACdSxMqAAAbRLlrYrA3AAAAAFgGeYXRF/wAAAwAAAwAyL0MAAAMAAtoAAAAWAZ5j\n",
       "akX/AAADAAADADJSKtAAAAMBqQAAACpBmmhJqEFsmUwIT//98QAAAwAAAwAHO5h8AbCog6Q4Uung\n",
       "2+AAAAMAI+AAAAAbQZ6GRRUsbwAAAwAAAwAn5VFUAAA2l4kd9S3kAAAAFgGepXRF/wAAAwAAAwAy\n",
       "L0MAAAMAAtsAAAAWAZ6nakX/AAADAAADADJSKtAAAAMBqQAAAC5BmqxJqEFsmUwIT//98QAAAwAA\n",
       "AwAHOQOVNSQByDtpsoYsu1t0rxfAAAADAEfBAAAAG0GeykUVLG8AAAMAAAMAJ+VRVAAANpeJHfUt\n",
       "5QAAABYBnul0Rf8AAAMAAAMAMi9DAAADAALaAAAAFgGe62pF/wAAAwAAAwAyUirQAAADAakAAAAu\n",
       "QZrwSahBbJlMCE///fEAAAMAAAMABz8jCRAIIdPV/bcztYnEL9UqvgAAAwACPgAAABxBnw5FFSxv\n",
       "AAADAAADACdSxMqAAAbRLlrYrA3BAAAAFgGfLXRF/wAAAwAAAwAyL0MAAAMAAtsAAAAWAZ8vakX/\n",
       "AAADAAADADJSKtAAAAMBqQAAAClBmzRJqEFsmUwIT//98QAAAwAAAwAHORzzPQAJe1XHLQyNwAAA\n",
       "AwD5gAAAABtBn1JFFSxvAAADAAADACflUVQAADaXiR31LeUAAAAWAZ9xdEX/AAADAAADADIvQwAA\n",
       "AwAC2gAAABYBn3NqRf8AAAMAAAMAMlIq0AAAAwGpAAAAMEGbeEmoQWyZTAhP//3xAAADAAADAAc7\n",
       "nVwA+SPKwaPZeDNItvqrppjrAQAAAwACmgAAABtBn5ZFFSxvAAADAAADACflUVQAADaXiR31LeUA\n",
       "AAAVAZ+1dEX/AAADAAADAAADAAADAAMDAAAAFQGft2pF/wAAAwAAAwAAAwAAAwADAwAAACFBm7xJ\n",
       "qEFsmUwIT//98QAAAwAAAwAHOQd39gIAAAMABTUAAAAcQZ/aRRUsbwAAAwAAAwAnUsTKgAAG0S5a\n",
       "2KwNwAAAABUBn/l0Rf8AAAMAAAMAAAMAAAMAAwIAAAAVAZ/7akX/AAADAAADAAADAAADAAMDAAAA\n",
       "JUGb4EmoQWyZTAhP//3xAAADAAADAAc5BmrVAHmXR8AAAAMAR8AAAAAcQZ4eRRUsbwAAAwAAAwAn\n",
       "UsTKgAAG0S5a2KwNwAAAABUBnj10Rf8AAAMAAAMAAAMAAAMAAwMAAAAVAZ4/akX/AAADAAADAAAD\n",
       "AAADAAMDAAAAKEGaJEmoQWyZTAhP//3xAAADAAADAAc7rboAcrCZ2xz+AEAAAAMApoEAAAAcQZ5C\n",
       "RRUsbwAAAwAAAwAnUsTKgAAG0S5a2KwNwAAAABYBnmF0Rf8AAAMAAAMAnu/rQAAAAwIOAAAAFQGe\n",
       "Y2pF/wAAAwAAAwAAAwAAAwADAwAAAChBmmhJqEFsmUwIT//98QAAAwAAAwAHOQaBfvQA4dBpIGTA\n",
       "AAADADpgAAAAHEGehkUVLG8AAAMAAAMAJ1LEyoAABtEuWtisDcAAAAAVAZ6ldEX/AAADAAADAAAD\n",
       "AAADAAMDAAAAFQGep2pF/wAAAwAAAwAAAwAAAwADAgAAAChBmqxJqEFsmUwIT//98QAAAwAAAwAH\n",
       "OQd4jgAqCpUZU3vgAAADACPhAAAAHEGeykUVLG8AAAMAAAMAJ1LEyoAABtEuWtisDcEAAAAVAZ7p\n",
       "dEX/AAADAAADAAADAAADAAMCAAAAFQGe62pF/wAAAwAAAwAAAwAAAwADAwAAAChBmvBJqEFsmUwI\n",
       "T//98QAAAwAAAwAHOQaF8cAZXjH6mwdfAAADAAEfAAAAHEGfDkUVLG8AAAMAAAMAJ1LEyoAABtEu\n",
       "WtisDcEAAAAVAZ8tdEX/AAADAAADAAADAAADAAMDAAAAFQGfL2pF/wAAAwAAAwAAAwAAAwADAgAA\n",
       "AChBmzRJqEFsmUwIT//98QAAAwAAAwAHOQZuN0AOTy366gyYAAADAAdMAAAAG0GfUkUVLG8AAAMA\n",
       "AAMAJ+VRVAAANpeJHfUt5QAAABUBn3F0Rf8AAAMAAAMAAAMAAAMAAwIAAAAVAZ9zakX/AAADAAAD\n",
       "AAADAAADAAMDAAAAIUGbeEmoQWyZTAhP//3xAAADAAADAAc5BmdYCAAAAwAU0AAAABxBn5ZFFSxv\n",
       "AAADAAADACdSxMqAAAbRLlrYrA3BAAAAFQGftXRF/wAAAwAAAwAAAwAAAwADAwAAABUBn7dqRf8A\n",
       "AAMAAAMAAAMAAAMAAwMAAAArQZu8SahBbJlMCE///fEAAAMAAAMABzkGhtOEAOHhaovcbr8stgAA\n",
       "AwAEfQAAABxBn9pFFSxvAAADAAADACdSxMqAAAbRLlrYrA3AAAAAFQGf+XRF/wAAAwAAAwAAAwAA\n",
       "AwADAgAAABUBn/tqRf8AAAMAAAMAAAMAAAMAAwMAAAAkQZvgSahBbJlMCE///fEAAAMAAAMABzuu\n",
       "VoAqsYoCAAADAAU0AAAAHEGeHkUVLG8AAAMAAAMAJ1LEyoAABtEuWtisDcAAAAAVAZ49dEX/AAAD\n",
       "AAADAAADAAADAAMDAAAAFgGeP2pF/wAAAwAAAwAyUirQAAADAakAAAAvQZokSahBbJlMCE///fEA\n",
       "AAMAAAMAB0OQawgBwVwbXDC3YtGIT/MHCuAAAAMAfMEAAAAcQZ5CRRUsbwAAAwAAAwAnUsTKgAAG\n",
       "0S5a2KwNwAAAABcBnmF0Rf8AAAMAAAMAMbJvHgAAAwAJGAAAABUBnmNqRf8AAAMAAAMAAAMAAAMA\n",
       "AwMAAAAqQZpoSahBbJlMCE///fEAAAMAAAMABzkch37cAcIMGMUGiFbAAAADAI+AAAAAG0GehkUV\n",
       "LG8AAAMAAAMAAAMAAAMBiBjt5GFaSAAAABUBnqV0Rf8AAAMAAAMAAAMAAAMAAwMAAAAVAZ6nakX/\n",
       "AAADAAADAAADAAADAAMCAAAAKkGarEmoQWyZTAhP//3xAAADAAADAAc7ryYAOVwLwRxbacdkwAAA\n",
       "AwA6YQAAABtBnspFFSxvAAADAAADAAADAAADAYgY7eRhWkkAAAAVAZ7pdEX/AAADAAADAAADAAAD\n",
       "AAMCAAAAFQGe62pF/wAAAwAAAwAAAwAAAwADAwAAACdBmvBJqEFsmUwIT//98QAAAwAAAwAHQ5Bb\n",
       "cAcMr3jATfAAAAMAEfAAAAAbQZ8ORRUsbwAAAwAAAwAAAwAAAwGIGO3kYVpJAAAAFQGfLXRF/wAA\n",
       "AwAAAwAAAwAAAwADAwAAABUBny9qRf8AAAMAAAMAAAMAAAMAAwIAAAAlQZs0SahBbJlMCE///fEA\n",
       "AAMAAAMABzkIDR6ALV+UCAAAAwAU0AAAABtBn1JFFSxvAAADAAADAAADAAADAYgY7eRhWkkAAAAV\n",
       "AZ9xdEX/AAADAAADAAADAAADAAMCAAAAFQGfc2pF/wAAAwAAAwAAAwAAAwADAwAAACpBm3hJqEFs\n",
       "mUwIT//98QAAAwAAAwAHRMAHhADhzjIB0Q6BdgIAAAMABTQAAAAbQZ+WRRUsbwAAAwAAAwB8Jo9A\n",
       "AAF3VcaLcW8hAAAAFQGftXRF/wAAAwAAAwAAAwAAAwADAwAAABUBn7dqRf8AAAMAAAMAAAMAAAMA\n",
       "AwMAAAAmQZu8SahBbJlMCE///fEAAAMAAAMABzutugBut/pCc3wAAAMABH0AAAAbQZ/aRRUsbwAA\n",
       "AwAAAwAAAwAAAwGIGO3kYVpIAAAAFQGf+XRF/wAAAwAAAwAAAwAAAwADAgAAABUBn/tqRf8AAAMA\n",
       "AAMAAAMAAAMAAwMAAAAoQZvgSahBbJlMCE///fEAAAMAAAMABzutugBvITNCRPnACAAAAwAU0AAA\n",
       "ABtBnh5FFSxvAAADAAADAAADAAADAYgY7eRhWkgAAAAVAZ49dEX/AAADAAADAAADAAADAAMDAAAA\n",
       "FQGeP2pF/wAAAwAAAwAAAwAAAwADAwAAACZBmiRJqEFsmUwIT//98QAAAwAAAwAHO6/XgBuihpYS\n",
       "+AAAAwAI+QAAABtBnkJFFSxvAAADAAADAAADAAADAYgY7eRhWkgAAAAVAZ5hdEX/AAADAAADAAAD\n",
       "AAADAAMCAAAAFQGeY2pF/wAAAwAAAwAAAwAAAwADAwAAAB5BmmhJqEFsmUwIT//98QAAAwAAAwAA\n",
       "AwAAAwAAIuAAAAAbQZ6GRRUsbwAAAwAAAwAAAwAAAwGIGO3kYVpIAAAAFQGepXRF/wAAAwAAAwAA\n",
       "AwAAAwADAwAAABUBnqdqRf8AAAMAAAMAAAMAAAMAAwIAAAAtQZqsSahBbJlMCE///fEAAAMAAAMA\n",
       "BzuvJgA3ixKvhDM825EqXr3wAAADABHxAAAAG0GeykUVLG8AAAMAAAMAfCaPQAABd1XGi3FvIQAA\n",
       "ABUBnul0Rf8AAAMAAAMAAAMAAAMAAwIAAAAVAZ7rakX/AAADAAADAAADAAADAAMDAAAAJ0Ga8Emo\n",
       "QWyZTAhP//3xAAADAAADAAc7rboAbxK90zOb4AAAAwAj4AAAABtBnw5FFSxvAAADAAADAAADAAAD\n",
       "AYgY7eRhWkkAAAAVAZ8tdEX/AAADAAADAAADAAADAAMDAAAAFQGfL2pF/wAAAwAAAwAAAwAAAwAD\n",
       "AgAAACtBmzRJqEFsmUwIT//98QAAAwAAAwAHO68mADbHeJj8ffppZE3wAAADABHwAAAAG0GfUkUV\n",
       "LG8AAAMAAAMAAAMAAAMBiBjt5GFaSQAAABUBn3F0Rf8AAAMAAAMAAAMAAAMAAwIAAAAVAZ9zakX/\n",
       "AAADAAADAAADAAADAAMDAAAAHkGbeEmoQWyZTAhP//3xAAADAAADAAADAAADAAAi4AAAABtBn5ZF\n",
       "FSxvAAADAAADAAADAAADAYgY7eRhWkkAAAAVAZ+1dEX/AAADAAADAAADAAADAAMDAAAAFQGft2pF\n",
       "/wAAAwAAAwAAAwAAAwADAwAAAChBm7xJqEFsmUwIT//98QAAAwAAAwAHO626AG9CQzQymnN8AAAD\n",
       "AAR9AAAAG0Gf2kUVLG8AAAMAAAMAAAMAAAMBiBjt5GFaSAAAABUBn/l0Rf8AAAMAAAMAAAMAAAMA\n",
       "AwIAAAAVAZ/7akX/AAADAAADAAADAAADAAMDAAAAHkGb4EmoQWyZTAhP//3xAAADAAADAAADAAAD\n",
       "AAAi4AAAABtBnh5FFSxvAAADAAADAAADAAADAYgY7eRhWkgAAAAVAZ49dEX/AAADAAADAAADAAAD\n",
       "AAMDAAAAFQGeP2pF/wAAAwAAAwAAAwAAAwADAwAAAC5BmiRJqEFsmUwIT//98QAAAwAAAwAHO+LB\n",
       "gA58uc/h+V442Pn+yi+AAAADAI+BAAAAG0GeQkUVLG8AAAMAAAMAAAMAAAMBiBjt5GFaSAAAABUB\n",
       "nmF0Rf8AAAMAAAMAAAMAAAMAAwIAAAAVAZ5jakX/AAADAAADAAADAAADAAMDAAAAJ0GaaEmoQWyZ\n",
       "TAhP//3xAAADAAADAAc746mAOPaagBWLYAAAAwBHwAAAABtBnoZFFSxvAAADAAADAAADAAADAYgY\n",
       "7eRhWkgAAAAVAZ6ldEX/AAADAAADAAADAAADAAMDAAAAFQGep2pF/wAAAwAAAwAAAwAAAwADAgAA\n",
       "AClBmqxJqEFsmUwIT//98QAAAwAAAwAHO+JVAC+oCfCue53smAAAAwAHTQAAABtBnspFFSxvAAAD\n",
       "AAADAAADAAADAYgY7eRhWkkAAAAVAZ7pdEX/AAADAAADAAADAAADAAMCAAAAFQGe62pF/wAAAwAA\n",
       "AwAAAwAAAwADAwAAAB5BmvBJqEFsmUwIT//98QAAAwAAAwAAAwAAAwAAIuAAAAAbQZ8ORRUsbwAA\n",
       "AwAAAwAAAwAAAwGIGO3kYVpJAAAAFQGfLXRF/wAAAwAAAwAAAwAAAwADAwAAABUBny9qRf8AAAMA\n",
       "AAMAAAMAAAMAAwIAAAAsQZs0SahBbJlMCE///fEAAAMAAAMABzvkJkAOfKLBWWJBLxa8AmAAAAMA\n",
       "HTAAAAAbQZ9SRRUsbwAAAwAAAwAAAwAAAwGIGO3kYVpJAAAAFQGfcXRF/wAAAwAAAwAAAwAAAwAD\n",
       "AgAAABUBn3NqRf8AAAMAAAMAAAMAAAMAAwMAAAAlQZt4SahBbJlMCE///fEAAAMAAAMABzuLQANI\n",
       "lnbhmAAAAwAHTAAAABtBn5ZFFSxvAAADAAADAAADAAADAYgY7eRhWkkAAAAVAZ+1dEX/AAADAAAD\n",
       "AAADAAADAAMDAAAAFQGft2pF/wAAAwAAAwAAAwAAAwADAwAAAChBm7xJqEFsmUwIT//98QAAAwAA\n",
       "AwAHO+RhgAvsFX3vGI+AAAADAI+BAAAAG0Gf2kUVLG8AAAMAAAMAfCaPQAABd1XGi3FvIAAAABUB\n",
       "n/l0Rf8AAAMAAAMAAAMAAAMAAwIAAAAVAZ/7akX/AAADAAADAAADAAADAAMDAAAAHkGb4EmoQWyZ\n",
       "TAhP//3xAAADAAADAAADAAADAAAi4AAAABtBnh5FFSxvAAADAAADAAADAAADAYgY7eRhWkgAAAAV\n",
       "AZ49dEX/AAADAAADAAADAAADAAMDAAAAFQGeP2pF/wAAAwAAAwAAAwAAAwADAwAAACtBmiRJqEFs\n",
       "mUwIT//98QAAAwAAAwAHO+QmQA58MTHCwAInj1bAAAADAI+BAAAAG0GeQkUVLG8AAAMAAAMAfCaP\n",
       "QAABd1XGi3FvIAAAABUBnmF0Rf8AAAMAAAMAAAMAAAMAAwIAAAAVAZ5jakX/AAADAAADAAADAAAD\n",
       "AAMDAAAAHkGaaEmoQWyZTAhP//3xAAADAAADAAADAAADAAAi4AAAABtBnoZFFSxvAAADAAADAAAD\n",
       "AAADAYgY7eRhWkgAAAAVAZ6ldEX/AAADAAADAAADAAADAAMDAAAAFQGep2pF/wAAAwAAAwAAAwAA\n",
       "AwADAgAAAB5BmqxJqEFsmUwIT//98QAAAwAAAwAAAwAAAwAAIuEAAAAbQZ7KRRUsbwAAAwAAAwAA\n",
       "AwAAAwGIGO3kYVpJAAAAFQGe6XRF/wAAAwAAAwAAAwAAAwADAgAAABUBnutqRf8AAAMAAAMAAAMA\n",
       "AAMAAwMAAAAoQZrwSahBbJlMCE///fEAAAMAAAMABzvjqYA5RIeq6woAQAAAAwCmgAAAABtBnw5F\n",
       "FSxvAAADAAADAAADAAADAYgY7eRhWkkAAAAVAZ8tdEX/AAADAAADAAADAAADAAMDAAAAFQGfL2pF\n",
       "/wAAAwAAAwAAAwAAAwADAgAAACVBmzRJqEFsmUwIT//98QAAAwAAAwAHO4tAAz7Po+JMAAADAAOm\n",
       "AAAAG0GfUkUVLG8AAAMAAAMAAAMAAAMBiBjt5GFaSQAAABUBn3F0Rf8AAAMAAAMAAAMAAAMAAwIA\n",
       "AAAVAZ9zakX/AAADAAADAAADAAADAAMDAAAAJ0GbeEmoQWyZTAhP//3xAAADAAADAAc75GGAC+dO\n",
       "VSdUNgAAAwAEfAAAABtBn5ZFFSxvAAADAAADAAADAAADAYgY7eRhWkkAAAAVAZ+1dEX/AAADAAAD\n",
       "AAADAAADAAMDAAAAFQGft2pF/wAAAwAAAwAAAwAAAwADAwAAABxBm7lJqEFsmUwIv/pYAAADAAAD\n",
       "AAADAAADAAGrAAARK2WIhAAz//727L4FNf2f0JcRLMXaSnA+KqSAgHc0wAAAAwAAAwAAAwAqRzn0\n",
       "5uPi9otAAAADAtoArwIxF/hdbEK4AIadFMr4tjzVMnhcdGWfPpy/OXteFmGWGf6v0Jxn+XzmCgbP\n",
       "kFyTbSSUU03AALsjgaM0KvwwXMUFTDCMU2EMlxZkkEO6MFvCYkSEXrl3m8tjo+ZGLFkMueP7AFZ3\n",
       "dKx9eTIynmIjhPM6Y344LiUvkxMJmxlKYP4+iOtd1J/JbD+r67I26omOkvbp9ZQzZ2BnDi4k+hEW\n",
       "BC3gDZAmcnlFw8CVx8uIavSvfhgD2n7sQaJs/Z8JCbOgZuJQUIh/RzP1tE5IpK8FHyviT5h4hTQ/\n",
       "45DVt42GT4B1P+znUMEx/J67j7S1BdM4m9Y/bcGUk5llTXP7T0gXk+xyf+1pRxn//UjkT2YsqpPR\n",
       "HwPk0IejP+AtRQuslx0gBUdwK7w5e62s8KUWqndfxGGLvr0h9ZucVGwnA1qsh9frClpDPsBgh0TF\n",
       "OfQwiQDWXyFem96yCBUGI5SpcAxBFX/pOSFVihtZ68NRSCDCn5BtOFJfuzC1OnFUqeZBSVKy6Akv\n",
       "UbFvPAsdbMts4uODISK1MfsLh9N34R9AyDq2r5bsG//FiIyAllQNbPv/lqRGYnjQDrajiNnxrTqL\n",
       "qcPoV8rnJ3VwylJtrCziClxvfREelfdM3L2RCeyYegni+K7afHMBYpfpnKD0HRtgzgdpbUghxta+\n",
       "KsHyNQTmZHcdFYKK+PlUufGyQhEOKGpRnaVg3iSYkkP7L8MGm8gx0Rx72kCpF2NTCQ+8r0PuiRgU\n",
       "dEDpOS57/33mE6L+rtwXOCc8eaquvohsXxQtWzAVwcH5S3RapI6fVruiQNL/4KY+19oO7ZZX9Ei5\n",
       "G6QZZNKe0OY7xzG2nnHvY71zIkBUHY9X+hSx95TUHHFhSXH3JBqbhpbv/eVamU3t38Jkx9rAuyUE\n",
       "Ui9ok7w5B1tT7xAcoZ18K/flDI2FWw6I3DUO7cjKBzJCm3CugupHwohrWDy0dlySHkU4HDi8dBmV\n",
       "+TEyiKdi07fal+gwlB0fqG82HnJrGZazwKKVpa9sx4p0IVRpKiIVnMjtA856zfIRKsueVL2gTiYL\n",
       "41v0feaOlcbxbAYjHrxBlTjDYHSDT09Jq/0V3SLeJI0KclpLaiQ5oXt1yA5OU+NBbbMHQOI1UYLz\n",
       "+EVg21Ic5MUXaS1tw7FxrWVxEUjqF/uq/2XZhvXeupBrqwKcvh6NXCpBXL6uHJ9YgT3pOvzT9Edj\n",
       "ndzR3EUbxRS6xPTLdP3kEdCIG6lxohiKg4utL50l7yMAR4QfY/0BfHbPmVaRM5e1tAtr9O7K9UeY\n",
       "gbP8pYKMDprUv9MHG2P4r15rSrpsXZ5Hl/WoZZpQj+hGEi4+DlIfznYFi+91e7OptGn2ItOf9Q6n\n",
       "L1sqGbP5zq1qReEc39zxwCIJ5hG/hdqR05fEb0EsvCfb7iFyw3WavB4YlWVzH73Zc8ucJIZCvfMW\n",
       "jZ6LoA6E2AmdjPe2994T+9E821L0UgUlynGg3aSbxUibm/DXQqXowZ3bsd7gsI3hM6XxrphnH+q3\n",
       "VrgWU/ftv843mVBPwKw18OZvei/JqYzn9v0b+mUkUEcaZBzGuEhXbK7+zR7M1e/kvkcFuB/UTKc/\n",
       "BYLg9hfsHu+8uXGdEY/xpH2IUkzs2BDLtQWpsW1VwUUtDiLVIqgtRentGwjzRHMTK+ZIrpOkYD0x\n",
       "ecJgoBV6NEd+H/TXYI8rWuMoRGxkT4OVbbB5kZkdz6jQ7cq27wDp2zEjKCoKWCbIbWjsJPQ32MNu\n",
       "QaSd5AmFfNyl44xiAMw1wufl8d4Gr4fY982MDL7znBziYDcgX8PMhF8OSq5tiFnbcgUM3GOL7wJr\n",
       "Yrx/At70vIv8PgOfnmGT9ZkGL2U0U+xHbF7Pr85mboHkT/j89bYZwS35FxB0DSFZZKgS7WYk9c2N\n",
       "Q4B9DtqcVoJWBif1vkaS9HsrscAcnLgt2KYO1T2VuOs90Y5whU7AEA12GX9hWfuRqd4r/59M1Vig\n",
       "j4c2al2uX3JybYvJYaUlGH+Hl1JQldznRJCmNJfvulu4arrX/UF4BycxPLod7kEP4WNpZ5Ixue54\n",
       "sP+ItYJs5R40/TX4aboFLvZ2jlSrjPd/LvHN7pwGQuGTM2I+HJABblA0forGTK77xLBobR9iviFC\n",
       "ujsvijkaMAPxT+iMG42j744SNB+DzUF6SEaZJOVQ5AQg1VZxtJOPq50wyWMI2TksDA0qBvhkrslI\n",
       "Sd19Yw7RGWHrRlbzNkbJsu8siYUVSlNBvQbkGL7KCIgY2W0je4oIii6mbmEmWQieuuLvHM8y7onB\n",
       "Cd+sdoikcHcU2cSJn+8OqJZr5JSxOMQemZbShOw3fnKWlH4vZB7Xb/eS0reB8mDRwA8OTIl1ysip\n",
       "dh8Bgf/4LeTSwuRapeEUExg9PZ350XMP4JDSTTt/Y6gbVjrSRU3XTooiyX6YDEqvVdVNF4hOee/M\n",
       "6RuOKoav2AVM8YOnJP9lSaeyZoqIPU8iD9qH/iFL0lpekcGNJXF31n4NsIVyTRRtgyeJDayyERic\n",
       "Aw+I8e3NxYPpLzCMLJw+4vi5KnTaNy0pgzJjkzrJjIcLGs1Ce/9YUqQw/EkuRoxsMeTuBBJKo+AA\n",
       "AAMAZ1URPhaIfWIo7d1vlsHZ/K9RvhoVxylrZyXT+fKHtZGuHVafJdoQSqxAINVxA3/hSc06Kh6y\n",
       "Mm4b8MOqDGQQq5zRAumHMdykzemWhGm5mGQAGDzcPd075GvQ9nEsiJrALtiqSKluBX2YYXW9/XDH\n",
       "8Cz/DI7RYPv6+aZcTQKPytPPW0PIRU2Sw9zIDs+Eihol4nckJeVVBFrWjK16HTQ7eTY6hoPPQm3I\n",
       "Yv8TLgo3WHmmEeyb5iZjxuetTNwd497PkI/F19nsdiXs3UmOcNOxQQQbfcGrxEf/PlFO+4zRAPdg\n",
       "X6ye3n8BPRWwEk8vpGxO7zJljZ1vWLktaBLLsELp4mKXZe7PA5qAKMzM/4TLJjTUET5dOyMD5tX7\n",
       "J7Dz00AEcwSi0XPUdMQBWEHeplMTd+8zdThxADMBHfMQKeNJ1gUIrNeCfmt5As6GpAUGcfaEquma\n",
       "uSr9VXMqHYaB6/KItn5P3PfaO7T3D8+txCMOeYrZ5yG66jfHXH54KYPWndXd0uV1Gfu8kgKRqsNi\n",
       "/QKpVrOUN4uAyN7l6q/UsRObxpfJOgAZYLIYAF9MTUDPsMwCRlvMDulc4ITIfLGvhP2NLQnr1tYn\n",
       "MD0NMRpGnG8VLTp18hJaIQhmNDyjuL/+vi9/qAQRghpP8fzeORrRumnA1FcJ+NNIUKA4Q/fiaj8s\n",
       "nm08tJ4M5tO7KRdkoUJriPypY/pH3sPrdMPvuak4dL/804iHENPhvbpxOb7pKUyEDWs2hr2mZ052\n",
       "ryajoyTfoitCmvNGE01NCAH7uYuWj6AH6W6oXU5Ai5Pv7I4s9x9+IY0uZrP1NltbfuS0qU++Qnle\n",
       "ngC+wV1GsoQLrbvhIazEaFqX4f0y9e8cCQLSkMjuGKX0E0BqvPRFK/flu1a+umkTj2acXqqWQog2\n",
       "vSQdKFYA9XeEbCPWV1KTing90s5pt3M+RVGrSvP2rflfQtLsYpBHorX+q1SNP7vv2XLuoqhdB5BE\n",
       "9/q9g4xStMKbXyvMbWEjZioQXv4E6cTg/Mqf9LKSGZNgh4hFHxprQ9Agb95Hrtr6FyLhmOlmeKf0\n",
       "hiYAUxlZ+GQ17+X45Fwg360RGXIuX4Qzck/Mrj5RIjPMB2YIQOWQ3P0RORbXdLt4GZIY701WQ6mB\n",
       "fKw7P+pD6ky7e79iMTT6MrflXgmZnM2gQpOW1YoxpXXfQh61b01Qq0C6io7x+GOPKJR7TWeixcHC\n",
       "VM5TG9CVDWXTNIbtXV9kO/hkgGfejHwouM3k5Y9HR12gzsGJPcdkoQ6GI5F9wUzB9v9OSP5QX0Mj\n",
       "aG7cv6JxhX/ZZNp8Ta5NmQ/y+7rDlToZT1mjNR95Jf01nJlO/MtUulWbyWCxTvuwXJIj5AelP2ZB\n",
       "+Wb4Cr+Dx02yV2jlaSyonn/99jtI9oIfNEDKBZ8vKqkETaoIfAFxnCzVU68YdJ76J7VPv8n9GQQg\n",
       "ZgKSi4NWndAkL2o9dh+ZAzXurj/kmDXW5rOTr1lXDI01JzTAhxAfBBE75066Sz1PD31mIvf0n3mm\n",
       "7FnBPmhvA2opnVGzEUopdlk9yriR1MHy+f/vCmtomEnHJ6xi/bCOMnOtzt/MxyEqY7zVGabkBlOp\n",
       "/9EnmQlk5P2gZXXt0SQ8ZNM7YqQY1QDWGQFsRoxZGflmiazNMxOH2QhPt9XgdOgZxbNEIHh4Zoc1\n",
       "U8x6hqh4NCJQZ1YkmSoPOxMElxaefnJj67gvlPhJGRDd7N4SuYpdqPliO9GL9B+W6m/Pj1QXKRGj\n",
       "XCb7t+P99iBRewTEEBGIAF4vgGIfUQyGc90tb3z31x8LuusvaHu7IY2W0q3Q2rfR+uZhmGAVM++0\n",
       "ZqnbwoOVXYZnz3sBJnQdngFX6ks3KyPPczjt4GAz8iNipkrq8TQLj+hYkw9fjAp+a7/74HLTmW3j\n",
       "qeDzY6qV9cBvuKtQh6mt7Jj0mmtT7LGBkVcR3M9dQFAAr/ZpBZwrCsAAZzWAc8qAy5Fp2SJyIsti\n",
       "yoqSvjB2gKAP5jEgNCrgwU3ggSQbFg4wvYcxIJvNp3KOUXvMcIK3s3D3lZnIC63FbLlv5086NYX2\n",
       "n+lsAOpmKWzjlYDZItUnslpg1kq0YTsgYWASewBS1YGlXBXLZ9DdTJ9AZj/7/gR8LA4JdAAEKP80\n",
       "AIY4zQLNhjAYdAFBLfF8DyFa6ZQzesE7UktYaS+CVdjuETIK9oBOi7DHY958aozz80bWDqD1murG\n",
       "xaJHKfUKcpbKcTSQ7EiTzZBohkEwyhgMp4gm7XOGakLcFRyAL4ATnqwlnsOKUIAS58cADIS9gPJy\n",
       "vJMIDqafOJFUpXNK6ot/sXSp4f46fvdMquKkhAo5R7cCvtY8wuanToYwbvr1O2BFmSE/JpqVI+i3\n",
       "O0QALVU+6YFZe4NQtuKe1I12fnUkOhYYuny2weLAufE0gLZhmasO+ADadZ8/qEbzMFfDKy27nOOP\n",
       "fRfsBIQjoHrbDYJn3W60vOanuYpr1SxJsirBGvNZ4B6azF38V7tjQykjmNCMe7DgDCKVKgw0H3eD\n",
       "GhAYdX9k9rv8FY5e87OLWAHMYUf+iC8vVrkBFmCbaUKWPplqKwTOYcq9lwohwzXzsig1L797mNOl\n",
       "5DTY3YjNXoAsTmFXsjgsjCndTI0DI+dwIXB0UU+VG/KAAWtKWyuYbwuaqeQ1CBhKjwORDnM25U3X\n",
       "UUUuFIyzJxp2FJ/xN2/ZRDHW/8So5BGeonB7jKZov+70BeBG+Ebvm2+uuWd+qTXfZ/3IJZqDUESO\n",
       "Ee95NPzajlpvi0yWIBm+Q5QP0aCRqlNXjpsImRY7DdwJzO73aTJHnRT6mw/HtJ/9F/dEjuej8qnI\n",
       "3zF0Vse9w80ThEsNV5cFGomb8bqjcfYcDI/wL5tWt9F0Pzek6a/Opv3JJ1aoyPq3mJ9cEM8Ltzj1\n",
       "DQf9qhhgJE5roUbLPeUJEKgNiw/jCdebu19daPmPfXfaeAPYGNJd3/lsRAJ/+NYHdn4dhsSXxUcR\n",
       "rlVaKhhCsRI15/Kheo0XKwJKOolBet2/96c2+TwQHzMZcVIzl/4a4gbd7kGpkLnv2WOx9xtrzOcc\n",
       "uKHM5Qsvxk8rGEJnhlKfCXUexysvT1VNMRm1chDGEhYxxR6xConr7KnWA2ICIA0ZcYz79WGrM7lb\n",
       "FoszsOkDDN2fZIa6/p783V6tDUBYjQ+snB7PFfqaUQ8m0kGowXS+EQeKYIBAgzuA/Fax3xEvTwZg\n",
       "heSimtJSjBDagI2AAAADAAAb8AAAAFVBmiRsQn/98QAAAwKR7EWRmjN9EAjKdVRNZOXwwBSTqPHw\n",
       "b65fvJQxfeE2yIv4zt7arvMDoQFEn991OFjYLda6CRsec8Tk7Mhz60Rut/xs7JFB4C7gAAAALUGe\n",
       "QniN/wAALEX76wvXEefiiOk9vdFbSnHzshquCAHfIknvo5pWKpJkOdQBgQAAACcBnmF0Rf8AADcv\n",
       "O2AgULBmVMn4+xoorndjjdMROQTkEeKqAZHRB/gAAAAYAZ5jakX/AAADAAADA3Oqy1sNJhdgABSQ\n",
       "AAAAJEGaaEmoQWiZTAhP//3xAAADAAADAAP76btLyoAdmAAAAwB6wQAAAB9BnoZFESxvAAADAAAD\n",
       "AZwrNDvud99BcAABigLaKT0FAAAAGAGepXRF/wAAAwAAAwBYeCUYbtAAAAMBLwAAABUBnqdqRf8A\n",
       "AAMAAAMAAAMAAAMAAwIAAAAnQZqsSahBbJlMCE///fEAAAMAAAMABzvjqYA5PjJ/DdACAAADAAU0\n",
       "AAAAHUGeykUVLG8AAAMAAAMBnCssZyRSAAAo1f3owC3hAAAAFQGe6XRF/wAAAwAAAwAAAwAAAwAD\n",
       "AgAAABUBnutqRf8AAAMAAAMAAAMAAAMAAwIAAAAeQZrwSahBbJlMCE///fEAAAMAAAMAAAMAAAMA\n",
       "ACLhAAAAHUGfDkUVLG8AAAMAAAMBnCssZyRSAAAo1f3owC3gAAAAFQGfLXRF/wAAAwAAAwAAAwAA\n",
       "AwADAwAAABUBny9qRf8AAAMAAAMAAAMAAAMAAwMAAAAnQZs0SahBbJlMCE///fEAAAMAAAMABzvj\n",
       "qYArTSuGp1lsAAADAAj4AAAAHUGfUkUVLG8AAAMAAAMBnCssZyRSAAAo1f3owC3hAAAAFQGfcXRF\n",
       "/wAAAwAAAwAAAwAAAwADAgAAABUBn3NqRf8AAAMAAAMAAAMAAAMAAwMAAAAeQZt4SahBbJlMCE//\n",
       "/fEAAAMAAAMAAAMAAAMAACLhAAAAHUGflkUVLG8AAAMAAAMBnCssZyRSAAAo1f3owC3gAAAAFQGf\n",
       "tXRF/wAAAwAAAwAAAwAAAwADAgAAABUBn7dqRf8AAAMAAAMAAAMAAAMAAwMAAAArQZu8SahBbJlM\n",
       "CE///fEAAAMAAAMABzvkJkALA5PCRdCCFRFNbAAAAwAI+AAAAB9Bn9pFFSxvAAADAAADAZwrQHzq\n",
       "EHW8AABdpVKSc7LBAAAAFQGf+XRF/wAAAwAAAwAAAwAAAwADAgAAABUBn/tqRf8AAAMAAAMAAAMA\n",
       "AAMAAwMAAAAeQZvgSahBbJlMCE///fEAAAMAAAMAAAMAAAMAACLhAAAAHUGeHkUVLG8AAAMAAAMB\n",
       "nCssZyRSAAAo1f3owC3hAAAAFQGePXRF/wAAAwAAAwAAAwAAAwADAwAAABUBnj9qRf8AAAMAAAMA\n",
       "AAMAAAMAAwIAAAApQZokSahBbJlMCE///fEAAAMAAAMABzvkYYAI7Py51su1O2AAAAMAR8AAAAAd\n",
       "QZ5CRRUsbwAAAwAAAwGcKyxnJFIAACjV/ejALeEAAAAVAZ5hdEX/AAADAAADAAADAAADAAMCAAAA\n",
       "FQGeY2pF/wAAAwAAAwAAAwAAAwADAgAAAB5BmmhJqEFsmUwIT//98QAAAwAAAwAAAwAAAwAAIuEA\n",
       "AAAdQZ6GRRUsbwAAAwAAAwGcKyxnJFIAACjV/ejALeEAAAAVAZ6ldEX/AAADAAADAAADAAADAAMD\n",
       "AAAAFQGep2pF/wAAAwAAAwAAAwAAAwADAgAAACdBmqxJqEFsmUwIT//98QAAAwAAAwAHO+PsAArp\n",
       "uu/DU2YAAAMAAdMAAAAdQZ7KRRUsbwAAAwAAAwGcKyxnJFIAACjV/ejALeEAAAAVAZ7pdEX/AAAD\n",
       "AAADAAADAAADAAMCAAAAFQGe62pF/wAAAwAAAwAAAwAAAwADAgAAAB5BmvBJqEFsmUwIT//98QAA\n",
       "AwAAAwAAAwAAAwAAIuEAAAAdQZ8ORRUsbwAAAwAAAwGcKyxnJFIAACjV/ejALeAAAAAVAZ8tdEX/\n",
       "AAADAAADAAADAAADAAMDAAAAFQGfL2pF/wAAAwAAAwAAAwAAAwADAwAAACxBmzRJqEFsmUwIT//9\n",
       "8QAAAwAAAwAHO+RhgAjs5ZFgZlXNEgdQ2AAAAwAR8AAAAB9Bn1JFFSxvAAADAAADAZwrQHzqEHW8\n",
       "AABdpVKSc7LBAAAAFQGfcXRF/wAAAwAAAwAAAwAAAwADAgAAABUBn3NqRf8AAAMAAAMAAAMAAAMA\n",
       "AwMAAAAeQZt4SahBbJlMCE///fEAAAMAAAMAAAMAAAMAACLhAAAAHUGflkUVLG8AAAMAAAMBnCss\n",
       "ZyRSAAAo1f3owC3gAAAAFQGftXRF/wAAAwAAAwAAAwAAAwADAgAAABUBn7dqRf8AAAMAAAMAAAMA\n",
       "AAMAAwMAAAAuQZu8SahBbJlMCE///fEAAAMAAAMABzvkJkAK7+wktAr31roc1zrGAgAAAwAFNAAA\n",
       "AB9Bn9pFFSxvAAADAAADAZwrQHzqEHW8AABdpVKSc7LBAAAAFQGf+XRF/wAAAwAAAwAAAwAAAwAD\n",
       "AgAAABUBn/tqRf8AAAMAAAMAAAMAAAMAAwMAAAAlQZvgSahBbJlMCE///fEAAAMAAAMABzvj7AAK\n",
       "pP46YAAAAwAdMQAAAB1Bnh5FFSxvAAADAAADAZwrLGckUgAAKNX96MAt4QAAABUBnj10Rf8AAAMA\n",
       "AAMAAAMAAAMAAwMAAAAVAZ4/akX/AAADAAADAAADAAADAAMCAAAAJ0GaJEmoQWyZTAhP//3xAAAD\n",
       "AAADAAc746mAK322kny9AQAAAwACmgAAAB1BnkJFFSxvAAADAAADAZwrLGckUgAAKNX96MAt4QAA\n",
       "ABUBnmF0Rf8AAAMAAAMAAAMAAAMAAwIAAAAVAZ5jakX/AAADAAADAAADAAADAAMCAAAAHkGaaEmo\n",
       "QWyZTAhP//3xAAADAAADAAADAAADAAAi4QAAAB1BnoZFFSxvAAADAAADAZwrLGckUgAAKNX96MAt\n",
       "4QAAABUBnqV0Rf8AAAMAAAMAAAMAAAMAAwMAAAAVAZ6nakX/AAADAAADAAADAAADAAMCAAAAJ0Ga\n",
       "rEmoQWyZTAhP//3xAAADAAADAAc746mAK32L5z+wAIAAAAMBTQAAAB9BnspFFSxvAAADAAADAZwr\n",
       "QHzqEHW8AABdpVKSc7LBAAAAFQGe6XRF/wAAAwAAAwAAAwAAAwADAgAAABUBnutqRf8AAAMAAAMA\n",
       "AAMAAAMAAwIAAAAsQZrwSahBbJlMCE///fEAAAMAAAMABzvkJkALDWgD+9lRpYxzLrYAAAMABH0A\n",
       "AAAdQZ8ORRUsbwAAAwAAAwGcKyxnJFIAACjV/ejALeAAAAAVAZ8tdEX/AAADAAADAAADAAADAAMD\n",
       "AAAAFQGfL2pF/wAAAwAAAwAAAwAAAwADAwAAACxBmzRJqEFsmUwIT//98QAAAwAAAwAHO+QmQAsO\n",
       "HIX+ymhMpwbAIAAAAwBTQAAAAB1Bn1JFFSxvAAADAAADAZwrLGckUgAAKNX96MAt4QAAABUBn3F0\n",
       "Rf8AAAMAAAMAAAMAAAMAAwIAAAAVAZ9zakX/AAADAAADAAADAAADAAMDAAAAKUGbeEmoQWyZTAhP\n",
       "//3xAAADAAADAAc746mAKtlMAdeqoQ1sAAADAAj5AAAAHUGflkUVLG8AAAMAAAMBnCssZyRSAAAo\n",
       "1f3owC3gAAAAFQGftXRF/wAAAwAAAwAAAwAAAwADAgAAABUBn7dqRf8AAAMAAAMAAAMAAAMAAwMA\n",
       "AAAeQZu8SahBbJlMCE///fEAAAMAAAMAAAMAAAMAACLgAAAAHUGf2kUVLG8AAAMAAAMBnCssZyRS\n",
       "AAAo1f3owC3hAAAAFQGf+XRF/wAAAwAAAwAAAwAAAwADAgAAABUBn/tqRf8AAAMAAAMAAAMAAAMA\n",
       "AwMAAAAvQZvgSahBbJlMCE///fEAAAMAAAMABzvkJkAK3CqAhbQTxptmtAFyVJgAAAMAB00AAAAf\n",
       "QZ4eRRUsbwAAAwAAAwGcK0B86hB1vAAAXaVSknOywQAAABUBnj10Rf8AAAMAAAMAAAMAAAMAAwMA\n",
       "AAAVAZ4/akX/AAADAAADAAADAAADAAMCAAAAKUGaJEmoQWyZTAhP//3xAAADAAADAAc746mAKhaO\n",
       "TVJgaKoCAAADAAU0AAAAHUGeQkUVLG8AAAMAAAMBnCssZyRSAAAo1f3owC3hAAAAFQGeYXRF/wAA\n",
       "AwAAAwAAAwAAAwADAgAAABUBnmNqRf8AAAMAAAMAAAMAAAMAAwIAAAArQZpoSahBbJlMCE///fEA\n",
       "AAMAAAMABzvkYYAI0tJAcEYo8rm4EAAAAwApoQAAAB1BnoZFFSxvAAADAAADAZwrLGckUgAAKNX9\n",
       "6MAt4QAAABUBnqV0Rf8AAAMAAAMAAAMAAAMAAwMAAAAVAZ6nakX/AAADAAADAAADAAADAAMCAAAA\n",
       "K0GarEmoQWyZTAhP//3xAAADAAADAAc75CZACrURGLyei6VSgEAAAAMApoAAAAAfQZ7KRRUsbwAA\n",
       "AwAAAwGcK0B86hB1vAAAXaVSknOywQAAABUBnul0Rf8AAAMAAAMAAAMAAAMAAwIAAAAVAZ7rakX/\n",
       "AAADAAADAAADAAADAAMCAAAAKkGa8EmoQWyZTAhP//3xAAADAAADAAc746mAKtm71lxHf8hXwAAA\n",
       "AwBHwQAAAB1Bnw5FFSxvAAADAAADAZwrLGckUgAAKNX96MAt4AAAABUBny10Rf8AAAMAAAMAAAMA\n",
       "AAMAAwMAAAAVAZ8vakX/AAADAAADAAADAAADAAMDAAAAKUGbNEmoQWyZTAhP//3xAAADAAADAAc7\n",
       "5GGACNRvvMaUkFAgAAADAFNAAAAAHUGfUkUVLG8AAAMAAAMBnCssZyRSAAAo1f3owC3hAAAAFQGf\n",
       "cXRF/wAAAwAAAwAAAwAAAwADAgAAABUBn3NqRf8AAAMAAAMAAAMAAAMAAwMAAAApQZt4SahBbJlM\n",
       "CE///fEAAAMAAAMABzvkJkAK4WyXPaickkwAAAMAA6cAAAAdQZ+WRRUsbwAAAwAAAwGcKyxnJFIA\n",
       "ACjV/ejALeAAAAAVAZ+1dEX/AAADAAADAAADAAADAAMCAAAAFQGft2pF/wAAAwAAAwAAAwAAAwAD\n",
       "AwAAACZBm7xJqEFsmUwIT//98QAAAwAAAwAHPzg3wAqKOd+8AIAAAAMBTQAAAB1Bn9pFFSxvAAAD\n",
       "AAADAZwrLGckUgAAKNX96MAt4QAAABUBn/l0Rf8AAAMAAAMAAAMAAAMAAwIAAAAVAZ/7akX/AAAD\n",
       "AAADAAADAAADAAMDAAAAKkGb4EmoQWyZTAhP//3xAAADAAADAAc5Bg+GaAFDJID9ieUAEAAAAwAp\n",
       "oQAAAB1Bnh5FFSxvAAADAAADAZwrLGckUgAAKNX96MAt4QAAABUBnj10Rf8AAAMAAAMAAAMAAAMA\n",
       "AwMAAAAVAZ4/akX/AAADAAADAAADAAADAAMCAAAAJkGaJEmoQWyZTAhP//3xAAADAAADAAc7v24A\n",
       "pkoTFwAgAAADAFNAAAAAHUGeQkUVLG8AAAMAAAMBnCssZyRSAAAo1f3owC3hAAAAFQGeYXRF/wAA\n",
       "AwAAAwAAAwAAAwADAgAAABUBnmNqRf8AAAMAAAMAAAMAAAMAAwIAAAAhQZpoSahBbJlMCE///fEA\n",
       "AAMAAAMABzkDndgIAAADABTRAAAAHUGehkUVLG8AAAMAAAMBnCssZyRSAAAo1f3owC3hAAAAFQGe\n",
       "pXRF/wAAAwAAAwAAAwAAAwADAwAAABUBnqdqRf8AAAMAAAMAAAMAAAMAAwIAAAAuQZqsSahBbJlM\n",
       "CE///fEAAAMAAAMABzvBYQAqRHG1WL9dbwc/mHnSWwAAAwACPgAAAB1BnspFFSxvAAADAAADAZwr\n",
       "LGckUgAAKNX96MAt4QAAABUBnul0Rf8AAAMAAAMAAAMAAAMAAwIAAAAVAZ7rakX/AAADAAADAAAD\n",
       "AAADAAMCAAAAJkGa8EmoQWyZTAhP//3xAAADAAADAAc7v24AnlGEHTACAAADAAU1AAAAHUGfDkUV\n",
       "LG8AAAMAAAMBnCssZyRSAAAo1f3owC3gAAAAFQGfLXRF/wAAAwAAAwAAAwAAAwADAwAAABUBny9q\n",
       "Rf8AAAMAAAMAAAMAAAMAAwMAAAApQZs0SahBbJlMCE///fEAAAMAAAMABzkDpu3AFEIvkRJSBkwA\n",
       "AAMAA6YAAAAdQZ9SRRUsbwAAAwAAAwGcKyxnJFIAACjV/ejALeEAAAAVAZ9xdEX/AAADAAADAAAD\n",
       "AAADAAMCAAAAFQGfc2pF/wAAAwAAAwAAAwAAAwADAwAAAChBm3hJqEFsmUwIT//98QAAAwAAAwAH\n",
       "OQOm7cAUQb0kuc3wAAADABHxAAAAHUGflkUVLG8AAAMAAAMBnCssZyRSAAAo1f3owC3gAAAAFQGf\n",
       "tXRF/wAAAwAAAwAAAwAAAwADAgAAABUBn7dqRf8AAAMAAAMAAAMAAAMAAwMAAAAhQZu8SahBbJlM\n",
       "CE///fEAAAMAAAMABzkDndgIAAADABTQAAAAHUGf2kUVLG8AAAMAAAMBnCssZyRSAAAo1f3owC3h\n",
       "AAAAFQGf+XRF/wAAAwAAAwAAAwAAAwADAgAAABUBn/tqRf8AAAMAAAMAAAMAAAMAAwMAAAAtQZvg\n",
       "SahBbJlMCE///fEAAAMAAAMABzkDpywgBSjquH+iSgsqSMmAAAADAHTBAAAAHUGeHkUVLG8AAAMA\n",
       "AAMBnCssZyRSAAAo1f3owC3hAAAAFQGePXRF/wAAAwAAAwAAAwAAAwADAwAAABUBnj9qRf8AAAMA\n",
       "AAMAAAMAAAMAAwIAAAApQZokSahBbJlMCE///fEAAAMAAAMABzkDpw8ABYnPXerzZAQAAAMACmgA\n",
       "AAAdQZ5CRRUsbwAAAwAAAwGcKyxnJFIAACjV/ejALeEAAAAVAZ5hdEX/AAADAAADAAADAAADAAMC\n",
       "AAAAFQGeY2pF/wAAAwAAAwAAAwAAAwADAgAAACFBmmhJqEFsmUwIT//98QAAAwAAAwAHOQOd2AgA\n",
       "AAMAFNEAAAAdQZ6GRRUsbwAAAwAAAwGcKyxnJFIAACjV/ejALeEAAAAVAZ6ldEX/AAADAAADAAAD\n",
       "AAADAAMDAAAAFQGep2pF/wAAAwAAAwAAAwAAAwADAgAAAClBmqxJqEFsmUwIT//98QAAAwAAAwAH\n",
       "O79uAKtmh/C+HvWTAAADAADpgAAAAB9BnspFFSxvAAADAAADAZwrQHzqEHW8AABdpVKSc7LBAAAA\n",
       "FQGe6XRF/wAAAwAAAwAAAwAAAwADAgAAABUBnutqRf8AAAMAAAMAAAMAAAMAAwIAAAArQZrwSahB\n",
       "bJlMCE///fEAAAMAAAMABzvBYQAriiJ/PECpQVvEtgAAAwAEfQAAAB1Bnw5FFSxvAAADAAADAZwr\n",
       "LGckUgAAKNX96MAt4AAAABUBny10Rf8AAAMAAAMAAAMAAAMAAwMAAAAVAZ8vakX/AAADAAADAAAD\n",
       "AAADAAMDAAAAJ0GbNEmoQWyZTAhP//3xAAADAAADAAc7v24AqsR3JpsI3wAAAwABHwAAAB1Bn1JF\n",
       "FSxvAAADAAADAZwrLGckUgAAKNX96MAt4QAAABUBn3F0Rf8AAAMAAAMAAAMAAAMAAwIAAAAVAZ9z\n",
       "akX/AAADAAADAAADAAADAAMDAAAAJ0GbeEmoQWyZTAhP//3xAAADAAADAAc7wk4AIxkZjtMW+AAA\n",
       "AwAI+QAAAB1Bn5ZFFSxvAAADAAADAZwrLGckUgAAKNX96MAt4AAAABUBn7V0Rf8AAAMAAAMAAAMA\n",
       "AAMAAwIAAAAVAZ+3akX/AAADAAADAAADAAADAAMDAAAAKUGbvEmoQWyZTAhP//3xAAADAAADAAc7\n",
       "wk4AI0m3OC9BXqTAAAADADpgAAAAHUGf2kUVLG8AAAMAAAMBnCssZyRSAAAo1f3owC3hAAAAFQGf\n",
       "+XRF/wAAAwAAAwAAAwAAAwADAgAAABUBn/tqRf8AAAMAAAMAAAMAAAMAAwMAAAAoQZvgSahBbJlM\n",
       "CE///fEAAAMAAAMABzvBYQArhvmFiqkXJgAAAwAB0wAAAB1Bnh5FFSxvAAADAAADAZwrLGckUgAA\n",
       "KNX96MAt4QAAABUBnj10Rf8AAAMAAAMAAAMAAAMAAwMAAAAVAZ4/akX/AAADAAADAAADAAADAAMC\n",
       "AAAAKkGaJEmoQWyZTAhP//3xAAADAAADAAc5A6dJwAQlo4Vtm5J/mwAAAwACPgAAAB1BnkJFFSxv\n",
       "AAADAAADAZwrLGckUgAAKNX96MAt4QAAABUBnmF0Rf8AAAMAAAMAAAMAAAMAAwIAAAAVAZ5jakX/\n",
       "AAADAAADAAADAAADAAMCAAAAIEGaaEmoQWyZTAhP//3xAAADAAADAAcOZoAgAAADAFXBAAAAHUGe\n",
       "hkUVLG8AAAMAAAMBnCssZyRSAAAo1f3owC3hAAAAFQGepXRF/wAAAwAAAwAAAwAAAwADAwAAABUB\n",
       "nqdqRf8AAAMAAAMAAAMAAAMAAwIAAAAqQZqsSahBbJlMCE///fEAAAMAAAMABxnEmoKYBGnDkoOv\n",
       "9pbAAAADAJOAAAAAHUGeykUVLG8AAAMAAAMBnCssZyRSAAAo1f3owC3hAAAAFQGe6XRF/wAAAwAA\n",
       "AwAAAwAAAwADAgAAABUBnutqRf8AAAMAAAMAAAMAAAMAAwIAAAAiQZrwSahBbJlMCE///fEAAAMA\n",
       "AAMABwz2cPN2wAAAAwCTgQAAAB1Bnw5FFSxvAAADAAADAZwrLGckUgAAKNX96MAt4AAAABUBny10\n",
       "Rf8AAAMAAAMAAAMAAAMAAwMAAAAVAZ8vakX/AAADAAADAAADAAADAAMDAAAAK0GbNEmoQWyZTAhP\n",
       "//3xAAADAAADAAcNASyh7IA2NaVsUc9W3yYAAAMAAd0AAAAdQZ9SRRUsbwAAAwAAAwGcKyxnJFIA\n",
       "ACjV/ejALeEAAAAVAZ9xdEX/AAADAAADAAADAAADAAMCAAAAFQGfc2pF/wAAAwAAAwAAAwAAAwAD\n",
       "AwAAACBBm3hJqEFsmUwIT//98QAAAwAAAwAHFyI0BAAAAwAKuQAAAB1Bn5ZFFSxvAAADAAADAZwr\n",
       "LGckUgAAKNX96MAt4AAAABUBn7V0Rf8AAAMAAAMAAAMAAAMAAwIAAAAVAZ+3akX/AAADAAADAAAD\n",
       "AAADAAMDAAAAK0GbvEmoQWyZTAhP//3xAAADAAADAAcXKCqYBHANqtURdfDerJgAAAMAB3QAAAAd\n",
       "QZ/aRRUsbwAAAwAAAwGcKyxnJFIAACjV/ejALeEAAAAVAZ/5dEX/AAADAAADAAADAAADAAMCAAAA\n",
       "FQGf+2pF/wAAAwAAAwAAAwAAAwADAwAAACpBm+BJqEFsmUwIT//98QAAAwAAAwAHDQCjtjYAjnsW\n",
       "ugEHMmAAAAMAHdEAAAAdQZ4eRRUsbwAAAwAAAwGcKyxnJFIAACjV/ejALeEAAAAVAZ49dEX/AAAD\n",
       "AAADAAADAAADAAMDAAAAFQGeP2pF/wAAAwAAAwAAAwAAAwADAgAAAB5BmiRJqEFsmUwIT//98QAA\n",
       "AwAAAwAAAwAAAwAAIuAAAAAdQZ5CRRUsbwAAAwAAAwGcKyxnJFIAACjV/ejALeEAAAAVAZ5hdEX/\n",
       "AAADAAADAAADAAADAAMCAAAAFQGeY2pF/wAAAwAAAwAAAwAAAwADAgAAACtBmmhJqEFsmUwIT//9\n",
       "8QAAAwAAAwAHDP8k+boAWhzKldvy1K0tgAAAAwEnAAAAHUGehkUVLG8AAAMAAAMBnCssZyRSAAAo\n",
       "1f3owC3hAAAAFQGepXRF/wAAAwAAAwAAAwAAAwADAwAAABUBnqdqRf8AAAMAAAMAAAMAAAMAAwIA\n",
       "AAAhQZqsSahBbJlMCE///fEAAAMAAAMABw0BKTYCAAADAAVcAAAAHUGeykUVLG8AAAMAAAMBnCss\n",
       "ZyRSAAAo1f3owC3hAAAAFQGe6XRF/wAAAwAAAwAAAwAAAwADAgAAABUBnutqRf8AAAMAAAMAAAMA\n",
       "AAMAAwIAAAAqQZrwSahBbJlMCE///fEAAAMAAAMABw/kJkAONkbc1kSebdgIAAADABVxAAAAHUGf\n",
       "DkUVLG8AAAMAAAMBnCssZyRSAAAo1f3owC3gAAAAFQGfLXRF/wAAAwAAAwAAAwAAAwADAwAAABUB\n",
       "ny9qRf8AAAMAAAMAAAMAAAMAAwMAAAAqQZs0SahBbJlMCE///fEAAAMAAAMABxKispgDTdaXvXvy\n",
       "RfJgAAADAB3QAAAAHUGfUkUVLG8AAAMAAAMBnCssZyRSAAAo1f3owC3hAAAAFQGfcXRF/wAAAwAA\n",
       "AwAAAwAAAwADAgAAABUBn3NqRf8AAAMAAAMAAAMAAAMAAwMAAAAmQZt4SahBbJlMCE///fEAAAMA\n",
       "AAMABwz22LvCANLBiYAAAAMAd0EAAAAdQZ+WRRUsbwAAAwAAAwGcKyxnJFIAACjV/ejALeAAAAAV\n",
       "AZ+1dEX/AAADAAADAAADAAADAAMCAAAAFQGft2pF/wAAAwAAAwAAAwAAAwADAwAAABxBm7lJqEFs\n",
       "mUwIv/pYAAADAAADAAADAAADAAGrAAARMGWIggAM//727L4FNf2f0JcRLMXaSnA+KqSAgHc0wAAA\n",
       "AwAAAwAAAwAqRzn05uPi9otAAAADAtoArwIxF/hdbEK4AIadFMr4tjzVMnhcdGWfPpy/OXteFmGW\n",
       "Gf6v0Jxn+XzmCgbPkFyTbSSUU03AALsjgaM0KvwwXMUFTDCMU2EMlxZkkEO6MFvCYkSEXrl3m8tj\n",
       "o+ZGLFkMueP7AFZ3dKx9eTIynmIjhPM6Y344LiUvkxMJmxlKYP4+iOtd1J/JbD+r67I26omOkvbp\n",
       "9ZQzZ2BnDi4k+hEWBC3gDZAmcnlFw8CVx8uIavSvfhgD2n7sQaJs/Z8JCbOgZuJQUIh/RzP1tE5I\n",
       "pK8FHyviT5h4hTQ/45DVt42GT4B1P+znUMEx/J67j7S1BdM4m9Y/bcGUk5llTXP7T0gXk+xyf+1p\n",
       "Rxn//UjkT2YsqpPRHwPk0IejP+AtRQuslx0gBUdwK7w5e62s8KUWqndfxGGLvr0h9ZucVGwnA1qs\n",
       "h9frClpDPsBgh0TFOfQwiQDWXyFem96yCBUGI5SpcAxBFX/pOSFVihtZ68NRSCDCn5BtOFJfuzC1\n",
       "OnFUqeZBSVKy6AkvUbFvPAsdbMts4uODISK1MfsLh9N34R9AyDq2r5bsG//FiIyAllQNbPv/lqRG\n",
       "YnjQDrajiNnxrTqLqcPoV8rnJ3VwylJtrCziClxvfREelfdM3L2RCeyYegni+K7afHMBYpfpnKD0\n",
       "HRtgzgdpbUghxta+KsHyNQTmZHcdFYKK+PlUufGyQhEOKGpRnaVg3iSYkkP7L8MGm8gx0Rx72kCp\n",
       "F2NTCQ+8r0PuiRgUdEDpOS57/33mE6L+rtwXOCc8eaquvohsXxQtWzAVwcH5S3RapI6fVruiQNL/\n",
       "4KY+19oO7ZZX9Ei5G6QZZNKe0OY7xzG2nnHvY71zIkBUHY9X+hSx95TUHHFhSXH3JBqbhpbv/eVa\n",
       "mU3t38Jkx9rAuyUEUi9ok7w5B1tT7xAcoZ18K/flDI2FWw6I3DUO7cjKBzJCm3CugupHwohrWDy0\n",
       "dlySHkU4HDi8dBmV+TEyiKdi07fal+gwlB0fqG82HnJrGZazwKKVpa9sx4p0IVRpKiIVnMjtA856\n",
       "zfIRKsueVL2gTiYL41v0feaOlcbxbAYjHrxBlTjDYHSDT09Jq/0V3SLeJI0KclpLaiQ5oXt1yA5O\n",
       "U+NBbbMHQOI1UYLz+EVg21Ic5MUXaS1tw7FxrWVxEUjqF/uq/2XZhvXeupBrqwKcvh6NXCpBXL6u\n",
       "HJ9YgT3pOvzT9EdjndzR3EUbxRS6xPTLdP3kEdCIG6lxohiKg4utL50l7yMAR4QfY/0BfHbPmVaR\n",
       "M5e1tAtr9O7K9UeYgbP8pYKMDprUv9MHG2P4r15rSrpsXZ5Hl/WoZZpQj+hGEi4+DlIfznYFi+91\n",
       "e7OptGn2ItOf9Q6nL1sqGbP5zq1qReEc39zxwCIJ5hG/hdqR05fEb0EsvCfb7iFyw3WavB4YlWVz\n",
       "H73Zc8ucJIZCvfMWjZ6LoA6E2AmdjPe2994T+9E821L0UgUlynGg3aSbxUibm/DXQqXowZ3bsd7g\n",
       "sI3hM6XxrphnH+q3VrgWU/ftv843mVBPwKw18OZvei/JqYzn9v0b+mUkUEcaZBzGuEhXbK7+zR7M\n",
       "1e/kvkcFuB/UTKc/BYLg9hfsHu+8uXGdEY/xpH2IUkzs2BDLtQWpsW1VwUUtDiLVIqgtRentGwjz\n",
       "RHMTK+ZIrpOkYD0xecJgoBV6NEd+H/TXYI8rWuMoRGxkT4OVbbB5kZkdz6jQ7cq27wDp2zEjKCoK\n",
       "WCbIbWjsJPQ32MNuQaSd5AmFfNyl44xiAMw1wufl8d4Gr4fY982MDL7znBziYDcgX8PMhF8OSq5t\n",
       "iFnbcgUM3GOL7wJrYrx/At70vIv8PgOfnmGT9ZkGL2U0U+xHbF7Pr85mboHkT/j89bYZwS35FxB0\n",
       "DSFZZKgS7WYk9c2NQ4B9DtqcVoJWBif1vkaS9HsrscAcnLgt2KYO1T2VuOs90Y5whU7AEA12GX9h\n",
       "WfuRqd4r/59M1Vigj4c2al2uX3JybYvJYaUlGH+Hl1JQldznRJCmNJfvulu4arrX/UF4BycxPLod\n",
       "7kEP4WNpZ5Ixue54sP+ItYJs5R40/TX4aboFLvZ2jlSrjPd/LvHN7pwGQuGTM2I+HJABblA0forG\n",
       "TK77xLBobR9iviFCujsvijkaMAPxT+iMG42j744SNB+DzUF6SEaZJOVQ5AQg1VZxtJOPq50wyWMI\n",
       "2TksDA0qBvhkrslISd19Yw7RGWHrRlbzNkbJsu8siYUVSlNBvQbkGL7KCIgY2W0je4oIii6mbmEm\n",
       "WQieuuLvHM8y7onBCd+sdoikcHcU2cSJn+8OqJZr5JSxOMQemZbShOw3fnKWlH4vZB7Xb/eS0reB\n",
       "8mDRwA8OTIl1ysipdh8Bgf/4LeTSwuRapeEUExg9PZ350XMP4JDSTTt/Y6gbVjrSRU3XTooiyX6Y\n",
       "DEqvVdVNF4hOee/M6RuOKoav2AVM8YOnJP9lSaeyZoqIPU8iD9qH/iFL0lpekcGNJXF31n4NsIVy\n",
       "TRRtgyeJDayyERicAw+I8e3NxYPpLzCMLJw+4vi5KnTaNy0pgzJjkzrJjIcLGs1Ce/9YUqQw/Eku\n",
       "RoxsMeTuBBJKo+AAAAMAZ1URPhaIfWIo7d1vlsHZ/K9RvhoVxylrZyXT+fKHtZGuHVafJdoQSqxA\n",
       "INVxA3/hSc06Kh6yMm4b8MOqDGQQq5zRAumHMdykzemWhGm5mGQAGDzcPd075GvQ9nEsiJrALtiq\n",
       "SKluBX2YYXW9/XDH8Cz/DI7RYPv6+aZcTQKPytPPW0PIRU2Sw9zIDs+Eihol4nckJeVVBFrWjK16\n",
       "HTQ7eTY6hoPPQm3IYv8TLgo3WHmmEeyb5iZjxuetTNwd497PkI/F19nsdiXs3UmOcNOxQQQbfcGr\n",
       "xEf/PlFO+4zRAPdgX6ye3n8BPRWwEk8vpGxO7zJljZ1vWLktaBLLsELp4mKXZe7PA5qAKMzM/4TL\n",
       "JjTUET5dOyMD5tX7J7Dz00AEcwSi0XPUdMQBWEHeplMTd+8zdThxADMBHfMQKeNJ1gUIrNeCfmt5\n",
       "As6GpAUGcfaEqumauSr9VXMqHYaB6/KItn5P3PfaO7T3D8+txCMOeYrZ5yG66jfHXH54KYPWndXd\n",
       "0uV1Gfu8kgKRqsNi/QKpVrOUN4uAyN7l6q/UsRObxpfJOgAZYLIYAF9MTUDPsMwCRlvMDulc4ITI\n",
       "fLGvhP2NLQnr1tYnMD0NMRpGnG8Hrc3dQsWLUqR+eUdxf/18Xv9QCCMENJ/j+bxyNaN004GorhPx\n",
       "nZnD6eNE8bipYtCApUG6KrLUWndlIuyUKE1xH5Usf0j7zBGn/opUZ5edP0Pd7D4MylWqwL1NiClv\n",
       "HPrcAyQRtbwTdFrbqLyajoyTfoitCmvNE9cgG6+TrMXLR9AD9LdULqcgRcn39kcWe5DRDsrJr19g\n",
       "eAIPOgmuHXffITyvTwBfYK6jWUIF1tnbBseZM4N4X/XGoZnAkC0pDI7hil9BNAarz0RSv35btWvr\n",
       "ppE49mnF6qlkKINr0kHShWAPV3hGwj1ldSk4p4PdLOabdzPkVRq0rz9q35X0LS7GKQR6K1/qtUjT\n",
       "+779ly7qKoXQeQRPf6vYOMUrTCm18rzG1hI2YqEF7+BOnE4PzKn/SykhmTYIeIRR8aa0PQIG/eR6\n",
       "7a+hci4ZjpZnin9IYmAFMZWfhkNe/l+ORcIN+tERlyLl+EM3JPzK4+USIyzAZp/zlnY0lJ/3FBGj\n",
       "+ateOp7qUgKdXI3HM1sC/eEDiJl2937D2i/OEFi4tAnDPJvSBQmDVR0eeeMrmv+TXHRHY2EETNi0\n",
       "FcHduPmqruTA1We4s4OCMIkt/MCFHPNMSdL4OdYieTuyDTx3dLRqCZi4aAylu+Yogm5oQw+gaCfs\n",
       "zuR+tiCZ1Z6uFq1bF9VbXeYBl+sgniZxg5ekPciQHzkbBoHOQM2J0uB2yL+U0FU1GCHcLx+V9S94\n",
       "AyrDNEwP55L1yGtpZNUqyURFxXz7ZgghrI5DeUlm0RdGnMSYTC5WaKjsTmopgP/UXiYcWHrD5MT1\n",
       "c1WJYxFXoXR+5KjjSxFpqRkWndyZ9Zl32mgyTwelZbXuxVKi/WbAT9bUBe5dAgMQ9ssCO1Askcm0\n",
       "IzbYSVMsDaVL0akFZYoWoKC0fMCkCLjORmMRonn9Pnhufj9nJaNcZfA+dKHV1QNqcLqXn5kIIoj7\n",
       "bdUNKOi0CgiSWJwqp+hgTRX/di1T1EhTGCHcyX1K134tQSv7oau0fbtlVN+2cGcY8FbU6f7DblDe\n",
       "BL7ms5a/a00C9St6Q5IqC/MyxJQCuXxGPP4hRAcCJuI/LDDzmeTOF5TuxsNAmKDfC3nryEYykV1L\n",
       "i6G5TsFEhqmvaCONBe4DYScp6/kfkj4SyuRqRxfA9QABBNQMLs+jQFmxhQC3/pzgqr72GMc1sLu1\n",
       "/rK9WwWS2K8u1RajQ6pc0VcZwZM1uODf0fqb/JzIHuW0/y3x/u4A1YZbHdAE0BH9R/sde13CFdeW\n",
       "KqJ9HqGCoZTJkGocMoaFvHVyZ/2EJfycDQkbSRHCjM/uPmn1nAeLFJ+RsDL6/gcY+38/w8bC2LYA\n",
       "B5s8BivUCCYYCuWGLdtwmrtgObr8uZEA0VxMZX/plByZVhv94atuyfNJ79rDk5HKAJQo5yNMuaFq\n",
       "N1AQZjkBdbirFlX7Zc6NYX2n+lsARNbePqVVpSOFHuJ330YhdmOWI4ErYtE9gClqwNvlVAWz6G6m\n",
       "T6Az//4+Au1pUJPyAAFOpSl9ABsNYKCZwPEEpisgM8nOgvAhqnVOjXBO1JLWGkvglXZBnk5TPmAU\n",
       "tF2/RO3ZAyq/PzRtYOoPWa8Gvi0SOU+oU5Rm9w0XZtoSlnIvYsIErmhgMp4gm7XOEUyFuCo5AF03\n",
       "CTYoSz2HFKLAHwkFgBE0oIG5UAn3ZOkjE/EiqUrmldUg/yTqt9sp+33ukfrFS7FcoVaJMzVWk7Qu\n",
       "nToYwbvr1PrPE2S0/JpqVI+i3O2mwdE+eY+fx3INQtuKe1I12flhAAjPR4MibFxy6ARtSK2zDM1k\n",
       "nSSvharwr/wZdhq4nysFZOBD09Y90shCOgetsFImfdbrS85qe5mT9Mm+1DfLY2bHPAPTWYu/ivds\n",
       "bIphOZ0cN3YcAYRSpUGGg+7wYzv1vcUwu7MKAtoibARUTgA5jCj/zqXl6tcgIswTbShS5xrfcd8V\n",
       "hVevZcKIcM187IoNS/A/InO2P0vBAkPUEiALE5hV7I4LIwpjKzROBBskCFwdFFPlRvygAF0fc1B7\n",
       "GBgydHKManJS8eBbOOSqPynYDG4cYKvK39non0/4HtX9MD390ETE/uk3Ae0yHTtA80idCn5tEN8x\n",
       "HD9a68W4Hme7/uFhXUGoIj0HCSdAILoyhaJRfTVruMmZigfoHSHtH1eOmwiZFisN3AnM7vdpNAWb\n",
       "9AJq6NIbv/ov79xCMo/MByN8xdFbHvcPBE4RKpfoihM6QSs2VMfkJSB/HfnaxUqJMdD83pOmvzqa\n",
       "w83dWqHxU+JifXBDPC7bjJQ0H/aoYYCQ2a5WFq8fo/PsxNLTkcgnXm7tfXWjui/zHsxzbAmhKcF4\n",
       "u2IIE//Mr7uz8Ow2JL4qOI5qukHQwhWIkZIflQvUaMZYElHUSgvW7f/9ObfJvVJH9EWoOT7uwb4g\n",
       "bd7kGpkLnxwN/jCLjiEFqptRyc5QtPxk8rGEJnhlKfB1kexysvT1VNMUb9chDGEhYxxiCxConr7K\n",
       "nWA2IBygmNKWr79WGrM7lbFoszrSkDb4Jyxruig9C1UEwGW1FXyU9GuWPoDfqaUQ8rOCmowXS+EQ\n",
       "eKYIg6BUIWgiwsFFwEA3bRRyKFOrSlGCG1ARsAAAAwAAAwN/AAAAWEGaJGxCf/3xAAADApHsRZGa\n",
       "M30QCMp1VE1k5fDAFJOo8fBvrl+8lDF94TbIi/lV4p5brXk6lg4gj26nzjP6oAehkBuB3FHJL4US\n",
       "B42HtWDjCuARO1CIccAAAAAuQZ5CeI3/AAAsRfvrC9cR5+KI6T290VtKcolP38MjgAKWRm9PPGRB\n",
       "Wj1kOIAB/wAAACcBnmF0Rf8AADcvO2AgULBmVMn4+xoorndjq3hvQMRgp3ASwi7KxL0AAAAYAZ5j\n",
       "akX/AAADAAADA3Oqy1sNJhdgABSRAAAAJUGaaEmoQWiZTAhP//3xAAADAAADAAcNZdXWj/gGREAA\n",
       "AAMAYsEAAAAeQZ6GRREsbwAAAwAAAwGcKz/dBpLHwAACyTqcaV2WAAAAFgGepXRF/wAAAwAAAwBY\n",
       "d/WgAAADAd0AAAAVAZ6nakX/AAADAAADAAADAAADAAMDAAAAKUGarEmoQWyZTAhP//3xAAADAAAD\n",
       "AAcRjV3AGjk3mN20jgBAAAADAKuAAAAAG0GeykUVLG8AAAMAAAMBnCslQAAAVRQOdLZbyAAAABUB\n",
       "nul0Rf8AAAMAAAMAAAMAAAMAAwMAAAAVAZ7rakX/AAADAAADAAADAAADAAMDAAAAIkGa8EmoQWyZ\n",
       "TAhP//3xAAADAAADAAcM8aD7dsAAAAMAk4EAAAAbQZ8ORRUsbwAAAwAAAwGcKyVAAABVFA50tlvI\n",
       "AAAAFQGfLXRF/wAAAwAAAwAAAwAAAwADAgAAABUBny9qRf8AAAMAAAMAAAMAAAMAAwMAAAAhQZs0\n",
       "SahBbJlMCE///fEAAAMAAAMABw0GGDYCAAADAAVcAAAAG0GfUkUVLG8AAAMAAAMBnCslQAAAVRQO\n",
       "dLZbyAAAABUBn3F0Rf8AAAMAAAMAAAMAAAMAAwMAAAAVAZ9zakX/AAADAAADAAADAAADAAMCAAAA\n",
       "IUGbeEmoQWyZTAhP//3xAAADAAADAAcNBZg5JgAAAwAB3QAAABtBn5ZFFSxvAAADAAADAZwrJUAA\n",
       "AFUUDnS2W8kAAAAVAZ+1dEX/AAADAAADAAADAAADAAMCAAAAFQGft2pF/wAAAwAAAwAAAwAAAwAD\n",
       "AwAAAClBm7xJqEFsmUwIT//98QAAAwAAAwAHDWW+ZQ0AS6MxluXACAAAAwAVcAAAABtBn9pFFSxv\n",
       "AAADAAADAZwrJUAAAFUUDnS2W8kAAAAVAZ/5dEX/AAADAAADAAADAAADAAMDAAAAFQGf+2pF/wAA\n",
       "AwAAAwAAAwAAAwADAgAAACBBm+BJqEFsmUwIT//98QAAAwAAAwAHEzJq2AAAAwAScAAAABtBnh5F\n",
       "FSxvAAADAAADAZwrJUAAAFUUDnS2W8kAAAAVAZ49dEX/AAADAAADAAADAAADAAMCAAAAFQGeP2pF\n",
       "/wAAAwAAAwAAAwAAAwADAwAAACxBmiRJqEFsmUwIT//98QAAAwAAAwAWqinwCa5NX4zPsVBctFFp\n",
       "twAAAwACJgAAABtBnkJFFSxvAAADAAADAZwrJUAAAFUUDnS2W8kAAAAVAZ5hdEX/AAADAAADAAAD\n",
       "AAADAAMDAAAAFQGeY2pF/wAAAwAAAwAAAwAAAwADAwAAACVBmmhJqEFsmUwIT//98QAAAwAAAwAH\n",
       "D8B4AE1r1aUCAAADAAVdAAAAG0GehkUVLG8AAAMAAAMBnCslQAAAVRQOdLZbyAAAABUBnqV0Rf8A\n",
       "AAMAAAMAAAMAAAMAAwIAAAAVAZ6nakX/AAADAAADAAADAAADAAMDAAAAMEGarEmoQWyZTAhP//3x\n",
       "AAADAAADABa2zoXAC0OYHtMiq32Z9BaYpXsFwAAAAwDqgAAAABtBnspFFSxvAAADAAADAZwrJUAA\n",
       "AFUUDnS2W8gAAAAVAZ7pdEX/AAADAAADAAADAAADAAMDAAAAFQGe62pF/wAAAwAAAwAAAwAAAwAD\n",
       "AwAAACdBmvBJqEFsmUwIT//98QAAAwAAAwAWMDI+3gAOkQnawIAAAAMAbcEAAAAeQZ8ORRUsbwAA\n",
       "AwAAAwGcLIvedQAAAwFzuoEQALeAAAAAFQGfLXRF/wAAAwAAAwAAAwAAAwADAgAAABUBny9qRf8A\n",
       "AAMAAAMAAAMAAAMAAwMAAAAoQZs0SahBbJlMCE///fEAAAMAAAMAFjA7CXcAcnMgz/JICAAAAwAG\n",
       "3AAAABtBn1JFFSxvAAADAAADAZwrJUAAAFUUDnS2W8gAAAAVAZ9xdEX/AAADAAADAAADAAADAAMD\n",
       "AAAAFQGfc2pF/wAAAwAAAwAAAwAAAwADAgAAACBBm3hJqEFsmUwIT//98QAAAwAAAwAWGGPFsAAA\n",
       "AwAMCQAAABtBn5ZFFSxvAAADAAADAZwrJUAAAFUUDnS2W8kAAAAVAZ+1dEX/AAADAAADAAADAAAD\n",
       "AAMCAAAAFQGft2pF/wAAAwAAAwAAAwAAAwADAwAAAChBm7xJqEFsmUwIT//98QAAAwAAAwAWKSny\n",
       "6AHQAF4WpOmAAAADACbgAAAAHUGf2kUVLG8AAAMAAAMBnCyJQICAAAC6IzcE/w/BAAAAFQGf+XRF\n",
       "/wAAAwAAAwAAAwAAAwADAwAAABUBn/tqRf8AAAMAAAMAAAMAAAMAAwIAAAAnQZvgSahBbJlMCE//\n",
       "/fEAAAMAAAMAFhKTQ+zwBllZj/b4AAADAAMCAAAAG0GeHkUVLG8AAAMAAAMBnCslQAAAVRQOdLZb\n",
       "yQAAABUBnj10Rf8AAAMAAAMAAAMAAAMAAwIAAAAVAZ4/akX/AAADAAADAAADAAADAAMDAAAAKUGa\n",
       "JEmoQWyZTAhP//3xAAADAAADABYWcu4ArLknevZkNDy2AAADAAGBAAAAHUGeQkUVLG8AAAMAAAMB\n",
       "nCyJQICAAAC6IzcE/w/BAAAAFQGeYXRF/wAAAwAAAwAAAwAAAwADAwAAABUBnmNqRf8AAAMAAAMA\n",
       "AAMAAAMAAwMAAAAgQZpoSahBbJlMCE///fEAAAMAAAMAFjOcJWwAAAMAAwMAAAAbQZ6GRRUsbwAA\n",
       "AwAAAwGcKyVAAABVFA50tlvIAAAAFQGepXRF/wAAAwAAAwAAAwAAAwADAgAAABUBnqdqRf8AAAMA\n",
       "AAMAAAMAAAMAAwMAAAAqQZqsSahBbJlMCE///fEAAAMAAAMAFiXMBTuAK0SRaQZRUFsAAAMAAMCA\n",
       "AAAAHUGeykUVLG8AAAMAAAMBnCyJQICAAAC6IzcE/w/AAAAAFQGe6XRF/wAAAwAAAwAAAwAAAwAD\n",
       "AwAAABUBnutqRf8AAAMAAAMAAAMAAAMAAwMAAAAoQZrwSahBbJlMCE///fEAAAMAAAMAFiYbQnAB\n",
       "fntiMpbRMAAAAwAE3QAAABtBnw5FFSxvAAADAAADAZwrJUAAAFUUDnS2W8gAAAAVAZ8tdEX/AAAD\n",
       "AAADAAADAAADAAMCAAAAFQGfL2pF/wAAAwAAAwAAAwAAAwADAwAAACFBmzRJqEFsmUwIT//98QAA\n",
       "AwAAAwAWKrcx4EAAAAMANuAAAAAbQZ9SRRUsbwAAAwAAAwGcKyVAAABVFA50tlvIAAAAFQGfcXRF\n",
       "/wAAAwAAAwAAAwAAAwADAwAAABUBn3NqRf8AAAMAAAMAAAMAAAMAAwIAAAAgQZt4SahBbJlMCE//\n",
       "/fEAAAMAAAMAFiO80rYAAAMAAYEAAAAbQZ+WRRUsbwAAAwAAAwGcKyVAAABVFA50tlvJAAAAFQGf\n",
       "tXRF/wAAAwAAAwAAAwAAAwADAgAAABUBn7dqRf8AAAMAAAMAAAMAAAMAAwMAAAAoQZu8SahBbJlM\n",
       "CE///fEAAAMAAAMAFhZa3gBz3yXpvPmV+AAAAwADAgAAABtBn9pFFSxvAAADAAADAZwrJUAAAFUU\n",
       "DnS2W8kAAAAVAZ/5dEX/AAADAAADAAADAAADAAMDAAAAFQGf+2pF/wAAAwAAAwAAAwAAAwADAgAA\n",
       "ACVBm+BJqEFsmUwIT//98QAAAwAAAwAWI5kPgANtgxMAAAMAAE3AAAAAG0GeHkUVLG8AAAMAAAMB\n",
       "nCslQAAAVRQOdLZbyQAAABUBnj10Rf8AAAMAAAMAAAMAAAMAAwIAAAAVAZ4/akX/AAADAAADAAAD\n",
       "AAADAAMDAAAAJkGaJEmoQWyZTAhP//3xAAADAAADABYWUdAC959ZVcwEAAADAANuAAAAG0GeQkUV\n",
       "LG8AAAMAAAMBnCslQAAAVRQOdLZbyQAAABUBnmF0Rf8AAAMAAAMAAAMAAAMAAwMAAAAVAZ5jakX/\n",
       "AAADAAADAAADAAADAAMDAAAAHkGaaEmoQWyZTAhP//3xAAADAAADAAADAAADAAAi4QAAABtBnoZF\n",
       "FSxvAAADAAADAZwrJUAAAFUUDnS2W8gAAAAVAZ6ldEX/AAADAAADAAADAAADAAMCAAAAFQGep2pF\n",
       "/wAAAwAAAwAAAwAAAwADAwAAACpBmqxJqEFsmUwIT//98QAAAwAAAwAWGj1wBCOyF3kI0d7CQmAA\n",
       "AAMACbgAAAAbQZ7KRRUsbwAAAwAAAwGcKyVAAABVFA50tlvIAAAAFQGe6XRF/wAAAwAAAwAAAwAA\n",
       "AwADAwAAABUBnutqRf8AAAMAAAMAAAMAAAMAAwMAAAAhQZrwSahBbJlMCE///fEAAAMAAAMAFaAy\n",
       "/yAgAAADABwRAAAAG0GfDkUVLG8AAAMAAAMBnCslQAAAVRQOdLZbyAAAABUBny10Rf8AAAMAAAMA\n",
       "AAMAAAMAAwIAAAAVAZ8vakX/AAADAAADAAADAAADAAMDAAAAIEGbNEmoQWyZTAhP//3xAAADAAAD\n",
       "ABWI2WtgAAADABiwAAAAG0GfUkUVLG8AAAMAAAMBnCslQAAAVRQOdLZbyAAAABUBn3F0Rf8AAAMA\n",
       "AAMAAAMAAAMAAwMAAAAVAZ9zakX/AAADAAADAAADAAADAAMCAAAAHkGbeEmoQWyZTAhP//3xAAAD\n",
       "AAADAAADAAADAAAi4QAAABtBn5ZFFSxvAAADAAADAZwrJUAAAFUUDnS2W8kAAAAVAZ+1dEX/AAAD\n",
       "AAADAAADAAADAAMCAAAAFQGft2pF/wAAAwAAAwAAAwAAAwADAwAAACZBm7xJqEFsmUwIT//98QAA\n",
       "AwAAAwAViOuGABxamHHW+AAAAwADFgAAAB1Bn9pFFSxvAAADAAADAZwsb2dyAAADAc7hZ+38PwAA\n",
       "ABUBn/l0Rf8AAAMAAAMAAAMAAAMAAwMAAAAVAZ/7akX/AAADAAADAAADAAADAAMCAAAAJkGb4Emo\n",
       "QWyZTAhP//3xAAADAAADABWKfugBGQtwBCpgAAADAAoIAAAAHUGeHkUVLG8AAAMAAAMBnCxvZ3IA\n",
       "AAMBzuFn7fw/AAAAFQGePXRF/wAAAwAAAwAAAwAAAwADAgAAABUBnj9qRf8AAAMAAAMAAAMAAAMA\n",
       "AwMAAAAlQZokSahBbJlMCE///fEAAAMAAAMAFYjrvgAIWwYmAAADAACggAAAABtBnkJFFSxvAAAD\n",
       "AAADAZwrJUAAAFUUDnS2W8kAAAAVAZ5hdEX/AAADAAADAAADAAADAAMDAAAAFQGeY2pF/wAAAwAA\n",
       "AwAAAwAAAwADAwAAACdBmmhJqEFsmUwIT//98QAAAwAAAwAVp0dkegBGRVxvFsAAAAMAMWEAAAAb\n",
       "QZ6GRRUsbwAAAwAAAwGcKyVAAABVFA50tlvIAAAAFQGepXRF/wAAAwAAAwAAAwAAAwADAgAAABUB\n",
       "nqdqRf8AAAMAAAMAAAMAAAMAAwMAAAAoQZqsSahBbJlMCE///fEAAAMAAAMAFYZR0AHF4Mq9ukBv\n",
       "gAAAAwAxYAAAAB1BnspFFSxvAAADAAADAZwsbrZPkAAADn6RZ2/h+AAAABYBnul0Rf8AAAMAAAMB\n",
       "zywYAAADAAJvAAAAFQGe62pF/wAAAwAAAwAAAwAAAwADAwAAACVBmvBJqEFsmUwIT//98QAAAwAA\n",
       "AwAVgctRnYACEYj4AAADAAMXAAAAG0GfDkUVLG8AAAMAAAMBnCslQAAAVRQOdLZbyAAAABUBny10\n",
       "Rf8AAAMAAAMAAAMAAAMAAwIAAAAVAZ8vakX/AAADAAADAAADAAADAAMDAAAAJ0GbNEmoQWyZTAhP\n",
       "//3xAAADAAADABWWpUdgBTp5EtdAgAAAAwBwQAAAAB1Bn1JFFSxvAAADAAADAZwsbrZPkAAADn6R\n",
       "Z2/h+AAAABUBn3F0Rf8AAAMAAAMAAAMAAAMAAwMAAAAVAZ9zakX/AAADAAADAAADAAADAAMCAAAA\n",
       "IUGbeEmoQWyZTAhP//3xAAADAAADABWTsPVgQAAAAwA4IQAAABtBn5ZFFSxvAAADAAADAZwrJUAA\n",
       "AFUUDnS2W8kAAAAVAZ+1dEX/AAADAAADAAADAAADAAMCAAAAFQGft2pF/wAAAwAAAwAAAwAAAwAD\n",
       "AwAAACVBm7xJqEFsmUwIT//98QAAAwAAAwAVk63l5AG+/RMAAAMAAFBAAAAAG0Gf2kUVLG8AAAMA\n",
       "AAMBnCslQAAAVRQOdLZbyQAAABUBn/l0Rf8AAAMAAAMAAAMAAAMAAwMAAAAVAZ/7akX/AAADAAAD\n",
       "AAADAAADAAMCAAAAKkGb4EmoQWyZTAhP//3xAAADAAADABWWzksABzBijRAQBhJlYAAAAwAYsAAA\n",
       "ABtBnh5FFSxvAAADAAADAZwrJUAAAFUUDnS2W8kAAAAVAZ49dEX/AAADAAADAAADAAADAAMCAAAA\n",
       "FQGeP2pF/wAAAwAAAwAAAwAAAwADAwAAACdBmiRJqEFsmUwIT//98QAAAwAAAwAU+n7oARfz3vFp\n",
       "fJgAAAMAApIAAAAbQZ5CRRUsbwAAAwAAAwGcKyVAAABVFA50tlvJAAAAFQGeYXRF/wAAAwAAAwAA\n",
       "AwAAAwADAwAAABUBnmNqRf8AAAMAAAMAAAMAAAMAAwMAAAAhQZpoSahBbJlMCE///fEAAAMAAAMA\n",
       "FRAy/yAgAAADABzRAAAAG0GehkUVLG8AAAMAAAMBnCslQAAAVRQOdLZbyAAAABUBnqV0Rf8AAAMA\n",
       "AAMAAAMAAAMAAwIAAAAVAZ6nakX/AAADAAADAAADAAADAAMDAAAAHkGarEmoQWyZTAhP//3xAAAD\n",
       "AAADAAADAAADAAAi4AAAABtBnspFFSxvAAADAAADAZwrJUAAAFUUDnS2W8gAAAAVAZ7pdEX/AAAD\n",
       "AAADAAADAAADAAMDAAAAFQGe62pF/wAAAwAAAwAAAwAAAwADAwAAACZBmvBJqEFsmUwIT//98QAA\n",
       "AwAAAwAU+n7oAONinHKLfAAAAwABlQAAAB1Bnw5FFSxvAAADAAADAZwsVJh5gAABQLqBEAC3gAAA\n",
       "ABUBny10Rf8AAAMAAAMAAAMAAAMAAwIAAAAVAZ8vakX/AAADAAADAAADAAADAAMDAAAAHkGbNEmo\n",
       "QWyZTAhH//3hAAADAAADAAADAAADAAA3oAAAABtBn1JFFSxvAAADAAADAZwrJUAAAFUUDnS2W8gA\n",
       "AAAVAZ9xdEX/AAADAAADAAADAAADAAMDAAAAFQGfc2pF/wAAAwAAAwAAAwAAAwADAgAAAB5Bm3hJ\n",
       "qEFsmUwIR//94QAAAwAAAwAAAwAAAwAAN6EAAAAbQZ+WRRUsbwAAAwAAAwGcKyVAAABVFA50tlvJ\n",
       "AAAAFQGftXRF/wAAAwAAAwAAAwAAAwADAgAAABUBn7dqRf8AAAMAAAMAAAMAAAMAAwMAAAAcQZu8\n",
       "SahBbJlMCL/6WAAAAwAAAwAAAwAAAwABqwAAABtBn9pFFSxvAAADAAADAZwrJUAAAFUUDnS2W8kA\n",
       "AAAVAZ/5dEX/AAADAAADAAADAAADAAMDAAAAFQGf+2pF/wAAAwAAAwAAAwAAAwADAgAARo5tb292\n",
       "AAAAbG12aGQAAAAAAAAAAAAAAAAAAAPoAAA4NgABAAABAAAAAAAAAAAAAAAAAQAAAAAAAAAAAAAA\n",
       "AAAAAAEAAAAAAAAAAAAAAAAAAEAAAAAAAAAAAAAAAAAAAAAAAAAAAAAAAAAAAAAAAAACAABFuHRy\n",
       "YWsAAABcdGtoZAAAAAMAAAAAAAAAAAAAAAEAAAAAAAA4NgAAAAAAAAAAAAAAAAAAAAAAAQAAAAAA\n",
       "AAAAAAAAAAAAAAEAAAAAAAAAAAAAAAAAAEAAAAAC0AAAAtAAAAAAACRlZHRzAAAAHGVsc3QAAAAA\n",
       "AAAAAQAAODYAAAEAAAEAAAAARTBtZGlhAAAAIG1kaGQAAAAAAAAAAAAAAAAAADIAAALPgFXEAAAA\n",
       "AAAtaGRscgAAAAAAAAAAdmlkZQAAAAAAAAAAAAAAAFZpZGVvSGFuZGxlcgAAAETbbWluZgAAABR2\n",
       "bWhkAAAAAQAAAAAAAAAAAAAAJGRpbmYAAAAcZHJlZgAAAAAAAAABAAAADHVybCAAAAABAABEm3N0\n",
       "YmwAAACzc3RzZAAAAAAAAAABAAAAo2F2YzEAAAAAAAAAAQAAAAAAAAAAAAAAAAAAAAAC0ALQAEgA\n",
       "AABIAAAAAAAAAAEAAAAAAAAAAAAAAAAAAAAAAAAAAAAAAAAAAAAAAAAAAAAY//8AAAAxYXZjQwFk\n",
       "ACD/4QAYZ2QAIKzZQLQW6EAAAAMAQAAAMgPGDGWAAQAGaOvjyyLAAAAAHHV1aWRraEDyXyRPxbo5\n",
       "pRvPAyPzAAAAAAAAABhzdHRzAAAAAAAAAAEAAAWfAAAAgAAAAChzdHNzAAAAAAAAAAYAAAABAAAA\n",
       "+wAAAfUAAALvAAAD6QAABOMAACzgY3R0cwAAAAAAAAWaAAAAAQAAAQAAAAABAAACgAAAAAEAAAEA\n",
       "AAAAAQAAAAAAAAABAAAAgAAAAAEAAAKAAAAAAQAAAQAAAAABAAAAAAAAAAEAAACAAAAAAQAAAoAA\n",
       "AAABAAABAAAAAAEAAAAAAAAAAQAAAIAAAAABAAACgAAAAAEAAAEAAAAAAQAAAAAAAAABAAAAgAAA\n",
       "AAEAAAKAAAAAAQAAAQAAAAABAAAAAAAAAAEAAACAAAAAAQAAAoAAAAABAAABAAAAAAEAAAAAAAAA\n",
       "AQAAAIAAAAABAAACgAAAAAEAAAEAAAAAAQAAAAAAAAABAAAAgAAAAAEAAAKAAAAAAQAAAQAAAAAB\n",
       "AAAAAAAAAAEAAACAAAAAAQAAAoAAAAABAAABAAAAAAEAAAAAAAAAAQAAAIAAAAABAAACgAAAAAEA\n",
       "AAEAAAAAAQAAAAAAAAABAAAAgAAAAAEAAAKAAAAAAQAAAQAAAAABAAAAAAAAAAEAAACAAAAAAQAA\n",
       "AoAAAAABAAABAAAAAAEAAAAAAAAAAQAAAIAAAAABAAACgAAAAAEAAAEAAAAAAQAAAAAAAAABAAAA\n",
       "gAAAAAEAAAKAAAAAAQAAAQAAAAABAAAAAAAAAAEAAACAAAAAAQAAAoAAAAABAAABAAAAAAEAAAAA\n",
       "AAAAAQAAAIAAAAABAAACgAAAAAEAAAEAAAAAAQAAAAAAAAABAAAAgAAAAAEAAAKAAAAAAQAAAQAA\n",
       "AAABAAAAAAAAAAEAAACAAAAAAQAAAoAAAAABAAABAAAAAAEAAAAAAAAAAQAAAIAAAAABAAACgAAA\n",
       "AAEAAAEAAAAAAQAAAAAAAAABAAAAgAAAAAEAAAKAAAAAAQAAAQAAAAABAAAAAAAAAAEAAACAAAAA\n",
       "AQAAAoAAAAABAAABAAAAAAEAAAAAAAAAAQAAAIAAAAABAAACgAAAAAEAAAEAAAAAAQAAAAAAAAAB\n",
       "AAAAgAAAAAEAAAKAAAAAAQAAAQAAAAABAAAAAAAAAAEAAACAAAAAAQAAAoAAAAABAAABAAAAAAEA\n",
       "AAAAAAAAAQAAAIAAAAABAAACgAAAAAEAAAEAAAAAAQAAAAAAAAABAAAAgAAAAAEAAAKAAAAAAQAA\n",
       "AQAAAAABAAAAAAAAAAEAAACAAAAAAQAAAoAAAAABAAABAAAAAAEAAAAAAAAAAQAAAIAAAAABAAAC\n",
       "gAAAAAEAAAEAAAAAAQAAAAAAAAABAAAAgAAAAAEAAAKAAAAAAQAAAQAAAAABAAAAAAAAAAEAAACA\n",
       "AAAAAQAAAoAAAAABAAABAAAAAAEAAAAAAAAAAQAAAIAAAAABAAACgAAAAAEAAAEAAAAAAQAAAAAA\n",
       "AAABAAAAgAAAAAEAAAKAAAAAAQAAAQAAAAABAAAAAAAAAAEAAACAAAAAAQAAAoAAAAABAAABAAAA\n",
       "AAEAAAAAAAAAAQAAAIAAAAABAAACgAAAAAEAAAEAAAAAAQAAAAAAAAABAAAAgAAAAAEAAAKAAAAA\n",
       "AQAAAQAAAAABAAAAAAAAAAEAAACAAAAAAQAAAoAAAAABAAABAAAAAAEAAAAAAAAAAQAAAIAAAAAB\n",
       "AAACgAAAAAEAAAEAAAAAAQAAAAAAAAABAAAAgAAAAAEAAAKAAAAAAQAAAQAAAAABAAAAAAAAAAEA\n",
       "AACAAAAAAQAAAoAAAAABAAABAAAAAAEAAAAAAAAAAQAAAIAAAAABAAACgAAAAAEAAAEAAAAAAQAA\n",
       "AAAAAAABAAAAgAAAAAEAAAKAAAAAAQAAAQAAAAABAAAAAAAAAAEAAACAAAAAAQAAAoAAAAABAAAB\n",
       "AAAAAAEAAAAAAAAAAQAAAIAAAAABAAACgAAAAAEAAAEAAAAAAQAAAAAAAAABAAAAgAAAAAEAAAKA\n",
       "AAAAAQAAAQAAAAABAAAAAAAAAAEAAACAAAAAAQAAAoAAAAABAAABAAAAAAEAAAAAAAAAAQAAAIAA\n",
       "AAABAAACgAAAAAEAAAEAAAAAAQAAAAAAAAABAAAAgAAAAAEAAAKAAAAAAQAAAQAAAAABAAAAAAAA\n",
       "AAEAAACAAAAAAQAAAoAAAAABAAABAAAAAAEAAAAAAAAAAQAAAIAAAAABAAACgAAAAAEAAAEAAAAA\n",
       "AQAAAAAAAAABAAAAgAAAAAEAAAKAAAAAAQAAAQAAAAABAAAAAAAAAAEAAACAAAAAAQAAAoAAAAAB\n",
       "AAABAAAAAAEAAAAAAAAAAQAAAIAAAAABAAACgAAAAAEAAAEAAAAAAQAAAAAAAAABAAAAgAAAAAEA\n",
       "AAKAAAAAAQAAAQAAAAABAAAAAAAAAAEAAACAAAAAAQAAAoAAAAABAAABAAAAAAEAAAAAAAAAAQAA\n",
       "AIAAAAABAAACgAAAAAEAAAEAAAAAAQAAAAAAAAABAAAAgAAAAAEAAAKAAAAAAQAAAQAAAAABAAAA\n",
       "AAAAAAEAAACAAAAAAQAAAoAAAAABAAABAAAAAAEAAAAAAAAAAQAAAIAAAAABAAACgAAAAAEAAAEA\n",
       "AAAAAQAAAAAAAAABAAAAgAAAAAEAAAKAAAAAAQAAAQAAAAABAAAAAAAAAAEAAACAAAAAAQAAAoAA\n",
       "AAABAAABAAAAAAEAAAAAAAAAAQAAAIAAAAABAAACgAAAAAEAAAEAAAAAAQAAAAAAAAABAAAAgAAA\n",
       "AAEAAAKAAAAAAQAAAQAAAAABAAAAAAAAAAEAAACAAAAAAgAAAQAAAAABAAACgAAAAAEAAAEAAAAA\n",
       "AQAAAAAAAAABAAAAgAAAAAEAAAKAAAAAAQAAAQAAAAABAAAAAAAAAAEAAACAAAAAAQAAAoAAAAAB\n",
       "AAABAAAAAAEAAAAAAAAAAQAAAIAAAAABAAACgAAAAAEAAAEAAAAAAQAAAAAAAAABAAAAgAAAAAEA\n",
       "AAKAAAAAAQAAAQAAAAABAAAAAAAAAAEAAACAAAAAAQAAAoAAAAABAAABAAAAAAEAAAAAAAAAAQAA\n",
       "AIAAAAABAAACgAAAAAEAAAEAAAAAAQAAAAAAAAABAAAAgAAAAAEAAAKAAAAAAQAAAQAAAAABAAAA\n",
       "AAAAAAEAAACAAAAAAQAAAoAAAAABAAABAAAAAAEAAAAAAAAAAQAAAIAAAAABAAACgAAAAAEAAAEA\n",
       "AAAAAQAAAAAAAAABAAAAgAAAAAEAAAKAAAAAAQAAAQAAAAABAAAAAAAAAAEAAACAAAAAAQAAAoAA\n",
       "AAABAAABAAAAAAEAAAAAAAAAAQAAAIAAAAABAAACgAAAAAEAAAEAAAAAAQAAAAAAAAABAAAAgAAA\n",
       "AAEAAAKAAAAAAQAAAQAAAAABAAAAAAAAAAEAAACAAAAAAQAAAoAAAAABAAABAAAAAAEAAAAAAAAA\n",
       "AQAAAIAAAAABAAACgAAAAAEAAAEAAAAAAQAAAAAAAAABAAAAgAAAAAEAAAKAAAAAAQAAAQAAAAAB\n",
       "AAAAAAAAAAEAAACAAAAAAQAAAoAAAAABAAABAAAAAAEAAAAAAAAAAQAAAIAAAAABAAACgAAAAAEA\n",
       "AAEAAAAAAQAAAAAAAAABAAAAgAAAAAEAAAKAAAAAAQAAAQAAAAABAAAAAAAAAAEAAACAAAAAAQAA\n",
       "AoAAAAABAAABAAAAAAEAAAAAAAAAAQAAAIAAAAABAAACgAAAAAEAAAEAAAAAAQAAAAAAAAABAAAA\n",
       "gAAAAAEAAAKAAAAAAQAAAQAAAAABAAAAAAAAAAEAAACAAAAAAQAAAoAAAAABAAABAAAAAAEAAAAA\n",
       "AAAAAQAAAIAAAAABAAACgAAAAAEAAAEAAAAAAQAAAAAAAAABAAAAgAAAAAEAAAKAAAAAAQAAAQAA\n",
       "AAABAAAAAAAAAAEAAACAAAAAAQAAAoAAAAABAAABAAAAAAEAAAAAAAAAAQAAAIAAAAABAAACgAAA\n",
       "AAEAAAEAAAAAAQAAAAAAAAABAAAAgAAAAAEAAAKAAAAAAQAAAQAAAAABAAAAAAAAAAEAAACAAAAA\n",
       "AQAAAoAAAAABAAABAAAAAAEAAAAAAAAAAQAAAIAAAAABAAACgAAAAAEAAAEAAAAAAQAAAAAAAAAB\n",
       "AAAAgAAAAAEAAAKAAAAAAQAAAQAAAAABAAAAAAAAAAEAAACAAAAAAQAAAoAAAAABAAABAAAAAAEA\n",
       "AAAAAAAAAQAAAIAAAAABAAACgAAAAAEAAAEAAAAAAQAAAAAAAAABAAAAgAAAAAEAAAKAAAAAAQAA\n",
       "AQAAAAABAAAAAAAAAAEAAACAAAAAAQAAAoAAAAABAAABAAAAAAEAAAAAAAAAAQAAAIAAAAABAAAC\n",
       "gAAAAAEAAAEAAAAAAQAAAAAAAAABAAAAgAAAAAEAAAKAAAAAAQAAAQAAAAABAAAAAAAAAAEAAACA\n",
       "AAAAAQAAAoAAAAABAAABAAAAAAEAAAAAAAAAAQAAAIAAAAABAAACgAAAAAEAAAEAAAAAAQAAAAAA\n",
       "AAABAAAAgAAAAAEAAAKAAAAAAQAAAQAAAAABAAAAAAAAAAEAAACAAAAAAQAAAoAAAAABAAABAAAA\n",
       "AAEAAAAAAAAAAQAAAIAAAAABAAACgAAAAAEAAAEAAAAAAQAAAAAAAAABAAAAgAAAAAEAAAKAAAAA\n",
       "AQAAAQAAAAABAAAAAAAAAAEAAACAAAAAAQAAAoAAAAABAAABAAAAAAEAAAAAAAAAAQAAAIAAAAAB\n",
       "AAACgAAAAAEAAAEAAAAAAQAAAAAAAAABAAAAgAAAAAEAAAKAAAAAAQAAAQAAAAABAAAAAAAAAAEA\n",
       "AACAAAAAAQAAAoAAAAABAAABAAAAAAEAAAAAAAAAAQAAAIAAAAABAAACgAAAAAEAAAEAAAAAAQAA\n",
       "AAAAAAABAAAAgAAAAAEAAAKAAAAAAQAAAQAAAAABAAAAAAAAAAEAAACAAAAAAQAAAoAAAAABAAAB\n",
       "AAAAAAEAAAAAAAAAAQAAAIAAAAABAAACgAAAAAEAAAEAAAAAAQAAAAAAAAABAAAAgAAAAAEAAAKA\n",
       "AAAAAQAAAQAAAAABAAAAAAAAAAEAAACAAAAAAQAAAoAAAAABAAABAAAAAAEAAAAAAAAAAQAAAIAA\n",
       "AAABAAACgAAAAAEAAAEAAAAAAQAAAAAAAAABAAAAgAAAAAEAAAKAAAAAAQAAAQAAAAABAAAAAAAA\n",
       "AAEAAACAAAAAAQAAAoAAAAABAAABAAAAAAEAAAAAAAAAAQAAAIAAAAABAAACgAAAAAEAAAEAAAAA\n",
       "AQAAAAAAAAABAAAAgAAAAAEAAAKAAAAAAQAAAQAAAAABAAAAAAAAAAEAAACAAAAAAQAAAoAAAAAB\n",
       "AAABAAAAAAEAAAAAAAAAAQAAAIAAAAABAAACgAAAAAEAAAEAAAAAAQAAAAAAAAABAAAAgAAAAAEA\n",
       "AAKAAAAAAQAAAQAAAAABAAAAAAAAAAEAAACAAAAAAgAAAQAAAAABAAACgAAAAAEAAAEAAAAAAQAA\n",
       "AAAAAAABAAAAgAAAAAEAAAKAAAAAAQAAAQAAAAABAAAAAAAAAAEAAACAAAAAAQAAAoAAAAABAAAB\n",
       "AAAAAAEAAAAAAAAAAQAAAIAAAAABAAACgAAAAAEAAAEAAAAAAQAAAAAAAAABAAAAgAAAAAEAAAKA\n",
       "AAAAAQAAAQAAAAABAAAAAAAAAAEAAACAAAAAAQAAAoAAAAABAAABAAAAAAEAAAAAAAAAAQAAAIAA\n",
       "AAABAAACgAAAAAEAAAEAAAAAAQAAAAAAAAABAAAAgAAAAAEAAAKAAAAAAQAAAQAAAAABAAAAAAAA\n",
       "AAEAAACAAAAAAQAAAoAAAAABAAABAAAAAAEAAAAAAAAAAQAAAIAAAAABAAACgAAAAAEAAAEAAAAA\n",
       "AQAAAAAAAAABAAAAgAAAAAEAAAKAAAAAAQAAAQAAAAABAAAAAAAAAAEAAACAAAAAAQAAAoAAAAAB\n",
       "AAABAAAAAAEAAAAAAAAAAQAAAIAAAAABAAACgAAAAAEAAAEAAAAAAQAAAAAAAAABAAAAgAAAAAEA\n",
       "AAKAAAAAAQAAAQAAAAABAAAAAAAAAAEAAACAAAAAAQAAAoAAAAABAAABAAAAAAEAAAAAAAAAAQAA\n",
       "AIAAAAABAAACgAAAAAEAAAEAAAAAAQAAAAAAAAABAAAAgAAAAAEAAAKAAAAAAQAAAQAAAAABAAAA\n",
       "AAAAAAEAAACAAAAAAQAAAoAAAAABAAABAAAAAAEAAAAAAAAAAQAAAIAAAAABAAACgAAAAAEAAAEA\n",
       "AAAAAQAAAAAAAAABAAAAgAAAAAEAAAKAAAAAAQAAAQAAAAABAAAAAAAAAAEAAACAAAAAAQAAAoAA\n",
       "AAABAAABAAAAAAEAAAAAAAAAAQAAAIAAAAABAAACgAAAAAEAAAEAAAAAAQAAAAAAAAABAAAAgAAA\n",
       "AAEAAAKAAAAAAQAAAQAAAAABAAAAAAAAAAEAAACAAAAAAQAAAoAAAAABAAABAAAAAAEAAAAAAAAA\n",
       "AQAAAIAAAAABAAACgAAAAAEAAAEAAAAAAQAAAAAAAAABAAAAgAAAAAEAAAKAAAAAAQAAAQAAAAAB\n",
       "AAAAAAAAAAEAAACAAAAAAQAAAoAAAAABAAABAAAAAAEAAAAAAAAAAQAAAIAAAAABAAACgAAAAAEA\n",
       "AAEAAAAAAQAAAAAAAAABAAAAgAAAAAEAAAKAAAAAAQAAAQAAAAABAAAAAAAAAAEAAACAAAAAAQAA\n",
       "AoAAAAABAAABAAAAAAEAAAAAAAAAAQAAAIAAAAABAAACgAAAAAEAAAEAAAAAAQAAAAAAAAABAAAA\n",
       "gAAAAAEAAAKAAAAAAQAAAQAAAAABAAAAAAAAAAEAAACAAAAAAQAAAoAAAAABAAABAAAAAAEAAAAA\n",
       "AAAAAQAAAIAAAAABAAACgAAAAAEAAAEAAAAAAQAAAAAAAAABAAAAgAAAAAEAAAKAAAAAAQAAAQAA\n",
       "AAABAAAAAAAAAAEAAACAAAAAAQAAAoAAAAABAAABAAAAAAEAAAAAAAAAAQAAAIAAAAABAAACgAAA\n",
       "AAEAAAEAAAAAAQAAAAAAAAABAAAAgAAAAAEAAAKAAAAAAQAAAQAAAAABAAAAAAAAAAEAAACAAAAA\n",
       "AQAAAoAAAAABAAABAAAAAAEAAAAAAAAAAQAAAIAAAAABAAACgAAAAAEAAAEAAAAAAQAAAAAAAAAB\n",
       "AAAAgAAAAAEAAAKAAAAAAQAAAQAAAAABAAAAAAAAAAEAAACAAAAAAQAAAoAAAAABAAABAAAAAAEA\n",
       "AAAAAAAAAQAAAIAAAAABAAACgAAAAAEAAAEAAAAAAQAAAAAAAAABAAAAgAAAAAEAAAKAAAAAAQAA\n",
       "AQAAAAABAAAAAAAAAAEAAACAAAAAAQAAAoAAAAABAAABAAAAAAEAAAAAAAAAAQAAAIAAAAABAAAC\n",
       "gAAAAAEAAAEAAAAAAQAAAAAAAAABAAAAgAAAAAEAAAKAAAAAAQAAAQAAAAABAAAAAAAAAAEAAACA\n",
       "AAAAAQAAAoAAAAABAAABAAAAAAEAAAAAAAAAAQAAAIAAAAABAAACgAAAAAEAAAEAAAAAAQAAAAAA\n",
       "AAABAAAAgAAAAAEAAAKAAAAAAQAAAQAAAAABAAAAAAAAAAEAAACAAAAAAQAAAoAAAAABAAABAAAA\n",
       "AAEAAAAAAAAAAQAAAIAAAAABAAACgAAAAAEAAAEAAAAAAQAAAAAAAAABAAAAgAAAAAEAAAKAAAAA\n",
       "AQAAAQAAAAABAAAAAAAAAAEAAACAAAAAAQAAAoAAAAABAAABAAAAAAEAAAAAAAAAAQAAAIAAAAAB\n",
       "AAACgAAAAAEAAAEAAAAAAQAAAAAAAAABAAAAgAAAAAEAAAKAAAAAAQAAAQAAAAABAAAAAAAAAAEA\n",
       "AACAAAAAAQAAAoAAAAABAAABAAAAAAEAAAAAAAAAAQAAAIAAAAABAAACgAAAAAEAAAEAAAAAAQAA\n",
       "AAAAAAABAAAAgAAAAAEAAAKAAAAAAQAAAQAAAAABAAAAAAAAAAEAAACAAAAAAQAAAoAAAAABAAAB\n",
       "AAAAAAEAAAAAAAAAAQAAAIAAAAABAAACgAAAAAEAAAEAAAAAAQAAAAAAAAABAAAAgAAAAAEAAAKA\n",
       "AAAAAQAAAQAAAAABAAAAAAAAAAEAAACAAAAAAgAAAQAAAAABAAACgAAAAAEAAAEAAAAAAQAAAAAA\n",
       "AAABAAAAgAAAAAEAAAKAAAAAAQAAAQAAAAABAAAAAAAAAAEAAACAAAAAAQAAAoAAAAABAAABAAAA\n",
       "AAEAAAAAAAAAAQAAAIAAAAABAAACgAAAAAEAAAEAAAAAAQAAAAAAAAABAAAAgAAAAAEAAAKAAAAA\n",
       "AQAAAQAAAAABAAAAAAAAAAEAAACAAAAAAQAAAoAAAAABAAABAAAAAAEAAAAAAAAAAQAAAIAAAAAB\n",
       "AAACgAAAAAEAAAEAAAAAAQAAAAAAAAABAAAAgAAAAAEAAAKAAAAAAQAAAQAAAAABAAAAAAAAAAEA\n",
       "AACAAAAAAQAAAoAAAAABAAABAAAAAAEAAAAAAAAAAQAAAIAAAAABAAACgAAAAAEAAAEAAAAAAQAA\n",
       "AAAAAAABAAAAgAAAAAEAAAKAAAAAAQAAAQAAAAABAAAAAAAAAAEAAACAAAAAAQAAAoAAAAABAAAB\n",
       "AAAAAAEAAAAAAAAAAQAAAIAAAAABAAACgAAAAAEAAAEAAAAAAQAAAAAAAAABAAAAgAAAAAEAAAKA\n",
       "AAAAAQAAAQAAAAABAAAAAAAAAAEAAACAAAAAAQAAAoAAAAABAAABAAAAAAEAAAAAAAAAAQAAAIAA\n",
       "AAABAAACgAAAAAEAAAEAAAAAAQAAAAAAAAABAAAAgAAAAAEAAAKAAAAAAQAAAQAAAAABAAAAAAAA\n",
       "AAEAAACAAAAAAQAAAoAAAAABAAABAAAAAAEAAAAAAAAAAQAAAIAAAAABAAACgAAAAAEAAAEAAAAA\n",
       "AQAAAAAAAAABAAAAgAAAAAEAAAKAAAAAAQAAAQAAAAABAAAAAAAAAAEAAACAAAAAAQAAAoAAAAAB\n",
       "AAABAAAAAAEAAAAAAAAAAQAAAIAAAAABAAACgAAAAAEAAAEAAAAAAQAAAAAAAAABAAAAgAAAAAEA\n",
       "AAKAAAAAAQAAAQAAAAABAAAAAAAAAAEAAACAAAAAAQAAAoAAAAABAAABAAAAAAEAAAAAAAAAAQAA\n",
       "AIAAAAABAAACgAAAAAEAAAEAAAAAAQAAAAAAAAABAAAAgAAAAAEAAAKAAAAAAQAAAQAAAAABAAAA\n",
       "AAAAAAEAAACAAAAAAQAAAoAAAAABAAABAAAAAAEAAAAAAAAAAQAAAIAAAAABAAACgAAAAAEAAAEA\n",
       "AAAAAQAAAAAAAAABAAAAgAAAAAEAAAKAAAAAAQAAAQAAAAABAAAAAAAAAAEAAACAAAAAAQAAAoAA\n",
       "AAABAAABAAAAAAEAAAAAAAAAAQAAAIAAAAABAAACgAAAAAEAAAEAAAAAAQAAAAAAAAABAAAAgAAA\n",
       "AAEAAAKAAAAAAQAAAQAAAAABAAAAAAAAAAEAAACAAAAAAQAAAoAAAAABAAABAAAAAAEAAAAAAAAA\n",
       "AQAAAIAAAAABAAACgAAAAAEAAAEAAAAAAQAAAAAAAAABAAAAgAAAAAEAAAKAAAAAAQAAAQAAAAAB\n",
       "AAAAAAAAAAEAAACAAAAAAQAAAoAAAAABAAABAAAAAAEAAAAAAAAAAQAAAIAAAAABAAACgAAAAAEA\n",
       "AAEAAAAAAQAAAAAAAAABAAAAgAAAAAEAAAKAAAAAAQAAAQAAAAABAAAAAAAAAAEAAACAAAAAAQAA\n",
       "AoAAAAABAAABAAAAAAEAAAAAAAAAAQAAAIAAAAABAAACgAAAAAEAAAEAAAAAAQAAAAAAAAABAAAA\n",
       "gAAAAAEAAAKAAAAAAQAAAQAAAAABAAAAAAAAAAEAAACAAAAAAQAAAoAAAAABAAABAAAAAAEAAAAA\n",
       "AAAAAQAAAIAAAAABAAACgAAAAAEAAAEAAAAAAQAAAAAAAAABAAAAgAAAAAEAAAKAAAAAAQAAAQAA\n",
       "AAABAAAAAAAAAAEAAACAAAAAAQAAAoAAAAABAAABAAAAAAEAAAAAAAAAAQAAAIAAAAABAAACgAAA\n",
       "AAEAAAEAAAAAAQAAAAAAAAABAAAAgAAAAAEAAAKAAAAAAQAAAQAAAAABAAAAAAAAAAEAAACAAAAA\n",
       "AQAAAoAAAAABAAABAAAAAAEAAAAAAAAAAQAAAIAAAAABAAACgAAAAAEAAAEAAAAAAQAAAAAAAAAB\n",
       "AAAAgAAAAAEAAAKAAAAAAQAAAQAAAAABAAAAAAAAAAEAAACAAAAAAQAAAoAAAAABAAABAAAAAAEA\n",
       "AAAAAAAAAQAAAIAAAAABAAACgAAAAAEAAAEAAAAAAQAAAAAAAAABAAAAgAAAAAEAAAKAAAAAAQAA\n",
       "AQAAAAABAAAAAAAAAAEAAACAAAAAAQAAAoAAAAABAAABAAAAAAEAAAAAAAAAAQAAAIAAAAABAAAC\n",
       "gAAAAAEAAAEAAAAAAQAAAAAAAAABAAAAgAAAAAEAAAKAAAAAAQAAAQAAAAABAAAAAAAAAAEAAACA\n",
       "AAAAAQAAAoAAAAABAAABAAAAAAEAAAAAAAAAAQAAAIAAAAABAAACgAAAAAEAAAEAAAAAAQAAAAAA\n",
       "AAABAAAAgAAAAAEAAAKAAAAAAQAAAQAAAAABAAAAAAAAAAEAAACAAAAAAQAAAoAAAAABAAABAAAA\n",
       "AAEAAAAAAAAAAQAAAIAAAAABAAACgAAAAAEAAAEAAAAAAQAAAAAAAAABAAAAgAAAAAEAAAKAAAAA\n",
       "AQAAAQAAAAABAAAAAAAAAAEAAACAAAAAAgAAAQAAAAABAAACgAAAAAEAAAEAAAAAAQAAAAAAAAAB\n",
       "AAAAgAAAAAEAAAKAAAAAAQAAAQAAAAABAAAAAAAAAAEAAACAAAAAAQAAAoAAAAABAAABAAAAAAEA\n",
       "AAAAAAAAAQAAAIAAAAABAAACgAAAAAEAAAEAAAAAAQAAAAAAAAABAAAAgAAAAAEAAAKAAAAAAQAA\n",
       "AQAAAAABAAAAAAAAAAEAAACAAAAAAQAAAoAAAAABAAABAAAAAAEAAAAAAAAAAQAAAIAAAAABAAAC\n",
       "gAAAAAEAAAEAAAAAAQAAAAAAAAABAAAAgAAAAAEAAAKAAAAAAQAAAQAAAAABAAAAAAAAAAEAAACA\n",
       "AAAAAQAAAoAAAAABAAABAAAAAAEAAAAAAAAAAQAAAIAAAAABAAACgAAAAAEAAAEAAAAAAQAAAAAA\n",
       "AAABAAAAgAAAAAEAAAKAAAAAAQAAAQAAAAABAAAAAAAAAAEAAACAAAAAAQAAAoAAAAABAAABAAAA\n",
       "AAEAAAAAAAAAAQAAAIAAAAABAAACgAAAAAEAAAEAAAAAAQAAAAAAAAABAAAAgAAAAAEAAAKAAAAA\n",
       "AQAAAQAAAAABAAAAAAAAAAEAAACAAAAAAQAAAoAAAAABAAABAAAAAAEAAAAAAAAAAQAAAIAAAAAB\n",
       "AAACgAAAAAEAAAEAAAAAAQAAAAAAAAABAAAAgAAAAAEAAAKAAAAAAQAAAQAAAAABAAAAAAAAAAEA\n",
       "AACAAAAAAQAAAoAAAAABAAABAAAAAAEAAAAAAAAAAQAAAIAAAAABAAACgAAAAAEAAAEAAAAAAQAA\n",
       "AAAAAAABAAAAgAAAAAEAAAKAAAAAAQAAAQAAAAABAAAAAAAAAAEAAACAAAAAAQAAAoAAAAABAAAB\n",
       "AAAAAAEAAAAAAAAAAQAAAIAAAAABAAACgAAAAAEAAAEAAAAAAQAAAAAAAAABAAAAgAAAAAEAAAKA\n",
       "AAAAAQAAAQAAAAABAAAAAAAAAAEAAACAAAAAAQAAAoAAAAABAAABAAAAAAEAAAAAAAAAAQAAAIAA\n",
       "AAABAAACgAAAAAEAAAEAAAAAAQAAAAAAAAABAAAAgAAAAAEAAAKAAAAAAQAAAQAAAAABAAAAAAAA\n",
       "AAEAAACAAAAAAQAAAoAAAAABAAABAAAAAAEAAAAAAAAAAQAAAIAAAAABAAACgAAAAAEAAAEAAAAA\n",
       "AQAAAAAAAAABAAAAgAAAAAEAAAKAAAAAAQAAAQAAAAABAAAAAAAAAAEAAACAAAAAAQAAAoAAAAAB\n",
       "AAABAAAAAAEAAAAAAAAAAQAAAIAAAAABAAACgAAAAAEAAAEAAAAAAQAAAAAAAAABAAAAgAAAAAEA\n",
       "AAKAAAAAAQAAAQAAAAABAAAAAAAAAAEAAACAAAAAAQAAAoAAAAABAAABAAAAAAEAAAAAAAAAAQAA\n",
       "AIAAAAABAAACgAAAAAEAAAEAAAAAAQAAAAAAAAABAAAAgAAAAAEAAAKAAAAAAQAAAQAAAAABAAAA\n",
       "AAAAAAEAAACAAAAAAQAAAoAAAAABAAABAAAAAAEAAAAAAAAAAQAAAIAAAAABAAACgAAAAAEAAAEA\n",
       "AAAAAQAAAAAAAAABAAAAgAAAAAEAAAKAAAAAAQAAAQAAAAABAAAAAAAAAAEAAACAAAAAAQAAAoAA\n",
       "AAABAAABAAAAAAEAAAAAAAAAAQAAAIAAAAABAAACgAAAAAEAAAEAAAAAAQAAAAAAAAABAAAAgAAA\n",
       "AAEAAAKAAAAAAQAAAQAAAAABAAAAAAAAAAEAAACAAAAAAQAAAoAAAAABAAABAAAAAAEAAAAAAAAA\n",
       "AQAAAIAAAAABAAACgAAAAAEAAAEAAAAAAQAAAAAAAAABAAAAgAAAAAEAAAKAAAAAAQAAAQAAAAAB\n",
       "AAAAAAAAAAEAAACAAAAAAQAAAoAAAAABAAABAAAAAAEAAAAAAAAAAQAAAIAAAAABAAACgAAAAAEA\n",
       "AAEAAAAAAQAAAAAAAAABAAAAgAAAAAEAAAKAAAAAAQAAAQAAAAABAAAAAAAAAAEAAACAAAAAAQAA\n",
       "AoAAAAABAAABAAAAAAEAAAAAAAAAAQAAAIAAAAABAAACgAAAAAEAAAEAAAAAAQAAAAAAAAABAAAA\n",
       "gAAAAAEAAAKAAAAAAQAAAQAAAAABAAAAAAAAAAEAAACAAAAAAQAAAoAAAAABAAABAAAAAAEAAAAA\n",
       "AAAAAQAAAIAAAAABAAACgAAAAAEAAAEAAAAAAQAAAAAAAAABAAAAgAAAAAEAAAKAAAAAAQAAAQAA\n",
       "AAABAAAAAAAAAAEAAACAAAAAAQAAAoAAAAABAAABAAAAAAEAAAAAAAAAAQAAAIAAAAABAAACgAAA\n",
       "AAEAAAEAAAAAAQAAAAAAAAABAAAAgAAAAAEAAAKAAAAAAQAAAQAAAAABAAAAAAAAAAEAAACAAAAA\n",
       "AQAAAoAAAAABAAABAAAAAAEAAAAAAAAAAQAAAIAAAAABAAACgAAAAAEAAAEAAAAAAQAAAAAAAAAB\n",
       "AAAAgAAAAAEAAAKAAAAAAQAAAQAAAAABAAAAAAAAAAEAAACAAAAAAQAAAoAAAAABAAABAAAAAAEA\n",
       "AAAAAAAAAQAAAIAAAAABAAACgAAAAAEAAAEAAAAAAQAAAAAAAAABAAAAgAAAAAEAAAKAAAAAAQAA\n",
       "AQAAAAABAAAAAAAAAAEAAACAAAAAAgAAAQAAAAABAAACgAAAAAEAAAEAAAAAAQAAAAAAAAABAAAA\n",
       "gAAAAAEAAAKAAAAAAQAAAQAAAAABAAAAAAAAAAEAAACAAAAAAQAAAoAAAAABAAABAAAAAAEAAAAA\n",
       "AAAAAQAAAIAAAAABAAACgAAAAAEAAAEAAAAAAQAAAAAAAAABAAAAgAAAAAEAAAKAAAAAAQAAAQAA\n",
       "AAABAAAAAAAAAAEAAACAAAAAAQAAAoAAAAABAAABAAAAAAEAAAAAAAAAAQAAAIAAAAABAAACgAAA\n",
       "AAEAAAEAAAAAAQAAAAAAAAABAAAAgAAAAAEAAAKAAAAAAQAAAQAAAAABAAAAAAAAAAEAAACAAAAA\n",
       "AQAAAoAAAAABAAABAAAAAAEAAAAAAAAAAQAAAIAAAAABAAACgAAAAAEAAAEAAAAAAQAAAAAAAAAB\n",
       "AAAAgAAAAAEAAAKAAAAAAQAAAQAAAAABAAAAAAAAAAEAAACAAAAAAQAAAoAAAAABAAABAAAAAAEA\n",
       "AAAAAAAAAQAAAIAAAAABAAACgAAAAAEAAAEAAAAAAQAAAAAAAAABAAAAgAAAAAEAAAKAAAAAAQAA\n",
       "AQAAAAABAAAAAAAAAAEAAACAAAAAAQAAAoAAAAABAAABAAAAAAEAAAAAAAAAAQAAAIAAAAABAAAC\n",
       "gAAAAAEAAAEAAAAAAQAAAAAAAAABAAAAgAAAAAEAAAKAAAAAAQAAAQAAAAABAAAAAAAAAAEAAACA\n",
       "AAAAAQAAAoAAAAABAAABAAAAAAEAAAAAAAAAAQAAAIAAAAABAAACgAAAAAEAAAEAAAAAAQAAAAAA\n",
       "AAABAAAAgAAAAAEAAAKAAAAAAQAAAQAAAAABAAAAAAAAAAEAAACAAAAAAQAAAoAAAAABAAABAAAA\n",
       "AAEAAAAAAAAAAQAAAIAAAAABAAACgAAAAAEAAAEAAAAAAQAAAAAAAAABAAAAgAAAAAEAAAKAAAAA\n",
       "AQAAAQAAAAABAAAAAAAAAAEAAACAAAAAAQAAAoAAAAABAAABAAAAAAEAAAAAAAAAAQAAAIAAAAAB\n",
       "AAACgAAAAAEAAAEAAAAAAQAAAAAAAAABAAAAgAAAAAEAAAKAAAAAAQAAAQAAAAABAAAAAAAAAAEA\n",
       "AACAAAAAAQAAAoAAAAABAAABAAAAAAEAAAAAAAAAAQAAAIAAAAABAAACgAAAAAEAAAEAAAAAAQAA\n",
       "AAAAAAABAAAAgAAAAAEAAAKAAAAAAQAAAQAAAAABAAAAAAAAAAEAAACAAAAAAQAAAoAAAAABAAAB\n",
       "AAAAAAEAAAAAAAAAAQAAAIAAAAABAAACgAAAAAEAAAEAAAAAAQAAAAAAAAABAAAAgAAAAAEAAAKA\n",
       "AAAAAQAAAQAAAAABAAAAAAAAAAEAAACAAAAAAQAAAoAAAAABAAABAAAAAAEAAAAAAAAAAQAAAIAA\n",
       "AAABAAACgAAAAAEAAAEAAAAAAQAAAAAAAAABAAAAgAAAAAEAAAKAAAAAAQAAAQAAAAABAAAAAAAA\n",
       "AAEAAACAAAAAAQAAAoAAAAABAAABAAAAAAEAAAAAAAAAAQAAAIAAAAABAAACgAAAAAEAAAEAAAAA\n",
       "AQAAAAAAAAABAAAAgAAAAAEAAAKAAAAAAQAAAQAAAAABAAAAAAAAAAEAAACAAAAAAQAAAoAAAAAB\n",
       "AAABAAAAAAEAAAAAAAAAAQAAAIAAAAABAAACgAAAAAEAAAEAAAAAAQAAAAAAAAABAAAAgAAAAAEA\n",
       "AAKAAAAAAQAAAQAAAAABAAAAAAAAAAEAAACAAAAAAQAAAoAAAAABAAABAAAAAAEAAAAAAAAAAQAA\n",
       "AIAAAAABAAACgAAAAAEAAAEAAAAAAQAAAAAAAAABAAAAgAAAAAEAAAKAAAAAAQAAAQAAAAABAAAA\n",
       "AAAAAAEAAACAAAAAAQAAAoAAAAABAAABAAAAAAEAAAAAAAAAAQAAAIAAAAABAAACgAAAAAEAAAEA\n",
       "AAAAAQAAAAAAAAABAAAAgAAAAAEAAAKAAAAAAQAAAQAAAAABAAAAAAAAAAEAAACAAAAAHHN0c2MA\n",
       "AAAAAAAAAQAAAAEAAAWfAAAAAQAAFpBzdHN6AAAAAAAAAAAAAAWfAAAPKwAAAIcAAABCAAAALQAA\n",
       "ACQAAAAtAAAAMgAAAB8AAAAZAAAALAAAAC0AAAAZAAAAGQAAACwAAAAtAAAAGQAAABkAAAAxAAAA\n",
       "MAAAABkAAAAbAAAAKwAAADAAAAAaAAAAGwAAADQAAAAvAAAAGgAAABkAAAAvAAAALQAAABkAAAAZ\n",
       "AAAALgAAAC0AAAAZAAAAGQAAADMAAAAwAAAAGQAAABkAAAA1AAAALQAAABkAAAAZAAAALwAAAC8A\n",
       "AAAZAAAAGQAAAC4AAAAwAAAAGQAAABkAAAAuAAAAMAAAABoAAAAaAAAANAAAAC8AAAAaAAAAGQAA\n",
       "AC0AAAAyAAAAHAAAABwAAAA0AAAAMQAAABwAAAAbAAAAMwAAAC8AAAAaAAAAGgAAADMAAAAxAAAA\n",
       "GgAAABoAAAAsAAAALwAAABoAAAAaAAAAKAAAAC8AAAAaAAAAGgAAACUAAAAvAAAAHAAAABwAAAAy\n",
       "AAAAMQAAABwAAAAaAAAAJAAAADEAAAAbAAAAHAAAAC8AAAAwAAAAHAAAABwAAAAtAAAAMAAAABsA\n",
       "AAAcAAAAMAAAADAAAAAbAAAAGgAAAC8AAAAwAAAAGgAAABwAAAAyAAAAMAAAABoAAAAaAAAAMQAA\n",
       "AC8AAAAaAAAAGgAAADIAAAAvAAAAGQAAABkAAAAtAAAAMAAAABkAAAAZAAAALwAAADAAAAAZAAAA\n",
       "GQAAAC8AAAAxAAAAGgAAABoAAAAsAAAALwAAABkAAAAZAAAAMgAAADAAAAAZAAAAGQAAAC4AAAAw\n",
       "AAAAGQAAABkAAAAuAAAAMAAAABkAAAAZAAAALwAAADAAAAAZAAAAGQAAADIAAAAwAAAAGQAAABkA\n",
       "AAAyAAAAMAAAABkAAAAZAAAAJAAAADAAAAAZAAAAGQAAADEAAAAwAAAAGQAAABkAAAAkAAAAMAAA\n",
       "ABkAAAAZAAAALAAAADAAAAAZAAAAGQAAACQAAAAwAAAAGQAAABkAAAAtAAAAMAAAABkAAAAZAAAA\n",
       "LgAAADAAAAAZAAAAGQAAAC8AAAAwAAAAGQAAABkAAAAuAAAAMgAAABkAAAAZAAAAQAAAADEAAAAa\n",
       "AAAAGgAAAC4AAAAxAAAAGgAAABoAAAA3AAAAMQAAABkAAAAbAAAAOQAAADIAAAAcAAAAHAAAADoA\n",
       "AAAyAAAAGQAAABkAAABFAAAAMwAAABoAAAAcAAAAJwAAAC8AAAAZAAAAGQAAACcAAAAyAAAAGgAA\n",
       "ABoAAAA3AAAALwAAABkAAAAZAAAAJgAAADAAAAAaAAAAGgAAADYAAAAvAAAAGQAAABkAAAAuAAAA\n",
       "MAAAABoAAAAaAAAAIAAADqkAAABhAAAALgAAACsAAAAbAAAANAAAAB8AAAAZAAAAGQAAAC0AAAAf\n",
       "AAAAGQAAABkAAAAxAAAAHwAAABkAAAAZAAAANwAAAB8AAAAZAAAAGQAAACgAAAAfAAAAGQAAABkA\n",
       "AAAqAAAAHwAAABkAAAAZAAAAKAAAAB8AAAAZAAAAGQAAACsAAAAfAAAAGQAAABoAAAAyAAAAHwAA\n",
       "ABkAAAAZAAAAJgAAAB8AAAAZAAAAGQAAAC8AAAAfAAAAGQAAABkAAAAnAAAAIAAAABoAAAAZAAAA\n",
       "MQAAAB8AAAAZAAAAGwAAADEAAAAgAAAAGgAAABkAAAApAAAAIQAAABkAAAAZAAAAJwAAAB8AAAAZ\n",
       "AAAAGQAAACwAAAAfAAAAGQAAABkAAAAwAAAAHwAAABkAAAAZAAAAKwAAAB8AAAAZAAAAGQAAAC0A\n",
       "AAAfAAAAGQAAABkAAAAtAAAAHwAAABkAAAAZAAAALQAAAB8AAAAZAAAAGQAAACUAAAAfAAAAGQAA\n",
       "ABkAAAAsAAAAHwAAABkAAAAZAAAALQAAAB8AAAAZAAAAGQAAAC4AAAAjAAAAGQAAABsAAAAvAAAA\n",
       "HwAAABoAAAAZAAAAOwAAACEAAAAaAAAAGgAAADMAAAAfAAAAGQAAABwAAAAlAAAAIAAAABkAAAAZ\n",
       "AAAAKwAAAB8AAAAZAAAAGQAAACsAAAAfAAAAGQAAABkAAAAlAAAAIAAAABkAAAAZAAAALAAAAB8A\n",
       "AAAZAAAAGQAAAC4AAAAfAAAAGQAAABoAAAAoAAAAIAAAABkAAAAZAAAALAAAAB8AAAAZAAAAGQAA\n",
       "ACUAAAAfAAAAGQAAABkAAAAtAAAAHwAAABkAAAAZAAAAJgAAACAAAAAaAAAAGQAAAC4AAAAgAAAA\n",
       "HAAAABkAAAAlAAAAIAAAABkAAAAZAAAAJAAAACAAAAAZAAAAGQAAACUAAAAfAAAAGQAAABkAAAAr\n",
       "AAAAIAAAABkAAAAZAAAAJQAAACAAAAAZAAAAGQAAAC0AAAAgAAAAGQAAABkAAAAqAAAAIAAAABkA\n",
       "AAAZAAAAOwAAACIAAAAZAAAAGgAAACUAAAAiAAAAGQAAABkAAAAxAAAAIgAAABkAAAAZAAAAJQAA\n",
       "ACIAAAAZAAAAGQAAAC8AAAAfAAAAGwAAABkAAAAyAAAAIAAAABkAAAAbAAAASwAAACQAAAAZAAAA\n",
       "GQAAAE8AAAAkAAAAHQAAABsAAAAvAAAAJAAAABkAAAAZAAAAPgAAACEAAAAcAAAAGQAAADwAAAAs\n",
       "AAAAGQAAABkAAAB5AAAAIQAAABoAAAAaAAAASgAAACwAAAAZAAAAGQAAACkAAA/8AAAAWQAAADAA\n",
       "AAArAAAAHgAAAEkAAAAsAAAAHQAAABwAAAAwAAAAJAAAABwAAAAcAAAAMgAAACMAAAAZAAAAGQAA\n",
       "AEAAAAAhAAAAGQAAABkAAAAtAAAAIQAAABkAAAAZAAAAQwAAAB8AAAAbAAAAHAAAAD0AAAAhAAAA\n",
       "GQAAABkAAAArAAAAIAAAABkAAAAZAAAAPwAAACAAAAAZAAAAGQAAADcAAAAgAAAAGQAAABkAAAA7\n",
       "AAAAIgAAABkAAAAZAAAAKAAAACIAAAAZAAAAGQAAACkAAAAiAAAAGQAAABkAAAAxAAAAHwAAABsA\n",
       "AAAaAAAANAAAACQAAAAZAAAAGgAAAFAAAAAhAAAAGgAAAB0AAAA2AAAAIQAAABsAAAAbAAAAJwAA\n",
       "ACEAAAAZAAAAHQAAAD8AAAAhAAAAGQAAABkAAAArAAAAHwAAABkAAAAZAAAALwAAACEAAAAZAAAA\n",
       "GQAAACYAAAAfAAAAGwAAABsAAAAqAAAAHwAAABkAAAAZAAAANwAAACAAAAAZAAAAGQAAACcAAAAf\n",
       "AAAAGQAAABkAAAAnAAAAHwAAABkAAAAZAAAANAAAACEAAAAZAAAAGQAAADsAAAAhAAAAGwAAABkA\n",
       "AABAAAAAIgAAABsAAAAZAAAAJgAAAB8AAAAZAAAAGQAAACwAAAAfAAAAGQAAABkAAAAnAAAAIAAA\n",
       "ABkAAAAZAAAAJwAAAB8AAAAZAAAAGQAAADIAAAAhAAAAGQAAABkAAAAuAAAAIgAAABkAAAAZAAAA\n",
       "LAAAACAAAAAZAAAAGQAAACYAAAAgAAAAGQAAABkAAAAyAAAAHwAAABkAAAAZAAAAJgAAAB8AAAAZ\n",
       "AAAAGQAAACYAAAAgAAAAGQAAABkAAAA4AAAAHwAAABkAAAAZAAAAKwAAAB8AAAAZAAAAGgAAADUA\n",
       "AAAgAAAAGgAAABsAAAAwAAAAHwAAABkAAAAZAAAALQAAAB8AAAAZAAAAGQAAACsAAAAfAAAAGQAA\n",
       "ABkAAAAsAAAAIAAAABkAAAAZAAAAOAAAAB8AAAAZAAAAGQAAACQAAAAfAAAAGQAAABkAAAAvAAAA\n",
       "HwAAABkAAAAZAAAAKAAAAB8AAAAZAAAAGQAAADAAAAAfAAAAGQAAABkAAAAvAAAAHwAAABkAAAAZ\n",
       "AAAAJQAAAB8AAAAZAAAAGQAAACUAAAAfAAAAGQAAABkAAAAzAAAAHwAAABkAAAAZAAAAJQAAAB8A\n",
       "AAAZAAAAGQAAACwAAAAfAAAAGQAAABkAAAAxAAAAHwAAABkAAAAZAAAALAAAAB8AAAAZAAAAGQAA\n",
       "ACoAAAAfAAAAGQAAABkAAAAgAAAQ3QAAAHAAAAAvAAAALAAAABwAAAA0AAAAIQAAABoAAAAZAAAA\n",
       "MAAAAB8AAAAZAAAAGQAAADcAAAAfAAAAGwAAABkAAAAmAAAAHwAAABkAAAAZAAAALAAAAB8AAAAZ\n",
       "AAAAGQAAACYAAAAfAAAAGQAAABkAAAAyAAAAHwAAABkAAAAZAAAAJAAAAB8AAAAZAAAAGQAAACsA\n",
       "AAAfAAAAGQAAABsAAAAwAAAAHwAAABkAAAAaAAAAMQAAAB8AAAAZAAAAGgAAACkAAAAgAAAAGgAA\n",
       "ABoAAAAwAAAAIAAAABoAAAAaAAAALwAAACAAAAAZAAAAGwAAADIAAAAgAAAAGQAAABkAAAAzAAAA\n",
       "IAAAABoAAAAaAAAALgAAAB8AAAAaAAAAGgAAADIAAAAfAAAAGgAAABoAAAAyAAAAIAAAABoAAAAa\n",
       "AAAALQAAAB8AAAAaAAAAGgAAADQAAAAfAAAAGQAAABkAAAAlAAAAIAAAABkAAAAZAAAAKQAAACAA\n",
       "AAAZAAAAGQAAACwAAAAgAAAAGgAAABkAAAAsAAAAIAAAABkAAAAZAAAALAAAACAAAAAZAAAAGQAA\n",
       "ACwAAAAgAAAAGQAAABkAAAAsAAAAHwAAABkAAAAZAAAAJQAAACAAAAAZAAAAGQAAAC8AAAAgAAAA\n",
       "GQAAABkAAAAoAAAAIAAAABkAAAAaAAAAMwAAACAAAAAbAAAAGQAAAC4AAAAfAAAAGQAAABkAAAAu\n",
       "AAAAHwAAABkAAAAZAAAAKwAAAB8AAAAZAAAAGQAAACkAAAAfAAAAGQAAABkAAAAuAAAAHwAAABkA\n",
       "AAAZAAAAKgAAAB8AAAAZAAAAGQAAACwAAAAfAAAAGQAAABkAAAAqAAAAHwAAABkAAAAZAAAAIgAA\n",
       "AB8AAAAZAAAAGQAAADEAAAAfAAAAGQAAABkAAAArAAAAHwAAABkAAAAZAAAALwAAAB8AAAAZAAAA\n",
       "GQAAACIAAAAfAAAAGQAAABkAAAAsAAAAHwAAABkAAAAZAAAAIgAAAB8AAAAZAAAAGQAAADIAAAAf\n",
       "AAAAGQAAABkAAAArAAAAHwAAABkAAAAZAAAALQAAAB8AAAAZAAAAGQAAACIAAAAfAAAAGQAAABkA\n",
       "AAAwAAAAHwAAABkAAAAZAAAAKQAAAB8AAAAZAAAAGQAAACwAAAAfAAAAGQAAABkAAAAiAAAAHwAA\n",
       "ABkAAAAZAAAALwAAAB8AAAAZAAAAGQAAACIAAAAfAAAAGQAAABkAAAAiAAAAHwAAABkAAAAZAAAA\n",
       "LAAAAB8AAAAZAAAAGQAAACkAAAAfAAAAGQAAABkAAAArAAAAHwAAABkAAAAZAAAAIAAAES8AAABZ\n",
       "AAAAMQAAACsAAAAcAAAAKAAAACMAAAAcAAAAGQAAACsAAAAhAAAAGQAAABkAAAAiAAAAIQAAABkA\n",
       "AAAZAAAAKwAAACEAAAAZAAAAGQAAACIAAAAhAAAAGQAAABkAAAAvAAAAIwAAABkAAAAZAAAAIgAA\n",
       "ACEAAAAZAAAAGQAAAC0AAAAhAAAAGQAAABkAAAAiAAAAIQAAABkAAAAZAAAAKwAAACEAAAAZAAAA\n",
       "GQAAACIAAAAhAAAAGQAAABkAAAAwAAAAIwAAABkAAAAZAAAAIgAAACEAAAAZAAAAGQAAADIAAAAj\n",
       "AAAAGQAAABkAAAApAAAAIQAAABkAAAAZAAAAKwAAACEAAAAZAAAAGQAAACIAAAAhAAAAGQAAABkA\n",
       "AAArAAAAIwAAABkAAAAZAAAAMAAAACEAAAAZAAAAGQAAADAAAAAhAAAAGQAAABkAAAAtAAAAIQAA\n",
       "ABkAAAAZAAAAIgAAACEAAAAZAAAAGQAAADMAAAAjAAAAGQAAABkAAAAtAAAAIQAAABkAAAAZAAAA\n",
       "LwAAACEAAAAZAAAAGQAAAC8AAAAjAAAAGQAAABkAAAAuAAAAIQAAABkAAAAZAAAALQAAACEAAAAZ\n",
       "AAAAGQAAAC0AAAAhAAAAGQAAABkAAAAqAAAAIQAAABkAAAAZAAAALgAAACEAAAAZAAAAGQAAACoA\n",
       "AAAhAAAAGQAAABkAAAAlAAAAIQAAABkAAAAZAAAAMgAAACEAAAAZAAAAGQAAACoAAAAhAAAAGQAA\n",
       "ABkAAAAtAAAAIQAAABkAAAAZAAAALAAAACEAAAAZAAAAGQAAACUAAAAhAAAAGQAAABkAAAAxAAAA\n",
       "IQAAABkAAAAZAAAALQAAACEAAAAZAAAAGQAAACUAAAAhAAAAGQAAABkAAAAtAAAAIwAAABkAAAAZ\n",
       "AAAALwAAACEAAAAZAAAAGQAAACsAAAAhAAAAGQAAABkAAAArAAAAIQAAABkAAAAZAAAALQAAACEA\n",
       "AAAZAAAAGQAAACwAAAAhAAAAGQAAABkAAAAuAAAAIQAAABkAAAAZAAAAJAAAACEAAAAZAAAAGQAA\n",
       "AC4AAAAhAAAAGQAAABkAAAAmAAAAIQAAABkAAAAZAAAALwAAACEAAAAZAAAAGQAAACQAAAAhAAAA\n",
       "GQAAABkAAAAvAAAAIQAAABkAAAAZAAAALgAAACEAAAAZAAAAGQAAACIAAAAhAAAAGQAAABkAAAAv\n",
       "AAAAIQAAABkAAAAZAAAAJQAAACEAAAAZAAAAGQAAAC4AAAAhAAAAGQAAABkAAAAuAAAAIQAAABkA\n",
       "AAAZAAAAKgAAACEAAAAZAAAAGQAAACAAABE0AAAAXAAAADIAAAArAAAAHAAAACkAAAAiAAAAGgAA\n",
       "ABkAAAAtAAAAHwAAABkAAAAZAAAAJgAAAB8AAAAZAAAAGQAAACUAAAAfAAAAGQAAABkAAAAlAAAA\n",
       "HwAAABkAAAAZAAAALQAAAB8AAAAZAAAAGQAAACQAAAAfAAAAGQAAABkAAAAwAAAAHwAAABkAAAAZ\n",
       "AAAAKQAAAB8AAAAZAAAAGQAAADQAAAAfAAAAGQAAABkAAAArAAAAIgAAABkAAAAZAAAALAAAAB8A\n",
       "AAAZAAAAGQAAACQAAAAfAAAAGQAAABkAAAAsAAAAIQAAABkAAAAZAAAAKwAAAB8AAAAZAAAAGQAA\n",
       "AC0AAAAhAAAAGQAAABkAAAAkAAAAHwAAABkAAAAZAAAALgAAACEAAAAZAAAAGQAAACwAAAAfAAAA\n",
       "GQAAABkAAAAlAAAAHwAAABkAAAAZAAAAJAAAAB8AAAAZAAAAGQAAACwAAAAfAAAAGQAAABkAAAAp\n",
       "AAAAHwAAABkAAAAZAAAAKgAAAB8AAAAZAAAAGQAAACIAAAAfAAAAGQAAABkAAAAuAAAAHwAAABkA\n",
       "AAAZAAAAJQAAAB8AAAAZAAAAGQAAACQAAAAfAAAAGQAAABkAAAAiAAAAHwAAABkAAAAZAAAAKgAA\n",
       "ACEAAAAZAAAAGQAAACoAAAAhAAAAGQAAABkAAAApAAAAHwAAABkAAAAZAAAAKwAAAB8AAAAZAAAA\n",
       "GQAAACwAAAAhAAAAGgAAABkAAAApAAAAHwAAABkAAAAZAAAAKwAAACEAAAAZAAAAGQAAACUAAAAf\n",
       "AAAAGQAAABkAAAApAAAAHwAAABkAAAAZAAAALgAAAB8AAAAZAAAAGQAAACsAAAAfAAAAGQAAABkA\n",
       "AAAlAAAAHwAAABkAAAAZAAAAIgAAAB8AAAAZAAAAGQAAACoAAAAhAAAAGQAAABkAAAAiAAAAHwAA\n",
       "ABkAAAAZAAAAIgAAAB8AAAAZAAAAGQAAACAAAAAfAAAAGQAAABkAAAAUc3RjbwAAAAAAAAABAAAA\n",
       "LAAAAGJ1ZHRhAAAAWm1ldGEAAAAAAAAAIWhkbHIAAAAAAAAAAG1kaXJhcHBsAAAAAAAAAAAAAAAA\n",
       "LWlsc3QAAAAlqXRvbwAAAB1kYXRhAAAAAQAAAABMYXZmNTcuNTYuMTAx\n",
       "\">\n",
       "  Your browser does not support the video tag.\n",
       "</video>"
      ],
      "text/plain": [
       "<IPython.core.display.HTML object>"
      ]
     },
     "execution_count": 61,
     "metadata": {},
     "output_type": "execute_result"
    }
   ],
   "source": [
    "HTML(anim_ast.to_html5_video())"
   ]
  },
  {
   "cell_type": "markdown",
   "metadata": {},
   "source": [
    "Remarque: L'astéroïde ne revient pas à sa position initiale. Ceci est dû au même problème que celui énoncé précédemment: le potentiel varie trop à l'origine et les $dt$ de l'ordre de l'unité ne suffisent pas pour reproduire la trajectoire théorique. "
   ]
  },
  {
   "cell_type": "markdown",
   "metadata": {},
   "source": [
    "## Investigations supplémentaires"
   ]
  },
  {
   "cell_type": "markdown",
   "metadata": {},
   "source": [
    "### Etude du passage de l'astéroïde près de la Terre"
   ]
  },
  {
   "cell_type": "markdown",
   "metadata": {},
   "source": [
    "Le passage de l'astéroïde près de la Terre est assez délicat et peu être drastiquement différent pour peu que le pas de temps $dt$ ne soit pas assez grand. Pour des $dt$ un peu plus grand, nous observons que l'astéroïde quitte brusquement l'influence gravitationnelle de la Terre alors qu'il est beaucoup plus près de celle-ci que l'est la Lune et que la norme de sa vitesse est icomparable à celle de la Lune. Nous voyons dans la section suivante que l'astéroïde passe très près de la Terre et qu'en réalité, nous devrions avoir un impact entre l'astéroïde et la Terre. Nous suspectons que le passage près de $r=0$ fait que la valeur de l'attraction gravitationnelle, en $1/r$, \"explose\" au passage près de l'origine. Une incrémentation de temps plus tard, l'algorithme calcule une position pour l'astéroïde assez éloignée de l'origine et une vitesse trop grande de sorte que l'astéroïde ait assez d'énergie pour quitter l'influence de la Terre."
   ]
  },
  {
   "cell_type": "markdown",
   "metadata": {},
   "source": [
    "Calculons la trajectoire de l'astéroïde avec $dt=10$ secondes. Prendre un pas de temps plus grand accentuera le phénomène qui sera visible dès la première révolution."
   ]
  },
  {
   "cell_type": "code",
   "execution_count": 47,
   "metadata": {
    "collapsed": true
   },
   "outputs": [],
   "source": [
    "T = 3600*2\n",
    "dt = 10\n",
    "N = 1+int(T/dt)\n",
    "\n",
    "dataLT = numpy.empty((N,4)) \n",
    "dataAT = numpy.empty((N,4)) \n",
    "\n",
    "dataLT[0] = uLT_apogee\n",
    "dataAT[0] = uAT0"
   ]
  },
  {
   "cell_type": "code",
   "execution_count": 48,
   "metadata": {
    "collapsed": true
   },
   "outputs": [],
   "source": [
    "for t in range(1,N):\n",
    "    \n",
    "    temp = rk4_ast(f_ast,dataLT[t-1],dataAT[t-1],dt)\n",
    "    dataLT[t] = temp[0]\n",
    "    dataAT[t] = temp[1]"
   ]
  },
  {
   "cell_type": "code",
   "execution_count": 49,
   "metadata": {},
   "outputs": [
    {
     "data": {
      "image/png": "[encoded data removed]",
      "text/plain": [
       "<matplotlib.figure.Figure at 0x1859fd2ac18>"
      ]
     },
     "metadata": {},
     "output_type": "display_data"
    }
   ],
   "source": [
    "pyplot.figure(figsize=(10,10))\n",
    "pyplot.grid(True)\n",
    "pyplot.xlabel('$x$')\n",
    "pyplot.ylabel('$y$')\n",
    "#pyplot.plot(dataLT[:,0],dataLT[:,1], 'b-', label='Lune')\n",
    "pyplot.plot(dataAT[:,0],dataAT[:,1], 'r-', label='Astéroïde')\n",
    "pyplot.title('Positions de la Lune et de l\\'astéroïde dans le repère de la Terre')\n",
    "pyplot.legend();\n",
    "pyplot.show();"
   ]
  },
  {
   "cell_type": "markdown",
   "metadata": {},
   "source": [
    "Nous commençons par chercher le point de passage le plus proche de la Terre. "
   ]
  },
  {
   "cell_type": "code",
   "execution_count": 50,
   "metadata": {},
   "outputs": [
    {
     "name": "stdout",
     "output_type": "stream",
     "text": [
      "Moment de passage au plus près de la Terre = 4920 secondes\n"
     ]
    }
   ],
   "source": [
    "indexClosest = 0\n",
    "\n",
    "distMin2 = numpy.min(dataAT[:,0]**2+dataAT[:,1]**2)\n",
    "\n",
    "for t in range(1,N):\n",
    "    \n",
    "    if (dataAT[t,0]**2+dataAT[t,1]**2)==distMin2:\n",
    "        \n",
    "        indexClosest = t\n",
    "        break\n",
    "        \n",
    "print('Moment de passage au plus près de la Terre =', indexClosest*dt, 'secondes')"
   ]
  },
  {
   "cell_type": "markdown",
   "metadata": {},
   "source": [
    "Nous voyons en affichant le vecteur $u_{AT}$ que les caractéristiques de l'astéroïde fluctuent beaucoup à l'approche de la Terre. Un effet de ces changements trop important est que l'astéroïde est éloigné rapidement de la Terre avec une énergie beaucoup trop grande. Il quitte donc l'influence terrestre."
   ]
  },
  {
   "cell_type": "code",
   "execution_count": 51,
   "metadata": {},
   "outputs": [
    {
     "name": "stdout",
     "output_type": "stream",
     "text": [
      "uAT avant = [ -99880.80906128  359691.51033905   36885.9161599   -27442.12818594]\n",
      "uAT à cet instant = [ 131830.02582367 -230625.96466297    3959.14439319  -78886.77929905]\n",
      "uAT après = [ 116812.84870338 -896857.73861875   -2401.96724569  -61857.64114649]\n"
     ]
    }
   ],
   "source": [
    "t = indexClosest\n",
    "\n",
    "print('uAT avant =', dataAT[t-1,:])\n",
    "print('uAT à cet instant =', dataAT[t,:])\n",
    "print('uAT après =', dataAT[t+1,:])"
   ]
  },
  {
   "cell_type": "code",
   "execution_count": 52,
   "metadata": {},
   "outputs": [
    {
     "name": "stdout",
     "output_type": "stream",
     "text": [
      "distance à la Terre avant =  0.0586030924967 rayons terrestres\n",
      "distance à la Terre à cet instant =  0.041702578334 rayons terrestres\n",
      "distance à la Terre après =  0.141983201944 rayons terrestres\n"
     ]
    }
   ],
   "source": [
    "print('distance à la Terre avant = ', numpy.sqrt(dataAT[t-1,0]**2+dataAT[t-1,1]**2)/radiusT, 'rayons terrestres')\n",
    "print('distance à la Terre à cet instant = ', numpy.sqrt(dataAT[t,0]**2+dataAT[t,1]**2)/radiusT, 'rayons terrestres')\n",
    "print('distance à la Terre après = ', numpy.sqrt(dataAT[t+1,0]**2+dataAT[t+1,1]**2)/radiusT, 'rayons terrestres')"
   ]
  },
  {
   "cell_type": "markdown",
   "metadata": {},
   "source": [
    "Nous voyons ici les fluctuations anormales de l'énergie causées par le passage près de la Terre"
   ]
  },
  {
   "cell_type": "code",
   "execution_count": 53,
   "metadata": {},
   "outputs": [
    {
     "name": "stdout",
     "output_type": "stream",
     "text": [
      "Energie totale initiale = -18685720.8783  Joules par kg\n",
      "Energie totale avant = 0.583141861632  fois l'energie totale initiale\n",
      "Energie totale à cet instant = -86.6426840893  fois l'energie totale initiale\n",
      "Energie totale après = -78.9568069774  fois l'energie totale initiale\n"
     ]
    }
   ],
   "source": [
    "Energy0 = 1/2*(uAT0[2]**2+uAT0[3]**2) - G*mT/numpy.sqrt(uAT0[0]**2+uAT0[1]**2)\\\n",
    "            - G*mL/numpy.sqrt((uAT0[0]-uLT_apogee[0])**2+(uAT0[1]-uLT_apogee[1])**2)\n",
    "EnergytBefore = 1/2*(dataAT[t-1,2]**2+dataAT[t-1,3]**2) - G*mT/numpy.sqrt(dataAT[t-1,0]**2+dataAT[t-1,1]**2)\\\n",
    "            - G*mL/numpy.sqrt((dataAT[t-1,0]-dataLT[t-1,0])**2+(dataAT[t-1,1]-dataLT[t-1,1])**2)\n",
    "Energyt = 1/2*(dataAT[t,2]**2+dataAT[t,3]**2) - G*mT/numpy.sqrt(dataAT[t,0]**2+dataAT[t,1]**2)\\\n",
    "            - G*mL/numpy.sqrt((dataAT[t,0]-dataLT[t,0])**2+(dataAT[t,1]-dataLT[t,1])**2)\n",
    "EnergytAfter = 1/2*(dataAT[t+1,2]**2+dataAT[t+1,3]**2) - G*mT/numpy.sqrt(dataAT[t+1,0]**2+dataAT[t+1,1]**2)\\\n",
    "            - G*mL/numpy.sqrt((dataAT[t+1,0]-dataLT[t+1,0])**2+(dataAT[t+1,1]-dataLT[t+1,1])**2)\n",
    "\n",
    "\n",
    "print('Energie totale initiale =', Energy0, ' Joules par kg')\n",
    "\n",
    "print('Energie totale avant =', EnergytBefore/Energy0, ' fois l\\'energie totale initiale')\n",
    "print('Energie totale à cet instant =', Energyt/Energy0, ' fois l\\'energie totale initiale')\n",
    "print('Energie totale après =', EnergytAfter/Energy0, ' fois l\\'energie totale initiale')"
   ]
  },
  {
   "cell_type": "markdown",
   "metadata": {},
   "source": [
    "Nous voyons dans cette section que près de l'origine, le potentiel en $1/r$ varie beaucoup trop pour que des pas de temps raisonablement petits ($dt > \\sim 1$) puisse reproduire la trajectoire avec précision. "
   ]
  },
  {
   "cell_type": "markdown",
   "metadata": {},
   "source": [
    "Remarque: Il serait intéressant de développer un algorithme qui détecte l'intensité de la dérivée du potentiel à adapte localement le pas de temps $dt$ afin de toujours avoir un $dt$ suffisament petit pour reproduire la trajectoire."
   ]
  },
  {
   "cell_type": "markdown",
   "metadata": {},
   "source": [
    "## Trajectoire pour un astéroïde plus rapide "
   ]
  },
  {
   "cell_type": "markdown",
   "metadata": {},
   "source": [
    "Le problème étant que la vitesse initiale de l'astéroïde est trop faible pour que celui-ci puisse maintenir une bonne distance avec l'origine, observons la trajectoire d'un astéroïde dont la vitesse initiale est plus grande."
   ]
  },
  {
   "cell_type": "code",
   "execution_count": 54,
   "metadata": {
    "collapsed": true
   },
   "outputs": [],
   "source": [
    "T = 3600*24*27.2*5\n",
    "dt = 10\n",
    "N = 1+int(T/dt)\n",
    "\n",
    "dataLT = numpy.empty((N,4)) \n",
    "dataAT = numpy.empty((N,4)) \n",
    "\n",
    "uAT0 = [Xcenter, Ycenter,4000,4000]\n",
    "\n",
    "dataLT[0] = uLT_apogee\n",
    "dataAT[0] = uAT0"
   ]
  },
  {
   "cell_type": "code",
   "execution_count": 55,
   "metadata": {
    "collapsed": true
   },
   "outputs": [],
   "source": [
    "for t in range(1,N):\n",
    "    \n",
    "    temp = rk4_ast(f_ast,dataLT[t-1],dataAT[t-1],dt)\n",
    "    dataLT[t] = temp[0]\n",
    "    dataAT[t] = temp[1]"
   ]
  },
  {
   "cell_type": "code",
   "execution_count": 56,
   "metadata": {},
   "outputs": [
    {
     "data": {
      "image/png": "[encoded data removed]",
      "text/plain": [
       "<matplotlib.figure.Figure at 0x1859f8fab00>"
      ]
     },
     "metadata": {},
     "output_type": "display_data"
    }
   ],
   "source": [
    "pyplot.figure(figsize=(10,10))\n",
    "pyplot.grid(True)\n",
    "pyplot.xlabel('$x$')\n",
    "pyplot.ylabel('$y$')\n",
    "pyplot.plot(dataLT[:,0],dataLT[:,1], 'b-', label='Lune')\n",
    "pyplot.plot(dataAT[:,0],dataAT[:,1], 'r-', label='Astéroïde')\n",
    "pyplot.title('Positions de la Lune et de l\\'astéroïde dans le repère de la Terre')\n",
    "pyplot.legend();\n",
    "pyplot.show();"
   ]
  },
  {
   "cell_type": "markdown",
   "metadata": {},
   "source": [
    "Nous voyons que la trajectoire, qui ne passe pas aussi près de l'origine, n'est pas soudainement déviée. Nous remarquons également que les traits rouges de la trajectoire de l'astéroïde semblent être assez épais. Nous suspectons que cela n'est pas dû à une imprécision numérique mais qu'il s'agisse d'un véritable effet physique causé par l'attraction de la Lune. Nous allons le montrer en analysant les points de passage de l'astéroïde sur l'axe des $x$."
   ]
  },
  {
   "cell_type": "markdown",
   "metadata": {},
   "source": [
    "Détectons le nombre de passages sur l'axe des $x$ en direction des $y$ positifs. Cela nous évitera de faire de l'allocation dynamique."
   ]
  },
  {
   "cell_type": "code",
   "execution_count": 57,
   "metadata": {
    "collapsed": true
   },
   "outputs": [],
   "source": [
    "number_crossings = 0\n",
    "\n",
    "for t in range(1,N):\n",
    "    \n",
    "    if dataAT[t,1]>=0 and dataAT[t-1,1]<0:\n",
    "        \n",
    "        number_crossings = number_crossings+1"
   ]
  },
  {
   "cell_type": "markdown",
   "metadata": {},
   "source": [
    "Calculons les points de passage"
   ]
  },
  {
   "cell_type": "code",
   "execution_count": 58,
   "metadata": {
    "collapsed": true
   },
   "outputs": [],
   "source": [
    "t_crossings = numpy.zeros((number_crossings))\n",
    "count = 0\n",
    "\n",
    "for t in range(1,N):\n",
    "    \n",
    "    if dataAT[t,1]>=0 and dataAT[t-1,1]<0:\n",
    "        \n",
    "        t_crossings[count] = t\n",
    "        count = count+1\n",
    "\n",
    "x_crossings = numpy.zeros((number_crossings))\n",
    "deltas_x = numpy.zeros((number_crossings-1))\n",
    "\n",
    "for i in range(len(t_crossings)):\n",
    "    \n",
    "    x_crossings[i] = dataAT[int(t_crossings[i]),0]\n",
    "    if i>0:\n",
    "        deltas_x[i-1] = x_crossings[i] - x_crossings[i-1]"
   ]
  },
  {
   "cell_type": "markdown",
   "metadata": {},
   "source": [
    "Affichons les coordonnées $x$ de passage en fonction du temps dans un graphique"
   ]
  },
  {
   "cell_type": "code",
   "execution_count": 59,
   "metadata": {},
   "outputs": [
    {
     "data": {
      "image/png": "[encoded data removed]",
      "text/plain": [
       "<matplotlib.figure.Figure at 0x1859fbef1d0>"
      ]
     },
     "metadata": {},
     "output_type": "display_data"
    }
   ],
   "source": [
    "pyplot.figure(figsize=(10,6))\n",
    "pyplot.grid(True)\n",
    "pyplot.xlabel('$t$')\n",
    "pyplot.ylabel('$x$')\n",
    "pyplot.plot(t_crossings*dt,x_crossings, 'b-', marker='.')\n",
    "pyplot.title('Coordonnées de passages sur l\\'axe $x$ en fonction du temps')\n",
    "pyplot.show();"
   ]
  },
  {
   "cell_type": "markdown",
   "metadata": {},
   "source": [
    "Nous voyons que la Lune fait périodiquement dévier la trajectoire de l'astéroïde. L'oscillation est plus lisse pour de plus petits $dt$. De plus, en prenant des $dt$ plus fin (remplacer $dt = 10$), nous observons que la position moyenne de passage dérive. Nous avons réalisé le calcul sur deux ans et ce taux de dérive semble être fixe avec une valeur de $-0.020$ m/s. Nous ne savons pas encore à quoi cela peut être dû, cela pourrait être causé par des erreurs numériques mais le taux semble rester fixe quel que soit le $dt$ utilisé."
   ]
  },
  {
   "cell_type": "markdown",
   "metadata": {},
   "source": [
    "### Temps d'excécution total du notebook"
   ]
  },
  {
   "cell_type": "code",
   "execution_count": 60,
   "metadata": {},
   "outputs": [
    {
     "name": "stdout",
     "output_type": "stream",
     "text": [
      "Temps d'exécution total du notebook en secondes = 334.6403133869171\n",
      "Temps d'exécution total du notebook en minutes = 5.577338556448619\n"
     ]
    }
   ],
   "source": [
    "t1 = time.time()\n",
    "\n",
    "print('Temps d\\'exécution total du notebook en secondes =', t1-t0)\n",
    "print('Temps d\\'exécution total du notebook en minutes =', (t1-t0)/60)"
   ]
  }
 ],
 "metadata": {
  "kernelspec": {
   "display_name": "Python 3",
   "language": "python",
   "name": "python3"
  },
  "language_info": {
   "codemirror_mode": {
    "name": "ipython",
    "version": 3
   },
   "file_extension": ".py",
   "mimetype": "text/x-python",
   "name": "python",
   "nbconvert_exporter": "python",
   "pygments_lexer": "ipython3",
   "version": "3.6.2"
  }
 },
 "nbformat": 4,
 "nbformat_minor": 2
}
